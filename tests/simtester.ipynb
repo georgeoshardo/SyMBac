{
 "cells": [
  {
   "cell_type": "code",
   "execution_count": null,
   "id": "c6f8c2f1-9570-4142-9aca-19b30f7cb5ef",
   "metadata": {
    "scrolled": true
   },
   "outputs": [
    {
     "name": "stderr",
     "output_type": "stream",
     "text": [
      "/home/gh464/Documents/GitHub/SyMBac/SyMBac/simulation.py:148: UserWarning: You are using show_window = True. If you re-run the simulation (even by re-creating the Simulation object), then for reasons which I do not understand, the state of the simulation is not reset. Restart your notebook or interpreter to re-run simulations.\n",
      "  warnings.warn(\"You are using show_window = True. If you re-run the simulation (even by re-creating the Simulation object), then for reasons which I do not understand, the state of the simulation is not reset. Restart your notebook or interpreter to re-run simulations.\")\n",
      "/home/gh464/Documents/GitHub/SyMBac/SyMBac/trench_geometry.py:16: RuntimeWarning: divide by zero encountered in double_scalars\n",
      "  return -x/np.sqrt(r**2-x**2)\n"
     ]
    }
   ],
   "source": [
    "%load_ext autoreload\n",
    "%autoreload 2\n",
    "\n",
    "import os\n",
    "os.environ['DISPLAY'] = ':1'\n",
    "os.environ['NAPARI_ASYNC'] = '1'\n",
    "\n",
    "\n",
    "from SyMBac.simulation import Simulation\n",
    "from SyMBac.PSF import PSF_generator\n",
    "from SyMBac.renderer import Renderer\n",
    "from SyMBac.PSF import Camera\n",
    "from SyMBac.misc import get_sample_images\n",
    "real_image = get_sample_images()[\"E. coli 100x\"]\n",
    "from joblib import Parallel, delayed\n",
    "\n",
    "\n",
    "my_simulation = Simulation(\n",
    "    trench_length=15,\n",
    "    trench_width=3.15,\n",
    "    cell_max_length=6.65, #6, long cells # 1.65 short cells\n",
    "    cell_width= 1, #1 long cells # 0.95 short cells\n",
    "    sim_length = 200,\n",
    "    pix_mic_conv = 0.065,\n",
    "    gravity=0,\n",
    "    phys_iters=15,\n",
    "    max_length_var = 0.,\n",
    "    width_var = 0.,\n",
    "    lysis_p = 0.00,\n",
    "    save_dir=\"/tmp/test/\",\n",
    "    resize_amount = 3,\n",
    ")\n",
    "\n",
    "my_simulation.run_simulation(show_window = True)"
   ]
  },
  {
   "cell_type": "code",
   "execution_count": null,
   "id": "bf0a6fdd-1ba1-4e3a-b9bc-065490cd7897",
   "metadata": {},
   "outputs": [],
   "source": [
    "my_simulation.main_segments"
   ]
  },
  {
   "cell_type": "code",
   "execution_count": null,
   "id": "99ef827d-ba3e-4fdf-bed2-53ed815ae4a1",
   "metadata": {},
   "outputs": [],
   "source": [
    "import matplotlib.pyplot as plt\n",
    "import numpy as np"
   ]
  },
  {
   "cell_type": "code",
   "execution_count": null,
   "id": "b177c502-1c77-47df-beef-592e542c5077",
   "metadata": {},
   "outputs": [],
   "source": [
    "size = 40\n",
    "size = int(np.ceil(size/1.5))\n",
    "segments = []\n",
    "for x in range(size):\n",
    "    x1 = x\n",
    "    y1 = 0\n",
    "    x2 = 0\n",
    "    y2 = size-x\n",
    "    plt.plot((x1,x2),(y1,y2))\n",
    "\n",
    "for x in range(size):\n",
    "    x1 = size-x\n",
    "    y2 = 0\n",
    "    x2 = size\n",
    "    y2 = size-x\n",
    "    plt.plot((x1,x2),(y1,y2))\n"
   ]
  },
  {
   "cell_type": "code",
   "execution_count": null,
   "id": "f641c2ac-97e7-4b96-9aae-04b3d1b81f68",
   "metadata": {},
   "outputs": [],
   "source": [
    "def semi_circle(r,x):\n",
    "    return np.sqrt(r**2-x**2)\n",
    "\n",
    "def semi_circle_grad(r,x):\n",
    "    return -x/np.sqrt(r**2-x**2)\n",
    "\n",
    "def y_int(r,x):\n",
    "    return semi_circle_grad(r,x) * (-x) + semi_circle(r,x)\n",
    "\n",
    "def x_int(r, x):\n",
    "    return -semi_circle(r,x)/semi_circle_grad(r,x) + x\n",
    "\n",
    "def dx(r,x, distance):\n",
    "    return distance * np.cos(np.arctan(semi_circle_grad(r,x)))\n",
    "    \n",
    "def dy(r,x, distance):\n",
    "    return distance * np.sin(np.arctan(semi_circle_grad(r,x)))\n",
    "r = 27\n",
    "xs = np.linspace(-r,r,50)\n",
    "ys = -semi_circle(r, xs)\n",
    "#x_ints = x_int(r, xs)\n",
    "#y_ints = y_int(r, xs)"
   ]
  },
  {
   "cell_type": "code",
   "execution_count": null,
   "id": "64b46533-0fdd-48c5-a789-c3add678c675",
   "metadata": {},
   "outputs": [],
   "source": [
    "size"
   ]
  },
  {
   "cell_type": "code",
   "execution_count": null,
   "id": "7943aad3-72b8-4b3c-b839-da1388435694",
   "metadata": {},
   "outputs": [],
   "source": [
    "plt.figure(figsize=(4,4))\n",
    "for x, y in zip(xs, ys):\n",
    "    x1 = x + dx(r,x,1) + r\n",
    "    y1 = y - dy(r,x,1)\n",
    "    x2 = x - dx(r,x,1) + r\n",
    "    y2 = y + dy(r,x,1)\n",
    "\n",
    "    plt.plot([x1,x2],[y1,y2])\n",
    "\n",
    "plt.xlim(0,2*r)\n"
   ]
  },
  {
   "cell_type": "code",
   "execution_count": null,
   "id": "1086cfbf-a123-4507-bf0a-f3075540df76",
   "metadata": {},
   "outputs": [],
   "source": [
    "plt.figure(figsize=(5,5))\n",
    "for x, y in zip(x_ints, y_ints):\n",
    "    plt.plot((x,0),(0,y))\n",
    "plt.xlim(-10,10)\n",
    "plt.ylim(0,20)"
   ]
  },
  {
   "cell_type": "code",
   "execution_count": null,
   "id": "823a6a85-764a-4984-8838-7c416d822ada",
   "metadata": {},
   "outputs": [],
   "source": [
    "semi_circle(r,-2.4)"
   ]
  },
  {
   "cell_type": "code",
   "execution_count": null,
   "id": "49a5e727-071e-4fee-ac2f-6c99b4ffc120",
   "metadata": {},
   "outputs": [],
   "source": [
    "segment_creator((x1,y1),(x2,y2))"
   ]
  },
  {
   "cell_type": "code",
   "execution_count": null,
   "id": "0e45953d-c7eb-42a4-92e2-b80bb0b9d38c",
   "metadata": {},
   "outputs": [],
   "source": [
    "plt.plot([x1,x2],[y1,y2])"
   ]
  },
  {
   "cell_type": "code",
   "execution_count": null,
   "id": "3d682a82-1b76-4387-9872-0484e62fe433",
   "metadata": {},
   "outputs": [],
   "source": [
    "plt.plot([1,9],[5,10])"
   ]
  },
  {
   "cell_type": "code",
   "execution_count": null,
   "id": "2f12dcbc-2b8d-4500-bc59-afefb11b9a26",
   "metadata": {},
   "outputs": [],
   "source": [
    "plt.plot([1,5],[9,10])"
   ]
  },
  {
   "cell_type": "code",
   "execution_count": null,
   "id": "a96c8d8f-9b8d-4d15-9c62-10f97201ed6c",
   "metadata": {
    "scrolled": true
   },
   "outputs": [],
   "source": [
    "a_cell = my_simulation.cell_timeseries"
   ]
  },
  {
   "cell_type": "code",
   "execution_count": null,
   "id": "381d63b7-5950-4549-acc1-ab271bd4a3ec",
   "metadata": {},
   "outputs": [],
   "source": [
    "from SyMBac.drawing import draw_scene, get_space_size, gen_cell_props_for_draw, generate_curve_props, draw_simulation_OPL, visualise_OPL_in_napari\n",
    "from joblib import Parallel, delayed\n",
    "from tqdm.auto import tqdm\n",
    "\n",
    "from SyMBac.trench_geometry import trench_creator, get_trench_segments"
   ]
  },
  {
   "cell_type": "code",
   "execution_count": null,
   "id": "c5bbc1d2-8678-4a7c-ab78-72668b14b40f",
   "metadata": {},
   "outputs": [],
   "source": [
    "OPL_scenes, masks = draw_simulation_OPL(simulation=my_simulation)"
   ]
  },
  {
   "cell_type": "code",
   "execution_count": null,
   "id": "d885ccce-82e3-40c5-8573-15df2e9133dc",
   "metadata": {},
   "outputs": [],
   "source": [
    "visualise_OPL_in_napari(OPL_scenes, masks)"
   ]
  },
  {
   "cell_type": "code",
   "execution_count": null,
   "id": "cd6a0fd9-7a1c-4ef4-8084-b21d968eed37",
   "metadata": {},
   "outputs": [],
   "source": []
  }
 ],
 "metadata": {
  "kernelspec": {
   "display_name": "Python [conda env:symbac]",
   "language": "python",
   "name": "conda-env-symbac-py"
  },
  "language_info": {
   "codemirror_mode": {
    "name": "ipython",
    "version": 3
   },
   "file_extension": ".py",
   "mimetype": "text/x-python",
   "name": "python",
   "nbconvert_exporter": "python",
   "pygments_lexer": "ipython3",
   "version": "3.10.9"
  }
 },
 "nbformat": 4,
 "nbformat_minor": 5
}
