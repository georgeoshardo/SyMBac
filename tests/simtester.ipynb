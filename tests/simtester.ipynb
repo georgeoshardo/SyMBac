{
 "cells": [
  {
   "cell_type": "code",
   "execution_count": 1,
   "id": "c6f8c2f1-9570-4142-9aca-19b30f7cb5ef",
   "metadata": {},
   "outputs": [
    {
     "name": "stderr",
     "output_type": "stream",
     "text": [
      "/home/gh464/Documents/GitHub/SyMBac/SyMBac/simulation.py:148: UserWarning: You are using show_window = True. If you re-run the simulation (even by re-creating the Simulation object), then for reasons which I do not understand, the state of the simulation is not reset. Restart your notebook or interpreter to re-run simulations.\n",
      "  warnings.warn(\"You are using show_window = True. If you re-run the simulation (even by re-creating the Simulation object), then for reasons which I do not understand, the state of the simulation is not reset. Restart your notebook or interpreter to re-run simulations.\")\n",
      "/home/gh464/Documents/GitHub/SyMBac/SyMBac/trench_geometry.py:16: RuntimeWarning: divide by zero encountered in double_scalars\n",
      "  return -x/np.sqrt(r**2-x**2)\n"
     ]
    },
    {
     "data": {
      "application/vnd.jupyter.widget-view+json": {
       "model_id": "7e8b667e87384fa38b0a75ac1f726be3",
       "version_major": 2,
       "version_minor": 0
      },
      "text/plain": [
       "  0%|          | 0/100 [00:00<?, ?it/s]"
      ]
     },
     "metadata": {},
     "output_type": "display_data"
    }
   ],
   "source": [
    "%load_ext autoreload\n",
    "%autoreload 2\n",
    "\n",
    "import os\n",
    "os.environ['DISPLAY'] = ':1'\n",
    "os.environ['NAPARI_ASYNC'] = '1'\n",
    "\n",
    "\n",
    "from SyMBac.simulation import Simulation\n",
    "from SyMBac.PSF import PSF_generator\n",
    "from SyMBac.renderer import Renderer\n",
    "from SyMBac.PSF import Camera\n",
    "from SyMBac.misc import get_sample_images\n",
    "real_image = get_sample_images()[\"E. coli 100x\"]\n",
    "from joblib import Parallel, delayed\n",
    "\n",
    "\n",
    "my_simulation = Simulation(\n",
    "    trench_length=15,\n",
    "    trench_width=2.15,\n",
    "    cell_max_length=6.65, #6, long cells # 1.65 short cells\n",
    "    cell_width= 1, #1 long cells # 0.95 short cells\n",
    "    sim_length = 100,\n",
    "    pix_mic_conv = 0.065,\n",
    "    gravity=0,\n",
    "    phys_iters=15,\n",
    "    max_length_var = 0.,\n",
    "    width_var = 0.,\n",
    "    lysis_p = 0.00,\n",
    "    save_dir=\"/tmp/test/\",\n",
    "    resize_amount = 3,\n",
    ")\n",
    "\n",
    "my_simulation.run_simulation(show_window = True)"
   ]
  },
  {
   "cell_type": "code",
   "execution_count": 2,
   "id": "202b6084-91dd-4b49-a727-1ad68d43e8c7",
   "metadata": {},
   "outputs": [
    {
     "data": {
      "text/plain": [
       "98"
      ]
     },
     "execution_count": 2,
     "metadata": {},
     "output_type": "execute_result"
    }
   ],
   "source": [
    "len(my_simulation.cell_timeseries)"
   ]
  },
  {
   "cell_type": "code",
   "execution_count": null,
   "id": "a96c8d8f-9b8d-4d15-9c62-10f97201ed6c",
   "metadata": {
    "scrolled": true
   },
   "outputs": [],
   "source": [
    "a_cell = my_simulation.cell_timeseries"
   ]
  },
  {
   "cell_type": "code",
   "execution_count": null,
   "id": "381d63b7-5950-4549-acc1-ab271bd4a3ec",
   "metadata": {},
   "outputs": [],
   "source": [
    "from SyMBac.drawing import draw_scene, get_space_size, gen_cell_props_for_draw, generate_curve_props, draw_simulation_OPL, visualise_OPL_in_napari\n",
    "from joblib import Parallel, delayed\n",
    "from tqdm.auto import tqdm\n",
    "\n",
    "from SyMBac.trench_geometry import trench_creator, get_trench_segments"
   ]
  },
  {
   "cell_type": "code",
   "execution_count": null,
   "id": "c5bbc1d2-8678-4a7c-ab78-72668b14b40f",
   "metadata": {},
   "outputs": [],
   "source": [
    "OPL_scenes, masks = draw_simulation_OPL(simulation=my_simulation)"
   ]
  },
  {
   "cell_type": "code",
   "execution_count": null,
   "id": "d885ccce-82e3-40c5-8573-15df2e9133dc",
   "metadata": {},
   "outputs": [],
   "source": [
    "visualise_OPL_in_napari(OPL_scenes, masks)"
   ]
  },
  {
   "cell_type": "code",
   "execution_count": null,
   "id": "cd6a0fd9-7a1c-4ef4-8084-b21d968eed37",
   "metadata": {},
   "outputs": [],
   "source": [
    "\n",
    "import os\n",
    "os.environ['DISPLAY'] = ':1'\n",
    "os.environ['NAPARI_ASYNC'] = '1'\n",
    "import pymunk\n",
    "import pyglet\n"
   ]
  },
  {
   "cell_type": "code",
   "execution_count": null,
   "id": "73dc2794-ae3a-4bc5-bdf2-965010d8e26e",
   "metadata": {},
   "outputs": [],
   "source": [
    "\n",
    "import os\n",
    "os.environ['DISPLAY'] = ':1'\n",
    "os.environ['NAPARI_ASYNC'] = '1'\n",
    "import pymunk\n",
    "import pyglet\n",
    "\n",
    "\n",
    "import pyglet\n",
    "from pyglet.math import Mat4, Vec3\n",
    "\n",
    "# Create a window\n",
    "window = pyglet.window.Window(800, 600, \"My Pyglet Window\")\n",
    "\n",
    "# Define the text label\n",
    "label = pyglet.text.Label(\n",
    "    'Hello, Pyglet!',\n",
    "    font_name='Times New Roman',\n",
    "    font_size=36,\n",
    "    x=window.width // 2, y=window.height // 2,\n",
    "    anchor_x='center', anchor_y='center'\n",
    ")\n",
    "\n",
    "window.view = window.view.from_translation(pyglet.math.Vec3(-300, 0, 0))\n",
    "\n",
    "# Define the draw event for the window\n",
    "@window.event\n",
    "def on_draw():\n",
    "    window.clear()  # Clear the window\n",
    "    label.draw()    # Draw the text label\n",
    "\n",
    "# Apply the translation to move the camera 300 pixels to the left\n",
    "\n",
    "# Run the Pyglet application\n",
    "pyglet.app.run()\n"
   ]
  },
  {
   "cell_type": "code",
   "execution_count": null,
   "id": "ca930a49-078b-44d1-a5af-9c1986508217",
   "metadata": {},
   "outputs": [],
   "source": []
  }
 ],
 "metadata": {
  "kernelspec": {
   "display_name": "Python [conda env:symbac]",
   "language": "python",
   "name": "conda-env-symbac-py"
  },
  "language_info": {
   "codemirror_mode": {
    "name": "ipython",
    "version": 3
   },
   "file_extension": ".py",
   "mimetype": "text/x-python",
   "name": "python",
   "nbconvert_exporter": "python",
   "pygments_lexer": "ipython3",
   "version": "3.10.9"
  }
 },
 "nbformat": 4,
 "nbformat_minor": 5
}
