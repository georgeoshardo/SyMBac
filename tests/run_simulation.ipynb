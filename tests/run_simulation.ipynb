{
 "cells": [
  {
   "cell_type": "code",
   "execution_count": 1,
   "id": "5efcf01c-e552-4c71-a366-10a2a128d80b",
   "metadata": {},
   "outputs": [],
   "source": [
    "import ipytest\n",
    "import unittest\n",
    "import numpy as np\n",
    "from symbac.simulation import Simulation\n",
    "import math \n",
    "ipytest.autoconfig()"
   ]
  },
  {
   "cell_type": "code",
   "execution_count": null,
   "id": "df1b800b-bffe-4a14-a598-0f2de0ba55af",
   "metadata": {
    "scrolled": true
   },
   "outputs": [
    {
     "name": "stderr",
     "output_type": "stream",
     "text": [
      "/home/gh464/Documents/GitHub/SyMBac/src/symbac/simulation.py:168: UserWarning: You are using show_window = True. If you re-run the simulation (even by re-creating the Simulation object), then for reasons which I do not understand, the state of the simulation is not reset. Restart your notebook or interpreter to re-run simulations.\n",
      "  warnings.warn(\n",
      "/home/gh464/Documents/GitHub/SyMBac/src/symbac/trench_geometry.py:19: RuntimeWarning: divide by zero encountered in scalar divide\n",
      "  return -x / np.sqrt(r**2 - x**2)\n"
     ]
    },
    {
     "data": {
      "application/vnd.jupyter.widget-view+json": {
       "model_id": "e5b223d9a96f44d788ed6452f9b17ebb",
       "version_major": 2,
       "version_minor": 0
      },
      "text/plain": [
       "  0%|          | 0/1000 [00:00<?, ?it/s]"
      ]
     },
     "metadata": {},
     "output_type": "display_data"
    },
    {
     "name": "stdout",
     "output_type": "stream",
     "text": [
      "0\n",
      "1\n",
      "2\n",
      "3\n",
      "4\n",
      "5\n",
      "6\n",
      "7\n",
      "8\n",
      "9\n",
      "10\n",
      "11\n",
      "12\n",
      "13\n",
      "14\n",
      "15\n",
      "16\n",
      "17\n",
      "18\n",
      "19\n",
      "20\n",
      "21\n",
      "22\n",
      "23\n",
      "24\n",
      "25\n",
      "26\n",
      "27\n",
      "28\n",
      "29\n",
      "30\n",
      "31\n",
      "32\n",
      "33\n",
      "34\n",
      "35\n",
      "36\n",
      "37\n",
      "38\n",
      "39\n",
      "40\n",
      "41\n",
      "42\n",
      "43\n",
      "44\n",
      "45\n",
      "46\n",
      "47\n",
      "48\n",
      "49\n",
      "50\n",
      "51\n",
      "52\n",
      "53\n",
      "54\n",
      "55\n",
      "56\n",
      "57\n",
      "58\n",
      "59\n",
      "60\n",
      "61\n",
      "62\n",
      "63\n",
      "64\n",
      "65\n",
      "66\n",
      "67\n",
      "68\n",
      "69\n",
      "70\n",
      "71\n",
      "72\n",
      "73\n",
      "74\n",
      "75\n",
      "76\n",
      "77\n",
      "78\n",
      "79\n",
      "80\n",
      "81\n",
      "82\n",
      "83\n",
      "84\n",
      "85\n",
      "86\n",
      "87\n",
      "88\n",
      "89\n",
      "90\n",
      "91\n",
      "92\n",
      "93\n",
      "94\n",
      "95\n",
      "96\n",
      "97\n",
      "98\n",
      "99\n",
      "100\n",
      "101\n",
      "102\n",
      "103\n",
      "104\n"
     ]
    }
   ],
   "source": [
    "import os\n",
    "os.environ['DISPLAY'] = ':1'\n",
    "\n",
    "from symbac.simulation import Simulation\n",
    "\n",
    "my_simulation = Simulation(\n",
    "    trench_length=15,\n",
    "    trench_width=1.5,\n",
    "    cell_max_length=6.65, #6, long cells # 1.65 short cells\n",
    "    cell_width= 1, #1 long cells # 0.95 short cells\n",
    "    sim_length = 1000,\n",
    "    pix_mic_conv = 0.065,\n",
    "    gravity=0,\n",
    "    phys_iters=15,\n",
    "    max_length_var = 0.,\n",
    "    width_var = 0.,\n",
    "    lysis_p = 0.00,\n",
    "    save_dir=\"/tmp/\",\n",
    "    resize_amount = 3,\n",
    ")\n",
    "\n",
    "my_simulation.run_simulation(show_window = True)"
   ]
  },
  {
   "cell_type": "code",
   "execution_count": null,
   "id": "e5990e13-ce92-4350-9a19-758019d9fec8",
   "metadata": {},
   "outputs": [],
   "source": [
    "my_simulation.cell_timeseries[0][0].angle"
   ]
  },
  {
   "cell_type": "code",
   "execution_count": null,
   "id": "b1f6daef-012a-4a22-88d5-a410c230314b",
   "metadata": {},
   "outputs": [],
   "source": [
    "1000/(my_simulation.trench_length_for_sim + my_simulation.trench_width_for_sim)"
   ]
  },
  {
   "cell_type": "code",
   "execution_count": null,
   "id": "740a180a-113b-4c43-860f-a65fc2807902",
   "metadata": {},
   "outputs": [],
   "source": [
    "my_simulation.trench_length_for_sim"
   ]
  },
  {
   "cell_type": "code",
   "execution_count": null,
   "id": "04704f05-7260-4558-b4c0-578ae503835c",
   "metadata": {},
   "outputs": [],
   "source": [
    "my_simulation._Simulation__zoom"
   ]
  },
  {
   "cell_type": "code",
   "execution_count": null,
   "id": "aafae675-ef05-48e4-93ef-5332a9bb044e",
   "metadata": {},
   "outputs": [],
   "source": [
    "import pyglet"
   ]
  },
  {
   "cell_type": "code",
   "execution_count": null,
   "id": "061199fa-d205-4b4f-be54-84f67cf44eec",
   "metadata": {},
   "outputs": [],
   "source": [
    "pyglet.app.close()"
   ]
  },
  {
   "cell_type": "code",
   "execution_count": null,
   "id": "b913f3f3-1974-4920-990a-bd30af3d6ef9",
   "metadata": {},
   "outputs": [],
   "source": [
    "from symbac.utils import flatten_list"
   ]
  },
  {
   "cell_type": "code",
   "execution_count": null,
   "id": "0ccd6080-b39c-4153-94e0-84e33c26ea98",
   "metadata": {
    "scrolled": true
   },
   "outputs": [],
   "source": [
    "all_cells = flatten_list(my_simulation.cell_timeseries)"
   ]
  },
  {
   "cell_type": "code",
   "execution_count": null,
   "id": "1c8f6805-d5c0-4b93-8a4f-772875e0c76c",
   "metadata": {},
   "outputs": [],
   "source": [
    "all_cell_length = sum([cell.length for cell in all_cells])\n",
    "all_cell_width = sum([cell.width for cell in all_cells])"
   ]
  },
  {
   "cell_type": "code",
   "execution_count": null,
   "id": "fded65d4-f332-4aa5-8cd8-2cc4d7bb6d44",
   "metadata": {},
   "outputs": [],
   "source": [
    "math.isclose(all_cell_length, 103988.32981477087)"
   ]
  },
  {
   "cell_type": "code",
   "execution_count": null,
   "id": "821dc324-5542-45a5-98a0-d33ae9bdca80",
   "metadata": {},
   "outputs": [],
   "source": [
    "all_cell_length"
   ]
  },
  {
   "cell_type": "code",
   "execution_count": null,
   "id": "4be39c82-3256-4167-8c8f-4710675c07e6",
   "metadata": {},
   "outputs": [],
   "source": [
    "test_attributes = (\n",
    "    \"length\",\n",
    "    \"width\",\n",
    "    \"angle\",\n",
    "    \"pinching_sep\",\n",
    "    \"generation\",\n",
    "    \"replicative_age\",\n",
    "    \"chronological_age\",\n",
    "    \"frame_age\",\n",
    "    \"mask_label\",\n",
    "    \"texture_y_coordinate\",\n",
    ")"
   ]
  },
  {
   "cell_type": "code",
   "execution_count": null,
   "id": "80e0901f-3e7b-48ea-9a91-ddba17057078",
   "metadata": {},
   "outputs": [],
   "source": [
    "for attribute in test_attributes:\n",
    "    a = all_cells[235].__dict__[attribute]\n",
    "    print(a)"
   ]
  },
  {
   "cell_type": "code",
   "execution_count": null,
   "id": "80a93b26-9e08-40ff-b498-6abdfed5e383",
   "metadata": {},
   "outputs": [],
   "source": [
    "my_simulation.visualise_in_napari()"
   ]
  },
  {
   "cell_type": "code",
   "execution_count": null,
   "id": "381d63b7-5950-4549-acc1-ab271bd4a3ec",
   "metadata": {},
   "outputs": [],
   "source": [
    "from symbac.drawing import draw_scene, get_space_size, gen_cell_props_for_draw, generate_curve_props, draw_simulation_OPL, visualise_OPL_in_napari\n",
    "from joblib import Parallel, delayed\n",
    "from tqdm.auto import tqdm\n",
    "\n",
    "from symbac.trench_geometry import trench_creator, get_trench_segments"
   ]
  },
  {
   "cell_type": "code",
   "execution_count": null,
   "id": "c5bbc1d2-8678-4a7c-ab78-72668b14b40f",
   "metadata": {},
   "outputs": [],
   "source": [
    "OPL_scenes, masks = draw_simulation_OPL(simulation=my_simulation)"
   ]
  },
  {
   "cell_type": "code",
   "execution_count": null,
   "id": "d885ccce-82e3-40c5-8573-15df2e9133dc",
   "metadata": {},
   "outputs": [],
   "source": [
    "visualise_OPL_in_napari(OPL_scenes, masks)"
   ]
  },
  {
   "cell_type": "code",
   "execution_count": null,
   "id": "869fd611-0afc-46f1-a402-4581e84e0466",
   "metadata": {},
   "outputs": [],
   "source": []
  }
 ],
 "metadata": {
  "kernelspec": {
   "display_name": "Python [conda env:symbac_development]",
   "language": "python",
   "name": "conda-env-symbac_development-py"
  },
  "language_info": {
   "codemirror_mode": {
    "name": "ipython",
    "version": 3
   },
   "file_extension": ".py",
   "mimetype": "text/x-python",
   "name": "python",
   "nbconvert_exporter": "python",
   "pygments_lexer": "ipython3",
   "version": "3.12.4"
  }
 },
 "nbformat": 4,
 "nbformat_minor": 5
}
