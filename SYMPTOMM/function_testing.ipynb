{
 "cells": [
  {
   "cell_type": "code",
   "execution_count": 1,
   "id": "6d233010-d6dd-445b-b769-d0455da8a4f3",
   "metadata": {},
   "outputs": [],
   "source": [
    "import math\n",
    "import numpy as np\n",
    "import matplotlib.pyplot as plt"
   ]
  },
  {
   "cell_type": "code",
   "execution_count": 2,
   "id": "0b435b41-4584-4cae-9d60-fba24a4e15e4",
   "metadata": {},
   "outputs": [],
   "source": [
    "def wall(thickness, start, end, t_or_b, resolution):\n",
    "    \"\"\"Generates the straight part of the cell wall's coordinates (all but the poles)\n",
    "\n",
    "    Parameters\n",
    "    ----------\n",
    "    thickness : float\n",
    "        The distance from the top cell wall to the bottom cell wall\n",
    "    start : float\n",
    "        The start coordinate of the cell wall\n",
    "    end : float\n",
    "        The end coordinate of the cell wall\n",
    "    t_or_b: int\n",
    "        0 for top wall\n",
    "        1 for bottom wall\n",
    "    resolution : int\n",
    "        Number of points defining the cell wall geometry\n",
    "    Returns\n",
    "    -------\n",
    "    2-tuple of 1D numpy arrays\n",
    "        return[0] is the wall's x coordinates\n",
    "        return[0] is the wall's y coordiantes\n",
    "        \n",
    "    Example\n",
    "    -------\n",
    "    Create two cell walls of length 10, 3 apart\n",
    "    >>> import numpy as np\n",
    "    >>> import matplotlib.pyplot as plt\n",
    "    >>> top_wall = wall(3,0,10,0,20)\n",
    "    >>> bottom_wall = top_wall = wall(3,0,10,1,20)\n",
    "    >>> plt.plot(walls[0], walls[1])\n",
    "    >>> plt.plot(walls[0], walls[1])\n",
    "    >>> plt.show()\n",
    "    \"\"\"\n",
    "    wall_x = np.linspace(start, end, resolution)\n",
    "    wall_y = np.ones(resolution)*thickness * t_or_b +thickness\n",
    "    return wall_x, wall_y"
   ]
  },
  {
   "cell_type": "code",
   "execution_count": 3,
   "id": "fe8c2d92-037f-462b-aa45-f5f67fa9c850",
   "metadata": {},
   "outputs": [],
   "source": [
    "def circ(theta, start, radius):\n",
    "    y = radius * np.cos(theta) +radius\n",
    "    x = radius * np.sin(theta) + start + radius\n",
    "    return x, y\n",
    "\n",
    "def centroid(vertices):\n",
    "    \"\"\"Return the centroid of a list of vertices \n",
    "    \n",
    "    Keyword arguments:\n",
    "    vertices -- A list of tuples containing x,y coordinates.\n",
    "\n",
    "    \"\"\"\n",
    "    return np.sum(vertices,axis=0)/len(vertices)\n",
    "\n",
    "def rotate(origin, point, angle):\n",
    "    \"\"\"\n",
    "    Rotate a point counterclockwise by a given angle around a given origin.\n",
    "\n",
    "    The angle should be given in radians.\n",
    "    \"\"\"\n",
    "    ox, oy = origin\n",
    "    px, py = point\n",
    "\n",
    "    qx = ox + np.cos(angle) * (px - ox) - np.sin(angle) * (py - oy)\n",
    "    qy = oy + np.sin(angle) * (px - ox) + np.cos(angle) * (py - oy)\n",
    "    return qx, qy\n"
   ]
  },
  {
   "cell_type": "code",
   "execution_count": 4,
   "id": "1a942bc2-0acd-4b0b-bec3-78704e89de92",
   "metadata": {},
   "outputs": [],
   "source": [
    "def get_vertices(cell_length, cell_width, angle, resolution):\n",
    "    \"\"\"Generates coordinates for a cell centered aronud (0,0)\n",
    "\n",
    "    Parameters\n",
    "    ----------\n",
    "    cell_length : float\n",
    "        The length of the STRAIGHT part of the cell's wall. \n",
    "        Total length is cell_length + cell_width because the poles are models as semi-circles.\n",
    "    cell_width : float\n",
    "        Total thickness of the cell, defines the poles too.\n",
    "    angle : float\n",
    "        Angle in radians to rotate the cell by (counter-clockwise)\n",
    "    resolution : int\n",
    "        Number of points defining the cell wall geometry\n",
    "    Returns\n",
    "    -------\n",
    "    list of lists containing cell x and y coords\n",
    "    \n",
    "    Example\n",
    "    -------\n",
    "    Create a cell of length 10+4 rotated by 1 radian with a resolution of 20:\n",
    "    >>> import numpy as np\n",
    "    >>> import matplotlib.pyplot as plt\n",
    "    >>> verts = get_vertices(10,4,1,20)\n",
    "    >>> verts_y = [y[0] for y in verts]\n",
    "    >>> verts_x = [x[1] for x in verts]\n",
    "    >>> plt.plot(verts_x,verts_y)\n",
    "    \"\"\"\n",
    "    cell_width = cell_width/2\n",
    "    left_wall = circ(np.linspace(np.pi,2*np.pi, resolution), 0, cell_width)\n",
    "    top_wall_xy = wall(cell_width, cell_width, cell_length, 1, resolution)\n",
    "    bottom_wall_xy = wall(cell_width, cell_width, cell_length, -1, resolution)\n",
    "    right_wall = circ(np.linspace(0,np.pi, resolution), cell_length - cell_width, cell_width)\n",
    "    coordinates = [[left_wall[0][x] - cell_length/2, left_wall[1][x] - cell_width/2] for x in reversed(range(len(left_wall[0])))] + \\\n",
    "            [[bottom_wall_xy[0][x] - cell_length/2, bottom_wall_xy[1][x]- cell_width/2] for x in (range(len(bottom_wall_xy[0])))] + \\\n",
    "            [[right_wall[0][x] - cell_length/2, right_wall[1][x]- cell_width/2] for x in reversed(range(len(right_wall[0])))] + \\\n",
    "            [[top_wall_xy[0][x] - cell_length/2, top_wall_xy[1][x]- cell_width/2] for x in reversed(range(len(top_wall_xy[0])))]\n",
    "    coordinates = np.array(coordinates)\n",
    "    cell_centroid = centroid(coordinates)\n",
    "    centered_verts = coordinates - cell_centroid\n",
    "    centered_verts = centered_verts.tolist()\n",
    "\n",
    "    rotated = np.zeros((len(centered_verts),2))\n",
    "    for x in range(len(centered_verts)):\n",
    "        rotated[x] = rotate(cell_centroid, (centered_verts[x][0],centered_verts[x][1]), angle)\n",
    "    centered_verts = rotated - centroid(rotated)\n",
    "\n",
    "    return centered_verts.tolist()"
   ]
  },
  {
   "cell_type": "code",
   "execution_count": 5,
   "id": "1e2190b1-eb30-472b-abe8-dccc1911e4e5",
   "metadata": {},
   "outputs": [
    {
     "data": {
      "text/plain": [
       "[<matplotlib.lines.Line2D at 0x7f885b170bb0>]"
      ]
     },
     "execution_count": 5,
     "metadata": {},
     "output_type": "execute_result"
    },
    {
     "data": {
      "image/png": "[encoded data removed]",
      "text/plain": [
       "<Figure size 432x288 with 1 Axes>"
      ]
     },
     "metadata": {
      "needs_background": "light"
     },
     "output_type": "display_data"
    }
   ],
   "source": [
    "verts = get_vertices(10,4,1,20)\n",
    "verts_y = [y[0] for y in verts]\n",
    "verts_x = [x[1] for x in verts]\n",
    "plt.plot(verts_x,verts_y)"
   ]
  },
  {
   "cell_type": "code",
   "execution_count": 6,
   "id": "3a586a47-1990-48e4-81fe-3ea52d42ea5d",
   "metadata": {},
   "outputs": [
    {
     "data": {
      "text/plain": [
       "[<matplotlib.lines.Line2D at 0x7f88530d0400>]"
      ]
     },
     "execution_count": 6,
     "metadata": {},
     "output_type": "execute_result"
    },
    {
     "data": {
      "image/png": "[encoded data removed]",
      "text/plain": [
       "<Figure size 432x288 with 1 Axes>"
      ]
     },
     "metadata": {
      "needs_background": "light"
     },
     "output_type": "display_data"
    }
   ],
   "source": [
    "walls = wall(1,0,10,0,5)\n",
    "plt.plot(walls[0], walls[1])\n",
    "walls = wall(1,0,10,1,5)\n",
    "\n",
    "plt.plot(walls[0], walls[1])"
   ]
  },
  {
   "cell_type": "code",
   "execution_count": 7,
   "id": "a3245f15-50f2-4fc2-933b-c23910e7b86d",
   "metadata": {},
   "outputs": [],
   "source": [
    "import pymunk"
   ]
  },
  {
   "cell_type": "code",
   "execution_count": 8,
   "id": "e89f1e83-bceb-474c-8c4d-c94b8544e484",
   "metadata": {},
   "outputs": [],
   "source": [
    "space = pymunk.Space()"
   ]
  },
  {
   "cell_type": "code",
   "execution_count": 10,
   "id": "2b8d32d7-df21-450b-9de3-b813d7f60a48",
   "metadata": {},
   "outputs": [
    {
     "data": {
      "text/plain": [
       "pymunk.space.Space"
      ]
     },
     "execution_count": 10,
     "metadata": {},
     "output_type": "execute_result"
    }
   ],
   "source": [
    "type(space)"
   ]
  },
  {
   "cell_type": "code",
   "execution_count": 11,
   "id": "f01c83d4-bcf7-4845-bb00-bd560d9efca9",
   "metadata": {},
   "outputs": [],
   "source": [
    "b = pymunk.Body()"
   ]
  },
  {
   "cell_type": "code",
   "execution_count": 12,
   "id": "f8856e30-e340-4a1c-b804-3fc336f437e2",
   "metadata": {},
   "outputs": [
    {
     "data": {
      "text/plain": [
       "pymunk.body.Body"
      ]
     },
     "execution_count": 12,
     "metadata": {},
     "output_type": "execute_result"
    }
   ],
   "source": [
    "type(b)"
   ]
  },
  {
   "cell_type": "code",
   "execution_count": 14,
   "id": "29c834f1-d8bc-427e-8d5d-15fcf7003acd",
   "metadata": {},
   "outputs": [
    {
     "data": {
      "text/plain": [
       "<pymunk.shapes.Circle at 0x7f8852f61d00>"
      ]
     },
     "execution_count": 14,
     "metadata": {},
     "output_type": "execute_result"
    }
   ],
   "source": [
    "pymunk.Circle(b, 10)"
   ]
  },
  {
   "cell_type": "code",
   "execution_count": null,
   "id": "0ba14937-a62d-49cd-9b10-499f049f3f37",
   "metadata": {},
   "outputs": [],
   "source": []
  }
 ],
 "metadata": {
  "kernelspec": {
   "display_name": "Python 3",
   "language": "python",
   "name": "python3"
  },
  "language_info": {
   "codemirror_mode": {
    "name": "ipython",
    "version": 3
   },
   "file_extension": ".py",
   "mimetype": "text/x-python",
   "name": "python",
   "nbconvert_exporter": "python",
   "pygments_lexer": "ipython3",
   "version": "3.8.8"
  }
 },
 "nbformat": 4,
 "nbformat_minor": 5
}
