{
 "cells": [
  {
   "cell_type": "code",
   "id": "initial_id",
   "metadata": {
    "collapsed": true,
    "ExecuteTime": {
     "end_time": "2025-06-25T12:14:48.768093Z",
     "start_time": "2025-06-25T12:14:48.177179Z"
    }
   },
   "source": [
    "# Example code to run a simulation with various hooks and configurations etc\n",
    "from symbac.simulation.simulator import Simulator\n",
    "from config import CellConfig, PhysicsConfig\n",
    "import colorsys\n",
    "\n",
    "def generate_color(group_id: int) -> tuple[int, int, int]:\n",
    "    \"\"\"\n",
    "    Generate a unique color based on group_id using HSV color space\n",
    "    for better visual distinction between cells.\n",
    "    \"\"\"\n",
    "    import colorsys\n",
    "\n",
    "    # Use golden ratio for better color distribution\n",
    "    golden_ratio = 0.618033988749895\n",
    "    hue = (group_id * golden_ratio) % 1.0\n",
    "    saturation = 0.7 + (group_id % 3) * 0.1  # Vary saturation slightly\n",
    "    value = 0.8 + (group_id % 2) * 0.2  # Vary brightness slightly\n",
    "\n",
    "    rgb: tuple[float, float, float] = colorsys.hsv_to_rgb(hue, saturation, value)\n",
    "    return int(rgb[0] * 255), int(rgb[1] * 255), int(rgb[2] * 255)\n",
    "\n"
   ],
   "outputs": [],
   "execution_count": 1
  },
  {
   "metadata": {
    "ExecuteTime": {
     "end_time": "2025-06-25T12:14:48.841664Z",
     "start_time": "2025-06-25T12:14:48.838209Z"
    }
   },
   "cell_type": "code",
   "source": [
    "physics_config = PhysicsConfig(\n",
    "    THREADS=2,\n",
    "    THREADED=True,\n",
    "    ITERATIONS=260\n",
    ")\n",
    "\n",
    "\n",
    "initial_cell_config = CellConfig(\n",
    "    GRANULARITY=4, # 16 is good for precise division with no gaps, 8 is a good compromise between performance and precision, 3 is for speed\n",
    "    SEGMENT_RADIUS=15,\n",
    "    SEGMENT_MASS=1.0,\n",
    "    GROWTH_RATE=2, # Turning up the growth rate is a good way to speed up the simulation while keeping ITERATIONS high,\n",
    "    BASE_MAX_LENGTH=45, # This should be stable now!\n",
    "    MAX_LENGTH_VARIATION=0.24,\n",
    "    MIN_LENGTH_AFTER_DIVISION=4,\n",
    "    NOISE_STRENGTH=0.05,\n",
    "    SEED_CELL_SEGMENTS=30,\n",
    "    ROTARY_LIMIT_JOINT=True,\n",
    "    MAX_BEND_ANGLE=0.005,\n",
    "    STIFFNESS=300_000 , # Common values: (bend angle = 0.005, stiffness = 300_000), you can use np.inf for max stiffness but ideally use np.iinfo(np.int64).max for integer type\n",
    "    #DAMPED_ROTARY_SPRING=True,  # Enable damped rotary springs, makes cells quite rigid\n",
    "    #ROTARY_SPRING_STIFFNESS=2000_000, # A good starting point\n",
    "    #ROTARY_SPRING_DAMPING=200_000, # A good starting point\n",
    "    PIVOT_JOINT_STIFFNESS=np.inf # This can be lowered from the default np.inf, and the cell will be able to compress\n",
    ")\n",
    "\n",
    "simulator = Simulator(physics_config, initial_cell_config)\n",
    "\n",
    "STEPS = 3000"
   ],
   "id": "acc07968389d895a",
   "outputs": [],
   "execution_count": 2
  },
  {
   "metadata": {
    "ExecuteTime": {
     "end_time": "2025-06-25T12:14:48.896699Z",
     "start_time": "2025-06-25T12:14:48.848905Z"
    }
   },
   "cell_type": "code",
   "source": [
    "# Create an object to log the simulation context each frame for plotting later\n",
    "from tqdm.auto import tqdm\n",
    "import time\n",
    "class SimulationLogger:\n",
    "    def __init__(self):\n",
    "        # Initialize lists to store simple stats\n",
    "        self.num_cells = []\n",
    "        self.t = []\n",
    "\n",
    "        # Create a tqdm progress bar instance, which we will manually update\n",
    "        self.pbar = tqdm(total=STEPS, unit=\"step\", desc=\"Simulation Progress\", smoothing =0.0)\n",
    "        self.last_time = time.time()\n",
    "\n",
    "        self.frames_to_draw_mpl = []  # Will log the positions of cells at each frame\n",
    "\n",
    "    # A function to log the number of cells and time at each frame\n",
    "    def log_frame(self, simulator: 'Simulator') -> None:\n",
    "        self.num_cells.append(simulator.num_cells)\n",
    "        if not self.t:\n",
    "            self.t.append(0)\n",
    "        else:\n",
    "            self.t.append(self.t[-1] + simulator.dt)\n",
    "\n",
    "    # A function to log the time taken for each step\n",
    "    def get_step_comp_time(self, simulator: 'Simulator') -> None:\n",
    "        # Don't update the bar every step, only every 20 steps\n",
    "        update_interval = 20\n",
    "        if simulator.frame_count % update_interval != 0:\n",
    "            return\n",
    "        current_time = time.time()\n",
    "        # Calculate the time elapsed for this single step\n",
    "        step_time_ms = (current_time - self.last_time) * 1000 / update_interval  # Convert to milliseconds and average over the last 20 steps\n",
    "        self.last_time = current_time\n",
    "        self.pbar.set_postfix(cells=self.num_cells[-1], time_per_step=f\"{step_time_ms:.2f}ms\")\n",
    "        # Advance the progress bar by one step\n",
    "        self.pbar.update(update_interval)\n",
    "\n",
    "    def log_cell_positions(self, simulator: 'Simulator') -> None:\n",
    "        # This function can be used to log cell positions if needed\n",
    "        if simulator.frame_count % 10 != 0:\n",
    "            current_frame_data = [\n",
    "                {\n",
    "                    'position': (seg.body.position.x, seg.body.position.y),\n",
    "                    'radius': seg.shape.radius,\n",
    "                    'id': cell.group_id,\n",
    "                    'color': generate_color(cell.group_id),\n",
    "                }\n",
    "                for cell in simulator.cells for seg in cell.PhysicsRepresentation.segments\n",
    "            ]\n",
    "            self.frames_to_draw_mpl.append((simulator.frame_count, current_frame_data))\n",
    "\n",
    "my_logger = SimulationLogger()\n",
    "\n",
    "simulator.add_post_step_hook(my_logger.log_frame)\n",
    "simulator.add_post_step_hook(my_logger.get_step_comp_time)\n",
    "simulator.add_post_step_hook(my_logger.log_cell_positions)"
   ],
   "id": "606c770873af0948",
   "outputs": [
    {
     "data": {
      "text/plain": [
       "Simulation Progress:   0%|          | 0/3000 [00:00<?, ?step/s]"
      ],
      "application/vnd.jupyter.widget-view+json": {
       "version_major": 2,
       "version_minor": 0,
       "model_id": "55eed0a503a842acb88441c9e770a11e"
      }
     },
     "metadata": {},
     "output_type": "display_data"
    }
   ],
   "execution_count": 3
  },
  {
   "metadata": {
    "ExecuteTime": {
     "end_time": "2025-06-25T12:15:02.933001Z",
     "start_time": "2025-06-25T12:14:51.816483Z"
    }
   },
   "cell_type": "code",
   "source": [
    "for step in range(STEPS):\n",
    "    simulator.step()\n"
   ],
   "id": "1356e3c62d49aea7",
   "outputs": [],
   "execution_count": 4
  },
  {
   "metadata": {
    "ExecuteTime": {
     "end_time": "2025-06-25T12:15:02.980635Z",
     "start_time": "2025-06-25T12:15:02.939051Z"
    }
   },
   "cell_type": "code",
   "source": [
    "import matplotlib.pyplot as plt\n",
    "plt.plot(my_logger.t, my_logger.num_cells)\n",
    "plt.show()"
   ],
   "id": "54d9f224aa63b22c",
   "outputs": [
    {
     "data": {
      "text/plain": [
       "<Figure size 640x480 with 1 Axes>"
      ],
      "image/png": "[encoded data removed]"
     },
     "metadata": {},
     "output_type": "display_data"
    }
   ],
   "execution_count": 5
  },
  {
   "metadata": {
    "ExecuteTime": {
     "end_time": "2025-06-25T12:18:41.366226Z",
     "start_time": "2025-06-25T12:15:02.995772Z"
    }
   },
   "cell_type": "code",
   "source": [
    "from joblib import Parallel, delayed\n",
    "import matplotlib.pyplot as plt\n",
    "import matplotlib.patches as patches\n",
    "import os\n",
    "import numpy as np\n",
    "\n",
    "def render_frame(frame_data: list, frame_number: int, output_dir: str):\n",
    "    \"\"\"\n",
    "    Draws a single frame from pre-collected data using Matplotlib and saves it.\n",
    "    This function is designed to be called in parallel.\n",
    "    \"\"\"\n",
    "    plt.style.use('dark_background')\n",
    "    fig, ax = plt.subplots(figsize=(10, 10))\n",
    "\n",
    "    if not frame_data:\n",
    "        ax.set_xlim(-100, 100)\n",
    "        ax.set_ylim(100, -100)\n",
    "    else:\n",
    "        all_positions = np.array([seg['position'] for seg in frame_data])\n",
    "        min_coords = all_positions.min(axis=0)\n",
    "        max_coords = all_positions.max(axis=0)\n",
    "        center = (min_coords + max_coords) / 2\n",
    "        view_range = (max_coords - min_coords).max() * 1.2 + 200\n",
    "        ax.set_xlim(center[0] - view_range / 2, center[0] + view_range / 2)\n",
    "        ax.set_ylim(center[1] + view_range / 2, center[1] - view_range / 2)\n",
    "\n",
    "    for segment_info in frame_data:\n",
    "        x, y = segment_info['position']\n",
    "        r = segment_info['radius']\n",
    "        rgba_fill_color = np.array(segment_info['color']) / 255.0\n",
    "        circle = patches.Circle((x, y), radius=r, facecolor=rgba_fill_color)\n",
    "        ax.add_patch(circle)\n",
    "\n",
    "    ax.set_aspect('equal', adjustable='box')\n",
    "    ax.set_title(f\"Colony State at Frame {frame_number}\")\n",
    "    ax.set_facecolor('black')\n",
    "    plt.axis('off')\n",
    "    plt.tight_layout()\n",
    "\n",
    "    output_path = os.path.join(output_dir, f\"frame_{frame_number:05d}.jpg\")\n",
    "    plt.savefig(output_path)\n",
    "    plt.close(fig)\n",
    "\n",
    "# Clean output directory\n",
    "output_directory = \"frames\"\n",
    "os.makedirs(output_directory, exist_ok=True)\n",
    "print(f\"Clearing old frames from ./{output_directory}/\")\n",
    "for filename in os.listdir(output_directory):\n",
    "    if filename.endswith(\".jpg\") or filename.endswith(\".jpeg\"):\n",
    "        os.remove(os.path.join(output_directory, filename))\n",
    "\n",
    "# --- PARALLEL RENDERING ---\n",
    "print(f\"\\nStarting parallel rendering of {len(my_logger.frames_to_draw_mpl)} frames using all available CPU cores...\")\n",
    "start_render_time = time.perf_counter()\n",
    "\n",
    "# Use joblib to parallelize the rendering of saved frames\n",
    "# n_jobs=-1 uses all available CPU cores\n",
    "Parallel(n_jobs=-1)(\n",
    "    delayed(render_frame)(data, num, output_directory)\n",
    "    for num, data in tqdm(my_logger.frames_to_draw_mpl, desc=\"Rendering frames\")\n",
    ")\n",
    "\n",
    "end_render_time = time.perf_counter()\n",
    "print(f\"Parallel rendering completed in {end_render_time - start_render_time:.2f} seconds.\")\n",
    "print(f\"Output frames are saved in the '{output_directory}' directory.\")\n"
   ],
   "id": "34954d7ba0fe418e",
   "outputs": [
    {
     "name": "stdout",
     "output_type": "stream",
     "text": [
      "Clearing old frames from ./frames/\n",
      "\n",
      "Starting parallel rendering of 2700 frames using all available CPU cores...\n"
     ]
    },
    {
     "data": {
      "text/plain": [
       "Rendering frames:   0%|          | 0/2700 [00:00<?, ?it/s]"
      ],
      "application/vnd.jupyter.widget-view+json": {
       "version_major": 2,
       "version_minor": 0,
       "model_id": "99b997c1f70e4534aea5428366bd619b"
      }
     },
     "metadata": {},
     "output_type": "display_data"
    },
    {
     "name": "stdout",
     "output_type": "stream",
     "text": [
      "Parallel rendering completed in 218.21 seconds.\n",
      "Output frames are saved in the 'frames' directory.\n"
     ]
    }
   ],
   "execution_count": 6
  },
  {
   "metadata": {},
   "cell_type": "code",
   "outputs": [],
   "execution_count": null,
   "source": "",
   "id": "df524f5d521908d8"
  }
 ],
 "metadata": {
  "kernelspec": {
   "display_name": "Python 3",
   "language": "python",
   "name": "python3"
  },
  "language_info": {
   "codemirror_mode": {
    "name": "ipython",
    "version": 2
   },
   "file_extension": ".py",
   "mimetype": "text/x-python",
   "name": "python",
   "nbconvert_exporter": "python",
   "pygments_lexer": "ipython2",
   "version": "2.7.6"
  }
 },
 "nbformat": 4,
 "nbformat_minor": 5
}
