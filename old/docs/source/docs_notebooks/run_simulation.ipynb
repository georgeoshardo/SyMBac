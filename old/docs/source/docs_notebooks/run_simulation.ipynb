{
 "cells": [
  {
   "cell_type": "code",
   "execution_count": 1,
   "id": "7224bf47-95b7-4190-b7a6-08a1ebb3759b",
   "metadata": {},
   "outputs": [],
   "source": [
    "from SyMBac.phase_contrast_drawing import run_simulation, get_trench_segments, draw_scene\n",
    "from SyMBac.general_drawing import generate_curve_props, gen_cell_props_for_draw, get_space_size, convolve_rescale"
   ]
  },
  {
   "cell_type": "code",
   "execution_count": 2,
   "id": "fb049f97-022c-4aaa-ad04-e37db91665cf",
   "metadata": {},
   "outputs": [],
   "source": [
    "resize_amount = 3\n",
    "pix_mic_conv = 0.0655 ##0.108379937 micron/pix for 60x, 0.0655 for 100x\n",
    "scale = pix_mic_conv / resize_amount \n",
    "sim_length = 1000"
   ]
  },
  {
   "cell_type": "code",
   "execution_count": 3,
   "id": "adbca6cb-dede-4b64-98b4-dc0251a97dd6",
   "metadata": {},
   "outputs": [],
   "source": [
    "cell_timeseries, space = run_simulation(\n",
    "    trench_length=15, \n",
    "    trench_width=1.5, \n",
    "    cell_max_length=1.65, #6, long cells # 1.65 short cells\n",
    "    cell_width= 1, #1 long cells # 0.95 short cells\n",
    "    sim_length = sim_length,\n",
    "    pix_mic_conv = pix_mic_conv,\n",
    "    gravity=0,\n",
    "    phys_iters=20,\n",
    "    max_length_var = 0.1,\n",
    "    width_var = 0.3,\n",
    "    save_dir=\"/tmp/\"\n",
    ") # growth phase"
   ]
  },
  {
   "cell_type": "code",
   "execution_count": 4,
   "id": "d904fac2-f242-4c02-b76d-9f55b53a8eb0",
   "metadata": {},
   "outputs": [],
   "source": [
    "main_segments = get_trench_segments(space)\n",
    "ID_props = generate_curve_props(cell_timeseries)"
   ]
  },
  {
   "cell_type": "code",
   "execution_count": 5,
   "id": "0e3bbaf9-ffe5-49e2-b22f-e5ec88041ba0",
   "metadata": {
    "tags": []
   },
   "outputs": [
    {
     "data": {
      "application/json": {
       "ascii": false,
       "bar_format": null,
       "colour": null,
       "elapsed": 0.012862205505371094,
       "initial": 0,
       "n": 0,
       "ncols": null,
       "nrows": 24,
       "postfix": null,
       "prefix": "Timeseries Properties",
       "rate": null,
       "total": 998,
       "unit": "it",
       "unit_divisor": 1000,
       "unit_scale": false
      },
      "application/vnd.jupyter.widget-view+json": {
       "model_id": "50ab7445c625413180d0575bf9fd2014",
       "version_major": 2,
       "version_minor": 0
      },
      "text/plain": [
       "Timeseries Properties:   0%|          | 0/998 [00:00<?, ?it/s]"
      ]
     },
     "metadata": {},
     "output_type": "display_data"
    },
    {
     "data": {
      "application/json": {
       "ascii": false,
       "bar_format": null,
       "colour": null,
       "elapsed": 0.014417409896850586,
       "initial": 0,
       "n": 0,
       "ncols": null,
       "nrows": 24,
       "postfix": null,
       "prefix": "Scene Draw:",
       "rate": null,
       "total": 998,
       "unit": "it",
       "unit_divisor": 1000,
       "unit_scale": false
      },
      "application/vnd.jupyter.widget-view+json": {
       "model_id": "4c9f1c74aa92404cb695640e9cde01ca",
       "version_major": 2,
       "version_minor": 0
      },
      "text/plain": [
       "Scene Draw::   0%|          | 0/998 [00:00<?, ?it/s]"
      ]
     },
     "metadata": {},
     "output_type": "display_data"
    }
   ],
   "source": [
    "from joblib import Parallel, delayed\n",
    "from tqdm.notebook import tqdm\n",
    "\n",
    "cell_timeseries_properties = Parallel(n_jobs=-1)(\n",
    "    delayed(gen_cell_props_for_draw)(a, ID_props) for a in tqdm(cell_timeseries, desc='Timeseries Properties'))\n",
    "\n",
    "do_transformation = True\n",
    "offset = 30\n",
    "label_masks = True\n",
    "space_size = get_space_size(cell_timeseries_properties)\n",
    "scenes = Parallel(n_jobs=-1)(delayed(draw_scene)(\n",
    "    cell_properties, do_transformation, space_size, offset, label_masks) for cell_properties in tqdm(cell_timeseries_properties, desc='Scene Draw:'))"
   ]
  },
  {
   "cell_type": "code",
   "execution_count": 6,
   "id": "b1226787-19de-4436-a1f3-abd4d1166e97",
   "metadata": {},
   "outputs": [],
   "source": [
    "import pickle\n",
    "cell_timeseries_properties_file = open('cell_timeseries_properties_small.p', 'wb')\n",
    "pickle.dump(cell_timeseries_properties, cell_timeseries_properties_file)\n",
    "cell_timeseries_properties_file.close()\n",
    "\n",
    "main_segments_file = open('main_segments_small.p', 'wb')\n",
    "pickle.dump(main_segments, main_segments_file)\n",
    "main_segments_file.close()"
   ]
  },
  {
   "cell_type": "code",
   "execution_count": null,
   "id": "68d90c95-ad45-4620-a980-b21825a7aa84",
   "metadata": {},
   "outputs": [],
   "source": []
  }
 ],
 "metadata": {
  "kernelspec": {
   "display_name": "Python 3 (ipykernel)",
   "language": "python",
   "name": "python3"
  },
  "language_info": {
   "codemirror_mode": {
    "name": "ipython",
    "version": 3
   },
   "file_extension": ".py",
   "mimetype": "text/x-python",
   "name": "python",
   "nbconvert_exporter": "python",
   "pygments_lexer": "ipython3",
   "version": "3.10.9"
  },
  "widgets": {
   "application/vnd.jupyter.widget-state+json": {
    "state": {
     "102507465f8c4ce48dcbd0909e41c573": {
      "model_module": "@jupyter-widgets/controls",
      "model_module_version": "2.0.0",
      "model_name": "ProgressStyleModel",
      "state": {
       "description_width": ""
      }
     },
     "139025c51844445982bd6233886194c5": {
      "model_module": "@jupyter-widgets/controls",
      "model_module_version": "2.0.0",
      "model_name": "FloatProgressModel",
      "state": {
       "bar_style": "success",
       "layout": "IPY_MODEL_8afd6463ecfe4d598c10bb9932866156",
       "max": 998,
       "style": "IPY_MODEL_14bda78754884ee4877e4b377f9d0bcf",
       "value": 998
      }
     },
     "14bda78754884ee4877e4b377f9d0bcf": {
      "model_module": "@jupyter-widgets/controls",
      "model_module_version": "2.0.0",
      "model_name": "ProgressStyleModel",
      "state": {
       "description_width": ""
      }
     },
     "1b78b16d26e6464ea384522cb8b3cb46": {
      "model_module": "@jupyter-widgets/controls",
      "model_module_version": "2.0.0",
      "model_name": "HTMLModel",
      "state": {
       "layout": "IPY_MODEL_71be09ba4d794e68a170de788da87f6d",
       "style": "IPY_MODEL_f8675acc41654c208306f9913a6f1fab",
       "value": "Timeseries Properties: 100%"
      }
     },
     "21a9f9c4d9c342ed815de76430f52e4e": {
      "model_module": "@jupyter-widgets/controls",
      "model_module_version": "2.0.0",
      "model_name": "HTMLStyleModel",
      "state": {
       "description_width": "",
       "font_size": null,
       "text_color": null
      }
     },
     "3c213772905c48a69e5f18c1024fe214": {
      "model_module": "@jupyter-widgets/base",
      "model_module_version": "2.0.0",
      "model_name": "LayoutModel",
      "state": {}
     },
     "4c9f1c74aa92404cb695640e9cde01ca": {
      "model_module": "@jupyter-widgets/controls",
      "model_module_version": "2.0.0",
      "model_name": "HBoxModel",
      "state": {
       "children": [
        "IPY_MODEL_bae034a8a0bd4a87842e368a556ad46e",
        "IPY_MODEL_ec390424a7fe4832af06e561bd19059c",
        "IPY_MODEL_cb514744b10f4958b312f1160322a9ca"
       ],
       "layout": "IPY_MODEL_b7df67ec292b45459643238554d88a94"
      }
     },
     "50ab7445c625413180d0575bf9fd2014": {
      "model_module": "@jupyter-widgets/controls",
      "model_module_version": "2.0.0",
      "model_name": "HBoxModel",
      "state": {
       "children": [
        "IPY_MODEL_1b78b16d26e6464ea384522cb8b3cb46",
        "IPY_MODEL_139025c51844445982bd6233886194c5",
        "IPY_MODEL_6dfc1e882f624bcba42897b0d1eeb0a6"
       ],
       "layout": "IPY_MODEL_84f0e25449584c608493347510d17d19"
      }
     },
     "55fc63cc19904b7194ef562a752971dd": {
      "model_module": "@jupyter-widgets/controls",
      "model_module_version": "2.0.0",
      "model_name": "HTMLStyleModel",
      "state": {
       "description_width": "",
       "font_size": null,
       "text_color": null
      }
     },
     "6dfc1e882f624bcba42897b0d1eeb0a6": {
      "model_module": "@jupyter-widgets/controls",
      "model_module_version": "2.0.0",
      "model_name": "HTMLModel",
      "state": {
       "layout": "IPY_MODEL_c7c7d9dde62b4762a4e20329bebc8e32",
       "style": "IPY_MODEL_55fc63cc19904b7194ef562a752971dd",
       "value": " 998/998 [00:16&lt;00:00, 52.69it/s]"
      }
     },
     "6fe7080b8fcc4706a10004466d2f633a": {
      "model_module": "@jupyter-widgets/base",
      "model_module_version": "2.0.0",
      "model_name": "LayoutModel",
      "state": {}
     },
     "71be09ba4d794e68a170de788da87f6d": {
      "model_module": "@jupyter-widgets/base",
      "model_module_version": "2.0.0",
      "model_name": "LayoutModel",
      "state": {}
     },
     "82fe35354b754b25a5cb8e186c0b440b": {
      "model_module": "@jupyter-widgets/controls",
      "model_module_version": "2.0.0",
      "model_name": "HTMLStyleModel",
      "state": {
       "description_width": "",
       "font_size": null,
       "text_color": null
      }
     },
     "84f0e25449584c608493347510d17d19": {
      "model_module": "@jupyter-widgets/base",
      "model_module_version": "2.0.0",
      "model_name": "LayoutModel",
      "state": {}
     },
     "8afd6463ecfe4d598c10bb9932866156": {
      "model_module": "@jupyter-widgets/base",
      "model_module_version": "2.0.0",
      "model_name": "LayoutModel",
      "state": {}
     },
     "b7df67ec292b45459643238554d88a94": {
      "model_module": "@jupyter-widgets/base",
      "model_module_version": "2.0.0",
      "model_name": "LayoutModel",
      "state": {}
     },
     "bae034a8a0bd4a87842e368a556ad46e": {
      "model_module": "@jupyter-widgets/controls",
      "model_module_version": "2.0.0",
      "model_name": "HTMLModel",
      "state": {
       "layout": "IPY_MODEL_3c213772905c48a69e5f18c1024fe214",
       "style": "IPY_MODEL_21a9f9c4d9c342ed815de76430f52e4e",
       "value": "Scene Draw:: 100%"
      }
     },
     "baf9ca85be454e2db231ed2103cca2cb": {
      "model_module": "@jupyter-widgets/base",
      "model_module_version": "2.0.0",
      "model_name": "LayoutModel",
      "state": {}
     },
     "c7c7d9dde62b4762a4e20329bebc8e32": {
      "model_module": "@jupyter-widgets/base",
      "model_module_version": "2.0.0",
      "model_name": "LayoutModel",
      "state": {}
     },
     "cb514744b10f4958b312f1160322a9ca": {
      "model_module": "@jupyter-widgets/controls",
      "model_module_version": "2.0.0",
      "model_name": "HTMLModel",
      "state": {
       "layout": "IPY_MODEL_6fe7080b8fcc4706a10004466d2f633a",
       "style": "IPY_MODEL_82fe35354b754b25a5cb8e186c0b440b",
       "value": " 998/998 [00:23&lt;00:00, 34.15it/s]"
      }
     },
     "ec390424a7fe4832af06e561bd19059c": {
      "model_module": "@jupyter-widgets/controls",
      "model_module_version": "2.0.0",
      "model_name": "FloatProgressModel",
      "state": {
       "bar_style": "success",
       "layout": "IPY_MODEL_baf9ca85be454e2db231ed2103cca2cb",
       "max": 998,
       "style": "IPY_MODEL_102507465f8c4ce48dcbd0909e41c573",
       "value": 998
      }
     },
     "f8675acc41654c208306f9913a6f1fab": {
      "model_module": "@jupyter-widgets/controls",
      "model_module_version": "2.0.0",
      "model_name": "HTMLStyleModel",
      "state": {
       "description_width": "",
       "font_size": null,
       "text_color": null
      }
     }
    },
    "version_major": 2,
    "version_minor": 0
   }
  }
 },
 "nbformat": 4,
 "nbformat_minor": 5
}
