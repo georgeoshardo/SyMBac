{
 "cells": [
  {
   "cell_type": "code",
   "execution_count": 1,
   "id": "23a4b46a-5f39-4f35-beb8-4d26e5300bb6",
   "metadata": {},
   "outputs": [],
   "source": [
    "%load_ext autoreload\n",
    "%autoreload 2"
   ]
  },
  {
   "cell_type": "code",
   "execution_count": null,
   "id": "cc0cef81-3f58-4caf-a78e-14747b1826f0",
   "metadata": {
    "scrolled": true
   },
   "outputs": [],
   "source": [
    "import os\n",
    "os.environ['DISPLAY'] = ':1'\n",
    "os.environ['NAPARI_ASYNC'] = '1'\n",
    "\n",
    "\n",
    "from SyMBac.simulation import Simulation\n",
    "from SyMBac.PSF import PSF_generator\n",
    "from SyMBac.renderer import Renderer\n",
    "from SyMBac.PSF import Camera\n",
    "from SyMBac.misc import get_sample_images\n",
    "real_image = get_sample_images()[\"E. coli 100x\"]\n",
    "from joblib import Parallel, delayed\n"
   ]
  },
  {
   "cell_type": "code",
   "execution_count": null,
   "id": "a0ff9150-4f3c-4e8a-8c84-0ada5d9294b0",
   "metadata": {},
   "outputs": [],
   "source": [
    "my_simulation = Simulation(\n",
    "    trench_length=15,\n",
    "    trench_width=1.15,\n",
    "    cell_max_length=6.65, #6, long cells # 1.65 short cells\n",
    "    cell_width= 1, #1 long cells # 0.95 short cells\n",
    "    sim_length = 200,\n",
    "    pix_mic_conv = 0.065,\n",
    "    gravity=0,\n",
    "    phys_iters=15,\n",
    "    max_length_var = 0.,\n",
    "    width_var = 0.,\n",
    "    lysis_p = 0.00,\n",
    "    save_dir=\"/tmp/test/\",\n",
    "    resize_amount = 3,\n",
    ")"
   ]
  },
  {
   "cell_type": "code",
   "execution_count": null,
   "id": "e2c28d7b-a3e6-4532-9a27-a04113da502b",
   "metadata": {},
   "outputs": [],
   "source": [
    "my_simulation.run_simulation()"
   ]
  },
  {
   "cell_type": "code",
   "execution_count": null,
   "id": "779d4d37-0d98-4f73-9436-05a846d45942",
   "metadata": {
    "scrolled": true
   },
   "outputs": [],
   "source": [
    "IDs = []\n",
    "for t in my_simulation.cell_timeseries:\n",
    "    for cell in t:\n",
    "        IDs.append(cell.mask_label)\n"
   ]
  },
  {
   "cell_type": "code",
   "execution_count": null,
   "id": "b1383dd8-8e67-4185-bf55-b582145425c1",
   "metadata": {},
   "outputs": [],
   "source": [
    "len(np.unique(IDs))"
   ]
  },
  {
   "cell_type": "code",
   "execution_count": null,
   "id": "64f472b6-143a-4f9b-9772-db3e08942b0c",
   "metadata": {},
   "outputs": [],
   "source": [
    "from tqdm.auto import tqdm"
   ]
  },
  {
   "cell_type": "code",
   "execution_count": null,
   "id": "6a4d6c6b-e3d2-4336-87a7-2e683816b56b",
   "metadata": {},
   "outputs": [],
   "source": [
    "from copy import deepcopy\n",
    "class ParallelSimulation:\n",
    "\n",
    "    def __init__(self, simulation, N):\n",
    "        self.simulations = [deepcopy(simulation) for x in range(N)]\n",
    "\n",
    "        for i, simulation in enumerate(self.simulations):\n",
    "            init_args = simulation.__dict__\n",
    "            init_args[\"save_dir\"] += f\"/parsim_{str(i)}/\"\n",
    "            simulation.__init__(**init_args)\n",
    "            simulation.show_progress = False\n",
    "\n",
    "    def run_simulations(self):\n",
    "        def run_single_simulation(simulation): # Needed to avoid joblib's shared mem requirement\n",
    "            simulation.run_simulation()\n",
    "            return simulation\n",
    "        \n",
    "        self.simulations = Parallel(n_jobs=-1)(\n",
    "            delayed(run_single_simulation)(sim) for sim in tqdm(self.simulations)\n",
    "        )"
   ]
  },
  {
   "cell_type": "code",
   "execution_count": null,
   "id": "5e892789-5e65-46a0-a962-865af42921cc",
   "metadata": {
    "scrolled": true
   },
   "outputs": [],
   "source": [
    "parsim = ParallelSimulation(my_simulation, 20)"
   ]
  },
  {
   "cell_type": "code",
   "execution_count": null,
   "id": "d20aec54-d254-44f5-b168-ad844a636878",
   "metadata": {
    "scrolled": true
   },
   "outputs": [],
   "source": [
    "parsim.run_simulations()"
   ]
  },
  {
   "cell_type": "code",
   "execution_count": null,
   "id": "686fed9d-48dd-4d90-bf15-1d84ff4c8c34",
   "metadata": {},
   "outputs": [],
   "source": [
    "import napari\n",
    "import numpy as np\n",
    "\n",
    "# add the image\n",
    "viewer = napari.Viewer()\n",
    "viewer.dims.ndim=4\n",
    "shapes = []\n",
    "for s, simulation in enumerate(parsim.simulations):\n",
    "    for t, cell_list in enumerate(simulation.cell_timeseries):\n",
    "        for cell in cell_list:\n",
    "            verts = np.array(cell.get_vertex_list())[::7]\n",
    "            t_array = np.expand_dims(np.repeat(t, verts.shape[0]),1)\n",
    "            sim_array = np.expand_dims(np.repeat(s, verts.shape[0]),1)\n",
    "            verts = np.concatenate([sim_array,t_array, verts], axis = 1)\n",
    "            shapes.append(verts)\n",
    "\n",
    "#viewer.dims.set_range(0,(0,len(my_simulation.cell_timeseries),1))\n"
   ]
  },
  {
   "cell_type": "code",
   "execution_count": null,
   "id": "6ae34e87-8631-4ad9-a980-536a7eb412ae",
   "metadata": {},
   "outputs": [],
   "source": [
    "viewer.add_shapes(shapes, shape_type='polygon',\n",
    "                          edge_color='coral', face_color='royalblue', name=\"Cells\")"
   ]
  },
  {
   "cell_type": "code",
   "execution_count": 2,
   "id": "ca964442-8b5f-4926-8524-5314ff54e535",
   "metadata": {},
   "outputs": [],
   "source": [
    "import napari\n",
    "from napari import Viewer\n",
    "from napari.layers import Image, Labels, Shapes\n",
    "from magicgui.tqdm import tqdm as magic_tqdm\n",
    "import numpy as np\n",
    "import os\n",
    "os.environ['DISPLAY'] = ':1'\n",
    "os.environ['NAPARI_ASYNC'] = '1'\n",
    "\n",
    "\n",
    "from SyMBac.simulation import Simulation\n",
    "from SyMBac.PSF import PSF_generator\n",
    "from SyMBac.renderer import Renderer\n",
    "from SyMBac.PSF import Camera\n",
    "from SyMBac.misc import get_sample_images\n",
    "real_image = get_sample_images()[\"E. coli 100x\"]\n",
    "from joblib import Parallel, delayed\n"
   ]
  },
  {
   "cell_type": "code",
   "execution_count": 3,
   "id": "d3e9d658-cf38-4b15-8351-2673a749347a",
   "metadata": {},
   "outputs": [
    {
     "name": "stderr",
     "output_type": "stream",
     "text": [
      "WARNING: QStandardPaths: XDG_RUNTIME_DIR not set, defaulting to '/tmp/runtime-gh464'\n"
     ]
    },
    {
     "data": {
      "text/plain": [
       "<napari._qt.widgets.qt_viewer_dock_widget.QtViewerDockWidget at 0x72aa10380b80>"
      ]
     },
     "execution_count": 3,
     "metadata": {},
     "output_type": "execute_result"
    },
    {
     "name": "stderr",
     "output_type": "stream",
     "text": [
      "04-Jul-24 17:25:41 - SyMBac.simulation - INFO     - Initializing Simulation object\n",
      "04-Jul-24 17:25:41 - SyMBac.simulation - DEBUG    - {'trench_length': 15.0, 'trench_width': 1.15, 'cell_max_length': 6.65, 'max_length_var': 0.0, 'cell_width': 1.0, 'width_var': 0.0, 'lysis_p': 0.0, 'sim_length': 200, 'pix_mic_conv': 0.07, 'gravity': 0.0, 'phys_iters': 15, 'resize_amount': 3, 'save_dir': '/tmp/test/', 'load_sim_dir': None, 'sim_callback': None, 'show_progress': 'magicgui', 'chronological_time': 0, 'frame_time': 0}\n"
     ]
    }
   ],
   "source": [
    "from magicgui import magicgui, use_app\n",
    "use_app(\"qt\")\n",
    "viewer = napari.Viewer()\n",
    "\n",
    "# Define a function to create the Simulation object\n",
    "@magicgui(\n",
    "    auto_call=False,\n",
    "    trench_length={\"label\": \"Trench Length\"},\n",
    "    trench_width={\"label\": \"Trench Width\"},\n",
    "    cell_max_length={\"label\": \"Cell Max Length\"},\n",
    "    cell_width={\"label\": \"Cell Width\"},\n",
    "    sim_length={\"label\": \"Simulation Length\"},\n",
    "    pix_mic_conv={\"label\": \"Pixel-Micrometer Conversion\"},\n",
    "    gravity={\"label\": \"Gravity\"},\n",
    "    phys_iters={\"label\": \"Physical Iterations\"},\n",
    "    max_length_var={\"label\": \"Max Length Variation\"},\n",
    "    width_var={\"label\": \"Width Variation\"},\n",
    "    lysis_p={\"label\": \"Lysis Probability\"},\n",
    "    save_dir={\"label\": \"Save Directory\"},\n",
    "    resize_amount={\"label\": \"Resize Amount\"},\n",
    ")\n",
    "def create_simulation(\n",
    "    viewer: Viewer,\n",
    "    trench_length: float = 15.0,\n",
    "    trench_width: float = 1.15,\n",
    "    cell_max_length: float = 6.65,\n",
    "    cell_width: float = 1.0,\n",
    "    sim_length: int = 200,\n",
    "    pix_mic_conv: float = 0.065,\n",
    "    gravity: float = 0.0,\n",
    "    phys_iters: int = 15,\n",
    "    max_length_var: float = 0.0,\n",
    "    width_var: float = 0.0,\n",
    "    lysis_p: float = 0.0,\n",
    "    save_dir: str = \"/tmp/test/\",\n",
    "    resize_amount: int = 3,\n",
    ") -> Shapes:\n",
    "    my_simulation = Simulation(\n",
    "        trench_length=trench_length,\n",
    "        trench_width=trench_width,\n",
    "        cell_max_length=cell_max_length,\n",
    "        cell_width=cell_width,\n",
    "        sim_length=sim_length,\n",
    "        pix_mic_conv=pix_mic_conv,\n",
    "        gravity=gravity,\n",
    "        phys_iters=phys_iters,\n",
    "        max_length_var=max_length_var,\n",
    "        width_var=width_var,\n",
    "        lysis_p=lysis_p,\n",
    "        save_dir=save_dir,\n",
    "        resize_amount=resize_amount,\n",
    "        show_progress=\"magicgui\"\n",
    "    )\n",
    "    my_simulation.pbar = magic_tqdm\n",
    "    my_simulation.run_simulation(show_window = False)\n",
    "\n",
    "    shapes = []\n",
    "    colours = []\n",
    "    cmap = napari.utils.colormaps.label_colormap(100).colors\n",
    "    for t, cell_list in enumerate(my_simulation.cell_timeseries):\n",
    "        for cell in cell_list:\n",
    "            verts = np.array(cell.vertex_list)[::5,::-1]\n",
    "            t_array = np.expand_dims(np.repeat(t, verts.shape[0]),1)\n",
    "            verts = np.concatenate([t_array, verts], axis = 1)\n",
    "            shapes.append(verts)\n",
    "            colours.append(cmap[cell.mask_label % len(cmap)])\n",
    "    viewer.dims.current_step = (0,0,0)\n",
    "\n",
    "    return Shapes(shapes, name=\"Simulation output\", shape_type='polygon',edge_color='coral', face_color=colours)\n",
    "\n",
    "# Show the GUI\n",
    "viewer.window.add_dock_widget(create_simulation, name=\"Create Simulation\")"
   ]
  },
  {
   "cell_type": "code",
   "execution_count": null,
   "id": "eb4170c7-034e-4192-becc-53e442c66be6",
   "metadata": {},
   "outputs": [],
   "source": []
  },
  {
   "cell_type": "code",
   "execution_count": null,
   "id": "6cb91d31-471e-4f5d-80d5-357082b678b4",
   "metadata": {},
   "outputs": [],
   "source": [
    "from magicgui import magicgui, use_app\n",
    "use_app(\"ipynb\")\n",
    "from magicgui.tqdm import tqdm as magic_tqdm\n",
    "\n",
    "from magicgui import magicgui\n",
    "\n",
    "# Define a function to create the Simulation object\n",
    "@magicgui(\n",
    "    auto_call=False,\n",
    "    trench_length={\"label\": \"Trench Length\"},\n",
    "    trench_width={\"label\": \"Trench Width\"},\n",
    "    cell_max_length={\"label\": \"Cell Max Length\"},\n",
    "    cell_width={\"label\": \"Cell Width\"},\n",
    "    sim_length={\"label\": \"Simulation Length\"},\n",
    "    pix_mic_conv={\"label\": \"Pixel-Micrometer Conversion\"},\n",
    "    gravity={\"label\": \"Gravity\"},\n",
    "    phys_iters={\"label\": \"Physical Iterations\"},\n",
    "    max_length_var={\"label\": \"Max Length Variation\"},\n",
    "    width_var={\"label\": \"Width Variation\"},\n",
    "    lysis_p={\"label\": \"Lysis Probability\"},\n",
    "    save_dir={\"label\": \"Save Directory\"},\n",
    "    resize_amount={\"label\": \"Resize Amount\"},\n",
    ")\n",
    "def create_simulation(\n",
    "    trench_length: float = 15.0,\n",
    "    trench_width: float = 1.15,\n",
    "    cell_max_length: float = 6.65,\n",
    "    cell_width: float = 1.0,\n",
    "    sim_length: int = 200,\n",
    "    pix_mic_conv: float = 0.065,\n",
    "    gravity: float = 0.0,\n",
    "    phys_iters: int = 15,\n",
    "    max_length_var: float = 0.0,\n",
    "    width_var: float = 0.0,\n",
    "    lysis_p: float = 0.0,\n",
    "    save_dir: str = \"/tmp/test/\",\n",
    "    resize_amount: int = 3,\n",
    ") -> Simulation:\n",
    "    my_simulation = Simulation(\n",
    "        trench_length=trench_length,\n",
    "        trench_width=trench_width,\n",
    "        cell_max_length=cell_max_length,\n",
    "        cell_width=cell_width,\n",
    "        sim_length=sim_length,\n",
    "        pix_mic_conv=pix_mic_conv,\n",
    "        gravity=gravity,\n",
    "        phys_iters=phys_iters,\n",
    "        max_length_var=max_length_var,\n",
    "        width_var=width_var,\n",
    "        lysis_p=lysis_p,\n",
    "        save_dir=save_dir,\n",
    "        resize_amount=resize_amount,\n",
    "        show_progress=\"magicgui\")\n",
    "    my_simulation.pbar = magic_tqdm\n",
    "    my_simulation.run_simulation(show_window=False)\n",
    "# Show the GUI\n",
    "create_simulation.show(run=True)\n"
   ]
  },
  {
   "cell_type": "code",
   "execution_count": null,
   "id": "4eb4f3f6-f1a0-4482-ae07-4a01d3f1180f",
   "metadata": {},
   "outputs": [],
   "source": [
    "create_simulation"
   ]
  },
  {
   "cell_type": "code",
   "execution_count": null,
   "id": "008aa06c-8e9b-4692-8750-f91d1ead3cc8",
   "metadata": {},
   "outputs": [],
   "source": [
    "class NapariCallback:\n",
    "    def __init__(self, viewer):\n",
    "        self.viewer = viewer\n",
    "\n",
    "    def __call__(self,simulation):\n",
    "        shapes = []\n",
    "        for t, cell_list in enumerate(my_simulation.cell_timeseries):\n",
    "            for cell in cell_list:\n",
    "                verts = np.array(cell.get_vertex_list())\n",
    "                t_array = np.expand_dims(np.repeat(t, verts.shape[0]),1)\n",
    "                verts = np.concatenate([t_array, verts], axis = 1)\n",
    "                shapes.append(verts)"
   ]
  },
  {
   "cell_type": "code",
   "execution_count": null,
   "id": "f16b8f1c-0fe6-4e91-bbde-8c93f2cd7c4a",
   "metadata": {},
   "outputs": [],
   "source": [
    "import napari\n",
    "\n",
    "viewer = napari.Viewer()\n",
    "viewer.dims.ndim=3\n",
    "viewer.dims.set_range(0,(0,601,1))"
   ]
  },
  {
   "cell_type": "code",
   "execution_count": null,
   "id": "ddd8c622-3aad-4bb3-a982-63ff837d68dc",
   "metadata": {},
   "outputs": [],
   "source": [
    "my_simulation.run_simulation(show_window=False)"
   ]
  },
  {
   "cell_type": "code",
   "execution_count": null,
   "id": "495305cf-4c1c-46ec-a29e-d4b8e989a9c0",
   "metadata": {},
   "outputs": [],
   "source": [
    "import time\n",
    "from tqdm.auto import tqdm\n",
    "from napari.qt.threading import thread_worker\n"
   ]
  },
  {
   "cell_type": "code",
   "execution_count": null,
   "id": "9ace91bb-ff15-47a4-8b99-b179e03f8240",
   "metadata": {},
   "outputs": [],
   "source": [
    "viewer = napari.Viewer()\n",
    "viewer.dims.ndim=3\n",
    "viewer.dims.set_range(0,(0,len(my_simulation.cell_timeseries),1))\n",
    "\n",
    "def update_shapes_layer(new_shapes):\n",
    "    try:\n",
    "        # if the layer exists, update the data\n",
    "        viewer.layers['Cells'].data = viewer.layers['Cells'].data =  new_shapes\n",
    "        viewer.dims.set_range(0,(0,len(my_simulation.cell_timeseries),1))\n",
    "        viewer.dims.current_step = (t,0,0)\n",
    "        time.sleep(1)\n",
    "    except KeyError:\n",
    "        # otherwise add it to the viewer\n",
    "        viewer.add_shapes(new_shapes, shape_type='polygon',\n",
    "                                  edge_color='coral', face_color='royalblue', name=\"Cells\")\n",
    "        viewer.dims.set_range(0,(0,len(my_simulation.cell_timeseries),1))\n",
    "        viewer.dims.current_step = (t,0,0)\n",
    "        time.sleep(1)    \n",
    "\n",
    "    \n",
    "@thread_worker(connect={'yielded': update_shapes_layer})\n",
    "def add_cells():\n",
    "    global t\n",
    "    shapes = []\n",
    "    for t, cell_list in enumerate(my_simulation.cell_timeseries):\n",
    "        for cell in cell_list:\n",
    "            verts = np.array(cell.get_vertex_list())\n",
    "            t_array = np.expand_dims(np.repeat(t, verts.shape[0]),1)\n",
    "            verts = np.concatenate([t_array, verts], axis = 1)\n",
    "            shapes.append(verts)\n",
    "    yield shapes\n",
    "\n",
    "add_cells()\n",
    "\n",
    "napari.run()\n"
   ]
  },
  {
   "cell_type": "code",
   "execution_count": null,
   "id": "ac4fcd58-bfa9-458c-bc81-7d8a3bc238ea",
   "metadata": {},
   "outputs": [],
   "source": [
    "import numpy as np"
   ]
  },
  {
   "cell_type": "code",
   "execution_count": null,
   "id": "326c6cb8-902a-4d4c-b60f-7924ad5d980c",
   "metadata": {},
   "outputs": [],
   "source": [
    "a = add_cells()"
   ]
  },
  {
   "cell_type": "code",
   "execution_count": null,
   "id": "6c6eaad6-af49-4f19-af6c-dc1f50000a46",
   "metadata": {},
   "outputs": [],
   "source": []
  },
  {
   "cell_type": "code",
   "execution_count": null,
   "id": "b608cd06-29b3-448e-8776-b1bed320c920",
   "metadata": {},
   "outputs": [],
   "source": [
    "import napari\n",
    "import numpy as np\n",
    "from napari.qt.threading import thread_worker\n",
    "\n",
    "\n",
    "viewer = napari.Viewer()\n",
    "\n",
    "def update_layer(new_image):\n",
    "    try:\n",
    "        # if the layer exists, update the data\n",
    "        viewer.layers['result'].data = new_image\n",
    "    except KeyError:\n",
    "        # otherwise add it to the viewer\n",
    "        viewer.add_image(\n",
    "            new_image, contrast_limits=(0.45, 0.55), name='result'\n",
    "        )\n",
    "\n",
    "@thread_worker(connect={'yielded': update_layer})\n",
    "def large_random_images():\n",
    "    cumsum = np.zeros((512, 512))\n",
    "    for i in range(1024):\n",
    "        cumsum += np.random.rand(512, 512)\n",
    "        if i % 16 == 0:\n",
    "            yield cumsum / (i + 1)\n",
    "\n",
    "large_random_images()  # call the function!\n",
    "napari.run()\n"
   ]
  },
  {
   "cell_type": "code",
   "execution_count": null,
   "id": "aba883ae-7eb7-4433-879c-83378891ba3c",
   "metadata": {
    "scrolled": true
   },
   "outputs": [],
   "source": [
    "import napari\n",
    "import numpy as np\n",
    "from skimage import data\n",
    "\n",
    "# add the image\n",
    "viewer = napari.Viewer()\n",
    "viewer.dims.ndim=3\n",
    "\n",
    "for t, cell_list in enumerate(my_simulation.cell_timeseries):\n",
    "    shapes = []\n",
    "    for cell in cell_list:\n",
    "        verts = np.array(cell.get_vertex_list())\n",
    "        t_array = np.expand_dims(np.repeat(t, verts.shape[0]),1)\n",
    "        verts = np.concatenate([t_array, verts], axis = 1)\n",
    "        shapes.append(verts)\n",
    "    if t == 0:\n",
    "        # add the polygons\n",
    "        shapes_layer = viewer.add_shapes(shapes, shape_type='polygon',\n",
    "                                  edge_color='coral', face_color='royalblue', name=\"Cells\")\n",
    "\n",
    "    \n",
    "viewer.dims.set_range(0,(0,len(my_simulation.cell_timeseries),1))\n"
   ]
  },
  {
   "cell_type": "code",
   "execution_count": null,
   "id": "0511601d-1c7f-420d-ac80-9cc49d37fe3e",
   "metadata": {},
   "outputs": [],
   "source": [
    "shapes = []\n",
    "for t, cell_list in enumerate(my_simulation.cell_timeseries[10:20]):\n",
    "    for cell in cell_list:\n",
    "        verts = np.array(cell.get_vertex_list())\n",
    "        t_array = np.expand_dims(np.repeat(t+10, verts.shape[0]),1)\n",
    "        verts = np.concatenate([t_array, verts], axis = 1)\n",
    "        shapes.append(verts)\n"
   ]
  },
  {
   "cell_type": "code",
   "execution_count": null,
   "id": "bcd7e8ed-e517-4184-ae7b-8dc0cedf5b6a",
   "metadata": {},
   "outputs": [],
   "source": [
    "viewer.layers[\"Cells\"].data.extend(shapes)"
   ]
  },
  {
   "cell_type": "code",
   "execution_count": null,
   "id": "ad117e68-33fe-4fe5-9601-f21e8c8852b4",
   "metadata": {
    "scrolled": true
   },
   "outputs": [],
   "source": [
    "viewer.layers[\"Cells\"].data = viewer.layers[\"Cells\"].data + shapes\n",
    "viewer.dims.set_range(0,(0,len(my_simulation.cell_timeseries),1))\n"
   ]
  },
  {
   "cell_type": "code",
   "execution_count": null,
   "id": "fae2680b-8acc-481d-9fd3-04740e8cf878",
   "metadata": {},
   "outputs": [],
   "source": []
  },
  {
   "cell_type": "code",
   "execution_count": null,
   "id": "c8ee468e-cb8f-44c3-b2bc-e87503e30032",
   "metadata": {},
   "outputs": [],
   "source": [
    "a_cell = my_simulation.cells[0]"
   ]
  },
  {
   "cell_type": "code",
   "execution_count": null,
   "id": "51b91370-fe0d-411a-ac39-333feb7b30d0",
   "metadata": {},
   "outputs": [],
   "source": [
    "from SyMBac.drawing import draw_scene, get_space_size, gen_cell_props_for_draw, generate_curve_props\n",
    "from joblib import Parallel, delayed\n",
    "from tqdm.auto import tqdm\n",
    "\n",
    "from SyMBac.trench_geometry import trench_creator, get_trench_segments\n",
    "\n",
    "def draw_simulation_OPL(simulation, do_transformation = True, label_masks = True, return_output = False): #TODO decouble drawing from simulation\n",
    "\n",
    "\n",
    "    \"\"\"\n",
    "    Draw the optical path length images from the simulation. This involves drawing the 3D cells into a 2D numpy\n",
    "    array, and then the corresponding masks for each cell.\n",
    "\n",
    "    After running this function, the Simulation object will gain two new attributes: ``self.OPL_scenes`` and ``self.masks`` which can be accessed separately.\n",
    "\n",
    "    :param bool do_transformation: Sets whether to transform the cells by bending them. Bending the cells can add realism to a simulation, but risks clipping the cells into the mother machine trench walls.\n",
    "\n",
    "    :param bool label_masks: Sets whether the masks should be binary, or labelled. Masks should be binary is training a standard U-net, such as with DeLTA, but if training Omnipose (recommended), then mask labelling should be set to True.\n",
    "\n",
    "    :param bool return_output: Controls whether the function returns the OPL scenes and masks. Does not affect the assignment of these attributes to the instance.\n",
    "\n",
    "    Returns\n",
    "    -------\n",
    "    output : tuple(list(numpy.ndarray), list(numpy.ndarray))\n",
    "       If ``return_output = True``, a tuple containing lists, each of which contains the entire simulation. The first element in the tuple contains the OPL images, the second element contains the masks\n",
    "\n",
    "    \"\"\"\n",
    "    simulation.main_segments = get_trench_segments(simulation.space)\n",
    "    ID_props = generate_curve_props(simulation.cell_timeseries)\n",
    "\n",
    "    cell_timeseries_properties = Parallel(n_jobs=-1)(\n",
    "        delayed(gen_cell_props_for_draw)(a, ID_props) for a in tqdm(simulation.cell_timeseries, desc='Extracting cell properties from the simulation'))\n",
    "\n",
    "    space_size = get_space_size(cell_timeseries_properties)\n",
    "    offset = 30\n",
    "    scenes = Parallel(n_jobs=-1)(delayed(draw_scene)(\n",
    "    cell_properties, do_transformation, space_size, offset, label_masks) for cell_properties in tqdm(\n",
    "        cell_timeseries_properties, desc='Rendering cell optical path lengths'))\n",
    "    OPL_scenes = [_[0] for _ in scenes]\n",
    "    masks = [_[1] for _ in scenes]\n",
    "\n",
    "    return OPL_scenes, masks"
   ]
  },
  {
   "cell_type": "code",
   "execution_count": null,
   "id": "8354df35-c01d-4aed-9520-69fcb9bd612d",
   "metadata": {},
   "outputs": [],
   "source": [
    "OPL_scenes, masks = draw_simulation_OPL(simulation=my_simulation)"
   ]
  },
  {
   "cell_type": "code",
   "execution_count": null,
   "id": "283de369-040f-4c65-ab76-d3d649aecc7f",
   "metadata": {},
   "outputs": [],
   "source": [
    "import matplotlib.pyplot as plt"
   ]
  },
  {
   "cell_type": "code",
   "execution_count": null,
   "id": "701ad9ec-9b92-471d-b99d-3fb2cf7a10ce",
   "metadata": {},
   "outputs": [],
   "source": [
    "plt.imshow(OPL_scenes[-1])"
   ]
  },
  {
   "cell_type": "code",
   "execution_count": null,
   "id": "54497464-64b7-4b1c-9e4a-1c255d2376de",
   "metadata": {},
   "outputs": [],
   "source": [
    "from SyMBac.lineage import Lineage"
   ]
  },
  {
   "cell_type": "code",
   "execution_count": null,
   "id": "c67d1490-9bc8-429c-8292-cc837a08fcc1",
   "metadata": {},
   "outputs": [],
   "source": [
    "my_lineage = Lineage(my_simulation)"
   ]
  },
  {
   "cell_type": "code",
   "execution_count": null,
   "id": "23aee458-24b8-400c-91e6-15c78906a0b8",
   "metadata": {},
   "outputs": [],
   "source": [
    "import SyMBac\n",
    "SyMBac.__version__"
   ]
  },
  {
   "cell_type": "code",
   "execution_count": null,
   "id": "3fc8cc9a-5ebf-4853-a95a-7ccac741fc23",
   "metadata": {},
   "outputs": [],
   "source": [
    "vars(my_simulation)"
   ]
  },
  {
   "cell_type": "code",
   "execution_count": null,
   "id": "4324daed-c011-4621-81a0-62246842a27a",
   "metadata": {},
   "outputs": [],
   "source": []
  }
 ],
 "metadata": {
  "kernelspec": {
   "display_name": "Python [conda env:symbac]",
   "language": "python",
   "name": "conda-env-symbac-py"
  },
  "language_info": {
   "codemirror_mode": {
    "name": "ipython",
    "version": 3
   },
   "file_extension": ".py",
   "mimetype": "text/x-python",
   "name": "python",
   "nbconvert_exporter": "python",
   "pygments_lexer": "ipython3",
   "version": "3.10.9"
  }
 },
 "nbformat": 4,
 "nbformat_minor": 5
}
