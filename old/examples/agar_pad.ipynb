{
 "cells": [
  {
   "cell_type": "markdown",
   "metadata": {},
   "source": [
    "# Agar pad simulations \n",
    "\n",
    "## This notebook is currently being updated, and is unfinished! "
   ]
  },
  {
   "cell_type": "code",
   "execution_count": 1,
   "metadata": {},
   "outputs": [],
   "source": [
    "%load_ext autoreload"
   ]
  },
  {
   "cell_type": "code",
   "execution_count": 2,
   "metadata": {},
   "outputs": [],
   "source": [
    "%autoreload 2"
   ]
  },
  {
   "cell_type": "code",
   "execution_count": 1,
   "metadata": {},
   "outputs": [],
   "source": [
    "import numpy as np\n",
    "import os\n",
    "import pickle\n",
    "from skimage.transform import rescale, rotate\n",
    "import noise\n",
    "import matplotlib.pyplot as plt"
   ]
  },
  {
   "cell_type": "code",
   "execution_count": 2,
   "metadata": {},
   "outputs": [
    {
     "name": "stderr",
     "output_type": "stream",
     "text": [
      "/home/georgeos/Documents/GitHub/SyMBac/SyMBac/colony_simulation.py:8: TqdmExperimentalWarning: Using `tqdm.autonotebook.tqdm` in notebook mode. Use `tqdm.tqdm` instead to force console mode (e.g. in jupyter console)\n",
      "  from tqdm.autonotebook import tqdm\n"
     ]
    }
   ],
   "source": [
    "import sys\n",
    "sys.path.insert(1, '/home/georgeos/Documents/GitHub/SyMBac/') # Not needed if you installed SyMBac using pip\n",
    "from SyMBac.drawing import raster_cell\n",
    "from SyMBac.colony_simulation import ColonySimulation"
   ]
  },
  {
   "cell_type": "raw",
   "metadata": {
    "raw_mimetype": "text/restructuredtext",
    "tags": []
   },
   "source": [
    "For microcolony simulations, we prefer to use CellModeller [1]_ instead of the inbuilt SyMBac simulator. We will be updating the following page with example models written for CellModeller, which cover simple microcolonies, and other microfluidic geometries: :doc:`Example models <cellmodeller_examples>`.\n",
    "\n",
    ".. [1] Computational Modeling of Synthetic Microbial Biofilms\n",
    "   Timothy J. Rudge, Paul J. Steiner, Andrew Phillips, and Jim Haseloff\n",
    "   ACS Synthetic Biology 2012 1 (8), 345-352\n",
    "   DOI: 10.1021/sb300031n"
   ]
  },
  {
   "cell_type": "code",
   "execution_count": 3,
   "metadata": {},
   "outputs": [],
   "source": [
    "colonysim = ColonySimulation(\n",
    "    cellmodeller_model= 'cellmodeller_ex1_simpleGrowth_modified.py',\n",
    "    max_cells = 100,\n",
    "    pix_mic_conv = 0.065,\n",
    "    resize_amount = 3,\n",
    "    save_dir = \"test/\",\n",
    ")"
   ]
  },
  {
   "cell_type": "code",
   "execution_count": 6,
   "metadata": {
    "collapsed": true,
    "jupyter": {
     "outputs_hidden": true
    },
    "tags": []
   },
   "outputs": [
    {
     "name": "stdout",
     "output_type": "stream",
     "text": [
      "Set up OpenCL context:\n",
      "  Platform: NVIDIA CUDA\n",
      "  Device: Quadro RTX 3000\n",
      "Importing model cellmodeller_ex1_simpleGrowth_modified\n",
      "      10           2 cells           0 contacts    0.000034 hour(s) or 0.002035 minute(s) or 0.122123 second(s)\n",
      "      20           2 cells           0 contacts    0.000041 hour(s) or 0.002452 minute(s) or 0.147110 second(s)\n",
      "      30           2 cells           0 contacts    0.000048 hour(s) or 0.002906 minute(s) or 0.174348 second(s)\n",
      "      40           2 cells           0 contacts    0.000056 hour(s) or 0.003365 minute(s) or 0.201879 second(s)\n",
      "      50           2 cells           0 contacts    0.000063 hour(s) or 0.003795 minute(s) or 0.227723 second(s)\n",
      "      60           3 cells           1 contacts    0.000075 hour(s) or 0.004480 minute(s) or 0.268788 second(s)\n",
      "   60     3 cells       2 cts       3 iterations  residual = 0.000513\n",
      "      70           5 cells           4 contacts    0.000092 hour(s) or 0.005502 minute(s) or 0.330109 second(s)\n",
      "   70     5 cells       4 cts       4 iterations  residual = 0.001992\n",
      "      80           5 cells           4 contacts    0.000110 hour(s) or 0.006609 minute(s) or 0.396537 second(s)\n",
      "   80     5 cells       4 cts       3 iterations  residual = 0.003237\n",
      "      90           5 cells           5 contacts    0.000128 hour(s) or 0.007680 minute(s) or 0.460783 second(s)\n",
      "   90     5 cells       4 cts       2 iterations  residual = 0.003866\n",
      "     100           8 cells           7 contacts    0.000146 hour(s) or 0.008754 minute(s) or 0.525262 second(s)\n",
      "  100     8 cells       7 cts       4 iterations  residual = 0.002115\n",
      "     110           9 cells           8 contacts    0.000164 hour(s) or 0.009836 minute(s) or 0.590187 second(s)\n",
      "  110     9 cells      10 cts       5 iterations  residual = 0.003253\n",
      "     120          10 cells          14 contacts    0.000188 hour(s) or 0.011260 minute(s) or 0.675616 second(s)\n",
      "  120    10 cells      14 cts       7 iterations  residual = 0.003114\n"
     ]
    },
    {
     "ename": "KeyboardInterrupt",
     "evalue": "",
     "output_type": "error",
     "traceback": [
      "\u001b[0;31m---------------------------------------------------------------------------\u001b[0m",
      "\u001b[0;31mKeyboardInterrupt\u001b[0m                         Traceback (most recent call last)",
      "Input \u001b[0;32mIn [6]\u001b[0m, in \u001b[0;36m<cell line: 1>\u001b[0;34m()\u001b[0m\n\u001b[0;32m----> 1\u001b[0m \u001b[43mcolonysim\u001b[49m\u001b[38;5;241;43m.\u001b[39;49m\u001b[43mrun_cellmodeller_sim\u001b[49m\u001b[43m(\u001b[49m\u001b[43mnum_sim\u001b[49m\u001b[38;5;241;43m=\u001b[39;49m\u001b[38;5;241;43m1\u001b[39;49m\u001b[43m)\u001b[49m\n",
      "File \u001b[0;32m~/Documents/GitHub/SyMBac/SyMBac/colony_simulation.py:56\u001b[0m, in \u001b[0;36mColonySimulation.run_cellmodeller_sim\u001b[0;34m(self, num_sim)\u001b[0m\n\u001b[1;32m     54\u001b[0m \u001b[38;5;66;03m# Run the simulation to ~n cells\u001b[39;00m\n\u001b[1;32m     55\u001b[0m \u001b[38;5;28;01mwhile\u001b[39;00m \u001b[38;5;28mlen\u001b[39m(\u001b[38;5;28mself\u001b[39m\u001b[38;5;241m.\u001b[39msimulation\u001b[38;5;241m.\u001b[39mcellStates) \u001b[38;5;241m<\u001b[39m \u001b[38;5;28mself\u001b[39m\u001b[38;5;241m.\u001b[39mmax_cells:\n\u001b[0;32m---> 56\u001b[0m     \u001b[38;5;28;43mself\u001b[39;49m\u001b[38;5;241;43m.\u001b[39;49m\u001b[43msimulation\u001b[49m\u001b[38;5;241;43m.\u001b[39;49m\u001b[43mstep\u001b[49m\u001b[43m(\u001b[49m\u001b[43m)\u001b[49m\n\u001b[1;32m     57\u001b[0m \u001b[38;5;28mself\u001b[39m\u001b[38;5;241m.\u001b[39mn_simulations \u001b[38;5;241m+\u001b[39m\u001b[38;5;241m=\u001b[39m \u001b[38;5;241m1\u001b[39m\n",
      "File \u001b[0;32m~/miniconda3/envs/symbac/lib/python3.9/site-packages/CellModeller/Simulator.py:382\u001b[0m, in \u001b[0;36mSimulator.step\u001b[0;34m(self)\u001b[0m\n\u001b[1;32m    379\u001b[0m             \u001b[38;5;28mself\u001b[39m\u001b[38;5;241m.\u001b[39mkill(state)\n\u001b[1;32m    381\u001b[0m \u001b[38;5;28mself\u001b[39m\u001b[38;5;241m.\u001b[39mphys\u001b[38;5;241m.\u001b[39mset_cells()\n\u001b[0;32m--> 382\u001b[0m \u001b[38;5;28;01mwhile\u001b[39;00m \u001b[38;5;129;01mnot\u001b[39;00m \u001b[38;5;28;43mself\u001b[39;49m\u001b[38;5;241;43m.\u001b[39;49m\u001b[43mphys\u001b[49m\u001b[38;5;241;43m.\u001b[39;49m\u001b[43mstep\u001b[49m\u001b[43m(\u001b[49m\u001b[38;5;28;43mself\u001b[39;49m\u001b[38;5;241;43m.\u001b[39;49m\u001b[43mdt\u001b[49m\u001b[43m)\u001b[49m: \u001b[38;5;66;03m#neighbours are current here\u001b[39;00m\n\u001b[1;32m    383\u001b[0m     \u001b[38;5;28;01mpass\u001b[39;00m\n\u001b[1;32m    384\u001b[0m \u001b[38;5;28;01mif\u001b[39;00m \u001b[38;5;28mself\u001b[39m\u001b[38;5;241m.\u001b[39msig:\n",
      "File \u001b[0;32m~/miniconda3/envs/symbac/lib/python3.9/site-packages/CellModeller/Biophysics/BacterialModels/CLBacterium.py:590\u001b[0m, in \u001b[0;36mCLBacterium.step\u001b[0;34m(self, dt)\u001b[0m\n\u001b[1;32m    588\u001b[0m \u001b[38;5;28;01mif\u001b[39;00m \u001b[38;5;129;01mnot\u001b[39;00m \u001b[38;5;28mself\u001b[39m\u001b[38;5;241m.\u001b[39mprogress_initialised:\n\u001b[1;32m    589\u001b[0m     \u001b[38;5;28mself\u001b[39m\u001b[38;5;241m.\u001b[39mprogress_init(dt)\n\u001b[0;32m--> 590\u001b[0m \u001b[38;5;28;01mif\u001b[39;00m \u001b[38;5;28;43mself\u001b[39;49m\u001b[38;5;241;43m.\u001b[39;49m\u001b[43mprogress\u001b[49m\u001b[43m(\u001b[49m\u001b[43m)\u001b[49m:\n\u001b[1;32m    591\u001b[0m     \u001b[38;5;28mself\u001b[39m\u001b[38;5;241m.\u001b[39mprogress_finalise()\n\u001b[1;32m    592\u001b[0m     \u001b[38;5;28;01mreturn\u001b[39;00m \u001b[38;5;28;01mTrue\u001b[39;00m\n",
      "File \u001b[0;32m~/miniconda3/envs/symbac/lib/python3.9/site-packages/CellModeller/Biophysics/BacterialModels/CLBacterium.py:557\u001b[0m, in \u001b[0;36mCLBacterium.progress\u001b[0;34m(self)\u001b[0m\n\u001b[1;32m    555\u001b[0m \u001b[38;5;28;01mdef\u001b[39;00m \u001b[38;5;21mprogress\u001b[39m(\u001b[38;5;28mself\u001b[39m):\n\u001b[1;32m    556\u001b[0m     \u001b[38;5;28;01mif\u001b[39;00m \u001b[38;5;28mself\u001b[39m\u001b[38;5;241m.\u001b[39mn_ticks:\n\u001b[0;32m--> 557\u001b[0m         \u001b[38;5;28;01mif\u001b[39;00m \u001b[38;5;28;43mself\u001b[39;49m\u001b[38;5;241;43m.\u001b[39;49m\u001b[43mtick\u001b[49m\u001b[43m(\u001b[49m\u001b[38;5;28;43mself\u001b[39;49m\u001b[38;5;241;43m.\u001b[39;49m\u001b[43mactual_dt\u001b[49m\u001b[43m)\u001b[49m:\n\u001b[1;32m    558\u001b[0m             \u001b[38;5;28mself\u001b[39m\u001b[38;5;241m.\u001b[39mn_ticks \u001b[38;5;241m-\u001b[39m\u001b[38;5;241m=\u001b[39m \u001b[38;5;241m1\u001b[39m\n\u001b[1;32m    559\u001b[0m         \u001b[38;5;28;01mreturn\u001b[39;00m \u001b[38;5;28;01mFalse\u001b[39;00m\n",
      "File \u001b[0;32m~/miniconda3/envs/symbac/lib/python3.9/site-packages/CellModeller/Biophysics/BacterialModels/CLBacterium.py:623\u001b[0m, in \u001b[0;36mCLBacterium.tick\u001b[0;34m(self, dt)\u001b[0m\n\u001b[1;32m    621\u001b[0m \u001b[38;5;28;01mif\u001b[39;00m \u001b[38;5;129;01mnot\u001b[39;00m \u001b[38;5;28mself\u001b[39m\u001b[38;5;241m.\u001b[39msub_tick_initialised:\n\u001b[1;32m    622\u001b[0m     \u001b[38;5;28mself\u001b[39m\u001b[38;5;241m.\u001b[39msub_tick_init(dt)\n\u001b[0;32m--> 623\u001b[0m \u001b[38;5;28;01mif\u001b[39;00m \u001b[38;5;28;43mself\u001b[39;49m\u001b[38;5;241;43m.\u001b[39;49m\u001b[43msub_tick\u001b[49m\u001b[43m(\u001b[49m\u001b[43mdt\u001b[49m\u001b[43m)\u001b[49m:\n\u001b[1;32m    624\u001b[0m     \u001b[38;5;28mself\u001b[39m\u001b[38;5;241m.\u001b[39msub_tick_finalise()\n\u001b[1;32m    625\u001b[0m     \u001b[38;5;28;01mreturn\u001b[39;00m \u001b[38;5;28;01mTrue\u001b[39;00m\n",
      "File \u001b[0;32m~/miniconda3/envs/symbac/lib/python3.9/site-packages/CellModeller/Biophysics/BacterialModels/CLBacterium.py:643\u001b[0m, in \u001b[0;36mCLBacterium.sub_tick\u001b[0;34m(self, dt)\u001b[0m\n\u001b[1;32m    641\u001b[0m \u001b[38;5;28mself\u001b[39m\u001b[38;5;241m.\u001b[39mbuild_matrix() \u001b[38;5;66;03m# Calculate entries of the matrix\u001b[39;00m\n\u001b[1;32m    642\u001b[0m \u001b[38;5;66;03m#print \"max cell contacts = %i\"%cl_array.max(self.cell_n_cts_dev).get()\u001b[39;00m\n\u001b[0;32m--> 643\u001b[0m \u001b[38;5;28;43mself\u001b[39;49m\u001b[38;5;241;43m.\u001b[39;49m\u001b[43mCGSSolve\u001b[49m\u001b[43m(\u001b[49m\u001b[43mdt\u001b[49m\u001b[43m,\u001b[49m\u001b[43m \u001b[49m\u001b[43malpha\u001b[49m\u001b[43m)\u001b[49m \u001b[38;5;66;03m# invert MTMx to find deltap\u001b[39;00m\n\u001b[1;32m    644\u001b[0m \u001b[38;5;28mself\u001b[39m\u001b[38;5;241m.\u001b[39madd_impulse()\n\u001b[1;32m    645\u001b[0m \u001b[38;5;28;01mreturn\u001b[39;00m \u001b[38;5;28;01mFalse\u001b[39;00m\n",
      "File \u001b[0;32m~/miniconda3/envs/symbac/lib/python3.9/site-packages/CellModeller/Biophysics/BacterialModels/CLBacterium.py:1030\u001b[0m, in \u001b[0;36mCLBacterium.CGSSolve\u001b[0;34m(self, dt, alpha, substep)\u001b[0m\n\u001b[1;32m   1026\u001b[0m max_iters \u001b[38;5;241m=\u001b[39m \u001b[38;5;28mself\u001b[39m\u001b[38;5;241m.\u001b[39mn_cells\u001b[38;5;241m*\u001b[39m\u001b[38;5;241m7\u001b[39m\n\u001b[1;32m   1028\u001b[0m \u001b[38;5;28;01mfor\u001b[39;00m \u001b[38;5;28miter\u001b[39m \u001b[38;5;129;01min\u001b[39;00m \u001b[38;5;28mrange\u001b[39m(max_iters):\n\u001b[1;32m   1029\u001b[0m     \u001b[38;5;66;03m# Ap\u001b[39;00m\n\u001b[0;32m-> 1030\u001b[0m     \u001b[38;5;28;43mself\u001b[39;49m\u001b[38;5;241;43m.\u001b[39;49m\u001b[43mcalculate_Ax\u001b[49m\u001b[43m(\u001b[49m\u001b[38;5;28;43mself\u001b[39;49m\u001b[38;5;241;43m.\u001b[39;49m\u001b[43mAp_dev\u001b[49m\u001b[43m[\u001b[49m\u001b[38;5;241;43m0\u001b[39;49m\u001b[43m:\u001b[49m\u001b[38;5;28;43mself\u001b[39;49m\u001b[38;5;241;43m.\u001b[39;49m\u001b[43mn_cells\u001b[49m\u001b[43m]\u001b[49m\u001b[43m,\u001b[49m\u001b[43m \u001b[49m\u001b[38;5;28;43mself\u001b[39;49m\u001b[38;5;241;43m.\u001b[39;49m\u001b[43mp_dev\u001b[49m\u001b[43m[\u001b[49m\u001b[38;5;241;43m0\u001b[39;49m\u001b[43m:\u001b[49m\u001b[38;5;28;43mself\u001b[39;49m\u001b[38;5;241;43m.\u001b[39;49m\u001b[43mn_cells\u001b[49m\u001b[43m]\u001b[49m\u001b[43m,\u001b[49m\u001b[43m \u001b[49m\u001b[43mdt\u001b[49m\u001b[43m,\u001b[49m\u001b[43m \u001b[49m\u001b[43malpha\u001b[49m\u001b[43m)\u001b[49m\n\u001b[1;32m   1032\u001b[0m     \u001b[38;5;66;03m# p^TAp\u001b[39;00m\n\u001b[1;32m   1033\u001b[0m     pAp \u001b[38;5;241m=\u001b[39m \u001b[38;5;28mself\u001b[39m\u001b[38;5;241m.\u001b[39mvdot(\u001b[38;5;28mself\u001b[39m\u001b[38;5;241m.\u001b[39mp_dev[\u001b[38;5;241m0\u001b[39m:\u001b[38;5;28mself\u001b[39m\u001b[38;5;241m.\u001b[39mn_cells], \u001b[38;5;28mself\u001b[39m\u001b[38;5;241m.\u001b[39mAp_dev[\u001b[38;5;241m0\u001b[39m:\u001b[38;5;28mself\u001b[39m\u001b[38;5;241m.\u001b[39mn_cells])\u001b[38;5;241m.\u001b[39mget()\n",
      "File \u001b[0;32m~/miniconda3/envs/symbac/lib/python3.9/site-packages/CellModeller/Biophysics/BacterialModels/CLBacterium.py:951\u001b[0m, in \u001b[0;36mCLBacterium.calculate_Ax\u001b[0;34m(self, Ax, x, dt, alpha)\u001b[0m\n\u001b[1;32m    939\u001b[0m \u001b[38;5;28;01mdef\u001b[39;00m \u001b[38;5;21mcalculate_Ax\u001b[39m(\u001b[38;5;28mself\u001b[39m, Ax, x, dt, alpha):\n\u001b[1;32m    941\u001b[0m     \u001b[38;5;28mself\u001b[39m\u001b[38;5;241m.\u001b[39mprogram\u001b[38;5;241m.\u001b[39mcalculate_Bx(\u001b[38;5;28mself\u001b[39m\u001b[38;5;241m.\u001b[39mqueue,\n\u001b[1;32m    942\u001b[0m                               (\u001b[38;5;28mself\u001b[39m\u001b[38;5;241m.\u001b[39mn_cells, \u001b[38;5;28mself\u001b[39m\u001b[38;5;241m.\u001b[39mmax_contacts),\n\u001b[1;32m    943\u001b[0m                               \u001b[38;5;28;01mNone\u001b[39;00m,\n\u001b[0;32m   (...)\u001b[0m\n\u001b[1;32m    949\u001b[0m                               x\u001b[38;5;241m.\u001b[39mdata,\n\u001b[1;32m    950\u001b[0m                               \u001b[38;5;28mself\u001b[39m\u001b[38;5;241m.\u001b[39mMx_dev\u001b[38;5;241m.\u001b[39mdata)\u001b[38;5;241m.\u001b[39mwait()\n\u001b[0;32m--> 951\u001b[0m     \u001b[38;5;28;43mself\u001b[39;49m\u001b[38;5;241;43m.\u001b[39;49m\u001b[43mprogram\u001b[49m\u001b[38;5;241;43m.\u001b[39;49m\u001b[43mcalculate_BTBx\u001b[49m\u001b[43m(\u001b[49m\u001b[38;5;28;43mself\u001b[39;49m\u001b[38;5;241;43m.\u001b[39;49m\u001b[43mqueue\u001b[49m\u001b[43m,\u001b[49m\n\u001b[1;32m    952\u001b[0m \u001b[43m                                \u001b[49m\u001b[43m(\u001b[49m\u001b[38;5;28;43mself\u001b[39;49m\u001b[38;5;241;43m.\u001b[39;49m\u001b[43mn_cells\u001b[49m\u001b[43m,\u001b[49m\u001b[43m)\u001b[49m\u001b[43m,\u001b[49m\n\u001b[1;32m    953\u001b[0m \u001b[43m                                \u001b[49m\u001b[38;5;28;43;01mNone\u001b[39;49;00m\u001b[43m,\u001b[49m\n\u001b[1;32m    954\u001b[0m \u001b[43m                                \u001b[49m\u001b[43mnumpy\u001b[49m\u001b[38;5;241;43m.\u001b[39;49m\u001b[43mint32\u001b[49m\u001b[43m(\u001b[49m\u001b[38;5;28;43mself\u001b[39;49m\u001b[38;5;241;43m.\u001b[39;49m\u001b[43mmax_contacts\u001b[49m\u001b[43m)\u001b[49m\u001b[43m,\u001b[49m\n\u001b[1;32m    955\u001b[0m \u001b[43m                                \u001b[49m\u001b[38;5;28;43mself\u001b[39;49m\u001b[38;5;241;43m.\u001b[39;49m\u001b[43mcell_n_cts_dev\u001b[49m\u001b[38;5;241;43m.\u001b[39;49m\u001b[43mdata\u001b[49m\u001b[43m,\u001b[49m\n\u001b[1;32m    956\u001b[0m \u001b[43m                                \u001b[49m\u001b[38;5;28;43mself\u001b[39;49m\u001b[38;5;241;43m.\u001b[39;49m\u001b[43mn_cell_tos_dev\u001b[49m\u001b[38;5;241;43m.\u001b[39;49m\u001b[43mdata\u001b[49m\u001b[43m,\u001b[49m\n\u001b[1;32m    957\u001b[0m \u001b[43m                                \u001b[49m\u001b[38;5;28;43mself\u001b[39;49m\u001b[38;5;241;43m.\u001b[39;49m\u001b[43mcell_tos_dev\u001b[49m\u001b[38;5;241;43m.\u001b[39;49m\u001b[43mdata\u001b[49m\u001b[43m,\u001b[49m\n\u001b[1;32m    958\u001b[0m \u001b[43m                                \u001b[49m\u001b[38;5;28;43mself\u001b[39;49m\u001b[38;5;241;43m.\u001b[39;49m\u001b[43mfr_ents_dev\u001b[49m\u001b[38;5;241;43m.\u001b[39;49m\u001b[43mdata\u001b[49m\u001b[43m,\u001b[49m\n\u001b[1;32m    959\u001b[0m \u001b[43m                                \u001b[49m\u001b[38;5;28;43mself\u001b[39;49m\u001b[38;5;241;43m.\u001b[39;49m\u001b[43mto_ents_dev\u001b[49m\u001b[38;5;241;43m.\u001b[39;49m\u001b[43mdata\u001b[49m\u001b[43m,\u001b[49m\n\u001b[1;32m    960\u001b[0m \u001b[43m                                \u001b[49m\u001b[38;5;28;43mself\u001b[39;49m\u001b[38;5;241;43m.\u001b[39;49m\u001b[43mMx_dev\u001b[49m\u001b[38;5;241;43m.\u001b[39;49m\u001b[43mdata\u001b[49m\u001b[43m,\u001b[49m\n\u001b[1;32m    961\u001b[0m \u001b[43m                                \u001b[49m\u001b[43mAx\u001b[49m\u001b[38;5;241;43m.\u001b[39;49m\u001b[43mdata\u001b[49m\u001b[43m)\u001b[49m\u001b[38;5;241m.\u001b[39mwait()\n\u001b[1;32m    962\u001b[0m     \u001b[38;5;66;03m# Tikhonov test\u001b[39;00m\n\u001b[1;32m    963\u001b[0m     \u001b[38;5;66;03m#self.vaddkx(Ax, numpy.float32(0.01), Ax, x)\u001b[39;00m\n\u001b[1;32m    964\u001b[0m \n\u001b[1;32m    965\u001b[0m     \u001b[38;5;66;03m# Energy mimizing regularization\u001b[39;00m\n\u001b[1;32m    966\u001b[0m     \u001b[38;5;28mself\u001b[39m\u001b[38;5;241m.\u001b[39mprogram\u001b[38;5;241m.\u001b[39mcalculate_Mx(\u001b[38;5;28mself\u001b[39m\u001b[38;5;241m.\u001b[39mqueue,\n\u001b[1;32m    967\u001b[0m                                   (\u001b[38;5;28mself\u001b[39m\u001b[38;5;241m.\u001b[39mn_cells,),\n\u001b[1;32m    968\u001b[0m                                   \u001b[38;5;28;01mNone\u001b[39;00m,\n\u001b[0;32m   (...)\u001b[0m\n\u001b[1;32m    974\u001b[0m                                   x\u001b[38;5;241m.\u001b[39mdata,\n\u001b[1;32m    975\u001b[0m                                   \u001b[38;5;28mself\u001b[39m\u001b[38;5;241m.\u001b[39mMx_dev\u001b[38;5;241m.\u001b[39mdata)\u001b[38;5;241m.\u001b[39mwait()\n",
      "File \u001b[0;32m~/miniconda3/envs/symbac/lib/python3.9/site-packages/pyopencl/__init__.py:901\u001b[0m, in \u001b[0;36m_add_functionality.<locals>.kernel_call\u001b[0;34m(self, queue, global_size, local_size, *args, **kwargs)\u001b[0m\n\u001b[1;32m    895\u001b[0m \u001b[38;5;28;01mdef\u001b[39;00m \u001b[38;5;21mkernel_call\u001b[39m(\u001b[38;5;28mself\u001b[39m, queue, global_size, local_size, \u001b[38;5;241m*\u001b[39margs, \u001b[38;5;241m*\u001b[39m\u001b[38;5;241m*\u001b[39mkwargs):\n\u001b[1;32m    896\u001b[0m     \u001b[38;5;66;03m# __call__ can't be overridden directly, so we need this\u001b[39;00m\n\u001b[1;32m    897\u001b[0m     \u001b[38;5;66;03m# trampoline hack.\u001b[39;00m\n\u001b[1;32m    898\u001b[0m \n\u001b[1;32m    899\u001b[0m     \u001b[38;5;66;03m# Note: This is only used for the generic __call__, before\u001b[39;00m\n\u001b[1;32m    900\u001b[0m     \u001b[38;5;66;03m# kernel_set_scalar_arg_dtypes is called.\u001b[39;00m\n\u001b[0;32m--> 901\u001b[0m     \u001b[38;5;28;01mreturn\u001b[39;00m \u001b[38;5;28;43mself\u001b[39;49m\u001b[38;5;241;43m.\u001b[39;49m\u001b[43m_enqueue\u001b[49m\u001b[43m(\u001b[49m\u001b[38;5;28;43mself\u001b[39;49m\u001b[43m,\u001b[49m\u001b[43m \u001b[49m\u001b[43mqueue\u001b[49m\u001b[43m,\u001b[49m\u001b[43m \u001b[49m\u001b[43mglobal_size\u001b[49m\u001b[43m,\u001b[49m\u001b[43m \u001b[49m\u001b[43mlocal_size\u001b[49m\u001b[43m,\u001b[49m\u001b[43m \u001b[49m\u001b[38;5;241;43m*\u001b[39;49m\u001b[43margs\u001b[49m\u001b[43m,\u001b[49m\u001b[43m \u001b[49m\u001b[38;5;241;43m*\u001b[39;49m\u001b[38;5;241;43m*\u001b[39;49m\u001b[43mkwargs\u001b[49m\u001b[43m)\u001b[49m\n",
      "File \u001b[0;32m<pyopencl invoker for 'calculate_BTBx'>:8\u001b[0m, in \u001b[0;36menqueue_knl_calculate_BTBx\u001b[0;34m(self, queue, global_size, local_size, arg0, arg1, arg2, arg3, arg4, arg5, arg6, arg7, global_offset, g_times_l, allow_empty_ndrange, wait_for)\u001b[0m\n",
      "\u001b[0;31mKeyboardInterrupt\u001b[0m: "
     ]
    }
   ],
   "source": [
    "colonysim.run_cellmodeller_sim(num_sim=1)"
   ]
  },
  {
   "cell_type": "code",
   "execution_count": null,
   "metadata": {},
   "outputs": [],
   "source": [
    "colonysim.get_simulation_dirs()"
   ]
  },
  {
   "cell_type": "code",
   "execution_count": null,
   "metadata": {
    "tags": []
   },
   "outputs": [],
   "source": [
    "pickles = colonysim.get_simulation_pickles()"
   ]
  },
  {
   "cell_type": "code",
   "execution_count": null,
   "metadata": {},
   "outputs": [],
   "source": [
    "colonysim.get_max_scene_size()"
   ]
  },
  {
   "cell_type": "code",
   "execution_count": null,
   "metadata": {
    "tags": []
   },
   "outputs": [],
   "source": [
    "colonysim.draw_simulation_OPL(n_jobs = -1, FL=True, density = 0.1, random_distribution = \"uniform\", distribution_args = (0.9, 3))"
   ]
  },
  {
   "cell_type": "code",
   "execution_count": null,
   "metadata": {},
   "outputs": [],
   "source": [
    "from SyMBac.colony_renderer import ColonyRenderer"
   ]
  },
  {
   "cell_type": "code",
   "execution_count": null,
   "metadata": {},
   "outputs": [],
   "source": [
    "from SyMBac.PSF import PSF_generator\n",
    "from SyMBac.renderer import convolve_rescale\n",
    "from skimage.util import random_noise\n",
    "from scipy.ndimage import gaussian_filter\n",
    "\n",
    "from skimage.exposure import rescale_intensity\n"
   ]
  },
  {
   "cell_type": "code",
   "execution_count": null,
   "metadata": {},
   "outputs": [],
   "source": [
    "my_kernel = PSF_generator(\n",
    "    radius = 50, \n",
    "    wavelength = 0.75, \n",
    "    NA = 1.45, \n",
    "    n = 1.4, \n",
    "    resize_amount = 3, \n",
    "    pix_mic_conv = 0.065, \n",
    "    apo_sigma = 8, \n",
    "    mode=\"simple fluo\", \n",
    "    condenser = \"Ph3\",\n",
    "    offset = 0.02\n",
    ")\n",
    "my_kernel.calculate_PSF()\n",
    "my_kernel.plot_PSF()\n"
   ]
  },
  {
   "cell_type": "code",
   "execution_count": null,
   "metadata": {},
   "outputs": [],
   "source": [
    "my_renderer = ColonyRenderer(colonysim, my_kernel)"
   ]
  },
  {
   "cell_type": "code",
   "execution_count": null,
   "metadata": {},
   "outputs": [],
   "source": [
    "test_img = my_renderer.render_scene(-1)"
   ]
  },
  {
   "cell_type": "code",
   "execution_count": null,
   "metadata": {},
   "outputs": [],
   "source": [
    "mask = my_renderer.mask_loader(-1)"
   ]
  },
  {
   "cell_type": "code",
   "execution_count": null,
   "metadata": {},
   "outputs": [],
   "source": [
    "plt.imshow(test_img, cmap=\"Greys_r\")"
   ]
  },
  {
   "cell_type": "code",
   "execution_count": null,
   "metadata": {},
   "outputs": [],
   "source": [
    "plt.imshow(np.roll(test_img, [0,], axis=[1]), cmap=\"Greys_r\")"
   ]
  },
  {
   "cell_type": "code",
   "execution_count": null,
   "metadata": {},
   "outputs": [],
   "source": [
    "my_renderer.generate_random_samples(1000, 0.2, \"training_data\")"
   ]
  },
  {
   "cell_type": "code",
   "execution_count": null,
   "metadata": {},
   "outputs": [],
   "source": [
    "import random\n",
    "random.choice([(0, mask.shape[0]), (1, mask.shape[1]), ([0,1], mask.shape)])"
   ]
  },
  {
   "cell_type": "code",
   "execution_count": null,
   "metadata": {},
   "outputs": [],
   "source": []
  }
 ],
 "metadata": {
  "kernelspec": {
   "display_name": "symbac",
   "language": "python",
   "name": "symbac"
  },
  "language_info": {
   "codemirror_mode": {
    "name": "ipython",
    "version": 3
   },
   "file_extension": ".py",
   "mimetype": "text/x-python",
   "name": "python",
   "nbconvert_exporter": "python",
   "pygments_lexer": "ipython3",
   "version": "3.9.12"
  },
  "vscode": {
   "interpreter": {
    "hash": "d73e5fda5dcb2575a75a56ed9fbeea47b5fa7fb8337a6ef0dda72b5e90aab48f"
   }
  },
  "widgets": {
   "application/vnd.jupyter.widget-state+json": {
    "state": {},
    "version_major": 2,
    "version_minor": 0
   }
  }
 },
 "nbformat": 4,
 "nbformat_minor": 4
}
