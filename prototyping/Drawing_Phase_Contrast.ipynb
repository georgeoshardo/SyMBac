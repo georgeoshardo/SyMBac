{
 "cells": [
  {
   "cell_type": "code",
   "execution_count": 13,
   "id": "established-embassy",
   "metadata": {},
   "outputs": [],
   "source": [
    "import raster_geometry as rg\n",
    "import numpy as np\n",
    "import matplotlib.pyplot as plt\n",
    "from skimage.transform import rotate\n",
    "import pickle\n",
    "import sys\n",
    "from skimage.transform import rescale, resize, downscale_local_mean\n",
    "sys.path.insert(0,'/home/georgeos/Documents/GitHub/SYMPTOMM2')\n",
    "import itertools\n",
    "from joblib import Parallel, delayed\n",
    "from skimage.morphology import opening\n",
    "from PIL import Image       \n",
    "import pymunk\n",
    "from skimage.transform import PiecewiseAffineTransform, warp\n",
    "from skimage import data\n",
    "from copy import deepcopy\n",
    "from tqdm import tqdm\n",
    "import pandas as pd\n",
    "from skimage import draw\n",
    "#import napari\n",
    "from itertools import combinations\n",
    "from SYMPTOMM import PSF\n",
    "from matplotlib_scalebar.scalebar import ScaleBar\n",
    "from cupyx.scipy.ndimage import convolve as cuconvolve\n",
    "import tifffile\n",
    "from skimage.exposure import match_histograms\n",
    "import cupy as cp\n",
    "from scipy.optimize import dual_annealing, shgo\n",
    "from skimage.transform import resize\n",
    "from skimage.metrics import structural_similarity as ssim\n",
    "from scipy.optimize import basinhopping\n",
    "import image_similarity_measures\n",
    "from image_similarity_measures.quality_metrics import rmse, psnr, fsim, issm, sre, sam, uiq\n",
    "from SYMPTOMM.general_drawing import *\n",
    "from SYMPTOMM.phase_contrast_drawing import *"
   ]
  },
  {
   "cell_type": "code",
   "execution_count": 2,
   "id": "agricultural-casino",
   "metadata": {},
   "outputs": [],
   "source": [
    "with open(\"/home/georgeos/Storage/Dropbox (Cambridge University)/PhD_Georgeos_Hardo/ML_based_segmentation_results/40x_Ph2_test_1.5/output_pickles/cell_timeseries_short_trench.p\", \"rb\") as f:\n",
    "    cell_timeseries = pickle.load(f)\n",
    "with open(\"/home/georgeos/Storage/Dropbox (Cambridge University)/PhD_Georgeos_Hardo/ML_based_segmentation_results/40x_Ph2_test_1.5/output_pickles/space_timeseries_short_trench.p\", \"rb\") as f:\n",
    "    space = pickle.load(f)\n"
   ]
  },
  {
   "cell_type": "code",
   "execution_count": 5,
   "id": "announced-mistress",
   "metadata": {},
   "outputs": [],
   "source": [
    "main_segments = get_trench_segments(space)"
   ]
  },
  {
   "cell_type": "code",
   "execution_count": 8,
   "id": "likely-paris",
   "metadata": {},
   "outputs": [
    {
     "name": "stderr",
     "output_type": "stream",
     "text": [
      "100%|██████████| 399/399 [03:02<00:00,  2.19it/s]\n"
     ]
    }
   ],
   "source": [
    "ID_props = generate_curve_props(cell_timeseries)\n",
    "cell_timeseries_properties = Parallel(n_jobs=14)(delayed(gen_cell_props_for_draw)(a, ID_props) for a in cell_timeseries)\n",
    "do_transformation = False\n",
    "scenes = Parallel(n_jobs=14)(delayed(draw_scene)(cell_properties, False) for cell_properties in tqdm(cell_timeseries_properties))"
   ]
  },
  {
   "cell_type": "code",
   "execution_count": 92,
   "id": "necessary-source",
   "metadata": {},
   "outputs": [
    {
     "data": {
      "text/plain": [
       "array([[30., 30., 30., ..., 30., 30., 30.],\n",
       "       [30., 30., 30., ..., 30., 30., 30.],\n",
       "       [30., 30., 30., ..., 30., 30., 30.],\n",
       "       ...,\n",
       "       [30., 30., 30., ..., 30., 30., 30.],\n",
       "       [30., 30., 30., ..., 30., 30., 30.],\n",
       "       [30., 30., 30., ..., 30., 30., 30.]])"
      ]
     },
     "execution_count": 92,
     "metadata": {},
     "output_type": "execute_result"
    }
   ],
   "source": [
    "trench_multiplier = 30\n",
    "cell_multiplier = 2\n",
    "background_multiplier = 10\n",
    "offset = 50\n",
    "generate_PC_OPL(main_segments, offset, scenes[0][0], trench_multiplier,cell_multiplier,background_multiplier)"
   ]
  },
  {
   "cell_type": "code",
   "execution_count": null,
   "id": "fancy-ceremony",
   "metadata": {},
   "outputs": [],
   "source": [
    "condensers = get_condensers()\n",
    "\n",
    "W, R, diameter = condensers[\"Ph2\"]\n",
    "scale = 0.108379937 / 3 #0.35 #micron per pixel\n",
    "min_sigma = 0.42*0.6/2 / scale # micron\n",
    "kernel= get_phase_contrast_kernel(R, W, 50, scale, 5, 15)\n",
    "scalebar = ScaleBar(scale, 'um')\n",
    "plt.figure(figsize=(5.1,5.1))\n",
    "plt.gca().add_artist(scalebar)\n",
    "plt.imshow(kernel,cmap=\"Greys_r\")\n",
    "plt.axis(\"off\")\n",
    "plt.title(\"Phase Contrast\")\n",
    "plt.show()\n",
    "kernel = cp.array(kernel)\n",
    "kernel_np = kernel.get()\n",
    "plt.figure(figsize = (15,10))\n",
    "plt.plot(np.arange(-50,51)*scale,kernel_np[50,:])\n",
    "plt.show()"
   ]
  }
 ],
 "metadata": {
  "kernelspec": {
   "display_name": "Python 3",
   "language": "python",
   "name": "python3"
  },
  "language_info": {
   "codemirror_mode": {
    "name": "ipython",
    "version": 3
   },
   "file_extension": ".py",
   "mimetype": "text/x-python",
   "name": "python",
   "nbconvert_exporter": "python",
   "pygments_lexer": "ipython3",
   "version": "3.9.1"
  }
 },
 "nbformat": 4,
 "nbformat_minor": 5
}
