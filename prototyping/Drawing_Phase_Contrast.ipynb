{
 "cells": [
  {
   "cell_type": "code",
   "execution_count": 1,
   "id": "8403999f",
   "metadata": {
    "collapsed": false,
    "jupyter": {
     "outputs_hidden": false
    },
    "pycharm": {
     "name": "#%%\n"
    }
   },
   "outputs": [],
   "source": [
    "%gui qt"
   ]
  },
  {
   "cell_type": "code",
   "execution_count": 2,
   "id": "3704125e",
   "metadata": {},
   "outputs": [
    {
     "name": "stderr",
     "output_type": "stream",
     "text": [
      "/home/georgeos/anaconda3/envs/SYMPTOMM/lib/python3.9/site-packages/napari/layers/labels/labels.py:382: UserWarning: Float dtypes are not supported for Labels layers. Converting data to integers...\n",
      "  warnings.warn(\n",
      "/home/georgeos/anaconda3/envs/SYMPTOMM/lib/python3.9/site-packages/napari/layers/labels/labels.py:382: UserWarning: Float dtypes are not supported for Labels layers. Converting data to integers...\n",
      "  warnings.warn(\n",
      "/home/georgeos/anaconda3/envs/SYMPTOMM/lib/python3.9/site-packages/napari/layers/labels/labels.py:382: UserWarning: Float dtypes are not supported for Labels layers. Converting data to integers...\n",
      "  warnings.warn(\n"
     ]
    }
   ],
   "source": [
    "import sys\n",
    "sys.path.insert(0,'/home/georgeos/Documents/GitHub/SYMPTOMM2')\n",
    "from SYMPTOMM.cell import Cell\n",
    "from SYMPTOMM.scene_functions import create_space, step_and_update\n",
    "from SYMPTOMM.trench_geometry import trench_creator\n",
    "from SYMPTOMM.phase_contrast_drawing import *\n",
    "import napari\n",
    "import tifffile\n",
    "import numpy as np\n",
    "from skimage.exposure import rescale_intensity\n",
    "from skimage.transform import rescale, resize, downscale_local_mean\n",
    "\n",
    "div_odd = lambda n: (n//2, n//2 + 1)\n",
    "\n",
    "\n",
    "real_image = tifffile.imread(\"/home/georgeos/Storage/Dropbox (Cambridge University)/PhD_Georgeos_Hardo/ML_based_segmentation_results/40x_Ph2_test_1.5/top_trenches_PC/trench_{}/T_{}.tif\".format(\n",
    "    str(np.random.randint(1,56)).zfill(2),\n",
    "    str(np.random.randint(20,25)).zfill(3)))\n",
    "\n",
    "\n",
    "\n",
    "viewer = napari.view_image(real_image, colormap='Greys_r')\n",
    "background_label = viewer.add_labels(np.zeros(real_image.shape), name = \"background\")\n",
    "cell_label = viewer.add_labels(np.zeros(real_image.shape), name = \"cell\")\n",
    "trench_label = viewer.add_labels(np.zeros(real_image.shape), name = \"trench\")"
   ]
  },
  {
   "cell_type": "code",
   "execution_count": 3,
   "id": "11affddf",
   "metadata": {
    "collapsed": false,
    "jupyter": {
     "outputs_hidden": false
    },
    "pycharm": {
     "name": "#%%\n"
    }
   },
   "outputs": [],
   "source": [
    "def run_simulation(trench_length, trench_width, cell_max_length, cell_width):\n",
    "    space = create_space()\n",
    "    space.gravity = 0, -0.3\n",
    "    dt = 1/100\n",
    "\n",
    "\n",
    "    pix_mic_conv = 10 # pixels per micron\n",
    "    scale_factor = 3 * pix_mic_conv\n",
    "\n",
    "    trench_length = trench_length*scale_factor\n",
    "    trench_width = trench_width*scale_factor\n",
    "    trench_creator(trench_width,trench_length,(35,0),space) # Coordinates of bottom left corner of the trench\n",
    "    #trench_creator(35,trench_length,(35*3,0),space) # Coordinates of bottom left corner of the trench\n",
    "    #trench_creator(35,trench_length,(35*5,0),space) # Coordinates of bottom left corner of the trench\n",
    "\n",
    "    cell1 = Cell(\n",
    "        length = cell_max_length*scale_factor,  \n",
    "        width = cell_width*scale_factor, \n",
    "        resolution = 60, \n",
    "        position = (20+35,40), \n",
    "        angle = 0.8, \n",
    "        space = space,\n",
    "        dt = 1/60,\n",
    "        growth_rate_constant = 1,\n",
    "        max_length = cell_max_length*scale_factor,\n",
    "        max_length_mean =cell_max_length*scale_factor,\n",
    "        max_length_var = 0.1*np.sqrt(scale_factor),\n",
    "        width_var = 0.03*np.sqrt(scale_factor),\n",
    "        width_mean = cell_width*scale_factor\n",
    "    )\n",
    "\n",
    "\n",
    "    cells = [cell1]\n",
    "    cell_timeseries = []\n",
    "    phys_iters = 200\n",
    "    for x in range(300):\n",
    "        cells = step_and_update(dt=dt, cells=cells, space=space, phys_iters=phys_iters,ylim=trench_length)\n",
    "        if x > 250:\n",
    "            cell_timeseries.append(deepcopy(cells))\n",
    "    return cell_timeseries, space\n",
    "\n",
    "\n",
    "condensers = get_condensers()\n",
    "W, R, diameter = condensers[\"Ph2\"]\n",
    "scale = 0.108379937 / 3 #0.35 #micron per pixel\n",
    "min_sigma = 0.42*0.6/2 / scale # micron\n",
    "#kernel= get_phase_contrast_kernel(R, W, 50, scale, 5, 15, 0.6)\n",
    "#scalebar = ScaleBar(scale, 'um')\n",
    "#plt.figure(figsize=(5.1,5.1))\n",
    "#plt.gca().add_artist(scalebar)\n",
    "#plt.imshow(kernel,cmap=\"Greys_r\")\n",
    "#plt.axis(\"off\")\n",
    "#plt.title(\"Phase Contrast\")\n",
    "#plt.show()\n",
    "#kernel = cp.array(kernel)\n",
    "#kernel_np = kernel.get()\n",
    "#plt.figure(figsize = (15,10))\n",
    "#plt.plot(np.arange(-50,51)*scale,kernel_np[50,:])\n",
    "#plt.show()"
   ]
  },
  {
   "cell_type": "code",
   "execution_count": 4,
   "id": "e81a7c1b",
   "metadata": {},
   "outputs": [
    {
     "name": "stderr",
     "output_type": "stream",
     "text": [
      "100%|██████████| 14/14 [00:00<00:00, 9583.85it/s]\n"
     ]
    }
   ],
   "source": [
    "cell_timeseries, space = run_simulation(trench_length=14.9, trench_width=1.4, cell_max_length=5.5, cell_width=0.9)\n",
    "main_segments = get_trench_segments(space)\n",
    "ID_props = generate_curve_props(cell_timeseries)\n",
    "cell_timeseries_properties = Parallel(n_jobs=14)(delayed(gen_cell_props_for_draw)(a, ID_props) for a in cell_timeseries[-15:-1])\n",
    "do_transformation = True\n",
    "offset = 80\n",
    "scenes = Parallel(n_jobs=14)(delayed(draw_scene)(cell_properties, do_transformation) for cell_properties in tqdm(cell_timeseries_properties))\n",
    "#OPL_scenes = [generate_PC_OPL(main_segments, offset, scene[0], trench_multiplier,cell_multiplier,background_multiplier) for scene in scenes]\n",
    "#OPL_scenes_convolved = np.array([convolve_rescale(OPL_scene,kernel,1) for OPL_scene in OPL_scenes])"
   ]
  },
  {
   "cell_type": "code",
   "execution_count": 5,
   "id": "30aa5ba2",
   "metadata": {},
   "outputs": [],
   "source": [
    "#make convolved image and real image same shape\n",
    "def make_images_same_shape(real_image,synthetic_image, rescale = True):\n",
    "    x_diff = synthetic_image.shape[1] - real_image.shape[1]\n",
    "    remove_from_left, remove_from_right = div_odd(x_diff)\n",
    "    y_diff = synthetic_image.shape[0] - real_image.shape[0]\n",
    "    if y_diff > 0:\n",
    "        synthetic_image = synthetic_image[y_diff:,remove_from_left-1:-remove_from_right]\n",
    "    else:\n",
    "        synthetic_image = synthetic_image[:,remove_from_left-1:-remove_from_right]\n",
    "        real_image = real_image[abs(y_diff):,:]\n",
    "\n",
    "    if rescale:\n",
    "        real_image = rescale_intensity(real_image, out_range=np.float32)\n",
    "        synthetic_image = rescale_intensity(synthetic_image, out_range=np.float32)\n",
    "    return real_image, synthetic_image"
   ]
  },
  {
   "cell_type": "code",
   "execution_count": 6,
   "id": "9b2a629d",
   "metadata": {},
   "outputs": [],
   "source": [
    "def get_similarity_metrics(real_image,synthetic_image):\n",
    "    synthetic_image = match_histograms(synthetic_image, real_image, multichannel=False)\n",
    "    synthetic_image = resize(synthetic_image,real_image.shape,clip=False,preserve_range=False,anti_aliasing=None)\n",
    "    synthetic_image = synthetic_image/np.max(synthetic_image)\n",
    "    ssim_real = ssim(synthetic_image, real_image)\n",
    "    intersection = return_intersection_between_image_hists(synthetic_image, real_image, 100)\n",
    "    #sims \n",
    "    synthetic_image_ = deepcopy(synthetic_image)\n",
    "    synthetic_image_.shape += (1,)\n",
    "    \n",
    "    real_image_ = deepcopy(real_image)\n",
    "    real_image_.shape += (1,)\n",
    "    _fsim = fsim(synthetic_image_,real_image_)\n",
    "    _issm = issm(synthetic_image_,real_image_)\n",
    "    _sam = sam(synthetic_image_,real_image_)\n",
    "    _sre = sre(synthetic_image_,real_image_)\n",
    "    objs = [ssim_real, 0.5*intersection, _fsim, _issm, _sam, _sre/20]\n",
    "    return objs"
   ]
  },
  {
   "cell_type": "code",
   "execution_count": 50,
   "id": "3fe1cd1d-318e-4ff0-b021-8824d1085bcf",
   "metadata": {},
   "outputs": [],
   "source": [
    "def generate_PC_OPL(main_segments, offset, scene, mask, trench_multiplier,cell_multiplier,background_multiplier):\n",
    "    def get_OPL_image():\n",
    "        segment_1_top_left = (0 + offset, int(main_segments.iloc[0][\"bb\"][0] + offset))\n",
    "        segment_1_bottom_right = (int(main_segments.iloc[0][\"bb\"][3] + offset), int(main_segments.iloc[0][\"bb\"][2] + offset))\n",
    "\n",
    "        segment_2_top_left = (0 + offset, int(main_segments.iloc[1][\"bb\"][0] + offset))\n",
    "        segment_2_bottom_right = (int(main_segments.iloc[1][\"bb\"][3] + offset), int(main_segments.iloc[1][\"bb\"][2] + offset))\n",
    "\n",
    "        test_scene = np.zeros(scene.shape) + background_multiplier\n",
    "        rr, cc = draw.rectangle(start = segment_1_top_left, end = segment_1_bottom_right, shape = test_scene.shape)\n",
    "        test_scene[rr,cc] = 1 * trench_multiplier\n",
    "        rr, cc = draw.rectangle(start = segment_2_top_left, end = segment_2_bottom_right, shape = test_scene.shape)\n",
    "        test_scene[rr,cc] = 1 * trench_multiplier\n",
    "        circ_midpoint_y = (segment_1_top_left[1] + segment_2_bottom_right[1])/2\n",
    "        radius = (segment_1_top_left[1] - offset - (segment_2_bottom_right[1] - offset))/2\n",
    "        circ_midpoint_x = (offset) + radius\n",
    "\n",
    "        rr, cc = draw.rectangle(start = segment_2_top_left, end = (circ_midpoint_x,segment_1_top_left[1]), shape = test_scene.shape)\n",
    "        test_scene[rr.astype(int),cc.astype(int)] = 1 * trench_multiplier\n",
    "        rr, cc = draw.disk(center = (circ_midpoint_x, circ_midpoint_y), radius = radius, shape = test_scene.shape)\n",
    "        rr_semi = rr[rr < (circ_midpoint_x + 1)]\n",
    "        cc_semi = cc[rr < (circ_midpoint_x + 1)]\n",
    "        test_scene[rr_semi,cc_semi] = background_multiplier\n",
    "        no_cells = deepcopy(test_scene)\n",
    "        test_scene += scene * cell_multiplier\n",
    "        test_scene = test_scene[segment_2_top_left[0]:segment_1_bottom_right[0],segment_2_top_left[1]:segment_1_bottom_right[1]]\n",
    "        mask_resized = mask[segment_2_top_left[0]:segment_1_bottom_right[0],segment_2_top_left[1]:segment_1_bottom_right[1]]\n",
    "        \n",
    "        no_cells = no_cells[segment_2_top_left[0]:segment_1_bottom_right[0],segment_2_top_left[1]:segment_1_bottom_right[1]]\n",
    "        expanded_scene_no_cells = np.zeros((int(no_cells.shape[0]*1.2), no_cells.shape[1]*2)) + trench_multiplier\n",
    "        expanded_scene_no_cells[expanded_scene_no_cells.shape[0] - no_cells.shape[0]:,int(no_cells.shape[1]/2):int(no_cells.shape[1]/2) + no_cells.shape[1]] = no_cells\n",
    "\n",
    "        expanded_scene = np.zeros((int(test_scene.shape[0]*1.2), test_scene.shape[1]*2)) + trench_multiplier\n",
    "        expanded_scene[expanded_scene.shape[0] - test_scene.shape[0]:,int(test_scene.shape[1]/2):int(test_scene.shape[1]/2) + test_scene.shape[1]] = test_scene\n",
    "        \n",
    "        expanded_mask = np.zeros((int(test_scene.shape[0]*1.2), test_scene.shape[1]*2))\n",
    "        expanded_mask[expanded_mask.shape[0] - test_scene.shape[0]:,int(test_scene.shape[1]/2):int(test_scene.shape[1]/2) + test_scene.shape[1]] = mask_resized\n",
    "        \n",
    "        return expanded_scene, expanded_scene_no_cells, expanded_mask\n",
    "    expanded_scene, expanded_scene_no_cells, expanded_mask = get_OPL_image()\n",
    "    if expanded_scene is None:\n",
    "        main_segments = main_segments.reindex(index=main_segments.index[::-1])\n",
    "        expanded_scene, expanded_scene_no_cells, expanded_mask = get_OPL_image()\n",
    "    return expanded_scene, expanded_scene_no_cells, expanded_mask\n"
   ]
  },
  {
   "cell_type": "code",
   "execution_count": 111,
   "id": "97ab321d",
   "metadata": {
    "collapsed": false,
    "jupyter": {
     "outputs_hidden": false
    },
    "pycharm": {
     "name": "#%%\n"
    }
   },
   "outputs": [
    {
     "data": {
      "image/png": "[encoded data removed]",
      "text/plain": [
       "<Figure size 432x288 with 1 Axes>"
      ]
     },
     "metadata": {
      "needs_background": "light"
     },
     "output_type": "display_data"
    },
    {
     "data": {
      "image/png": "[encoded data removed]",
      "text/plain": [
       "<Figure size 432x288 with 1 Axes>"
      ]
     },
     "metadata": {
      "needs_background": "light"
     },
     "output_type": "display_data"
    }
   ],
   "source": [
    "trench_multiplier=5\n",
    "cell_multiplier=0.3\n",
    "background_multiplier=0.3\n",
    "\n",
    "\n",
    "expanded_scene, expanded_scene_no_cells, expanded_mask = generate_PC_OPL(\n",
    "    main_segments=main_segments,\n",
    "    offset=50,\n",
    "    scene = scenes[0][0],\n",
    "    mask = scenes[0][1],\n",
    "    trench_multiplier=trench_multiplier,\n",
    "    cell_multiplier=cell_multiplier,\n",
    "    background_multiplier=background_multiplier\n",
    ")\n",
    "\n",
    "\n",
    "resize_amount = 1/scale/10\n",
    "\n",
    "## Creating the synthetic image\n",
    "kernel = get_phase_contrast_kernel(R, W, 50, scale, 5, 6, 0.6)\n",
    "convolved = convolve_rescale(expanded_scene, kernel, resize_amount)\n",
    "real_resize, expanded_resized = make_images_same_shape(real_image,convolved, rescale=True)\n",
    "\n",
    "## getting the cell mask to the right shape\n",
    "expanded_mask_resized = rescale(expanded_mask,1/resize_amount, anti_aliasing=False)\n",
    "real_resize, expanded_mask_resized_reshaped = make_images_same_shape(real_image,expanded_mask_resized, rescale=True)\n",
    "\n",
    "\n",
    "## Getting the trench mask to the right shape\n",
    "\n",
    "\n",
    "plt.imshow(expanded_resized)\n",
    "plt.show()\n",
    "plt.imshow(real_resize)\n",
    "plt.show()"
   ]
  },
  {
   "cell_type": "code",
   "execution_count": 209,
   "id": "d886209b-3b9e-4daf-9161-498fab1ecfa7",
   "metadata": {},
   "outputs": [],
   "source": [
    "def get_images_to_optimise(expanded_scene,expanded_scene_no_cells, real_image, convolved, resize_amount):\n",
    "    expanded_trench_mask = rescale(expanded_scene_no_cells == trench_multiplier, 1/resize_amount, anti_aliasing=False)\n",
    "    real_resize, expanded_trench_mask = make_images_same_shape(real_image,expanded_trench_mask, rescale=True)\n",
    "    just_trench = expanded_trench_mask * expanded_resized\n",
    "    \n",
    "    expanded_cell_pseudo_mask = (expanded_scene - expanded_scene_no_cells).astype(bool)\n",
    "    expanded_cell_pseudo_mask = rescale(expanded_cell_pseudo_mask, 1/resize_amount, anti_aliasing=False)\n",
    "\n",
    "    real_resize, expanded_cell_pseudo_mask = make_images_same_shape(real_image,expanded_cell_pseudo_mask, rescale=True)\n",
    "    just_cells = expanded_cell_pseudo_mask * expanded_resized\n",
    "    \n",
    "    expanded_background_mask = (expanded_scene_no_cells == background_multiplier) ^ (expanded_scene - expanded_scene_no_cells).astype(bool)\n",
    "    expanded_background_mask = rescale(expanded_background_mask, 1/resize_amount, anti_aliasing=False)\n",
    "    real_resize, expanded_background_mask = make_images_same_shape(real_image,expanded_background_mask, rescale=True)\n",
    "    just_background = expanded_background_mask * expanded_resized\n",
    "    \n",
    "    return just_trench, just_cells, just_background"
   ]
  },
  {
   "cell_type": "code",
   "execution_count": 225,
   "id": "0934f74b-56e1-4595-974c-8ee2a28d1fac",
   "metadata": {
    "tags": []
   },
   "outputs": [],
   "source": [
    "just_trench, just_cells, just_background = get_images_to_optimise(expanded_scene,expanded_scene_no_cells, real_image, convolved, resize_amount)"
   ]
  },
  {
   "cell_type": "code",
   "execution_count": null,
   "id": "b0617b70",
   "metadata": {},
   "outputs": [],
   "source": [
    "progress = []\n",
    "def callbackF(x, f, context):\n",
    "    print(x)\n",
    "    progress.append(x)\n",
    "    \n",
    "def callbackSHGo(x):\n",
    "    print(x)\n",
    "    progress.append(x)"
   ]
  },
  {
   "cell_type": "code",
   "execution_count": null,
   "id": "08fbb71d",
   "metadata": {},
   "outputs": [],
   "source": [
    "bounds = list(zip([min_sigma, 1.0, 0.2, 1, 14, 1.0, 3, 0.8], [20.0, 30.0, 5.0, 20.0, 17, 1.8, 6, 1.1]))"
   ]
  },
  {
   "cell_type": "code",
   "execution_count": null,
   "id": "45ff629a",
   "metadata": {},
   "outputs": [],
   "source": [
    "ret = shgo(objective_function, bounds = np.array(bounds),callback=callbackSHGo,options={\"minimize_every_iter\":True})\n",
    "#ret = dual_annealing(objective_function, bounds = np.array(bounds),callback=callbackF,maxiter=1000,initial_temp=5*10**4)"
   ]
  },
  {
   "cell_type": "code",
   "execution_count": null,
   "id": "ef9212a0",
   "metadata": {},
   "outputs": [],
   "source": [
    "ret.x"
   ]
  },
  {
   "cell_type": "code",
   "execution_count": null,
   "id": "2fb3eaf8",
   "metadata": {},
   "outputs": [],
   "source": [
    "optimal_images = objective_function(ret.x, True)"
   ]
  },
  {
   "cell_type": "code",
   "execution_count": null,
   "id": "ad5a5014",
   "metadata": {},
   "outputs": [],
   "source": [
    "plt.imshow(optimal_images[1][0],cmap=\"Greys_r\")"
   ]
  },
  {
   "cell_type": "code",
   "execution_count": null,
   "id": "4dc03a9b",
   "metadata": {},
   "outputs": [],
   "source": [
    "optimal_images[1]"
   ]
  },
  {
   "cell_type": "code",
   "execution_count": null,
   "id": "01ae5122",
   "metadata": {},
   "outputs": [],
   "source": []
  }
 ],
 "metadata": {
  "kernelspec": {
   "display_name": "Python 3",
   "language": "python",
   "name": "python3"
  },
  "language_info": {
   "codemirror_mode": {
    "name": "ipython",
    "version": 3
   },
   "file_extension": ".py",
   "mimetype": "text/x-python",
   "name": "python",
   "nbconvert_exporter": "python",
   "pygments_lexer": "ipython3",
   "version": "3.9.2"
  }
 },
 "nbformat": 4,
 "nbformat_minor": 5
}
