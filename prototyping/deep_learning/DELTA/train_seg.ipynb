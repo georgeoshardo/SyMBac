{
 "cells": [
  {
   "cell_type": "code",
   "execution_count": null,
   "metadata": {},
   "outputs": [],
   "source": [
    "'''\n",
    "This script trains the cell segmentation U-Net\n",
    "\n",
    "@author: jblugagne\n",
    "'''\n",
    "from model import unet_seg\n",
    "from data import trainGenerator_seg\n",
    "from tensorflow.keras.callbacks import ModelCheckpoint\n",
    "\n",
    "# Files:\n",
    "DeLTA_data = '/home/georgeos/Documents/MMSynth_data/FalsePosNeg_HADA/training_data_final/preprocessed/'\n",
    "training_set = DeLTA_data\n",
    "model_file = DeLTA_data + '/unet_moma_seg_multisets.hdf5'\n",
    "\n",
    "# Parameters:\n",
    "target_size = (192, 32)\n",
    "input_size = target_size + (1,)\n",
    "batch_size = 1\n",
    "epochs = 200\n",
    "steps_per_epoch = 250\n",
    "\n",
    "#Data generator:\n",
    "data_gen_args = dict(\n",
    "                    rotation = 0.5,\n",
    "                    shiftX=.05,\n",
    "                    shiftY=.05,\n",
    "                    zoom=.15,\n",
    "                    horizontal_flip=True,\n",
    "                    histogram_voodoo=True,\n",
    "                    illumination_voodoo=True)\n",
    "\n",
    "myGene = trainGenerator_seg(batch_size,\n",
    "                           training_set + 'CROPPED_FILTERED/',\n",
    "                           training_set + 'CROPPED_MASKS/',\n",
    "                           training_set + 'WEIGHTMAPS/',\n",
    "                           augment_params = data_gen_args,\n",
    "                           target_size = target_size)\n",
    "\n",
    "\n",
    "# Define model:\n",
    "model = unet_seg(input_size = input_size)\n",
    "model.summary()\n",
    "model_checkpoint = ModelCheckpoint(model_file, monitor='loss',verbose=1, save_best_only=True)\n",
    "\n",
    "\n",
    "# Train it:\n",
    "model.fit_generator(myGene,steps_per_epoch=steps_per_epoch,epochs=epochs,callbacks=[model_checkpoint])"
   ]
  },
  {
   "cell_type": "code",
   "execution_count": null,
   "metadata": {},
   "outputs": [],
   "source": []
  },
  {
   "cell_type": "code",
   "execution_count": null,
   "metadata": {},
   "outputs": [],
   "source": []
  }
 ],
 "metadata": {
  "kernelspec": {
   "display_name": "Python 3",
   "language": "python",
   "name": "python3"
  },
  "language_info": {
   "codemirror_mode": {
    "name": "ipython",
    "version": 3
   },
   "file_extension": ".py",
   "mimetype": "text/x-python",
   "name": "python",
   "nbconvert_exporter": "python",
   "pygments_lexer": "ipython3",
   "version": "3.7.10"
  }
 },
 "nbformat": 4,
 "nbformat_minor": 4
}
