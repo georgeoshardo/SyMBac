{
 "cells": [
  {
   "cell_type": "code",
   "execution_count": 1,
   "id": "2248667c-6dbf-45e9-863d-aa81fe68a552",
   "metadata": {},
   "outputs": [],
   "source": [
    "from __future__ import print_function, unicode_literals, absolute_import, division\n",
    "import sys\n",
    "import numpy as np\n",
    "import matplotlib\n",
    "matplotlib.rcParams[\"image.interpolation\"] = None\n",
    "import matplotlib.pyplot as plt\n",
    "%matplotlib inline\n",
    "%config InlineBackend.figure_format = 'retina'\n",
    "\n",
    "from glob import glob\n",
    "from tqdm import tqdm\n",
    "from tifffile import imread, imsave\n",
    "from csbdeep.utils import Path, normalize\n",
    "\n",
    "from stardist import fill_label_holes, random_label_cmap\n",
    "from stardist.models import Config2D, StarDist2D, StarDistData2D\n",
    "\n",
    "np.random.seed(42)\n",
    "lbl_cmap = random_label_cmap()\n",
    "import tensorflow as tf\n",
    "config = tf.compat.v1.ConfigProto()\n",
    "config.gpu_options.allow_growth = True\n",
    "session = tf.compat.v1.Session(config=config)\n",
    "from skimage.transform import resize\n",
    "sys.path.insert(0,'/home/georgeos/Documents/GitHub/SYMPTOMM2')\n",
    "import elasticdeform"
   ]
  },
  {
   "cell_type": "code",
   "execution_count": 2,
   "id": "50f06bcd-3b02-4938-bbcf-fbd9eeb1a964",
   "metadata": {},
   "outputs": [],
   "source": [
    "from SYMPTOMM.external.DeLTA import data as DeLTA_data"
   ]
  },
  {
   "cell_type": "code",
   "execution_count": 3,
   "id": "cd3e2026-b80e-46f0-b1e5-3c253c63d631",
   "metadata": {},
   "outputs": [],
   "source": [
    "X = sorted(glob(\"/home/georgeos/Storage/Dropbox (Cambridge University)/PhD_Georgeos_Hardo/ML_based_segmentation_results/40x_Ph2_test_1.5/PC_training_data/bent_noisematched_allsize_emptytrench/convolutions/*.tif\"))\n",
    "Y = sorted(glob(\"/home/georgeos/Storage/Dropbox (Cambridge University)/PhD_Georgeos_Hardo/ML_based_segmentation_results/40x_Ph2_test_1.5/PC_training_data/bent_noisematched_allsize_emptytrench/masks/*.tif\"))\n",
    "assert all(Path(x).name==Path(y).name for x,y in zip(X,Y))"
   ]
  },
  {
   "cell_type": "code",
   "execution_count": 4,
   "id": "a2a28257-01f8-44e5-ac75-36e7b519b300",
   "metadata": {},
   "outputs": [],
   "source": [
    "X = list(map(imread,X))\n",
    "Y = list(map(imread,Y))\n",
    "n_channel = 1 if X[0].ndim == 2 else X[0].shape[-1]"
   ]
  },
  {
   "cell_type": "code",
   "execution_count": 5,
   "id": "8cffbe0d-92b9-492a-b1ec-4be2fdedddf9",
   "metadata": {},
   "outputs": [
    {
     "name": "stderr",
     "output_type": "stream",
     "text": [
      "100%|██████████| 7747/7747 [00:03<00:00, 1958.86it/s]\n",
      "100%|██████████| 7747/7747 [00:04<00:00, 1845.74it/s]\n"
     ]
    }
   ],
   "source": [
    "requires_resize = True\n",
    "resize_shape = (256,64)\n",
    "if requires_resize:\n",
    "    Y = [resize(y,resize_shape, order=0, mode='reflect', cval=0, clip=True, preserve_range=True, anti_aliasing=None, anti_aliasing_sigma=None).astype(int) for y in tqdm(Y)]\n",
    "    X = [resize(x,resize_shape, order=0, mode='reflect', cval=0, clip=True, preserve_range=True, anti_aliasing=None, anti_aliasing_sigma=None) for x in tqdm(X)]"
   ]
  },
  {
   "cell_type": "code",
   "execution_count": 6,
   "id": "8aec306c-d90d-4599-a569-525d9f54aaaf",
   "metadata": {},
   "outputs": [],
   "source": [
    "def augmenter(x, y):\n",
    "    \"\"\"Augmentation of a single input/label image pair.\n",
    "    x is an input image\n",
    "    y is the corresponding ground-truth label image\n",
    "    \"\"\"\n",
    "    #illumination_voodoo first:\n",
    "    x = DeLTA_data.illumination_voodoo(x,np.random.choice([2,3,4]))\n",
    "    elasdef_sigma = np.random.uniform(1,2.5)\n",
    "    elasdef_points = np.random.choice([2,3])\n",
    "    x = DeLTA_data.elasdef(x,sigma=elasdef_sigma,points=elasdef_points,order=1)\n",
    "    y = DeLTA_data.elasdef(y,sigma=elasdef_sigma,points=elasdef_points,order=0)\n",
    "    \n",
    "    zoomshift_zoomlevel = np.random.uniform(1,1.1)\n",
    "    zoomshift_shiftX = np.random.uniform(-0.05,0.1)\n",
    "    zoomshift_shiftY = np.random.uniform(-0.05,0.1)\n",
    "    x = DeLTA_data.zoomshift(x,zoomlevel = zoomshift_zoomlevel, shiftX = zoomshift_shiftX, shiftY = zoomshift_shiftY,order=0)\n",
    "    y = DeLTA_data.zoomshift(y,zoomlevel = zoomshift_zoomlevel, shiftX = zoomshift_shiftX, shiftY = zoomshift_shiftY,order=0).astype(int)\n",
    "    axis_norm = (0,1)   # normalize channels independently\n",
    "    x = normalize(x,1,99.8,axis=axis_norm)\n",
    "    y = fill_label_holes(y.astype(int))\n",
    "    return x, y"
   ]
  },
  {
   "cell_type": "code",
   "execution_count": 7,
   "id": "6a7c8505-e932-467c-8990-5ba7c99f2600",
   "metadata": {},
   "outputs": [
    {
     "name": "stderr",
     "output_type": "stream",
     "text": [
      "100%|██████████| 7747/7747 [00:03<00:00, 2054.03it/s]\n",
      "100%|██████████| 7747/7747 [00:04<00:00, 1892.26it/s]\n"
     ]
    }
   ],
   "source": [
    "axis_norm = (0,1)   # normalize channels independently\n",
    "# axis_norm = (0,1,2) # normalize channels jointly\n",
    "if n_channel > 1:\n",
    "    print(\"Normalizing image channels %s.\" % ('jointly' if axis_norm is None or 2 in axis_norm else 'independently'))\n",
    "    sys.stdout.flush()\n",
    "\n",
    "X = [normalize(x,1,99.8,axis=axis_norm) for x in tqdm(X)]\n",
    "Y = [fill_label_holes(y.astype(int)) for y in tqdm(Y)]"
   ]
  },
  {
   "cell_type": "code",
   "execution_count": 8,
   "id": "0ca25a52-e357-4614-91e7-dadbf5edce57",
   "metadata": {},
   "outputs": [
    {
     "name": "stdout",
     "output_type": "stream",
     "text": [
      "number of images: 7747\n",
      "- training:       6198\n",
      "- validation:     1549\n"
     ]
    }
   ],
   "source": [
    "assert len(X) > 1, \"not enough training data\"\n",
    "rng = np.random.RandomState(42)\n",
    "ind = rng.permutation(len(X))\n",
    "n_val = max(1, int(round(0.2 * len(ind))))\n",
    "ind_train, ind_val = ind[:-n_val], ind[-n_val:]\n",
    "X_val, Y_val = [X[i] for i in ind_val]  , [Y[i] for i in ind_val]\n",
    "X_trn, Y_trn = [X[i] for i in ind_train], [Y[i] for i in ind_train] \n",
    "print('number of images: %3d' % len(X))\n",
    "print('- training:       %3d' % len(X_trn))\n",
    "print('- validation:     %3d' % len(X_val))"
   ]
  },
  {
   "cell_type": "code",
   "execution_count": 9,
   "id": "00eeb851-508b-4efa-a87c-2c7fef2cba4c",
   "metadata": {},
   "outputs": [
    {
     "data": {
      "image/png": "[encoded data removed]",
      "text/plain": [
       "<Figure size 1152x720 with 2 Axes>"
      ]
     },
     "metadata": {
      "image/png": {
       "height": 573,
       "width": 637
      },
      "needs_background": "light"
     },
     "output_type": "display_data"
    }
   ],
   "source": [
    "i = min(9, len(X)-1)\n",
    "img, lbl = X[i], Y[i]\n",
    "assert img.ndim in (2,3)\n",
    "img = img if img.ndim==2 else img[...,:3]\n",
    "plt.figure(figsize=(16,10))\n",
    "plt.subplot(121); plt.imshow(img,cmap='gray');   plt.axis('off'); plt.title('Raw image')\n",
    "plt.subplot(122); plt.imshow(lbl,cmap=lbl_cmap); plt.axis('off'); plt.title('GT labels')\n",
    "None;"
   ]
  },
  {
   "cell_type": "code",
   "execution_count": null,
   "id": "c85c1a6e-e17e-49d9-8d71-0c51fa452728",
   "metadata": {},
   "outputs": [],
   "source": [
    "np.random.seed(42)\n",
    "data = StarDistData2D(X,Y,batch_size=9,n_rays=128,patch_size=X[i].shape,shape_completion=False,length=1)"
   ]
  },
  {
   "cell_type": "code",
   "execution_count": null,
   "id": "637d536c-3898-4dd5-a3c3-23c4356e01c4",
   "metadata": {},
   "outputs": [],
   "source": [
    "(img,), (prob,dist) = data[0]\n",
    "dist, dist_mask = dist[...,:-1], dist[...,-1:]\n",
    "\n",
    "fig, ax = plt.subplots(2,2, figsize=(12,12))\n",
    "for a,d,cm,s in zip(ax.flat, [img,prob,dist_mask,dist], ['gray','magma','bone','viridis'],\n",
    "                    ['Input image','Object probability','Distance mask','Distance (0°)']):\n",
    "    a.imshow(d[0,...,0],cmap=cm)\n",
    "    a.set_title(s)\n",
    "plt.tight_layout()\n",
    "None;"
   ]
  },
  {
   "cell_type": "code",
   "execution_count": null,
   "id": "9f032911-4000-4a56-af2e-58f1ba12e5d7",
   "metadata": {
    "tags": []
   },
   "outputs": [],
   "source": [
    "print(Config2D.__doc__)"
   ]
  },
  {
   "cell_type": "code",
   "execution_count": null,
   "id": "84bff899-6c64-4d20-a5ff-c371b31d5e70",
   "metadata": {},
   "outputs": [],
   "source": []
  },
  {
   "cell_type": "code",
   "execution_count": null,
   "id": "aa87b2af-75fe-4f21-aaa3-e825d84832e9",
   "metadata": {
    "tags": []
   },
   "outputs": [],
   "source": [
    "unet_n_depths = [6]\n",
    "unet_activations = [\"relu\"]\n",
    "unet_last_activations = [\"sigmoid\"]\n",
    "train_epochs = 1000\n",
    "for unet_n_depth in unet_n_depths:\n",
    "    for unet_activation in unet_activations:\n",
    "        for unet_last_activation in unet_last_activations:\n",
    "            conf = Config2D(\n",
    "                n_channel_in=n_channel, \n",
    "                train_shape_completion=False, \n",
    "                train_patch_size=resize_shape, \n",
    "                use_gpu=True,\n",
    "                train_background_reg = 0.000001,\n",
    "                train_learning_rate=0.0002,\n",
    "                unet_batch_norm = True,\n",
    "                unet_dropout=0.3,\n",
    "                train_epochs=train_epochs,\n",
    "                unet_n_depth=unet_n_depth,\n",
    "                n_rays = 128,\n",
    "                unet_activation = unet_activation,\n",
    "                unet_last_activation = unet_last_activation\n",
    "            )\n",
    "            #print(conf)\n",
    "            #vars(conf)\n",
    "            model = StarDist2D(conf, name='stardist_no_shape_completion', basedir='/home/georgeos/Storage/Google Drive (Cambridge Univeristy)/SYMPTOMM_models/bent_noisematched_allsize_empty_und{}_una{}_unla{}_epc{}_aug'.format(unet_n_depth,unet_activation,unet_last_activation,train_epochs))\n",
    "\n",
    "            model.train(X_trn,Y_trn,validation_data=(X_val,Y_val), augmenter=augmenter)"
   ]
  },
  {
   "cell_type": "code",
   "execution_count": null,
   "id": "3b3d5b5c-4bed-4c2a-914c-3fd8eddeaaec",
   "metadata": {},
   "outputs": [],
   "source": [
    "/home/georgeos/Storage/Google Drive (Cambridge Univeristy)/SYMPTOMM_models"
   ]
  },
  {
   "cell_type": "code",
   "execution_count": null,
   "id": "f15f3a3f-2ea7-4a76-b457-ad6c693e5142",
   "metadata": {},
   "outputs": [],
   "source": [
    "unet_n_depths = [6]\n",
    "unet_activations = [\"relu\"]\n",
    "unet_last_activations = [\"sigmoid\"]\n",
    "train_epochs = 1000\n",
    "for unet_n_depth in unet_n_depths:\n",
    "    for unet_activation in unet_activations:\n",
    "        for unet_last_activation in unet_last_activations:\n",
    "            conf = Config2D(\n",
    "                n_channel_in=n_channel, \n",
    "                train_shape_completion=False, \n",
    "                train_patch_size=resize_shape, \n",
    "                use_gpu=True,\n",
    "                train_background_reg = 0.000001,\n",
    "                train_learning_rate=0.0002,\n",
    "                unet_batch_norm = True,\n",
    "                unet_dropout=0.3,\n",
    "                train_epochs=train_epochs,\n",
    "                unet_n_depth=unet_n_depth,\n",
    "                n_rays = 128,\n",
    "                unet_activation = unet_activation,\n",
    "                unet_last_activation = unet_last_activation\n",
    "            )\n",
    "            #print(conf)\n",
    "            #vars(conf)\n",
    "            model = StarDist2D(conf, name='stardist_no_shape_completion', basedir='C:\\\\Users\\\\gh464\\\\Google Drive\\\\SYMPTOMM_models\\\\bent_noisematched_allsize_empty_und{}_una{}_unla{}_epc{}'.format(unet_n_depth,unet_activation,unet_last_activation,train_epochs))\n",
    "\n",
    "            model.train(X_trn,Y_trn,validation_data=(X_val,Y_val))"
   ]
  }
 ],
 "metadata": {
  "kernelspec": {
   "display_name": "Python 3",
   "language": "python",
   "name": "python3"
  },
  "language_info": {
   "codemirror_mode": {
    "name": "ipython",
    "version": 3
   },
   "file_extension": ".py",
   "mimetype": "text/x-python",
   "name": "python",
   "nbconvert_exporter": "python",
   "pygments_lexer": "ipython3",
   "version": "3.9.5"
  }
 },
 "nbformat": 4,
 "nbformat_minor": 5
}
