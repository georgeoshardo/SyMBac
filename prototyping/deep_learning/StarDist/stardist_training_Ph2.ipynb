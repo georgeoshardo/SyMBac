{
 "cells": [
  {
   "cell_type": "code",
   "execution_count": 1,
   "id": "2248667c-6dbf-45e9-863d-aa81fe68a552",
   "metadata": {},
   "outputs": [],
   "source": [
    "from __future__ import print_function, unicode_literals, absolute_import, division\n",
    "import sys\n",
    "import numpy as np\n",
    "import matplotlib\n",
    "matplotlib.rcParams[\"image.interpolation\"] = None\n",
    "import matplotlib.pyplot as plt\n",
    "%matplotlib inline\n",
    "%config InlineBackend.figure_format = 'retina'\n",
    "\n",
    "from glob import glob\n",
    "from tqdm import tqdm\n",
    "from tifffile import imread, imsave\n",
    "from csbdeep.utils import Path, normalize\n",
    "\n",
    "from stardist import fill_label_holes, random_label_cmap\n",
    "from stardist.models import Config2D, StarDist2D, StarDistData2D\n",
    "\n",
    "np.random.seed(42)\n",
    "lbl_cmap = random_label_cmap()\n",
    "import tensorflow as tf\n",
    "config = tf.compat.v1.ConfigProto()\n",
    "config.gpu_options.allow_growth = True\n",
    "session = tf.compat.v1.Session(config=config)\n",
    "from skimage.transform import resize\n",
    "sys.path.insert(0,'/home/georgeos/Documents/GitHub/SYMPTOMM2')\n",
    "import elasticdeform"
   ]
  },
  {
   "cell_type": "code",
   "execution_count": 2,
   "id": "50f06bcd-3b02-4938-bbcf-fbd9eeb1a964",
   "metadata": {},
   "outputs": [],
   "source": [
    "from SYMPTOMM.external.DeLTA import data as DeLTA_data"
   ]
  },
  {
   "cell_type": "code",
   "execution_count": 3,
   "id": "cd3e2026-b80e-46f0-b1e5-3c253c63d631",
   "metadata": {},
   "outputs": [],
   "source": [
    "X = sorted(glob(\"/home/georgeos/Storage/Dropbox (Cambridge University)/PhD_Georgeos_Hardo/ML_based_segmentation_results/40x_Ph2_test_1.5/PC_training_data/bent_noisematched_allsize_emptytrench/convolutions/*.tif\"))\n",
    "Y = sorted(glob(\"/home/georgeos/Storage/Dropbox (Cambridge University)/PhD_Georgeos_Hardo/ML_based_segmentation_results/40x_Ph2_test_1.5/PC_training_data/bent_noisematched_allsize_emptytrench/masks/*.tif\"))\n",
    "assert all(Path(x).name==Path(y).name for x,y in zip(X,Y))"
   ]
  },
  {
   "cell_type": "code",
   "execution_count": 4,
   "id": "a2a28257-01f8-44e5-ac75-36e7b519b300",
   "metadata": {},
   "outputs": [],
   "source": [
    "X = list(map(imread,X))\n",
    "Y = list(map(imread,Y))\n",
    "n_channel = 1 if X[0].ndim == 2 else X[0].shape[-1]"
   ]
  },
  {
   "cell_type": "code",
   "execution_count": 5,
   "id": "8cffbe0d-92b9-492a-b1ec-4be2fdedddf9",
   "metadata": {},
   "outputs": [
    {
     "name": "stderr",
     "output_type": "stream",
     "text": [
      "100%|██████████| 7747/7747 [00:04<00:00, 1678.33it/s]\n",
      "100%|██████████| 7747/7747 [00:06<00:00, 1173.58it/s]\n"
     ]
    }
   ],
   "source": [
    "requires_resize = True\n",
    "resize_shape = (256,64)\n",
    "if requires_resize:\n",
    "    Y = [resize(y,resize_shape, order=0, mode='reflect', cval=0, clip=True, preserve_range=True, anti_aliasing=None, anti_aliasing_sigma=None).astype(int) for y in tqdm(Y)]\n",
    "    X = [resize(x,resize_shape, order=1, mode='reflect', cval=0, clip=True, preserve_range=True, anti_aliasing=None, anti_aliasing_sigma=None) for x in tqdm(X)]"
   ]
  },
  {
   "cell_type": "code",
   "execution_count": null,
   "id": "8aec306c-d90d-4599-a569-525d9f54aaaf",
   "metadata": {},
   "outputs": [],
   "source": [
    "import skimage.transform as trans\n",
    "from skimage.measure import label\n",
    "from skimage.morphology import square, binary_opening, medial_axis, remove_small_objects\n",
    "from scipy import interpolate\n",
    "\n",
    "def illumination_voodoo(image,num_control_points=5, axis=0):\n",
    "    '''\n",
    "    This function inspired by the one above.\n",
    "    It simulates a variation in illumination along the length of the chamber\n",
    "\n",
    "    Parameters\n",
    "    ----------\n",
    "    image : 2D numpy array\n",
    "        Input image.\n",
    "    num_control_points : int, optional\n",
    "        Number of inflection points to use on the illumination multiplication\n",
    "        curve. \n",
    "        The default is 5.\n",
    "\n",
    "    Returns\n",
    "    -------\n",
    "    newimage : 2D numpy array\n",
    "        Modified image.\n",
    "\n",
    "    '''\n",
    "    \n",
    "    # Create a random curve along the length of the chamber:\n",
    "    control_points = np.linspace(0,image.shape[1]-1,num=num_control_points)\n",
    "    random_points = np.random.uniform(low=0.1,high=0.9,size=num_control_points)\n",
    "    mapping = interpolate.PchipInterpolator(control_points, random_points)\n",
    "    curve = mapping(np.linspace(0,image.shape[1]-1,image.shape[1]))\n",
    "    # Apply this curve to the image intensity along the length of the chamebr:\n",
    "    if axis == 0:\n",
    "        newimage = np.multiply(image,\n",
    "                               np.reshape(\n",
    "                                       np.tile(\n",
    "                                               np.reshape(curve,curve.shape + (1,)), (1, image.shape[0])\n",
    "                                               )\n",
    "                                       ,image.shape\n",
    "                                       )\n",
    "                               )\n",
    "    if axis ==1:\n",
    "        newimage = np.multiply(image,\n",
    "                           np.reshape(\n",
    "                                   np.tile(\n",
    "                                           np.reshape(curve,(1,) + curve.shape ), (image.shape[0], 1)\n",
    "                                           )\n",
    "                                   ,image.shape\n",
    "                                   )\n",
    "                           )\n",
    "    # Rescale values to original range:\n",
    "    newimage = np.interp(newimage, (newimage.min(), newimage.max()), (image.min(), image.max()))\n",
    "    \n",
    "    return newimage\n",
    "\n",
    "def augmenter(x, y):\n",
    "    \"\"\"Augmentation of a single input/label image pair.\n",
    "    x is an input image\n",
    "    y is the corresponding ground-truth label image\n",
    "    \"\"\"\n",
    "    p_augment = 0.05\n",
    "    if np.random.rand() < p_augment:\n",
    "        #illumination_voodoo first:\n",
    "        elasdef_sigma = np.random.uniform(1,2)\n",
    "        elasdef_points = np.random.choice([2,3])\n",
    "        x = DeLTA_data.elasdef(x,sigma=elasdef_sigma,points=elasdef_points,order=1)\n",
    "        y = DeLTA_data.elasdef(y,sigma=elasdef_sigma,points=elasdef_points,order=0)\n",
    "\n",
    "        zoomshift_zoomlevel = np.random.uniform(1,1.05)\n",
    "        zoomshift_shiftX = np.random.uniform(-0.05,0.05)\n",
    "        zoomshift_shiftY = np.random.uniform(-0.05,0.0)\n",
    "        x = DeLTA_data.zoomshift(x,zoomlevel = zoomshift_zoomlevel, shiftX = zoomshift_shiftX, shiftY = zoomshift_shiftY,order=0)\n",
    "        y = DeLTA_data.zoomshift(y,zoomlevel = zoomshift_zoomlevel, shiftX = zoomshift_shiftX, shiftY = zoomshift_shiftY,order=0).astype(int)\n",
    "\n",
    "        #illumination at end as it should be invariant to other params\n",
    "        illumination_voodoo_axis = np.random.choice([0,1])\n",
    "        if illumination_voodoo_axis == 0:\n",
    "            illumination_voodoo_ncp = np.random.choice([2,3])\n",
    "        elif illumination_voodoo_axis == 1:\n",
    "            illumination_voodoo_ncp = np.random.choice([2,3,4,5,6,7])\n",
    "        x = illumination_voodoo(x,num_control_points = illumination_voodoo_ncp, axis = illumination_voodoo_axis)\n",
    "\n",
    "        axis_norm = (0,1)   # normalize channels independently\n",
    "        x = normalize(x,1,99.8,axis=axis_norm)\n",
    "        y = fill_label_holes(y.astype(int))\n",
    "    else:\n",
    "        pass\n",
    "    return x, y"
   ]
  },
  {
   "cell_type": "code",
   "execution_count": null,
   "id": "6a7c8505-e932-467c-8990-5ba7c99f2600",
   "metadata": {},
   "outputs": [],
   "source": [
    "axis_norm = (0,1)   # normalize channels independently\n",
    "# axis_norm = (0,1,2) # normalize channels jointly\n",
    "if n_channel > 1:\n",
    "    print(\"Normalizing image channels %s.\" % ('jointly' if axis_norm is None or 2 in axis_norm else 'independently'))\n",
    "    sys.stdout.flush()\n",
    "\n",
    "X = [normalize(x,1,99.8,axis=axis_norm) for x in tqdm(X)]\n",
    "Y = [fill_label_holes(y.astype(int)) for y in tqdm(Y)]"
   ]
  },
  {
   "cell_type": "code",
   "execution_count": null,
   "id": "875feaca-f4f3-43bc-82d2-0edac3424d3c",
   "metadata": {},
   "outputs": [],
   "source": [
    "from ipywidgets import interact"
   ]
  },
  {
   "cell_type": "code",
   "execution_count": null,
   "id": "64641aa1-24ec-4b68-b986-39b8bc40f672",
   "metadata": {
    "tags": []
   },
   "outputs": [],
   "source": [
    "@interact(x=(0,100))\n",
    "def f(x):\n",
    "    xx, yy = augmenter(X[x],Y[x])\n",
    "    plt.imshow(xx, cmap=\"Greys_r\")\n",
    "    plt.show()\n",
    "    plt.close()\n",
    "    plt.imshow(yy)\n",
    "    plt.show()\n",
    "    plt.close()         "
   ]
  },
  {
   "cell_type": "code",
   "execution_count": null,
   "id": "0ca25a52-e357-4614-91e7-dadbf5edce57",
   "metadata": {},
   "outputs": [],
   "source": [
    "assert len(X) > 1, \"not enough training data\"\n",
    "rng = np.random.RandomState(42)\n",
    "ind = rng.permutation(len(X))\n",
    "n_val = max(1, int(round(0.15 * len(ind))))\n",
    "ind_train, ind_val = ind[:-n_val], ind[-n_val:]\n",
    "X_val, Y_val = [X[i] for i in ind_val]  , [Y[i] for i in ind_val]\n",
    "augment_val = True\n",
    "if augment_val:\n",
    "    for i in tqdm(ind_val[0:int(len(ind_val)*0.05)]):\n",
    "        x, y = augmenter(X[i], Y[i])\n",
    "        X_val.append(x)\n",
    "        Y_val.append(y)\n",
    "\n",
    "X_trn, Y_trn = [X[i] for i in ind_train], [Y[i] for i in ind_train] \n",
    "print('number of images: %3d' % len(X))\n",
    "print('- training:       %3d' % len(X_trn))\n",
    "print('- validation:     %3d' % len(X_val))"
   ]
  },
  {
   "cell_type": "code",
   "execution_count": null,
   "id": "00eeb851-508b-4efa-a87c-2c7fef2cba4c",
   "metadata": {},
   "outputs": [],
   "source": [
    "#i = min(9, len(X)-1)\n",
    "#img, lbl = X[i], Y[i]\n",
    "#assert img.ndim in (2,3)\n",
    "#img = img if img.ndim==2 else img[...,:3]\n",
    "#plt.figure(figsize=(16,10))\n",
    "#plt.subplot(121); plt.imshow(img,cmap='gray');   plt.axis('off'); plt.title('Raw image')\n",
    "#plt.subplot(122); plt.imshow(lbl,cmap=lbl_cmap); plt.axis('off'); plt.title('GT labels')\n",
    "#None;"
   ]
  },
  {
   "cell_type": "code",
   "execution_count": null,
   "id": "c85c1a6e-e17e-49d9-8d71-0c51fa452728",
   "metadata": {},
   "outputs": [],
   "source": [
    "#np.random.seed(42)\n",
    "#data = StarDistData2D(X,Y,batch_size=9,n_rays=128,patch_size=X[i].shape,shape_completion=False,length=1)\n",
    "#(img,), (prob,dist) = data[0]\n",
    "#dist, dist_mask = dist[...,:-1], dist[...,-1:]\n",
    "\n",
    "#fig, ax = plt.subplots(2,2, figsize=(12,12))\n",
    "#for a,d,cm,s in zip(ax.flat, [img,prob,dist_mask,dist], ['gray','magma','bone','viridis'],\n",
    "#                    ['Input image','Object probability','Distance mask','Distance (0°)']):\n",
    "#    a.imshow(d[0,...,0],cmap=cm)\n",
    "#    a.set_title(s)\n",
    "#plt.tight_layout()\n",
    "#None;"
   ]
  },
  {
   "cell_type": "code",
   "execution_count": null,
   "id": "9f032911-4000-4a56-af2e-58f1ba12e5d7",
   "metadata": {
    "tags": []
   },
   "outputs": [],
   "source": [
    "#print(Config2D.__doc__)"
   ]
  },
  {
   "cell_type": "code",
   "execution_count": null,
   "id": "aa87b2af-75fe-4f21-aaa3-e825d84832e9",
   "metadata": {
    "tags": []
   },
   "outputs": [],
   "source": [
    "unet_n_depths = [6]\n",
    "unet_activations = [\"relu\"]\n",
    "unet_last_activations = [\"sigmoid\"]\n",
    "train_epochs = 1000\n",
    "for unet_n_depth in unet_n_depths:\n",
    "    for unet_activation in unet_activations:\n",
    "        for unet_last_activation in unet_last_activations:\n",
    "            conf = Config2D(\n",
    "                n_channel_in=n_channel, \n",
    "                train_shape_completion=False, \n",
    "                train_patch_size=resize_shape, \n",
    "                use_gpu=True,\n",
    "                train_background_reg = 0.000001,\n",
    "                train_learning_rate=0.0002,\n",
    "                unet_batch_norm = True,\n",
    "                unet_dropout=0.3,\n",
    "                train_epochs=train_epochs,\n",
    "                unet_n_depth=unet_n_depth,\n",
    "                n_rays = 128,\n",
    "                unet_activation = unet_activation,\n",
    "                unet_last_activation = unet_last_activation\n",
    "            )\n",
    "            #print(conf)\n",
    "            #vars(conf)\n",
    "            model = StarDist2D(conf, name='stardist_no_shape_completion', basedir='/home/georgeos/Storage/Google Drive (Cambridge Univeristy)/SYMPTOMM_models/bent_noisematched_allsize_empty_und{}_una{}_unla{}_epc{}_0.15augval'.format(unet_n_depth,unet_activation,unet_last_activation,train_epochs))\n",
    "\n",
    "            model.train(X_trn,Y_trn,validation_data=(X_val,Y_val), augmenter=augmenter)"
   ]
  },
  {
   "cell_type": "code",
   "execution_count": null,
   "id": "a1aa4b7e-3580-45c4-8d54-9f9678e61c0f",
   "metadata": {},
   "outputs": [],
   "source": []
  }
 ],
 "metadata": {
  "kernelspec": {
   "display_name": "Python 3",
   "language": "python",
   "name": "python3"
  },
  "language_info": {
   "codemirror_mode": {
    "name": "ipython",
    "version": 3
   },
   "file_extension": ".py",
   "mimetype": "text/x-python",
   "name": "python",
   "nbconvert_exporter": "python",
   "pygments_lexer": "ipython3",
   "version": "3.8.8"
  }
 },
 "nbformat": 4,
 "nbformat_minor": 5
}
