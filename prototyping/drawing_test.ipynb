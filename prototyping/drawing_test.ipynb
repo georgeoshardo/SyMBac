{
 "cells": [
  {
   "cell_type": "code",
   "execution_count": 5,
   "id": "american-gasoline",
   "metadata": {},
   "outputs": [],
   "source": [
    "import raster_geometry as rg\n",
    "import numpy as np\n",
    "import matplotlib.pyplot as plt\n",
    "from skimage.transform import rotate\n",
    "import pickle\n",
    "import sys\n",
    "sys.path.insert(0,'/home/georgeos/Documents/GitHub/SYMPTOMM2')\n",
    "import itertools\n",
    "from joblib import Parallel, delayed\n",
    "from skimage.morphology import opening\n",
    "from PIL import Image       \n",
    "import pymunk\n"
   ]
  },
  {
   "cell_type": "code",
   "execution_count": 2,
   "id": "shared-tunnel",
   "metadata": {},
   "outputs": [
    {
     "data": {
      "image/png": "[encoded data removed]",
      "text/plain": [
       "<Figure size 432x288 with 1 Axes>"
      ]
     },
     "metadata": {
      "needs_background": "light"
     },
     "output_type": "display_data"
    }
   ],
   "source": [
    "def raster_cell(length, width):\n",
    "    radius = int(width/2)\n",
    "    cyl_height = int(length - 2*radius)\n",
    "    shape = 200 #200\n",
    "    cylinder = rg.cylinder(\n",
    "            shape = shape,\n",
    "            height = cyl_height,\n",
    "            radius = radius,\n",
    "            axis=0,\n",
    "            position=(0.5,0.5,0.5),\n",
    "            smoothing=False)\n",
    "\n",
    "    sphere1 = rg.sphere(shape,radius,((shape + cyl_height)/(2*shape),0.5,0.5))\n",
    "    sphere2 = rg.sphere(shape,radius,((shape - cyl_height)/(2*shape),0.5,0.5))\n",
    "\n",
    "\n",
    "    cell = (cylinder + sphere1 + sphere2)\n",
    "    cell = cell[int(shape/2-cyl_height/2-radius-1):int(shape/2+cyl_height/2+radius+1),\n",
    "                int(shape/2)-radius:int(shape/2)+radius,\n",
    "               int(shape/2)-radius:int(shape/2)+radius]\n",
    "    z,x,y = cell.nonzero()\n",
    "    OPL_cell = np.sum(cell,axis=2)\n",
    "    return OPL_cell\n",
    "\n",
    "OPL_cell = raster_cell(length = 55, width=25)\n",
    "plt.imshow(OPL_cell)\n",
    "plt.show()"
   ]
  },
  {
   "cell_type": "code",
   "execution_count": null,
   "id": "secure-sweet",
   "metadata": {},
   "outputs": [],
   "source": [
    "with open(\"../output_pickles/space.p\", \"rb\") as f:\n",
    "    space = pickle.load(f)"
   ]
  },
  {
   "cell_type": "code",
   "execution_count": null,
   "id": "agricultural-expert",
   "metadata": {},
   "outputs": [],
   "source": [
    "plt.figure(figsize=(1,10))\n",
    "for body, shape in zip(space.bodies, space.shapes):\n",
    "    if body.body_type == 0:\n",
    "        vertices = []\n",
    "        for v in shape.get_vertices():\n",
    "            x,y = v.rotated(shape.body.angle) + shape.body.position #.rotated(self.shape.body.angle)\n",
    "            vertices.append((x,y))\n",
    "        vertices = np.array(vertices)\n",
    "        \n",
    "        plt.scatter(vertices[:,0], vertices[:,1])\n"
   ]
  },
  {
   "cell_type": "code",
   "execution_count": 6,
   "id": "shaped-permission",
   "metadata": {},
   "outputs": [],
   "source": [
    "def get_distance(vertex1, vertex2):\n",
    "    return abs(np.sqrt((vertex1[0]-vertex2[0])**2 + (vertex1[1]-vertex2[1])**2))\n",
    "\n",
    "def find_farthest_vertices(vertex_list):\n",
    "    vertex_combs = list(itertools.combinations(vertex_list, 2))\n",
    "    distance = 0\n",
    "    farthest_vertices = 0\n",
    "    for vertex_comb in vertex_combs:\n",
    "        distance_ = get_distance(vertex_comb[0],vertex_comb[1])\n",
    "        if distance_ > distance:\n",
    "            distance = distance_\n",
    "            farthest_vertices = vertex_comb\n",
    "    return np.array(farthest_vertices)\n",
    "\n",
    "def get_midpoint(vertex1, vertex2):\n",
    "    x_mid = (vertex1[0]+vertex2[0])/2\n",
    "    y_mid = (vertex1[1]+vertex2[1])/2\n",
    "    return np.array([x_mid,y_mid])\n",
    "\n",
    "def vertices_slope(vertex1, vertex2):\n",
    "    return (vertex1[1] - vertex2[1])/(vertex1[0] - vertex2[0])\n",
    "\n",
    "def midpoint_intercept(vertex1, vertex2):\n",
    "    midpoint = get_midpoint(vertex1, vertex2)\n",
    "    slope = vertices_slope(vertex1, vertex2)\n",
    "    intercept = midpoint[1]-(slope*midpoint[0])\n",
    "    return intercept\n",
    "\n",
    "def get_centroid(vertices: list[tuple]) -> tuple:\n",
    "    \"\"\"Return the centroid of a list of vertices \n",
    "    \n",
    "    Keyword arguments:\n",
    "    vertices -- A list of tuples containing x,y coordinates.\n",
    "\n",
    "    \"\"\"\n",
    "    return np.sum(vertices,axis=0)/len(vertices)\n",
    "\n",
    "def place_cell(length, width, angle, position, space):\n",
    "    angle = np.rad2deg(angle)\n",
    "    x, y = np.array(position).astype(int)\n",
    "    OPL_cell = raster_cell(length = length, width=width)\n",
    "    rotated_OPL_cell = rotate(OPL_cell,angle,resize=True,clip=False,preserve_range=True)\n",
    "    cell_y, cell_x = (np.array(rotated_OPL_cell.shape)/2).astype(int)\n",
    "    offset_y = rotated_OPL_cell.shape[0] - space[y-cell_y:y+cell_y,x-cell_x:x+cell_x].shape[0]\n",
    "    offset_x = rotated_OPL_cell.shape[1] - space[y-cell_y:y+cell_y,x-cell_x:x+cell_x].shape[1]\n",
    "    space[y-cell_y+100:y+cell_y+offset_y+100,x-cell_x+100:x+cell_x+offset_x+100] += rotated_OPL_cell"
   ]
  },
  {
   "cell_type": "code",
   "execution_count": null,
   "id": "tough-detector",
   "metadata": {
    "jupyter": {
     "source_hidden": true
    }
   },
   "outputs": [],
   "source": [
    "plt.figure(figsize=(2,4))\n",
    "plt.scatter(above_vertices[:,0], above_vertices[:,1])\n",
    "plt.scatter(farthest_vertices[:,0], farthest_vertices[:,1])\n",
    "plt.scatter(midpoint[0], midpoint[1])\n",
    "plt.plot"
   ]
  },
  {
   "cell_type": "code",
   "execution_count": null,
   "id": "exposed-banana",
   "metadata": {
    "jupyter": {
     "source_hidden": true
    }
   },
   "outputs": [],
   "source": [
    "plt.figure(figsize=(1,10))\n",
    "for body, shape in zip(space.bodies, space.shapes):\n",
    "    if body.body_type == 0:\n",
    "        vertices = []\n",
    "        for v in shape.get_vertices():\n",
    "            x,y = v.rotated(shape.body.angle) + shape.body.position #.rotated(self.shape.body.angle)\n",
    "            vertices.append((x,y))\n",
    "        vertices = np.array(vertices)\n",
    "        \n",
    "        plt.scatter(vertices[:,0], vertices[:,1])\n"
   ]
  },
  {
   "cell_type": "code",
   "execution_count": null,
   "id": "fancy-macro",
   "metadata": {
    "jupyter": {
     "source_hidden": true
    }
   },
   "outputs": [],
   "source": [
    "with open(\"../output_pickles/cell_timeseries.p\", \"rb\") as f:\n",
    "    cell_timeseries = pickle.load(f)\n",
    "cell_timeseries_properties = []\n",
    "for cell_timeseries_lists in cell_timeseries:\n",
    "    cell_properties = []\n",
    "    for cell in cell_timeseries_lists:\n",
    "        body, shape = (cell.body, cell.shape)\n",
    "        vertices = []\n",
    "        for v in shape.get_vertices():\n",
    "            x,y = v.rotated(shape.body.angle) + shape.body.position #.rotated(self.shape.body.angle)\n",
    "            vertices.append((x,y))\n",
    "        vertices = np.array(vertices)\n",
    "\n",
    "        centroid = get_centroid(vertices) \n",
    "        farthest_vertices = find_farthest_vertices(vertices)\n",
    "        length = get_distance(farthest_vertices[0],farthest_vertices[1])\n",
    "        width = cell.width\n",
    "        angle = np.arctan(vertices_slope(farthest_vertices[0], farthest_vertices[1]))\n",
    "        cell_properties.append([length, width, angle, centroid])\n",
    "    cell_timeseries_properties.append(cell_properties)"
   ]
  },
  {
   "cell_type": "code",
   "execution_count": 7,
   "id": "seven-pathology",
   "metadata": {},
   "outputs": [],
   "source": [
    "def gen_cell_props_for_draw(cell_timeseries_lists):\n",
    "    cell_properties = []\n",
    "    for cell in cell_timeseries_lists:\n",
    "        body, shape = (cell.body, cell.shape)\n",
    "        vertices = []\n",
    "        for v in shape.get_vertices():\n",
    "            x,y = v.rotated(shape.body.angle) + shape.body.position #.rotated(self.shape.body.angle)\n",
    "            vertices.append((x,y))\n",
    "        vertices = np.array(vertices)\n",
    "\n",
    "        centroid = get_centroid(vertices) \n",
    "        farthest_vertices = find_farthest_vertices(vertices)\n",
    "        length = get_distance(farthest_vertices[0],farthest_vertices[1])\n",
    "        width = cell.width\n",
    "        angle = np.arctan(vertices_slope(farthest_vertices[0], farthest_vertices[1]))\n",
    "        cell_properties.append([length, width, angle, centroid])\n",
    "    return cell_properties"
   ]
  },
  {
   "cell_type": "code",
   "execution_count": 8,
   "id": "human-delivery",
   "metadata": {},
   "outputs": [],
   "source": [
    "with open(\"../output_pickles/cell_timeseries.p\", \"rb\") as f:\n",
    "    cell_timeseries = pickle.load(f)\n",
    "cell_timeseries_properties = Parallel(n_jobs=15)(delayed(gen_cell_props_for_draw)(a) for a in cell_timeseries)"
   ]
  },
  {
   "cell_type": "code",
   "execution_count": 13,
   "id": "elementary-sheet",
   "metadata": {},
   "outputs": [],
   "source": [
    "def draw_scene(cell_properties):\n",
    "    upscale = 1\n",
    "    space_size = np.array([800, 170]) * upscale\n",
    "    space = np.zeros(space_size)\n",
    "    space_masks = np.zeros(space_size)\n",
    "    offsets = 30 * upscale\n",
    "    for properties in cell_properties:\n",
    "        length, width, angle, position = properties\n",
    "        length = length*upscale; width = width * upscale; position = np.array(position) * upscale\n",
    "        angle = np.rad2deg(angle) + 90\n",
    "        x, y = np.array(position).astype(int) + offsets\n",
    "        OPL_cell = raster_cell(length = length, width=width)\n",
    "        rotated_OPL_cell = rotate(OPL_cell,angle,resize=True,clip=False,preserve_range=True)\n",
    "        cell_y, cell_x = (np.array(rotated_OPL_cell.shape)/2).astype(int)\n",
    "        offset_y = rotated_OPL_cell.shape[0] - space[y-cell_y:y+cell_y,x-cell_x:x+cell_x].shape[0]\n",
    "        offset_x = rotated_OPL_cell.shape[1] - space[y-cell_y:y+cell_y,x-cell_x:x+cell_x].shape[1]\n",
    "        space[y-cell_y:y+cell_y+offset_y,x-cell_x:x+cell_x+offset_x] += rotated_OPL_cell\n",
    "        space_masks[y-cell_y:y+cell_y+offset_y,x-cell_x:x+cell_x+offset_x] += (rotated_OPL_cell > 7)\n",
    "        space_masks = space_masks == 1\n",
    "        space_masks = opening(space_masks,np.ones((1,8)))\n",
    "    return space, space_masks"
   ]
  },
  {
   "cell_type": "code",
   "execution_count": 14,
   "id": "patient-amount",
   "metadata": {},
   "outputs": [],
   "source": [
    "output_dir = \"/home/georgeos/Documents/GitHub/SYMPTOMM2/OPL_renders/\"\n",
    "scenes = Parallel(n_jobs=14)(delayed(draw_scene)(cell_properties) for cell_properties in cell_timeseries_properties)"
   ]
  },
  {
   "cell_type": "code",
   "execution_count": 15,
   "id": "sticky-defensive",
   "metadata": {},
   "outputs": [],
   "source": [
    "def scene_plotter(scene_array,output_dir,name,a,matplotlib_draw):\n",
    "    if matplotlib_draw == True:\n",
    "        plt.figure(figsize=(3,10))\n",
    "        plt.imshow(scene_array)\n",
    "        plt.tight_layout()\n",
    "        plt.savefig(output_dir+\"/{}_{}.png\".format(name,str(a).zfill(3)))\n",
    "        plt.clf()\n",
    "        plt.close('all')\n",
    "    else:\n",
    "        im = Image.fromarray(scene_array.astype(np.uint8))\n",
    "        im.save(output_dir+\"/{}_{}.tif\".format(name,str(a).zfill(3)))"
   ]
  },
  {
   "cell_type": "code",
   "execution_count": 16,
   "id": "pleased-hungarian",
   "metadata": {},
   "outputs": [],
   "source": [
    "_ = Parallel(n_jobs=13)(delayed(scene_plotter)(scenes[x][0],output_dir,\"OPL\",x,matplotlib_draw=False) for x in range(len(scenes)))"
   ]
  },
  {
   "cell_type": "code",
   "execution_count": null,
   "id": "leading-airport",
   "metadata": {},
   "outputs": [],
   "source": []
  }
 ],
 "metadata": {
  "kernelspec": {
   "display_name": "Python 3",
   "language": "python",
   "name": "python3"
  },
  "language_info": {
   "codemirror_mode": {
    "name": "ipython",
    "version": 3
   },
   "file_extension": ".py",
   "mimetype": "text/x-python",
   "name": "python",
   "nbconvert_exporter": "python",
   "pygments_lexer": "ipython3",
   "version": "3.9.1"
  }
 },
 "nbformat": 4,
 "nbformat_minor": 5
}
