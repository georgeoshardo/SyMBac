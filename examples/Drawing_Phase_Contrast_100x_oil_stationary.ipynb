{
 "cells": [
  {
   "cell_type": "code",
   "execution_count": 1,
   "id": "8403999f",
   "metadata": {
    "collapsed": false,
    "jupyter": {
     "outputs_hidden": false
    },
    "pycharm": {
     "name": "#%%\n"
    }
   },
   "outputs": [],
   "source": [
    "%gui qt"
   ]
  },
  {
   "cell_type": "code",
   "execution_count": 1,
   "id": "3704125e",
   "metadata": {
    "pycharm": {
     "is_executing": true
    },
    "tags": []
   },
   "outputs": [],
   "source": [
    "import napari\n",
    "import sys\n",
    "Linux = True\n",
    "if Linux:\n",
    "    sys.path.insert(0,'/home/georgeos/Documents/GitHub/SYMPTOMM2')\n",
    "else:\n",
    "    sys.path.insert(0,'C:\\\\Users\\\\gh464\\\\Documents\\\\GitHub\\\\SYMPTOMM2\\\\')\n",
    "from SYMPTOMM.cell import Cell\n",
    "from SYMPTOMM.scene_functions import create_space, step_and_update\n",
    "from SYMPTOMM.trench_geometry import trench_creator\n",
    "from SYMPTOMM.phase_contrast_drawing import *\n",
    "import tifffile\n",
    "import numpy as np\n",
    "from skimage.exposure import rescale_intensity\n",
    "from skimage.transform import rescale, resize, downscale_local_mean\n",
    "from ipywidgets import interact, interactive, fixed, interact_manual\n",
    "import ipywidgets as widgets\n",
    "from skimage.exposure import rescale_intensity\n",
    "from ipywidgets import interactive\n",
    "import os\n",
    "from PIL import Image\n",
    "import skimage\n",
    "from tqdm.notebook import tqdm\n",
    "import gc\n",
    "from SYMPTOMM.PSF import get_phase_contrast_kernel, get_condensers\n",
    "\n",
    "#viewer = napari.view_image(real_image)\n"
   ]
  },
  {
   "cell_type": "code",
   "execution_count": 2,
   "id": "d341d240-ec00-43cd-9db8-26b65849ddc9",
   "metadata": {},
   "outputs": [
    {
     "data": {
      "text/plain": [
       "(4368, 256, 46)"
      ]
     },
     "execution_count": 2,
     "metadata": {},
     "output_type": "execute_result"
    }
   ],
   "source": [
    "real_image_stack = tifffile.imread(\"/home/georgeos/Storage/Dropbox (Cambridge University)/Phase/real_data/Lane_02_pos_001_trench_x_0266_y_0059_w_0046_h_0460_c_Phase.tif\")[:,:256,:]\n",
    "real_image_stack.shape"
   ]
  },
  {
   "cell_type": "code",
   "execution_count": 3,
   "id": "7542d20c-a658-473b-b247-c472cb00c38d",
   "metadata": {},
   "outputs": [],
   "source": [
    "#real_image_stack = resize(real_image_stack,(4368,128,23), order=1, mode='reflect', cval=0, clip=True, preserve_range=True, anti_aliasing=None, anti_aliasing_sigma=None)"
   ]
  },
  {
   "cell_type": "code",
   "execution_count": 10,
   "id": "22b52a51-d58e-40e2-bc1d-7c293856d79e",
   "metadata": {},
   "outputs": [
    {
     "data": {
      "text/plain": [
       "<matplotlib.image.AxesImage at 0x7efd825d9100>"
      ]
     },
     "execution_count": 10,
     "metadata": {},
     "output_type": "execute_result"
    },
    {
     "data": {
      "image/png": "[encoded data removed]",
      "text/plain": [
       "<Figure size 432x288 with 1 Axes>"
      ]
     },
     "metadata": {
      "needs_background": "light"
     },
     "output_type": "display_data"
    }
   ],
   "source": [
    "real_image = deepcopy(real_image_stack[1000,:256,:])\n",
    "plt.imshow(real_image,cmap=\"Greys_r\")"
   ]
  },
  {
   "cell_type": "markdown",
   "id": "fa476171-0ee2-4c5c-af18-a7fdf33e9374",
   "metadata": {},
   "source": [
    "### Scope props"
   ]
  },
  {
   "cell_type": "code",
   "execution_count": 5,
   "id": "51cc96ea-77be-4860-8f5d-eb0aaa1f4686",
   "metadata": {},
   "outputs": [],
   "source": [
    "condensers = get_condensers()\n",
    "W, R, diameter = condensers[\"Ph3\"]\n",
    "radius=50\n",
    "#F = 5\n",
    "λ = 0.75\n",
    "resize_amount = 3\n",
    "pix_mic_conv = 0.0655 ##0.108379937 micron/pix for 60x, 0.0655 for 100x\n",
    "scale = pix_mic_conv / resize_amount \n",
    "min_sigma = 0.42*0.6/6 / scale # micron#\n",
    "sigma=min_sigma\n",
    "NA=1.45\n",
    "n = 1.4\n",
    "kernel_params = (R,W,radius,scale,NA,n,sigma,λ)\n",
    "\n",
    "#kernel_params = (R,W,radius,scale,F,sigma,λ)\n"
   ]
  },
  {
   "cell_type": "markdown",
   "id": "87dffa43-0e61-4e4f-b1eb-c0da59ddbd4c",
   "metadata": {},
   "source": [
    "### Do short cells"
   ]
  },
  {
   "cell_type": "code",
   "execution_count": 6,
   "id": "621dbe9f-5640-4bdd-812c-f96a6c24965c",
   "metadata": {
    "tags": []
   },
   "outputs": [
    {
     "data": {
      "application/vnd.jupyter.widget-view+json": {
       "model_id": "b89293d6699a42d2850eb09aebe80a09",
       "version_major": 2,
       "version_minor": 0
      },
      "text/plain": [
       "Timeseries Properties:   0%|          | 0/300 [00:00<?, ?it/s]"
      ]
     },
     "metadata": {},
     "output_type": "display_data"
    },
    {
     "data": {
      "application/vnd.jupyter.widget-view+json": {
       "model_id": "77121d7b239942bdb78e145230aa5c24",
       "version_major": 2,
       "version_minor": 0
      },
      "text/plain": [
       "Scene Draw::   0%|          | 0/300 [00:00<?, ?it/s]"
      ]
     },
     "metadata": {},
     "output_type": "display_data"
    }
   ],
   "source": [
    "sim_length = 300\n",
    "cell_timeseries, space = run_simulation(\n",
    "    trench_length=15, \n",
    "    trench_width=1.45, \n",
    "    cell_max_length=1.5, \n",
    "    cell_width= 0.9,\n",
    "    sim_length = sim_length,\n",
    "    pix_mic_conv = pix_mic_conv,\n",
    "    gravity=-5,\n",
    "    phys_iters=60,\n",
    "    max_length_var = 0,\n",
    "    width_var = 0.03,\n",
    "    save_dir=\"/home/georgeos\"\n",
    ") # growth phase\n",
    "main_segments = get_trench_segments(space)\n",
    "ID_props = generate_curve_props(cell_timeseries)\n",
    "cell_timeseries_properties = Parallel(n_jobs=-1)(\n",
    "    delayed(gen_cell_props_for_draw)(a, ID_props) for a in tqdm(cell_timeseries, desc='Timeseries Properties'))\n",
    "do_transformation = False\n",
    "offset = 30\n",
    "mask_threshold = 12\n",
    "label_masks = True\n",
    "space_size = get_space_size(cell_timeseries_properties)\n",
    "scenes = Parallel(n_jobs=-1)(delayed(draw_scene)(\n",
    "    cell_properties, do_transformation, mask_threshold, space_size, offset, label_masks) for cell_properties in tqdm(cell_timeseries_properties, desc='Scene Draw:'))"
   ]
  },
  {
   "cell_type": "code",
   "execution_count": 7,
   "id": "cceaedd3-3f71-4e5f-b5b9-35df60ec856c",
   "metadata": {
    "tags": []
   },
   "outputs": [
    {
     "data": {
      "application/vnd.jupyter.widget-view+json": {
       "model_id": "bcb13e9dfff0471fbcced694b13f4162",
       "version_major": 2,
       "version_minor": 0
      },
      "text/plain": [
       "interactive(children=(IntSlider(value=149, description='x', max=299), Output()), _dom_classes=('widget-interac…"
      ]
     },
     "metadata": {},
     "output_type": "display_data"
    }
   ],
   "source": [
    "@interact(x=(0,len(scenes)-1))\n",
    "def f(x):\n",
    "    plt.figure(figsize=(30,30))\n",
    "    plt.imshow((scenes[x][0]))\n",
    "    plt.show()"
   ]
  },
  {
   "cell_type": "code",
   "execution_count": 8,
   "id": "ad50dc9d-6365-44a6-9a11-da2b59f875ca",
   "metadata": {
    "tags": []
   },
   "outputs": [
    {
     "data": {
      "application/vnd.jupyter.widget-view+json": {
       "model_id": "d6c717ce66c341de91cafe67354d7575",
       "version_major": 2,
       "version_minor": 0
      },
      "text/plain": [
       "interactive(children=(IntSlider(value=149, description='x', max=299), Output()), _dom_classes=('widget-interac…"
      ]
     },
     "metadata": {},
     "output_type": "display_data"
    }
   ],
   "source": [
    "@interact(x=(0,len(scenes)-1))\n",
    "def f(x):\n",
    "    plt.figure(figsize=(30,30))\n",
    "    plt.imshow((scenes[x][1]))\n",
    "    plt.show()"
   ]
  },
  {
   "cell_type": "code",
   "execution_count": 11,
   "id": "bff99283-e3c0-4a79-8c4e-dbf2a25662f9",
   "metadata": {},
   "outputs": [],
   "source": [
    "media_multiplier=30\n",
    "cell_multiplier=1\n",
    "device_multiplier=-50\n",
    "y_border_expansion_coefficient = 3\n",
    "x_border_expansion_coefficient = 3\n",
    "\n",
    "\n",
    "\n",
    "temp_expanded_scene, temp_expanded_scene_no_cells, temp_expanded_mask = generate_PC_OPL(\n",
    "   main_segments=main_segments,\n",
    "    offset=offset,\n",
    "    scene = scenes[0][0],\n",
    "    mask = scenes[0][1],\n",
    "    media_multiplier=media_multiplier,\n",
    "    cell_multiplier=cell_multiplier,\n",
    "    device_multiplier=cell_multiplier,\n",
    "    y_border_expansion_coefficient = y_border_expansion_coefficient,\n",
    "    x_border_expansion_coefficient = x_border_expansion_coefficient,\n",
    "    fluorescence=False,\n",
    "    defocus=30\n",
    ")\n",
    "\n",
    "\n",
    "\n",
    "### Generate temporary image to make same shape\n",
    "temp_kernel = get_phase_contrast_kernel(*kernel_params)\n",
    "convolved = convolve_rescale(temp_expanded_scene, temp_kernel, 1/resize_amount, rescale_int = True)\n",
    "real_resize, expanded_resized = make_images_same_shape(real_image,convolved, rescale_int=True)"
   ]
  },
  {
   "cell_type": "code",
   "execution_count": 12,
   "id": "276e6f39-8368-4bca-b4e2-73d8ac8fd30d",
   "metadata": {},
   "outputs": [
    {
     "name": "stderr",
     "output_type": "stream",
     "text": [
      "/home/georgeos/anaconda3/envs/SYMPTOMM/lib/python3.8/site-packages/napari/_vispy/vispy_camera.py:109: RuntimeWarning: divide by zero encountered in true_divide\n",
      "  zoom = np.min(canvas_size / scale)\n"
     ]
    }
   ],
   "source": [
    "viewer = napari.view_image(real_resize)\n",
    "media_label = viewer.add_labels(np.zeros(real_resize.shape).astype(int), name = \"media\")\n",
    "cell_label = viewer.add_labels(np.zeros(real_resize.shape).astype(int), name = \"cell\")\n",
    "device_label = viewer.add_labels(np.zeros(real_resize.shape).astype(int), name = \"device\")"
   ]
  },
  {
   "cell_type": "code",
   "execution_count": 13,
   "id": "2ef464f9-754c-41ef-ad7a-3839d306e8cb",
   "metadata": {},
   "outputs": [],
   "source": [
    "real_media_mean = real_resize[np.where(media_label.data)].mean();\n",
    "real_cell_mean = real_resize[np.where(cell_label.data)].mean(); \n",
    "real_device_mean = real_resize[np.where(device_label.data)].mean()\n",
    "real_means = np.array((real_media_mean, real_cell_mean, real_device_mean))\n",
    "\n",
    "real_media_var = real_resize[np.where(media_label.data)].var();\n",
    "real_cell_var = real_resize[np.where(cell_label.data)].var(); \n",
    "real_device_var = real_resize[np.where(device_label.data)].var()\n",
    "real_vars = np.array((real_media_var, real_cell_var, real_device_var))\n",
    "\n",
    "image_params = (real_media_mean, real_cell_mean, real_device_mean, real_means, real_media_var, real_cell_var, real_device_var, real_vars)"
   ]
  },
  {
   "cell_type": "code",
   "execution_count": 14,
   "id": "4cb1647a-2e38-40a4-9d86-49630cab30aa",
   "metadata": {},
   "outputs": [],
   "source": [
    "mean_error = []\n",
    "media_error = []\n",
    "cell_error = []\n",
    "device_error = []\n",
    "\n",
    "mean_var_error = []\n",
    "media_var_error = []\n",
    "cell_var_error = []\n",
    "device_var_error = []\n",
    "\n",
    "error_params = (mean_error,media_error,cell_error,device_error,mean_var_error,media_var_error,cell_var_error,device_var_error)\n",
    "\n",
    "params = interactive(\n",
    "    generate_test_comparison,\n",
    "    media_multiplier=(-300,300,1),\n",
    "    cell_multiplier=(-30,30,0.01),\n",
    "    device_multiplier=(-300,300,1),\n",
    "    sigma=(min_sigma,min_sigma*20, min_sigma/20),\n",
    "    scene_no = (0,len(scenes)-1,1),\n",
    "    noise_var=(0,0.01, 0.0001),\n",
    "    scale=fixed(scale),\n",
    "    match_fourier = [True, False],\n",
    "    match_histogram = [True, False],\n",
    "    match_noise = [True, False],\n",
    "    offset=fixed(offset),\n",
    "    main_segments = fixed(main_segments),\n",
    "    debug_plot=fixed(True),\n",
    "    scenes = fixed(scenes),\n",
    "    kernel_params = fixed(kernel_params),\n",
    "    resize_amount = fixed(resize_amount), \n",
    "    real_image = fixed(real_image),\n",
    "    image_params = fixed(image_params),\n",
    "    error_params = fixed(error_params),\n",
    "    x_border_expansion_coefficient = fixed(x_border_expansion_coefficient),\n",
    "    y_border_expansion_coefficient = fixed(y_border_expansion_coefficient),\n",
    "    fluorescence=[False, True],\n",
    "    defocus=(0,20,0.1)\n",
    ");"
   ]
  },
  {
   "cell_type": "code",
   "execution_count": 15,
   "id": "378b3b24-0db2-4a17-9dca-832d2a064de6",
   "metadata": {},
   "outputs": [
    {
     "data": {
      "application/vnd.jupyter.widget-view+json": {
       "model_id": "c35b3146adba455e9eeda503f74d3ed6",
       "version_major": 2,
       "version_minor": 0
      },
      "text/plain": [
       "interactive(children=(IntSlider(value=0, description='media_multiplier', max=300, min=-300), FloatSlider(value…"
      ]
     },
     "metadata": {},
     "output_type": "display_data"
    }
   ],
   "source": [
    "params"
   ]
  },
  {
   "cell_type": "code",
   "execution_count": 16,
   "id": "332c02e6-af6f-41e7-979c-f00ee8e23781",
   "metadata": {
    "tags": []
   },
   "outputs": [
    {
     "name": "stderr",
     "output_type": "stream",
     "text": [
      "Sample generation: 100%|██████████| 300/300 [00:59<00:00,  5.03it/s]\n"
     ]
    }
   ],
   "source": [
    "generate_training_data(interactive_output = params, sample_amount = 0.01, randomise_hist_match = False, randomise_noise_match = False, sim_length = sim_length, burn_in = 0, n_samples =  300, save_dir = \"/home/georgeos/Storage/Dropbox (Cambridge University)/Phase/DeLTA_new_training_data/\")"
   ]
  },
  {
   "cell_type": "code",
   "execution_count": null,
   "id": "23cbc35e-f6b7-41f0-9bee-f4502a2ed024",
   "metadata": {},
   "outputs": [],
   "source": []
  }
 ],
 "metadata": {
  "kernelspec": {
   "display_name": "Python 3",
   "language": "python",
   "name": "python3"
  },
  "language_info": {
   "codemirror_mode": {
    "name": "ipython",
    "version": 3
   },
   "file_extension": ".py",
   "mimetype": "text/x-python",
   "name": "python",
   "nbconvert_exporter": "python",
   "pygments_lexer": "ipython3",
   "version": "3.8.8"
  }
 },
 "nbformat": 4,
 "nbformat_minor": 5
}
