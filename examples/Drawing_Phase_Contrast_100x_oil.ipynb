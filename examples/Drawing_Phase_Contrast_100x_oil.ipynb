{
 "cells": [
  {
   "cell_type": "code",
   "execution_count": null,
   "id": "8403999f",
   "metadata": {
    "collapsed": false,
    "jupyter": {
     "outputs_hidden": false
    },
    "pycharm": {
     "name": "#%%\n"
    }
   },
   "outputs": [],
   "source": [
    "%gui qt"
   ]
  },
  {
   "cell_type": "code",
   "execution_count": 1,
   "id": "3704125e",
   "metadata": {
    "pycharm": {
     "is_executing": true
    },
    "tags": []
   },
   "outputs": [],
   "source": [
    "import napari\n",
    "import sys\n",
    "Linux = True\n",
    "if Linux:\n",
    "    sys.path.insert(0,'/home/georgeos/Documents/GitHub/SYMPTOMM2')\n",
    "else:\n",
    "    sys.path.insert(0,'C:\\\\Users\\\\gh464\\\\Documents\\\\GitHub\\\\SYMPTOMM2\\\\')\n",
    "from SYMPTOMM.cell import Cell\n",
    "from SYMPTOMM.scene_functions import create_space, step_and_update\n",
    "from SYMPTOMM.trench_geometry import trench_creator\n",
    "from SYMPTOMM.phase_contrast_drawing import *\n",
    "import tifffile\n",
    "import numpy as np\n",
    "from skimage.exposure import rescale_intensity\n",
    "from skimage.transform import rescale, resize, downscale_local_mean\n",
    "from ipywidgets import interact, interactive, fixed, interact_manual\n",
    "import ipywidgets as widgets\n",
    "from skimage.exposure import rescale_intensity\n",
    "from ipywidgets import interactive\n",
    "import os\n",
    "from PIL import Image\n",
    "import skimage\n",
    "from tqdm.notebook import tqdm\n",
    "import gc\n",
    "from SYMPTOMM.PSF import get_phase_contrast_kernel, get_condensers\n",
    "\n",
    "\n",
    "#viewer = napari.view_image(real_image)\n"
   ]
  },
  {
   "cell_type": "code",
   "execution_count": 3,
   "id": "22b52a51-d58e-40e2-bc1d-7c293856d79e",
   "metadata": {},
   "outputs": [],
   "source": [
    "real_image = tifffile.imread(\"/home/georgeos/Storage/Dropbox (Cambridge University)/Phase/real_data/Lane_02_pos_001_trench_x_0266_y_0059_w_0046_h_0460_c_Phase.tif\")"
   ]
  },
  {
   "cell_type": "code",
   "execution_count": 4,
   "id": "6dbe941a-ade0-4003-b237-8002b3f96aa3",
   "metadata": {},
   "outputs": [],
   "source": [
    "real_image = real_image[0,:256,:]"
   ]
  },
  {
   "cell_type": "code",
   "execution_count": 5,
   "id": "892d3954-8250-4021-967c-c87cbc9ce8d5",
   "metadata": {},
   "outputs": [
    {
     "data": {
      "text/plain": [
       "<matplotlib.image.AxesImage at 0x7f3d31553640>"
      ]
     },
     "execution_count": 5,
     "metadata": {},
     "output_type": "execute_result"
    },
    {
     "data": {
      "image/png": "[encoded data removed]",
      "text/plain": [
       "<Figure size 432x288 with 1 Axes>"
      ]
     },
     "metadata": {
      "needs_background": "light"
     },
     "output_type": "display_data"
    }
   ],
   "source": [
    "plt.imshow(real_image,cmap=\"Greys_r\")"
   ]
  },
  {
   "cell_type": "code",
   "execution_count": 6,
   "id": "86633adc-57c4-41b3-8076-6d2f1e45c231",
   "metadata": {},
   "outputs": [
    {
     "data": {
      "text/plain": [
       "(256, 46)"
      ]
     },
     "execution_count": 6,
     "metadata": {},
     "output_type": "execute_result"
    }
   ],
   "source": [
    "real_image.shape"
   ]
  },
  {
   "cell_type": "code",
   "execution_count": 7,
   "id": "64476ce1-d433-4a92-965a-6d8d0cf5534a",
   "metadata": {
    "tags": []
   },
   "outputs": [],
   "source": [
    "#real_image = tifffile.imread(\"/home/georgeos/Storage/Dropbox (Cambridge University)/Phase/Lane_02_pos_002_trench_x_1963_y_0067_w_0046_h_0460_c_Phase.tif\")[0][:300,:]\n"
   ]
  },
  {
   "cell_type": "markdown",
   "id": "fa476171-0ee2-4c5c-af18-a7fdf33e9374",
   "metadata": {},
   "source": [
    "### Scope props"
   ]
  },
  {
   "cell_type": "code",
   "execution_count": 8,
   "id": "51cc96ea-77be-4860-8f5d-eb0aaa1f4686",
   "metadata": {},
   "outputs": [],
   "source": [
    "condensers = get_condensers()\n",
    "W, R, diameter = condensers[\"Ph2\"]\n",
    "radius=50\n",
    "#F = 5\n",
    "λ = 0.75\n",
    "resize_amount = 3\n",
    "pix_mic_conv = 0.0655 ##0.108379937 micron/pix for 60x, 0.0655 for 100x\n",
    "scale = pix_mic_conv / resize_amount \n",
    "min_sigma = 0.42*0.6/6 / scale # micron#\n",
    "sigma=min_sigma\n",
    "NA=1.45\n",
    "n = 1.4\n",
    "kernel_params = (R,W,radius,scale,NA,n,sigma,λ)\n",
    "\n",
    "#kernel_params = (R,W,radius,scale,F,sigma,λ)\n"
   ]
  },
  {
   "cell_type": "code",
   "execution_count": 9,
   "id": "051c1bbe-e77c-4ccb-b433-67aab0463ae5",
   "metadata": {},
   "outputs": [],
   "source": [
    "def run_simulation(trench_length, trench_width, cell_max_length, cell_width, sim_length, pix_mic_conv, gravity, phys_iters, max_length_var, width_var):\n",
    "    \n",
    "    \n",
    "    space = create_space()\n",
    "    space.gravity = 0, gravity # arbitrary units, negative is toward trench pole\n",
    "    dt = 1/100 #time-step per frame\n",
    "    pix_mic_conv = 1/pix_mic_conv # micron per pixel\n",
    "    scale_factor = pix_mic_conv * 3 # resolution scaling factor \n",
    "\n",
    "    trench_length = trench_length*scale_factor\n",
    "    trench_width = trench_width*scale_factor\n",
    "    trench_creator(trench_width,trench_length,(35,0),space) # Coordinates of bottom left corner of the trench\n",
    "    #trench_creator(35,trench_length,(35*3,0),space) # Coordinates of bottom left corner of the trench\n",
    "    #trench_creator(35,trench_length,(35*5,0),space) # Coordinates of bottom left corner of the trench\n",
    "\n",
    "    cell1 = Cell(\n",
    "        length = cell_max_length*scale_factor,  \n",
    "        width = cell_width*scale_factor, \n",
    "        resolution = 60, \n",
    "        position = (20+35,40), \n",
    "        angle = 0.8, \n",
    "        space = space,\n",
    "        dt = 1/60,\n",
    "        growth_rate_constant = 1,\n",
    "        max_length = cell_max_length*scale_factor,\n",
    "        max_length_mean =cell_max_length*scale_factor,\n",
    "        max_length_var = max_length_var*np.sqrt(scale_factor),\n",
    "        width_var = width_var*np.sqrt(scale_factor),\n",
    "        width_mean = cell_width*scale_factor\n",
    "    )\n",
    "\n",
    "\n",
    "    cells = [cell1]\n",
    "    cell_timeseries = []\n",
    "    phys_iters = phys_iters\n",
    "    for x in tqdm(range(sim_length+250),desc=\"Simulation Progress\"):\n",
    "        cells = step_and_update(dt=dt, cells=cells, space=space, phys_iters=phys_iters,ylim=trench_length)\n",
    "        if x > 250:\n",
    "            cell_timeseries.append(deepcopy(cells))\n",
    "    return cell_timeseries, space"
   ]
  },
  {
   "cell_type": "markdown",
   "id": "87dffa43-0e61-4e4f-b1eb-c0da59ddbd4c",
   "metadata": {},
   "source": [
    "### Do very long cells"
   ]
  },
  {
   "cell_type": "code",
   "execution_count": 11,
   "id": "621dbe9f-5640-4bdd-812c-f96a6c24965c",
   "metadata": {
    "tags": []
   },
   "outputs": [
    {
     "data": {
      "application/vnd.jupyter.widget-view+json": {
       "model_id": "e0f84d801de947829773ca5822619f9e",
       "version_major": 2,
       "version_minor": 0
      },
      "text/plain": [
       "Simulation Progress:   0%|          | 0/950 [00:00<?, ?it/s]"
      ]
     },
     "metadata": {},
     "output_type": "display_data"
    },
    {
     "data": {
      "application/vnd.jupyter.widget-view+json": {
       "model_id": "6754e048f3c34a3186568fbee207592b",
       "version_major": 2,
       "version_minor": 0
      },
      "text/plain": [
       "Timeseries Properties:   0%|          | 0/699 [00:00<?, ?it/s]"
      ]
     },
     "metadata": {},
     "output_type": "display_data"
    },
    {
     "data": {
      "application/vnd.jupyter.widget-view+json": {
       "model_id": "69ea4e1c4c5a47d4863b4349f2df8703",
       "version_major": 2,
       "version_minor": 0
      },
      "text/plain": [
       "Scene Draw::   0%|          | 0/699 [00:00<?, ?it/s]"
      ]
     },
     "metadata": {},
     "output_type": "display_data"
    }
   ],
   "source": [
    "sim_length = 700\n",
    "cell_timeseries, space = run_simulation(\n",
    "    trench_length=15, \n",
    "    trench_width=1.55, \n",
    "    cell_max_length=6, \n",
    "    cell_width=1.1, \n",
    "    sim_length = sim_length, \n",
    "    pix_mic_conv = pix_mic_conv,\n",
    "    gravity=-2,\n",
    "    phys_iters=19,\n",
    "    max_length_var = 1.5,\n",
    "    width_var = 0.1\n",
    ") # growth phase\n",
    "main_segments = get_trench_segments(space)\n",
    "ID_props = generate_curve_props(cell_timeseries)\n",
    "cell_timeseries_properties = Parallel(n_jobs=-1)(\n",
    "    delayed(gen_cell_props_for_draw)(a, ID_props) for a in tqdm(cell_timeseries, desc='Timeseries Properties'))\n",
    "do_transformation = False\n",
    "offset = 30\n",
    "mask_threshold = 18\n",
    "label_masks = True\n",
    "space_size = get_space_size(cell_timeseries_properties)\n",
    "scenes = Parallel(n_jobs=-1)(delayed(draw_scene)(\n",
    "    cell_properties, do_transformation, mask_threshold, space_size, offset, label_masks) for cell_properties in tqdm(cell_timeseries_properties, desc='Scene Draw:'))"
   ]
  },
  {
   "cell_type": "code",
   "execution_count": 12,
   "id": "5099cb74-f23d-437d-bb8b-0b3c4945331d",
   "metadata": {},
   "outputs": [
    {
     "data": {
      "text/plain": [
       "7314"
      ]
     },
     "execution_count": 12,
     "metadata": {},
     "output_type": "execute_result"
    }
   ],
   "source": [
    "gc.collect()"
   ]
  },
  {
   "cell_type": "code",
   "execution_count": 18,
   "id": "bff99283-e3c0-4a79-8c4e-dbf2a25662f9",
   "metadata": {},
   "outputs": [
    {
     "name": "stderr",
     "output_type": "stream",
     "text": [
      "/home/georgeos/Documents/GitHub/SYMPTOMM2/SYMPTOMM/PSF.py:105: RuntimeWarning: invalid value encountered in true_divide\n",
      "  kernel1 = 2*jv(1,rr)/(rr)\n",
      "/home/georgeos/Documents/GitHub/SYMPTOMM2/SYMPTOMM/PSF.py:108: RuntimeWarning: invalid value encountered in true_divide\n",
      "  kernel2 = 2*(R-W)**2/R**2 * jv(1,(R-W)**2/R**2 * rr)/rr\n",
      "<ipython-input-18-c7398cafaa64>:28: RuntimeWarning: Mean of empty slice.\n",
      "  real_media_mean = real_resize[np.where(media_label.data)].mean();\n",
      "/home/georgeos/.local/lib/python3.8/site-packages/numpy/core/_methods.py:170: RuntimeWarning: invalid value encountered in double_scalars\n",
      "  ret = ret.dtype.type(ret / rcount)\n",
      "<ipython-input-18-c7398cafaa64>:29: RuntimeWarning: Mean of empty slice.\n",
      "  real_cell_mean = real_resize[np.where(cell_label.data)].mean();\n",
      "<ipython-input-18-c7398cafaa64>:30: RuntimeWarning: Mean of empty slice.\n",
      "  real_device_mean = real_resize[np.where(device_label.data)].mean()\n",
      "<ipython-input-18-c7398cafaa64>:33: RuntimeWarning: Degrees of freedom <= 0 for slice\n",
      "  real_media_var = real_resize[np.where(media_label.data)].var();\n",
      "/home/georgeos/.local/lib/python3.8/site-packages/numpy/core/_methods.py:194: RuntimeWarning: invalid value encountered in true_divide\n",
      "  arrmean = um.true_divide(\n",
      "/home/georgeos/.local/lib/python3.8/site-packages/numpy/core/_methods.py:226: RuntimeWarning: invalid value encountered in double_scalars\n",
      "  ret = ret.dtype.type(ret / rcount)\n",
      "<ipython-input-18-c7398cafaa64>:34: RuntimeWarning: Degrees of freedom <= 0 for slice\n",
      "  real_cell_var = real_resize[np.where(cell_label.data)].var();\n",
      "<ipython-input-18-c7398cafaa64>:35: RuntimeWarning: Degrees of freedom <= 0 for slice\n",
      "  real_device_var = real_resize[np.where(device_label.data)].var()\n"
     ]
    }
   ],
   "source": [
    "media_multiplier=30\n",
    "cell_multiplier=1\n",
    "device_multiplier=-50\n",
    "y_border_expansion_coefficient = 3\n",
    "x_border_expansion_coefficient = 3\n",
    "\n",
    "\n",
    "\n",
    "temp_expanded_scene, temp_expanded_scene_no_cells, temp_expanded_mask = generate_PC_OPL(\n",
    "   main_segments=main_segments,\n",
    "    offset=offset,\n",
    "    scene = scenes[0][0],\n",
    "    mask = scenes[0][1],\n",
    "    media_multiplier=media_multiplier,\n",
    "    cell_multiplier=cell_multiplier,\n",
    "    device_multiplier=cell_multiplier,\n",
    "    y_border_expansion_coefficient = y_border_expansion_coefficient,\n",
    "    x_border_expansion_coefficient = x_border_expansion_coefficient\n",
    ")\n",
    "\n",
    "\n",
    "\n",
    "### Generate temporary image to make same shape\n",
    "temp_kernel = get_phase_contrast_kernel(*kernel_params)\n",
    "convolved = convolve_rescale(temp_expanded_scene, temp_kernel, 1/resize_amount, rescale_int = True)\n",
    "real_resize, expanded_resized = make_images_same_shape(real_image,convolved, rescale_int=True)\n",
    "\n",
    "real_media_mean = real_resize[np.where(media_label.data)].mean();\n",
    "real_cell_mean = real_resize[np.where(cell_label.data)].mean(); \n",
    "real_device_mean = real_resize[np.where(device_label.data)].mean()\n",
    "real_means = np.array((real_media_mean, real_cell_mean, real_device_mean))\n",
    "\n",
    "real_media_var = real_resize[np.where(media_label.data)].var();\n",
    "real_cell_var = real_resize[np.where(cell_label.data)].var(); \n",
    "real_device_var = real_resize[np.where(device_label.data)].var()\n",
    "real_vars = np.array((real_media_var, real_cell_var, real_device_var))\n",
    "\n",
    "image_params = (real_media_mean, real_cell_mean, real_device_mean, real_means, real_media_var, real_cell_var, real_device_var, real_vars)"
   ]
  },
  {
   "cell_type": "code",
   "execution_count": 19,
   "id": "4cb1647a-2e38-40a4-9d86-49630cab30aa",
   "metadata": {},
   "outputs": [],
   "source": [
    "mean_error = []\n",
    "media_error = []\n",
    "cell_error = []\n",
    "device_error = []\n",
    "\n",
    "mean_var_error = []\n",
    "media_var_error = []\n",
    "cell_var_error = []\n",
    "device_var_error = []\n",
    "\n",
    "error_params = (mean_error,media_error,cell_error,device_error,mean_var_error,media_var_error,cell_var_error,device_var_error)\n",
    "\n",
    "params = interactive(\n",
    "    generate_test_comparison,\n",
    "    media_multiplier=(-300,300,1),\n",
    "    cell_multiplier=(-30,30,0.01),\n",
    "    device_multiplier=(-300,300,1),\n",
    "    sigma=(min_sigma,min_sigma*20, min_sigma/20),\n",
    "    scene_no = (0,sim_length-2,1),\n",
    "    noise_var=(0,0.01, 0.0001),\n",
    "    scale=(scale,scale,scale),\n",
    "    match_histogram = [True, False],\n",
    "    match_noise = [True, False],\n",
    "    offset=fixed(offset),\n",
    "    main_segments = fixed(main_segments),\n",
    "    debug_plot=fixed(True),\n",
    "    scenes = fixed(scenes),\n",
    "    kernel_params = fixed(kernel_params),\n",
    "    resize_amount = fixed(resize_amount), \n",
    "    real_image = fixed(real_image),\n",
    "    image_params = fixed(image_params),\n",
    "    error_params = fixed(error_params),\n",
    "    x_border_expansion_coefficient = fixed(x_border_expansion_coefficient),\n",
    "    y_border_expansion_coefficient = fixed(y_border_expansion_coefficient)\n",
    ");"
   ]
  },
  {
   "cell_type": "code",
   "execution_count": 20,
   "id": "378b3b24-0db2-4a17-9dca-832d2a064de6",
   "metadata": {},
   "outputs": [
    {
     "data": {
      "application/vnd.jupyter.widget-view+json": {
       "model_id": "779f7e18d541499bb2c2f4b49ce46377",
       "version_major": 2,
       "version_minor": 0
      },
      "text/plain": [
       "interactive(children=(IntSlider(value=0, description='media_multiplier', max=300, min=-300), FloatSlider(value…"
      ]
     },
     "metadata": {},
     "output_type": "display_data"
    }
   ],
   "source": [
    "params"
   ]
  },
  {
   "cell_type": "code",
   "execution_count": 22,
   "id": "332c02e6-af6f-41e7-979c-f00ee8e23781",
   "metadata": {
    "tags": []
   },
   "outputs": [
    {
     "name": "stderr",
     "output_type": "stream",
     "text": [
      "Sample generation: 100%|██████████| 10000/10000 [36:29<00:00,  4.57it/s]\n"
     ]
    }
   ],
   "source": [
    "generate_training_data(interactive_output = params, sample_amount = 0.0075, randomise_hist_match = True, randomise_noise_match = False, sim_length = sim_length, burn_in = 0, n_samples =  10000, save_dir = \"/home/georgeos/Storage/Dropbox (Cambridge University)/Phase/training_data_exponential/\")"
   ]
  },
  {
   "cell_type": "markdown",
   "id": "30746946-f64c-48f0-bda8-5c454d7dfcb0",
   "metadata": {},
   "source": [
    "### Do high variance + large cells"
   ]
  },
  {
   "cell_type": "code",
   "execution_count": 175,
   "id": "e81a7c1b",
   "metadata": {
    "collapsed": true,
    "jupyter": {
     "outputs_hidden": true
    },
    "tags": []
   },
   "outputs": [
    {
     "name": "stderr",
     "output_type": "stream",
     "text": [
      "\n",
      "\n",
      "\n",
      "Simulation Progress:   0%|          | 0/550 [00:00<?, ?it/s]\u001b[A\u001b[A\u001b[A\n",
      "\n",
      "\n",
      "Simulation Progress:   6%|▌         | 31/550 [00:00<00:01, 308.45it/s]\u001b[A\u001b[A\u001b[A\n",
      "\n",
      "\n",
      "Simulation Progress:  11%|█▏        | 62/550 [00:00<00:01, 250.25it/s]\u001b[A\u001b[A\u001b[A\n",
      "\n",
      "\n",
      "Simulation Progress:  16%|█▌        | 88/550 [00:00<00:02, 209.98it/s]\u001b[A\u001b[A\u001b[A\n",
      "\n",
      "\n",
      "Simulation Progress:  20%|██        | 110/550 [00:00<00:02, 159.75it/s]\u001b[A\u001b[A\u001b[A\n",
      "\n",
      "\n",
      "Simulation Progress:  23%|██▎       | 128/550 [00:00<00:03, 136.04it/s]\u001b[A\u001b[A\u001b[A\n",
      "\n",
      "\n",
      "Simulation Progress:  26%|██▌       | 143/550 [00:00<00:03, 122.39it/s]\u001b[A\u001b[A\u001b[A\n",
      "\n",
      "\n",
      "Simulation Progress:  28%|██▊       | 156/550 [00:01<00:03, 110.83it/s]\u001b[A\u001b[A\u001b[A\n",
      "\n",
      "\n",
      "Simulation Progress:  31%|███       | 168/550 [00:01<00:03, 108.93it/s]\u001b[A\u001b[A\u001b[A\n",
      "\n",
      "\n",
      "Simulation Progress:  33%|███▎      | 180/550 [00:01<00:03, 110.30it/s]\u001b[A\u001b[A\u001b[A\n",
      "\n",
      "\n",
      "Simulation Progress:  35%|███▍      | 192/550 [00:01<00:03, 104.15it/s]\u001b[A\u001b[A\u001b[A\n",
      "\n",
      "\n",
      "Simulation Progress:  37%|███▋      | 203/550 [00:01<00:03, 98.48it/s] \u001b[A\u001b[A\u001b[A\n",
      "\n",
      "\n",
      "Simulation Progress:  39%|███▊      | 213/550 [00:01<00:03, 98.40it/s]\u001b[A\u001b[A\u001b[A\n",
      "\n",
      "\n",
      "Simulation Progress:  41%|████      | 224/550 [00:01<00:03, 99.94it/s]\u001b[A\u001b[A\u001b[A\n",
      "\n",
      "\n",
      "Simulation Progress:  43%|████▎     | 235/550 [00:01<00:03, 101.91it/s]\u001b[A\u001b[A\u001b[A\n",
      "\n",
      "\n",
      "Simulation Progress:  45%|████▍     | 246/550 [00:02<00:03, 94.62it/s] \u001b[A\u001b[A\u001b[A\n",
      "\n",
      "\n",
      "Simulation Progress:  47%|████▋     | 256/550 [00:02<00:04, 71.69it/s]\u001b[A\u001b[A\u001b[A\n",
      "\n",
      "\n",
      "Simulation Progress:  48%|████▊     | 265/550 [00:02<00:05, 54.91it/s]\u001b[A\u001b[A\u001b[A\n",
      "\n",
      "\n",
      "Simulation Progress:  49%|████▉     | 272/550 [00:02<00:05, 47.31it/s]\u001b[A\u001b[A\u001b[A\n",
      "\n",
      "\n",
      "Simulation Progress:  51%|█████     | 278/550 [00:02<00:06, 44.05it/s]\u001b[A\u001b[A\u001b[A\n",
      "\n",
      "\n",
      "Simulation Progress:  51%|█████▏    | 283/550 [00:03<00:06, 39.86it/s]\u001b[A\u001b[A\u001b[A\n",
      "\n",
      "\n",
      "Sample generation:   0%|          | 0/5000 [15:07<?, ?it/s] 37.51it/s]\u001b[A\u001b[A\u001b[A\n",
      "Sample generation:  30%|██▉       | 1498/5000 [11:57<27:56,  2.09it/s]\n",
      "Sample generation:  34%|███▎      | 1685/5000 [06:33<12:54,  4.28it/s]\n",
      "\n",
      "\n",
      "\n",
      "Simulation Progress:  53%|█████▎    | 292/550 [00:05<00:35,  7.23it/s]\u001b[A\u001b[A\u001b[A\n",
      "\n",
      "\n",
      "Simulation Progress:  54%|█████▎    | 295/550 [00:05<00:30,  8.36it/s]\u001b[A\u001b[A\u001b[A\n",
      "\n",
      "\n",
      "Simulation Progress:  54%|█████▍    | 299/550 [00:05<00:24, 10.29it/s]\u001b[A\u001b[A\u001b[A\n",
      "\n",
      "\n",
      "Simulation Progress:  55%|█████▌    | 303/550 [00:05<00:19, 12.65it/s]\u001b[A\u001b[A\u001b[A\n",
      "\n",
      "\n",
      "Simulation Progress:  56%|█████▌    | 307/550 [00:05<00:15, 15.32it/s]\u001b[A\u001b[A\u001b[A\n",
      "\n",
      "\n",
      "Simulation Progress:  57%|█████▋    | 311/550 [00:06<00:13, 18.03it/s]\u001b[A\u001b[A\u001b[A\n",
      "\n",
      "\n",
      "Simulation Progress:  57%|█████▋    | 315/550 [00:06<00:11, 20.67it/s]\u001b[A\u001b[A\u001b[A\n",
      "\n",
      "\n",
      "Simulation Progress:  58%|█████▊    | 319/550 [00:06<00:09, 23.57it/s]\u001b[A\u001b[A\u001b[A\n",
      "\n",
      "\n",
      "Simulation Progress:  59%|█████▊    | 323/550 [00:06<00:08, 26.33it/s]\u001b[A\u001b[A\u001b[A\n",
      "\n",
      "\n",
      "Simulation Progress:  59%|█████▉    | 327/550 [00:06<00:07, 27.97it/s]\u001b[A\u001b[A\u001b[A\n",
      "\n",
      "\n",
      "Simulation Progress:  60%|██████    | 331/550 [00:06<00:07, 27.79it/s]\u001b[A\u001b[A\u001b[A\n",
      "\n",
      "\n",
      "Simulation Progress:  61%|██████    | 335/550 [00:06<00:07, 26.90it/s]\u001b[A\u001b[A\u001b[A\n",
      "\n",
      "\n",
      "Simulation Progress:  61%|██████▏   | 338/550 [00:06<00:07, 27.52it/s]\u001b[A\u001b[A\u001b[A\n",
      "\n",
      "\n",
      "Simulation Progress:  62%|██████▏   | 342/550 [00:07<00:07, 28.52it/s]\u001b[A\u001b[A\u001b[A\n",
      "\n",
      "\n",
      "Simulation Progress:  63%|██████▎   | 346/550 [00:07<00:06, 29.21it/s]\u001b[A\u001b[A\u001b[A\n",
      "\n",
      "\n",
      "Simulation Progress:  64%|██████▎   | 350/550 [00:07<00:06, 30.33it/s]\u001b[A\u001b[A\u001b[A\n",
      "\n",
      "\n",
      "Simulation Progress:  64%|██████▍   | 354/550 [00:07<00:06, 30.82it/s]\u001b[A\u001b[A\u001b[A\n",
      "\n",
      "\n",
      "Simulation Progress:  65%|██████▌   | 358/550 [00:07<00:06, 30.99it/s]\u001b[A\u001b[A\u001b[A\n",
      "\n",
      "\n",
      "Simulation Progress:  66%|██████▌   | 362/550 [00:07<00:06, 30.88it/s]\u001b[A\u001b[A\u001b[A\n",
      "\n",
      "\n",
      "Simulation Progress:  67%|██████▋   | 366/550 [00:07<00:05, 31.19it/s]\u001b[A\u001b[A\u001b[A\n",
      "\n",
      "\n",
      "Simulation Progress:  67%|██████▋   | 370/550 [00:08<00:05, 30.89it/s]\u001b[A\u001b[A\u001b[A\n",
      "\n",
      "\n",
      "Simulation Progress:  68%|██████▊   | 374/550 [00:08<00:05, 30.44it/s]\u001b[A\u001b[A\u001b[A\n",
      "\n",
      "\n",
      "Simulation Progress:  69%|██████▊   | 378/550 [00:08<00:05, 30.33it/s]\u001b[A\u001b[A\u001b[A\n",
      "\n",
      "\n",
      "Simulation Progress:  69%|██████▉   | 382/550 [00:08<00:05, 31.28it/s]\u001b[A\u001b[A\u001b[A\n",
      "\n",
      "\n",
      "Simulation Progress:  70%|███████   | 386/550 [00:08<00:05, 31.33it/s]\u001b[A\u001b[A\u001b[A\n",
      "\n",
      "\n",
      "Simulation Progress:  71%|███████   | 390/550 [00:08<00:05, 31.59it/s]\u001b[A\u001b[A\u001b[A\n",
      "\n",
      "\n",
      "Simulation Progress:  72%|███████▏  | 394/550 [00:08<00:04, 31.86it/s]\u001b[A\u001b[A\u001b[A\n",
      "\n",
      "\n",
      "Simulation Progress:  72%|███████▏  | 398/550 [00:08<00:04, 32.81it/s]\u001b[A\u001b[A\u001b[A\n",
      "\n",
      "\n",
      "Simulation Progress:  73%|███████▎  | 402/550 [00:08<00:04, 33.54it/s]\u001b[A\u001b[A\u001b[A\n",
      "\n",
      "\n",
      "Simulation Progress:  74%|███████▍  | 406/550 [00:09<00:04, 34.04it/s]\u001b[A\u001b[A\u001b[A\n",
      "\n",
      "\n",
      "Simulation Progress:  75%|███████▍  | 410/550 [00:09<00:04, 34.41it/s]\u001b[A\u001b[A\u001b[A\n",
      "\n",
      "\n",
      "Simulation Progress:  75%|███████▌  | 414/550 [00:09<00:03, 34.77it/s]\u001b[A\u001b[A\u001b[A\n",
      "\n",
      "\n",
      "Simulation Progress:  76%|███████▌  | 418/550 [00:09<00:03, 35.41it/s]\u001b[A\u001b[A\u001b[A\n",
      "\n",
      "\n",
      "Simulation Progress:  77%|███████▋  | 422/550 [00:09<00:03, 35.25it/s]\u001b[A\u001b[A\u001b[A\n",
      "\n",
      "\n",
      "Simulation Progress:  77%|███████▋  | 426/550 [00:09<00:03, 34.28it/s]\u001b[A\u001b[A\u001b[A\n",
      "\n",
      "\n",
      "Simulation Progress:  78%|███████▊  | 430/550 [00:09<00:03, 33.46it/s]\u001b[A\u001b[A\u001b[A\n",
      "\n",
      "\n",
      "Simulation Progress:  79%|███████▉  | 434/550 [00:09<00:03, 32.80it/s]\u001b[A\u001b[A\u001b[A\n",
      "\n",
      "\n",
      "Simulation Progress:  80%|███████▉  | 438/550 [00:10<00:03, 32.16it/s]\u001b[A\u001b[A\u001b[A\n",
      "\n",
      "\n",
      "Simulation Progress:  80%|████████  | 442/550 [00:10<00:03, 31.84it/s]\u001b[A\u001b[A\u001b[A\n",
      "\n",
      "\n",
      "Simulation Progress:  81%|████████  | 446/550 [00:10<00:03, 32.22it/s]\u001b[A\u001b[A\u001b[A\n",
      "\n",
      "\n",
      "Simulation Progress:  82%|████████▏ | 450/550 [00:10<00:03, 32.54it/s]\u001b[A\u001b[A\u001b[A\n",
      "\n",
      "\n",
      "Simulation Progress:  83%|████████▎ | 454/550 [00:10<00:02, 32.74it/s]\u001b[A\u001b[A\u001b[A\n",
      "\n",
      "\n",
      "Simulation Progress:  83%|████████▎ | 458/550 [00:10<00:02, 33.20it/s]\u001b[A\u001b[A\u001b[A\n",
      "\n",
      "\n",
      "Simulation Progress:  84%|████████▍ | 462/550 [00:10<00:02, 33.88it/s]\u001b[A\u001b[A\u001b[A\n",
      "\n",
      "\n",
      "Simulation Progress:  85%|████████▍ | 466/550 [00:10<00:02, 34.94it/s]\u001b[A\u001b[A\u001b[A\n",
      "\n",
      "\n",
      "Simulation Progress:  85%|████████▌ | 470/550 [00:10<00:02, 36.08it/s]\u001b[A\u001b[A\u001b[A\n",
      "\n",
      "\n",
      "Simulation Progress:  86%|████████▌ | 474/550 [00:11<00:02, 35.29it/s]\u001b[A\u001b[A\u001b[A\n",
      "\n",
      "\n",
      "Simulation Progress:  87%|████████▋ | 478/550 [00:11<00:02, 34.16it/s]\u001b[A\u001b[A\u001b[A\n",
      "\n",
      "\n",
      "Simulation Progress:  88%|████████▊ | 482/550 [00:11<00:02, 33.07it/s]\u001b[A\u001b[A\u001b[A\n",
      "\n",
      "\n",
      "Simulation Progress:  88%|████████▊ | 486/550 [00:11<00:01, 32.39it/s]\u001b[A\u001b[A\u001b[A\n",
      "\n",
      "\n",
      "Simulation Progress:  89%|████████▉ | 490/550 [00:11<00:01, 32.00it/s]\u001b[A\u001b[A\u001b[A\n",
      "\n",
      "\n",
      "Simulation Progress:  90%|████████▉ | 494/550 [00:11<00:01, 31.99it/s]\u001b[A\u001b[A\u001b[A\n",
      "\n",
      "\n",
      "Simulation Progress:  91%|█████████ | 498/550 [00:11<00:01, 32.01it/s]\u001b[A\u001b[A\u001b[A\n",
      "\n",
      "\n",
      "Simulation Progress:  91%|█████████▏| 502/550 [00:12<00:01, 31.76it/s]\u001b[A\u001b[A\u001b[A\n",
      "\n",
      "\n",
      "Simulation Progress:  92%|█████████▏| 506/550 [00:12<00:01, 31.46it/s]\u001b[A\u001b[A\u001b[A\n",
      "\n",
      "\n",
      "Simulation Progress:  93%|█████████▎| 510/550 [00:12<00:01, 31.49it/s]\u001b[A\u001b[A\u001b[A\n",
      "\n",
      "\n",
      "Simulation Progress:  93%|█████████▎| 514/550 [00:12<00:01, 32.45it/s]\u001b[A\u001b[A\u001b[A\n",
      "\n",
      "\n",
      "Simulation Progress:  94%|█████████▍| 518/550 [00:12<00:00, 34.01it/s]\u001b[A\u001b[A\u001b[A\n",
      "\n",
      "\n",
      "Simulation Progress:  95%|█████████▍| 522/550 [00:12<00:00, 34.50it/s]\u001b[A\u001b[A\u001b[A\n",
      "\n",
      "\n",
      "Simulation Progress:  96%|█████████▌| 526/550 [00:12<00:00, 34.01it/s]\u001b[A\u001b[A\u001b[A\n",
      "\n",
      "\n",
      "Simulation Progress:  96%|█████████▋| 530/550 [00:12<00:00, 33.29it/s]\u001b[A\u001b[A\u001b[A\n",
      "\n",
      "\n",
      "Simulation Progress:  97%|█████████▋| 534/550 [00:12<00:00, 32.84it/s]\u001b[A\u001b[A\u001b[A\n",
      "\n",
      "\n",
      "Simulation Progress:  98%|█████████▊| 538/550 [00:13<00:00, 32.80it/s]\u001b[A\u001b[A\u001b[A\n",
      "\n",
      "\n",
      "Simulation Progress:  99%|█████████▊| 542/550 [00:13<00:00, 32.71it/s]\u001b[A\u001b[A\u001b[A\n",
      "\n",
      "\n",
      "Simulation Progress:  99%|█████████▉| 546/550 [00:13<00:00, 31.21it/s]\u001b[A\u001b[A\u001b[A\n",
      "\n",
      "\n",
      "Simulation Progress: 100%|██████████| 550/550 [00:15<00:00, 35.72it/s]\u001b[A\u001b[A\u001b[A\n",
      "Timeseries Properties: 100%|██████████| 299/299 [00:07<00:00, 40.63it/s]\n",
      "Scene Draw:: 100%|██████████| 299/299 [02:04<00:00,  2.40it/s]\n"
     ]
    }
   ],
   "source": [
    "sim_length = 300\n",
    "cell_timeseries, space = run_simulation(\n",
    "    trench_length=15, \n",
    "    trench_width=1.55, \n",
    "    cell_max_length=4.7, \n",
    "    cell_width=1.1, \n",
    "    sim_length = sim_length, \n",
    "    pix_mic_conv = pix_mic_conv,\n",
    "    gravity=-2,\n",
    "    phys_iters=19,\n",
    "    max_length_var = 7,\n",
    "    width_var = 0.09\n",
    ") # growth phase\n",
    "main_segments = get_trench_segments(space)\n",
    "ID_props = generate_curve_props(cell_timeseries)\n",
    "cell_timeseries_properties = Parallel(n_jobs=-1)(\n",
    "    delayed(gen_cell_props_for_draw)(a, ID_props) for a in tqdm(cell_timeseries, desc='Timeseries Properties'))\n",
    "do_transformation = False\n",
    "offset = 30\n",
    "mask_threshold = 18\n",
    "label_masks = True\n",
    "space_size = get_space_size(cell_timeseries_properties)\n",
    "scenes = Parallel(n_jobs=-1)(delayed(draw_scene)(\n",
    "    cell_properties, do_transformation, mask_threshold, space_size, offset, label_masks) for cell_properties in tqdm(cell_timeseries_properties, desc='Scene Draw:'))"
   ]
  },
  {
   "cell_type": "code",
   "execution_count": 176,
   "id": "034e81eb-89c7-4ea5-afcc-c078f2d18480",
   "metadata": {},
   "outputs": [],
   "source": [
    "media_multiplier=30\n",
    "cell_multiplier=1\n",
    "device_multiplier=-50\n",
    "y_border_expansion_coefficient = 3\n",
    "x_border_expansion_coefficient = 3\n",
    "\n",
    "\n",
    "\n",
    "temp_expanded_scene, temp_expanded_scene_no_cells, temp_expanded_mask = generate_PC_OPL(\n",
    "   main_segments=main_segments,\n",
    "    offset=offset,\n",
    "    scene = scenes[0][0],\n",
    "    mask = scenes[0][1],\n",
    "    media_multiplier=media_multiplier,\n",
    "    cell_multiplier=cell_multiplier,\n",
    "    device_multiplier=cell_multiplier,\n",
    "    y_border_expansion_coefficient = y_border_expansion_coefficient,\n",
    "    x_border_expansion_coefficient = x_border_expansion_coefficient\n",
    ")\n",
    "\n",
    "\n",
    "\n",
    "### Generate temporary image to make same shape\n",
    "temp_kernel = get_phase_contrast_kernel(*kernel_params)\n",
    "convolved = convolve_rescale(temp_expanded_scene, temp_kernel, 1/resize_amount, rescale_int = True)\n",
    "real_resize, expanded_resized = make_images_same_shape(real_image,convolved, rescale_int=True)\n",
    "\n"
   ]
  },
  {
   "cell_type": "code",
   "execution_count": 16,
   "id": "a6eb54f0-ee62-4dd0-afcd-69374fbe6608",
   "metadata": {},
   "outputs": [
    {
     "name": "stderr",
     "output_type": "stream",
     "text": [
      "WARNING:napari_ndtiffs.affine:Could not import pyopencl. Falling back to scipy for CPU affine transforms\n"
     ]
    }
   ],
   "source": [
    "viewer = napari.view_image(real_resize)\n",
    "media_label = viewer.add_labels(np.zeros(real_resize.shape).astype(int), name = \"media\")\n",
    "cell_label = viewer.add_labels(np.zeros(real_resize.shape).astype(int), name = \"cell\")\n",
    "device_label = viewer.add_labels(np.zeros(real_resize.shape).astype(int), name = \"device\")"
   ]
  },
  {
   "cell_type": "code",
   "execution_count": 100,
   "id": "402fc7cd-5c59-4702-b0b0-c3241cf707e9",
   "metadata": {},
   "outputs": [],
   "source": [
    "real_media_mean = real_resize[np.where(media_label.data)].mean();\n",
    "real_cell_mean = real_resize[np.where(cell_label.data)].mean(); \n",
    "real_device_mean = real_resize[np.where(device_label.data)].mean()\n",
    "real_means = np.array((real_media_mean, real_cell_mean, real_device_mean))\n",
    "\n",
    "real_media_var = real_resize[np.where(media_label.data)].var();\n",
    "real_cell_var = real_resize[np.where(cell_label.data)].var(); \n",
    "real_device_var = real_resize[np.where(device_label.data)].var()\n",
    "real_vars = np.array((real_media_var, real_cell_var, real_device_var))\n",
    "\n",
    "image_params = (real_media_mean, real_cell_mean, real_device_mean, real_means, real_media_var, real_cell_var, real_device_var, real_vars)"
   ]
  },
  {
   "cell_type": "code",
   "execution_count": 179,
   "id": "7ef9f0e0-ec46-410a-ae01-60ef3caa87de",
   "metadata": {},
   "outputs": [],
   "source": [
    "mean_error = []\n",
    "media_error = []\n",
    "cell_error = []\n",
    "device_error = []\n",
    "\n",
    "mean_var_error = []\n",
    "media_var_error = []\n",
    "cell_var_error = []\n",
    "device_var_error = []\n",
    "\n",
    "error_params = (mean_error,media_error,cell_error,device_error,mean_var_error,media_var_error,cell_var_error,device_var_error)\n",
    "\n",
    "params = interactive(\n",
    "    generate_test_comparison,\n",
    "    media_multiplier=(-300,300,1),\n",
    "    cell_multiplier=(-30,30,0.01),\n",
    "    device_multiplier=(-300,300,1),\n",
    "    sigma=(min_sigma,min_sigma*20, min_sigma/20),\n",
    "    scene_no = (0,sim_length-2,1),\n",
    "    noise_var=(0,0.01, 0.0001),\n",
    "    scale=(scale,scale,scale),\n",
    "    match_histogram = [True, False],\n",
    "    match_noise = [True, False],\n",
    "    offset=fixed(offset),\n",
    "    main_segments = fixed(main_segments),\n",
    "    debug_plot=fixed(True),\n",
    "    scenes = fixed(scenes),\n",
    "    kernel_params = fixed(kernel_params),\n",
    "    resize_amount = fixed(resize_amount), \n",
    "    real_image = fixed(real_image),\n",
    "    image_params = fixed(image_params),\n",
    "    error_params = fixed(error_params),\n",
    "    x_border_expansion_coefficient = fixed(x_border_expansion_coefficient),\n",
    "    y_border_expansion_coefficient = fixed(y_border_expansion_coefficient)\n",
    ");"
   ]
  },
  {
   "cell_type": "code",
   "execution_count": 180,
   "id": "46a8a43d-4bae-4630-8cdb-ac33f03181ba",
   "metadata": {},
   "outputs": [
    {
     "data": {
      "application/vnd.jupyter.widget-view+json": {
       "model_id": "86fc29ad3ff7429f9cac4621315f8562",
       "version_major": 2,
       "version_minor": 0
      },
      "text/plain": [
       "interactive(children=(IntSlider(value=0, description='media_multiplier', max=300, min=-300), FloatSlider(value…"
      ]
     },
     "metadata": {},
     "output_type": "display_data"
    }
   ],
   "source": [
    "params"
   ]
  },
  {
   "cell_type": "code",
   "execution_count": 181,
   "id": "005633aa-0587-4639-a40e-24cc202dad5b",
   "metadata": {
    "tags": []
   },
   "outputs": [
    {
     "name": "stderr",
     "output_type": "stream",
     "text": [
      "Sample generation: 100%|██████████| 5000/5000 [17:31<00:00,  4.75it/s]\n"
     ]
    }
   ],
   "source": [
    "generate_training_data(interactive_output = params, sample_amount = 0.025, randomise_hist_match = True, randomise_noise_match = False, sim_length = sim_length, burn_in = 0, n_samples =  5000, save_dir = \"/home/georgeos/Storage/Dropbox (Cambridge University)/Phase/training_data/\")"
   ]
  },
  {
   "cell_type": "markdown",
   "id": "7695e753-539c-4365-b373-e38329014986",
   "metadata": {},
   "source": [
    "### Do long cells low var"
   ]
  },
  {
   "cell_type": "code",
   "execution_count": 188,
   "id": "d312d5fb-ca93-4fcf-b322-c9a17ee866c3",
   "metadata": {
    "tags": []
   },
   "outputs": [
    {
     "name": "stderr",
     "output_type": "stream",
     "text": [
      "Simulation Progress: 100%|██████████| 550/550 [00:13<00:00, 41.47it/s] \n",
      "Timeseries Properties: 100%|██████████| 299/299 [00:03<00:00, 92.64it/s] \n",
      "Scene Draw:: 100%|██████████| 299/299 [02:04<00:00,  2.40it/s]\n"
     ]
    }
   ],
   "source": [
    "sim_length = 300\n",
    "cell_timeseries, space = run_simulation(\n",
    "    trench_length=15, \n",
    "    trench_width=1.5, \n",
    "    cell_max_length=4.7, \n",
    "    cell_width=1.09, \n",
    "    sim_length = sim_length, \n",
    "    pix_mic_conv = pix_mic_conv,\n",
    "    gravity=-4,\n",
    "    phys_iters=35,\n",
    "    max_length_var = 2,\n",
    "    width_var = 0.06\n",
    ") # growth phase\n",
    "main_segments = get_trench_segments(space)\n",
    "ID_props = generate_curve_props(cell_timeseries)\n",
    "cell_timeseries_properties = Parallel(n_jobs=-1)(\n",
    "    delayed(gen_cell_props_for_draw)(a, ID_props) for a in tqdm(cell_timeseries, desc='Timeseries Properties'))\n",
    "do_transformation = True\n",
    "offset = 30\n",
    "mask_threshold = 18\n",
    "label_masks = True\n",
    "space_size = get_space_size(cell_timeseries_properties)\n",
    "scenes = Parallel(n_jobs=-1)(delayed(draw_scene)(\n",
    "    cell_properties, do_transformation, mask_threshold, space_size, offset, label_masks) for cell_properties in tqdm(cell_timeseries_properties, desc='Scene Draw:'))"
   ]
  },
  {
   "cell_type": "code",
   "execution_count": 190,
   "id": "99bd965a-cc77-444a-aa0c-2b5fb0e30029",
   "metadata": {},
   "outputs": [],
   "source": [
    "mean_error = []\n",
    "media_error = []\n",
    "cell_error = []\n",
    "device_error = []\n",
    "\n",
    "mean_var_error = []\n",
    "media_var_error = []\n",
    "cell_var_error = []\n",
    "device_var_error = []\n",
    "\n",
    "error_params = (mean_error,media_error,cell_error,device_error,mean_var_error,media_var_error,cell_var_error,device_var_error)\n",
    "\n",
    "params = interactive(\n",
    "    generate_test_comparison,\n",
    "    media_multiplier=(-300,300,1),\n",
    "    cell_multiplier=(-30,30,0.01),\n",
    "    device_multiplier=(-300,300,1),\n",
    "    sigma=(min_sigma,min_sigma*20, min_sigma/20),\n",
    "    scene_no = (0,sim_length-2,1),\n",
    "    noise_var=(0,0.01, 0.0001),\n",
    "    scale=(scale,scale,scale),\n",
    "    match_histogram = [True, False],\n",
    "    match_noise = [True, False],\n",
    "    offset=fixed(offset),\n",
    "    main_segments = fixed(main_segments),\n",
    "    debug_plot=fixed(True),\n",
    "    scenes = fixed(scenes),\n",
    "    kernel_params = fixed(kernel_params),\n",
    "    resize_amount = fixed(resize_amount), \n",
    "    real_image = fixed(real_image),\n",
    "    image_params = fixed(image_params),\n",
    "    error_params = fixed(error_params),\n",
    "    x_border_expansion_coefficient = fixed(x_border_expansion_coefficient),\n",
    "    y_border_expansion_coefficient = fixed(y_border_expansion_coefficient)\n",
    ");"
   ]
  },
  {
   "cell_type": "code",
   "execution_count": 191,
   "id": "ab5bf954-4e3f-4f72-802f-cf06dc43d458",
   "metadata": {},
   "outputs": [
    {
     "data": {
      "application/vnd.jupyter.widget-view+json": {
       "model_id": "799477064cd04e4795f7ecf9303762d5",
       "version_major": 2,
       "version_minor": 0
      },
      "text/plain": [
       "interactive(children=(IntSlider(value=0, description='media_multiplier', max=300, min=-300), FloatSlider(value…"
      ]
     },
     "metadata": {},
     "output_type": "display_data"
    }
   ],
   "source": [
    "params"
   ]
  },
  {
   "cell_type": "code",
   "execution_count": 192,
   "id": "6abcdd96-3e14-4e2b-b9ef-8f19ab5a5ba7",
   "metadata": {
    "tags": []
   },
   "outputs": [
    {
     "name": "stderr",
     "output_type": "stream",
     "text": [
      "Sample generation: 100%|██████████| 1000/1000 [03:26<00:00,  4.84it/s]\n"
     ]
    }
   ],
   "source": [
    "generate_training_data(interactive_output = params, sample_amount = 0.025, randomise_hist_match = False, randomise_noise_match = False, sim_length = sim_length, burn_in = 0, n_samples =  1000, save_dir = \"/home/georgeos/Storage/Dropbox (Cambridge University)/Phase/training_data/\")"
   ]
  },
  {
   "cell_type": "markdown",
   "id": "15e9ba8f-bbea-4da8-8be0-1be158493b41",
   "metadata": {},
   "source": [
    "## Do small cells"
   ]
  },
  {
   "cell_type": "code",
   "execution_count": 198,
   "id": "d6e0a552-e91e-4175-93d1-a43462971fbf",
   "metadata": {
    "tags": []
   },
   "outputs": [
    {
     "name": "stderr",
     "output_type": "stream",
     "text": [
      "Simulation Progress: 100%|██████████| 350/350 [00:07<00:00, 46.76it/s]\n",
      "Timeseries Properties: 100%|██████████| 99/99 [00:06<00:00, 16.11it/s]\n",
      "Scene Draw:: 100%|██████████| 99/99 [00:57<00:00,  1.71it/s]\n"
     ]
    }
   ],
   "source": [
    "sim_length = 100\n",
    "cell_timeseries, space = run_simulation(\n",
    "    trench_length=15, \n",
    "    trench_width=1.5, \n",
    "    cell_max_length=2.8, \n",
    "    cell_width=1.05, \n",
    "    sim_length = sim_length, \n",
    "    pix_mic_conv = pix_mic_conv,\n",
    "    gravity=-7,\n",
    "    phys_iters=25,\n",
    "    max_length_var = 2,\n",
    "    width_var = 0.06\n",
    ") # growth phase\n",
    "main_segments = get_trench_segments(space)\n",
    "ID_props = generate_curve_props(cell_timeseries)\n",
    "cell_timeseries_properties = Parallel(n_jobs=-1)(\n",
    "    delayed(gen_cell_props_for_draw)(a, ID_props) for a in tqdm(cell_timeseries, desc='Timeseries Properties'))\n",
    "do_transformation = False\n",
    "offset = 30\n",
    "mask_threshold = 18\n",
    "label_masks = True\n",
    "space_size = get_space_size(cell_timeseries_properties)\n",
    "scenes = Parallel(n_jobs=-1)(delayed(draw_scene)(\n",
    "    cell_properties, do_transformation, mask_threshold, space_size, offset, label_masks) for cell_properties in tqdm(cell_timeseries_properties, desc='Scene Draw:'))"
   ]
  },
  {
   "cell_type": "code",
   "execution_count": 195,
   "id": "744f35ce-86a5-41f8-a1c7-210812aeb800",
   "metadata": {},
   "outputs": [],
   "source": [
    "mean_error = []\n",
    "media_error = []\n",
    "cell_error = []\n",
    "device_error = []\n",
    "\n",
    "mean_var_error = []\n",
    "media_var_error = []\n",
    "cell_var_error = []\n",
    "device_var_error = []\n",
    "\n",
    "error_params = (mean_error,media_error,cell_error,device_error,mean_var_error,media_var_error,cell_var_error,device_var_error)\n",
    "\n",
    "params = interactive(\n",
    "    generate_test_comparison,\n",
    "    media_multiplier=(-300,300,1),\n",
    "    cell_multiplier=(-30,30,0.01),\n",
    "    device_multiplier=(-300,300,1),\n",
    "    sigma=(min_sigma,min_sigma*20, min_sigma/20),\n",
    "    scene_no = (0,sim_length-2,1),\n",
    "    noise_var=(0,0.01, 0.0001),\n",
    "    scale=(scale,scale,scale),\n",
    "    match_histogram = [True, False],\n",
    "    match_noise = [True, False],\n",
    "    offset=fixed(offset),\n",
    "    main_segments = fixed(main_segments),\n",
    "    debug_plot=fixed(True),\n",
    "    scenes = fixed(scenes),\n",
    "    kernel_params = fixed(kernel_params),\n",
    "    resize_amount = fixed(resize_amount), \n",
    "    real_image = fixed(real_image),\n",
    "    image_params = fixed(image_params),\n",
    "    error_params = fixed(error_params),\n",
    "    x_border_expansion_coefficient = fixed(x_border_expansion_coefficient),\n",
    "    y_border_expansion_coefficient = fixed(y_border_expansion_coefficient)\n",
    ");"
   ]
  },
  {
   "cell_type": "code",
   "execution_count": 196,
   "id": "1740dca0-abf0-4f08-8038-67ceb78c1744",
   "metadata": {},
   "outputs": [
    {
     "data": {
      "application/vnd.jupyter.widget-view+json": {
       "model_id": "651f02038f45421587e80e3972b88982",
       "version_major": 2,
       "version_minor": 0
      },
      "text/plain": [
       "interactive(children=(IntSlider(value=0, description='media_multiplier', max=300, min=-300), FloatSlider(value…"
      ]
     },
     "metadata": {},
     "output_type": "display_data"
    }
   ],
   "source": [
    "params"
   ]
  },
  {
   "cell_type": "code",
   "execution_count": 200,
   "id": "1545c16f-6cf4-40c8-9a86-e2acd5d943c3",
   "metadata": {
    "collapsed": true,
    "jupyter": {
     "outputs_hidden": true
    },
    "tags": []
   },
   "outputs": [
    {
     "name": "stderr",
     "output_type": "stream",
     "text": [
      "\n",
      "Sample generation:   0%|          | 0/1000 [00:00<?, ?it/s]\u001b[A\n",
      "Sample generation:   0%|          | 1/1000 [00:00<04:47,  3.48it/s]\u001b[A\n",
      "Sample generation:   0%|          | 2/1000 [00:00<03:54,  4.25it/s]\u001b[A\n",
      "Sample generation:   0%|          | 3/1000 [00:00<03:41,  4.51it/s]\u001b[A\n",
      "Sample generation:   0%|          | 4/1000 [00:00<03:32,  4.69it/s]\u001b[A\n",
      "Sample generation:   0%|          | 5/1000 [00:01<03:28,  4.78it/s]\u001b[A\n",
      "Sample generation:   1%|          | 6/1000 [00:01<03:25,  4.83it/s]\u001b[A\n",
      "Sample generation:   1%|          | 7/1000 [00:01<03:26,  4.81it/s]\u001b[A\n",
      "Sample generation:   1%|          | 8/1000 [00:01<03:22,  4.89it/s]\u001b[A\n",
      "Sample generation:   1%|          | 9/1000 [00:01<03:21,  4.92it/s]\u001b[A\n",
      "Sample generation:   1%|          | 10/1000 [00:02<03:20,  4.95it/s]\u001b[A\n",
      "Sample generation:   1%|          | 11/1000 [00:02<03:18,  4.98it/s]\u001b[A\n",
      "Sample generation:   1%|          | 12/1000 [00:02<03:17,  5.01it/s]\u001b[A\n",
      "Sample generation:   1%|▏         | 13/1000 [00:02<03:17,  5.01it/s]\u001b[A\n",
      "Sample generation:   1%|▏         | 14/1000 [00:02<03:19,  4.94it/s]\u001b[A\n",
      "Sample generation:   2%|▏         | 15/1000 [00:03<03:19,  4.95it/s]\u001b[A\n",
      "Sample generation:   2%|▏         | 16/1000 [00:03<03:19,  4.92it/s]\u001b[A\n",
      "Sample generation:   2%|▏         | 17/1000 [00:03<03:20,  4.91it/s]\u001b[A\n",
      "Sample generation:   2%|▏         | 18/1000 [00:03<03:18,  4.94it/s]\u001b[A\n",
      "Sample generation:   2%|▏         | 19/1000 [00:03<03:17,  4.97it/s]\u001b[A\n",
      "Sample generation:   2%|▏         | 20/1000 [00:04<03:16,  4.99it/s]\u001b[A\n",
      "Sample generation:   2%|▏         | 21/1000 [00:04<03:16,  4.98it/s]\u001b[A\n",
      "Sample generation:   2%|▏         | 22/1000 [00:04<03:15,  5.00it/s]\u001b[A\n",
      "Sample generation:   2%|▏         | 23/1000 [00:04<03:16,  4.96it/s]\u001b[A\n",
      "Sample generation:   2%|▏         | 24/1000 [00:04<03:17,  4.95it/s]\u001b[A\n",
      "Sample generation:   2%|▎         | 25/1000 [00:05<03:17,  4.94it/s]\u001b[A\n",
      "Sample generation:   3%|▎         | 26/1000 [00:05<03:17,  4.94it/s]\u001b[A\n",
      "Sample generation:   3%|▎         | 27/1000 [00:05<03:17,  4.92it/s]\u001b[A\n",
      "Sample generation:   3%|▎         | 28/1000 [00:05<03:16,  4.95it/s]\u001b[A\n",
      "Sample generation:   3%|▎         | 29/1000 [00:05<03:15,  4.98it/s]\u001b[A\n",
      "Sample generation:   3%|▎         | 30/1000 [00:06<03:15,  4.95it/s]\u001b[A\n",
      "Sample generation:   3%|▎         | 31/1000 [00:06<03:14,  4.98it/s]\u001b[A\n",
      "Sample generation:   3%|▎         | 32/1000 [00:06<03:13,  5.00it/s]\u001b[A\n",
      "Sample generation:   3%|▎         | 33/1000 [00:06<03:13,  5.00it/s]\u001b[A\n",
      "Sample generation:   3%|▎         | 34/1000 [00:06<03:15,  4.95it/s]\u001b[A\n",
      "Sample generation:   4%|▎         | 35/1000 [00:07<03:14,  4.96it/s]\u001b[A\n",
      "Sample generation:   4%|▎         | 36/1000 [00:07<03:16,  4.90it/s]\u001b[A\n",
      "Sample generation:   4%|▎         | 37/1000 [00:07<03:15,  4.92it/s]\u001b[A\n",
      "Sample generation:   4%|▍         | 38/1000 [00:07<03:15,  4.93it/s]\u001b[A\n",
      "Sample generation:   4%|▍         | 39/1000 [00:07<03:13,  4.96it/s]\u001b[A\n",
      "Sample generation:   4%|▍         | 40/1000 [00:08<03:13,  4.96it/s]\u001b[A\n",
      "Sample generation:   4%|▍         | 41/1000 [00:08<03:13,  4.96it/s]\u001b[A\n",
      "Sample generation:   4%|▍         | 42/1000 [00:08<03:12,  4.99it/s]\u001b[A\n",
      "Sample generation:   4%|▍         | 43/1000 [00:08<03:12,  4.97it/s]\u001b[A\n",
      "Sample generation:   4%|▍         | 44/1000 [00:08<03:12,  4.96it/s]\u001b[A\n",
      "Sample generation:   4%|▍         | 45/1000 [00:09<03:12,  4.95it/s]\u001b[A\n",
      "Sample generation:   5%|▍         | 46/1000 [00:09<03:11,  4.97it/s]\u001b[A\n",
      "Sample generation:   5%|▍         | 47/1000 [00:09<03:12,  4.94it/s]\u001b[A\n",
      "Sample generation:   5%|▍         | 48/1000 [00:09<03:11,  4.97it/s]\u001b[A\n",
      "Sample generation:   5%|▍         | 49/1000 [00:09<03:13,  4.92it/s]\u001b[A\n",
      "Sample generation:   5%|▌         | 50/1000 [00:10<03:11,  4.95it/s]\u001b[A\n",
      "Sample generation:   5%|▌         | 51/1000 [00:10<03:10,  4.97it/s]\u001b[A\n",
      "Sample generation:   5%|▌         | 52/1000 [00:10<03:11,  4.96it/s]\u001b[A\n",
      "Sample generation:   5%|▌         | 53/1000 [00:10<03:12,  4.92it/s]\u001b[A\n",
      "Sample generation:   5%|▌         | 54/1000 [00:10<03:11,  4.94it/s]\u001b[A\n",
      "Sample generation:   6%|▌         | 55/1000 [00:11<03:13,  4.88it/s]\u001b[A\n",
      "Sample generation:   6%|▌         | 56/1000 [00:11<03:12,  4.90it/s]\u001b[A\n",
      "Sample generation:   6%|▌         | 57/1000 [00:11<03:11,  4.93it/s]\u001b[A\n",
      "Sample generation:   6%|▌         | 58/1000 [00:11<03:09,  4.97it/s]\u001b[A\n",
      "Sample generation:   6%|▌         | 59/1000 [00:11<03:10,  4.93it/s]\u001b[A\n",
      "Sample generation:   6%|▌         | 60/1000 [00:12<03:10,  4.94it/s]\u001b[A\n",
      "Sample generation:   6%|▌         | 61/1000 [00:12<03:10,  4.93it/s]\u001b[A\n",
      "Sample generation:   6%|▌         | 62/1000 [00:12<03:10,  4.93it/s]\u001b[A\n",
      "Sample generation:   6%|▋         | 63/1000 [00:12<03:11,  4.88it/s]\u001b[A\n",
      "Sample generation:   6%|▋         | 64/1000 [00:13<03:10,  4.92it/s]\u001b[A\n",
      "Sample generation:   6%|▋         | 65/1000 [00:13<03:10,  4.92it/s]\u001b[A\n",
      "Sample generation:   7%|▋         | 66/1000 [00:13<03:12,  4.86it/s]\u001b[A\n",
      "Sample generation:   7%|▋         | 67/1000 [00:13<03:12,  4.84it/s]\u001b[A\n",
      "Sample generation:   7%|▋         | 68/1000 [00:13<03:10,  4.89it/s]\u001b[A\n",
      "Sample generation:   7%|▋         | 69/1000 [00:14<03:11,  4.87it/s]\u001b[A\n",
      "Sample generation:   7%|▋         | 70/1000 [00:14<03:10,  4.89it/s]\u001b[A\n",
      "Sample generation:   7%|▋         | 71/1000 [00:14<03:08,  4.92it/s]\u001b[A\n",
      "Sample generation:   7%|▋         | 72/1000 [00:14<03:07,  4.94it/s]\u001b[A\n",
      "Sample generation:   7%|▋         | 73/1000 [00:14<03:07,  4.93it/s]\u001b[A\n",
      "Sample generation:   7%|▋         | 74/1000 [00:15<03:07,  4.94it/s]\u001b[A\n",
      "Sample generation:   8%|▊         | 75/1000 [00:15<03:08,  4.90it/s]\u001b[A\n",
      "Sample generation:   8%|▊         | 76/1000 [00:15<03:08,  4.91it/s]\u001b[A\n",
      "Sample generation:   8%|▊         | 77/1000 [00:15<03:06,  4.94it/s]\u001b[A\n",
      "Sample generation:   8%|▊         | 78/1000 [00:15<03:05,  4.96it/s]\u001b[A\n",
      "Sample generation:   8%|▊         | 79/1000 [00:16<03:04,  4.98it/s]\u001b[A\n",
      "Sample generation:   8%|▊         | 80/1000 [00:16<03:05,  4.97it/s]\u001b[A\n",
      "Sample generation:   8%|▊         | 81/1000 [00:16<03:04,  4.97it/s]\u001b[A\n",
      "Sample generation:   8%|▊         | 82/1000 [00:16<03:04,  4.97it/s]\u001b[A\n",
      "Sample generation:   8%|▊         | 83/1000 [00:16<03:06,  4.93it/s]\u001b[A\n",
      "Sample generation:   8%|▊         | 84/1000 [00:17<03:07,  4.89it/s]\u001b[A\n",
      "Sample generation:   8%|▊         | 85/1000 [00:17<03:08,  4.85it/s]\u001b[A\n",
      "Sample generation:   9%|▊         | 86/1000 [00:17<03:09,  4.83it/s]\u001b[A\n",
      "Sample generation:   9%|▊         | 87/1000 [00:17<03:06,  4.89it/s]\u001b[A\n",
      "Sample generation:   9%|▉         | 88/1000 [00:17<03:05,  4.92it/s]\u001b[A\n",
      "Sample generation:   9%|▉         | 89/1000 [00:18<03:03,  4.96it/s]\u001b[A\n",
      "Sample generation:   9%|▉         | 90/1000 [00:18<03:02,  4.98it/s]\u001b[A\n",
      "Sample generation:   9%|▉         | 91/1000 [00:18<03:04,  4.93it/s]\u001b[A\n",
      "Sample generation:   9%|▉         | 92/1000 [00:18<03:03,  4.95it/s]\u001b[A\n",
      "Sample generation:   9%|▉         | 93/1000 [00:18<03:03,  4.95it/s]\u001b[A\n",
      "Sample generation:   9%|▉         | 94/1000 [00:19<03:02,  4.96it/s]\u001b[A\n",
      "Sample generation:  10%|▉         | 95/1000 [00:19<03:07,  4.83it/s]\u001b[A\n",
      "Sample generation:  10%|▉         | 96/1000 [00:19<03:06,  4.84it/s]\u001b[A\n",
      "Sample generation:  10%|▉         | 97/1000 [00:19<03:05,  4.86it/s]\u001b[A\n",
      "Sample generation:  10%|▉         | 98/1000 [00:19<03:04,  4.89it/s]\u001b[A\n",
      "Sample generation:  10%|▉         | 99/1000 [00:20<03:04,  4.89it/s]\u001b[A\n",
      "Sample generation:  10%|█         | 100/1000 [00:20<03:02,  4.93it/s]\u001b[A\n",
      "Sample generation:  10%|█         | 101/1000 [00:20<03:02,  4.92it/s]\u001b[A\n",
      "Sample generation:  10%|█         | 102/1000 [00:20<03:03,  4.89it/s]\u001b[A\n",
      "Sample generation:  10%|█         | 103/1000 [00:20<03:02,  4.92it/s]\u001b[A\n",
      "Sample generation:  10%|█         | 104/1000 [00:21<03:03,  4.88it/s]\u001b[A\n",
      "Sample generation:  10%|█         | 105/1000 [00:21<03:03,  4.89it/s]\u001b[A\n",
      "Sample generation:  11%|█         | 106/1000 [00:21<03:03,  4.88it/s]\u001b[A\n",
      "Sample generation:  11%|█         | 107/1000 [00:21<03:01,  4.93it/s]\u001b[A\n",
      "Sample generation:  11%|█         | 108/1000 [00:21<02:59,  4.96it/s]\u001b[A\n",
      "Sample generation:  11%|█         | 109/1000 [00:22<02:59,  4.97it/s]\u001b[A\n",
      "Sample generation:  11%|█         | 110/1000 [00:22<02:58,  4.98it/s]\u001b[A\n",
      "Sample generation:  11%|█         | 111/1000 [00:22<03:00,  4.93it/s]\u001b[A\n",
      "Sample generation:  11%|█         | 112/1000 [00:22<03:02,  4.86it/s]\u001b[A\n",
      "Sample generation:  11%|█▏        | 113/1000 [00:22<03:03,  4.83it/s]\u001b[A\n",
      "Sample generation:  11%|█▏        | 114/1000 [00:23<03:03,  4.83it/s]\u001b[A\n",
      "Sample generation:  12%|█▏        | 115/1000 [00:23<03:01,  4.87it/s]\u001b[A\n",
      "Sample generation:  12%|█▏        | 116/1000 [00:23<03:01,  4.86it/s]\u001b[A\n",
      "Sample generation:  12%|█▏        | 117/1000 [00:23<03:00,  4.89it/s]\u001b[A\n",
      "Sample generation:  12%|█▏        | 118/1000 [00:24<02:58,  4.93it/s]\u001b[A\n",
      "Sample generation:  12%|█▏        | 119/1000 [00:24<02:57,  4.95it/s]\u001b[A\n",
      "Sample generation:  12%|█▏        | 120/1000 [00:24<02:57,  4.96it/s]\u001b[A\n",
      "Sample generation:  12%|█▏        | 121/1000 [00:24<02:57,  4.96it/s]\u001b[A\n",
      "Sample generation:  12%|█▏        | 122/1000 [00:24<02:58,  4.92it/s]\u001b[A\n",
      "Sample generation:  12%|█▏        | 123/1000 [00:25<02:58,  4.91it/s]\u001b[A\n",
      "Sample generation:  12%|█▏        | 124/1000 [00:25<02:57,  4.92it/s]\u001b[A\n",
      "Sample generation:  12%|█▎        | 125/1000 [00:25<02:57,  4.94it/s]\u001b[A\n",
      "Sample generation:  13%|█▎        | 126/1000 [00:25<02:57,  4.92it/s]\u001b[A\n",
      "Sample generation:  13%|█▎        | 127/1000 [00:25<02:58,  4.90it/s]\u001b[A\n",
      "Sample generation:  13%|█▎        | 128/1000 [00:26<02:57,  4.92it/s]\u001b[A\n",
      "Sample generation:  13%|█▎        | 129/1000 [00:26<02:58,  4.89it/s]\u001b[A\n",
      "Sample generation:  13%|█▎        | 130/1000 [00:26<02:57,  4.90it/s]\u001b[A\n",
      "Sample generation:  13%|█▎        | 131/1000 [00:26<02:58,  4.87it/s]\u001b[A\n",
      "Sample generation:  13%|█▎        | 132/1000 [00:26<02:56,  4.91it/s]\u001b[A\n",
      "Sample generation:  13%|█▎        | 133/1000 [00:27<02:55,  4.93it/s]\u001b[A\n",
      "Sample generation:  13%|█▎        | 134/1000 [00:27<02:54,  4.95it/s]\u001b[A\n",
      "Sample generation:  14%|█▎        | 135/1000 [00:27<02:55,  4.92it/s]\u001b[A\n",
      "Sample generation:  14%|█▎        | 136/1000 [00:27<02:54,  4.94it/s]\u001b[A\n",
      "Sample generation:  14%|█▎        | 137/1000 [00:27<02:53,  4.97it/s]\u001b[A\n",
      "Sample generation:  14%|█▍        | 138/1000 [00:28<02:53,  4.96it/s]\u001b[A\n",
      "Sample generation:  14%|█▍        | 139/1000 [00:28<02:53,  4.96it/s]\u001b[A\n",
      "Sample generation:  14%|█▍        | 140/1000 [00:28<02:53,  4.96it/s]\u001b[A\n",
      "Sample generation:  14%|█▍        | 141/1000 [00:28<02:53,  4.96it/s]\u001b[A\n",
      "Sample generation:  14%|█▍        | 142/1000 [00:28<02:53,  4.96it/s]\u001b[A\n",
      "Sample generation:  14%|█▍        | 143/1000 [00:29<02:53,  4.94it/s]\u001b[A\n",
      "Sample generation:  14%|█▍        | 144/1000 [00:29<02:53,  4.93it/s]\u001b[A\n",
      "Sample generation:  14%|█▍        | 145/1000 [00:29<02:53,  4.94it/s]\u001b[A\n",
      "Sample generation:  15%|█▍        | 146/1000 [00:29<02:52,  4.96it/s]\u001b[A\n",
      "Sample generation:  15%|█▍        | 147/1000 [00:29<02:51,  4.97it/s]\u001b[A\n",
      "Sample generation:  15%|█▍        | 148/1000 [00:30<02:50,  4.99it/s]\u001b[A\n",
      "Sample generation:  15%|█▍        | 149/1000 [00:30<02:52,  4.94it/s]\u001b[A\n",
      "Sample generation:  15%|█▌        | 150/1000 [00:30<02:52,  4.92it/s]\u001b[A\n",
      "Sample generation:  15%|█▌        | 151/1000 [00:30<02:52,  4.92it/s]\u001b[A\n",
      "Sample generation:  15%|█▌        | 152/1000 [00:30<02:52,  4.90it/s]\u001b[A\n",
      "Sample generation:  15%|█▌        | 153/1000 [00:31<02:53,  4.88it/s]\u001b[A\n",
      "Sample generation:  15%|█▌        | 154/1000 [00:31<02:53,  4.87it/s]\u001b[A\n",
      "Sample generation:  16%|█▌        | 155/1000 [00:31<02:53,  4.88it/s]\u001b[A\n",
      "Sample generation:  16%|█▌        | 156/1000 [00:31<02:53,  4.86it/s]\u001b[A\n",
      "Sample generation:  16%|█▌        | 157/1000 [00:31<02:52,  4.88it/s]\u001b[A\n",
      "Sample generation:  16%|█▌        | 158/1000 [00:32<02:51,  4.92it/s]\u001b[A\n",
      "Sample generation:  16%|█▌        | 159/1000 [00:32<02:50,  4.93it/s]\u001b[A\n",
      "Sample generation:  16%|█▌        | 160/1000 [00:32<02:50,  4.93it/s]\u001b[A\n",
      "Sample generation:  16%|█▌        | 161/1000 [00:32<02:53,  4.83it/s]\u001b[A\n",
      "Sample generation:  16%|█▌        | 162/1000 [00:32<02:52,  4.84it/s]\u001b[A\n",
      "Sample generation:  16%|█▋        | 163/1000 [00:33<02:52,  4.85it/s]\u001b[A\n",
      "Sample generation:  16%|█▋        | 164/1000 [00:33<02:51,  4.89it/s]\u001b[A\n",
      "Sample generation:  16%|█▋        | 165/1000 [00:33<02:51,  4.87it/s]\u001b[A\n",
      "Sample generation:  17%|█▋        | 166/1000 [00:33<02:50,  4.90it/s]\u001b[A\n",
      "Sample generation:  17%|█▋        | 167/1000 [00:33<02:49,  4.92it/s]\u001b[A\n",
      "Sample generation:  17%|█▋        | 168/1000 [00:34<02:48,  4.95it/s]\u001b[A\n",
      "Sample generation:  17%|█▋        | 169/1000 [00:34<02:47,  4.97it/s]\u001b[A\n",
      "Sample generation:  17%|█▋        | 170/1000 [00:34<02:47,  4.97it/s]\u001b[A\n",
      "Sample generation:  17%|█▋        | 171/1000 [00:34<02:48,  4.91it/s]\u001b[A\n",
      "Sample generation:  17%|█▋        | 172/1000 [00:34<02:47,  4.94it/s]\u001b[A\n",
      "Sample generation:  17%|█▋        | 173/1000 [00:35<02:47,  4.94it/s]\u001b[A\n",
      "Sample generation:  17%|█▋        | 174/1000 [00:35<02:47,  4.93it/s]\u001b[A\n",
      "Sample generation:  18%|█▊        | 175/1000 [00:35<02:48,  4.89it/s]\u001b[A\n",
      "Sample generation:  18%|█▊        | 176/1000 [00:35<02:49,  4.87it/s]\u001b[A\n",
      "Sample generation:  18%|█▊        | 177/1000 [00:36<02:47,  4.91it/s]\u001b[A\n",
      "Sample generation:  18%|█▊        | 178/1000 [00:36<02:46,  4.92it/s]\u001b[A\n",
      "Sample generation:  18%|█▊        | 179/1000 [00:36<02:46,  4.94it/s]\u001b[A\n",
      "Sample generation:  18%|█▊        | 180/1000 [00:36<02:45,  4.96it/s]\u001b[A\n",
      "Sample generation:  18%|█▊        | 181/1000 [00:36<02:45,  4.95it/s]\u001b[A\n",
      "Sample generation:  18%|█▊        | 182/1000 [00:37<02:48,  4.86it/s]\u001b[A\n",
      "Sample generation:  18%|█▊        | 183/1000 [00:37<02:47,  4.88it/s]\u001b[A\n",
      "Sample generation:  18%|█▊        | 184/1000 [00:37<02:46,  4.89it/s]\u001b[A\n",
      "Sample generation:  18%|█▊        | 185/1000 [00:37<02:45,  4.91it/s]\u001b[A\n",
      "Sample generation:  19%|█▊        | 186/1000 [00:37<02:46,  4.89it/s]\u001b[A\n",
      "Sample generation:  19%|█▊        | 187/1000 [00:38<02:45,  4.92it/s]\u001b[A\n",
      "Sample generation:  19%|█▉        | 188/1000 [00:38<02:44,  4.95it/s]\u001b[A\n",
      "Sample generation:  19%|█▉        | 189/1000 [00:38<02:43,  4.97it/s]\u001b[A\n",
      "Sample generation:  19%|█▉        | 190/1000 [00:38<02:42,  4.98it/s]\u001b[A\n",
      "Sample generation:  19%|█▉        | 191/1000 [00:38<02:42,  4.97it/s]\u001b[A\n",
      "Sample generation:  19%|█▉        | 192/1000 [00:39<02:42,  4.96it/s]\u001b[A\n",
      "Sample generation:  19%|█▉        | 193/1000 [00:39<02:42,  4.96it/s]\u001b[A\n",
      "Sample generation:  19%|█▉        | 194/1000 [00:39<02:42,  4.96it/s]\u001b[A\n",
      "Sample generation:  20%|█▉        | 195/1000 [00:39<02:41,  4.97it/s]\u001b[A\n",
      "Sample generation:  20%|█▉        | 196/1000 [00:39<02:41,  4.98it/s]\u001b[A\n",
      "Sample generation:  20%|█▉        | 197/1000 [00:40<02:41,  4.99it/s]\u001b[A\n",
      "Sample generation:  20%|█▉        | 198/1000 [00:40<02:40,  5.00it/s]\u001b[A\n",
      "Sample generation:  20%|█▉        | 199/1000 [00:40<02:41,  4.96it/s]\u001b[A\n",
      "Sample generation:  20%|██        | 200/1000 [00:40<02:41,  4.94it/s]\u001b[A\n",
      "Sample generation:  20%|██        | 201/1000 [00:40<02:43,  4.87it/s]\u001b[A\n",
      "Sample generation:  20%|██        | 202/1000 [00:41<02:43,  4.89it/s]\u001b[A\n",
      "Sample generation:  20%|██        | 203/1000 [00:41<02:43,  4.89it/s]\u001b[A\n",
      "Sample generation:  20%|██        | 204/1000 [00:41<02:44,  4.85it/s]\u001b[A\n",
      "Sample generation:  20%|██        | 205/1000 [00:41<02:43,  4.86it/s]\u001b[A\n",
      "Sample generation:  21%|██        | 206/1000 [00:41<02:42,  4.87it/s]\u001b[A\n",
      "Sample generation:  21%|██        | 207/1000 [00:42<02:42,  4.88it/s]\u001b[A\n",
      "Sample generation:  21%|██        | 208/1000 [00:42<02:41,  4.92it/s]\u001b[A\n",
      "Sample generation:  21%|██        | 209/1000 [00:42<02:40,  4.93it/s]\u001b[A\n",
      "Sample generation:  21%|██        | 210/1000 [00:42<02:40,  4.93it/s]\u001b[A\n",
      "Sample generation:  21%|██        | 211/1000 [00:42<02:40,  4.91it/s]\u001b[A\n",
      "Sample generation:  21%|██        | 212/1000 [00:43<02:40,  4.91it/s]\u001b[A\n",
      "Sample generation:  21%|██▏       | 213/1000 [00:43<02:40,  4.91it/s]\u001b[A\n",
      "Sample generation:  21%|██▏       | 214/1000 [00:43<02:39,  4.93it/s]\u001b[A\n",
      "Sample generation:  22%|██▏       | 215/1000 [00:43<02:38,  4.94it/s]\u001b[A\n",
      "Sample generation:  22%|██▏       | 216/1000 [00:43<02:38,  4.94it/s]\u001b[A\n",
      "Sample generation:  22%|██▏       | 217/1000 [00:44<02:38,  4.94it/s]\u001b[A\n",
      "Sample generation:  22%|██▏       | 218/1000 [00:44<02:37,  4.96it/s]\u001b[A\n",
      "Sample generation:  22%|██▏       | 219/1000 [00:44<02:37,  4.97it/s]\u001b[A\n",
      "Sample generation:  22%|██▏       | 220/1000 [00:44<02:37,  4.96it/s]\u001b[A\n",
      "Sample generation:  22%|██▏       | 221/1000 [00:44<02:36,  4.97it/s]\u001b[A\n",
      "Sample generation:  22%|██▏       | 222/1000 [00:45<02:37,  4.95it/s]\u001b[A\n",
      "Sample generation:  22%|██▏       | 223/1000 [00:45<02:40,  4.85it/s]\u001b[A\n",
      "Sample generation:  22%|██▏       | 224/1000 [00:45<02:40,  4.85it/s]\u001b[A\n",
      "Sample generation:  22%|██▎       | 225/1000 [00:45<02:39,  4.87it/s]\u001b[A\n",
      "Sample generation:  23%|██▎       | 226/1000 [00:45<02:38,  4.89it/s]\u001b[A\n",
      "Sample generation:  23%|██▎       | 227/1000 [00:46<02:37,  4.92it/s]\u001b[A\n",
      "Sample generation:  23%|██▎       | 228/1000 [00:46<02:36,  4.94it/s]\u001b[A\n",
      "Sample generation:  23%|██▎       | 229/1000 [00:46<02:35,  4.95it/s]\u001b[A\n",
      "Sample generation:  23%|██▎       | 230/1000 [00:46<02:35,  4.96it/s]\u001b[A\n",
      "Sample generation:  23%|██▎       | 231/1000 [00:46<02:35,  4.94it/s]\u001b[A\n",
      "Sample generation:  23%|██▎       | 232/1000 [00:47<02:36,  4.92it/s]\u001b[A\n",
      "Sample generation:  23%|██▎       | 233/1000 [00:47<02:35,  4.93it/s]\u001b[A\n",
      "Sample generation:  23%|██▎       | 234/1000 [00:47<02:34,  4.95it/s]\u001b[A\n",
      "Sample generation:  24%|██▎       | 235/1000 [00:47<02:35,  4.92it/s]\u001b[A\n",
      "Sample generation:  24%|██▎       | 236/1000 [00:47<02:34,  4.95it/s]\u001b[A\n",
      "Sample generation:  24%|██▎       | 237/1000 [00:48<02:33,  4.97it/s]\u001b[A\n",
      "Sample generation:  24%|██▍       | 238/1000 [00:48<02:33,  4.97it/s]\u001b[A\n",
      "Sample generation:  24%|██▍       | 239/1000 [00:48<02:33,  4.97it/s]\u001b[A\n",
      "Sample generation:  24%|██▍       | 240/1000 [00:48<02:34,  4.90it/s]\u001b[A\n",
      "Sample generation:  24%|██▍       | 241/1000 [00:48<02:36,  4.86it/s]\u001b[A\n",
      "Sample generation:  24%|██▍       | 242/1000 [00:49<02:35,  4.89it/s]\u001b[A\n",
      "Sample generation:  24%|██▍       | 243/1000 [00:49<02:35,  4.87it/s]\u001b[A\n",
      "Sample generation:  24%|██▍       | 244/1000 [00:49<02:34,  4.89it/s]\u001b[A\n",
      "Sample generation:  24%|██▍       | 245/1000 [00:49<02:33,  4.92it/s]\u001b[A\n",
      "Sample generation:  25%|██▍       | 246/1000 [00:50<02:33,  4.93it/s]\u001b[A\n",
      "Sample generation:  25%|██▍       | 247/1000 [00:50<02:32,  4.93it/s]\u001b[A\n",
      "Sample generation:  25%|██▍       | 248/1000 [00:50<02:33,  4.90it/s]\u001b[A\n",
      "Sample generation:  25%|██▍       | 249/1000 [00:50<02:32,  4.92it/s]\u001b[A\n",
      "Sample generation:  25%|██▌       | 250/1000 [00:50<02:33,  4.88it/s]\u001b[A\n",
      "Sample generation:  25%|██▌       | 251/1000 [00:51<02:33,  4.88it/s]\u001b[A\n",
      "Sample generation:  25%|██▌       | 252/1000 [00:51<02:35,  4.80it/s]\u001b[A\n",
      "Sample generation:  25%|██▌       | 253/1000 [00:51<02:36,  4.78it/s]\u001b[A\n",
      "Sample generation:  25%|██▌       | 254/1000 [00:51<02:36,  4.76it/s]\u001b[A\n",
      "Sample generation:  26%|██▌       | 255/1000 [00:51<02:36,  4.76it/s]\u001b[A\n",
      "Sample generation:  26%|██▌       | 256/1000 [00:52<02:34,  4.82it/s]\u001b[A\n",
      "Sample generation:  26%|██▌       | 257/1000 [00:52<02:35,  4.79it/s]\u001b[A\n",
      "Sample generation:  26%|██▌       | 258/1000 [00:52<02:35,  4.78it/s]\u001b[A\n",
      "Sample generation:  26%|██▌       | 259/1000 [00:52<02:33,  4.82it/s]\u001b[A\n",
      "Sample generation:  26%|██▌       | 260/1000 [00:52<02:33,  4.83it/s]\u001b[A\n",
      "Sample generation:  26%|██▌       | 261/1000 [00:53<02:36,  4.72it/s]\u001b[A\n",
      "Sample generation:  26%|██▌       | 262/1000 [00:53<02:36,  4.70it/s]\u001b[A\n",
      "Sample generation:  26%|██▋       | 263/1000 [00:53<02:37,  4.69it/s]\u001b[A\n",
      "Sample generation:  26%|██▋       | 264/1000 [00:53<02:36,  4.70it/s]\u001b[A\n",
      "Sample generation:  26%|██▋       | 265/1000 [00:53<02:34,  4.77it/s]\u001b[A\n",
      "Sample generation:  27%|██▋       | 266/1000 [00:54<02:31,  4.83it/s]\u001b[A\n",
      "Sample generation:  27%|██▋       | 267/1000 [00:54<02:30,  4.87it/s]\u001b[A\n",
      "Sample generation:  27%|██▋       | 268/1000 [00:54<02:30,  4.87it/s]\u001b[A\n",
      "Sample generation:  27%|██▋       | 269/1000 [00:54<02:29,  4.89it/s]\u001b[A\n",
      "Sample generation:  27%|██▋       | 270/1000 [00:54<02:29,  4.90it/s]\u001b[A\n",
      "Sample generation:  27%|██▋       | 271/1000 [00:55<02:28,  4.91it/s]\u001b[A\n",
      "Sample generation:  27%|██▋       | 272/1000 [00:55<02:29,  4.88it/s]\u001b[A\n",
      "Sample generation:  27%|██▋       | 273/1000 [00:55<02:28,  4.88it/s]\u001b[A\n",
      "Sample generation:  27%|██▋       | 274/1000 [00:55<02:28,  4.90it/s]\u001b[A\n",
      "Sample generation:  28%|██▊       | 275/1000 [00:56<02:27,  4.93it/s]\u001b[A\n",
      "Sample generation:  28%|██▊       | 276/1000 [00:56<02:26,  4.93it/s]\u001b[A\n",
      "Sample generation:  28%|██▊       | 277/1000 [00:56<02:26,  4.93it/s]\u001b[A"
     ]
    },
    {
     "ename": "KeyboardInterrupt",
     "evalue": "",
     "output_type": "error",
     "traceback": [
      "\u001b[0;31m---------------------------------------------------------------------------\u001b[0m",
      "\u001b[0;31mKeyboardInterrupt\u001b[0m                         Traceback (most recent call last)",
      "\u001b[0;32m<ipython-input-200-c0bea2563a47>\u001b[0m in \u001b[0;36m<module>\u001b[0;34m\u001b[0m\n\u001b[0;32m----> 1\u001b[0;31m \u001b[0mgenerate_training_data\u001b[0m\u001b[0;34m(\u001b[0m\u001b[0minteractive_output\u001b[0m \u001b[0;34m=\u001b[0m \u001b[0mparams\u001b[0m\u001b[0;34m,\u001b[0m \u001b[0msample_amount\u001b[0m \u001b[0;34m=\u001b[0m \u001b[0;36m0.025\u001b[0m\u001b[0;34m,\u001b[0m \u001b[0mrandomise_hist_match\u001b[0m \u001b[0;34m=\u001b[0m \u001b[0;32mFalse\u001b[0m\u001b[0;34m,\u001b[0m \u001b[0mrandomise_noise_match\u001b[0m \u001b[0;34m=\u001b[0m \u001b[0;32mFalse\u001b[0m\u001b[0;34m,\u001b[0m \u001b[0msim_length\u001b[0m \u001b[0;34m=\u001b[0m \u001b[0msim_length\u001b[0m\u001b[0;34m,\u001b[0m \u001b[0mburn_in\u001b[0m \u001b[0;34m=\u001b[0m \u001b[0;36m0\u001b[0m\u001b[0;34m,\u001b[0m \u001b[0mn_samples\u001b[0m \u001b[0;34m=\u001b[0m  \u001b[0;36m1000\u001b[0m\u001b[0;34m,\u001b[0m \u001b[0msave_dir\u001b[0m \u001b[0;34m=\u001b[0m \u001b[0;34m\"/home/georgeos/Storage/Dropbox (Cambridge University)/Phase/training_data/\"\u001b[0m\u001b[0;34m)\u001b[0m\u001b[0;34m\u001b[0m\u001b[0;34m\u001b[0m\u001b[0m\n\u001b[0m",
      "\u001b[0;32m<ipython-input-171-73e8c3158a79>\u001b[0m in \u001b[0;36mgenerate_training_data\u001b[0;34m(interactive_output, sample_amount, randomise_hist_match, randomise_noise_match, sim_length, burn_in, n_samples, save_dir)\u001b[0m\n\u001b[1;32m    458\u001b[0m             \u001b[0mmask\u001b[0m\u001b[0;34m.\u001b[0m\u001b[0msave\u001b[0m\u001b[0;34m(\u001b[0m\u001b[0;34m\"{}/masks/synth_{}.tif\"\u001b[0m\u001b[0;34m.\u001b[0m\u001b[0mformat\u001b[0m\u001b[0;34m(\u001b[0m\u001b[0msave_dir\u001b[0m\u001b[0;34m,\u001b[0m \u001b[0mstr\u001b[0m\u001b[0;34m(\u001b[0m\u001b[0mz\u001b[0m\u001b[0;34m)\u001b[0m\u001b[0;34m.\u001b[0m\u001b[0mzfill\u001b[0m\u001b[0;34m(\u001b[0m\u001b[0;36m5\u001b[0m\u001b[0;34m)\u001b[0m\u001b[0;34m)\u001b[0m\u001b[0;34m)\u001b[0m\u001b[0;34m\u001b[0m\u001b[0;34m\u001b[0m\u001b[0m\n\u001b[1;32m    459\u001b[0m     \u001b[0;31m## TODO: change parallel if not using GPU\u001b[0m\u001b[0;34m\u001b[0m\u001b[0;34m\u001b[0m\u001b[0;34m\u001b[0m\u001b[0m\n\u001b[0;32m--> 460\u001b[0;31m     \u001b[0mParallel\u001b[0m\u001b[0;34m(\u001b[0m\u001b[0mn_jobs\u001b[0m\u001b[0;34m=\u001b[0m\u001b[0;36m1\u001b[0m\u001b[0;34m)\u001b[0m\u001b[0;34m(\u001b[0m\u001b[0mdelayed\u001b[0m\u001b[0;34m(\u001b[0m\u001b[0mgenerate_samples\u001b[0m\u001b[0;34m)\u001b[0m\u001b[0;34m(\u001b[0m\u001b[0mz\u001b[0m\u001b[0;34m)\u001b[0m \u001b[0;32mfor\u001b[0m \u001b[0mz\u001b[0m \u001b[0;32min\u001b[0m \u001b[0mtqdm\u001b[0m\u001b[0;34m(\u001b[0m\u001b[0mrange\u001b[0m\u001b[0;34m(\u001b[0m\u001b[0mcurrent_file_num\u001b[0m\u001b[0;34m,\u001b[0m\u001b[0mn_samples\u001b[0m\u001b[0;34m+\u001b[0m\u001b[0mcurrent_file_num\u001b[0m\u001b[0;34m)\u001b[0m\u001b[0;34m,\u001b[0m \u001b[0mdesc\u001b[0m\u001b[0;34m=\u001b[0m\u001b[0;34m\"Sample generation\"\u001b[0m\u001b[0;34m)\u001b[0m\u001b[0;34m)\u001b[0m\u001b[0;34m\u001b[0m\u001b[0;34m\u001b[0m\u001b[0m\n\u001b[0m",
      "\u001b[0;32m~/anaconda3/envs/SYMPTOMM/lib/python3.8/site-packages/joblib/parallel.py\u001b[0m in \u001b[0;36m__call__\u001b[0;34m(self, iterable)\u001b[0m\n\u001b[1;32m   1042\u001b[0m                 \u001b[0mself\u001b[0m\u001b[0;34m.\u001b[0m\u001b[0m_iterating\u001b[0m \u001b[0;34m=\u001b[0m \u001b[0mself\u001b[0m\u001b[0;34m.\u001b[0m\u001b[0m_original_iterator\u001b[0m \u001b[0;32mis\u001b[0m \u001b[0;32mnot\u001b[0m \u001b[0;32mNone\u001b[0m\u001b[0;34m\u001b[0m\u001b[0;34m\u001b[0m\u001b[0m\n\u001b[1;32m   1043\u001b[0m \u001b[0;34m\u001b[0m\u001b[0m\n\u001b[0;32m-> 1044\u001b[0;31m             \u001b[0;32mwhile\u001b[0m \u001b[0mself\u001b[0m\u001b[0;34m.\u001b[0m\u001b[0mdispatch_one_batch\u001b[0m\u001b[0;34m(\u001b[0m\u001b[0miterator\u001b[0m\u001b[0;34m)\u001b[0m\u001b[0;34m:\u001b[0m\u001b[0;34m\u001b[0m\u001b[0;34m\u001b[0m\u001b[0m\n\u001b[0m\u001b[1;32m   1045\u001b[0m                 \u001b[0;32mpass\u001b[0m\u001b[0;34m\u001b[0m\u001b[0;34m\u001b[0m\u001b[0m\n\u001b[1;32m   1046\u001b[0m \u001b[0;34m\u001b[0m\u001b[0m\n",
      "\u001b[0;32m~/anaconda3/envs/SYMPTOMM/lib/python3.8/site-packages/joblib/parallel.py\u001b[0m in \u001b[0;36mdispatch_one_batch\u001b[0;34m(self, iterator)\u001b[0m\n\u001b[1;32m    857\u001b[0m                 \u001b[0;32mreturn\u001b[0m \u001b[0;32mFalse\u001b[0m\u001b[0;34m\u001b[0m\u001b[0;34m\u001b[0m\u001b[0m\n\u001b[1;32m    858\u001b[0m             \u001b[0;32melse\u001b[0m\u001b[0;34m:\u001b[0m\u001b[0;34m\u001b[0m\u001b[0;34m\u001b[0m\u001b[0m\n\u001b[0;32m--> 859\u001b[0;31m                 \u001b[0mself\u001b[0m\u001b[0;34m.\u001b[0m\u001b[0m_dispatch\u001b[0m\u001b[0;34m(\u001b[0m\u001b[0mtasks\u001b[0m\u001b[0;34m)\u001b[0m\u001b[0;34m\u001b[0m\u001b[0;34m\u001b[0m\u001b[0m\n\u001b[0m\u001b[1;32m    860\u001b[0m                 \u001b[0;32mreturn\u001b[0m \u001b[0;32mTrue\u001b[0m\u001b[0;34m\u001b[0m\u001b[0;34m\u001b[0m\u001b[0m\n\u001b[1;32m    861\u001b[0m \u001b[0;34m\u001b[0m\u001b[0m\n",
      "\u001b[0;32m~/anaconda3/envs/SYMPTOMM/lib/python3.8/site-packages/joblib/parallel.py\u001b[0m in \u001b[0;36m_dispatch\u001b[0;34m(self, batch)\u001b[0m\n\u001b[1;32m    775\u001b[0m         \u001b[0;32mwith\u001b[0m \u001b[0mself\u001b[0m\u001b[0;34m.\u001b[0m\u001b[0m_lock\u001b[0m\u001b[0;34m:\u001b[0m\u001b[0;34m\u001b[0m\u001b[0;34m\u001b[0m\u001b[0m\n\u001b[1;32m    776\u001b[0m             \u001b[0mjob_idx\u001b[0m \u001b[0;34m=\u001b[0m \u001b[0mlen\u001b[0m\u001b[0;34m(\u001b[0m\u001b[0mself\u001b[0m\u001b[0;34m.\u001b[0m\u001b[0m_jobs\u001b[0m\u001b[0;34m)\u001b[0m\u001b[0;34m\u001b[0m\u001b[0;34m\u001b[0m\u001b[0m\n\u001b[0;32m--> 777\u001b[0;31m             \u001b[0mjob\u001b[0m \u001b[0;34m=\u001b[0m \u001b[0mself\u001b[0m\u001b[0;34m.\u001b[0m\u001b[0m_backend\u001b[0m\u001b[0;34m.\u001b[0m\u001b[0mapply_async\u001b[0m\u001b[0;34m(\u001b[0m\u001b[0mbatch\u001b[0m\u001b[0;34m,\u001b[0m \u001b[0mcallback\u001b[0m\u001b[0;34m=\u001b[0m\u001b[0mcb\u001b[0m\u001b[0;34m)\u001b[0m\u001b[0;34m\u001b[0m\u001b[0;34m\u001b[0m\u001b[0m\n\u001b[0m\u001b[1;32m    778\u001b[0m             \u001b[0;31m# A job can complete so quickly than its callback is\u001b[0m\u001b[0;34m\u001b[0m\u001b[0;34m\u001b[0m\u001b[0;34m\u001b[0m\u001b[0m\n\u001b[1;32m    779\u001b[0m             \u001b[0;31m# called before we get here, causing self._jobs to\u001b[0m\u001b[0;34m\u001b[0m\u001b[0;34m\u001b[0m\u001b[0;34m\u001b[0m\u001b[0m\n",
      "\u001b[0;32m~/anaconda3/envs/SYMPTOMM/lib/python3.8/site-packages/joblib/_parallel_backends.py\u001b[0m in \u001b[0;36mapply_async\u001b[0;34m(self, func, callback)\u001b[0m\n\u001b[1;32m    206\u001b[0m     \u001b[0;32mdef\u001b[0m \u001b[0mapply_async\u001b[0m\u001b[0;34m(\u001b[0m\u001b[0mself\u001b[0m\u001b[0;34m,\u001b[0m \u001b[0mfunc\u001b[0m\u001b[0;34m,\u001b[0m \u001b[0mcallback\u001b[0m\u001b[0;34m=\u001b[0m\u001b[0;32mNone\u001b[0m\u001b[0;34m)\u001b[0m\u001b[0;34m:\u001b[0m\u001b[0;34m\u001b[0m\u001b[0;34m\u001b[0m\u001b[0m\n\u001b[1;32m    207\u001b[0m         \u001b[0;34m\"\"\"Schedule a func to be run\"\"\"\u001b[0m\u001b[0;34m\u001b[0m\u001b[0;34m\u001b[0m\u001b[0m\n\u001b[0;32m--> 208\u001b[0;31m         \u001b[0mresult\u001b[0m \u001b[0;34m=\u001b[0m \u001b[0mImmediateResult\u001b[0m\u001b[0;34m(\u001b[0m\u001b[0mfunc\u001b[0m\u001b[0;34m)\u001b[0m\u001b[0;34m\u001b[0m\u001b[0;34m\u001b[0m\u001b[0m\n\u001b[0m\u001b[1;32m    209\u001b[0m         \u001b[0;32mif\u001b[0m \u001b[0mcallback\u001b[0m\u001b[0;34m:\u001b[0m\u001b[0;34m\u001b[0m\u001b[0;34m\u001b[0m\u001b[0m\n\u001b[1;32m    210\u001b[0m             \u001b[0mcallback\u001b[0m\u001b[0;34m(\u001b[0m\u001b[0mresult\u001b[0m\u001b[0;34m)\u001b[0m\u001b[0;34m\u001b[0m\u001b[0;34m\u001b[0m\u001b[0m\n",
      "\u001b[0;32m~/anaconda3/envs/SYMPTOMM/lib/python3.8/site-packages/joblib/_parallel_backends.py\u001b[0m in \u001b[0;36m__init__\u001b[0;34m(self, batch)\u001b[0m\n\u001b[1;32m    570\u001b[0m         \u001b[0;31m# Don't delay the application, to avoid keeping the input\u001b[0m\u001b[0;34m\u001b[0m\u001b[0;34m\u001b[0m\u001b[0;34m\u001b[0m\u001b[0m\n\u001b[1;32m    571\u001b[0m         \u001b[0;31m# arguments in memory\u001b[0m\u001b[0;34m\u001b[0m\u001b[0;34m\u001b[0m\u001b[0;34m\u001b[0m\u001b[0m\n\u001b[0;32m--> 572\u001b[0;31m         \u001b[0mself\u001b[0m\u001b[0;34m.\u001b[0m\u001b[0mresults\u001b[0m \u001b[0;34m=\u001b[0m \u001b[0mbatch\u001b[0m\u001b[0;34m(\u001b[0m\u001b[0;34m)\u001b[0m\u001b[0;34m\u001b[0m\u001b[0;34m\u001b[0m\u001b[0m\n\u001b[0m\u001b[1;32m    573\u001b[0m \u001b[0;34m\u001b[0m\u001b[0m\n\u001b[1;32m    574\u001b[0m     \u001b[0;32mdef\u001b[0m \u001b[0mget\u001b[0m\u001b[0;34m(\u001b[0m\u001b[0mself\u001b[0m\u001b[0;34m)\u001b[0m\u001b[0;34m:\u001b[0m\u001b[0;34m\u001b[0m\u001b[0;34m\u001b[0m\u001b[0m\n",
      "\u001b[0;32m~/anaconda3/envs/SYMPTOMM/lib/python3.8/site-packages/joblib/parallel.py\u001b[0m in \u001b[0;36m__call__\u001b[0;34m(self)\u001b[0m\n\u001b[1;32m    260\u001b[0m         \u001b[0;31m# change the default number of processes to -1\u001b[0m\u001b[0;34m\u001b[0m\u001b[0;34m\u001b[0m\u001b[0;34m\u001b[0m\u001b[0m\n\u001b[1;32m    261\u001b[0m         \u001b[0;32mwith\u001b[0m \u001b[0mparallel_backend\u001b[0m\u001b[0;34m(\u001b[0m\u001b[0mself\u001b[0m\u001b[0;34m.\u001b[0m\u001b[0m_backend\u001b[0m\u001b[0;34m,\u001b[0m \u001b[0mn_jobs\u001b[0m\u001b[0;34m=\u001b[0m\u001b[0mself\u001b[0m\u001b[0;34m.\u001b[0m\u001b[0m_n_jobs\u001b[0m\u001b[0;34m)\u001b[0m\u001b[0;34m:\u001b[0m\u001b[0;34m\u001b[0m\u001b[0;34m\u001b[0m\u001b[0m\n\u001b[0;32m--> 262\u001b[0;31m             return [func(*args, **kwargs)\n\u001b[0m\u001b[1;32m    263\u001b[0m                     for func, args, kwargs in self.items]\n\u001b[1;32m    264\u001b[0m \u001b[0;34m\u001b[0m\u001b[0m\n",
      "\u001b[0;32m~/anaconda3/envs/SYMPTOMM/lib/python3.8/site-packages/joblib/parallel.py\u001b[0m in \u001b[0;36m<listcomp>\u001b[0;34m(.0)\u001b[0m\n\u001b[1;32m    260\u001b[0m         \u001b[0;31m# change the default number of processes to -1\u001b[0m\u001b[0;34m\u001b[0m\u001b[0;34m\u001b[0m\u001b[0;34m\u001b[0m\u001b[0m\n\u001b[1;32m    261\u001b[0m         \u001b[0;32mwith\u001b[0m \u001b[0mparallel_backend\u001b[0m\u001b[0;34m(\u001b[0m\u001b[0mself\u001b[0m\u001b[0;34m.\u001b[0m\u001b[0m_backend\u001b[0m\u001b[0;34m,\u001b[0m \u001b[0mn_jobs\u001b[0m\u001b[0;34m=\u001b[0m\u001b[0mself\u001b[0m\u001b[0;34m.\u001b[0m\u001b[0m_n_jobs\u001b[0m\u001b[0;34m)\u001b[0m\u001b[0;34m:\u001b[0m\u001b[0;34m\u001b[0m\u001b[0;34m\u001b[0m\u001b[0m\n\u001b[0;32m--> 262\u001b[0;31m             return [func(*args, **kwargs)\n\u001b[0m\u001b[1;32m    263\u001b[0m                     for func, args, kwargs in self.items]\n\u001b[1;32m    264\u001b[0m \u001b[0;34m\u001b[0m\u001b[0m\n",
      "\u001b[0;32m<ipython-input-171-73e8c3158a79>\u001b[0m in \u001b[0;36mgenerate_samples\u001b[0;34m(z)\u001b[0m\n\u001b[1;32m    445\u001b[0m             \u001b[0m_match_noise\u001b[0m \u001b[0;34m=\u001b[0m \u001b[0mmatch_noise\u001b[0m\u001b[0;34m\u001b[0m\u001b[0;34m\u001b[0m\u001b[0m\n\u001b[1;32m    446\u001b[0m \u001b[0;34m\u001b[0m\u001b[0m\n\u001b[0;32m--> 447\u001b[0;31m         \u001b[0msyn_image\u001b[0m\u001b[0;34m,\u001b[0m \u001b[0mmask\u001b[0m \u001b[0;34m=\u001b[0m \u001b[0mgenerate_test_comparison\u001b[0m\u001b[0;34m(\u001b[0m\u001b[0m_media_multiplier\u001b[0m\u001b[0;34m,\u001b[0m \u001b[0m_cell_multiplier\u001b[0m\u001b[0;34m,\u001b[0m \u001b[0m_device_multiplier\u001b[0m\u001b[0;34m,\u001b[0m \u001b[0m_sigma\u001b[0m\u001b[0;34m,\u001b[0m \u001b[0m_scene_no\u001b[0m\u001b[0;34m,\u001b[0m \u001b[0mscale\u001b[0m\u001b[0;34m,\u001b[0m \u001b[0m_match_histogram\u001b[0m\u001b[0;34m,\u001b[0m \u001b[0mmatch_noise\u001b[0m\u001b[0;34m,\u001b[0m \u001b[0moffset\u001b[0m\u001b[0;34m,\u001b[0m \u001b[0mdebug_plot\u001b[0m\u001b[0;34m,\u001b[0m \u001b[0mnoise_var\u001b[0m\u001b[0;34m,\u001b[0m \u001b[0mmain_segments\u001b[0m\u001b[0;34m,\u001b[0m \u001b[0mscenes\u001b[0m\u001b[0;34m,\u001b[0m \u001b[0mkernel_params\u001b[0m\u001b[0;34m,\u001b[0m \u001b[0mresize_amount\u001b[0m\u001b[0;34m,\u001b[0m \u001b[0mreal_image\u001b[0m\u001b[0;34m,\u001b[0m \u001b[0mimage_params\u001b[0m\u001b[0;34m,\u001b[0m \u001b[0merror_params\u001b[0m\u001b[0;34m,\u001b[0m \u001b[0mx_border_expansion_coefficient\u001b[0m\u001b[0;34m,\u001b[0m\u001b[0my_border_expansion_coefficient\u001b[0m\u001b[0;34m)\u001b[0m\u001b[0;34m\u001b[0m\u001b[0;34m\u001b[0m\u001b[0m\n\u001b[0m\u001b[1;32m    448\u001b[0m \u001b[0;34m\u001b[0m\u001b[0m\n\u001b[1;32m    449\u001b[0m         \u001b[0msyn_image\u001b[0m \u001b[0;34m=\u001b[0m \u001b[0mImage\u001b[0m\u001b[0;34m.\u001b[0m\u001b[0mfromarray\u001b[0m\u001b[0;34m(\u001b[0m\u001b[0mskimage\u001b[0m\u001b[0;34m.\u001b[0m\u001b[0mimg_as_uint\u001b[0m\u001b[0;34m(\u001b[0m\u001b[0mrescale_intensity\u001b[0m\u001b[0;34m(\u001b[0m\u001b[0msyn_image\u001b[0m\u001b[0;34m)\u001b[0m\u001b[0;34m)\u001b[0m\u001b[0;34m)\u001b[0m\u001b[0;34m\u001b[0m\u001b[0;34m\u001b[0m\u001b[0m\n",
      "\u001b[0;32m<ipython-input-171-73e8c3158a79>\u001b[0m in \u001b[0;36mgenerate_test_comparison\u001b[0;34m(media_multiplier, cell_multiplier, device_multiplier, sigma, scene_no, scale, match_histogram, match_noise, offset, debug_plot, noise_var, main_segments, scenes, kernel_params, resize_amount, real_image, image_params, error_params, x_border_expansion_coefficient, y_border_expansion_coefficient)\u001b[0m\n\u001b[1;32m    264\u001b[0m \u001b[0;34m\u001b[0m\u001b[0m\n\u001b[1;32m    265\u001b[0m \u001b[0;34m\u001b[0m\u001b[0m\n\u001b[0;32m--> 266\u001b[0;31m     \u001b[0mconvolved\u001b[0m \u001b[0;34m=\u001b[0m \u001b[0mconvolve_rescale\u001b[0m\u001b[0;34m(\u001b[0m\u001b[0mexpanded_scene\u001b[0m\u001b[0;34m,\u001b[0m \u001b[0mkernel\u001b[0m\u001b[0;34m,\u001b[0m \u001b[0;36m1\u001b[0m\u001b[0;34m/\u001b[0m\u001b[0mresize_amount\u001b[0m\u001b[0;34m,\u001b[0m \u001b[0mrescale_int\u001b[0m \u001b[0;34m=\u001b[0m \u001b[0;32mTrue\u001b[0m\u001b[0;34m)\u001b[0m\u001b[0;34m\u001b[0m\u001b[0;34m\u001b[0m\u001b[0m\n\u001b[0m\u001b[1;32m    267\u001b[0m     \u001b[0mreal_resize\u001b[0m\u001b[0;34m,\u001b[0m \u001b[0mexpanded_resized\u001b[0m \u001b[0;34m=\u001b[0m \u001b[0mmake_images_same_shape\u001b[0m\u001b[0;34m(\u001b[0m\u001b[0mreal_image\u001b[0m\u001b[0;34m,\u001b[0m\u001b[0mconvolved\u001b[0m\u001b[0;34m,\u001b[0m \u001b[0mrescale_int\u001b[0m\u001b[0;34m=\u001b[0m\u001b[0;32mTrue\u001b[0m\u001b[0;34m)\u001b[0m\u001b[0;34m\u001b[0m\u001b[0;34m\u001b[0m\u001b[0m\n\u001b[1;32m    268\u001b[0m \u001b[0;34m\u001b[0m\u001b[0m\n",
      "\u001b[0;32m~/Documents/GitHub/SYMPTOMM2/SYMPTOMM/general_drawing.py\u001b[0m in \u001b[0;36mconvolve_rescale\u001b[0;34m(image, kernel, rescale_factor, rescale_int)\u001b[0m\n\u001b[1;32m    217\u001b[0m \u001b[0;32mdef\u001b[0m \u001b[0mconvolve_rescale\u001b[0m\u001b[0;34m(\u001b[0m\u001b[0mimage\u001b[0m\u001b[0;34m,\u001b[0m\u001b[0mkernel\u001b[0m\u001b[0;34m,\u001b[0m\u001b[0mrescale_factor\u001b[0m\u001b[0;34m,\u001b[0m \u001b[0mrescale_int\u001b[0m\u001b[0;34m)\u001b[0m\u001b[0;34m:\u001b[0m\u001b[0;34m\u001b[0m\u001b[0;34m\u001b[0m\u001b[0m\n\u001b[1;32m    218\u001b[0m     \u001b[0moutput\u001b[0m \u001b[0;34m=\u001b[0m \u001b[0mcuconvolve\u001b[0m\u001b[0;34m(\u001b[0m\u001b[0mcp\u001b[0m\u001b[0;34m.\u001b[0m\u001b[0marray\u001b[0m\u001b[0;34m(\u001b[0m\u001b[0mimage\u001b[0m\u001b[0;34m)\u001b[0m\u001b[0;34m,\u001b[0m\u001b[0mcp\u001b[0m\u001b[0;34m.\u001b[0m\u001b[0marray\u001b[0m\u001b[0;34m(\u001b[0m\u001b[0mkernel\u001b[0m\u001b[0;34m)\u001b[0m\u001b[0;34m)\u001b[0m\u001b[0;34m\u001b[0m\u001b[0;34m\u001b[0m\u001b[0m\n\u001b[0;32m--> 219\u001b[0;31m     \u001b[0moutput\u001b[0m \u001b[0;34m=\u001b[0m \u001b[0moutput\u001b[0m\u001b[0;34m.\u001b[0m\u001b[0mget\u001b[0m\u001b[0;34m(\u001b[0m\u001b[0;34m)\u001b[0m\u001b[0;34m\u001b[0m\u001b[0;34m\u001b[0m\u001b[0m\n\u001b[0m\u001b[1;32m    220\u001b[0m     \u001b[0moutput\u001b[0m \u001b[0;34m=\u001b[0m \u001b[0mrescale\u001b[0m\u001b[0;34m(\u001b[0m\u001b[0moutput\u001b[0m\u001b[0;34m,\u001b[0m \u001b[0mrescale_factor\u001b[0m\u001b[0;34m,\u001b[0m \u001b[0manti_aliasing\u001b[0m\u001b[0;34m=\u001b[0m\u001b[0;32mFalse\u001b[0m\u001b[0;34m)\u001b[0m\u001b[0;34m\u001b[0m\u001b[0;34m\u001b[0m\u001b[0m\n\u001b[1;32m    221\u001b[0m \u001b[0;34m\u001b[0m\u001b[0m\n",
      "\u001b[0;31mKeyboardInterrupt\u001b[0m: "
     ]
    }
   ],
   "source": [
    "generate_training_data(interactive_output = params, sample_amount = 0.025, randomise_hist_match = False, randomise_noise_match = False, sim_length = sim_length, burn_in = 0, n_samples =  1000, save_dir = \"/home/georgeos/Storage/Dropbox (Cambridge University)/Phase/training_data/\")"
   ]
  },
  {
   "cell_type": "markdown",
   "id": "672fe5fe-80e5-4940-94ce-1049a4c42b89",
   "metadata": {},
   "source": [
    "### Do a few very small cells"
   ]
  },
  {
   "cell_type": "code",
   "execution_count": 230,
   "id": "ef8de21e-8386-48be-8e0b-c69aa8453db4",
   "metadata": {
    "tags": []
   },
   "outputs": [
    {
     "name": "stderr",
     "output_type": "stream",
     "text": [
      "Simulation Progress: 100%|██████████| 290/290 [00:12<00:00, 22.64it/s]\n",
      "Timeseries Properties: 100%|██████████| 39/39 [00:04<00:00,  8.22it/s]\n",
      "Scene Draw:: 100%|██████████| 39/39 [00:17<00:00,  2.25it/s]\n"
     ]
    }
   ],
   "source": [
    "sim_length = 40\n",
    "cell_timeseries, space = run_simulation(\n",
    "    trench_length=15, \n",
    "    trench_width=1.45, \n",
    "    cell_max_length=1.4, \n",
    "    cell_width=1.05, \n",
    "    sim_length = sim_length, \n",
    "    pix_mic_conv = pix_mic_conv,\n",
    "    gravity=-1,\n",
    "    phys_iters=450,\n",
    "    max_length_var = 0.1,\n",
    "    width_var = 0.08\n",
    ") # growth phase\n",
    "main_segments = get_trench_segments(space)\n",
    "ID_props = generate_curve_props(cell_timeseries)\n",
    "cell_timeseries_properties = Parallel(n_jobs=-1)(\n",
    "    delayed(gen_cell_props_for_draw)(a, ID_props) for a in tqdm(cell_timeseries, desc='Timeseries Properties'))\n",
    "do_transformation = False\n",
    "offset = 40\n",
    "mask_threshold = 18\n",
    "label_masks = True\n",
    "space_size = get_space_size(cell_timeseries_properties)\n",
    "scenes = Parallel(n_jobs=-1)(delayed(draw_scene)(\n",
    "    cell_properties, do_transformation, mask_threshold, space_size, offset, label_masks) for cell_properties in tqdm(cell_timeseries_properties, desc='Scene Draw:'))"
   ]
  },
  {
   "cell_type": "code",
   "execution_count": 233,
   "id": "5dad04b6-5917-4f84-96e8-91340a05baa0",
   "metadata": {},
   "outputs": [],
   "source": [
    "mean_error = []\n",
    "media_error = []\n",
    "cell_error = []\n",
    "device_error = []\n",
    "\n",
    "mean_var_error = []\n",
    "media_var_error = []\n",
    "cell_var_error = []\n",
    "device_var_error = []\n",
    "\n",
    "error_params = (mean_error,media_error,cell_error,device_error,mean_var_error,media_var_error,cell_var_error,device_var_error)\n",
    "\n",
    "params = interactive(\n",
    "    generate_test_comparison,\n",
    "    media_multiplier=(-300,300,1),\n",
    "    cell_multiplier=(-30,30,0.01),\n",
    "    device_multiplier=(-300,300,1),\n",
    "    sigma=(min_sigma,min_sigma*20, min_sigma/20),\n",
    "    scene_no = (0,sim_length-2,1),\n",
    "    noise_var=(0,0.01, 0.0001),\n",
    "    scale=(scale,scale,scale),\n",
    "    match_histogram = [True, False],\n",
    "    match_noise = [True, False],\n",
    "    offset=fixed(offset),\n",
    "    main_segments = fixed(main_segments),\n",
    "    debug_plot=fixed(True),\n",
    "    scenes = fixed(scenes),\n",
    "    kernel_params = fixed(kernel_params),\n",
    "    resize_amount = fixed(resize_amount), \n",
    "    real_image = fixed(real_image),\n",
    "    image_params = fixed(image_params),\n",
    "    error_params = fixed(error_params),\n",
    "    x_border_expansion_coefficient = fixed(x_border_expansion_coefficient),\n",
    "    y_border_expansion_coefficient = fixed(y_border_expansion_coefficient)\n",
    ");"
   ]
  },
  {
   "cell_type": "code",
   "execution_count": 234,
   "id": "811a47fc-f6b4-4283-bbd6-9cf0e5da633b",
   "metadata": {},
   "outputs": [
    {
     "data": {
      "application/vnd.jupyter.widget-view+json": {
       "model_id": "3ce7a0d4b711463cae145053daac440b",
       "version_major": 2,
       "version_minor": 0
      },
      "text/plain": [
       "interactive(children=(IntSlider(value=0, description='media_multiplier', max=300, min=-300), FloatSlider(value…"
      ]
     },
     "metadata": {},
     "output_type": "display_data"
    }
   ],
   "source": [
    "params"
   ]
  },
  {
   "cell_type": "code",
   "execution_count": 235,
   "id": "e3b3b140-3d86-4230-bda6-b1d14ecc3ea7",
   "metadata": {},
   "outputs": [
    {
     "name": "stderr",
     "output_type": "stream",
     "text": [
      "Sample generation: 100%|██████████| 100/100 [00:19<00:00,  5.08it/s]\n"
     ]
    }
   ],
   "source": [
    "generate_training_data(interactive_output = params, sample_amount = 0.015, randomise_hist_match = False, randomise_noise_match = False, sim_length = sim_length, burn_in = 0, n_samples =  100, save_dir = \"/home/georgeos/Storage/Dropbox (Cambridge University)/Phase/training_data/\")"
   ]
  },
  {
   "cell_type": "markdown",
   "id": "c1520804-db3e-4d42-ac63-1bf6f062308e",
   "metadata": {},
   "source": [
    "### Do a few empty trenches with different sizes\n",
    "\n",
    "Rememebr to set `cell_multiplier` to 0"
   ]
  },
  {
   "cell_type": "code",
   "execution_count": 236,
   "id": "6f609a49-c2a9-4eae-b878-66a808d01fc8",
   "metadata": {},
   "outputs": [
    {
     "data": {
      "application/vnd.jupyter.widget-view+json": {
       "model_id": "3ce7a0d4b711463cae145053daac440b",
       "version_major": 2,
       "version_minor": 0
      },
      "text/plain": [
       "interactive(children=(IntSlider(value=3, description='media_multiplier', max=300, min=-300), FloatSlider(value…"
      ]
     },
     "metadata": {},
     "output_type": "display_data"
    }
   ],
   "source": [
    "params"
   ]
  },
  {
   "cell_type": "code",
   "execution_count": 237,
   "id": "dc3784f3-65d1-40db-97ee-21b235f3631f",
   "metadata": {},
   "outputs": [
    {
     "name": "stderr",
     "output_type": "stream",
     "text": [
      "Sample generation:   0%|          | 0/15 [00:00<?, ?it/s]<ipython-input-171-73e8c3158a79>:314: RuntimeWarning: Mean of empty slice.\n",
      "  simulated_means = np.array([just_media[np.where(just_media)].mean(), just_cells[np.where(just_cells)].mean(), just_device[np.where(just_device)].mean()])\n",
      "<ipython-input-171-73e8c3158a79>:315: RuntimeWarning: Degrees of freedom <= 0 for slice\n",
      "  simulated_vars = np.array([just_media[np.where(just_media)].var(), just_cells[np.where(just_cells)].var(), just_device[np.where(just_device)].var()])\n",
      "Sample generation: 100%|██████████| 15/15 [00:02<00:00,  5.05it/s]\n"
     ]
    }
   ],
   "source": [
    "generate_training_data(interactive_output = params, sample_amount = 0.1, randomise_hist_match = False, randomise_noise_match = False, sim_length = sim_length, burn_in = 0, n_samples =  15, save_dir = \"/home/georgeos/Storage/Dropbox (Cambridge University)/Phase/training_data/\")"
   ]
  },
  {
   "cell_type": "code",
   "execution_count": null,
   "id": "23cbc35e-f6b7-41f0-9bee-f4502a2ed024",
   "metadata": {},
   "outputs": [],
   "source": []
  }
 ],
 "metadata": {
  "kernelspec": {
   "display_name": "Python 3",
   "language": "python",
   "name": "python3"
  },
  "language_info": {
   "codemirror_mode": {
    "name": "ipython",
    "version": 3
   },
   "file_extension": ".py",
   "mimetype": "text/x-python",
   "name": "python",
   "nbconvert_exporter": "python",
   "pygments_lexer": "ipython3",
   "version": "3.8.8"
  }
 },
 "nbformat": 4,
 "nbformat_minor": 5
}
