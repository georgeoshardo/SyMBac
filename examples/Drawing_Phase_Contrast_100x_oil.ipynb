{
 "cells": [
  {
   "cell_type": "code",
   "execution_count": null,
   "id": "8403999f",
   "metadata": {
    "collapsed": false,
    "jupyter": {
     "outputs_hidden": false
    },
    "pycharm": {
     "name": "#%%\n"
    }
   },
   "outputs": [],
   "source": [
    "%gui qt"
   ]
  },
  {
   "cell_type": "code",
   "execution_count": 12,
   "id": "3704125e",
   "metadata": {
    "pycharm": {
     "is_executing": true
    },
    "tags": []
   },
   "outputs": [],
   "source": [
    "import napari\n",
    "import sys\n",
    "Linux = True\n",
    "if Linux:\n",
    "    sys.path.insert(0,'/home/georgeos/Documents/GitHub/SYMPTOMM2')\n",
    "else:\n",
    "    sys.path.insert(0,'C:\\\\Users\\\\gh464\\\\Documents\\\\GitHub\\\\SYMPTOMM2\\\\')\n",
    "from SYMPTOMM.cell import Cell\n",
    "from SYMPTOMM.scene_functions import create_space, step_and_update\n",
    "from SYMPTOMM.trench_geometry import trench_creator\n",
    "from SYMPTOMM.phase_contrast_drawing import *\n",
    "import tifffile\n",
    "import numpy as np\n",
    "from skimage.exposure import rescale_intensity\n",
    "from skimage.transform import rescale, resize, downscale_local_mean\n",
    "from ipywidgets import interact, interactive, fixed, interact_manual\n",
    "import ipywidgets as widgets\n",
    "from skimage.exposure import rescale_intensity\n",
    "from ipywidgets import interactive\n",
    "import os\n",
    "from PIL import Image\n",
    "import skimage\n",
    "from tqdm.notebook import tqdm\n",
    "import gc\n",
    "from SYMPTOMM.PSF import get_phase_contrast_kernel, get_condensers\n",
    "\n",
    "\n",
    "#viewer = napari.view_image(real_image)\n"
   ]
  },
  {
   "cell_type": "code",
   "execution_count": 15,
   "id": "d341d240-ec00-43cd-9db8-26b65849ddc9",
   "metadata": {},
   "outputs": [],
   "source": [
    "real_image_stack = tifffile.imread(\"/home/georgeos/Storage/Dropbox (Cambridge University)/Phase/real_data/Lane_02_pos_001_trench_x_0266_y_0059_w_0046_h_0460_c_Phase.tif\")[:,:256,:]"
   ]
  },
  {
   "cell_type": "code",
   "execution_count": 52,
   "id": "22b52a51-d58e-40e2-bc1d-7c293856d79e",
   "metadata": {},
   "outputs": [
    {
     "data": {
      "text/plain": [
       "<matplotlib.image.AxesImage at 0x7f9e9e1c7520>"
      ]
     },
     "execution_count": 52,
     "metadata": {},
     "output_type": "execute_result"
    },
    {
     "data": {
      "image/png": "[encoded data removed]",
      "text/plain": [
       "<Figure size 432x288 with 1 Axes>"
      ]
     },
     "metadata": {
      "needs_background": "light"
     },
     "output_type": "display_data"
    }
   ],
   "source": [
    "real_image = deepcopy(real_image_stack[1522,:256,:])\n",
    "plt.imshow(real_image,cmap=\"Greys_r\")"
   ]
  },
  {
   "cell_type": "markdown",
   "id": "fa476171-0ee2-4c5c-af18-a7fdf33e9374",
   "metadata": {},
   "source": [
    "### Scope props"
   ]
  },
  {
   "cell_type": "code",
   "execution_count": 17,
   "id": "51cc96ea-77be-4860-8f5d-eb0aaa1f4686",
   "metadata": {},
   "outputs": [],
   "source": [
    "condensers = get_condensers()\n",
    "W, R, diameter = condensers[\"Ph3\"]\n",
    "radius=50\n",
    "#F = 5\n",
    "λ = 0.75\n",
    "resize_amount = 3\n",
    "pix_mic_conv = 0.0655 ##0.108379937 micron/pix for 60x, 0.0655 for 100x\n",
    "scale = pix_mic_conv / resize_amount \n",
    "min_sigma = 0.42*0.6/6 / scale # micron#\n",
    "sigma=min_sigma\n",
    "NA=1.45\n",
    "n = 1.4\n",
    "kernel_params = (R,W,radius,scale,NA,n,sigma,λ)\n",
    "\n",
    "#kernel_params = (R,W,radius,scale,F,sigma,λ)\n"
   ]
  },
  {
   "cell_type": "markdown",
   "id": "87dffa43-0e61-4e4f-b1eb-c0da59ddbd4c",
   "metadata": {},
   "source": [
    "### Do long cells"
   ]
  },
  {
   "cell_type": "code",
   "execution_count": 20,
   "id": "621dbe9f-5640-4bdd-812c-f96a6c24965c",
   "metadata": {
    "collapsed": true,
    "jupyter": {
     "outputs_hidden": true
    },
    "tags": []
   },
   "outputs": [
    {
     "name": "stderr",
     "output_type": "stream",
     "text": [
      "\n",
      "Simulation Progress:   0%|          | 0/750 [00:00<?, ?it/s]\u001b[A\n",
      "Simulation Progress:   4%|▍         | 32/750 [00:00<00:02, 316.56it/s]\u001b[A\n",
      "Simulation Progress:   9%|▊         | 64/750 [00:00<00:02, 265.56it/s]\u001b[A\n",
      "Simulation Progress:  12%|█▏        | 92/750 [00:00<00:02, 232.20it/s]\u001b[A\n",
      "Simulation Progress:  15%|█▌        | 116/750 [00:00<00:03, 203.33it/s]\u001b[A\n",
      "Simulation Progress:  18%|█▊        | 137/750 [00:00<00:03, 199.95it/s]\u001b[A\n",
      "Simulation Progress:  21%|██        | 158/750 [00:00<00:03, 180.50it/s]\u001b[A\n",
      "Simulation Progress:  24%|██▎       | 177/750 [00:00<00:03, 177.73it/s]\u001b[A\n",
      "Simulation Progress:  26%|██▌       | 195/750 [00:00<00:03, 172.07it/s]\u001b[A\n",
      "Simulation Progress:  28%|██▊       | 213/750 [00:01<00:03, 164.20it/s]\u001b[A\n",
      "Simulation Progress:  31%|███       | 230/750 [00:01<00:03, 164.16it/s]\u001b[A\n",
      "Simulation Progress:  33%|███▎      | 247/750 [00:01<00:03, 159.21it/s]\u001b[A\n",
      "Simulation Progress:  35%|███▌      | 263/750 [00:02<00:14, 33.14it/s] \u001b[A\n",
      "Simulation Progress:  37%|███▋      | 275/750 [00:03<00:13, 35.77it/s]\u001b[A\n",
      "Simulation Progress:  38%|███▊      | 285/750 [00:03<00:12, 37.66it/s]\u001b[A\n",
      "Simulation Progress:  39%|███▉      | 294/750 [00:03<00:11, 38.96it/s]\u001b[A\n",
      "Simulation Progress:  40%|████      | 301/750 [00:03<00:11, 39.67it/s]\u001b[A\n",
      "Simulation Progress:  41%|████      | 308/750 [00:03<00:10, 40.43it/s]\u001b[A\n",
      "Simulation Progress:  42%|████▏     | 314/750 [00:03<00:10, 41.26it/s]\u001b[A\n",
      "Simulation Progress:  43%|████▎     | 320/750 [00:04<00:10, 41.75it/s]\u001b[A\n",
      "Simulation Progress:  43%|████▎     | 325/750 [00:04<00:10, 41.82it/s]\u001b[A\n",
      "Simulation Progress:  44%|████▍     | 330/750 [00:04<00:09, 42.27it/s]\u001b[A\n",
      "Simulation Progress:  45%|████▍     | 335/750 [00:04<00:09, 42.03it/s]\u001b[A\n",
      "Simulation Progress:  45%|████▌     | 340/750 [00:04<00:10, 40.95it/s]\u001b[A\n",
      "Simulation Progress:  46%|████▌     | 345/750 [00:04<00:09, 41.01it/s]\u001b[A\n",
      "Simulation Progress:  47%|████▋     | 350/750 [00:04<00:09, 41.75it/s]\u001b[A\n",
      "Simulation Progress:  47%|████▋     | 355/750 [00:04<00:09, 42.82it/s]\u001b[A\n",
      "Simulation Progress:  48%|████▊     | 360/750 [00:05<00:08, 43.72it/s]\u001b[A\n",
      "Simulation Progress:  49%|████▊     | 365/750 [00:05<00:08, 43.93it/s]\u001b[A\n",
      "Simulation Progress:  49%|████▉     | 370/750 [00:05<00:08, 44.40it/s]\u001b[A\n",
      "Simulation Progress:  50%|█████     | 375/750 [00:05<00:08, 45.19it/s]\u001b[A\n",
      "Simulation Progress:  51%|█████     | 380/750 [00:05<00:08, 45.33it/s]\u001b[A\n",
      "Simulation Progress:  51%|█████▏    | 385/750 [00:05<00:07, 45.65it/s]\u001b[A\n",
      "Simulation Progress:  52%|█████▏    | 390/750 [00:05<00:08, 44.51it/s]\u001b[A\n",
      "Simulation Progress:  53%|█████▎    | 395/750 [00:06<00:24, 14.61it/s]\u001b[A\n",
      "Simulation Progress:  53%|█████▎    | 400/750 [00:06<00:19, 18.36it/s]\u001b[A\n",
      "Simulation Progress:  54%|█████▍    | 405/750 [00:06<00:15, 22.47it/s]\u001b[A\n",
      "Simulation Progress:  55%|█████▍    | 410/750 [00:06<00:12, 26.68it/s]\u001b[A\n",
      "Simulation Progress:  55%|█████▌    | 415/750 [00:06<00:10, 30.70it/s]\u001b[A\n",
      "Simulation Progress:  56%|█████▌    | 420/750 [00:07<00:09, 34.17it/s]\u001b[A\n",
      "Simulation Progress:  57%|█████▋    | 425/750 [00:07<00:08, 37.22it/s]\u001b[A\n",
      "Simulation Progress:  57%|█████▋    | 430/750 [00:07<00:08, 38.52it/s]\u001b[A\n",
      "Simulation Progress:  58%|█████▊    | 435/750 [00:07<00:07, 39.71it/s]\u001b[A\n",
      "Simulation Progress:  59%|█████▊    | 440/750 [00:07<00:07, 40.25it/s]\u001b[A\n",
      "Simulation Progress:  59%|█████▉    | 445/750 [00:07<00:07, 41.08it/s]\u001b[A\n",
      "Simulation Progress:  60%|██████    | 450/750 [00:07<00:07, 42.63it/s]\u001b[A\n",
      "Simulation Progress:  61%|██████    | 455/750 [00:07<00:06, 43.61it/s]\u001b[A\n",
      "Simulation Progress:  61%|██████▏   | 460/750 [00:08<00:06, 44.75it/s]\u001b[A\n",
      "Simulation Progress:  62%|██████▏   | 465/750 [00:08<00:06, 44.72it/s]\u001b[A\n",
      "Simulation Progress:  63%|██████▎   | 470/750 [00:08<00:06, 44.73it/s]\u001b[A\n",
      "Simulation Progress:  63%|██████▎   | 475/750 [00:08<00:06, 45.06it/s]\u001b[A\n",
      "Simulation Progress:  64%|██████▍   | 480/750 [00:08<00:05, 45.11it/s]\u001b[A\n",
      "Simulation Progress:  65%|██████▍   | 485/750 [00:08<00:06, 43.91it/s]\u001b[A\n",
      "Simulation Progress:  65%|██████▌   | 490/750 [00:08<00:06, 42.57it/s]\u001b[A\n",
      "Simulation Progress:  66%|██████▌   | 495/750 [00:08<00:06, 42.15it/s]\u001b[A\n",
      "Simulation Progress:  67%|██████▋   | 500/750 [00:08<00:05, 43.66it/s]\u001b[A\n",
      "Simulation Progress:  67%|██████▋   | 505/750 [00:09<00:05, 44.71it/s]\u001b[A\n",
      "Simulation Progress:  68%|██████▊   | 510/750 [00:09<00:05, 45.28it/s]\u001b[A\n",
      "Simulation Progress:  69%|██████▊   | 515/750 [00:09<00:05, 45.76it/s]\u001b[A\n",
      "Simulation Progress:  69%|██████▉   | 520/750 [00:09<00:04, 46.03it/s]\u001b[A\n",
      "Simulation Progress:  70%|███████   | 525/750 [00:09<00:04, 45.35it/s]\u001b[A\n",
      "Simulation Progress:  71%|███████   | 530/750 [00:09<00:04, 45.31it/s]\u001b[A\n",
      "Simulation Progress:  71%|███████▏  | 535/750 [00:09<00:04, 44.38it/s]\u001b[A\n",
      "Simulation Progress:  72%|███████▏  | 540/750 [00:09<00:04, 43.26it/s]\u001b[A\n",
      "Simulation Progress:  73%|███████▎  | 545/750 [00:09<00:04, 43.15it/s]\u001b[A\n",
      "Simulation Progress:  73%|███████▎  | 550/750 [00:10<00:04, 43.87it/s]\u001b[A\n",
      "Simulation Progress:  74%|███████▍  | 555/750 [00:11<00:14, 13.34it/s]\u001b[A\n",
      "Simulation Progress:  75%|███████▍  | 560/750 [00:11<00:11, 16.94it/s]\u001b[A\n",
      "Simulation Progress:  75%|███████▌  | 565/750 [00:11<00:08, 20.94it/s]\u001b[A\n",
      "Simulation Progress:  76%|███████▌  | 570/750 [00:11<00:07, 25.08it/s]\u001b[A\n",
      "Simulation Progress:  77%|███████▋  | 575/750 [00:11<00:06, 28.86it/s]\u001b[A\n",
      "Simulation Progress:  77%|███████▋  | 580/750 [00:11<00:05, 32.15it/s]\u001b[A\n",
      "Simulation Progress:  78%|███████▊  | 585/750 [00:11<00:04, 34.54it/s]\u001b[A\n",
      "Simulation Progress:  79%|███████▊  | 590/750 [00:11<00:04, 36.34it/s]\u001b[A\n",
      "Simulation Progress:  79%|███████▉  | 595/750 [00:11<00:04, 38.73it/s]\u001b[A\n",
      "Simulation Progress:  80%|████████  | 600/750 [00:12<00:03, 40.27it/s]\u001b[A\n",
      "Simulation Progress:  81%|████████  | 605/750 [00:12<00:03, 41.67it/s]\u001b[A\n",
      "Simulation Progress:  81%|████████▏ | 610/750 [00:12<00:03, 42.84it/s]\u001b[A\n",
      "Simulation Progress:  82%|████████▏ | 615/750 [00:12<00:03, 43.64it/s]\u001b[A\n",
      "Simulation Progress:  83%|████████▎ | 620/750 [00:12<00:03, 41.26it/s]\u001b[A\n",
      "Simulation Progress:  83%|████████▎ | 625/750 [00:12<00:03, 41.58it/s]\u001b[A\n",
      "Simulation Progress:  84%|████████▍ | 630/750 [00:12<00:02, 41.24it/s]\u001b[A\n",
      "Simulation Progress:  85%|████████▍ | 635/750 [00:12<00:02, 41.12it/s]\u001b[A\n",
      "Simulation Progress:  85%|████████▌ | 640/750 [00:12<00:02, 41.38it/s]\u001b[A\n",
      "Simulation Progress:  86%|████████▌ | 645/750 [00:13<00:02, 42.71it/s]\u001b[A\n",
      "Simulation Progress:  87%|████████▋ | 650/750 [00:13<00:02, 43.63it/s]\u001b[A\n",
      "Simulation Progress:  87%|████████▋ | 655/750 [00:13<00:02, 44.33it/s]\u001b[A\n",
      "Simulation Progress:  88%|████████▊ | 660/750 [00:13<00:02, 44.57it/s]\u001b[A\n",
      "Simulation Progress:  89%|████████▊ | 665/750 [00:13<00:01, 44.44it/s]\u001b[A\n",
      "Simulation Progress:  89%|████████▉ | 670/750 [00:13<00:01, 43.49it/s]\u001b[A\n",
      "Simulation Progress:  90%|█████████ | 675/750 [00:13<00:01, 40.84it/s]\u001b[A\n",
      "Simulation Progress:  91%|█████████ | 680/750 [00:13<00:01, 39.87it/s]\u001b[A\n",
      "Simulation Progress:  91%|█████████▏| 685/750 [00:14<00:01, 38.33it/s]\u001b[A\n",
      "Simulation Progress:  92%|█████████▏| 690/750 [00:14<00:01, 39.61it/s]\u001b[A\n",
      "Simulation Progress:  93%|█████████▎| 695/750 [00:14<00:01, 41.42it/s]\u001b[A\n",
      "Simulation Progress:  93%|█████████▎| 700/750 [00:14<00:01, 42.72it/s]\u001b[A\n",
      "Simulation Progress:  94%|█████████▍| 705/750 [00:14<00:01, 43.58it/s]\u001b[A\n",
      "Simulation Progress:  95%|█████████▍| 710/750 [00:14<00:00, 44.26it/s]\u001b[A\n",
      "Simulation Progress:  95%|█████████▌| 715/750 [00:14<00:00, 43.94it/s]\u001b[A\n",
      "Simulation Progress:  96%|█████████▌| 720/750 [00:14<00:00, 44.14it/s]\u001b[A\n",
      "Simulation Progress:  97%|█████████▋| 725/750 [00:14<00:00, 44.27it/s]\u001b[A\n",
      "Simulation Progress:  97%|█████████▋| 730/750 [00:16<00:01, 12.65it/s]\u001b[A\n",
      "Simulation Progress:  98%|█████████▊| 735/750 [00:16<00:00, 15.97it/s]\u001b[A\n",
      "Simulation Progress:  99%|█████████▊| 740/750 [00:16<00:00, 19.86it/s]\u001b[A\n",
      "Simulation Progress:  99%|█████████▉| 745/750 [00:16<00:00, 23.86it/s]\u001b[A\n",
      "Simulation Progress: 100%|██████████| 750/750 [00:16<00:00, 45.55it/s]\u001b[A\n"
     ]
    },
    {
     "data": {
      "application/vnd.jupyter.widget-view+json": {
       "model_id": "7e0b4af04da54d1f970a2fce6f216d84",
       "version_major": 2,
       "version_minor": 0
      },
      "text/plain": [
       "Timeseries Properties:   0%|          | 0/499 [00:00<?, ?it/s]"
      ]
     },
     "metadata": {},
     "output_type": "display_data"
    },
    {
     "data": {
      "application/vnd.jupyter.widget-view+json": {
       "model_id": "1c5d343c860e41fa8873de2554aef7b2",
       "version_major": 2,
       "version_minor": 0
      },
      "text/plain": [
       "Scene Draw::   0%|          | 0/499 [00:00<?, ?it/s]"
      ]
     },
     "metadata": {},
     "output_type": "display_data"
    }
   ],
   "source": [
    "sim_length = 500\n",
    "cell_timeseries, space = run_simulation(\n",
    "    trench_length=15, \n",
    "    trench_width=1.5, \n",
    "    cell_max_length=9.5, \n",
    "    cell_width= 1,\n",
    "    sim_length = sim_length,\n",
    "    pix_mic_conv = pix_mic_conv,\n",
    "    gravity=0,\n",
    "    phys_iters=20,\n",
    "    max_length_var = 3,\n",
    "    width_var = 0.03\n",
    ") # growth phase\n",
    "main_segments = get_trench_segments(space)\n",
    "ID_props = generate_curve_props(cell_timeseries)\n",
    "cell_timeseries_properties = Parallel(n_jobs=-1)(\n",
    "    delayed(gen_cell_props_for_draw)(a, ID_props) for a in tqdm(cell_timeseries, desc='Timeseries Properties'))\n",
    "do_transformation = True\n",
    "offset = 30\n",
    "mask_threshold = 18\n",
    "label_masks = True\n",
    "space_size = get_space_size(cell_timeseries_properties)\n",
    "scenes = Parallel(n_jobs=13)(delayed(draw_scene)(\n",
    "    cell_properties, do_transformation, mask_threshold, space_size, offset, label_masks) for cell_properties in tqdm(cell_timeseries_properties, desc='Scene Draw:'))"
   ]
  },
  {
   "cell_type": "code",
   "execution_count": 29,
   "id": "bff99283-e3c0-4a79-8c4e-dbf2a25662f9",
   "metadata": {},
   "outputs": [
    {
     "name": "stderr",
     "output_type": "stream",
     "text": [
      "/home/georgeos/Documents/GitHub/SYMPTOMM2/SYMPTOMM/PSF.py:105: RuntimeWarning: invalid value encountered in true_divide\n",
      "  kernel1 = 2*jv(1,rr)/(rr)\n",
      "/home/georgeos/Documents/GitHub/SYMPTOMM2/SYMPTOMM/PSF.py:108: RuntimeWarning: invalid value encountered in true_divide\n",
      "  kernel2 = 2*(R-W)**2/R**2 * jv(1,(R-W)**2/R**2 * rr)/rr\n"
     ]
    }
   ],
   "source": [
    "media_multiplier=30\n",
    "cell_multiplier=1\n",
    "device_multiplier=-50\n",
    "y_border_expansion_coefficient = 3\n",
    "x_border_expansion_coefficient = 3\n",
    "\n",
    "\n",
    "\n",
    "temp_expanded_scene, temp_expanded_scene_no_cells, temp_expanded_mask = generate_PC_OPL(\n",
    "   main_segments=main_segments,\n",
    "    offset=offset,\n",
    "    scene = scenes[0][0],\n",
    "    mask = scenes[0][1],\n",
    "    media_multiplier=media_multiplier,\n",
    "    cell_multiplier=cell_multiplier,\n",
    "    device_multiplier=cell_multiplier,\n",
    "    y_border_expansion_coefficient = y_border_expansion_coefficient,\n",
    "    x_border_expansion_coefficient = x_border_expansion_coefficient\n",
    ")\n",
    "\n",
    "\n",
    "\n",
    "### Generate temporary image to make same shape\n",
    "temp_kernel = get_phase_contrast_kernel(*kernel_params)\n",
    "convolved = convolve_rescale(temp_expanded_scene, temp_kernel, 1/resize_amount, rescale_int = True)\n",
    "real_resize, expanded_resized = make_images_same_shape(real_image,convolved, rescale_int=True)"
   ]
  },
  {
   "cell_type": "code",
   "execution_count": 30,
   "id": "276e6f39-8368-4bca-b4e2-73d8ac8fd30d",
   "metadata": {},
   "outputs": [],
   "source": [
    "viewer = napari.view_image(real_resize)\n",
    "media_label = viewer.add_labels(np.zeros(real_resize.shape).astype(int), name = \"media\")\n",
    "cell_label = viewer.add_labels(np.zeros(real_resize.shape).astype(int), name = \"cell\")\n",
    "device_label = viewer.add_labels(np.zeros(real_resize.shape).astype(int), name = \"device\")"
   ]
  },
  {
   "cell_type": "code",
   "execution_count": 31,
   "id": "2ef464f9-754c-41ef-ad7a-3839d306e8cb",
   "metadata": {},
   "outputs": [],
   "source": [
    "real_media_mean = real_resize[np.where(media_label.data)].mean();\n",
    "real_cell_mean = real_resize[np.where(cell_label.data)].mean(); \n",
    "real_device_mean = real_resize[np.where(device_label.data)].mean()\n",
    "real_means = np.array((real_media_mean, real_cell_mean, real_device_mean))\n",
    "\n",
    "real_media_var = real_resize[np.where(media_label.data)].var();\n",
    "real_cell_var = real_resize[np.where(cell_label.data)].var(); \n",
    "real_device_var = real_resize[np.where(device_label.data)].var()\n",
    "real_vars = np.array((real_media_var, real_cell_var, real_device_var))\n",
    "\n",
    "image_params = (real_media_mean, real_cell_mean, real_device_mean, real_means, real_media_var, real_cell_var, real_device_var, real_vars)"
   ]
  },
  {
   "cell_type": "code",
   "execution_count": 23,
   "id": "481cff2c-85f8-49b0-a2ac-4fc7feabceb1",
   "metadata": {},
   "outputs": [
    {
     "data": {
      "text/plain": [
       "(256, 46)"
      ]
     },
     "execution_count": 23,
     "metadata": {},
     "output_type": "execute_result"
    }
   ],
   "source": [
    "real_resize.shape"
   ]
  },
  {
   "cell_type": "code",
   "execution_count": 53,
   "id": "4cb1647a-2e38-40a4-9d86-49630cab30aa",
   "metadata": {},
   "outputs": [],
   "source": [
    "mean_error = []\n",
    "media_error = []\n",
    "cell_error = []\n",
    "device_error = []\n",
    "\n",
    "mean_var_error = []\n",
    "media_var_error = []\n",
    "cell_var_error = []\n",
    "device_var_error = []\n",
    "\n",
    "error_params = (mean_error,media_error,cell_error,device_error,mean_var_error,media_var_error,cell_var_error,device_var_error)\n",
    "\n",
    "params = interactive(\n",
    "    generate_test_comparison,\n",
    "    media_multiplier=(-300,300,1),\n",
    "    cell_multiplier=(-30,30,0.01),\n",
    "    device_multiplier=(-300,300,1),\n",
    "    sigma=(min_sigma,min_sigma*20, min_sigma/20),\n",
    "    scene_no = (0,sim_length-2,1),\n",
    "    noise_var=(0,0.01, 0.0001),\n",
    "    scale=fixed(scale),\n",
    "    match_fourier = [True, False],\n",
    "    match_histogram = [True, False],\n",
    "    match_noise = [True, False],\n",
    "    offset=fixed(offset),\n",
    "    main_segments = fixed(main_segments),\n",
    "    debug_plot=fixed(True),\n",
    "    scenes = fixed(scenes),\n",
    "    kernel_params = fixed(kernel_params),\n",
    "    resize_amount = fixed(resize_amount), \n",
    "    real_image = fixed(real_image),\n",
    "    image_params = fixed(image_params),\n",
    "    error_params = fixed(error_params),\n",
    "    x_border_expansion_coefficient = fixed(x_border_expansion_coefficient),\n",
    "    y_border_expansion_coefficient = fixed(y_border_expansion_coefficient)\n",
    ");"
   ]
  },
  {
   "cell_type": "code",
   "execution_count": 54,
   "id": "378b3b24-0db2-4a17-9dca-832d2a064de6",
   "metadata": {},
   "outputs": [
    {
     "data": {
      "application/vnd.jupyter.widget-view+json": {
       "model_id": "938200a64794477e8f510aa10bd66ff6",
       "version_major": 2,
       "version_minor": 0
      },
      "text/plain": [
       "interactive(children=(IntSlider(value=0, description='media_multiplier', max=300, min=-300), FloatSlider(value…"
      ]
     },
     "metadata": {},
     "output_type": "display_data"
    }
   ],
   "source": [
    "params"
   ]
  },
  {
   "cell_type": "code",
   "execution_count": 55,
   "id": "332c02e6-af6f-41e7-979c-f00ee8e23781",
   "metadata": {
    "tags": []
   },
   "outputs": [
    {
     "data": {
      "application/vnd.jupyter.widget-view+json": {
       "model_id": "a89b5f2d6aac4fe08d2454b7b9c6ffc3",
       "version_major": 2,
       "version_minor": 0
      },
      "text/plain": [
       "Sample generation:   0%|          | 0/900 [00:00<?, ?it/s]"
      ]
     },
     "metadata": {},
     "output_type": "display_data"
    }
   ],
   "source": [
    "generate_training_data(interactive_output = params, sample_amount = 0.05, randomise_hist_match = False, randomise_noise_match = False, sim_length = sim_length, burn_in = 0, n_samples =  900, save_dir = \"/home/georgeos/Storage/Dropbox (Cambridge University)/Phase/fourier_hist_mid_large/\")"
   ]
  },
  {
   "cell_type": "markdown",
   "id": "30746946-f64c-48f0-bda8-5c454d7dfcb0",
   "metadata": {},
   "source": [
    "### Do very large cells"
   ]
  },
  {
   "cell_type": "code",
   "execution_count": 56,
   "id": "e81a7c1b",
   "metadata": {
    "tags": []
   },
   "outputs": [
    {
     "name": "stderr",
     "output_type": "stream",
     "text": [
      "Simulation Progress: 100%|██████████| 550/550 [00:09<00:00, 60.04it/s] \n"
     ]
    },
    {
     "data": {
      "application/vnd.jupyter.widget-view+json": {
       "model_id": "8a3ca11626ff4006a976ca253b841c21",
       "version_major": 2,
       "version_minor": 0
      },
      "text/plain": [
       "Timeseries Properties:   0%|          | 0/299 [00:00<?, ?it/s]"
      ]
     },
     "metadata": {},
     "output_type": "display_data"
    },
    {
     "data": {
      "application/vnd.jupyter.widget-view+json": {
       "model_id": "4ade05e5d68b4995889bbad6b90fbff5",
       "version_major": 2,
       "version_minor": 0
      },
      "text/plain": [
       "Scene Draw:   0%|          | 0/299 [00:00<?, ?it/s]"
      ]
     },
     "metadata": {},
     "output_type": "display_data"
    }
   ],
   "source": [
    "sim_length = 300\n",
    "cell_timeseries, space = run_simulation(\n",
    "    trench_length=15, \n",
    "    trench_width=1.45, \n",
    "    cell_max_length=10.5,\n",
    "    cell_width= 1.08, \n",
    "    sim_length = sim_length, \n",
    "    pix_mic_conv = pix_mic_conv,\n",
    "    gravity=20,\n",
    "    phys_iters=50,\n",
    "    max_length_var = 3,\n",
    "    width_var = 0.03\n",
    ") # growth phase\n",
    "main_segments = get_trench_segments(space)\n",
    "ID_props = generate_curve_props(cell_timeseries)\n",
    "cell_timeseries_properties = Parallel(n_jobs=-1)(\n",
    "    delayed(gen_cell_props_for_draw)(a, ID_props) for a in tqdm(cell_timeseries, desc='Timeseries Properties'))\n",
    "do_transformation = True\n",
    "offset = 30\n",
    "mask_threshold = 18\n",
    "label_masks = True\n",
    "space_size = get_space_size(cell_timeseries_properties)\n",
    "scenes = Parallel(n_jobs=-1)(delayed(draw_scene)(\n",
    "    cell_properties, do_transformation, mask_threshold, space_size, offset, label_masks) for cell_properties in tqdm(cell_timeseries_properties, desc='Scene Draw'))"
   ]
  },
  {
   "cell_type": "code",
   "execution_count": 57,
   "id": "034e81eb-89c7-4ea5-afcc-c078f2d18480",
   "metadata": {},
   "outputs": [],
   "source": [
    "media_multiplier=30\n",
    "cell_multiplier=1\n",
    "device_multiplier=-50\n",
    "y_border_expansion_coefficient = 3\n",
    "x_border_expansion_coefficient = 3\n",
    "\n",
    "\n",
    "\n",
    "temp_expanded_scene, temp_expanded_scene_no_cells, temp_expanded_mask = generate_PC_OPL(\n",
    "   main_segments=main_segments,\n",
    "    offset=offset,\n",
    "    scene = scenes[0][0],\n",
    "    mask = scenes[0][1],\n",
    "    media_multiplier=media_multiplier,\n",
    "    cell_multiplier=cell_multiplier,\n",
    "    device_multiplier=cell_multiplier,\n",
    "    y_border_expansion_coefficient = y_border_expansion_coefficient,\n",
    "    x_border_expansion_coefficient = x_border_expansion_coefficient\n",
    ")\n",
    "\n",
    "\n",
    "\n",
    "### Generate temporary image to make same shape\n",
    "temp_kernel = get_phase_contrast_kernel(*kernel_params)\n",
    "convolved = convolve_rescale(temp_expanded_scene, temp_kernel, 1/resize_amount, rescale_int = True)\n",
    "real_resize, expanded_resized = make_images_same_shape(real_image,convolved, rescale_int=True)\n",
    "\n"
   ]
  },
  {
   "cell_type": "code",
   "execution_count": 58,
   "id": "402fc7cd-5c59-4702-b0b0-c3241cf707e9",
   "metadata": {},
   "outputs": [],
   "source": [
    "real_media_mean = real_resize[np.where(media_label.data)].mean();\n",
    "real_cell_mean = real_resize[np.where(cell_label.data)].mean(); \n",
    "real_device_mean = real_resize[np.where(device_label.data)].mean()\n",
    "real_means = np.array((real_media_mean, real_cell_mean, real_device_mean))\n",
    "\n",
    "real_media_var = real_resize[np.where(media_label.data)].var();\n",
    "real_cell_var = real_resize[np.where(cell_label.data)].var(); \n",
    "real_device_var = real_resize[np.where(device_label.data)].var()\n",
    "real_vars = np.array((real_media_var, real_cell_var, real_device_var))\n",
    "\n",
    "image_params = (real_media_mean, real_cell_mean, real_device_mean, real_means, real_media_var, real_cell_var, real_device_var, real_vars)"
   ]
  },
  {
   "cell_type": "code",
   "execution_count": 62,
   "id": "7ef9f0e0-ec46-410a-ae01-60ef3caa87de",
   "metadata": {},
   "outputs": [],
   "source": [
    "mean_error = []\n",
    "media_error = []\n",
    "cell_error = []\n",
    "device_error = []\n",
    "\n",
    "mean_var_error = []\n",
    "media_var_error = []\n",
    "cell_var_error = []\n",
    "device_var_error = []\n",
    "\n",
    "error_params = (mean_error,media_error,cell_error,device_error,mean_var_error,media_var_error,cell_var_error,device_var_error)\n",
    "\n",
    "params = interactive(\n",
    "    generate_test_comparison,\n",
    "    media_multiplier=(-300,300,1),\n",
    "    cell_multiplier=(-30,30,0.01),\n",
    "    device_multiplier=(-300,300,1),\n",
    "    sigma=(min_sigma,min_sigma*20, min_sigma/20),\n",
    "    scene_no = (0,sim_length-2,1),\n",
    "    noise_var=(0,0.01, 0.0001),\n",
    "    scale=(scale,scale,scale),\n",
    "    match_fourier = [True, False],\n",
    "    match_histogram = [True, False],\n",
    "    match_noise = [True, False],\n",
    "    offset=fixed(offset),\n",
    "    main_segments = fixed(main_segments),\n",
    "    debug_plot=fixed(True),\n",
    "    scenes = fixed(scenes),\n",
    "    kernel_params = fixed(kernel_params),\n",
    "    resize_amount = fixed(resize_amount), \n",
    "    real_image = fixed(real_image),\n",
    "    image_params = fixed(image_params),\n",
    "    error_params = fixed(error_params),\n",
    "    x_border_expansion_coefficient = fixed(x_border_expansion_coefficient),\n",
    "    y_border_expansion_coefficient = fixed(y_border_expansion_coefficient)\n",
    ");"
   ]
  },
  {
   "cell_type": "code",
   "execution_count": 63,
   "id": "46a8a43d-4bae-4630-8cdb-ac33f03181ba",
   "metadata": {},
   "outputs": [
    {
     "data": {
      "application/vnd.jupyter.widget-view+json": {
       "model_id": "9ec64475d1804bedb8803b9a63989f47",
       "version_major": 2,
       "version_minor": 0
      },
      "text/plain": [
       "interactive(children=(IntSlider(value=0, description='media_multiplier', max=300, min=-300), FloatSlider(value…"
      ]
     },
     "metadata": {},
     "output_type": "display_data"
    }
   ],
   "source": [
    "params"
   ]
  },
  {
   "cell_type": "code",
   "execution_count": 64,
   "id": "005633aa-0587-4639-a40e-24cc202dad5b",
   "metadata": {
    "tags": []
   },
   "outputs": [
    {
     "data": {
      "application/vnd.jupyter.widget-view+json": {
       "model_id": "9845cffabe0d46c080c7e9a65fedfb3f",
       "version_major": 2,
       "version_minor": 0
      },
      "text/plain": [
       "Sample generation:   0%|          | 0/900 [00:00<?, ?it/s]"
      ]
     },
     "metadata": {},
     "output_type": "display_data"
    }
   ],
   "source": [
    "generate_training_data(interactive_output = params, sample_amount = 0.05, randomise_hist_match = False, randomise_noise_match = False, sim_length = sim_length, burn_in = 0, n_samples =  900, save_dir = \"/home/georgeos/Storage/Dropbox (Cambridge University)/Phase/fourier_hist_mid_large/\")"
   ]
  },
  {
   "cell_type": "markdown",
   "id": "7695e753-539c-4365-b373-e38329014986",
   "metadata": {},
   "source": [
    "### Do medium cells"
   ]
  },
  {
   "cell_type": "code",
   "execution_count": null,
   "id": "d312d5fb-ca93-4fcf-b322-c9a17ee866c3",
   "metadata": {
    "tags": []
   },
   "outputs": [
    {
     "name": "stderr",
     "output_type": "stream",
     "text": [
      "Simulation Progress: 100%|██████████| 550/550 [00:14<00:00, 38.82it/s] \n"
     ]
    },
    {
     "data": {
      "application/vnd.jupyter.widget-view+json": {
       "model_id": "1f2034f8cd544c0f9c03e7af9b18da39",
       "version_major": 2,
       "version_minor": 0
      },
      "text/plain": [
       "Timeseries Properties:   0%|          | 0/299 [00:00<?, ?it/s]"
      ]
     },
     "metadata": {},
     "output_type": "display_data"
    },
    {
     "data": {
      "application/vnd.jupyter.widget-view+json": {
       "model_id": "cea2340fe02d4ea4a63bf229cb684aa8",
       "version_major": 2,
       "version_minor": 0
      },
      "text/plain": [
       "Scene Draw::   0%|          | 0/299 [00:00<?, ?it/s]"
      ]
     },
     "metadata": {},
     "output_type": "display_data"
    }
   ],
   "source": [
    "sim_length = 300\n",
    "cell_timeseries, space = run_simulation(\n",
    "    trench_length=15, \n",
    "    trench_width=1.5, \n",
    "    cell_max_length=4.7, \n",
    "    cell_width=1.09, \n",
    "    sim_length = sim_length, \n",
    "    pix_mic_conv = pix_mic_conv,\n",
    "    gravity=-4,\n",
    "    phys_iters=35,\n",
    "    max_length_var = 1,\n",
    "    width_var = 0.06\n",
    ") # growth phase\n",
    "main_segments = get_trench_segments(space)\n",
    "ID_props = generate_curve_props(cell_timeseries)\n",
    "cell_timeseries_properties = Parallel(n_jobs=-1)(\n",
    "    delayed(gen_cell_props_for_draw)(a, ID_props) for a in tqdm(cell_timeseries, desc='Timeseries Properties'))\n",
    "do_transformation = False\n",
    "offset = 30\n",
    "mask_threshold = 18\n",
    "label_masks = True\n",
    "space_size = get_space_size(cell_timeseries_properties)\n",
    "scenes = Parallel(n_jobs=-1)(delayed(draw_scene)(\n",
    "    cell_properties, do_transformation, mask_threshold, space_size, offset, label_masks) for cell_properties in tqdm(cell_timeseries_properties, desc='Scene Draw:'))"
   ]
  },
  {
   "cell_type": "code",
   "execution_count": null,
   "id": "99bd965a-cc77-444a-aa0c-2b5fb0e30029",
   "metadata": {},
   "outputs": [],
   "source": [
    "mean_error = []\n",
    "media_error = []\n",
    "cell_error = []\n",
    "device_error = []\n",
    "\n",
    "mean_var_error = []\n",
    "media_var_error = []\n",
    "cell_var_error = []\n",
    "device_var_error = []\n",
    "\n",
    "error_params = (mean_error,media_error,cell_error,device_error,mean_var_error,media_var_error,cell_var_error,device_var_error)\n",
    "\n",
    "params = interactive(\n",
    "    generate_test_comparison,\n",
    "    media_multiplier=(-300,300,1),\n",
    "    cell_multiplier=(-30,30,0.01),\n",
    "    device_multiplier=(-300,300,1),\n",
    "    sigma=(min_sigma,min_sigma*20, min_sigma/20),\n",
    "    scene_no = (0,sim_length-2,1),\n",
    "    noise_var=(0,0.01, 0.0001),\n",
    "    scale=(scale,scale,scale),\n",
    "    match_histogram = [True, False],\n",
    "    match_noise = [True, False],\n",
    "    offset=fixed(offset),\n",
    "    main_segments = fixed(main_segments),\n",
    "    debug_plot=fixed(True),\n",
    "    scenes = fixed(scenes),\n",
    "    kernel_params = fixed(kernel_params),\n",
    "    resize_amount = fixed(resize_amount), \n",
    "    real_image = fixed(real_image),\n",
    "    image_params = fixed(image_params),\n",
    "    error_params = fixed(error_params),\n",
    "    x_border_expansion_coefficient = fixed(x_border_expansion_coefficient),\n",
    "    y_border_expansion_coefficient = fixed(y_border_expansion_coefficient)\n",
    ");"
   ]
  },
  {
   "cell_type": "code",
   "execution_count": null,
   "id": "ab5bf954-4e3f-4f72-802f-cf06dc43d458",
   "metadata": {},
   "outputs": [],
   "source": [
    "params"
   ]
  },
  {
   "cell_type": "code",
   "execution_count": null,
   "id": "6abcdd96-3e14-4e2b-b9ef-8f19ab5a5ba7",
   "metadata": {
    "tags": []
   },
   "outputs": [],
   "source": [
    "generate_training_data(interactive_output = params, sample_amount = 0.025, randomise_hist_match = False, randomise_noise_match = False, sim_length = sim_length, burn_in = 0, n_samples =  1000, save_dir = \"/home/georgeos/Storage/Dropbox (Cambridge University)/Phase/training_data/\")"
   ]
  },
  {
   "cell_type": "markdown",
   "id": "15e9ba8f-bbea-4da8-8be0-1be158493b41",
   "metadata": {},
   "source": [
    "## Do small cells"
   ]
  },
  {
   "cell_type": "code",
   "execution_count": null,
   "id": "d6e0a552-e91e-4175-93d1-a43462971fbf",
   "metadata": {
    "tags": []
   },
   "outputs": [],
   "source": [
    "sim_length = 500\n",
    "cell_timeseries, space = run_simulation(\n",
    "    trench_length=15, \n",
    "    trench_width=1.5, \n",
    "    cell_max_length=2.8, \n",
    "    cell_width=1.05, \n",
    "    sim_length = sim_length, \n",
    "    pix_mic_conv = pix_mic_conv,\n",
    "    gravity=-7,\n",
    "    phys_iters=25,\n",
    "    max_length_var = 2,\n",
    "    width_var = 0.06\n",
    ") \n",
    "main_segments = get_trench_segments(space)\n",
    "ID_props = generate_curve_props(cell_timeseries)\n",
    "cell_timeseries_properties = Parallel(n_jobs=-1)(\n",
    "    delayed(gen_cell_props_for_draw)(a, ID_props) for a in tqdm(cell_timeseries, desc='Timeseries Properties'))\n",
    "do_transformation = False\n",
    "offset = 30\n",
    "mask_threshold = 18\n",
    "label_masks = True\n",
    "space_size = get_space_size(cell_timeseries_properties)\n",
    "scenes = Parallel(n_jobs=-1)(delayed(draw_scene)(\n",
    "    cell_properties, do_transformation, mask_threshold, space_size, offset, label_masks) for cell_properties in tqdm(cell_timeseries_properties, desc='Scene Draw:'))"
   ]
  },
  {
   "cell_type": "code",
   "execution_count": null,
   "id": "744f35ce-86a5-41f8-a1c7-210812aeb800",
   "metadata": {},
   "outputs": [],
   "source": [
    "mean_error = []\n",
    "media_error = []\n",
    "cell_error = []\n",
    "device_error = []\n",
    "\n",
    "mean_var_error = []\n",
    "media_var_error = []\n",
    "cell_var_error = []\n",
    "device_var_error = []\n",
    "\n",
    "error_params = (mean_error,media_error,cell_error,device_error,mean_var_error,media_var_error,cell_var_error,device_var_error)\n",
    "\n",
    "params = interactive(\n",
    "    generate_test_comparison,\n",
    "    media_multiplier=(-300,300,1),\n",
    "    cell_multiplier=(-30,30,0.01),\n",
    "    device_multiplier=(-300,300,1),\n",
    "    sigma=(min_sigma,min_sigma*20, min_sigma/20),\n",
    "    scene_no = (0,sim_length-2,1),\n",
    "    noise_var=(0,0.01, 0.0001),\n",
    "    scale=(scale,scale,scale),\n",
    "    match_histogram = [True, False],\n",
    "    match_noise = [True, False],\n",
    "    offset=fixed(offset),\n",
    "    main_segments = fixed(main_segments),\n",
    "    debug_plot=fixed(True),\n",
    "    scenes = fixed(scenes),\n",
    "    kernel_params = fixed(kernel_params),\n",
    "    resize_amount = fixed(resize_amount), \n",
    "    real_image = fixed(real_image),\n",
    "    image_params = fixed(image_params),\n",
    "    error_params = fixed(error_params),\n",
    "    x_border_expansion_coefficient = fixed(x_border_expansion_coefficient),\n",
    "    y_border_expansion_coefficient = fixed(y_border_expansion_coefficient)\n",
    ");"
   ]
  },
  {
   "cell_type": "code",
   "execution_count": null,
   "id": "1740dca0-abf0-4f08-8038-67ceb78c1744",
   "metadata": {},
   "outputs": [],
   "source": [
    "params"
   ]
  },
  {
   "cell_type": "code",
   "execution_count": null,
   "id": "1545c16f-6cf4-40c8-9a86-e2acd5d943c3",
   "metadata": {
    "tags": []
   },
   "outputs": [],
   "source": [
    "generate_training_data(interactive_output = params, sample_amount = 0.05, randomise_hist_match = False, randomise_noise_match = False, sim_length = sim_length, burn_in = 0, n_samples =  1000, save_dir = \"/home/georgeos/Storage/Dropbox (Cambridge University)/Phase/training_data_exponential_nohist_homogeneous/\")"
   ]
  },
  {
   "cell_type": "markdown",
   "id": "672fe5fe-80e5-4940-94ce-1049a4c42b89",
   "metadata": {},
   "source": [
    "### Do a few very small cells"
   ]
  },
  {
   "cell_type": "code",
   "execution_count": null,
   "id": "ef8de21e-8386-48be-8e0b-c69aa8453db4",
   "metadata": {
    "tags": []
   },
   "outputs": [],
   "source": [
    "sim_length = 100\n",
    "cell_timeseries, space = run_simulation(\n",
    "    trench_length=15, \n",
    "    trench_width=1.5, \n",
    "    cell_max_length=1.9, \n",
    "    cell_width=1.05, \n",
    "    sim_length = sim_length, \n",
    "    pix_mic_conv = pix_mic_conv,\n",
    "    gravity=-7,\n",
    "    phys_iters=25,\n",
    "    max_length_var = 2,\n",
    "    width_var = 0.06\n",
    ") \n",
    "main_segments = get_trench_segments(space)\n",
    "ID_props = generate_curve_props(cell_timeseries)\n",
    "cell_timeseries_properties = Parallel(n_jobs=-1)(\n",
    "    delayed(gen_cell_props_for_draw)(a, ID_props) for a in tqdm(cell_timeseries, desc='Timeseries Properties'))\n",
    "do_transformation = False\n",
    "offset = 40\n",
    "mask_threshold = 18\n",
    "label_masks = True\n",
    "space_size = get_space_size(cell_timeseries_properties)\n",
    "scenes = Parallel(n_jobs=-1)(delayed(draw_scene)(\n",
    "    cell_properties, do_transformation, mask_threshold, space_size, offset, label_masks) for cell_properties in tqdm(cell_timeseries_properties, desc='Scene Draw:'))"
   ]
  },
  {
   "cell_type": "code",
   "execution_count": null,
   "id": "5dad04b6-5917-4f84-96e8-91340a05baa0",
   "metadata": {},
   "outputs": [],
   "source": [
    "mean_error = []\n",
    "media_error = []\n",
    "cell_error = []\n",
    "device_error = []\n",
    "\n",
    "mean_var_error = []\n",
    "media_var_error = []\n",
    "cell_var_error = []\n",
    "device_var_error = []\n",
    "\n",
    "error_params = (mean_error,media_error,cell_error,device_error,mean_var_error,media_var_error,cell_var_error,device_var_error)\n",
    "\n",
    "params = interactive(\n",
    "    generate_test_comparison,\n",
    "    media_multiplier=(-300,300,1),\n",
    "    cell_multiplier=(-30,30,0.01),\n",
    "    device_multiplier=(-300,300,1),\n",
    "    sigma=(min_sigma,min_sigma*20, min_sigma/20),\n",
    "    scene_no = (0,sim_length-2,1),\n",
    "    noise_var=(0,0.01, 0.0001),\n",
    "    scale=(scale,scale,scale),\n",
    "    match_histogram = [True, False],\n",
    "    match_noise = [True, False],\n",
    "    offset=fixed(offset),\n",
    "    main_segments = fixed(main_segments),\n",
    "    debug_plot=fixed(True),\n",
    "    scenes = fixed(scenes),\n",
    "    kernel_params = fixed(kernel_params),\n",
    "    resize_amount = fixed(resize_amount), \n",
    "    real_image = fixed(real_image),\n",
    "    image_params = fixed(image_params),\n",
    "    error_params = fixed(error_params),\n",
    "    x_border_expansion_coefficient = fixed(x_border_expansion_coefficient),\n",
    "    y_border_expansion_coefficient = fixed(y_border_expansion_coefficient)\n",
    ");"
   ]
  },
  {
   "cell_type": "code",
   "execution_count": null,
   "id": "811a47fc-f6b4-4283-bbd6-9cf0e5da633b",
   "metadata": {},
   "outputs": [],
   "source": [
    "params"
   ]
  },
  {
   "cell_type": "code",
   "execution_count": null,
   "id": "e3b3b140-3d86-4230-bda6-b1d14ecc3ea7",
   "metadata": {},
   "outputs": [],
   "source": [
    "generate_training_data(interactive_output = params, sample_amount = 0.05, randomise_hist_match = False, randomise_noise_match = False, sim_length = sim_length, burn_in = 0, n_samples =  500, save_dir = \"/home/georgeos/Storage/Dropbox (Cambridge University)/Phase/training_data_exponential_nohist_homogeneous/\")"
   ]
  },
  {
   "cell_type": "markdown",
   "id": "c1520804-db3e-4d42-ac63-1bf6f062308e",
   "metadata": {},
   "source": [
    "### Do a few empty trenches with different sizes\n",
    "\n",
    "Rememebr to set `cell_multiplier` to 0"
   ]
  },
  {
   "cell_type": "code",
   "execution_count": null,
   "id": "6f609a49-c2a9-4eae-b878-66a808d01fc8",
   "metadata": {},
   "outputs": [],
   "source": [
    "params"
   ]
  },
  {
   "cell_type": "code",
   "execution_count": null,
   "id": "dc3784f3-65d1-40db-97ee-21b235f3631f",
   "metadata": {},
   "outputs": [],
   "source": [
    "generate_training_data(interactive_output = params, sample_amount = 0.1, randomise_hist_match = False, randomise_noise_match = False, sim_length = sim_length, burn_in = 0, n_samples =  15, save_dir = \"/home/georgeos/Storage/Dropbox (Cambridge University)/Phase/training_data/\")"
   ]
  },
  {
   "cell_type": "code",
   "execution_count": null,
   "id": "23cbc35e-f6b7-41f0-9bee-f4502a2ed024",
   "metadata": {},
   "outputs": [],
   "source": []
  }
 ],
 "metadata": {
  "kernelspec": {
   "display_name": "Python 3",
   "language": "python",
   "name": "python3"
  },
  "language_info": {
   "codemirror_mode": {
    "name": "ipython",
    "version": 3
   },
   "file_extension": ".py",
   "mimetype": "text/x-python",
   "name": "python",
   "nbconvert_exporter": "python",
   "pygments_lexer": "ipython3",
   "version": "3.8.8"
  }
 },
 "nbformat": 4,
 "nbformat_minor": 5
}
