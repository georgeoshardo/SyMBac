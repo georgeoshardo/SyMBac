{
 "cells": [
  {
   "cell_type": "markdown",
   "id": "b7b91bac-bf4d-4f4d-83bc-2fe25972de3a",
   "metadata": {
    "pycharm": {
     "name": "#%% md\n"
    }
   },
   "source": [
    "# SyMBac Example Notebook 1\n",
    "\n",
    "Drawing 100x images of _E. coli_ in the mother machine"
   ]
  },
  {
   "cell_type": "markdown",
   "id": "e1c27093-f392-4a19-9f9f-b8e6eb8ab6a2",
   "metadata": {
    "pycharm": {
     "name": "#%% md\n"
    }
   },
   "source": [
    "## Imports"
   ]
  },
  {
   "cell_type": "code",
   "execution_count": 1,
   "id": "3704125e",
   "metadata": {
    "pycharm": {
     "is_executing": true,
     "name": "#%%\n"
    },
    "tags": []
   },
   "outputs": [
    {
     "ename": "ModuleNotFoundError",
     "evalue": "No module named 'SyMBac'",
     "output_type": "error",
     "traceback": [
      "\u001b[0;31m---------------------------------------------------------------------------\u001b[0m",
      "\u001b[0;31mModuleNotFoundError\u001b[0m                       Traceback (most recent call last)",
      "Input \u001b[0;32mIn [1]\u001b[0m, in \u001b[0;36m<cell line: 5>\u001b[0;34m()\u001b[0m\n\u001b[1;32m      1\u001b[0m \u001b[38;5;28;01mimport\u001b[39;00m \u001b[38;5;21;01mos\u001b[39;00m\n\u001b[1;32m      2\u001b[0m os\u001b[38;5;241m.\u001b[39menviron[\u001b[38;5;124m'\u001b[39m\u001b[38;5;124mPYOPENGL_PLATFORM\u001b[39m\u001b[38;5;124m'\u001b[39m] \u001b[38;5;241m=\u001b[39m \u001b[38;5;124m'\u001b[39m\u001b[38;5;124megl\u001b[39m\u001b[38;5;124m'\u001b[39m\n\u001b[0;32m----> 5\u001b[0m \u001b[38;5;28;01mfrom\u001b[39;00m \u001b[38;5;21;01mSyMBac\u001b[39;00m\u001b[38;5;21;01m.\u001b[39;00m\u001b[38;5;21;01mPSF\u001b[39;00m \u001b[38;5;28;01mimport\u001b[39;00m get_phase_contrast_kernel, get_condensers\n\u001b[1;32m      6\u001b[0m \u001b[38;5;28;01mfrom\u001b[39;00m \u001b[38;5;21;01mSyMBac\u001b[39;00m\u001b[38;5;21;01m.\u001b[39;00m\u001b[38;5;21;01mmisc\u001b[39;00m \u001b[38;5;28;01mimport\u001b[39;00m get_sample_images\n\u001b[1;32m      7\u001b[0m \u001b[38;5;28;01mfrom\u001b[39;00m \u001b[38;5;21;01mSyMBac\u001b[39;00m\u001b[38;5;21;01m.\u001b[39;00m\u001b[38;5;21;01mgeneral_drawing\u001b[39;00m \u001b[38;5;28;01mimport\u001b[39;00m generate_curve_props, gen_cell_props_for_draw, get_space_size, convolve_rescale, \\\n\u001b[1;32m      8\u001b[0m     make_images_same_shape\n",
      "\u001b[0;31mModuleNotFoundError\u001b[0m: No module named 'SyMBac'"
     ]
    }
   ],
   "source": [
    "import os\n",
    "os.environ['PYOPENGL_PLATFORM'] = 'egl'\n",
    "\n",
    "\n",
    "from SyMBac.PSF import get_phase_contrast_kernel, get_condensers\n",
    "from SyMBac.misc import get_sample_images\n",
    "from SyMBac.general_drawing import generate_curve_props, gen_cell_props_for_draw, get_space_size, convolve_rescale, \\\n",
    "    make_images_same_shape\n",
    "from SyMBac.phase_contrast_drawing import run_simulation, get_trench_segments, draw_scene, generate_PC_OPL, \\\n",
    "    generate_test_comparison, generate_training_data\n",
    "\n",
    "from joblib import Parallel, delayed\n",
    "from matplotlib import pyplot as plt\n",
    "import napari\n",
    "import numpy as np\n",
    "from ipywidgets import interactive, fixed\n",
    "from tqdm.notebook import tqdm\n",
    "\n",
    "import importlib\n",
    "if importlib.util.find_spec(\"cupy\") is None:\n",
    "    manual_update = True\n",
    "else:\n",
    "    manual_update = False"
   ]
  },
  {
   "cell_type": "markdown",
   "id": "32a60e00-ad7e-431c-ba4c-b4fb7c3bc35d",
   "metadata": {
    "pycharm": {
     "name": "#%% md\n"
    }
   },
   "source": [
    "## Load a real image\n",
    "\n",
    "* Make sure this image is somewhat representative of the data you want to simulate. The simulated data will have the same dimensions as the example image.\n",
    "* Also you will try to match the similarity of your synthetic images to this real image."
   ]
  },
  {
   "cell_type": "code",
   "execution_count": 2,
   "id": "d341d240-ec00-43cd-9db8-26b65849ddc9",
   "metadata": {
    "pycharm": {
     "name": "#%%\n"
    }
   },
   "outputs": [
    {
     "ename": "NameError",
     "evalue": "name 'get_sample_images' is not defined",
     "output_type": "error",
     "traceback": [
      "\u001b[0;31m---------------------------------------------------------------------------\u001b[0m",
      "\u001b[0;31mNameError\u001b[0m                                 Traceback (most recent call last)",
      "Input \u001b[0;32mIn [2]\u001b[0m, in \u001b[0;36m<cell line: 1>\u001b[0;34m()\u001b[0m\n\u001b[0;32m----> 1\u001b[0m real_image \u001b[38;5;241m=\u001b[39m \u001b[43mget_sample_images\u001b[49m()[\u001b[38;5;124m\"\u001b[39m\u001b[38;5;124mE. coli 100x\u001b[39m\u001b[38;5;124m\"\u001b[39m]\n\u001b[1;32m      2\u001b[0m \u001b[38;5;28mprint\u001b[39m(real_image\u001b[38;5;241m.\u001b[39mshape)\n\u001b[1;32m      3\u001b[0m plt\u001b[38;5;241m.\u001b[39mimshow(real_image,cmap\u001b[38;5;241m=\u001b[39m\u001b[38;5;124m\"\u001b[39m\u001b[38;5;124mGreys_r\u001b[39m\u001b[38;5;124m\"\u001b[39m)\n",
      "\u001b[0;31mNameError\u001b[0m: name 'get_sample_images' is not defined"
     ]
    }
   ],
   "source": [
    "real_image = get_sample_images()[\"E. coli 100x\"]\n",
    "print(real_image.shape)\n",
    "plt.imshow(real_image,cmap=\"Greys_r\")\n",
    "plt.show()"
   ]
  },
  {
   "cell_type": "markdown",
   "id": "fa476171-0ee2-4c5c-af18-a7fdf33e9374",
   "metadata": {
    "pycharm": {
     "name": "#%% md\n"
    }
   },
   "source": [
    "## Scope properties\n",
    "\n",
    "Here we input the scope properties:\n",
    "* `W`, `R` and `diameter` are the dimensions (in mm) of the phase ring, retrieved from `get_condensers()`.\n",
    "* `λ` is the wavelength of the imaging light (in micron).\n",
    "* `resize_amount` is an **important** variable. This defines the internal resolution scaling of the rendering. If you choose a `resize_amount` of 3, then the point spread function (PSF) and all cell images are rendered at 3x the native imaging resolution, then downsampled back to the real resolution. \n",
    "* A `resize_amount` of $>2$ is recommended. If it's too low then the PSF is too low resolution, and therefore doesn't capture the desired information (oscillating phase and airy rings).\n",
    "* `pix_mic_conv` is the size of the pixels in the image (micron/pix)\n",
    "* `scale` is the pixel size that the PSF and all rendering will be done at, therefore it's set to `pix_mic_conv / resize_amount` by default.\n",
    "* `min_sigma` is a lower bound for the gaussian apodisation of the PSF. This variable isn't really important as you'll change it with the sliders at the end.\n",
    "* `NA` is the numerical aperture of the objective lens.\n",
    "* `n` is the refractive index of the imaging medium\n",
    "\n",
    "These parameters are then thrown into a `kernel_params` tuple."
   ]
  },
  {
   "cell_type": "code",
   "execution_count": null,
   "id": "51cc96ea-77be-4860-8f5d-eb0aaa1f4686",
   "metadata": {
    "pycharm": {
     "name": "#%%\n"
    }
   },
   "outputs": [],
   "source": [
    "condensers = get_condensers()\n",
    "W, R, diameter = condensers[\"Ph3\"]\n",
    "radius=50\n",
    "#F = 5\n",
    "λ = 0.75\n",
    "resize_amount = 3\n",
    "pix_mic_conv = 0.0655 ##0.108379937 micron/pix for 60x, 0.0655 for 100x\n",
    "scale = pix_mic_conv / resize_amount \n",
    "min_sigma = 0.42*0.6/6 / scale # micron#\n",
    "sigma=min_sigma\n",
    "NA=1.45\n",
    "n = 1.4\n",
    "kernel_params = (R,W,radius,scale,NA,n,sigma,λ)\n",
    "\n",
    "#kernel_params = (R,W,radius,scale,F,sigma,λ)\n"
   ]
  },
  {
   "cell_type": "markdown",
   "id": "87dffa43-0e61-4e4f-b1eb-c0da59ddbd4c",
   "metadata": {
    "pycharm": {
     "name": "#%% md\n"
    }
   },
   "source": [
    "## Run the simulation\n",
    "\n",
    "Here we actually run the simulation of cell growth in the mother machine. \n",
    "\n",
    "* `sim_length` is the number of simulation frames to run.\n",
    "* `trench_length` is the length of the mother machine trench in micron.\n",
    "* `trench_width` is the width of the mother machine trench in micron.\n",
    "* `cell_max_length` is the mean maximum length of a cell in micron.\n",
    "* `cell_width` is the mean cell width in micron.\n",
    "* `gravity` is a parameter which can be used to add or remove pressure of cells on one another. This is useful if for some reason cells in your simulation are falling into each other (although you should change `phys_iters` first if this is happening).\n",
    "* `phys_iters` is the number of physics iterations per frame. 20 is a good starting point.\n",
    "* `max_length_var` is the variance of the mean maximum cell length. Don't make it too high, or some cells could have birth lengths greater than the mother length, or negative lengths. \n",
    "* `width_var` is the variance of the mean cell width\n",
    "* `save_dir` is the directory to save the simulation output if you want to analyse it later, or with other code.\n",
    "* `do_transformation` is a `bool` that decides whether cells are given a curve after the simulation, during rendering. \n",
    "\n",
    "If you don't like the way the simulation looks **restart the kernel** and try new parameters. I've found that for large deviations in cell length and width, and small deviations in trench length and width, a standard U-net implementation is very robust, so you really only need to guess these paramters for good training data."
   ]
  },
  {
   "cell_type": "code",
   "execution_count": null,
   "id": "621dbe9f-5640-4bdd-812c-f96a6c24965c",
   "metadata": {
    "pycharm": {
     "name": "#%%\n"
    },
    "tags": []
   },
   "outputs": [],
   "source": [
    "sim_length = 302\n",
    "cell_timeseries, space = run_simulation(\n",
    "    trench_length=15, \n",
    "    trench_width=1.5, \n",
    "    cell_max_length=6, #6, long cells # 1.65 short cells\n",
    "    cell_width= 1, #1 long cells # 0.95 short cells\n",
    "    sim_length = sim_length,\n",
    "    pix_mic_conv = pix_mic_conv,\n",
    "    gravity=0,\n",
    "    phys_iters=20,\n",
    "    max_length_var = 3,\n",
    "    width_var = 0.,\n",
    "    lysis_p = 0.003,  # this should somehow depends on the time\n",
    "    save_dir=\"/tmp/\"\n",
    ") # growth phase\n",
    "main_segments = get_trench_segments(space)\n",
    "ID_props = generate_curve_props(cell_timeseries)\n",
    "\n",
    "cell_timeseries_properties = Parallel(n_jobs=-1)(\n",
    "    delayed(gen_cell_props_for_draw)(a, ID_props) for a in tqdm(cell_timeseries, desc='Timeseries Properties'))\n",
    "do_transformation = True\n",
    "offset = 30\n",
    "label_masks = True\n",
    "space_size = get_space_size(cell_timeseries_properties)\n",
    "\n",
    "scenes = Parallel(n_jobs=13)(delayed(draw_scene)(\n",
    "    cell_properties, do_transformation, space_size, offset, label_masks) for cell_properties in tqdm(cell_timeseries_properties, desc='Scene Draw:'))"
   ]
  },
  {
   "cell_type": "code",
   "execution_count": null,
   "id": "4b78cb72",
   "metadata": {
    "tags": []
   },
   "outputs": [],
   "source": [
    "cell_timeseries"
   ]
  },
  {
   "cell_type": "markdown",
   "id": "059f4a80",
   "metadata": {
    "pycharm": {
     "name": "#%% md\n"
    }
   },
   "source": [
    "### Generating a sample \n",
    "\n",
    "Here we generate some dummy samples which are later used."
   ]
  },
  {
   "cell_type": "code",
   "execution_count": null,
   "id": "f573c626-c0c7-4a64-aa5a-7d2160a910b2",
   "metadata": {
    "pycharm": {
     "name": "#%%\n"
    }
   },
   "outputs": [],
   "source": [
    "# plt.imshow(temp_expanded_scene)\n",
    "\n",
    "\n",
    "media_multiplier=30\n",
    "cell_multiplier=1\n",
    "device_multiplier=-50\n",
    "y_border_expansion_coefficient = 2\n",
    "x_border_expansion_coefficient = 2\n",
    "\n",
    "\n",
    "\n",
    "temp_expanded_scene, temp_expanded_scene_no_cells, temp_expanded_mask = generate_PC_OPL(\n",
    "   main_segments=main_segments,\n",
    "    offset=offset,\n",
    "    scene = scenes[0][0],\n",
    "    mask = scenes[0][1],\n",
    "    media_multiplier=media_multiplier,\n",
    "    cell_multiplier=cell_multiplier,\n",
    "    device_multiplier=cell_multiplier,\n",
    "    y_border_expansion_coefficient = y_border_expansion_coefficient,\n",
    "    x_border_expansion_coefficient = x_border_expansion_coefficient,\n",
    "    fluorescence=False,\n",
    "    defocus=30\n",
    ")\n",
    "\n",
    "\n",
    "\n",
    "### Generate temporary image to make same shape\n",
    "temp_kernel = get_phase_contrast_kernel(*kernel_params)\n",
    "convolved = convolve_rescale(temp_expanded_scene, temp_kernel, 1/resize_amount, rescale_int = True)\n",
    "real_resize, expanded_resized = make_images_same_shape(real_image,convolved, rescale_int=True)"
   ]
  },
  {
   "cell_type": "markdown",
   "id": "7759aa42-c846-41e3-ab9f-a2d015d0cc2c",
   "metadata": {
    "pycharm": {
     "name": "#%% md\n"
    }
   },
   "source": [
    "## Choosing intensities using Napari\n",
    "\n",
    "The following cell will open a Napari window where you will select intensities. \n",
    "\n",
    "* Select hte media/cell/device layer, and use the brush tool to paint over some (or all) of the mother machine device, media (area between cells) and the cells. \n",
    "* You can use the same label colour (`1`) for all of them, they are in different layers so it doesn't matter if they touch.\n",
    "* We do this because we want to find the 3 main intensities of the real image, the media, device and the cells. We then use these to estimate the similarity between the synthetic images and the real images."
   ]
  },
  {
   "cell_type": "code",
   "execution_count": null,
   "id": "276e6f39-8368-4bca-b4e2-73d8ac8fd30d",
   "metadata": {
    "pycharm": {
     "name": "#%%\n"
    }
   },
   "outputs": [],
   "source": [
    "viewer = napari.view_image(real_resize)\n",
    "media_label = viewer.add_labels(np.zeros(real_resize.shape).astype(int), name = \"media\")\n",
    "cell_label = viewer.add_labels(np.zeros(real_resize.shape).astype(int), name = \"cell\")\n",
    "device_label = viewer.add_labels(np.zeros(real_resize.shape).astype(int), name = \"device\")"
   ]
  },
  {
   "cell_type": "code",
   "execution_count": null,
   "id": "2ef464f9-754c-41ef-ad7a-3839d306e8cb",
   "metadata": {
    "pycharm": {
     "name": "#%%\n"
    }
   },
   "outputs": [],
   "source": [
    "real_media_mean = real_resize[np.where(media_label.data)].mean()\n",
    "real_cell_mean = real_resize[np.where(cell_label.data)].mean()\n",
    "real_device_mean = real_resize[np.where(device_label.data)].mean()\n",
    "real_means = np.array((real_media_mean, real_cell_mean, real_device_mean))\n",
    "\n",
    "real_media_var = real_resize[np.where(media_label.data)].var()\n",
    "real_cell_var = real_resize[np.where(cell_label.data)].var()\n",
    "real_device_var = real_resize[np.where(device_label.data)].var()\n",
    "real_vars = np.array((real_media_var, real_cell_var, real_device_var))\n",
    "\n",
    "image_params = (real_media_mean, real_cell_mean, real_device_mean, real_means, real_media_var, real_cell_var, real_device_var, real_vars)"
   ]
  },
  {
   "cell_type": "code",
   "execution_count": null,
   "id": "be3ac220",
   "metadata": {},
   "outputs": [],
   "source": [
    "image_params = (0.5630013201112762, 0.22475433064801248, 0.05678678587940191, np.array([0.56300132, 0.22475433, 0.05678679]), 0.019102125423762138, 0.0077377173523391195, 0.0007844479687403128, np.array([0.01910213, 0.00773772, 0.00078445]))"
   ]
  },
  {
   "cell_type": "code",
   "execution_count": null,
   "id": "4977bc42",
   "metadata": {},
   "outputs": [],
   "source": [
    "print(image_params)"
   ]
  },
  {
   "cell_type": "code",
   "execution_count": null,
   "id": "4cb1647a-2e38-40a4-9d86-49630cab30aa",
   "metadata": {
    "pycharm": {
     "name": "#%%\n"
    }
   },
   "outputs": [],
   "source": [
    "mean_error = []\n",
    "media_error = []\n",
    "cell_error = []\n",
    "device_error = []\n",
    "\n",
    "mean_var_error = []\n",
    "media_var_error = []\n",
    "cell_var_error = []\n",
    "device_var_error = []\n",
    "\n",
    "error_params = (mean_error,media_error,cell_error,device_error,mean_var_error,media_var_error,cell_var_error,device_var_error)\n",
    "\n",
    "params = interactive(\n",
    "    generate_test_comparison,\n",
    "    {'manual': manual_update},\n",
    "    media_multiplier=(-300,300,1),\n",
    "    cell_multiplier=(-30,30,0.01),\n",
    "    device_multiplier=(-300,300,1),\n",
    "    sigma=(min_sigma,min_sigma*20, min_sigma/20),\n",
    "    scene_no = (0,len(scenes)-1,1),\n",
    "    noise_var=(0,0.01, 0.0001),\n",
    "    scale=fixed(scale),\n",
    "    match_fourier = [True, False],\n",
    "    match_histogram = [True, False],\n",
    "    match_noise = [True, False],\n",
    "    offset=fixed(offset),\n",
    "    main_segments = fixed(main_segments),\n",
    "    debug_plot=fixed(True),\n",
    "    scenes = fixed(scenes),\n",
    "    kernel_params = fixed(kernel_params),\n",
    "    resize_amount = fixed(resize_amount), \n",
    "    real_image = fixed(real_image),\n",
    "    image_params = fixed(image_params),\n",
    "    error_params = fixed(error_params),\n",
    "    x_border_expansion_coefficient = fixed(x_border_expansion_coefficient),\n",
    "    y_border_expansion_coefficient = fixed(y_border_expansion_coefficient),\n",
    "    fluorescence=[False, True],\n",
    "    defocus=(0,20,0.1)\n",
    ");"
   ]
  },
  {
   "cell_type": "markdown",
   "id": "2490283d-4b5e-4a6d-b466-47899c77ce6b",
   "metadata": {
    "pycharm": {
     "name": "#%% md\n"
    }
   },
   "source": [
    "## Manual image optimisation\n",
    "\n",
    "The image optimisation landscape is extremely noisy, and so I have not been able to find an objective function and optimiser which reliably converge and produce good images. Instead I've found that quickly playing with sliders is a very good way of getting the images to look correct. \n",
    "\n",
    "* `media_multiplier` is the intensity multiplier for the media part of the image\n",
    "* `cell_multiplier` is the intensity multiplier for cell parts of the image.\n",
    "* `device_multiplier` is the intensity multiplier for the device part of the image.\n",
    "* `sigma` is the radius (in pixels) of the gaussian apodisation of the phase contrast PSF (if you are using phase contrast).\n",
    "* `scene_no` is the index for the frame of the synthetic images you rendered.\n",
    "* `match_fourier` controls whether you are matching the rotational Fourier spectrum of the synthetic image to the real image. \n",
    "* `match_histogram` controls whether you are matching the intensity histogram of the images with each other.\n",
    "* `match_noise` controls whether you are matching the camera noise of the images with each other.\n",
    "* `noise_var` controls the variance of the shot noise added to the image.\n",
    "* `fluorescence` controls whether you are rendering a fluorescence of phase contrast image.\n",
    "* `defocus` controls the radius of a gaussian which simulates depth of focus and out of focus effects of the PSF."
   ]
  },
  {
   "cell_type": "code",
   "execution_count": null,
   "id": "378b3b24-0db2-4a17-9dca-832d2a064de6",
   "metadata": {
    "pycharm": {
     "name": "#%%\n"
    }
   },
   "outputs": [],
   "source": [
    "params"
   ]
  },
  {
   "cell_type": "code",
   "execution_count": null,
   "id": "332c02e6-af6f-41e7-979c-f00ee8e23781",
   "metadata": {
    "pycharm": {
     "name": "#%%\n"
    },
    "tags": []
   },
   "outputs": [],
   "source": [
    "generate_training_data(interactive_output = params, sample_amount = 0, randomise_hist_match = False, randomise_noise_match = True, sim_length = sim_length, burn_in = 0, n_samples =  300, save_dir = \"F:/Cambridge/MENG/UROP 2022/Data/SyMBac/T300lysis0003-2/\", in_series=True)"
   ]
  },
  {
   "cell_type": "code",
   "execution_count": null,
   "id": "bb53107a",
   "metadata": {},
   "outputs": [],
   "source": []
  }
 ],
 "metadata": {
  "kernelspec": {
   "display_name": "Python 3 (ipykernel)",
   "language": "python",
   "name": "python3"
  },
  "language_info": {
   "codemirror_mode": {
    "name": "ipython",
    "version": 3
   },
   "file_extension": ".py",
   "mimetype": "text/x-python",
   "name": "python",
   "nbconvert_exporter": "python",
   "pygments_lexer": "ipython3",
   "version": "3.9.13"
  },
  "widgets": {
   "application/vnd.jupyter.widget-state+json": {
    "state": {
     "002c3ccf25c54b7db364cb8959e95da2": {
      "model_module": "@jupyter-widgets/base",
      "model_module_version": "1.2.0",
      "model_name": "LayoutModel",
      "state": {}
     },
     "0140f87858244f2a9b8e1dc3e6a39b17": {
      "model_module": "@jupyter-widgets/controls",
      "model_module_version": "1.5.0",
      "model_name": "FloatSliderModel",
      "state": {
       "description": "defocus",
       "layout": "IPY_MODEL_79b15003eedd47e38d3605fe0ca422c0",
       "max": 20,
       "step": 0.1,
       "style": "IPY_MODEL_e78b289c3dfb417d96f9c588a0fe59fe",
       "value": 3
      }
     },
     "0218106b869d46e9b8fb1d66168fdbce": {
      "model_module": "@jupyter-widgets/controls",
      "model_module_version": "1.5.0",
      "model_name": "DescriptionStyleModel",
      "state": {
       "description_width": ""
      }
     },
     "0250a87108784ca8931482de66eba4b8": {
      "model_module": "@jupyter-widgets/controls",
      "model_module_version": "1.5.0",
      "model_name": "DescriptionStyleModel",
      "state": {
       "description_width": ""
      }
     },
     "033a741818344248b8bfb70c66d1f22f": {
      "model_module": "@jupyter-widgets/base",
      "model_module_version": "1.2.0",
      "model_name": "LayoutModel",
      "state": {}
     },
     "033cea68ad114037bc8dbd23fd52291e": {
      "model_module": "@jupyter-widgets/base",
      "model_module_version": "1.2.0",
      "model_name": "LayoutModel",
      "state": {}
     },
     "03a708db721848dba0f436d42ac09373": {
      "model_module": "@jupyter-widgets/controls",
      "model_module_version": "1.5.0",
      "model_name": "HTMLModel",
      "state": {
       "layout": "IPY_MODEL_90da0483c3eb4f82a0552cd55be375e2",
       "style": "IPY_MODEL_f07fe496f4384e588d28ea7901649504",
       "value": "Timeseries Properties: 100%"
      }
     },
     "03cc6e0066fb45aa8048fa3a7cbc070b": {
      "model_module": "@jupyter-widgets/base",
      "model_module_version": "1.2.0",
      "model_name": "LayoutModel",
      "state": {}
     },
     "04656562e459451b841f58e38f25c77d": {
      "model_module": "@jupyter-widgets/controls",
      "model_module_version": "1.5.0",
      "model_name": "DropdownModel",
      "state": {
       "_options_labels": [
        "True",
        "False"
       ],
       "description": "match_histogram",
       "index": 0,
       "layout": "IPY_MODEL_9765f84b6c3d49b085ed16cad792f438",
       "style": "IPY_MODEL_8130632f9af349bc9be0df5742b0f622"
      }
     },
     "04c9c6d5af1248b6a48c8b4f9c0749e5": {
      "model_module": "@jupyter-widgets/base",
      "model_module_version": "1.2.0",
      "model_name": "LayoutModel",
      "state": {}
     },
     "059027781f484e989365e6822f667139": {
      "model_module": "@jupyter-widgets/controls",
      "model_module_version": "1.5.0",
      "model_name": "HBoxModel",
      "state": {
       "children": [
        "IPY_MODEL_432cbfc7400146ada6699c78433cab66",
        "IPY_MODEL_e2c8844fe9574e8aa6669a9329d17aef",
        "IPY_MODEL_95c3865fce20408baf4f3256c1e7e6f4"
       ],
       "layout": "IPY_MODEL_fcbe63aefe44493eba5d6fb2daf1cfb9"
      }
     },
     "05e1653d3cef43b5b4ba99ef4abd548c": {
      "model_module": "@jupyter-widgets/controls",
      "model_module_version": "1.5.0",
      "model_name": "DescriptionStyleModel",
      "state": {
       "description_width": ""
      }
     },
     "069f2292e8c44de38cfe175b672f3fb1": {
      "model_module": "@jupyter-widgets/controls",
      "model_module_version": "1.5.0",
      "model_name": "DropdownModel",
      "state": {
       "_options_labels": [
        "True",
        "False"
       ],
       "description": "match_fourier",
       "index": 1,
       "layout": "IPY_MODEL_dfa981af0d8d418c99a1f9c3724195a8",
       "style": "IPY_MODEL_8413412b82584866984526b87ecf5010"
      }
     },
     "0713d6fb678b45fe8036857d5f6bfa51": {
      "model_module": "@jupyter-widgets/controls",
      "model_module_version": "1.5.0",
      "model_name": "ProgressStyleModel",
      "state": {
       "description_width": ""
      }
     },
     "0775c4094288428aa5305f0acd698ae2": {
      "model_module": "@jupyter-widgets/controls",
      "model_module_version": "1.5.0",
      "model_name": "ProgressStyleModel",
      "state": {
       "description_width": ""
      }
     },
     "092cdddc630c46c18c85ea646b23e365": {
      "model_module": "@jupyter-widgets/controls",
      "model_module_version": "1.5.0",
      "model_name": "HTMLModel",
      "state": {
       "layout": "IPY_MODEL_c4edc53eb7c1477fa11a2a316290eb63",
       "style": "IPY_MODEL_64704eaaf7914ba490cfb8451f8d745b",
       "value": "Timeseries Properties: 100%"
      }
     },
     "0b5cfa474ca04a48b9a5f9e2e842e8e4": {
      "model_module": "@jupyter-widgets/controls",
      "model_module_version": "1.5.0",
      "model_name": "FloatSliderModel",
      "state": {
       "description": "sigma",
       "layout": "IPY_MODEL_c5dcf60443ca4a878e165f966e79c683",
       "max": 38.47328244274809,
       "min": 1.9236641221374047,
       "step": 0.09618320610687023,
       "style": "IPY_MODEL_c1d2cc7f42b640b4bd6dd3ef964d6dd8",
       "value": 8.85
      }
     },
     "0c25d28e811f4f039018e8c20adb42f0": {
      "model_module": "@jupyter-widgets/controls",
      "model_module_version": "1.5.0",
      "model_name": "DescriptionStyleModel",
      "state": {
       "description_width": ""
      }
     },
     "0d6185cc2e8a4cdca444dd64f91e42c2": {
      "model_module": "@jupyter-widgets/controls",
      "model_module_version": "1.5.0",
      "model_name": "HTMLModel",
      "state": {
       "layout": "IPY_MODEL_a2a53cffa76c427b946516cbbb61323a",
       "style": "IPY_MODEL_91a5f9a06cab4a64b105e261c8b96251",
       "value": "Scene Draw:: 100%"
      }
     },
     "0daf2072190a48d1862a1a5fe24c6cf8": {
      "model_module": "@jupyter-widgets/base",
      "model_module_version": "1.2.0",
      "model_name": "LayoutModel",
      "state": {}
     },
     "0eec2773cd584d3681d32aaca3380f8d": {
      "model_module": "@jupyter-widgets/controls",
      "model_module_version": "1.5.0",
      "model_name": "SliderStyleModel",
      "state": {
       "description_width": ""
      }
     },
     "0f018c64f0e044ea89188df3362b8165": {
      "model_module": "@jupyter-widgets/controls",
      "model_module_version": "1.5.0",
      "model_name": "HTMLModel",
      "state": {
       "layout": "IPY_MODEL_31f3a7fc95e74cc589be47ea31ee7fc0",
       "style": "IPY_MODEL_995dda7284d64e54b2cd675e5331f57a",
       "value": "Timeseries Properties: 100%"
      }
     },
     "0f2f92928fc944f796a8bd00c56d3188": {
      "model_module": "@jupyter-widgets/controls",
      "model_module_version": "1.5.0",
      "model_name": "VBoxModel",
      "state": {
       "_dom_classes": [
        "widget-interact"
       ],
       "children": [
        "IPY_MODEL_a97f46b723774aaba53d571070a84071",
        "IPY_MODEL_cc62e81178b84d418dc74b6c25aa74cc",
        "IPY_MODEL_39ec54c13b554d7f9237dcbeef1aecdb",
        "IPY_MODEL_364fa109be464420a03d3cd0d5436fa0",
        "IPY_MODEL_a6eec2382021457199d2edd41f5c1e17",
        "IPY_MODEL_3a7932be04b645759ee4583a61791eb0",
        "IPY_MODEL_c6f947046a284499b3bb071d0697da38",
        "IPY_MODEL_75be9973371649a68268cdb7fbde52f6",
        "IPY_MODEL_e4179171c24d49bbb635b80b34f9a0d0",
        "IPY_MODEL_8fd6f07f99f24261bd538de60046803d",
        "IPY_MODEL_bb2fb4ecc58f42e2bf7d73d3bc27789f",
        "IPY_MODEL_a74048a6ec90488fafe3b3bbe65637ff"
       ],
       "layout": "IPY_MODEL_35efea61fa814dc6b67bb558d39934c7"
      }
     },
     "0f7375fa03d84e1d8acea0e7193c83dd": {
      "model_module": "@jupyter-widgets/base",
      "model_module_version": "1.2.0",
      "model_name": "LayoutModel",
      "state": {}
     },
     "100da4b6c3634fcf9100c7dc4628860f": {
      "model_module": "@jupyter-widgets/controls",
      "model_module_version": "1.5.0",
      "model_name": "SliderStyleModel",
      "state": {
       "description_width": ""
      }
     },
     "102b0de4231942ba87b0293c7f08276c": {
      "model_module": "@jupyter-widgets/controls",
      "model_module_version": "1.5.0",
      "model_name": "SliderStyleModel",
      "state": {
       "description_width": ""
      }
     },
     "10385e9114824bf4b7a1063541a1f95a": {
      "model_module": "@jupyter-widgets/controls",
      "model_module_version": "1.5.0",
      "model_name": "SliderStyleModel",
      "state": {
       "description_width": ""
      }
     },
     "11518152e4094700bae2fa5f3b387264": {
      "model_module": "@jupyter-widgets/base",
      "model_module_version": "1.2.0",
      "model_name": "LayoutModel",
      "state": {}
     },
     "1164d2119bb84ad980f13db4a385cca0": {
      "model_module": "@jupyter-widgets/controls",
      "model_module_version": "1.5.0",
      "model_name": "DescriptionStyleModel",
      "state": {
       "description_width": ""
      }
     },
     "11f7fa0e38a8485499d0cd5b9a617fdc": {
      "model_module": "@jupyter-widgets/base",
      "model_module_version": "1.2.0",
      "model_name": "LayoutModel",
      "state": {}
     },
     "12618ce2ab854d20b7b1378540be9945": {
      "model_module": "@jupyter-widgets/base",
      "model_module_version": "1.2.0",
      "model_name": "LayoutModel",
      "state": {}
     },
     "133e01d4a758440b952f3ca363f682ea": {
      "model_module": "@jupyter-widgets/base",
      "model_module_version": "1.2.0",
      "model_name": "LayoutModel",
      "state": {}
     },
     "136b429c244c41399b9cc8f718aa0222": {
      "model_module": "@jupyter-widgets/controls",
      "model_module_version": "1.5.0",
      "model_name": "HTMLModel",
      "state": {
       "layout": "IPY_MODEL_0f7375fa03d84e1d8acea0e7193c83dd",
       "style": "IPY_MODEL_25ea9741f4cf4734b72e0f9f4f8c4329",
       "value": "Timeseries Properties: 100%"
      }
     },
     "1531eb408cb44aa8a220442799dc8185": {
      "model_module": "@jupyter-widgets/base",
      "model_module_version": "1.2.0",
      "model_name": "LayoutModel",
      "state": {}
     },
     "15abd263ed6d40bf935616c5f901bc2d": {
      "model_module": "@jupyter-widgets/controls",
      "model_module_version": "1.5.0",
      "model_name": "DescriptionStyleModel",
      "state": {
       "description_width": ""
      }
     },
     "15b45024c0384ec8b24909c8063ddbb0": {
      "model_module": "@jupyter-widgets/base",
      "model_module_version": "1.2.0",
      "model_name": "LayoutModel",
      "state": {}
     },
     "179f09c2954a4106ac920b1a4bd666b2": {
      "model_module": "@jupyter-widgets/controls",
      "model_module_version": "1.5.0",
      "model_name": "HBoxModel",
      "state": {
       "children": [
        "IPY_MODEL_939e661283794482bc4a6b47a3a01033",
        "IPY_MODEL_24073527ba6a4d0da61c0be1de5c75ab",
        "IPY_MODEL_6cee09b349e84880b4bc7c88940adc7b"
       ],
       "layout": "IPY_MODEL_fff71fda51794a4fbd0f3bef8f7461d2"
      }
     },
     "18f10e55167a4a2db7008e712ae80717": {
      "model_module": "@jupyter-widgets/controls",
      "model_module_version": "1.5.0",
      "model_name": "HBoxModel",
      "state": {
       "children": [
        "IPY_MODEL_d01fd2011c0c4d36bf4b5cf698b0a872",
        "IPY_MODEL_56a0c1d2c2be41f3a07b08f3b9053d9b",
        "IPY_MODEL_54b96a11818d4d8798a438dbe41d64a4"
       ],
       "layout": "IPY_MODEL_afb83ebd27e8480db80c79f245ab94fd"
      }
     },
     "19c02c5f8759462fb0cb4fec1dc2243d": {
      "model_module": "@jupyter-widgets/controls",
      "model_module_version": "1.5.0",
      "model_name": "FloatSliderModel",
      "state": {
       "description": "noise_var",
       "layout": "IPY_MODEL_9090faf5126e49be82e9ff74d2580b5e",
       "max": 0.01,
       "step": 0.0001,
       "style": "IPY_MODEL_d17cb16fbcbc4e4c8cd9b62dfa8aa927",
       "value": 0.001
      }
     },
     "1a18fde7ed2e40cab5061592b5674241": {
      "model_module": "@jupyter-widgets/controls",
      "model_module_version": "1.5.0",
      "model_name": "DescriptionStyleModel",
      "state": {
       "description_width": ""
      }
     },
     "1c062448b3b84fcc9ba6b20e5eede1d6": {
      "model_module": "@jupyter-widgets/base",
      "model_module_version": "1.2.0",
      "model_name": "LayoutModel",
      "state": {}
     },
     "1c2b705f95444050926219a66f80aa99": {
      "model_module": "@jupyter-widgets/controls",
      "model_module_version": "1.5.0",
      "model_name": "SliderStyleModel",
      "state": {
       "description_width": ""
      }
     },
     "1d0a57504e36461aa77a0ead7408306e": {
      "model_module": "@jupyter-widgets/controls",
      "model_module_version": "1.5.0",
      "model_name": "FloatSliderModel",
      "state": {
       "description": "cell_multiplier",
       "layout": "IPY_MODEL_dca2ab8c61594528a16cf6bbeb88cf5b",
       "max": 30,
       "min": -30,
       "step": 0.01,
       "style": "IPY_MODEL_e0524cb3c5a8465c9ed32e50b333d290",
       "value": 1.7
      }
     },
     "1d101721ddb94c9faadbdfef74ba3ae2": {
      "model_module": "@jupyter-widgets/controls",
      "model_module_version": "1.5.0",
      "model_name": "FloatProgressModel",
      "state": {
       "bar_style": "success",
       "layout": "IPY_MODEL_73fc45b401be4217b92b02d7f2597b5c",
       "max": 300,
       "style": "IPY_MODEL_0775c4094288428aa5305f0acd698ae2",
       "value": 300
      }
     },
     "1d3a270ab00b41daab2189d1b9b5df5a": {
      "model_module": "@jupyter-widgets/controls",
      "model_module_version": "1.5.0",
      "model_name": "FloatSliderModel",
      "state": {
       "description": "defocus",
       "layout": "IPY_MODEL_e412db6452c040cba9a89cc35d0cb414",
       "max": 20,
       "step": 0.1,
       "style": "IPY_MODEL_6e594f75220d4d128c6923e013cd9ae4",
       "value": 3
      }
     },
     "1d512cbccbf1499b8e8773fe044f197c": {
      "model_module": "@jupyter-widgets/controls",
      "model_module_version": "1.5.0",
      "model_name": "SliderStyleModel",
      "state": {
       "description_width": ""
      }
     },
     "1def7617363f4ebba8a6388b3dd1fb1c": {
      "model_module": "@jupyter-widgets/controls",
      "model_module_version": "1.5.0",
      "model_name": "SliderStyleModel",
      "state": {
       "description_width": ""
      }
     },
     "1e5a076156f74ff692e84197c24e6e83": {
      "model_module": "@jupyter-widgets/controls",
      "model_module_version": "1.5.0",
      "model_name": "HTMLModel",
      "state": {
       "layout": "IPY_MODEL_8a85f342cc0a447c868bc571b66ea4f0",
       "style": "IPY_MODEL_2c34c61cb63443ee8d9395c1fdfdf29a",
       "value": " 300/300 [00:04&lt;00:00, 81.53it/s]"
      }
     },
     "1e85a44a19b04ee58ab598725c852131": {
      "model_module": "@jupyter-widgets/controls",
      "model_module_version": "1.5.0",
      "model_name": "ProgressStyleModel",
      "state": {
       "description_width": ""
      }
     },
     "1f3758de7c0d415c951b7363a2d68520": {
      "model_module": "@jupyter-widgets/base",
      "model_module_version": "1.2.0",
      "model_name": "LayoutModel",
      "state": {}
     },
     "217570b9794e4791a634eee27e12bac6": {
      "model_module": "@jupyter-widgets/base",
      "model_module_version": "1.2.0",
      "model_name": "LayoutModel",
      "state": {}
     },
     "21b164f0c80f4e9f971cfcf31385964f": {
      "model_module": "@jupyter-widgets/controls",
      "model_module_version": "1.5.0",
      "model_name": "HBoxModel",
      "state": {
       "children": [
        "IPY_MODEL_31742b3a94144c9a868c734a71b48ad0",
        "IPY_MODEL_8454b42f808346f9b606a741abf6ab9c",
        "IPY_MODEL_fd9d7662938945c3a1459175039c82fc"
       ],
       "layout": "IPY_MODEL_743159ffa6b248f3af8d9f8a5525b792"
      }
     },
     "2211b789b8a5492fb18cb665250b8ce6": {
      "model_module": "@jupyter-widgets/controls",
      "model_module_version": "1.5.0",
      "model_name": "HBoxModel",
      "state": {
       "children": [
        "IPY_MODEL_f5310c3100214ab1b505d74aa1cb523e",
        "IPY_MODEL_1d101721ddb94c9faadbdfef74ba3ae2",
        "IPY_MODEL_92ef1d42726b407f90e2ae47b6a60794"
       ],
       "layout": "IPY_MODEL_3fa03b1cec7a44a2b4db5e7ca6bcc62f"
      }
     },
     "227712d463bc41b1ac6f28b2d20148ac": {
      "model_module": "@jupyter-widgets/base",
      "model_module_version": "1.2.0",
      "model_name": "LayoutModel",
      "state": {}
     },
     "22eb56a8ac4a4d83905ce8e5a76bb3e1": {
      "model_module": "@jupyter-widgets/controls",
      "model_module_version": "1.5.0",
      "model_name": "ProgressStyleModel",
      "state": {
       "description_width": ""
      }
     },
     "23a3fd3e7aa9450faa68543a22176f6f": {
      "model_module": "@jupyter-widgets/controls",
      "model_module_version": "1.5.0",
      "model_name": "SliderStyleModel",
      "state": {
       "description_width": ""
      }
     },
     "23af90294293451491f10bea74b75917": {
      "model_module": "@jupyter-widgets/base",
      "model_module_version": "1.2.0",
      "model_name": "LayoutModel",
      "state": {}
     },
     "23e4c3a4d8f04c4baa5c95ce56f8a817": {
      "model_module": "@jupyter-widgets/controls",
      "model_module_version": "1.5.0",
      "model_name": "DescriptionStyleModel",
      "state": {
       "description_width": ""
      }
     },
     "24073527ba6a4d0da61c0be1de5c75ab": {
      "model_module": "@jupyter-widgets/controls",
      "model_module_version": "1.5.0",
      "model_name": "FloatProgressModel",
      "state": {
       "bar_style": "success",
       "layout": "IPY_MODEL_38df297af0eb4bbe8090b2cb7a9257fc",
       "max": 98,
       "style": "IPY_MODEL_81c1d1182ac64ca28ee5c5a6629de74a",
       "value": 98
      }
     },
     "245bfd81f3414b65b2839b14b5991554": {
      "model_module": "@jupyter-widgets/base",
      "model_module_version": "1.2.0",
      "model_name": "LayoutModel",
      "state": {}
     },
     "25c72a1fe7314930ad28bf0bd048c1b0": {
      "model_module": "@jupyter-widgets/base",
      "model_module_version": "1.2.0",
      "model_name": "LayoutModel",
      "state": {}
     },
     "25ea9741f4cf4734b72e0f9f4f8c4329": {
      "model_module": "@jupyter-widgets/controls",
      "model_module_version": "1.5.0",
      "model_name": "DescriptionStyleModel",
      "state": {
       "description_width": ""
      }
     },
     "26466dde315248f9a0ba0a2ed72bf34a": {
      "model_module": "@jupyter-widgets/base",
      "model_module_version": "1.2.0",
      "model_name": "LayoutModel",
      "state": {}
     },
     "26b47dc130a449318708ab91c2d792c3": {
      "model_module": "@jupyter-widgets/base",
      "model_module_version": "1.2.0",
      "model_name": "LayoutModel",
      "state": {}
     },
     "26c400eb193449638190e4a4039482ca": {
      "model_module": "@jupyter-widgets/controls",
      "model_module_version": "1.5.0",
      "model_name": "IntSliderModel",
      "state": {
       "description": "device_multiplier",
       "layout": "IPY_MODEL_3bd032f0803246dcb29c85487f240de5",
       "max": 300,
       "min": -300,
       "style": "IPY_MODEL_74b90e8d22794cdcb55f889d3c6069fa",
       "value": 29
      }
     },
     "26d70009d1e6462b94eafa89055af23d": {
      "model_module": "@jupyter-widgets/base",
      "model_module_version": "1.2.0",
      "model_name": "LayoutModel",
      "state": {}
     },
     "274ae182b36d44e298a290817691bfaf": {
      "model_module": "@jupyter-widgets/controls",
      "model_module_version": "1.5.0",
      "model_name": "ProgressStyleModel",
      "state": {
       "description_width": ""
      }
     },
     "28681bb82323413c9d02450f0b3cbe91": {
      "model_module": "@jupyter-widgets/controls",
      "model_module_version": "1.5.0",
      "model_name": "IntSliderModel",
      "state": {
       "description": "device_multiplier",
       "layout": "IPY_MODEL_33010b64f05d4aeca18de808298a7acb",
       "max": 300,
       "min": -300,
       "style": "IPY_MODEL_6f3be69a9dec48c4953c55050aab6181",
       "value": 29
      }
     },
     "28aa79c9d89645caa790cd2567e3a61d": {
      "model_module": "@jupyter-widgets/controls",
      "model_module_version": "1.5.0",
      "model_name": "FloatSliderModel",
      "state": {
       "description": "sigma",
       "layout": "IPY_MODEL_39cbe73bb3374ec0845748e929d10cc5",
       "max": 38.47328244274809,
       "min": 1.9236641221374047,
       "step": 0.09618320610687023,
       "style": "IPY_MODEL_6e31258065bb426a9fcf87ef52cff628",
       "value": 8.85
      }
     },
     "28e139228daa48f8b3d0e6c5247c4e5b": {
      "model_module": "@jupyter-widgets/controls",
      "model_module_version": "1.5.0",
      "model_name": "HBoxModel",
      "state": {
       "children": [
        "IPY_MODEL_0f018c64f0e044ea89188df3362b8165",
        "IPY_MODEL_578205b704e14cdfb35f63b330b7a9c9",
        "IPY_MODEL_a94bf54e5d5d47c48fa3bbe03bfcad19"
       ],
       "layout": "IPY_MODEL_d48201cf5c6a40288173a112044a445c"
      }
     },
     "28e9fbac6ca3420e895734d10cba80cf": {
      "model_module": "@jupyter-widgets/controls",
      "model_module_version": "1.5.0",
      "model_name": "SliderStyleModel",
      "state": {
       "description_width": ""
      }
     },
     "2a4ac04e29094b0fac10ebb358bdbf37": {
      "model_module": "@jupyter-widgets/base",
      "model_module_version": "1.2.0",
      "model_name": "LayoutModel",
      "state": {}
     },
     "2ad69c3e951d402ba2b78295b5e80745": {
      "model_module": "@jupyter-widgets/controls",
      "model_module_version": "1.5.0",
      "model_name": "IntSliderModel",
      "state": {
       "description": "media_multiplier",
       "layout": "IPY_MODEL_c16c307024e245e398a781388851c80b",
       "max": 300,
       "min": -300,
       "style": "IPY_MODEL_cad91cdf1ff541d7905ab8134a2c3808",
       "value": 75
      }
     },
     "2b7f12e0e2ae48e9bd8f5ae387ec828a": {
      "model_module": "@jupyter-widgets/output",
      "model_module_version": "1.0.0",
      "model_name": "OutputModel",
      "state": {
       "layout": "IPY_MODEL_783aea02cdf642f59f92ab4cd0016926"
      }
     },
     "2c34c61cb63443ee8d9395c1fdfdf29a": {
      "model_module": "@jupyter-widgets/controls",
      "model_module_version": "1.5.0",
      "model_name": "DescriptionStyleModel",
      "state": {
       "description_width": ""
      }
     },
     "2cf3d911a04648ccab9b9d7f8ee17ec3": {
      "model_module": "@jupyter-widgets/controls",
      "model_module_version": "1.5.0",
      "model_name": "VBoxModel",
      "state": {
       "_dom_classes": [
        "widget-interact"
       ],
       "children": [
        "IPY_MODEL_2ad69c3e951d402ba2b78295b5e80745",
        "IPY_MODEL_88e63c7c204a460483e937d3a0e5da9c",
        "IPY_MODEL_d6d342f0675c47ebaaf1c3e629a3c381",
        "IPY_MODEL_49a1a02b7752484392732c428205cf9d",
        "IPY_MODEL_7ecf6dbd719d4141b5f21c3d98f76e05",
        "IPY_MODEL_ddcf945a28364f418c2c03a96ea4365c",
        "IPY_MODEL_ca8f27bee2d84017b246ba59f1b6bc81",
        "IPY_MODEL_b6b28bc0660d4ccfa93c159908d42c03",
        "IPY_MODEL_48ec9c13f83745dfa59181f08e4e933f",
        "IPY_MODEL_c2b0016a1db44e41b2415c909684bb6b",
        "IPY_MODEL_0140f87858244f2a9b8e1dc3e6a39b17",
        "IPY_MODEL_5b6b6e4388bf416aab790541d29d3c2d"
       ],
       "layout": "IPY_MODEL_abaaec9d5b8a4d47ba94170cd2bcb238"
      }
     },
     "2d72197615864b0196c121dac6f23068": {
      "model_module": "@jupyter-widgets/controls",
      "model_module_version": "1.5.0",
      "model_name": "HBoxModel",
      "state": {
       "children": [
        "IPY_MODEL_60af1668cb184d0db133dc2a91cd43b4",
        "IPY_MODEL_50abe1a72c9246cdb40480ad7069ccb3",
        "IPY_MODEL_8f4cdf441e004b4bbd6b878a7f01daae"
       ],
       "layout": "IPY_MODEL_62a31cb3c15e4718b7843dae7989b24e"
      }
     },
     "2d7a8529dba5464fa558c84728dd8e93": {
      "model_module": "@jupyter-widgets/controls",
      "model_module_version": "1.5.0",
      "model_name": "HTMLModel",
      "state": {
       "layout": "IPY_MODEL_1c062448b3b84fcc9ba6b20e5eede1d6",
       "style": "IPY_MODEL_ba0292970bcf40c7bcff6d7c161d1f3a",
       "value": " 498/498 [00:06&lt;00:00, 74.03it/s]"
      }
     },
     "2d7fac37d0e343059d0d8f5d0f3dd072": {
      "model_module": "@jupyter-widgets/controls",
      "model_module_version": "1.5.0",
      "model_name": "DescriptionStyleModel",
      "state": {
       "description_width": ""
      }
     },
     "2f22eaf0e9ba4297bb72ae2ec3ae2f14": {
      "model_module": "@jupyter-widgets/controls",
      "model_module_version": "1.5.0",
      "model_name": "HBoxModel",
      "state": {
       "children": [
        "IPY_MODEL_78104bd6d78a4c5498733aaec0e1d05a",
        "IPY_MODEL_d359f84fab6b43b8bbf735137eb00b6a",
        "IPY_MODEL_9697b88d6f954d7c88b5bff4976af4b1"
       ],
       "layout": "IPY_MODEL_43aca058526f4560bb5a3331cf2e6d52"
      }
     },
     "30ae36faff984b94bdcb3e9523ac8453": {
      "model_module": "@jupyter-widgets/base",
      "model_module_version": "1.2.0",
      "model_name": "LayoutModel",
      "state": {}
     },
     "30bd8ee5ec1e40ce8d037cf01cb680ea": {
      "model_module": "@jupyter-widgets/base",
      "model_module_version": "1.2.0",
      "model_name": "LayoutModel",
      "state": {}
     },
     "31742b3a94144c9a868c734a71b48ad0": {
      "model_module": "@jupyter-widgets/controls",
      "model_module_version": "1.5.0",
      "model_name": "HTMLModel",
      "state": {
       "layout": "IPY_MODEL_e69673fce5244a0aa223980bc1391ef7",
       "style": "IPY_MODEL_a182ac3c0ae64d28be071cc7c35e00cd",
       "value": "Scene Draw:: 100%"
      }
     },
     "31f3a7fc95e74cc589be47ea31ee7fc0": {
      "model_module": "@jupyter-widgets/base",
      "model_module_version": "1.2.0",
      "model_name": "LayoutModel",
      "state": {}
     },
     "32477e70e42f45128935e24e8e0ea1bf": {
      "model_module": "@jupyter-widgets/controls",
      "model_module_version": "1.5.0",
      "model_name": "FloatProgressModel",
      "state": {
       "bar_style": "success",
       "layout": "IPY_MODEL_988292b7f43f41bb8f30db0ae2413355",
       "max": 98,
       "style": "IPY_MODEL_749f8291b50a43448bf4f07bfb6a3ac5",
       "value": 98
      }
     },
     "33010b64f05d4aeca18de808298a7acb": {
      "model_module": "@jupyter-widgets/base",
      "model_module_version": "1.2.0",
      "model_name": "LayoutModel",
      "state": {}
     },
     "33a71f7f43f14124ae31c617f49ca5e1": {
      "model_module": "@jupyter-widgets/controls",
      "model_module_version": "1.5.0",
      "model_name": "ProgressStyleModel",
      "state": {
       "description_width": ""
      }
     },
     "33b37789de74426ea7177cd4daf27d6e": {
      "model_module": "@jupyter-widgets/controls",
      "model_module_version": "1.5.0",
      "model_name": "VBoxModel",
      "state": {
       "_dom_classes": [
        "widget-interact"
       ],
       "children": [
        "IPY_MODEL_affacdae0093430e8682e0e56626518e",
        "IPY_MODEL_b51f0cb18d42483b9d48dffc1f2dee5d",
        "IPY_MODEL_28681bb82323413c9d02450f0b3cbe91",
        "IPY_MODEL_ea51e2ed300645419cdfeeffd801d2b0",
        "IPY_MODEL_96df197867404985abab04310a394506",
        "IPY_MODEL_cc7c18c65996443290a4fb2d793fcb5f",
        "IPY_MODEL_8672a1aa6019499da3fa0bd50fb1cbc9",
        "IPY_MODEL_d1d786b37da146ada5095d858876dc6c",
        "IPY_MODEL_19c02c5f8759462fb0cb4fec1dc2243d",
        "IPY_MODEL_a6de7cb392c8437f902432443d710d36",
        "IPY_MODEL_dcb43887210f4f4d9f4be347a386c4ec",
        "IPY_MODEL_5267857312d2480080b589227fc08ba1"
       ],
       "layout": "IPY_MODEL_3a3d850f68f44aac9ed0e4c8956df848"
      }
     },
     "34ef68568127412a816b3622080da489": {
      "model_module": "@jupyter-widgets/controls",
      "model_module_version": "1.5.0",
      "model_name": "DropdownModel",
      "state": {
       "_options_labels": [
        "True",
        "False"
       ],
       "description": "match_fourier",
       "index": 1,
       "layout": "IPY_MODEL_a9e3f67109564242975de958ac6aef50",
       "style": "IPY_MODEL_df31cab1fb394ba59159d4086dedcd3a"
      }
     },
     "35a07ab16231414faf94b2c657661da5": {
      "model_module": "@jupyter-widgets/controls",
      "model_module_version": "1.5.0",
      "model_name": "HBoxModel",
      "state": {
       "children": [
        "IPY_MODEL_602942c21bef415fab27624187fab0c8",
        "IPY_MODEL_9d39bddfcf804aceb70d94274de69967",
        "IPY_MODEL_64ceb761004447f2b54aa1b3fb61520a"
       ],
       "layout": "IPY_MODEL_227712d463bc41b1ac6f28b2d20148ac"
      }
     },
     "35b2d218f12f4c0a9213fa9fb20931c3": {
      "model_module": "@jupyter-widgets/controls",
      "model_module_version": "1.5.0",
      "model_name": "FloatSliderModel",
      "state": {
       "description": "cell_multiplier",
       "layout": "IPY_MODEL_45360cca1de64b5fadd440e399d5047a",
       "max": 30,
       "min": -30,
       "step": 0.01,
       "style": "IPY_MODEL_e500630bb00d4732bbe655dc7dfdd651",
       "value": 1.7
      }
     },
     "35efea61fa814dc6b67bb558d39934c7": {
      "model_module": "@jupyter-widgets/base",
      "model_module_version": "1.2.0",
      "model_name": "LayoutModel",
      "state": {}
     },
     "364fa109be464420a03d3cd0d5436fa0": {
      "model_module": "@jupyter-widgets/controls",
      "model_module_version": "1.5.0",
      "model_name": "FloatSliderModel",
      "state": {
       "description": "sigma",
       "layout": "IPY_MODEL_fb1f4b58e830417294a7d365f84aba30",
       "max": 19.236641221374047,
       "min": 0.9618320610687023,
       "step": 0.048091603053435114,
       "style": "IPY_MODEL_5de6416052d04f54afe68e85efe1ef4e",
       "value": 8.85
      }
     },
     "36b46bb4f3c144238c5a59cfd48f770e": {
      "model_module": "@jupyter-widgets/base",
      "model_module_version": "1.2.0",
      "model_name": "LayoutModel",
      "state": {}
     },
     "36d9e30fb2f34b4eae5df1ce8f3440ea": {
      "model_module": "@jupyter-widgets/controls",
      "model_module_version": "1.5.0",
      "model_name": "DescriptionStyleModel",
      "state": {
       "description_width": ""
      }
     },
     "375b6b6309db434786dc1038fe772459": {
      "model_module": "@jupyter-widgets/controls",
      "model_module_version": "1.5.0",
      "model_name": "FloatSliderModel",
      "state": {
       "description": "cell_multiplier",
       "layout": "IPY_MODEL_a782d2aa27ec47d58de47faef99c827b",
       "max": 30,
       "min": -30,
       "step": 0.01,
       "style": "IPY_MODEL_d40a094cd9674c3095bbe075df27aab2",
       "value": 1.7
      }
     },
     "378fc3a1e04243599dc239a47189b48f": {
      "model_module": "@jupyter-widgets/base",
      "model_module_version": "1.2.0",
      "model_name": "LayoutModel",
      "state": {}
     },
     "38df297af0eb4bbe8090b2cb7a9257fc": {
      "model_module": "@jupyter-widgets/base",
      "model_module_version": "1.2.0",
      "model_name": "LayoutModel",
      "state": {}
     },
     "3991f06c5d7c4ca892aeb68df6e93b39": {
      "model_module": "@jupyter-widgets/controls",
      "model_module_version": "1.5.0",
      "model_name": "FloatProgressModel",
      "state": {
       "bar_style": "success",
       "layout": "IPY_MODEL_e66d613f4c544bb2811cf4e6d3588b93",
       "max": 98,
       "style": "IPY_MODEL_d873f583c99b48e1a90e7d898d10ea38",
       "value": 98
      }
     },
     "39cbe73bb3374ec0845748e929d10cc5": {
      "model_module": "@jupyter-widgets/base",
      "model_module_version": "1.2.0",
      "model_name": "LayoutModel",
      "state": {}
     },
     "39ec54c13b554d7f9237dcbeef1aecdb": {
      "model_module": "@jupyter-widgets/controls",
      "model_module_version": "1.5.0",
      "model_name": "IntSliderModel",
      "state": {
       "description": "device_multiplier",
       "layout": "IPY_MODEL_867349c7399144dc9489cdf82ee95a34",
       "max": 300,
       "min": -300,
       "style": "IPY_MODEL_ce4cf13016764023aa0d628b13e8db2f",
       "value": 29
      }
     },
     "3a3d850f68f44aac9ed0e4c8956df848": {
      "model_module": "@jupyter-widgets/base",
      "model_module_version": "1.2.0",
      "model_name": "LayoutModel",
      "state": {}
     },
     "3a3f0bb87ada484abe2fe0598f8a0630": {
      "model_module": "@jupyter-widgets/base",
      "model_module_version": "1.2.0",
      "model_name": "LayoutModel",
      "state": {}
     },
     "3a61fd4e430640a4b17f814e8477b778": {
      "model_module": "@jupyter-widgets/base",
      "model_module_version": "1.2.0",
      "model_name": "LayoutModel",
      "state": {}
     },
     "3a7932be04b645759ee4583a61791eb0": {
      "model_module": "@jupyter-widgets/controls",
      "model_module_version": "1.5.0",
      "model_name": "DropdownModel",
      "state": {
       "_options_labels": [
        "True",
        "False"
       ],
       "description": "match_fourier",
       "index": 1,
       "layout": "IPY_MODEL_d8c5972221d143e09a793797d6be6b81",
       "style": "IPY_MODEL_94378470cfe5469baf4bc82a53f1cda5"
      }
     },
     "3b1ff5b827a24f78a5b401d714be22e5": {
      "model_module": "@jupyter-widgets/controls",
      "model_module_version": "1.5.0",
      "model_name": "HBoxModel",
      "state": {
       "children": [
        "IPY_MODEL_0d6185cc2e8a4cdca444dd64f91e42c2",
        "IPY_MODEL_c6577c9abb574cb1b89d17ccf960e279",
        "IPY_MODEL_c5689633df2b42a8b1e13cec559a1b64"
       ],
       "layout": "IPY_MODEL_6c9bd5ea3a6f42e5b52495b6d106bac3"
      }
     },
     "3b24bb207ec14aa091a18f7312abb1a7": {
      "model_module": "@jupyter-widgets/base",
      "model_module_version": "1.2.0",
      "model_name": "LayoutModel",
      "state": {}
     },
     "3bd032f0803246dcb29c85487f240de5": {
      "model_module": "@jupyter-widgets/base",
      "model_module_version": "1.2.0",
      "model_name": "LayoutModel",
      "state": {}
     },
     "3df246c6095145e8bb57f7eae5de0d89": {
      "model_module": "@jupyter-widgets/controls",
      "model_module_version": "1.5.0",
      "model_name": "HTMLModel",
      "state": {
       "layout": "IPY_MODEL_663a71fc87a44ddfaa7a841d28e23bcd",
       "style": "IPY_MODEL_6731660343d7491a9e23ba133a038fb0",
       "value": "Timeseries Properties: 100%"
      }
     },
     "3e14479997654924b6e4591d9e1c56a8": {
      "model_module": "@jupyter-widgets/controls",
      "model_module_version": "1.5.0",
      "model_name": "SliderStyleModel",
      "state": {
       "description_width": ""
      }
     },
     "3e28b80021c34e47b412101202e14497": {
      "model_module": "@jupyter-widgets/base",
      "model_module_version": "1.2.0",
      "model_name": "LayoutModel",
      "state": {}
     },
     "3ef5a4661abd4ba19c8eba32e65c7482": {
      "model_module": "@jupyter-widgets/controls",
      "model_module_version": "1.5.0",
      "model_name": "DescriptionStyleModel",
      "state": {
       "description_width": ""
      }
     },
     "3fa03b1cec7a44a2b4db5e7ca6bcc62f": {
      "model_module": "@jupyter-widgets/base",
      "model_module_version": "1.2.0",
      "model_name": "LayoutModel",
      "state": {}
     },
     "409fe5f9fa6144668b42537e394dd59f": {
      "model_module": "@jupyter-widgets/controls",
      "model_module_version": "1.5.0",
      "model_name": "DropdownModel",
      "state": {
       "_options_labels": [
        "True",
        "False"
       ],
       "description": "match_fourier",
       "index": 1,
       "layout": "IPY_MODEL_d3ef7a8a37f14ceb975b5cb90488a839",
       "style": "IPY_MODEL_595515d7d0af4c2a80f9e10449394e02"
      }
     },
     "42570b3b84ed4ea0aa95c080a05a1d07": {
      "model_module": "@jupyter-widgets/base",
      "model_module_version": "1.2.0",
      "model_name": "LayoutModel",
      "state": {}
     },
     "428a2b8d1de440e186366627b9e864f9": {
      "model_module": "@jupyter-widgets/base",
      "model_module_version": "1.2.0",
      "model_name": "LayoutModel",
      "state": {}
     },
     "42c5840579c642d2b7e4cf14cb687cfa": {
      "model_module": "@jupyter-widgets/base",
      "model_module_version": "1.2.0",
      "model_name": "LayoutModel",
      "state": {}
     },
     "432cbfc7400146ada6699c78433cab66": {
      "model_module": "@jupyter-widgets/controls",
      "model_module_version": "1.5.0",
      "model_name": "HTMLModel",
      "state": {
       "layout": "IPY_MODEL_7b214b903acf46c49880c1395041df5e",
       "style": "IPY_MODEL_1164d2119bb84ad980f13db4a385cca0",
       "value": "Timeseries Properties: 100%"
      }
     },
     "43481dbcb58d42508a664eaf04a0bb9f": {
      "model_module": "@jupyter-widgets/controls",
      "model_module_version": "1.5.0",
      "model_name": "SliderStyleModel",
      "state": {
       "description_width": ""
      }
     },
     "43aca058526f4560bb5a3331cf2e6d52": {
      "model_module": "@jupyter-widgets/base",
      "model_module_version": "1.2.0",
      "model_name": "LayoutModel",
      "state": {}
     },
     "4511985e81584ea5aacd11c9b39daa24": {
      "model_module": "@jupyter-widgets/controls",
      "model_module_version": "1.5.0",
      "model_name": "IntSliderModel",
      "state": {
       "description": "scene_no",
       "layout": "IPY_MODEL_66552d46fc6c4ebbb24379768204c9f7",
       "max": 497,
       "style": "IPY_MODEL_d4a52c2484b644f89d2cbad68fddf2f0"
      }
     },
     "45360cca1de64b5fadd440e399d5047a": {
      "model_module": "@jupyter-widgets/base",
      "model_module_version": "1.2.0",
      "model_name": "LayoutModel",
      "state": {}
     },
     "459340a336c44e5d8570f2063593c860": {
      "model_module": "@jupyter-widgets/controls",
      "model_module_version": "1.5.0",
      "model_name": "ProgressStyleModel",
      "state": {
       "description_width": ""
      }
     },
     "45daabbf78f04f639c4690b51d86c356": {
      "model_module": "@jupyter-widgets/base",
      "model_module_version": "1.2.0",
      "model_name": "LayoutModel",
      "state": {}
     },
     "45fdeb971a06452989233d3c26ebd3fc": {
      "model_module": "@jupyter-widgets/controls",
      "model_module_version": "1.5.0",
      "model_name": "SliderStyleModel",
      "state": {
       "description_width": ""
      }
     },
     "46410fb8ed6349ceaf7db0e12aea2e1f": {
      "model_module": "@jupyter-widgets/controls",
      "model_module_version": "1.5.0",
      "model_name": "SliderStyleModel",
      "state": {
       "description_width": ""
      }
     },
     "46fafeaad94a445ea0c6e750b36fca64": {
      "model_module": "@jupyter-widgets/base",
      "model_module_version": "1.2.0",
      "model_name": "LayoutModel",
      "state": {}
     },
     "474ba7ae588541f687787039de7f5355": {
      "model_module": "@jupyter-widgets/controls",
      "model_module_version": "1.5.0",
      "model_name": "HTMLModel",
      "state": {
       "layout": "IPY_MODEL_11f7fa0e38a8485499d0cd5b9a617fdc",
       "style": "IPY_MODEL_7679a4c54b3042dda569f5f060a75d59",
       "value": " 98/98 [00:00&lt;00:00, 104.47it/s]"
      }
     },
     "47b35fae042847c2848f38187a8c19c7": {
      "model_module": "@jupyter-widgets/controls",
      "model_module_version": "1.5.0",
      "model_name": "HBoxModel",
      "state": {
       "children": [
        "IPY_MODEL_b766768779b4455c8f4a4727d3a5bc79",
        "IPY_MODEL_bbe62e3b0fbb48f3befd3b6dd48aabd2",
        "IPY_MODEL_8f844449a51540f182878dd8cc4d65b1"
       ],
       "layout": "IPY_MODEL_25c72a1fe7314930ad28bf0bd048c1b0"
      }
     },
     "484e8f56174c4e88b1b53cf7f8e38b0a": {
      "model_module": "@jupyter-widgets/base",
      "model_module_version": "1.2.0",
      "model_name": "LayoutModel",
      "state": {}
     },
     "48530cfabd2e401ab7a7fe0e3951d7d5": {
      "model_module": "@jupyter-widgets/controls",
      "model_module_version": "1.5.0",
      "model_name": "DescriptionStyleModel",
      "state": {
       "description_width": ""
      }
     },
     "48795dcd358c44fea61a6882cd719708": {
      "model_module": "@jupyter-widgets/output",
      "model_module_version": "1.0.0",
      "model_name": "OutputModel",
      "state": {
       "layout": "IPY_MODEL_90978fec12d3427c87512c11eb542f71"
      }
     },
     "48ec9c13f83745dfa59181f08e4e933f": {
      "model_module": "@jupyter-widgets/controls",
      "model_module_version": "1.5.0",
      "model_name": "FloatSliderModel",
      "state": {
       "description": "noise_var",
       "layout": "IPY_MODEL_c6e5cfd0603945f6ab16bfb25132e881",
       "max": 0.01,
       "step": 0.0001,
       "style": "IPY_MODEL_94d167da7bc4438bb4476381d7a14f7f",
       "value": 0.001
      }
     },
     "494fe8b3fd4442c48f5840fa71379ced": {
      "model_module": "@jupyter-widgets/controls",
      "model_module_version": "1.5.0",
      "model_name": "FloatSliderModel",
      "state": {
       "description": "cell_multiplier",
       "layout": "IPY_MODEL_9ecbd2f46fc34d3d919907abecf882b2",
       "max": 30,
       "min": -30,
       "step": 0.01,
       "style": "IPY_MODEL_856c43d1ebbc4de499a3ea4d63b9ab84",
       "value": 1.7
      }
     },
     "49a1a02b7752484392732c428205cf9d": {
      "model_module": "@jupyter-widgets/controls",
      "model_module_version": "1.5.0",
      "model_name": "FloatSliderModel",
      "state": {
       "description": "sigma",
       "layout": "IPY_MODEL_9a82802d6806425498f327409d470e46",
       "max": 38.47328244274809,
       "min": 1.9236641221374047,
       "step": 0.09618320610687023,
       "style": "IPY_MODEL_b21a8dc8fd0240808cab7e9ff460d46b",
       "value": 8.85
      }
     },
     "4a9543862a844a22bf3ebfb06df36814": {
      "model_module": "@jupyter-widgets/controls",
      "model_module_version": "1.5.0",
      "model_name": "IntSliderModel",
      "state": {
       "description": "media_multiplier",
       "layout": "IPY_MODEL_1f3758de7c0d415c951b7363a2d68520",
       "max": 300,
       "min": -300,
       "style": "IPY_MODEL_c33abe52cc2d41efba833e7e4247665b",
       "value": 75
      }
     },
     "4afcf4176fe643cea02cdfb3e9a1d150": {
      "model_module": "@jupyter-widgets/controls",
      "model_module_version": "1.5.0",
      "model_name": "SliderStyleModel",
      "state": {
       "description_width": ""
      }
     },
     "4b04f9e323984b71b679719d1c6e9bbd": {
      "model_module": "@jupyter-widgets/base",
      "model_module_version": "1.2.0",
      "model_name": "LayoutModel",
      "state": {}
     },
     "4b60568bd1934dac8ed59922d7a371bc": {
      "model_module": "@jupyter-widgets/controls",
      "model_module_version": "1.5.0",
      "model_name": "SliderStyleModel",
      "state": {
       "description_width": ""
      }
     },
     "4b7f9ad9e6314cd68d0ae09e85708710": {
      "model_module": "@jupyter-widgets/base",
      "model_module_version": "1.2.0",
      "model_name": "LayoutModel",
      "state": {}
     },
     "4ce093dce197491b8967df14bae1675a": {
      "model_module": "@jupyter-widgets/controls",
      "model_module_version": "1.5.0",
      "model_name": "SliderStyleModel",
      "state": {
       "description_width": ""
      }
     },
     "4d9d817ca5864966b3de1a6da63560a9": {
      "model_module": "@jupyter-widgets/controls",
      "model_module_version": "1.5.0",
      "model_name": "DescriptionStyleModel",
      "state": {
       "description_width": ""
      }
     },
     "4dc8ced866504734bccfd6ff1201d1b4": {
      "model_module": "@jupyter-widgets/controls",
      "model_module_version": "1.5.0",
      "model_name": "FloatSliderModel",
      "state": {
       "description": "noise_var",
       "layout": "IPY_MODEL_ec0ca811dd3a454295dd0afa90b5af1f",
       "max": 0.01,
       "step": 0.0001,
       "style": "IPY_MODEL_4afcf4176fe643cea02cdfb3e9a1d150",
       "value": 0.001
      }
     },
     "4ea1bf97fc72475e9db5ab0ad4ef12cc": {
      "model_module": "@jupyter-widgets/controls",
      "model_module_version": "1.5.0",
      "model_name": "HTMLModel",
      "state": {
       "layout": "IPY_MODEL_c43d8c0ad08e437898cd2ec69d723602",
       "style": "IPY_MODEL_36d9e30fb2f34b4eae5df1ce8f3440ea",
       "value": " 300/300 [00:02&lt;00:00, 130.54it/s]"
      }
     },
     "4ec20b77139548b8a13c83302a6e0373": {
      "model_module": "@jupyter-widgets/controls",
      "model_module_version": "1.5.0",
      "model_name": "SliderStyleModel",
      "state": {
       "description_width": ""
      }
     },
     "4f68229105d146ea9ec2aa3678b0cbb8": {
      "model_module": "@jupyter-widgets/controls",
      "model_module_version": "1.5.0",
      "model_name": "HBoxModel",
      "state": {
       "children": [
        "IPY_MODEL_092cdddc630c46c18c85ea646b23e365",
        "IPY_MODEL_e9c139e2890a4a9babb15e522475742b",
        "IPY_MODEL_1e5a076156f74ff692e84197c24e6e83"
       ],
       "layout": "IPY_MODEL_6d24149b7cce4e16b0c142516c2e615c"
      }
     },
     "508683e04fa34101a44dbf4a15308e74": {
      "model_module": "@jupyter-widgets/base",
      "model_module_version": "1.2.0",
      "model_name": "LayoutModel",
      "state": {}
     },
     "50abe1a72c9246cdb40480ad7069ccb3": {
      "model_module": "@jupyter-widgets/controls",
      "model_module_version": "1.5.0",
      "model_name": "FloatProgressModel",
      "state": {
       "bar_style": "success",
       "layout": "IPY_MODEL_58af634002a64948ba0e29ee502f4e36",
       "max": 300,
       "style": "IPY_MODEL_459340a336c44e5d8570f2063593c860",
       "value": 300
      }
     },
     "51dd6fc9fad043958d5343d24e273327": {
      "model_module": "@jupyter-widgets/controls",
      "model_module_version": "1.5.0",
      "model_name": "DescriptionStyleModel",
      "state": {
       "description_width": ""
      }
     },
     "5232670626ec4d81a4fdf4152f66406f": {
      "model_module": "@jupyter-widgets/base",
      "model_module_version": "1.2.0",
      "model_name": "LayoutModel",
      "state": {}
     },
     "5267857312d2480080b589227fc08ba1": {
      "model_module": "@jupyter-widgets/output",
      "model_module_version": "1.0.0",
      "model_name": "OutputModel",
      "state": {
       "layout": "IPY_MODEL_b5d09cd34a9b4236bcca0a128a8939e0"
      }
     },
     "52ba57086b804aa48c9a697fb9364e90": {
      "model_module": "@jupyter-widgets/base",
      "model_module_version": "1.2.0",
      "model_name": "LayoutModel",
      "state": {}
     },
     "53e045b6c19545899de72eac998847cb": {
      "model_module": "@jupyter-widgets/controls",
      "model_module_version": "1.5.0",
      "model_name": "IntSliderModel",
      "state": {
       "description": "media_multiplier",
       "layout": "IPY_MODEL_245bfd81f3414b65b2839b14b5991554",
       "max": 300,
       "min": -300,
       "style": "IPY_MODEL_91c59217c64a4ab0aa3d82cfd135f5ab",
       "value": 75
      }
     },
     "54b96a11818d4d8798a438dbe41d64a4": {
      "model_module": "@jupyter-widgets/controls",
      "model_module_version": "1.5.0",
      "model_name": "HTMLModel",
      "state": {
       "layout": "IPY_MODEL_c98209754cea4090a834d128d974ab52",
       "style": "IPY_MODEL_0218106b869d46e9b8fb1d66168fdbce",
       "value": " 300/300 [00:02&lt;00:00, 141.98it/s]"
      }
     },
     "5588d10765e34474ac013eaafc8d0058": {
      "model_module": "@jupyter-widgets/controls",
      "model_module_version": "1.5.0",
      "model_name": "DropdownModel",
      "state": {
       "_options_labels": [
        "True",
        "False"
       ],
       "description": "match_noise",
       "index": 1,
       "layout": "IPY_MODEL_42c5840579c642d2b7e4cf14cb687cfa",
       "style": "IPY_MODEL_9b35e157960a46a5864cd22f4cd588f8"
      }
     },
     "56a0c1d2c2be41f3a07b08f3b9053d9b": {
      "model_module": "@jupyter-widgets/controls",
      "model_module_version": "1.5.0",
      "model_name": "FloatProgressModel",
      "state": {
       "bar_style": "success",
       "layout": "IPY_MODEL_a49c50b0102241688116a33ffb1cc7c5",
       "max": 300,
       "style": "IPY_MODEL_c1f4588424d84c40bf1229d3186eca35",
       "value": 300
      }
     },
     "56b27885ad924fce8405a16954204349": {
      "model_module": "@jupyter-widgets/controls",
      "model_module_version": "1.5.0",
      "model_name": "DropdownModel",
      "state": {
       "_options_labels": [
        "False",
        "True"
       ],
       "description": "fluorescence",
       "index": 0,
       "layout": "IPY_MODEL_79214af2223f4cf9a8bbd21d311ccb71",
       "style": "IPY_MODEL_f01160408b0843fbaf6b38507745325c"
      }
     },
     "5753d9bb408f4f808a0f3d59e3f5910d": {
      "model_module": "@jupyter-widgets/base",
      "model_module_version": "1.2.0",
      "model_name": "LayoutModel",
      "state": {}
     },
     "578205b704e14cdfb35f63b330b7a9c9": {
      "model_module": "@jupyter-widgets/controls",
      "model_module_version": "1.5.0",
      "model_name": "FloatProgressModel",
      "state": {
       "bar_style": "success",
       "layout": "IPY_MODEL_6029130fb1824ae5afd77ccdceb2cb5b",
       "max": 300,
       "style": "IPY_MODEL_274ae182b36d44e298a290817691bfaf",
       "value": 300
      }
     },
     "57a3141bae044137bcccc42edc64e703": {
      "model_module": "@jupyter-widgets/controls",
      "model_module_version": "1.5.0",
      "model_name": "ProgressStyleModel",
      "state": {
       "description_width": ""
      }
     },
     "57b0bb5244634ba38a0d8dbc27df472f": {
      "model_module": "@jupyter-widgets/base",
      "model_module_version": "1.2.0",
      "model_name": "LayoutModel",
      "state": {}
     },
     "5897dbc1866040e3b5a79ed6a78cf8a4": {
      "model_module": "@jupyter-widgets/controls",
      "model_module_version": "1.5.0",
      "model_name": "FloatSliderModel",
      "state": {
       "description": "cell_multiplier",
       "layout": "IPY_MODEL_03cc6e0066fb45aa8048fa3a7cbc070b",
       "max": 30,
       "min": -30,
       "step": 0.01,
       "style": "IPY_MODEL_840f39cf98f04dc7b745c43aaa14d77f",
       "value": 1.7
      }
     },
     "58af634002a64948ba0e29ee502f4e36": {
      "model_module": "@jupyter-widgets/base",
      "model_module_version": "1.2.0",
      "model_name": "LayoutModel",
      "state": {}
     },
     "58c4ae64226b4b51abba5205d9d7fa90": {
      "model_module": "@jupyter-widgets/base",
      "model_module_version": "1.2.0",
      "model_name": "LayoutModel",
      "state": {}
     },
     "5911afffaa4d4df18f97ce2aded46827": {
      "model_module": "@jupyter-widgets/controls",
      "model_module_version": "1.5.0",
      "model_name": "DescriptionStyleModel",
      "state": {
       "description_width": ""
      }
     },
     "595515d7d0af4c2a80f9e10449394e02": {
      "model_module": "@jupyter-widgets/controls",
      "model_module_version": "1.5.0",
      "model_name": "DescriptionStyleModel",
      "state": {
       "description_width": ""
      }
     },
     "5988cb987ca94ec3991b1964dd415959": {
      "model_module": "@jupyter-widgets/controls",
      "model_module_version": "1.5.0",
      "model_name": "DescriptionStyleModel",
      "state": {
       "description_width": ""
      }
     },
     "5b6b6e4388bf416aab790541d29d3c2d": {
      "model_module": "@jupyter-widgets/output",
      "model_module_version": "1.0.0",
      "model_name": "OutputModel",
      "state": {
       "layout": "IPY_MODEL_e089102903f9490b9e319f3058123293"
      }
     },
     "5cdf099d4b034adeaaa90fbc8b7298aa": {
      "model_module": "@jupyter-widgets/controls",
      "model_module_version": "1.5.0",
      "model_name": "DescriptionStyleModel",
      "state": {
       "description_width": ""
      }
     },
     "5d48d30219f0421295d9afcc40724784": {
      "model_module": "@jupyter-widgets/base",
      "model_module_version": "1.2.0",
      "model_name": "LayoutModel",
      "state": {}
     },
     "5db0858daeac473293ba6bc07ceb83f6": {
      "model_module": "@jupyter-widgets/controls",
      "model_module_version": "1.5.0",
      "model_name": "ProgressStyleModel",
      "state": {
       "description_width": ""
      }
     },
     "5de6416052d04f54afe68e85efe1ef4e": {
      "model_module": "@jupyter-widgets/controls",
      "model_module_version": "1.5.0",
      "model_name": "SliderStyleModel",
      "state": {
       "description_width": ""
      }
     },
     "6029130fb1824ae5afd77ccdceb2cb5b": {
      "model_module": "@jupyter-widgets/base",
      "model_module_version": "1.2.0",
      "model_name": "LayoutModel",
      "state": {}
     },
     "602942c21bef415fab27624187fab0c8": {
      "model_module": "@jupyter-widgets/controls",
      "model_module_version": "1.5.0",
      "model_name": "HTMLModel",
      "state": {
       "layout": "IPY_MODEL_fadf22f6d7c047b3912a80ca0e93345b",
       "style": "IPY_MODEL_e425da43eb2c49478f9b7883014b7295",
       "value": "Timeseries Properties: 100%"
      }
     },
     "60af1668cb184d0db133dc2a91cd43b4": {
      "model_module": "@jupyter-widgets/controls",
      "model_module_version": "1.5.0",
      "model_name": "HTMLModel",
      "state": {
       "layout": "IPY_MODEL_04c9c6d5af1248b6a48c8b4f9c0749e5",
       "style": "IPY_MODEL_6500d7aacd724f9c9c7346a699b871dc",
       "value": "Scene Draw:: 100%"
      }
     },
     "62a31cb3c15e4718b7843dae7989b24e": {
      "model_module": "@jupyter-widgets/base",
      "model_module_version": "1.2.0",
      "model_name": "LayoutModel",
      "state": {}
     },
     "636e833051d6411ba4b683bb908a4743": {
      "model_module": "@jupyter-widgets/controls",
      "model_module_version": "1.5.0",
      "model_name": "DropdownModel",
      "state": {
       "_options_labels": [
        "False",
        "True"
       ],
       "description": "fluorescence",
       "index": 0,
       "layout": "IPY_MODEL_ea4650b7dd4a46f58ba6f4f3c8da9c56",
       "style": "IPY_MODEL_eef3e1c8b0844c9a83849fb8e3680a7b"
      }
     },
     "6399a261bc6d48d8bc6e01d6b9d92766": {
      "model_module": "@jupyter-widgets/controls",
      "model_module_version": "1.5.0",
      "model_name": "SliderStyleModel",
      "state": {
       "description_width": ""
      }
     },
     "63d437d33c3d4466ad038c229fa142dd": {
      "model_module": "@jupyter-widgets/base",
      "model_module_version": "1.2.0",
      "model_name": "LayoutModel",
      "state": {}
     },
     "64704eaaf7914ba490cfb8451f8d745b": {
      "model_module": "@jupyter-widgets/controls",
      "model_module_version": "1.5.0",
      "model_name": "DescriptionStyleModel",
      "state": {
       "description_width": ""
      }
     },
     "64ceb761004447f2b54aa1b3fb61520a": {
      "model_module": "@jupyter-widgets/controls",
      "model_module_version": "1.5.0",
      "model_name": "HTMLModel",
      "state": {
       "layout": "IPY_MODEL_dcc91f9b8ce34de9ae9c341f5e1c8125",
       "style": "IPY_MODEL_c91aa811bdab4c0395d5185363868cc0",
       "value": " 300/300 [00:04&lt;00:00, 68.15it/s]"
      }
     },
     "6500d7aacd724f9c9c7346a699b871dc": {
      "model_module": "@jupyter-widgets/controls",
      "model_module_version": "1.5.0",
      "model_name": "DescriptionStyleModel",
      "state": {
       "description_width": ""
      }
     },
     "663a71fc87a44ddfaa7a841d28e23bcd": {
      "model_module": "@jupyter-widgets/base",
      "model_module_version": "1.2.0",
      "model_name": "LayoutModel",
      "state": {}
     },
     "66552d46fc6c4ebbb24379768204c9f7": {
      "model_module": "@jupyter-widgets/base",
      "model_module_version": "1.2.0",
      "model_name": "LayoutModel",
      "state": {}
     },
     "66c8aee2627b45f0be8cc3fd5f40574c": {
      "model_module": "@jupyter-widgets/base",
      "model_module_version": "1.2.0",
      "model_name": "LayoutModel",
      "state": {}
     },
     "6723ef474a3d40218e15dcf2586fefaf": {
      "model_module": "@jupyter-widgets/base",
      "model_module_version": "1.2.0",
      "model_name": "LayoutModel",
      "state": {}
     },
     "6731660343d7491a9e23ba133a038fb0": {
      "model_module": "@jupyter-widgets/controls",
      "model_module_version": "1.5.0",
      "model_name": "DescriptionStyleModel",
      "state": {
       "description_width": ""
      }
     },
     "67f6569013384c709ab3a3d627014c7d": {
      "model_module": "@jupyter-widgets/controls",
      "model_module_version": "1.5.0",
      "model_name": "FloatSliderModel",
      "state": {
       "description": "noise_var",
       "layout": "IPY_MODEL_30bd8ee5ec1e40ce8d037cf01cb680ea",
       "max": 0.01,
       "step": 0.0001,
       "style": "IPY_MODEL_1def7617363f4ebba8a6388b3dd1fb1c",
       "value": 0.001
      }
     },
     "685330cb9e2e41ec8458a8868c60bd19": {
      "model_module": "@jupyter-widgets/controls",
      "model_module_version": "1.5.0",
      "model_name": "HTMLModel",
      "state": {
       "layout": "IPY_MODEL_c056d92c7864403fb19315d85d68dd20",
       "style": "IPY_MODEL_1a18fde7ed2e40cab5061592b5674241",
       "value": " 300/300 [00:03&lt;00:00, 89.76it/s]"
      }
     },
     "68579bbd908a4b4f9f2bac371027acfa": {
      "model_module": "@jupyter-widgets/controls",
      "model_module_version": "1.5.0",
      "model_name": "DropdownModel",
      "state": {
       "_options_labels": [
        "False",
        "True"
       ],
       "description": "fluorescence",
       "index": 0,
       "layout": "IPY_MODEL_f49321ee5fe94faf9ea91bb466ae8720",
       "style": "IPY_MODEL_e11ee495ff644b7ea1b9b136f72796b9"
      }
     },
     "68a793a6bcfe48428a8ad73df9bcdacf": {
      "model_module": "@jupyter-widgets/base",
      "model_module_version": "1.2.0",
      "model_name": "LayoutModel",
      "state": {}
     },
     "68e651c8e0154e7eb93494ef5b493a6c": {
      "model_module": "@jupyter-widgets/base",
      "model_module_version": "1.2.0",
      "model_name": "LayoutModel",
      "state": {}
     },
     "6af15dea16314db4b25338cca849a065": {
      "model_module": "@jupyter-widgets/controls",
      "model_module_version": "1.5.0",
      "model_name": "IntSliderModel",
      "state": {
       "description": "device_multiplier",
       "layout": "IPY_MODEL_52ba57086b804aa48c9a697fb9364e90",
       "max": 300,
       "min": -300,
       "style": "IPY_MODEL_46410fb8ed6349ceaf7db0e12aea2e1f",
       "value": 29
      }
     },
     "6b0ef259d32f4ad98c7817e12153f670": {
      "model_module": "@jupyter-widgets/controls",
      "model_module_version": "1.5.0",
      "model_name": "DescriptionStyleModel",
      "state": {
       "description_width": ""
      }
     },
     "6b4f64741c5046259e583979ccaa6c73": {
      "model_module": "@jupyter-widgets/base",
      "model_module_version": "1.2.0",
      "model_name": "LayoutModel",
      "state": {}
     },
     "6c9bd5ea3a6f42e5b52495b6d106bac3": {
      "model_module": "@jupyter-widgets/base",
      "model_module_version": "1.2.0",
      "model_name": "LayoutModel",
      "state": {}
     },
     "6cd9b74f2e1b4693a4490642c404d865": {
      "model_module": "@jupyter-widgets/base",
      "model_module_version": "1.2.0",
      "model_name": "LayoutModel",
      "state": {}
     },
     "6cee09b349e84880b4bc7c88940adc7b": {
      "model_module": "@jupyter-widgets/controls",
      "model_module_version": "1.5.0",
      "model_name": "HTMLModel",
      "state": {
       "layout": "IPY_MODEL_bd7f6ac32c654d929b4efdf64c3cc82a",
       "style": "IPY_MODEL_51dd6fc9fad043958d5343d24e273327",
       "value": " 98/98 [00:01&lt;00:00, 55.72it/s]"
      }
     },
     "6d05559848224219bf2cc4850b91b86a": {
      "model_module": "@jupyter-widgets/controls",
      "model_module_version": "1.5.0",
      "model_name": "FloatSliderModel",
      "state": {
       "description": "noise_var",
       "layout": "IPY_MODEL_ccfbd44b4e1e4ba99030cedc3b69cd8f",
       "max": 0.01,
       "step": 0.0001,
       "style": "IPY_MODEL_e84fd854012a420397b8588157befb22",
       "value": 0.001
      }
     },
     "6d24149b7cce4e16b0c142516c2e615c": {
      "model_module": "@jupyter-widgets/base",
      "model_module_version": "1.2.0",
      "model_name": "LayoutModel",
      "state": {}
     },
     "6dae2b8594c34a37931495836649b638": {
      "model_module": "@jupyter-widgets/base",
      "model_module_version": "1.2.0",
      "model_name": "LayoutModel",
      "state": {}
     },
     "6e31258065bb426a9fcf87ef52cff628": {
      "model_module": "@jupyter-widgets/controls",
      "model_module_version": "1.5.0",
      "model_name": "SliderStyleModel",
      "state": {
       "description_width": ""
      }
     },
     "6e594f75220d4d128c6923e013cd9ae4": {
      "model_module": "@jupyter-widgets/controls",
      "model_module_version": "1.5.0",
      "model_name": "SliderStyleModel",
      "state": {
       "description_width": ""
      }
     },
     "6eb1077869b645b19aa550f93f82ac28": {
      "model_module": "@jupyter-widgets/controls",
      "model_module_version": "1.5.0",
      "model_name": "DescriptionStyleModel",
      "state": {
       "description_width": ""
      }
     },
     "6f3be69a9dec48c4953c55050aab6181": {
      "model_module": "@jupyter-widgets/controls",
      "model_module_version": "1.5.0",
      "model_name": "SliderStyleModel",
      "state": {
       "description_width": ""
      }
     },
     "6fc0c7b4bc4440e8929e60073d56eb4a": {
      "model_module": "@jupyter-widgets/base",
      "model_module_version": "1.2.0",
      "model_name": "LayoutModel",
      "state": {}
     },
     "72914b8c50bd4b3bb958a5d177ae052e": {
      "model_module": "@jupyter-widgets/controls",
      "model_module_version": "1.5.0",
      "model_name": "DropdownModel",
      "state": {
       "_options_labels": [
        "True",
        "False"
       ],
       "description": "match_noise",
       "index": 1,
       "layout": "IPY_MODEL_d66ffe2f53fd4d9e9ca7cd26ff3f2df3",
       "style": "IPY_MODEL_5988cb987ca94ec3991b1964dd415959"
      }
     },
     "73087ebbe16e4c01bdc90613438265a5": {
      "model_module": "@jupyter-widgets/output",
      "model_module_version": "1.0.0",
      "model_name": "OutputModel",
      "state": {
       "layout": "IPY_MODEL_508683e04fa34101a44dbf4a15308e74"
      }
     },
     "7390d434fae24ead922a4962ec37ff6b": {
      "model_module": "@jupyter-widgets/base",
      "model_module_version": "1.2.0",
      "model_name": "LayoutModel",
      "state": {}
     },
     "73fc45b401be4217b92b02d7f2597b5c": {
      "model_module": "@jupyter-widgets/base",
      "model_module_version": "1.2.0",
      "model_name": "LayoutModel",
      "state": {}
     },
     "743159ffa6b248f3af8d9f8a5525b792": {
      "model_module": "@jupyter-widgets/base",
      "model_module_version": "1.2.0",
      "model_name": "LayoutModel",
      "state": {}
     },
     "749f8291b50a43448bf4f07bfb6a3ac5": {
      "model_module": "@jupyter-widgets/controls",
      "model_module_version": "1.5.0",
      "model_name": "ProgressStyleModel",
      "state": {
       "description_width": ""
      }
     },
     "74b90e8d22794cdcb55f889d3c6069fa": {
      "model_module": "@jupyter-widgets/controls",
      "model_module_version": "1.5.0",
      "model_name": "SliderStyleModel",
      "state": {
       "description_width": ""
      }
     },
     "74fe8e8d02cc417d9e755e06aa8bba7b": {
      "model_module": "@jupyter-widgets/controls",
      "model_module_version": "1.5.0",
      "model_name": "HBoxModel",
      "state": {
       "children": [
        "IPY_MODEL_75f120ea4edc418b8202d2e395a72d70",
        "IPY_MODEL_9fd3ff7a3e4942eeb6034819984ebecd",
        "IPY_MODEL_2d7a8529dba5464fa558c84728dd8e93"
       ],
       "layout": "IPY_MODEL_30ae36faff984b94bdcb3e9523ac8453"
      }
     },
     "75be9973371649a68268cdb7fbde52f6": {
      "model_module": "@jupyter-widgets/controls",
      "model_module_version": "1.5.0",
      "model_name": "DropdownModel",
      "state": {
       "_options_labels": [
        "True",
        "False"
       ],
       "description": "match_noise",
       "index": 1,
       "layout": "IPY_MODEL_b5afc82780f344608ae5d395b16b466d",
       "style": "IPY_MODEL_e8dfeeb46d694c82a6486d320ca9aedb"
      }
     },
     "75f120ea4edc418b8202d2e395a72d70": {
      "model_module": "@jupyter-widgets/controls",
      "model_module_version": "1.5.0",
      "model_name": "HTMLModel",
      "state": {
       "layout": "IPY_MODEL_caf2a9e469e64251afb0a8a7549e9ffd",
       "style": "IPY_MODEL_5cdf099d4b034adeaaa90fbc8b7298aa",
       "value": "Scene Draw:: 100%"
      }
     },
     "762265300e0d42b7ba8116584d1249f1": {
      "model_module": "@jupyter-widgets/controls",
      "model_module_version": "1.5.0",
      "model_name": "VBoxModel",
      "state": {
       "_dom_classes": [
        "widget-interact"
       ],
       "children": [
        "IPY_MODEL_53e045b6c19545899de72eac998847cb",
        "IPY_MODEL_5897dbc1866040e3b5a79ed6a78cf8a4",
        "IPY_MODEL_f120af2e2b944f57b93072f53b98b63f",
        "IPY_MODEL_e551cef0c0d14bad8c8e82496477aeac",
        "IPY_MODEL_fcfc1c58761b4165988e13532b4dd706",
        "IPY_MODEL_34ef68568127412a816b3622080da489",
        "IPY_MODEL_b823d5e55bc24f2b8e46d2e2b4814d58",
        "IPY_MODEL_ddb21ea165224478b0052f79ad8b2353",
        "IPY_MODEL_f04e4ae1349b41e0bfa3999438465377",
        "IPY_MODEL_636e833051d6411ba4b683bb908a4743",
        "IPY_MODEL_ffa1c377076144f7a3e73e0103eeb136",
        "IPY_MODEL_73087ebbe16e4c01bdc90613438265a5"
       ],
       "layout": "IPY_MODEL_ed87adf471374e0dbbdfcc007e5126dd"
      }
     },
     "7679a4c54b3042dda569f5f060a75d59": {
      "model_module": "@jupyter-widgets/controls",
      "model_module_version": "1.5.0",
      "model_name": "DescriptionStyleModel",
      "state": {
       "description_width": ""
      }
     },
     "77b80c0fe3af49f192b7e1c15b904a10": {
      "model_module": "@jupyter-widgets/controls",
      "model_module_version": "1.5.0",
      "model_name": "SliderStyleModel",
      "state": {
       "description_width": ""
      }
     },
     "78104bd6d78a4c5498733aaec0e1d05a": {
      "model_module": "@jupyter-widgets/controls",
      "model_module_version": "1.5.0",
      "model_name": "HTMLModel",
      "state": {
       "layout": "IPY_MODEL_ab08fd218cfb4d19adeb06dfde7dc012",
       "style": "IPY_MODEL_cfe35977912b4c47912b486e827d7ae9",
       "value": "Scene Draw:: 100%"
      }
     },
     "783aea02cdf642f59f92ab4cd0016926": {
      "model_module": "@jupyter-widgets/base",
      "model_module_version": "1.2.0",
      "model_name": "LayoutModel",
      "state": {}
     },
     "79214af2223f4cf9a8bbd21d311ccb71": {
      "model_module": "@jupyter-widgets/base",
      "model_module_version": "1.2.0",
      "model_name": "LayoutModel",
      "state": {}
     },
     "79b15003eedd47e38d3605fe0ca422c0": {
      "model_module": "@jupyter-widgets/base",
      "model_module_version": "1.2.0",
      "model_name": "LayoutModel",
      "state": {}
     },
     "7a0c406f85254877ae1b493f7b10bccd": {
      "model_module": "@jupyter-widgets/controls",
      "model_module_version": "1.5.0",
      "model_name": "FloatSliderModel",
      "state": {
       "description": "sigma",
       "layout": "IPY_MODEL_99e6d8d547d44e299bbc9d3f1d1a0baf",
       "max": 38.47328244274809,
       "min": 1.9236641221374047,
       "step": 0.09618320610687023,
       "style": "IPY_MODEL_77b80c0fe3af49f192b7e1c15b904a10",
       "value": 8.85
      }
     },
     "7b214b903acf46c49880c1395041df5e": {
      "model_module": "@jupyter-widgets/base",
      "model_module_version": "1.2.0",
      "model_name": "LayoutModel",
      "state": {}
     },
     "7b3bf1ff5c714cc2a464118278396251": {
      "model_module": "@jupyter-widgets/controls",
      "model_module_version": "1.5.0",
      "model_name": "HBoxModel",
      "state": {
       "children": [
        "IPY_MODEL_89ea81089b1a44f081b431955bcc4e2e",
        "IPY_MODEL_f2708ba2ecf443359e195b8148aada42",
        "IPY_MODEL_474ba7ae588541f687787039de7f5355"
       ],
       "layout": "IPY_MODEL_15b45024c0384ec8b24909c8063ddbb0"
      }
     },
     "7c500ddcce8f49ed967c2b60a6397ba0": {
      "model_module": "@jupyter-widgets/controls",
      "model_module_version": "1.5.0",
      "model_name": "DescriptionStyleModel",
      "state": {
       "description_width": ""
      }
     },
     "7cbcfd7679274b6299f9c3c837a928d0": {
      "model_module": "@jupyter-widgets/controls",
      "model_module_version": "1.5.0",
      "model_name": "SliderStyleModel",
      "state": {
       "description_width": ""
      }
     },
     "7d8f9ceb8c4d4ef08503e14c4e9f4fa9": {
      "model_module": "@jupyter-widgets/base",
      "model_module_version": "1.2.0",
      "model_name": "LayoutModel",
      "state": {}
     },
     "7e2d8aea3cc44711a9e27b689f60c548": {
      "model_module": "@jupyter-widgets/base",
      "model_module_version": "1.2.0",
      "model_name": "LayoutModel",
      "state": {}
     },
     "7ecf6dbd719d4141b5f21c3d98f76e05": {
      "model_module": "@jupyter-widgets/controls",
      "model_module_version": "1.5.0",
      "model_name": "IntSliderModel",
      "state": {
       "description": "scene_no",
       "layout": "IPY_MODEL_dec8797b0fcc419ca069719b05a60c1f",
       "max": 97,
       "style": "IPY_MODEL_f3707f0febd64ad59b58d91c739f5fa6"
      }
     },
     "7ed696e8d92e4f7cab257d194ab31d67": {
      "model_module": "@jupyter-widgets/base",
      "model_module_version": "1.2.0",
      "model_name": "LayoutModel",
      "state": {}
     },
     "7f663de3130c4e198d7ccc4653204faf": {
      "model_module": "@jupyter-widgets/base",
      "model_module_version": "1.2.0",
      "model_name": "LayoutModel",
      "state": {}
     },
     "80eedae2fed546abbc20952da98e0493": {
      "model_module": "@jupyter-widgets/base",
      "model_module_version": "1.2.0",
      "model_name": "LayoutModel",
      "state": {}
     },
     "8130632f9af349bc9be0df5742b0f622": {
      "model_module": "@jupyter-widgets/controls",
      "model_module_version": "1.5.0",
      "model_name": "DescriptionStyleModel",
      "state": {
       "description_width": ""
      }
     },
     "81c1d1182ac64ca28ee5c5a6629de74a": {
      "model_module": "@jupyter-widgets/controls",
      "model_module_version": "1.5.0",
      "model_name": "ProgressStyleModel",
      "state": {
       "description_width": ""
      }
     },
     "826b3460c822487faee2db673445fd3c": {
      "model_module": "@jupyter-widgets/controls",
      "model_module_version": "1.5.0",
      "model_name": "SliderStyleModel",
      "state": {
       "description_width": ""
      }
     },
     "8351b96731a94aeba578fbc48234daf4": {
      "model_module": "@jupyter-widgets/controls",
      "model_module_version": "1.5.0",
      "model_name": "DropdownModel",
      "state": {
       "_options_labels": [
        "False",
        "True"
       ],
       "description": "fluorescence",
       "index": 0,
       "layout": "IPY_MODEL_378fc3a1e04243599dc239a47189b48f",
       "style": "IPY_MODEL_bed356ba80a14439959330184bf6db28"
      }
     },
     "83af07f1d8ea4ef48d818d203c7cde4f": {
      "model_module": "@jupyter-widgets/controls",
      "model_module_version": "1.5.0",
      "model_name": "DropdownModel",
      "state": {
       "_options_labels": [
        "True",
        "False"
       ],
       "description": "match_histogram",
       "index": 0,
       "layout": "IPY_MODEL_58c4ae64226b4b51abba5205d9d7fa90",
       "style": "IPY_MODEL_ca5a3219b82e4598b43177a2c331e985"
      }
     },
     "840f39cf98f04dc7b745c43aaa14d77f": {
      "model_module": "@jupyter-widgets/controls",
      "model_module_version": "1.5.0",
      "model_name": "SliderStyleModel",
      "state": {
       "description_width": ""
      }
     },
     "8413412b82584866984526b87ecf5010": {
      "model_module": "@jupyter-widgets/controls",
      "model_module_version": "1.5.0",
      "model_name": "DescriptionStyleModel",
      "state": {
       "description_width": ""
      }
     },
     "8442a6aa78ca43678f560e822525b8ae": {
      "model_module": "@jupyter-widgets/base",
      "model_module_version": "1.2.0",
      "model_name": "LayoutModel",
      "state": {}
     },
     "8454b42f808346f9b606a741abf6ab9c": {
      "model_module": "@jupyter-widgets/controls",
      "model_module_version": "1.5.0",
      "model_name": "FloatProgressModel",
      "state": {
       "bar_style": "success",
       "layout": "IPY_MODEL_dddfb45432c24d438920779047277920",
       "max": 98,
       "style": "IPY_MODEL_5db0858daeac473293ba6bc07ceb83f6",
       "value": 98
      }
     },
     "84f9f2e5091246d38fd61881afb801f4": {
      "model_module": "@jupyter-widgets/controls",
      "model_module_version": "1.5.0",
      "model_name": "ProgressStyleModel",
      "state": {
       "description_width": ""
      }
     },
     "851d7cfb110241c4a1ef6fce556aaa56": {
      "model_module": "@jupyter-widgets/controls",
      "model_module_version": "1.5.0",
      "model_name": "DescriptionStyleModel",
      "state": {
       "description_width": ""
      }
     },
     "856c43d1ebbc4de499a3ea4d63b9ab84": {
      "model_module": "@jupyter-widgets/controls",
      "model_module_version": "1.5.0",
      "model_name": "SliderStyleModel",
      "state": {
       "description_width": ""
      }
     },
     "8672a1aa6019499da3fa0bd50fb1cbc9": {
      "model_module": "@jupyter-widgets/controls",
      "model_module_version": "1.5.0",
      "model_name": "DropdownModel",
      "state": {
       "_options_labels": [
        "True",
        "False"
       ],
       "description": "match_histogram",
       "index": 0,
       "layout": "IPY_MODEL_26d70009d1e6462b94eafa89055af23d",
       "style": "IPY_MODEL_e3069df0ceca43bfaa135b2d90a35505"
      }
     },
     "867349c7399144dc9489cdf82ee95a34": {
      "model_module": "@jupyter-widgets/base",
      "model_module_version": "1.2.0",
      "model_name": "LayoutModel",
      "state": {}
     },
     "86ba8ace565641c0bf134abc546c169a": {
      "model_module": "@jupyter-widgets/base",
      "model_module_version": "1.2.0",
      "model_name": "LayoutModel",
      "state": {}
     },
     "8716957bbae24e5faa475eeda24f848e": {
      "model_module": "@jupyter-widgets/base",
      "model_module_version": "1.2.0",
      "model_name": "LayoutModel",
      "state": {}
     },
     "888054b1436143e58952979ec72afc08": {
      "model_module": "@jupyter-widgets/controls",
      "model_module_version": "1.5.0",
      "model_name": "DescriptionStyleModel",
      "state": {
       "description_width": ""
      }
     },
     "88e63c7c204a460483e937d3a0e5da9c": {
      "model_module": "@jupyter-widgets/controls",
      "model_module_version": "1.5.0",
      "model_name": "FloatSliderModel",
      "state": {
       "description": "cell_multiplier",
       "layout": "IPY_MODEL_ee793079a6c4481a9c9549ea862be66d",
       "max": 30,
       "min": -30,
       "step": 0.01,
       "style": "IPY_MODEL_eda156f3dadc45fb898eda20db77805c",
       "value": 1.7
      }
     },
     "89284f3459f24a2587b81d442d082abb": {
      "model_module": "@jupyter-widgets/controls",
      "model_module_version": "1.5.0",
      "model_name": "DescriptionStyleModel",
      "state": {
       "description_width": ""
      }
     },
     "892d832da66447e6a0b250713b3f16f4": {
      "model_module": "@jupyter-widgets/controls",
      "model_module_version": "1.5.0",
      "model_name": "VBoxModel",
      "state": {
       "_dom_classes": [
        "widget-interact"
       ],
       "children": [
        "IPY_MODEL_4a9543862a844a22bf3ebfb06df36814",
        "IPY_MODEL_35b2d218f12f4c0a9213fa9fb20931c3",
        "IPY_MODEL_26c400eb193449638190e4a4039482ca",
        "IPY_MODEL_0b5cfa474ca04a48b9a5f9e2e842e8e4",
        "IPY_MODEL_a11ed1d43f154feb8655fda0dc53fec5",
        "IPY_MODEL_f2250906d20340af918b3f437b8b276a",
        "IPY_MODEL_9f7e26137e5c4a90a7bb5898b2bc35b3",
        "IPY_MODEL_72914b8c50bd4b3bb958a5d177ae052e",
        "IPY_MODEL_6d05559848224219bf2cc4850b91b86a",
        "IPY_MODEL_d63341114f4645649f0d0253f79f1d41",
        "IPY_MODEL_1d3a270ab00b41daab2189d1b9b5df5a",
        "IPY_MODEL_48795dcd358c44fea61a6882cd719708"
       ],
       "layout": "IPY_MODEL_afd28fb18967455e967f0466fd027003"
      }
     },
     "894c38c6b24a4851b69cf8601a3207fe": {
      "model_module": "@jupyter-widgets/controls",
      "model_module_version": "1.5.0",
      "model_name": "DescriptionStyleModel",
      "state": {
       "description_width": ""
      }
     },
     "8959a13d4ee54b4fbf0a87d862fb6969": {
      "model_module": "@jupyter-widgets/controls",
      "model_module_version": "1.5.0",
      "model_name": "IntSliderModel",
      "state": {
       "description": "media_multiplier",
       "layout": "IPY_MODEL_a5b83d71343c456bb5c60a2cd9fde908",
       "max": 300,
       "min": -300,
       "style": "IPY_MODEL_6399a261bc6d48d8bc6e01d6b9d92766",
       "value": 75
      }
     },
     "89ea81089b1a44f081b431955bcc4e2e": {
      "model_module": "@jupyter-widgets/controls",
      "model_module_version": "1.5.0",
      "model_name": "HTMLModel",
      "state": {
       "layout": "IPY_MODEL_a89d2e43ca7f479fb56a269aa2f0e3a3",
       "style": "IPY_MODEL_a9425ba10dcf480a8a677417b4b8ac97",
       "value": "Scene Draw:: 100%"
      }
     },
     "8a85f342cc0a447c868bc571b66ea4f0": {
      "model_module": "@jupyter-widgets/base",
      "model_module_version": "1.2.0",
      "model_name": "LayoutModel",
      "state": {}
     },
     "8bc8e52f03aa427a823b2019dfa32ac9": {
      "model_module": "@jupyter-widgets/controls",
      "model_module_version": "1.5.0",
      "model_name": "SliderStyleModel",
      "state": {
       "description_width": ""
      }
     },
     "8c5672bd19ca42359274ab668cde289d": {
      "model_module": "@jupyter-widgets/base",
      "model_module_version": "1.2.0",
      "model_name": "LayoutModel",
      "state": {}
     },
     "8c5ba0ea16914be8910ba85cd5e022cf": {
      "model_module": "@jupyter-widgets/base",
      "model_module_version": "1.2.0",
      "model_name": "LayoutModel",
      "state": {}
     },
     "8d76f9ed8e1e4ae8b7afb42ab67db4a3": {
      "model_module": "@jupyter-widgets/controls",
      "model_module_version": "1.5.0",
      "model_name": "HTMLModel",
      "state": {
       "layout": "IPY_MODEL_002c3ccf25c54b7db364cb8959e95da2",
       "style": "IPY_MODEL_f2dabac4d38748da9f8d56e9897a2dda",
       "value": "Scene Draw:: 100%"
      }
     },
     "8de3d2ff80124778b8ba9ffbfd525081": {
      "model_module": "@jupyter-widgets/controls",
      "model_module_version": "1.5.0",
      "model_name": "FloatSliderModel",
      "state": {
       "description": "defocus",
       "layout": "IPY_MODEL_68a793a6bcfe48428a8ad73df9bcdacf",
       "max": 20,
       "step": 0.1,
       "style": "IPY_MODEL_4b60568bd1934dac8ed59922d7a371bc",
       "value": 3
      }
     },
     "8dfb1bc1bdfd4c849e1becca46a8385d": {
      "model_module": "@jupyter-widgets/controls",
      "model_module_version": "1.5.0",
      "model_name": "ProgressStyleModel",
      "state": {
       "description_width": ""
      }
     },
     "8e22102b2d0e427d96cfe1bd708e2193": {
      "model_module": "@jupyter-widgets/base",
      "model_module_version": "1.2.0",
      "model_name": "LayoutModel",
      "state": {}
     },
     "8e90270f543b400fa9d429f952af7404": {
      "model_module": "@jupyter-widgets/controls",
      "model_module_version": "1.5.0",
      "model_name": "DescriptionStyleModel",
      "state": {
       "description_width": ""
      }
     },
     "8f4cdf441e004b4bbd6b878a7f01daae": {
      "model_module": "@jupyter-widgets/controls",
      "model_module_version": "1.5.0",
      "model_name": "HTMLModel",
      "state": {
       "layout": "IPY_MODEL_3a3f0bb87ada484abe2fe0598f8a0630",
       "style": "IPY_MODEL_89284f3459f24a2587b81d442d082abb",
       "value": " 300/300 [00:01&lt;00:00, 191.88it/s]"
      }
     },
     "8f844449a51540f182878dd8cc4d65b1": {
      "model_module": "@jupyter-widgets/controls",
      "model_module_version": "1.5.0",
      "model_name": "HTMLModel",
      "state": {
       "layout": "IPY_MODEL_ca8e2f2fdfa44b64bfda74b52abff9b3",
       "style": "IPY_MODEL_d0d0609a24064e9ebde2b5fc38e3a297",
       "value": " 498/498 [00:06&lt;00:00, 66.40it/s]"
      }
     },
     "8fd6f07f99f24261bd538de60046803d": {
      "model_module": "@jupyter-widgets/controls",
      "model_module_version": "1.5.0",
      "model_name": "DropdownModel",
      "state": {
       "_options_labels": [
        "False",
        "True"
       ],
       "description": "fluorescence",
       "index": 0,
       "layout": "IPY_MODEL_1531eb408cb44aa8a220442799dc8185",
       "style": "IPY_MODEL_851d7cfb110241c4a1ef6fce556aaa56"
      }
     },
     "9090faf5126e49be82e9ff74d2580b5e": {
      "model_module": "@jupyter-widgets/base",
      "model_module_version": "1.2.0",
      "model_name": "LayoutModel",
      "state": {}
     },
     "90978fec12d3427c87512c11eb542f71": {
      "model_module": "@jupyter-widgets/base",
      "model_module_version": "1.2.0",
      "model_name": "LayoutModel",
      "state": {}
     },
     "90da0483c3eb4f82a0552cd55be375e2": {
      "model_module": "@jupyter-widgets/base",
      "model_module_version": "1.2.0",
      "model_name": "LayoutModel",
      "state": {}
     },
     "91a5f9a06cab4a64b105e261c8b96251": {
      "model_module": "@jupyter-widgets/controls",
      "model_module_version": "1.5.0",
      "model_name": "DescriptionStyleModel",
      "state": {
       "description_width": ""
      }
     },
     "91b4a64923da4b07aa31a2af074f269e": {
      "model_module": "@jupyter-widgets/controls",
      "model_module_version": "1.5.0",
      "model_name": "DropdownModel",
      "state": {
       "_options_labels": [
        "True",
        "False"
       ],
       "description": "match_fourier",
       "index": 1,
       "layout": "IPY_MODEL_033a741818344248b8bfb70c66d1f22f",
       "style": "IPY_MODEL_fd3375aa719d48fb934decbc09091534"
      }
     },
     "91c59217c64a4ab0aa3d82cfd135f5ab": {
      "model_module": "@jupyter-widgets/controls",
      "model_module_version": "1.5.0",
      "model_name": "SliderStyleModel",
      "state": {
       "description_width": ""
      }
     },
     "9262acbb915a4c76926d17c45f2cf636": {
      "model_module": "@jupyter-widgets/controls",
      "model_module_version": "1.5.0",
      "model_name": "SliderStyleModel",
      "state": {
       "description_width": ""
      }
     },
     "92ef1d42726b407f90e2ae47b6a60794": {
      "model_module": "@jupyter-widgets/controls",
      "model_module_version": "1.5.0",
      "model_name": "HTMLModel",
      "state": {
       "layout": "IPY_MODEL_bffda1a1ac04450b956cadf367f7fc7a",
       "style": "IPY_MODEL_05e1653d3cef43b5b4ba99ef4abd548c",
       "value": " 300/300 [00:02&lt;00:00, 99.09it/s]"
      }
     },
     "930a904f7b5a45e082cea90860d902e4": {
      "model_module": "@jupyter-widgets/base",
      "model_module_version": "1.2.0",
      "model_name": "LayoutModel",
      "state": {}
     },
     "933c6739a61047ca8db23c0abc4fc08e": {
      "model_module": "@jupyter-widgets/base",
      "model_module_version": "1.2.0",
      "model_name": "LayoutModel",
      "state": {}
     },
     "939e661283794482bc4a6b47a3a01033": {
      "model_module": "@jupyter-widgets/controls",
      "model_module_version": "1.5.0",
      "model_name": "HTMLModel",
      "state": {
       "layout": "IPY_MODEL_86ba8ace565641c0bf134abc546c169a",
       "style": "IPY_MODEL_2d7fac37d0e343059d0d8f5d0f3dd072",
       "value": "Timeseries Properties: 100%"
      }
     },
     "94378470cfe5469baf4bc82a53f1cda5": {
      "model_module": "@jupyter-widgets/controls",
      "model_module_version": "1.5.0",
      "model_name": "DescriptionStyleModel",
      "state": {
       "description_width": ""
      }
     },
     "94d167da7bc4438bb4476381d7a14f7f": {
      "model_module": "@jupyter-widgets/controls",
      "model_module_version": "1.5.0",
      "model_name": "SliderStyleModel",
      "state": {
       "description_width": ""
      }
     },
     "95c3865fce20408baf4f3256c1e7e6f4": {
      "model_module": "@jupyter-widgets/controls",
      "model_module_version": "1.5.0",
      "model_name": "HTMLModel",
      "state": {
       "layout": "IPY_MODEL_b8f6b6f2fd744bb8bc24e6ed2e519d10",
       "style": "IPY_MODEL_7c500ddcce8f49ed967c2b60a6397ba0",
       "value": " 98/98 [00:01&lt;00:00, 55.05it/s]"
      }
     },
     "9697b88d6f954d7c88b5bff4976af4b1": {
      "model_module": "@jupyter-widgets/controls",
      "model_module_version": "1.5.0",
      "model_name": "HTMLModel",
      "state": {
       "layout": "IPY_MODEL_7390d434fae24ead922a4962ec37ff6b",
       "style": "IPY_MODEL_23e4c3a4d8f04c4baa5c95ce56f8a817",
       "value": " 300/300 [00:04&lt;00:00, 60.48it/s]"
      }
     },
     "96df197867404985abab04310a394506": {
      "model_module": "@jupyter-widgets/controls",
      "model_module_version": "1.5.0",
      "model_name": "IntSliderModel",
      "state": {
       "description": "scene_no",
       "layout": "IPY_MODEL_b0ed358f77314407b542d7032d73f1a4",
       "max": 497,
       "style": "IPY_MODEL_ca2533a4437c4ab2ac2b496c05972e09"
      }
     },
     "9765f84b6c3d49b085ed16cad792f438": {
      "model_module": "@jupyter-widgets/base",
      "model_module_version": "1.2.0",
      "model_name": "LayoutModel",
      "state": {}
     },
     "980aa23bf9054f9bbbd49867a5b28aba": {
      "model_module": "@jupyter-widgets/controls",
      "model_module_version": "1.5.0",
      "model_name": "VBoxModel",
      "state": {
       "_dom_classes": [
        "widget-interact"
       ],
       "children": [
        "IPY_MODEL_d5283044288843f09a68ef15bae8255a",
        "IPY_MODEL_494fe8b3fd4442c48f5840fa71379ced",
        "IPY_MODEL_9e0a11de1b2b479ab010f8ca927de5a8",
        "IPY_MODEL_99debeae46b14be6b82e53aeda3362a6",
        "IPY_MODEL_f94482525ac0495c9df39b3fef950eb5",
        "IPY_MODEL_409fe5f9fa6144668b42537e394dd59f",
        "IPY_MODEL_83af07f1d8ea4ef48d818d203c7cde4f",
        "IPY_MODEL_de5b55bc42754201b6e0eb4d84c729ee",
        "IPY_MODEL_67f6569013384c709ab3a3d627014c7d",
        "IPY_MODEL_8351b96731a94aeba578fbc48234daf4",
        "IPY_MODEL_8de3d2ff80124778b8ba9ffbfd525081",
        "IPY_MODEL_ebdd827f0f854d1a912b5709bd871fc9"
       ],
       "layout": "IPY_MODEL_ee0406933e7842fb812603d1a653aed2"
      }
     },
     "988292b7f43f41bb8f30db0ae2413355": {
      "model_module": "@jupyter-widgets/base",
      "model_module_version": "1.2.0",
      "model_name": "LayoutModel",
      "state": {}
     },
     "98ac4e5de85b476b9ad45c8ede46049f": {
      "model_module": "@jupyter-widgets/controls",
      "model_module_version": "1.5.0",
      "model_name": "HBoxModel",
      "state": {
       "children": [
        "IPY_MODEL_8d76f9ed8e1e4ae8b7afb42ab67db4a3",
        "IPY_MODEL_3991f06c5d7c4ca892aeb68df6e93b39",
        "IPY_MODEL_ed4f88edbc78406a922522b771aeb710"
       ],
       "layout": "IPY_MODEL_6b4f64741c5046259e583979ccaa6c73"
      }
     },
     "995dda7284d64e54b2cd675e5331f57a": {
      "model_module": "@jupyter-widgets/controls",
      "model_module_version": "1.5.0",
      "model_name": "DescriptionStyleModel",
      "state": {
       "description_width": ""
      }
     },
     "99debeae46b14be6b82e53aeda3362a6": {
      "model_module": "@jupyter-widgets/controls",
      "model_module_version": "1.5.0",
      "model_name": "FloatSliderModel",
      "state": {
       "description": "sigma",
       "layout": "IPY_MODEL_dab79eeb024e4a35a40f106229ecfe7d",
       "max": 19.236641221374047,
       "min": 0.9618320610687023,
       "step": 0.048091603053435114,
       "style": "IPY_MODEL_a26b3fd6cfe34534b91991abcc40dccb",
       "value": 8.85
      }
     },
     "99e6d8d547d44e299bbc9d3f1d1a0baf": {
      "model_module": "@jupyter-widgets/base",
      "model_module_version": "1.2.0",
      "model_name": "LayoutModel",
      "state": {}
     },
     "9a82802d6806425498f327409d470e46": {
      "model_module": "@jupyter-widgets/base",
      "model_module_version": "1.2.0",
      "model_name": "LayoutModel",
      "state": {}
     },
     "9b24cf084da346bfa17756cb1fc6563e": {
      "model_module": "@jupyter-widgets/controls",
      "model_module_version": "1.5.0",
      "model_name": "HBoxModel",
      "state": {
       "children": [
        "IPY_MODEL_3df246c6095145e8bb57f7eae5de0d89",
        "IPY_MODEL_b326ea8be7c24b358631829d010a1c8b",
        "IPY_MODEL_685330cb9e2e41ec8458a8868c60bd19"
       ],
       "layout": "IPY_MODEL_42570b3b84ed4ea0aa95c080a05a1d07"
      }
     },
     "9b35e157960a46a5864cd22f4cd588f8": {
      "model_module": "@jupyter-widgets/controls",
      "model_module_version": "1.5.0",
      "model_name": "DescriptionStyleModel",
      "state": {
       "description_width": ""
      }
     },
     "9bcea4d256754bf5bfd2741b333912e2": {
      "model_module": "@jupyter-widgets/controls",
      "model_module_version": "1.5.0",
      "model_name": "DescriptionStyleModel",
      "state": {
       "description_width": ""
      }
     },
     "9cb1a2893acc4b93b7a4594c17da6dec": {
      "model_module": "@jupyter-widgets/controls",
      "model_module_version": "1.5.0",
      "model_name": "IntSliderModel",
      "state": {
       "description": "scene_no",
       "layout": "IPY_MODEL_a74451945b82401fa70bb26ec74fdecd",
       "max": 97,
       "style": "IPY_MODEL_0eec2773cd584d3681d32aaca3380f8d"
      }
     },
     "9cfcc5106674497d94e702719bdae5c4": {
      "model_module": "@jupyter-widgets/base",
      "model_module_version": "1.2.0",
      "model_name": "LayoutModel",
      "state": {}
     },
     "9d39bddfcf804aceb70d94274de69967": {
      "model_module": "@jupyter-widgets/controls",
      "model_module_version": "1.5.0",
      "model_name": "FloatProgressModel",
      "state": {
       "bar_style": "success",
       "layout": "IPY_MODEL_5d48d30219f0421295d9afcc40724784",
       "max": 300,
       "style": "IPY_MODEL_fc7a88d2eeeb4d12a278a48e4e069b5f",
       "value": 300
      }
     },
     "9e0a11de1b2b479ab010f8ca927de5a8": {
      "model_module": "@jupyter-widgets/controls",
      "model_module_version": "1.5.0",
      "model_name": "IntSliderModel",
      "state": {
       "description": "device_multiplier",
       "layout": "IPY_MODEL_dbef43c34d504108879d640d739e523c",
       "max": 300,
       "min": -300,
       "style": "IPY_MODEL_28e9fbac6ca3420e895734d10cba80cf",
       "value": 29
      }
     },
     "9ecbd2f46fc34d3d919907abecf882b2": {
      "model_module": "@jupyter-widgets/base",
      "model_module_version": "1.2.0",
      "model_name": "LayoutModel",
      "state": {}
     },
     "9f7e26137e5c4a90a7bb5898b2bc35b3": {
      "model_module": "@jupyter-widgets/controls",
      "model_module_version": "1.5.0",
      "model_name": "DropdownModel",
      "state": {
       "_options_labels": [
        "True",
        "False"
       ],
       "description": "match_histogram",
       "index": 0,
       "layout": "IPY_MODEL_a764bb487fc44bc38c6e86138ef01d83",
       "style": "IPY_MODEL_e113ffc2d8b14b0ca308a41b0fb8dfdf"
      }
     },
     "9f923cb4b2ad4f82b4c74826c52f8ac9": {
      "model_module": "@jupyter-widgets/controls",
      "model_module_version": "1.5.0",
      "model_name": "SliderStyleModel",
      "state": {
       "description_width": ""
      }
     },
     "9fd3ff7a3e4942eeb6034819984ebecd": {
      "model_module": "@jupyter-widgets/controls",
      "model_module_version": "1.5.0",
      "model_name": "FloatProgressModel",
      "state": {
       "bar_style": "success",
       "layout": "IPY_MODEL_484e8f56174c4e88b1b53cf7f8e38b0a",
       "max": 498,
       "style": "IPY_MODEL_fb44256d4c044c2eb0c6313658498b28",
       "value": 498
      }
     },
     "a02aeceb105948c49a6ac75eda56aea3": {
      "model_module": "@jupyter-widgets/controls",
      "model_module_version": "1.5.0",
      "model_name": "DescriptionStyleModel",
      "state": {
       "description_width": ""
      }
     },
     "a0fda7ba7abc41ee920a02d03d5fe362": {
      "model_module": "@jupyter-widgets/base",
      "model_module_version": "1.2.0",
      "model_name": "LayoutModel",
      "state": {}
     },
     "a11ed1d43f154feb8655fda0dc53fec5": {
      "model_module": "@jupyter-widgets/controls",
      "model_module_version": "1.5.0",
      "model_name": "IntSliderModel",
      "state": {
       "description": "scene_no",
       "layout": "IPY_MODEL_ced0028c935c48c38ebee04e387d98fe",
       "max": 97,
       "style": "IPY_MODEL_4ce093dce197491b8967df14bae1675a"
      }
     },
     "a182ac3c0ae64d28be071cc7c35e00cd": {
      "model_module": "@jupyter-widgets/controls",
      "model_module_version": "1.5.0",
      "model_name": "DescriptionStyleModel",
      "state": {
       "description_width": ""
      }
     },
     "a26b3fd6cfe34534b91991abcc40dccb": {
      "model_module": "@jupyter-widgets/controls",
      "model_module_version": "1.5.0",
      "model_name": "SliderStyleModel",
      "state": {
       "description_width": ""
      }
     },
     "a2a53cffa76c427b946516cbbb61323a": {
      "model_module": "@jupyter-widgets/base",
      "model_module_version": "1.2.0",
      "model_name": "LayoutModel",
      "state": {}
     },
     "a34fb3e8d7ab49bdbf1a2dd41c6179fa": {
      "model_module": "@jupyter-widgets/controls",
      "model_module_version": "1.5.0",
      "model_name": "ProgressStyleModel",
      "state": {
       "description_width": ""
      }
     },
     "a49c50b0102241688116a33ffb1cc7c5": {
      "model_module": "@jupyter-widgets/base",
      "model_module_version": "1.2.0",
      "model_name": "LayoutModel",
      "state": {}
     },
     "a5b83d71343c456bb5c60a2cd9fde908": {
      "model_module": "@jupyter-widgets/base",
      "model_module_version": "1.2.0",
      "model_name": "LayoutModel",
      "state": {}
     },
     "a6de7cb392c8437f902432443d710d36": {
      "model_module": "@jupyter-widgets/controls",
      "model_module_version": "1.5.0",
      "model_name": "DropdownModel",
      "state": {
       "_options_labels": [
        "False",
        "True"
       ],
       "description": "fluorescence",
       "index": 0,
       "layout": "IPY_MODEL_933c6739a61047ca8db23c0abc4fc08e",
       "style": "IPY_MODEL_de1a423ab9ad48bcbf66b93ff819761b"
      }
     },
     "a6eec2382021457199d2edd41f5c1e17": {
      "model_module": "@jupyter-widgets/controls",
      "model_module_version": "1.5.0",
      "model_name": "IntSliderModel",
      "state": {
       "description": "scene_no",
       "layout": "IPY_MODEL_80eedae2fed546abbc20952da98e0493",
       "max": 299,
       "style": "IPY_MODEL_dab4a24d0dfe4cdcb71d6f66cac56843"
      }
     },
     "a74048a6ec90488fafe3b3bbe65637ff": {
      "model_module": "@jupyter-widgets/output",
      "model_module_version": "1.0.0",
      "model_name": "OutputModel",
      "state": {
       "layout": "IPY_MODEL_36b46bb4f3c144238c5a59cfd48f770e"
      }
     },
     "a74451945b82401fa70bb26ec74fdecd": {
      "model_module": "@jupyter-widgets/base",
      "model_module_version": "1.2.0",
      "model_name": "LayoutModel",
      "state": {}
     },
     "a764bb487fc44bc38c6e86138ef01d83": {
      "model_module": "@jupyter-widgets/base",
      "model_module_version": "1.2.0",
      "model_name": "LayoutModel",
      "state": {}
     },
     "a782d2aa27ec47d58de47faef99c827b": {
      "model_module": "@jupyter-widgets/base",
      "model_module_version": "1.2.0",
      "model_name": "LayoutModel",
      "state": {}
     },
     "a89d2e43ca7f479fb56a269aa2f0e3a3": {
      "model_module": "@jupyter-widgets/base",
      "model_module_version": "1.2.0",
      "model_name": "LayoutModel",
      "state": {}
     },
     "a9395ec740614148bab2a43f1ca34cf7": {
      "model_module": "@jupyter-widgets/controls",
      "model_module_version": "1.5.0",
      "model_name": "DescriptionStyleModel",
      "state": {
       "description_width": ""
      }
     },
     "a9425ba10dcf480a8a677417b4b8ac97": {
      "model_module": "@jupyter-widgets/controls",
      "model_module_version": "1.5.0",
      "model_name": "DescriptionStyleModel",
      "state": {
       "description_width": ""
      }
     },
     "a94bf54e5d5d47c48fa3bbe03bfcad19": {
      "model_module": "@jupyter-widgets/controls",
      "model_module_version": "1.5.0",
      "model_name": "HTMLModel",
      "state": {
       "layout": "IPY_MODEL_4b04f9e323984b71b679719d1c6e9bbd",
       "style": "IPY_MODEL_5911afffaa4d4df18f97ce2aded46827",
       "value": " 300/300 [00:03&lt;00:00, 94.86it/s]"
      }
     },
     "a97f46b723774aaba53d571070a84071": {
      "model_module": "@jupyter-widgets/controls",
      "model_module_version": "1.5.0",
      "model_name": "IntSliderModel",
      "state": {
       "description": "media_multiplier",
       "layout": "IPY_MODEL_26466dde315248f9a0ba0a2ed72bf34a",
       "max": 300,
       "min": -300,
       "style": "IPY_MODEL_45fdeb971a06452989233d3c26ebd3fc",
       "value": 75
      }
     },
     "a9e0c63111a342c89cb6204d36d6b05e": {
      "model_module": "@jupyter-widgets/controls",
      "model_module_version": "1.5.0",
      "model_name": "VBoxModel",
      "state": {
       "_dom_classes": [
        "widget-interact"
       ],
       "children": [
        "IPY_MODEL_af53640678744926a8b006df9b3779bc",
        "IPY_MODEL_1d0a57504e36461aa77a0ead7408306e",
        "IPY_MODEL_c4ed1d128f2f479a84d3f02b933ba587",
        "IPY_MODEL_7a0c406f85254877ae1b493f7b10bccd",
        "IPY_MODEL_9cb1a2893acc4b93b7a4594c17da6dec",
        "IPY_MODEL_069f2292e8c44de38cfe175b672f3fb1",
        "IPY_MODEL_04656562e459451b841f58e38f25c77d",
        "IPY_MODEL_e4d477d3e9684d78b62dbf35af374a58",
        "IPY_MODEL_4dc8ced866504734bccfd6ff1201d1b4",
        "IPY_MODEL_56b27885ad924fce8405a16954204349",
        "IPY_MODEL_ebe221eae5d5493bad5c9a79530b3cf4",
        "IPY_MODEL_fd7ad955af74412ebaa73d224596039f"
       ],
       "layout": "IPY_MODEL_68e651c8e0154e7eb93494ef5b493a6c"
      }
     },
     "a9e3f67109564242975de958ac6aef50": {
      "model_module": "@jupyter-widgets/base",
      "model_module_version": "1.2.0",
      "model_name": "LayoutModel",
      "state": {}
     },
     "aa11d73b5fc14c51941d89735a3e2661": {
      "model_module": "@jupyter-widgets/controls",
      "model_module_version": "1.5.0",
      "model_name": "VBoxModel",
      "state": {
       "_dom_classes": [
        "widget-interact"
       ],
       "children": [
        "IPY_MODEL_8959a13d4ee54b4fbf0a87d862fb6969",
        "IPY_MODEL_375b6b6309db434786dc1038fe772459",
        "IPY_MODEL_6af15dea16314db4b25338cca849a065",
        "IPY_MODEL_28aa79c9d89645caa790cd2567e3a61d",
        "IPY_MODEL_4511985e81584ea5aacd11c9b39daa24",
        "IPY_MODEL_91b4a64923da4b07aa31a2af074f269e",
        "IPY_MODEL_bc16ca4c393f42cb9a8de803c311c546",
        "IPY_MODEL_5588d10765e34474ac013eaafc8d0058",
        "IPY_MODEL_df523e57ec65490cb32b8d9ba1d40df2",
        "IPY_MODEL_68579bbd908a4b4f9f2bac371027acfa",
        "IPY_MODEL_c582a2e6bea14215b9e39c7237ef41f7",
        "IPY_MODEL_2b7f12e0e2ae48e9bd8f5ae387ec828a"
       ],
       "layout": "IPY_MODEL_5753d9bb408f4f808a0f3d59e3f5910d"
      }
     },
     "aa7b551194894d44be80fd9c553db4c4": {
      "model_module": "@jupyter-widgets/base",
      "model_module_version": "1.2.0",
      "model_name": "LayoutModel",
      "state": {}
     },
     "aaeae88eeafa4d1c8559561e54c8812c": {
      "model_module": "@jupyter-widgets/controls",
      "model_module_version": "1.5.0",
      "model_name": "SliderStyleModel",
      "state": {
       "description_width": ""
      }
     },
     "ab08fd218cfb4d19adeb06dfde7dc012": {
      "model_module": "@jupyter-widgets/base",
      "model_module_version": "1.2.0",
      "model_name": "LayoutModel",
      "state": {}
     },
     "ab4cd3d6506d48f7b3eed18b1bd8996b": {
      "model_module": "@jupyter-widgets/base",
      "model_module_version": "1.2.0",
      "model_name": "LayoutModel",
      "state": {}
     },
     "abaaec9d5b8a4d47ba94170cd2bcb238": {
      "model_module": "@jupyter-widgets/base",
      "model_module_version": "1.2.0",
      "model_name": "LayoutModel",
      "state": {}
     },
     "af53640678744926a8b006df9b3779bc": {
      "model_module": "@jupyter-widgets/controls",
      "model_module_version": "1.5.0",
      "model_name": "IntSliderModel",
      "state": {
       "description": "media_multiplier",
       "layout": "IPY_MODEL_45daabbf78f04f639c4690b51d86c356",
       "max": 300,
       "min": -300,
       "style": "IPY_MODEL_10385e9114824bf4b7a1063541a1f95a",
       "value": 75
      }
     },
     "afaf6bf5f0864ad38a27f1887a1409de": {
      "model_module": "@jupyter-widgets/controls",
      "model_module_version": "1.5.0",
      "model_name": "HTMLModel",
      "state": {
       "layout": "IPY_MODEL_7d8f9ceb8c4d4ef08503e14c4e9f4fa9",
       "style": "IPY_MODEL_6eb1077869b645b19aa550f93f82ac28",
       "value": "Timeseries Properties: 100%"
      }
     },
     "afb83ebd27e8480db80c79f245ab94fd": {
      "model_module": "@jupyter-widgets/base",
      "model_module_version": "1.2.0",
      "model_name": "LayoutModel",
      "state": {}
     },
     "afd28fb18967455e967f0466fd027003": {
      "model_module": "@jupyter-widgets/base",
      "model_module_version": "1.2.0",
      "model_name": "LayoutModel",
      "state": {}
     },
     "affacdae0093430e8682e0e56626518e": {
      "model_module": "@jupyter-widgets/controls",
      "model_module_version": "1.5.0",
      "model_name": "IntSliderModel",
      "state": {
       "description": "media_multiplier",
       "layout": "IPY_MODEL_e0ebc40f11a24e2e8cb92ade1f7b0e00",
       "max": 300,
       "min": -300,
       "style": "IPY_MODEL_fa63dad8c3d34c55934c13a7016bcc56",
       "value": 75
      }
     },
     "b0ed358f77314407b542d7032d73f1a4": {
      "model_module": "@jupyter-widgets/base",
      "model_module_version": "1.2.0",
      "model_name": "LayoutModel",
      "state": {}
     },
     "b21a8dc8fd0240808cab7e9ff460d46b": {
      "model_module": "@jupyter-widgets/controls",
      "model_module_version": "1.5.0",
      "model_name": "SliderStyleModel",
      "state": {
       "description_width": ""
      }
     },
     "b2c3c72c2998490e8ffcf228a20497f7": {
      "model_module": "@jupyter-widgets/base",
      "model_module_version": "1.2.0",
      "model_name": "LayoutModel",
      "state": {}
     },
     "b326ea8be7c24b358631829d010a1c8b": {
      "model_module": "@jupyter-widgets/controls",
      "model_module_version": "1.5.0",
      "model_name": "FloatProgressModel",
      "state": {
       "bar_style": "success",
       "layout": "IPY_MODEL_b93a6de59a44451ba2c4c2e94dead399",
       "max": 300,
       "style": "IPY_MODEL_8dfb1bc1bdfd4c849e1becca46a8385d",
       "value": 300
      }
     },
     "b335db8278f74be2a463cceb750865eb": {
      "model_module": "@jupyter-widgets/base",
      "model_module_version": "1.2.0",
      "model_name": "LayoutModel",
      "state": {}
     },
     "b51f0cb18d42483b9d48dffc1f2dee5d": {
      "model_module": "@jupyter-widgets/controls",
      "model_module_version": "1.5.0",
      "model_name": "FloatSliderModel",
      "state": {
       "description": "cell_multiplier",
       "layout": "IPY_MODEL_5232670626ec4d81a4fdf4152f66406f",
       "max": 30,
       "min": -30,
       "step": 0.01,
       "style": "IPY_MODEL_826b3460c822487faee2db673445fd3c",
       "value": 1.7
      }
     },
     "b5afc82780f344608ae5d395b16b466d": {
      "model_module": "@jupyter-widgets/base",
      "model_module_version": "1.2.0",
      "model_name": "LayoutModel",
      "state": {}
     },
     "b5d09cd34a9b4236bcca0a128a8939e0": {
      "model_module": "@jupyter-widgets/base",
      "model_module_version": "1.2.0",
      "model_name": "LayoutModel",
      "state": {}
     },
     "b6b28bc0660d4ccfa93c159908d42c03": {
      "model_module": "@jupyter-widgets/controls",
      "model_module_version": "1.5.0",
      "model_name": "DropdownModel",
      "state": {
       "_options_labels": [
        "True",
        "False"
       ],
       "description": "match_noise",
       "index": 1,
       "layout": "IPY_MODEL_0daf2072190a48d1862a1a5fe24c6cf8",
       "style": "IPY_MODEL_0c25d28e811f4f039018e8c20adb42f0"
      }
     },
     "b6e510d13f8d45a6ac72a63eb1267b1e": {
      "model_module": "@jupyter-widgets/controls",
      "model_module_version": "1.5.0",
      "model_name": "HBoxModel",
      "state": {
       "children": [
        "IPY_MODEL_afaf6bf5f0864ad38a27f1887a1409de",
        "IPY_MODEL_32477e70e42f45128935e24e8e0ea1bf",
        "IPY_MODEL_bc77913e5a784f11b8b1e01acd970c41"
       ],
       "layout": "IPY_MODEL_12618ce2ab854d20b7b1378540be9945"
      }
     },
     "b766768779b4455c8f4a4727d3a5bc79": {
      "model_module": "@jupyter-widgets/controls",
      "model_module_version": "1.5.0",
      "model_name": "HTMLModel",
      "state": {
       "layout": "IPY_MODEL_7ed696e8d92e4f7cab257d194ab31d67",
       "style": "IPY_MODEL_15abd263ed6d40bf935616c5f901bc2d",
       "value": "Timeseries Properties: 100%"
      }
     },
     "b823d5e55bc24f2b8e46d2e2b4814d58": {
      "model_module": "@jupyter-widgets/controls",
      "model_module_version": "1.5.0",
      "model_name": "DropdownModel",
      "state": {
       "_options_labels": [
        "True",
        "False"
       ],
       "description": "match_histogram",
       "index": 0,
       "layout": "IPY_MODEL_6723ef474a3d40218e15dcf2586fefaf",
       "style": "IPY_MODEL_ca348ec8c52c4c389df86d385bfefffe"
      }
     },
     "b8f6b6f2fd744bb8bc24e6ed2e519d10": {
      "model_module": "@jupyter-widgets/base",
      "model_module_version": "1.2.0",
      "model_name": "LayoutModel",
      "state": {}
     },
     "b93a6de59a44451ba2c4c2e94dead399": {
      "model_module": "@jupyter-widgets/base",
      "model_module_version": "1.2.0",
      "model_name": "LayoutModel",
      "state": {}
     },
     "ba0292970bcf40c7bcff6d7c161d1f3a": {
      "model_module": "@jupyter-widgets/controls",
      "model_module_version": "1.5.0",
      "model_name": "DescriptionStyleModel",
      "state": {
       "description_width": ""
      }
     },
     "bb2fb4ecc58f42e2bf7d73d3bc27789f": {
      "model_module": "@jupyter-widgets/controls",
      "model_module_version": "1.5.0",
      "model_name": "FloatSliderModel",
      "state": {
       "description": "defocus",
       "layout": "IPY_MODEL_63d437d33c3d4466ad038c229fa142dd",
       "max": 20,
       "step": 0.1,
       "style": "IPY_MODEL_9f923cb4b2ad4f82b4c74826c52f8ac9",
       "value": 3
      }
     },
     "bbe62e3b0fbb48f3befd3b6dd48aabd2": {
      "model_module": "@jupyter-widgets/controls",
      "model_module_version": "1.5.0",
      "model_name": "FloatProgressModel",
      "state": {
       "bar_style": "success",
       "layout": "IPY_MODEL_428a2b8d1de440e186366627b9e864f9",
       "max": 498,
       "style": "IPY_MODEL_a34fb3e8d7ab49bdbf1a2dd41c6179fa",
       "value": 498
      }
     },
     "bc16ca4c393f42cb9a8de803c311c546": {
      "model_module": "@jupyter-widgets/controls",
      "model_module_version": "1.5.0",
      "model_name": "DropdownModel",
      "state": {
       "_options_labels": [
        "True",
        "False"
       ],
       "description": "match_histogram",
       "index": 0,
       "layout": "IPY_MODEL_9cfcc5106674497d94e702719bdae5c4",
       "style": "IPY_MODEL_f637ce891497469a8af78f911391fbe5"
      }
     },
     "bc77913e5a784f11b8b1e01acd970c41": {
      "model_module": "@jupyter-widgets/controls",
      "model_module_version": "1.5.0",
      "model_name": "HTMLModel",
      "state": {
       "layout": "IPY_MODEL_e24aac01b4034cf98fc41f8fd96172dd",
       "style": "IPY_MODEL_48530cfabd2e401ab7a7fe0e3951d7d5",
       "value": " 98/98 [00:02&lt;00:00, 70.27it/s]"
      }
     },
     "bd7f6ac32c654d929b4efdf64c3cc82a": {
      "model_module": "@jupyter-widgets/base",
      "model_module_version": "1.2.0",
      "model_name": "LayoutModel",
      "state": {}
     },
     "be31e0c724324c81a582460ef86840b3": {
      "model_module": "@jupyter-widgets/base",
      "model_module_version": "1.2.0",
      "model_name": "LayoutModel",
      "state": {}
     },
     "bed356ba80a14439959330184bf6db28": {
      "model_module": "@jupyter-widgets/controls",
      "model_module_version": "1.5.0",
      "model_name": "DescriptionStyleModel",
      "state": {
       "description_width": ""
      }
     },
     "bffda1a1ac04450b956cadf367f7fc7a": {
      "model_module": "@jupyter-widgets/base",
      "model_module_version": "1.2.0",
      "model_name": "LayoutModel",
      "state": {}
     },
     "c056d92c7864403fb19315d85d68dd20": {
      "model_module": "@jupyter-widgets/base",
      "model_module_version": "1.2.0",
      "model_name": "LayoutModel",
      "state": {}
     },
     "c16c307024e245e398a781388851c80b": {
      "model_module": "@jupyter-widgets/base",
      "model_module_version": "1.2.0",
      "model_name": "LayoutModel",
      "state": {}
     },
     "c1d2cc7f42b640b4bd6dd3ef964d6dd8": {
      "model_module": "@jupyter-widgets/controls",
      "model_module_version": "1.5.0",
      "model_name": "SliderStyleModel",
      "state": {
       "description_width": ""
      }
     },
     "c1f4588424d84c40bf1229d3186eca35": {
      "model_module": "@jupyter-widgets/controls",
      "model_module_version": "1.5.0",
      "model_name": "ProgressStyleModel",
      "state": {
       "description_width": ""
      }
     },
     "c2ab759c792941cdb26bf4db0a2ba376": {
      "model_module": "@jupyter-widgets/base",
      "model_module_version": "1.2.0",
      "model_name": "LayoutModel",
      "state": {}
     },
     "c2b0016a1db44e41b2415c909684bb6b": {
      "model_module": "@jupyter-widgets/controls",
      "model_module_version": "1.5.0",
      "model_name": "DropdownModel",
      "state": {
       "_options_labels": [
        "False",
        "True"
       ],
       "description": "fluorescence",
       "index": 0,
       "layout": "IPY_MODEL_217570b9794e4791a634eee27e12bac6",
       "style": "IPY_MODEL_ed28129fb85e48f8ba814f4bc9bdb5db"
      }
     },
     "c33abe52cc2d41efba833e7e4247665b": {
      "model_module": "@jupyter-widgets/controls",
      "model_module_version": "1.5.0",
      "model_name": "SliderStyleModel",
      "state": {
       "description_width": ""
      }
     },
     "c43d8c0ad08e437898cd2ec69d723602": {
      "model_module": "@jupyter-widgets/base",
      "model_module_version": "1.2.0",
      "model_name": "LayoutModel",
      "state": {}
     },
     "c4ed1d128f2f479a84d3f02b933ba587": {
      "model_module": "@jupyter-widgets/controls",
      "model_module_version": "1.5.0",
      "model_name": "IntSliderModel",
      "state": {
       "description": "device_multiplier",
       "layout": "IPY_MODEL_3a61fd4e430640a4b17f814e8477b778",
       "max": 300,
       "min": -300,
       "style": "IPY_MODEL_7cbcfd7679274b6299f9c3c837a928d0",
       "value": 29
      }
     },
     "c4edc53eb7c1477fa11a2a316290eb63": {
      "model_module": "@jupyter-widgets/base",
      "model_module_version": "1.2.0",
      "model_name": "LayoutModel",
      "state": {}
     },
     "c4fa12db40f74993a0e9619207c57322": {
      "model_module": "@jupyter-widgets/base",
      "model_module_version": "1.2.0",
      "model_name": "LayoutModel",
      "state": {}
     },
     "c5689633df2b42a8b1e13cec559a1b64": {
      "model_module": "@jupyter-widgets/controls",
      "model_module_version": "1.5.0",
      "model_name": "HTMLModel",
      "state": {
       "layout": "IPY_MODEL_66c8aee2627b45f0be8cc3fd5f40574c",
       "style": "IPY_MODEL_ec3a1f35a74548b88cb81f566e1002b8",
       "value": " 98/98 [00:00&lt;00:00, 124.54it/s]"
      }
     },
     "c582a2e6bea14215b9e39c7237ef41f7": {
      "model_module": "@jupyter-widgets/controls",
      "model_module_version": "1.5.0",
      "model_name": "FloatSliderModel",
      "state": {
       "description": "defocus",
       "layout": "IPY_MODEL_2a4ac04e29094b0fac10ebb358bdbf37",
       "max": 20,
       "step": 0.1,
       "style": "IPY_MODEL_1c2b705f95444050926219a66f80aa99",
       "value": 3
      }
     },
     "c5dcf60443ca4a878e165f966e79c683": {
      "model_module": "@jupyter-widgets/base",
      "model_module_version": "1.2.0",
      "model_name": "LayoutModel",
      "state": {}
     },
     "c6577c9abb574cb1b89d17ccf960e279": {
      "model_module": "@jupyter-widgets/controls",
      "model_module_version": "1.5.0",
      "model_name": "FloatProgressModel",
      "state": {
       "bar_style": "success",
       "layout": "IPY_MODEL_f964e566cb8641a9846dde0df759ca7e",
       "max": 98,
       "style": "IPY_MODEL_f1da0b21d4484f7286286b9aca5cf00f",
       "value": 98
      }
     },
     "c6e5cfd0603945f6ab16bfb25132e881": {
      "model_module": "@jupyter-widgets/base",
      "model_module_version": "1.2.0",
      "model_name": "LayoutModel",
      "state": {}
     },
     "c6f947046a284499b3bb071d0697da38": {
      "model_module": "@jupyter-widgets/controls",
      "model_module_version": "1.5.0",
      "model_name": "DropdownModel",
      "state": {
       "_options_labels": [
        "True",
        "False"
       ],
       "description": "match_histogram",
       "index": 0,
       "layout": "IPY_MODEL_be31e0c724324c81a582460ef86840b3",
       "style": "IPY_MODEL_4d9d817ca5864966b3de1a6da63560a9"
      }
     },
     "c91aa811bdab4c0395d5185363868cc0": {
      "model_module": "@jupyter-widgets/controls",
      "model_module_version": "1.5.0",
      "model_name": "DescriptionStyleModel",
      "state": {
       "description_width": ""
      }
     },
     "c98209754cea4090a834d128d974ab52": {
      "model_module": "@jupyter-widgets/base",
      "model_module_version": "1.2.0",
      "model_name": "LayoutModel",
      "state": {}
     },
     "ca2533a4437c4ab2ac2b496c05972e09": {
      "model_module": "@jupyter-widgets/controls",
      "model_module_version": "1.5.0",
      "model_name": "SliderStyleModel",
      "state": {
       "description_width": ""
      }
     },
     "ca348ec8c52c4c389df86d385bfefffe": {
      "model_module": "@jupyter-widgets/controls",
      "model_module_version": "1.5.0",
      "model_name": "DescriptionStyleModel",
      "state": {
       "description_width": ""
      }
     },
     "ca5a3219b82e4598b43177a2c331e985": {
      "model_module": "@jupyter-widgets/controls",
      "model_module_version": "1.5.0",
      "model_name": "DescriptionStyleModel",
      "state": {
       "description_width": ""
      }
     },
     "ca8e2f2fdfa44b64bfda74b52abff9b3": {
      "model_module": "@jupyter-widgets/base",
      "model_module_version": "1.2.0",
      "model_name": "LayoutModel",
      "state": {}
     },
     "ca8f27bee2d84017b246ba59f1b6bc81": {
      "model_module": "@jupyter-widgets/controls",
      "model_module_version": "1.5.0",
      "model_name": "DropdownModel",
      "state": {
       "_options_labels": [
        "True",
        "False"
       ],
       "description": "match_histogram",
       "index": 0,
       "layout": "IPY_MODEL_11518152e4094700bae2fa5f3b387264",
       "style": "IPY_MODEL_8e90270f543b400fa9d429f952af7404"
      }
     },
     "cab03558c34b42eba7bdfe6cec7f8b96": {
      "model_module": "@jupyter-widgets/base",
      "model_module_version": "1.2.0",
      "model_name": "LayoutModel",
      "state": {}
     },
     "cad91cdf1ff541d7905ab8134a2c3808": {
      "model_module": "@jupyter-widgets/controls",
      "model_module_version": "1.5.0",
      "model_name": "SliderStyleModel",
      "state": {
       "description_width": ""
      }
     },
     "caf2a9e469e64251afb0a8a7549e9ffd": {
      "model_module": "@jupyter-widgets/base",
      "model_module_version": "1.2.0",
      "model_name": "LayoutModel",
      "state": {}
     },
     "cbfb5baab31647dca262d4e0d56ae94c": {
      "model_module": "@jupyter-widgets/controls",
      "model_module_version": "1.5.0",
      "model_name": "FloatProgressModel",
      "state": {
       "bar_style": "success",
       "layout": "IPY_MODEL_8c5ba0ea16914be8910ba85cd5e022cf",
       "max": 98,
       "style": "IPY_MODEL_0713d6fb678b45fe8036857d5f6bfa51",
       "value": 98
      }
     },
     "cc62e81178b84d418dc74b6c25aa74cc": {
      "model_module": "@jupyter-widgets/controls",
      "model_module_version": "1.5.0",
      "model_name": "FloatSliderModel",
      "state": {
       "description": "cell_multiplier",
       "layout": "IPY_MODEL_e261ac48a4114b34afddbc34adde575f",
       "max": 30,
       "min": -30,
       "step": 0.01,
       "style": "IPY_MODEL_1d512cbccbf1499b8e8773fe044f197c",
       "value": 1.7
      }
     },
     "cc7c18c65996443290a4fb2d793fcb5f": {
      "model_module": "@jupyter-widgets/controls",
      "model_module_version": "1.5.0",
      "model_name": "DropdownModel",
      "state": {
       "_options_labels": [
        "True",
        "False"
       ],
       "description": "match_fourier",
       "index": 1,
       "layout": "IPY_MODEL_8442a6aa78ca43678f560e822525b8ae",
       "style": "IPY_MODEL_e32516801cdb4bd48b09c651dee1a953"
      }
     },
     "ccfbd44b4e1e4ba99030cedc3b69cd8f": {
      "model_module": "@jupyter-widgets/base",
      "model_module_version": "1.2.0",
      "model_name": "LayoutModel",
      "state": {}
     },
     "ccfc87b06b254279b8e415d7eec8d654": {
      "model_module": "@jupyter-widgets/base",
      "model_module_version": "1.2.0",
      "model_name": "LayoutModel",
      "state": {}
     },
     "cd96be53940a429e8548fd9bb84ff246": {
      "model_module": "@jupyter-widgets/controls",
      "model_module_version": "1.5.0",
      "model_name": "SliderStyleModel",
      "state": {
       "description_width": ""
      }
     },
     "ce3ce096125044ccbe3f0753499340af": {
      "model_module": "@jupyter-widgets/controls",
      "model_module_version": "1.5.0",
      "model_name": "SliderStyleModel",
      "state": {
       "description_width": ""
      }
     },
     "ce4cf13016764023aa0d628b13e8db2f": {
      "model_module": "@jupyter-widgets/controls",
      "model_module_version": "1.5.0",
      "model_name": "SliderStyleModel",
      "state": {
       "description_width": ""
      }
     },
     "ced0028c935c48c38ebee04e387d98fe": {
      "model_module": "@jupyter-widgets/base",
      "model_module_version": "1.2.0",
      "model_name": "LayoutModel",
      "state": {}
     },
     "cfe35977912b4c47912b486e827d7ae9": {
      "model_module": "@jupyter-widgets/controls",
      "model_module_version": "1.5.0",
      "model_name": "DescriptionStyleModel",
      "state": {
       "description_width": ""
      }
     },
     "d01fd2011c0c4d36bf4b5cf698b0a872": {
      "model_module": "@jupyter-widgets/controls",
      "model_module_version": "1.5.0",
      "model_name": "HTMLModel",
      "state": {
       "layout": "IPY_MODEL_7e2d8aea3cc44711a9e27b689f60c548",
       "style": "IPY_MODEL_888054b1436143e58952979ec72afc08",
       "value": "Scene Draw:: 100%"
      }
     },
     "d0d0609a24064e9ebde2b5fc38e3a297": {
      "model_module": "@jupyter-widgets/controls",
      "model_module_version": "1.5.0",
      "model_name": "DescriptionStyleModel",
      "state": {
       "description_width": ""
      }
     },
     "d17cb16fbcbc4e4c8cd9b62dfa8aa927": {
      "model_module": "@jupyter-widgets/controls",
      "model_module_version": "1.5.0",
      "model_name": "SliderStyleModel",
      "state": {
       "description_width": ""
      }
     },
     "d1d786b37da146ada5095d858876dc6c": {
      "model_module": "@jupyter-widgets/controls",
      "model_module_version": "1.5.0",
      "model_name": "DropdownModel",
      "state": {
       "_options_labels": [
        "True",
        "False"
       ],
       "description": "match_noise",
       "index": 1,
       "layout": "IPY_MODEL_4b7f9ad9e6314cd68d0ae09e85708710",
       "style": "IPY_MODEL_894c38c6b24a4851b69cf8601a3207fe"
      }
     },
     "d2710143f29f4d9e9efd0d377f04aa4a": {
      "model_module": "@jupyter-widgets/controls",
      "model_module_version": "1.5.0",
      "model_name": "HBoxModel",
      "state": {
       "children": [
        "IPY_MODEL_136b429c244c41399b9cc8f718aa0222",
        "IPY_MODEL_fc949fea155c46c4b4b59028753d80d7",
        "IPY_MODEL_4ea1bf97fc72475e9db5ab0ad4ef12cc"
       ],
       "layout": "IPY_MODEL_57b0bb5244634ba38a0d8dbc27df472f"
      }
     },
     "d359f84fab6b43b8bbf735137eb00b6a": {
      "model_module": "@jupyter-widgets/controls",
      "model_module_version": "1.5.0",
      "model_name": "FloatProgressModel",
      "state": {
       "bar_style": "success",
       "layout": "IPY_MODEL_7f663de3130c4e198d7ccc4653204faf",
       "max": 300,
       "style": "IPY_MODEL_1e85a44a19b04ee58ab598725c852131",
       "value": 300
      }
     },
     "d3ef7a8a37f14ceb975b5cb90488a839": {
      "model_module": "@jupyter-widgets/base",
      "model_module_version": "1.2.0",
      "model_name": "LayoutModel",
      "state": {}
     },
     "d3fa040497cb4020a9bb30724c2e7e28": {
      "model_module": "@jupyter-widgets/controls",
      "model_module_version": "1.5.0",
      "model_name": "DescriptionStyleModel",
      "state": {
       "description_width": ""
      }
     },
     "d40a094cd9674c3095bbe075df27aab2": {
      "model_module": "@jupyter-widgets/controls",
      "model_module_version": "1.5.0",
      "model_name": "SliderStyleModel",
      "state": {
       "description_width": ""
      }
     },
     "d48201cf5c6a40288173a112044a445c": {
      "model_module": "@jupyter-widgets/base",
      "model_module_version": "1.2.0",
      "model_name": "LayoutModel",
      "state": {}
     },
     "d4a52c2484b644f89d2cbad68fddf2f0": {
      "model_module": "@jupyter-widgets/controls",
      "model_module_version": "1.5.0",
      "model_name": "SliderStyleModel",
      "state": {
       "description_width": ""
      }
     },
     "d5283044288843f09a68ef15bae8255a": {
      "model_module": "@jupyter-widgets/controls",
      "model_module_version": "1.5.0",
      "model_name": "IntSliderModel",
      "state": {
       "description": "media_multiplier",
       "layout": "IPY_MODEL_b2c3c72c2998490e8ffcf228a20497f7",
       "max": 300,
       "min": -300,
       "style": "IPY_MODEL_100da4b6c3634fcf9100c7dc4628860f",
       "value": 75
      }
     },
     "d63341114f4645649f0d0253f79f1d41": {
      "model_module": "@jupyter-widgets/controls",
      "model_module_version": "1.5.0",
      "model_name": "DropdownModel",
      "state": {
       "_options_labels": [
        "False",
        "True"
       ],
       "description": "fluorescence",
       "index": 0,
       "layout": "IPY_MODEL_26b47dc130a449318708ab91c2d792c3",
       "style": "IPY_MODEL_9bcea4d256754bf5bfd2741b333912e2"
      }
     },
     "d66ffe2f53fd4d9e9ca7cd26ff3f2df3": {
      "model_module": "@jupyter-widgets/base",
      "model_module_version": "1.2.0",
      "model_name": "LayoutModel",
      "state": {}
     },
     "d6d342f0675c47ebaaf1c3e629a3c381": {
      "model_module": "@jupyter-widgets/controls",
      "model_module_version": "1.5.0",
      "model_name": "IntSliderModel",
      "state": {
       "description": "device_multiplier",
       "layout": "IPY_MODEL_ec45257da98743278dbf3f97e6abdbbb",
       "max": 300,
       "min": -300,
       "style": "IPY_MODEL_aaeae88eeafa4d1c8559561e54c8812c",
       "value": 29
      }
     },
     "d7ff3225b9e44278bdafb8c762a50c5b": {
      "model_module": "@jupyter-widgets/base",
      "model_module_version": "1.2.0",
      "model_name": "LayoutModel",
      "state": {}
     },
     "d873f583c99b48e1a90e7d898d10ea38": {
      "model_module": "@jupyter-widgets/controls",
      "model_module_version": "1.5.0",
      "model_name": "ProgressStyleModel",
      "state": {
       "description_width": ""
      }
     },
     "d8c5972221d143e09a793797d6be6b81": {
      "model_module": "@jupyter-widgets/base",
      "model_module_version": "1.2.0",
      "model_name": "LayoutModel",
      "state": {}
     },
     "d93150da38fb42828f85d3a31f4d5888": {
      "model_module": "@jupyter-widgets/controls",
      "model_module_version": "1.5.0",
      "model_name": "HBoxModel",
      "state": {
       "children": [
        "IPY_MODEL_03a708db721848dba0f436d42ac09373",
        "IPY_MODEL_cbfb5baab31647dca262d4e0d56ae94c",
        "IPY_MODEL_ed48bfff785547d18d40ec15a4dbd66b"
       ],
       "layout": "IPY_MODEL_3b24bb207ec14aa091a18f7312abb1a7"
      }
     },
     "dab4a24d0dfe4cdcb71d6f66cac56843": {
      "model_module": "@jupyter-widgets/controls",
      "model_module_version": "1.5.0",
      "model_name": "SliderStyleModel",
      "state": {
       "description_width": ""
      }
     },
     "dab79eeb024e4a35a40f106229ecfe7d": {
      "model_module": "@jupyter-widgets/base",
      "model_module_version": "1.2.0",
      "model_name": "LayoutModel",
      "state": {}
     },
     "dbef43c34d504108879d640d739e523c": {
      "model_module": "@jupyter-widgets/base",
      "model_module_version": "1.2.0",
      "model_name": "LayoutModel",
      "state": {}
     },
     "dca2ab8c61594528a16cf6bbeb88cf5b": {
      "model_module": "@jupyter-widgets/base",
      "model_module_version": "1.2.0",
      "model_name": "LayoutModel",
      "state": {}
     },
     "dcb43887210f4f4d9f4be347a386c4ec": {
      "model_module": "@jupyter-widgets/controls",
      "model_module_version": "1.5.0",
      "model_name": "FloatSliderModel",
      "state": {
       "description": "defocus",
       "layout": "IPY_MODEL_23af90294293451491f10bea74b75917",
       "max": 20,
       "step": 0.1,
       "style": "IPY_MODEL_cd96be53940a429e8548fd9bb84ff246",
       "value": 3
      }
     },
     "dcc91f9b8ce34de9ae9c341f5e1c8125": {
      "model_module": "@jupyter-widgets/base",
      "model_module_version": "1.2.0",
      "model_name": "LayoutModel",
      "state": {}
     },
     "ddb21ea165224478b0052f79ad8b2353": {
      "model_module": "@jupyter-widgets/controls",
      "model_module_version": "1.5.0",
      "model_name": "DropdownModel",
      "state": {
       "_options_labels": [
        "True",
        "False"
       ],
       "description": "match_noise",
       "index": 1,
       "layout": "IPY_MODEL_f2c1374b4c3b426b904c1fe758029ed9",
       "style": "IPY_MODEL_e15098a6e270444f9c8970ea81709b24"
      }
     },
     "ddcf945a28364f418c2c03a96ea4365c": {
      "model_module": "@jupyter-widgets/controls",
      "model_module_version": "1.5.0",
      "model_name": "DropdownModel",
      "state": {
       "_options_labels": [
        "True",
        "False"
       ],
       "description": "match_fourier",
       "index": 1,
       "layout": "IPY_MODEL_d7ff3225b9e44278bdafb8c762a50c5b",
       "style": "IPY_MODEL_a9395ec740614148bab2a43f1ca34cf7"
      }
     },
     "dddfb45432c24d438920779047277920": {
      "model_module": "@jupyter-widgets/base",
      "model_module_version": "1.2.0",
      "model_name": "LayoutModel",
      "state": {}
     },
     "de1a423ab9ad48bcbf66b93ff819761b": {
      "model_module": "@jupyter-widgets/controls",
      "model_module_version": "1.5.0",
      "model_name": "DescriptionStyleModel",
      "state": {
       "description_width": ""
      }
     },
     "de5b55bc42754201b6e0eb4d84c729ee": {
      "model_module": "@jupyter-widgets/controls",
      "model_module_version": "1.5.0",
      "model_name": "DropdownModel",
      "state": {
       "_options_labels": [
        "True",
        "False"
       ],
       "description": "match_noise",
       "index": 1,
       "layout": "IPY_MODEL_033cea68ad114037bc8dbd23fd52291e",
       "style": "IPY_MODEL_a02aeceb105948c49a6ac75eda56aea3"
      }
     },
     "dec8797b0fcc419ca069719b05a60c1f": {
      "model_module": "@jupyter-widgets/base",
      "model_module_version": "1.2.0",
      "model_name": "LayoutModel",
      "state": {}
     },
     "df31cab1fb394ba59159d4086dedcd3a": {
      "model_module": "@jupyter-widgets/controls",
      "model_module_version": "1.5.0",
      "model_name": "DescriptionStyleModel",
      "state": {
       "description_width": ""
      }
     },
     "df523e57ec65490cb32b8d9ba1d40df2": {
      "model_module": "@jupyter-widgets/controls",
      "model_module_version": "1.5.0",
      "model_name": "FloatSliderModel",
      "state": {
       "description": "noise_var",
       "layout": "IPY_MODEL_fc3078241eff404e9ea81c1e311a9d31",
       "max": 0.01,
       "step": 0.0001,
       "style": "IPY_MODEL_3e14479997654924b6e4591d9e1c56a8",
       "value": 0.001
      }
     },
     "dfa981af0d8d418c99a1f9c3724195a8": {
      "model_module": "@jupyter-widgets/base",
      "model_module_version": "1.2.0",
      "model_name": "LayoutModel",
      "state": {}
     },
     "e0524cb3c5a8465c9ed32e50b333d290": {
      "model_module": "@jupyter-widgets/controls",
      "model_module_version": "1.5.0",
      "model_name": "SliderStyleModel",
      "state": {
       "description_width": ""
      }
     },
     "e089102903f9490b9e319f3058123293": {
      "model_module": "@jupyter-widgets/base",
      "model_module_version": "1.2.0",
      "model_name": "LayoutModel",
      "state": {}
     },
     "e0ebc40f11a24e2e8cb92ade1f7b0e00": {
      "model_module": "@jupyter-widgets/base",
      "model_module_version": "1.2.0",
      "model_name": "LayoutModel",
      "state": {}
     },
     "e113ffc2d8b14b0ca308a41b0fb8dfdf": {
      "model_module": "@jupyter-widgets/controls",
      "model_module_version": "1.5.0",
      "model_name": "DescriptionStyleModel",
      "state": {
       "description_width": ""
      }
     },
     "e11ee495ff644b7ea1b9b136f72796b9": {
      "model_module": "@jupyter-widgets/controls",
      "model_module_version": "1.5.0",
      "model_name": "DescriptionStyleModel",
      "state": {
       "description_width": ""
      }
     },
     "e15098a6e270444f9c8970ea81709b24": {
      "model_module": "@jupyter-widgets/controls",
      "model_module_version": "1.5.0",
      "model_name": "DescriptionStyleModel",
      "state": {
       "description_width": ""
      }
     },
     "e24aac01b4034cf98fc41f8fd96172dd": {
      "model_module": "@jupyter-widgets/base",
      "model_module_version": "1.2.0",
      "model_name": "LayoutModel",
      "state": {}
     },
     "e261ac48a4114b34afddbc34adde575f": {
      "model_module": "@jupyter-widgets/base",
      "model_module_version": "1.2.0",
      "model_name": "LayoutModel",
      "state": {}
     },
     "e2c8844fe9574e8aa6669a9329d17aef": {
      "model_module": "@jupyter-widgets/controls",
      "model_module_version": "1.5.0",
      "model_name": "FloatProgressModel",
      "state": {
       "bar_style": "success",
       "layout": "IPY_MODEL_e520d42e89da4d52866e0229cd83827a",
       "max": 98,
       "style": "IPY_MODEL_57a3141bae044137bcccc42edc64e703",
       "value": 98
      }
     },
     "e3069df0ceca43bfaa135b2d90a35505": {
      "model_module": "@jupyter-widgets/controls",
      "model_module_version": "1.5.0",
      "model_name": "DescriptionStyleModel",
      "state": {
       "description_width": ""
      }
     },
     "e32516801cdb4bd48b09c651dee1a953": {
      "model_module": "@jupyter-widgets/controls",
      "model_module_version": "1.5.0",
      "model_name": "DescriptionStyleModel",
      "state": {
       "description_width": ""
      }
     },
     "e412db6452c040cba9a89cc35d0cb414": {
      "model_module": "@jupyter-widgets/base",
      "model_module_version": "1.2.0",
      "model_name": "LayoutModel",
      "state": {}
     },
     "e4179171c24d49bbb635b80b34f9a0d0": {
      "model_module": "@jupyter-widgets/controls",
      "model_module_version": "1.5.0",
      "model_name": "FloatSliderModel",
      "state": {
       "description": "noise_var",
       "layout": "IPY_MODEL_b335db8278f74be2a463cceb750865eb",
       "max": 0.01,
       "step": 0.0001,
       "style": "IPY_MODEL_fb42bdcf6b57424cbb50ae5aa81b034b",
       "value": 0.001
      }
     },
     "e425da43eb2c49478f9b7883014b7295": {
      "model_module": "@jupyter-widgets/controls",
      "model_module_version": "1.5.0",
      "model_name": "DescriptionStyleModel",
      "state": {
       "description_width": ""
      }
     },
     "e4d477d3e9684d78b62dbf35af374a58": {
      "model_module": "@jupyter-widgets/controls",
      "model_module_version": "1.5.0",
      "model_name": "DropdownModel",
      "state": {
       "_options_labels": [
        "True",
        "False"
       ],
       "description": "match_noise",
       "index": 1,
       "layout": "IPY_MODEL_aa7b551194894d44be80fd9c553db4c4",
       "style": "IPY_MODEL_f55b805133cb43bf9618a4f55386de3d"
      }
     },
     "e500630bb00d4732bbe655dc7dfdd651": {
      "model_module": "@jupyter-widgets/controls",
      "model_module_version": "1.5.0",
      "model_name": "SliderStyleModel",
      "state": {
       "description_width": ""
      }
     },
     "e520d42e89da4d52866e0229cd83827a": {
      "model_module": "@jupyter-widgets/base",
      "model_module_version": "1.2.0",
      "model_name": "LayoutModel",
      "state": {}
     },
     "e551cef0c0d14bad8c8e82496477aeac": {
      "model_module": "@jupyter-widgets/controls",
      "model_module_version": "1.5.0",
      "model_name": "FloatSliderModel",
      "state": {
       "description": "sigma",
       "layout": "IPY_MODEL_6cd9b74f2e1b4693a4490642c404d865",
       "max": 38.47328244274809,
       "min": 1.9236641221374047,
       "step": 0.09618320610687023,
       "style": "IPY_MODEL_ce3ce096125044ccbe3f0753499340af",
       "value": 8.85
      }
     },
     "e579a525757d4f858d72bdff66b545c7": {
      "model_module": "@jupyter-widgets/base",
      "model_module_version": "1.2.0",
      "model_name": "LayoutModel",
      "state": {}
     },
     "e66d613f4c544bb2811cf4e6d3588b93": {
      "model_module": "@jupyter-widgets/base",
      "model_module_version": "1.2.0",
      "model_name": "LayoutModel",
      "state": {}
     },
     "e69673fce5244a0aa223980bc1391ef7": {
      "model_module": "@jupyter-widgets/base",
      "model_module_version": "1.2.0",
      "model_name": "LayoutModel",
      "state": {}
     },
     "e78b289c3dfb417d96f9c588a0fe59fe": {
      "model_module": "@jupyter-widgets/controls",
      "model_module_version": "1.5.0",
      "model_name": "SliderStyleModel",
      "state": {
       "description_width": ""
      }
     },
     "e84fd854012a420397b8588157befb22": {
      "model_module": "@jupyter-widgets/controls",
      "model_module_version": "1.5.0",
      "model_name": "SliderStyleModel",
      "state": {
       "description_width": ""
      }
     },
     "e8dfeeb46d694c82a6486d320ca9aedb": {
      "model_module": "@jupyter-widgets/controls",
      "model_module_version": "1.5.0",
      "model_name": "DescriptionStyleModel",
      "state": {
       "description_width": ""
      }
     },
     "e9c139e2890a4a9babb15e522475742b": {
      "model_module": "@jupyter-widgets/controls",
      "model_module_version": "1.5.0",
      "model_name": "FloatProgressModel",
      "state": {
       "bar_style": "success",
       "layout": "IPY_MODEL_133e01d4a758440b952f3ca363f682ea",
       "max": 300,
       "style": "IPY_MODEL_22eb56a8ac4a4d83905ce8e5a76bb3e1",
       "value": 300
      }
     },
     "ea4650b7dd4a46f58ba6f4f3c8da9c56": {
      "model_module": "@jupyter-widgets/base",
      "model_module_version": "1.2.0",
      "model_name": "LayoutModel",
      "state": {}
     },
     "ea51e2ed300645419cdfeeffd801d2b0": {
      "model_module": "@jupyter-widgets/controls",
      "model_module_version": "1.5.0",
      "model_name": "FloatSliderModel",
      "state": {
       "description": "sigma",
       "layout": "IPY_MODEL_8e22102b2d0e427d96cfe1bd708e2193",
       "max": 38.47328244274809,
       "min": 1.9236641221374047,
       "step": 0.09618320610687023,
       "style": "IPY_MODEL_102b0de4231942ba87b0293c7f08276c",
       "value": 8.85
      }
     },
     "ebdd827f0f854d1a912b5709bd871fc9": {
      "model_module": "@jupyter-widgets/output",
      "model_module_version": "1.0.0",
      "model_name": "OutputModel",
      "state": {
       "layout": "IPY_MODEL_ab4cd3d6506d48f7b3eed18b1bd8996b"
      }
     },
     "ebe221eae5d5493bad5c9a79530b3cf4": {
      "model_module": "@jupyter-widgets/controls",
      "model_module_version": "1.5.0",
      "model_name": "FloatSliderModel",
      "state": {
       "description": "defocus",
       "layout": "IPY_MODEL_f243d43528a748baa306fa012a6d957d",
       "max": 20,
       "step": 0.1,
       "style": "IPY_MODEL_8bc8e52f03aa427a823b2019dfa32ac9",
       "value": 3
      }
     },
     "ec0ca811dd3a454295dd0afa90b5af1f": {
      "model_module": "@jupyter-widgets/base",
      "model_module_version": "1.2.0",
      "model_name": "LayoutModel",
      "state": {}
     },
     "ec3a1f35a74548b88cb81f566e1002b8": {
      "model_module": "@jupyter-widgets/controls",
      "model_module_version": "1.5.0",
      "model_name": "DescriptionStyleModel",
      "state": {
       "description_width": ""
      }
     },
     "ec45257da98743278dbf3f97e6abdbbb": {
      "model_module": "@jupyter-widgets/base",
      "model_module_version": "1.2.0",
      "model_name": "LayoutModel",
      "state": {}
     },
     "ed28129fb85e48f8ba814f4bc9bdb5db": {
      "model_module": "@jupyter-widgets/controls",
      "model_module_version": "1.5.0",
      "model_name": "DescriptionStyleModel",
      "state": {
       "description_width": ""
      }
     },
     "ed48bfff785547d18d40ec15a4dbd66b": {
      "model_module": "@jupyter-widgets/controls",
      "model_module_version": "1.5.0",
      "model_name": "HTMLModel",
      "state": {
       "layout": "IPY_MODEL_8c5672bd19ca42359274ab668cde289d",
       "style": "IPY_MODEL_6b0ef259d32f4ad98c7817e12153f670",
       "value": " 98/98 [00:02&lt;00:00, 52.28it/s]"
      }
     },
     "ed4f88edbc78406a922522b771aeb710": {
      "model_module": "@jupyter-widgets/controls",
      "model_module_version": "1.5.0",
      "model_name": "HTMLModel",
      "state": {
       "layout": "IPY_MODEL_6fc0c7b4bc4440e8929e60073d56eb4a",
       "style": "IPY_MODEL_f48e3be5c838459895eac623b63e1284",
       "value": " 98/98 [00:01&lt;00:00, 91.97it/s]"
      }
     },
     "ed87adf471374e0dbbdfcc007e5126dd": {
      "model_module": "@jupyter-widgets/base",
      "model_module_version": "1.2.0",
      "model_name": "LayoutModel",
      "state": {}
     },
     "eda156f3dadc45fb898eda20db77805c": {
      "model_module": "@jupyter-widgets/controls",
      "model_module_version": "1.5.0",
      "model_name": "SliderStyleModel",
      "state": {
       "description_width": ""
      }
     },
     "ee0406933e7842fb812603d1a653aed2": {
      "model_module": "@jupyter-widgets/base",
      "model_module_version": "1.2.0",
      "model_name": "LayoutModel",
      "state": {}
     },
     "ee793079a6c4481a9c9549ea862be66d": {
      "model_module": "@jupyter-widgets/base",
      "model_module_version": "1.2.0",
      "model_name": "LayoutModel",
      "state": {}
     },
     "eef3e1c8b0844c9a83849fb8e3680a7b": {
      "model_module": "@jupyter-widgets/controls",
      "model_module_version": "1.5.0",
      "model_name": "DescriptionStyleModel",
      "state": {
       "description_width": ""
      }
     },
     "f01160408b0843fbaf6b38507745325c": {
      "model_module": "@jupyter-widgets/controls",
      "model_module_version": "1.5.0",
      "model_name": "DescriptionStyleModel",
      "state": {
       "description_width": ""
      }
     },
     "f04e4ae1349b41e0bfa3999438465377": {
      "model_module": "@jupyter-widgets/controls",
      "model_module_version": "1.5.0",
      "model_name": "FloatSliderModel",
      "state": {
       "description": "noise_var",
       "layout": "IPY_MODEL_ccfc87b06b254279b8e415d7eec8d654",
       "max": 0.01,
       "step": 0.0001,
       "style": "IPY_MODEL_fdfae61f17b84c3b8f84b131ee511dd0",
       "value": 0.001
      }
     },
     "f07fe496f4384e588d28ea7901649504": {
      "model_module": "@jupyter-widgets/controls",
      "model_module_version": "1.5.0",
      "model_name": "DescriptionStyleModel",
      "state": {
       "description_width": ""
      }
     },
     "f120af2e2b944f57b93072f53b98b63f": {
      "model_module": "@jupyter-widgets/controls",
      "model_module_version": "1.5.0",
      "model_name": "IntSliderModel",
      "state": {
       "description": "device_multiplier",
       "layout": "IPY_MODEL_6dae2b8594c34a37931495836649b638",
       "max": 300,
       "min": -300,
       "style": "IPY_MODEL_43481dbcb58d42508a664eaf04a0bb9f",
       "value": 29
      }
     },
     "f1da0b21d4484f7286286b9aca5cf00f": {
      "model_module": "@jupyter-widgets/controls",
      "model_module_version": "1.5.0",
      "model_name": "ProgressStyleModel",
      "state": {
       "description_width": ""
      }
     },
     "f2250906d20340af918b3f437b8b276a": {
      "model_module": "@jupyter-widgets/controls",
      "model_module_version": "1.5.0",
      "model_name": "DropdownModel",
      "state": {
       "_options_labels": [
        "True",
        "False"
       ],
       "description": "match_fourier",
       "index": 1,
       "layout": "IPY_MODEL_8716957bbae24e5faa475eeda24f848e",
       "style": "IPY_MODEL_3ef5a4661abd4ba19c8eba32e65c7482"
      }
     },
     "f243d43528a748baa306fa012a6d957d": {
      "model_module": "@jupyter-widgets/base",
      "model_module_version": "1.2.0",
      "model_name": "LayoutModel",
      "state": {}
     },
     "f2708ba2ecf443359e195b8148aada42": {
      "model_module": "@jupyter-widgets/controls",
      "model_module_version": "1.5.0",
      "model_name": "FloatProgressModel",
      "state": {
       "bar_style": "success",
       "layout": "IPY_MODEL_930a904f7b5a45e082cea90860d902e4",
       "max": 98,
       "style": "IPY_MODEL_84f9f2e5091246d38fd61881afb801f4",
       "value": 98
      }
     },
     "f2c1374b4c3b426b904c1fe758029ed9": {
      "model_module": "@jupyter-widgets/base",
      "model_module_version": "1.2.0",
      "model_name": "LayoutModel",
      "state": {}
     },
     "f2dabac4d38748da9f8d56e9897a2dda": {
      "model_module": "@jupyter-widgets/controls",
      "model_module_version": "1.5.0",
      "model_name": "DescriptionStyleModel",
      "state": {
       "description_width": ""
      }
     },
     "f3707f0febd64ad59b58d91c739f5fa6": {
      "model_module": "@jupyter-widgets/controls",
      "model_module_version": "1.5.0",
      "model_name": "SliderStyleModel",
      "state": {
       "description_width": ""
      }
     },
     "f48e3be5c838459895eac623b63e1284": {
      "model_module": "@jupyter-widgets/controls",
      "model_module_version": "1.5.0",
      "model_name": "DescriptionStyleModel",
      "state": {
       "description_width": ""
      }
     },
     "f49321ee5fe94faf9ea91bb466ae8720": {
      "model_module": "@jupyter-widgets/base",
      "model_module_version": "1.2.0",
      "model_name": "LayoutModel",
      "state": {}
     },
     "f5310c3100214ab1b505d74aa1cb523e": {
      "model_module": "@jupyter-widgets/controls",
      "model_module_version": "1.5.0",
      "model_name": "HTMLModel",
      "state": {
       "layout": "IPY_MODEL_46fafeaad94a445ea0c6e750b36fca64",
       "style": "IPY_MODEL_d3fa040497cb4020a9bb30724c2e7e28",
       "value": "Scene Draw:: 100%"
      }
     },
     "f55b805133cb43bf9618a4f55386de3d": {
      "model_module": "@jupyter-widgets/controls",
      "model_module_version": "1.5.0",
      "model_name": "DescriptionStyleModel",
      "state": {
       "description_width": ""
      }
     },
     "f637ce891497469a8af78f911391fbe5": {
      "model_module": "@jupyter-widgets/controls",
      "model_module_version": "1.5.0",
      "model_name": "DescriptionStyleModel",
      "state": {
       "description_width": ""
      }
     },
     "f94482525ac0495c9df39b3fef950eb5": {
      "model_module": "@jupyter-widgets/controls",
      "model_module_version": "1.5.0",
      "model_name": "IntSliderModel",
      "state": {
       "description": "scene_no",
       "layout": "IPY_MODEL_c4fa12db40f74993a0e9619207c57322",
       "max": 299,
       "style": "IPY_MODEL_4ec20b77139548b8a13c83302a6e0373"
      }
     },
     "f964e566cb8641a9846dde0df759ca7e": {
      "model_module": "@jupyter-widgets/base",
      "model_module_version": "1.2.0",
      "model_name": "LayoutModel",
      "state": {}
     },
     "fa63dad8c3d34c55934c13a7016bcc56": {
      "model_module": "@jupyter-widgets/controls",
      "model_module_version": "1.5.0",
      "model_name": "SliderStyleModel",
      "state": {
       "description_width": ""
      }
     },
     "fadf22f6d7c047b3912a80ca0e93345b": {
      "model_module": "@jupyter-widgets/base",
      "model_module_version": "1.2.0",
      "model_name": "LayoutModel",
      "state": {}
     },
     "fb1f4b58e830417294a7d365f84aba30": {
      "model_module": "@jupyter-widgets/base",
      "model_module_version": "1.2.0",
      "model_name": "LayoutModel",
      "state": {}
     },
     "fb42bdcf6b57424cbb50ae5aa81b034b": {
      "model_module": "@jupyter-widgets/controls",
      "model_module_version": "1.5.0",
      "model_name": "SliderStyleModel",
      "state": {
       "description_width": ""
      }
     },
     "fb44256d4c044c2eb0c6313658498b28": {
      "model_module": "@jupyter-widgets/controls",
      "model_module_version": "1.5.0",
      "model_name": "ProgressStyleModel",
      "state": {
       "description_width": ""
      }
     },
     "fc3078241eff404e9ea81c1e311a9d31": {
      "model_module": "@jupyter-widgets/base",
      "model_module_version": "1.2.0",
      "model_name": "LayoutModel",
      "state": {}
     },
     "fc7a88d2eeeb4d12a278a48e4e069b5f": {
      "model_module": "@jupyter-widgets/controls",
      "model_module_version": "1.5.0",
      "model_name": "ProgressStyleModel",
      "state": {
       "description_width": ""
      }
     },
     "fc949fea155c46c4b4b59028753d80d7": {
      "model_module": "@jupyter-widgets/controls",
      "model_module_version": "1.5.0",
      "model_name": "FloatProgressModel",
      "state": {
       "bar_style": "success",
       "layout": "IPY_MODEL_c2ab759c792941cdb26bf4db0a2ba376",
       "max": 300,
       "style": "IPY_MODEL_33a71f7f43f14124ae31c617f49ca5e1",
       "value": 300
      }
     },
     "fcbe63aefe44493eba5d6fb2daf1cfb9": {
      "model_module": "@jupyter-widgets/base",
      "model_module_version": "1.2.0",
      "model_name": "LayoutModel",
      "state": {}
     },
     "fcfc1c58761b4165988e13532b4dd706": {
      "model_module": "@jupyter-widgets/controls",
      "model_module_version": "1.5.0",
      "model_name": "IntSliderModel",
      "state": {
       "description": "scene_no",
       "layout": "IPY_MODEL_3e28b80021c34e47b412101202e14497",
       "max": 97,
       "style": "IPY_MODEL_9262acbb915a4c76926d17c45f2cf636"
      }
     },
     "fd3375aa719d48fb934decbc09091534": {
      "model_module": "@jupyter-widgets/controls",
      "model_module_version": "1.5.0",
      "model_name": "DescriptionStyleModel",
      "state": {
       "description_width": ""
      }
     },
     "fd7ad955af74412ebaa73d224596039f": {
      "model_module": "@jupyter-widgets/output",
      "model_module_version": "1.0.0",
      "model_name": "OutputModel",
      "state": {
       "layout": "IPY_MODEL_a0fda7ba7abc41ee920a02d03d5fe362"
      }
     },
     "fd9d7662938945c3a1459175039c82fc": {
      "model_module": "@jupyter-widgets/controls",
      "model_module_version": "1.5.0",
      "model_name": "HTMLModel",
      "state": {
       "layout": "IPY_MODEL_cab03558c34b42eba7bdfe6cec7f8b96",
       "style": "IPY_MODEL_0250a87108784ca8931482de66eba4b8",
       "value": " 98/98 [00:01&lt;00:00, 95.40it/s]"
      }
     },
     "fdfae61f17b84c3b8f84b131ee511dd0": {
      "model_module": "@jupyter-widgets/controls",
      "model_module_version": "1.5.0",
      "model_name": "SliderStyleModel",
      "state": {
       "description_width": ""
      }
     },
     "ffa1c377076144f7a3e73e0103eeb136": {
      "model_module": "@jupyter-widgets/controls",
      "model_module_version": "1.5.0",
      "model_name": "FloatSliderModel",
      "state": {
       "description": "defocus",
       "layout": "IPY_MODEL_e579a525757d4f858d72bdff66b545c7",
       "max": 20,
       "step": 0.1,
       "style": "IPY_MODEL_23a3fd3e7aa9450faa68543a22176f6f",
       "value": 3
      }
     },
     "fff71fda51794a4fbd0f3bef8f7461d2": {
      "model_module": "@jupyter-widgets/base",
      "model_module_version": "1.2.0",
      "model_name": "LayoutModel",
      "state": {}
     }
    },
    "version_major": 2,
    "version_minor": 0
   }
  }
 },
 "nbformat": 4,
 "nbformat_minor": 5
}
