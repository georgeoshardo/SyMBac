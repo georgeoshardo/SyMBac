{
 "cells": [
  {
   "cell_type": "code",
   "execution_count": null,
   "metadata": {},
   "outputs": [],
   "source": [
    "from data import saveResult_seg, predictGenerator_seg, postprocess\n",
    "from model import unet_seg\n",
    "from os import listdir\n",
    "import numpy as np\n",
    "import matplotlib.pyplot as plt\n",
    "from skimage.io import imshow\n",
    "from skimage.measure import label\n",
    "from scipy.ndimage.morphology import distance_transform_edt\n",
    "from PIL import Image\n",
    "from numpy import asarray\n",
    "import os\n",
    "import tensorflow as tf\n",
    "import tifffile\n",
    "from skimage.exposure import rescale_intensity\n",
    "import skimage\n",
    "from skimage.morphology import opening\n",
    "config = tf.ConfigProto()\n",
    "config.gpu_options.allow_growth=True\n",
    "sess = tf.Session(config=config)\n",
    "# Files:\n",
    "DeLTA_data = '/home/georgeos/Storage/Dropbox (Cambridge University)/PhD_Georgeos_Hardo/ML_based_segmentation_results/40x_Ph2_test_1.5/training_data/preprocessed/'\n",
    "training_set = DeLTA_data\n",
    "model_file = DeLTA_data + 'saved-model-nosmall-72.hdf5'\n",
    "#inputs_folder = DeLTA_data + 'mother_machine/evaluation/preprocessed/img/'\n",
    "#outputs_folder = DeLTA_data + 'mother_machine/evaluation/seg_output/'\n",
    "model_file"
   ]
  },
  {
   "cell_type": "code",
   "execution_count": null,
   "metadata": {},
   "outputs": [],
   "source": [
    "image_dirs = \"/home/georgeos/Storage/Dropbox (Cambridge University)/PhD_Georgeos_Hardo/ML_based_segmentation_results/40x_Ph2_test_1.5/top_trenches/trench_04/\"\n",
    "\n",
    "stack = np.zeros((25,640,64))\n",
    "for x in range(25):\n",
    "    test = tifffile.imread(image_dirs+\"T_0{}.tif\".format(str(x).zfill(2)))\n",
    "    image = rescale_intensity(test)\n",
    "    image = skimage.img_as_ubyte(image)\n",
    "    LEFT_CROP = 3\n",
    "    RIGHT_CROP = LEFT_CROP + 35\n",
    "    image = image[15:-15,LEFT_CROP:RIGHT_CROP]\n",
    "    image = Image.fromarray(image).rotate(0)\n",
    "    image = image.resize((64,640))\n",
    "    image = np.array(image).astype(np.float64)\n",
    "    stack[x,:,:] = image\n",
    "#stack = tifffile.imread(\"/home/georgeos/Documents/GitHub/SYMPTOMM2/prototyping/real_image_for_hist_match_stack.tif\")\n",
    "_ = tifffile.imread(\"/home/georgeos/Storage/Dropbox (Cambridge University)/PhD_Georgeos_Hardo/ML_based_segmentation_results/40x_Ph2_test_1.5/training_data/preprocessed/CROPPED_FILTERED/synth_801.tif\")\n"
   ]
  },
  {
   "cell_type": "code",
   "execution_count": null,
   "metadata": {},
   "outputs": [],
   "source": [
    "stack1 = stack[5:,:,:]"
   ]
  },
  {
   "cell_type": "code",
   "execution_count": null,
   "metadata": {
    "tags": []
   },
   "outputs": [],
   "source": [
    "target_size = (640, 64)\n",
    "input_size = target_size + (1,)\n",
    "process_size = 4096\n",
    "# Load up model:\n",
    "model = unet_seg(input_size = input_size)\n",
    "model.load_weights(model_file)\n",
    "prediction = model.predict(stack1.reshape(25-5,640,64,1))\n",
    "\n"
   ]
  },
  {
   "cell_type": "code",
   "execution_count": null,
   "metadata": {},
   "outputs": [],
   "source": [
    "for x in range(25-5):\n",
    "    fig, axs = plt.subplots(1,2,figsize=(3,10))\n",
    "    axs[0].imshow(opening(prediction[x].reshape(640,64), np.ones((3,3)))), axs[1].imshow(stack1[x].reshape((640,64)))\n",
    "    plt.tight_layout()\n",
    "    for ax in axs:\n",
    "      ax.axis(\"off\")\n",
    "    #plt.savefig(\"/home/georgeos/Storage/Dropbox (Cambridge University)/PhD_Georgeos_Hardo/ML_based_segmentation_results/40x_Ph2_test_1.5/training_data/figure/{}.png\".format(str(x)))"
   ]
  },
  {
   "cell_type": "code",
   "execution_count": null,
   "metadata": {},
   "outputs": [],
   "source": [
    "cropped_ims = []\n",
    "for x in range(stack.shape[0]):\n",
    "    image = stack[x,:,:]\n",
    "    image = np.array(image)\n",
    "    image = rescale_intensity(image)\n",
    "    image = skimage.img_as_ubyte(image)\n",
    "    LEFT_CROP = 3\n",
    "    RIGHT_CROP = LEFT_CROP + 16\n",
    "    image = image[:,LEFT_CROP:RIGHT_CROP]\n",
    "    HEIGHT = image.shape[0]\n",
    "    WIDTH = image.shape[1]\n",
    "    NEW_HEIGHT = int(np.ceil(HEIGHT*2/64) * 64)\n",
    "    NEW_WIDTH = int(2 ** np.ceil(np.log2(WIDTH*2)))\n",
    "    image = Image.fromarray(image).rotate(0)\n",
    "    image = image.resize((NEW_WIDTH,NEW_HEIGHT))\n",
    "    image = np.array(image).astype(np.float64)\n",
    "    cropped_ims.append(image)"
   ]
  },
  {
   "cell_type": "code",
   "execution_count": null,
   "metadata": {},
   "outputs": [],
   "source": [
    "cropped_ims[0].shape\n",
    "stack_cropped = np.zeros((stack.shape[0],NEW_HEIGHT,NEW_WIDTH,1))\n",
    "for x in range(len(cropped_ims)):\n",
    "    stack_cropped[x,:,:,0] = cropped_ims[x]"
   ]
  },
  {
   "cell_type": "code",
   "execution_count": null,
   "metadata": {},
   "outputs": [],
   "source": [
    "\n",
    "#image = np.random.rand(NEW_HEIGHT,NEW_WIDTH)*255\n",
    "#plt.imshow(image)\n",
    "#plt.show()\n",
    "# Parameters:\n",
    "target_size = (640, 64)\n",
    "input_size = target_size + (1,)\n",
    "process_size = 4096\n",
    "# Load up model:\n",
    "model = unet_seg(input_size = input_size)\n",
    "model.load_weights(model_file)\n",
    "prediction = model.predict(stack_cropped.reshape(len(cropped_ims),NEW_HEIGHT,NEW_WIDTH,1))\n",
    "prediction = prediction.reshape(len(cropped_ims),NEW_HEIGHT,NEW_WIDTH)"
   ]
  },
  {
   "cell_type": "code",
   "execution_count": null,
   "metadata": {},
   "outputs": [],
   "source": [
    "target_size"
   ]
  },
  {
   "cell_type": "code",
   "execution_count": null,
   "metadata": {},
   "outputs": [],
   "source": [
    "for x in range(len(cropped_ims)):\n",
    "    fig, axs = plt.subplots(1,2,figsize=(2,4))\n",
    "    axs[0].imshow(prediction[x]), axs[1].imshow(cropped_ims[x])\n",
    "    plt.tight_layout()\n",
    "    for ax in axs:\n",
    "      ax.axis(\"off\")\n",
    "    plt.savefig(\"/home/georgeos/Documents/GitHub/SYMPTOMM2/training_data/output_segmentations/output_{}.png\".format(str(x).zfill(3)))"
   ]
  },
  {
   "cell_type": "code",
   "execution_count": null,
   "metadata": {},
   "outputs": [],
   "source": []
  },
  {
   "cell_type": "code",
   "execution_count": null,
   "metadata": {},
   "outputs": [],
   "source": [
    "model.summary()"
   ]
  },
  {
   "cell_type": "code",
   "execution_count": null,
   "metadata": {},
   "outputs": [],
   "source": [
    "image = Image.open(\"/home/georgeos/Documents/MMSynth_data/FalsePosNeg_HADA/raw_data/ID_postGrowth_A01_BF.tif\")\n",
    "LEFT = 905\n",
    "image = asarray(image)[395:395+192,LEFT:LEFT+32]\n",
    "HEIGHT = image.shape[0]\n",
    "WIDTH = image.shape[1]\n",
    "NEW_HEIGHT = int(np.ceil(HEIGHT/64) * 64)\n",
    "NEW_WIDTH = int(2 ** np.ceil(np.log2(WIDTH)))\n",
    "image = Image.fromarray(image).rotate(180)\n",
    "image = image.resize((NEW_WIDTH,NEW_HEIGHT))\n",
    "image = np.array(image)\n",
    "plt.imshow(image)\n",
    "plt.show()\n",
    "# Parameters:\n",
    "target_size = (NEW_HEIGHT,NEW_WIDTH)\n",
    "input_size = target_size + (1,)\n",
    "process_size = 4096\n",
    "\n",
    "# Load up model:\n",
    "model = unet_seg(input_size = input_size)\n",
    "model.load_weights(model_file)\n",
    "prediction = model.predict(image.reshape(1,NEW_HEIGHT,NEW_WIDTH,1))\n",
    "plt.imshow(prediction.reshape(192,32))\n",
    "plt.show()"
   ]
  },
  {
   "cell_type": "code",
   "execution_count": null,
   "metadata": {},
   "outputs": [],
   "source": []
  },
  {
   "cell_type": "code",
   "execution_count": null,
   "metadata": {},
   "outputs": [],
   "source": []
  },
  {
   "cell_type": "code",
   "execution_count": null,
   "metadata": {},
   "outputs": [],
   "source": [
    "plt.imshow(postprocess(prediction[:,:,:,0]))"
   ]
  },
  {
   "cell_type": "code",
   "execution_count": null,
   "metadata": {},
   "outputs": [],
   "source": []
  }
 ],
 "metadata": {
  "kernelspec": {
   "display_name": "Python 3",
   "language": "python",
   "name": "python3"
  },
  "language_info": {
   "codemirror_mode": {
    "name": "ipython",
    "version": 3
   },
   "file_extension": ".py",
   "mimetype": "text/x-python",
   "name": "python",
   "nbconvert_exporter": "python",
   "pygments_lexer": "ipython3",
   "version": "3.8.10"
  }
 },
 "nbformat": 4,
 "nbformat_minor": 4
}
