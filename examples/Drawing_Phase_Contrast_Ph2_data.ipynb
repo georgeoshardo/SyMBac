{
 "cells": [
  {
   "cell_type": "code",
   "execution_count": 1,
   "id": "8403999f",
   "metadata": {
    "collapsed": false,
    "jupyter": {
     "outputs_hidden": false
    },
    "pycharm": {
     "name": "#%%\n"
    }
   },
   "outputs": [],
   "source": [
    "%gui qt"
   ]
  },
  {
   "cell_type": "code",
   "execution_count": 1,
   "id": "3704125e",
   "metadata": {
    "pycharm": {
     "is_executing": true
    }
   },
   "outputs": [],
   "source": [
    "import napari\n",
    "import sys\n",
    "Linux = True\n",
    "if Linux:\n",
    "    sys.path.insert(0,'/home/georgeos/Documents/GitHub/SYMPTOMM2')\n",
    "else:\n",
    "    sys.path.insert(0,'C:\\\\Users\\\\gh464\\\\Documents\\\\GitHub\\\\SYMPTOMM2\\\\')\n",
    "from SYMPTOMM.cell import Cell\n",
    "from SYMPTOMM.scene_functions import create_space, step_and_update\n",
    "from SYMPTOMM.trench_geometry import trench_creator\n",
    "from SYMPTOMM.phase_contrast_drawing import *\n",
    "import tifffile\n",
    "import numpy as np\n",
    "from skimage.exposure import rescale_intensity\n",
    "from skimage.transform import rescale, resize, downscale_local_mean\n",
    "from ipywidgets import interact, interactive, fixed, interact_manual\n",
    "import ipywidgets as widgets\n",
    "from skimage.exposure import rescale_intensity\n",
    "from ipywidgets import interactive\n",
    "import os\n",
    "from PIL import Image\n",
    "import skimage\n",
    "from tqdm.notebook import tqdm\n",
    "import gc\n",
    "from SYMPTOMM.PSF import get_phase_contrast_kernel, get_condensers\n",
    "real_image = tifffile.imread(\"/home/georgeos/Storage/Dropbox (Cambridge University)/PhD_Georgeos_Hardo/ML_based_segmentation_results/40x_Ph2_test_1.5/top_trenches_PC/trench_{}/T_{}.tif\".format(\n",
    "    str(np.random.randint(1,56)).zfill(2),\n",
    "    str(np.random.randint(20,24)).zfill(3)))\n",
    "\n",
    "#viewer = napari.view_image(real_image)\n"
   ]
  },
  {
   "cell_type": "code",
   "execution_count": 2,
   "id": "64476ce1-d433-4a92-965a-6d8d0cf5534a",
   "metadata": {
    "tags": []
   },
   "outputs": [],
   "source": [
    "#real_image = tifffile.imread(\"/home/georgeos/Storage/Dropbox (Cambridge University)/Phase/Lane_02_pos_002_trench_x_1963_y_0067_w_0046_h_0460_c_Phase.tif\")[0][:300,:]\n"
   ]
  },
  {
   "cell_type": "markdown",
   "id": "fa476171-0ee2-4c5c-af18-a7fdf33e9374",
   "metadata": {},
   "source": [
    "### Scope props"
   ]
  },
  {
   "cell_type": "code",
   "execution_count": 14,
   "id": "51cc96ea-77be-4860-8f5d-eb0aaa1f4686",
   "metadata": {},
   "outputs": [],
   "source": [
    "condensers = get_condensers()\n",
    "\n",
    "W, R, diameter = condensers[\"Ph2\"]\n",
    "radius=50\n",
    "λ = 0.75\n",
    "resize_amount = 3\n",
    "pix_mic_conv = 0.10837 ##0.108379937 micron/pix for 60x, 0.0655 for 100x\n",
    "scale = pix_mic_conv / resize_amount \n",
    "min_sigma = 0.42*0.6/6 / scale # micron#\n",
    "sigma=4\n",
    "NA=0.97\n",
    "n = 1\n",
    "kernel_params = (R,W,radius,scale,NA,n,sigma,λ)\n",
    "\n",
    "#kernel_params = (R,W,radius,scale,F,sigma,λ)\n"
   ]
  },
  {
   "cell_type": "markdown",
   "id": "30746946-f64c-48f0-bda8-5c454d7dfcb0",
   "metadata": {},
   "source": [
    "### Do large cells"
   ]
  },
  {
   "cell_type": "code",
   "execution_count": 5,
   "id": "e81a7c1b",
   "metadata": {
    "tags": []
   },
   "outputs": [
    {
     "data": {
      "application/vnd.jupyter.widget-view+json": {
       "model_id": "64e365cf9ba04a94b0ef0f6f25de9c76",
       "version_major": 2,
       "version_minor": 0
      },
      "text/plain": [
       "Timeseries Properties:   0%|          | 0/10 [00:00<?, ?it/s]"
      ]
     },
     "metadata": {},
     "output_type": "display_data"
    },
    {
     "data": {
      "application/vnd.jupyter.widget-view+json": {
       "model_id": "dea92af8eccc4a0c982318c55f7418c3",
       "version_major": 2,
       "version_minor": 0
      },
      "text/plain": [
       "Scene Draw::   0%|          | 0/10 [00:00<?, ?it/s]"
      ]
     },
     "metadata": {},
     "output_type": "display_data"
    }
   ],
   "source": [
    "sim_length = 10\n",
    "cell_timeseries, space = run_simulation(\n",
    "    trench_length=17.5, \n",
    "    trench_width=1.5, \n",
    "    cell_max_length=5.7, \n",
    "    cell_width=1., \n",
    "    sim_length = sim_length, \n",
    "    pix_mic_conv = pix_mic_conv,\n",
    "    gravity=-10,\n",
    "    phys_iters=25,\n",
    "    max_length_var = 2,\n",
    "    width_var = 0.03,\n",
    "    save_dir=\"/home/georgeos/\"\n",
    ") # growth phase\n",
    "\n",
    "\n",
    "main_segments = get_trench_segments(space)\n",
    "ID_props = generate_curve_props(cell_timeseries)\n",
    "cell_timeseries_properties = Parallel(n_jobs=-1)(\n",
    "    delayed(gen_cell_props_for_draw)(a, ID_props) for a in tqdm(cell_timeseries, desc='Timeseries Properties'))\n",
    "do_transformation = True\n",
    "offset = 30\n",
    "mask_threshold = 18\n",
    "label_masks = True\n",
    "space_size = get_space_size(cell_timeseries_properties)\n",
    "scenes = Parallel(n_jobs=-1)(delayed(draw_scene)(\n",
    "    cell_properties, do_transformation, mask_threshold, space_size, offset, label_masks) for cell_properties in tqdm(cell_timeseries_properties, desc='Scene Draw:'))"
   ]
  },
  {
   "cell_type": "code",
   "execution_count": 7,
   "id": "034e81eb-89c7-4ea5-afcc-c078f2d18480",
   "metadata": {},
   "outputs": [],
   "source": [
    "media_multiplier=30\n",
    "cell_multiplier=1\n",
    "device_multiplier=-50\n",
    "y_border_expansion_coefficient = 2\n",
    "x_border_expansion_coefficient = 3\n",
    "\n",
    "\n",
    "\n",
    "\n",
    "temp_expanded_scene, temp_expanded_scene_no_cells, temp_expanded_mask = generate_PC_OPL(\n",
    "   main_segments=main_segments,\n",
    "    offset=offset,\n",
    "    scene = scenes[0][0],\n",
    "    mask = scenes[0][1],\n",
    "    media_multiplier=media_multiplier,\n",
    "    cell_multiplier=cell_multiplier,\n",
    "    device_multiplier=cell_multiplier,\n",
    "    y_border_expansion_coefficient = y_border_expansion_coefficient,\n",
    "    x_border_expansion_coefficient = x_border_expansion_coefficient,\n",
    "    fluorescence = False\n",
    ")\n",
    "\n",
    "\n",
    "\n",
    "### Generate temporary image to make same shape\n",
    "temp_kernel = get_phase_contrast_kernel(*kernel_params)\n",
    "convolved = convolve_rescale(temp_expanded_scene, temp_kernel, 1/resize_amount, rescale_int = True)\n",
    "real_resize, expanded_resized = make_images_same_shape(real_image,convolved, rescale_int=True)\n",
    "\n"
   ]
  },
  {
   "cell_type": "code",
   "execution_count": 8,
   "id": "a6eb54f0-ee62-4dd0-afcd-69374fbe6608",
   "metadata": {
    "tags": []
   },
   "outputs": [
    {
     "name": "stderr",
     "output_type": "stream",
     "text": [
      "/home/georgeos/anaconda3/envs/SYMPTOMM/lib/python3.8/site-packages/napari/_vispy/vispy_camera.py:109: RuntimeWarning: divide by zero encountered in true_divide\n",
      "  zoom = np.min(canvas_size / scale)\n"
     ]
    }
   ],
   "source": [
    "viewer = napari.view_image(real_resize)\n",
    "media_label = viewer.add_labels(np.zeros(real_resize.shape).astype(int), name = \"media\")\n",
    "cell_label = viewer.add_labels(np.zeros(real_resize.shape).astype(int), name = \"cell\")\n",
    "device_label = viewer.add_labels(np.zeros(real_resize.shape).astype(int), name = \"device\")"
   ]
  },
  {
   "cell_type": "code",
   "execution_count": 9,
   "id": "402fc7cd-5c59-4702-b0b0-c3241cf707e9",
   "metadata": {},
   "outputs": [],
   "source": [
    "real_media_mean = real_resize[np.where(media_label.data)].mean();\n",
    "real_cell_mean = real_resize[np.where(cell_label.data)].mean(); \n",
    "real_device_mean = real_resize[np.where(device_label.data)].mean()\n",
    "real_means = np.array((real_media_mean, real_cell_mean, real_device_mean))\n",
    "\n",
    "real_media_var = real_resize[np.where(media_label.data)].var();\n",
    "real_cell_var = real_resize[np.where(cell_label.data)].var(); \n",
    "real_device_var = real_resize[np.where(device_label.data)].var()\n",
    "real_vars = np.array((real_media_var, real_cell_var, real_device_var))\n",
    "\n",
    "image_params = (real_media_mean, real_cell_mean, real_device_mean, real_means, real_media_var, real_cell_var, real_device_var, real_vars)"
   ]
  },
  {
   "cell_type": "code",
   "execution_count": 10,
   "id": "6f45b815-ad95-4fb9-badc-4b5e9681f3fc",
   "metadata": {},
   "outputs": [],
   "source": [
    "from scipy.ndimage import gaussian_filter"
   ]
  },
  {
   "cell_type": "code",
   "execution_count": 15,
   "id": "282a1ee0-adeb-4c1f-92fb-ab65838524f7",
   "metadata": {},
   "outputs": [],
   "source": [
    "def generate_test_comparison(media_multiplier, cell_multiplier, device_multiplier, sigma, scene_no, scale, match_fourier, match_histogram, match_noise, offset, debug_plot, noise_var, main_segments, scenes, kernel_params, resize_amount, real_image, image_params, error_params, x_border_expansion_coefficient,y_border_expansion_coefficient,fluorescence,blur_sigma):\n",
    "    \n",
    "    \n",
    "    expanded_scene, expanded_scene_no_cells, expanded_mask = generate_PC_OPL(\n",
    "        main_segments=main_segments,\n",
    "        offset=offset,\n",
    "        scene = scenes[scene_no][0],\n",
    "        mask = scenes[scene_no][1],\n",
    "        media_multiplier=media_multiplier,\n",
    "        cell_multiplier=cell_multiplier,\n",
    "        device_multiplier=device_multiplier,\n",
    "        x_border_expansion_coefficient = x_border_expansion_coefficient,\n",
    "        y_border_expansion_coefficient = y_border_expansion_coefficient,\n",
    "        fluorescence = fluorescence\n",
    "    )\n",
    "\n",
    "\n",
    "\n",
    "    R,W,radius,scale,NA,n,_,λ = kernel_params\n",
    "    \n",
    "    \n",
    "    real_media_mean, real_cell_mean, real_device_mean, real_means, real_media_var, real_cell_var, real_device_var, real_vars = image_params\n",
    "    mean_error,media_error,cell_error,device_error,mean_var_error,media_var_error,cell_var_error,device_var_error = error_params\n",
    "    \n",
    "    if fluorescence:\n",
    "        kernel = get_fluorescence_kernel(radius=radius, scale=scale, NA=NA,n=n, Lambda=λ)[0]\n",
    "    else:\n",
    "        kernel = get_phase_contrast_kernel(R=R, W=W, radius=radius, scale=scale, NA=NA,n=n, sigma=sigma, λ=λ)\n",
    "        kernel = gaussian_filter(kernel,sigma=blur_sigma,mode=\"reflect\")\n",
    "\n",
    "\n",
    "\n",
    "    convolved = convolve_rescale(expanded_scene, kernel, 1/resize_amount, rescale_int = True)\n",
    "    real_resize, expanded_resized = make_images_same_shape(real_image,convolved, rescale_int=True)\n",
    "    \n",
    "    if match_fourier:\n",
    "        fftim1 = fft.fftshift(fft.fft2(real_resize))\n",
    "        angs, mags = cart2pol(np.real(fftim1),np.imag(fftim1))\n",
    "        matched = sfMatch([real_resize, expanded_resized],tarmag = mags)[1]\n",
    "        matched = lumMatch([real_resize,matched],None,[np.mean(real_resize),np.std(real_resize)])[1]\n",
    "    else:\n",
    "        matched = expanded_resized\n",
    "    \n",
    "    if match_histogram and match_fourier:\n",
    "        matched = match_histograms(matched, real_resize, multichannel=False)\n",
    "\n",
    "        fftim1 = fft.fftshift(fft.fft2(real_resize))\n",
    "        angs, mags = cart2pol(np.real(fftim1),np.imag(fftim1))\n",
    "        matched = sfMatch([real_resize, matched],tarmag = mags)[1]\n",
    "        matched = lumMatch([real_resize,matched],None,[np.mean(real_resize),np.std(real_resize)])[1]\n",
    "    else:\n",
    "        pass\n",
    "    if match_histogram:\n",
    "        matched = match_histograms(matched, real_resize, multichannel=False)\n",
    "    else:\n",
    "        pass\n",
    "    \n",
    "    noisy_img = random_noise(rescale_intensity(matched), mode=\"poisson\")\n",
    "    noisy_img = random_noise(rescale_intensity(noisy_img), mode=\"gaussian\", mean=0,var=noise_var,clip=False)\n",
    "    \n",
    "    if match_noise:\n",
    "        noisy_img = match_histograms(noisy_img, real_resize, multichannel=False)\n",
    "    else:\n",
    "        pass\n",
    "    noisy_img = rescale_intensity(noisy_img.astype(np.float32), out_range=(0,1))\n",
    "    \n",
    "    ## getting the cell mask to the right shape\n",
    "    expanded_mask_resized = rescale(expanded_mask, 1/resize_amount, anti_aliasing=False, preserve_range=True,order=0)\n",
    "    if len(np.unique(expanded_mask_resized)) > 2:\n",
    "        _, expanded_mask_resized_reshaped = make_images_same_shape(real_image,expanded_mask_resized, rescale_int=False)\n",
    "    else:\n",
    "        _, expanded_mask_resized_reshaped = make_images_same_shape(real_image,expanded_mask_resized, rescale_int=True)\n",
    "\n",
    "\n",
    "    \n",
    "\n",
    "    \n",
    "    expanded_media_mask = rescale((expanded_scene_no_cells == device_multiplier) ^ (expanded_scene - expanded_scene_no_cells).astype(bool) , 1/resize_amount, anti_aliasing=False)\n",
    "    real_resize, expanded_media_mask = make_images_same_shape(real_image,expanded_media_mask, rescale_int=True)\n",
    "    just_media = expanded_media_mask * noisy_img\n",
    "    \n",
    "    expanded_cell_pseudo_mask = (expanded_scene - expanded_scene_no_cells).astype(bool)\n",
    "    expanded_cell_pseudo_mask = rescale(expanded_cell_pseudo_mask, 1/resize_amount, anti_aliasing=False)\n",
    "\n",
    "    real_resize, expanded_cell_pseudo_mask = make_images_same_shape(real_image,expanded_cell_pseudo_mask, rescale_int=True)\n",
    "    just_cells = expanded_cell_pseudo_mask * noisy_img\n",
    "    if True:\n",
    "        expanded_device_mask = expanded_scene_no_cells\n",
    "    else:\n",
    "        expanded_device_mask = expanded_scene_no_cells == media_multiplier\n",
    "    expanded_device_mask = rescale(expanded_device_mask, 1/resize_amount, anti_aliasing=False)\n",
    "    real_resize, expanded_device_mask = make_images_same_shape(real_image,expanded_device_mask, rescale_int=True)\n",
    "    just_device = expanded_device_mask * noisy_img\n",
    "    \n",
    "    \n",
    "    \n",
    "    \n",
    "    simulated_means = np.array([just_media[np.where(just_media)].mean(), just_cells[np.where(just_cells)].mean(), just_device[np.where(just_device)].mean()])\n",
    "    simulated_vars = np.array([just_media[np.where(just_media)].var(), just_cells[np.where(just_cells)].var(), just_device[np.where(just_device)].var()])\n",
    "\n",
    "    \n",
    "    \n",
    "    \n",
    "    if fluorescence:\n",
    "        mean_error.append(perc_diff(np.mean(noisy_img),np.mean(real_resize)))\n",
    "        mean_var_error.append(perc_diff(np.var(noisy_img),np.var(real_resize)))\n",
    "    else:\n",
    "        mean_error.append(np.mean(perc_diff(real_means, simulated_means)))\n",
    "        media_error.append(perc_diff(simulated_means[0], real_media_mean))\n",
    "        cell_error.append(perc_diff(simulated_means[1], real_cell_mean))\n",
    "        device_error.append(perc_diff(simulated_means[2], real_device_mean))\n",
    "\n",
    "\n",
    "        mean_var_error.append(np.mean(perc_diff(real_vars, simulated_vars)))\n",
    "        media_var_error.append(perc_diff(simulated_vars[0], real_media_var))\n",
    "        cell_var_error.append(perc_diff(simulated_vars[1], real_cell_var))\n",
    "        device_var_error.append(perc_diff(simulated_vars[2], real_device_var))\n",
    "    if debug_plot == True:\n",
    "        fig = plt.figure(figsize=(15,5))\n",
    "        ax1 = plt.subplot2grid((1,8),(0,0),colspan=1,rowspan=1)\n",
    "        ax2 = plt.subplot2grid((1,8),(0,1),colspan=1,rowspan=1)\n",
    "        ax3 = plt.subplot2grid((1,8),(0,2),colspan=3,rowspan=1)\n",
    "        ax4 = plt.subplot2grid((1,8),(0,5),colspan=3,rowspan=1)\n",
    "        ax1.imshow(noisy_img,cmap=\"Greys_r\")\n",
    "        ax1.set_title(\"Synthetic\")\n",
    "        ax1.axis(\"off\")\n",
    "        ax2.imshow(real_resize,cmap=\"Greys_r\")\n",
    "        ax2.set_title(\"Real\")\n",
    "        ax2.axis(\"off\")\n",
    "        ax3.plot(mean_error)\n",
    "        ax3.plot(media_error)\n",
    "        ax3.plot(cell_error)\n",
    "        ax3.plot(device_error)\n",
    "        ax3.legend([\"Mean error\", \"Media error\", \"Cell error\", \"Device error\"])\n",
    "        ax3.set_title(\"Intensity Error\")\n",
    "\n",
    "        ax4.plot(mean_var_error)\n",
    "        ax4.plot(media_var_error)\n",
    "        ax4.plot(cell_var_error)\n",
    "        ax4.plot(device_var_error)\n",
    "        ax4.legend([\"Mean error\", \"Media error\", \"Cell error\", \"Device error\"])\n",
    "        ax4.set_title(\"Variance Error\")\n",
    "\n",
    "        fig.tight_layout()\n",
    "        plt.show()\n",
    "        plt.close()\n",
    "    else:\n",
    "        return noisy_img, expanded_mask_resized_reshaped.astype(int)"
   ]
  },
  {
   "cell_type": "code",
   "execution_count": 16,
   "id": "7ef9f0e0-ec46-410a-ae01-60ef3caa87de",
   "metadata": {},
   "outputs": [],
   "source": [
    "mean_error = []\n",
    "media_error = []\n",
    "cell_error = []\n",
    "device_error = []\n",
    "\n",
    "mean_var_error = []\n",
    "media_var_error = []\n",
    "cell_var_error = []\n",
    "device_var_error = []\n",
    "\n",
    "error_params = (mean_error,media_error,cell_error,device_error,mean_var_error,media_var_error,cell_var_error,device_var_error)\n",
    "\n",
    "params = interactive(\n",
    "    generate_test_comparison,\n",
    "    media_multiplier=(-300,300,1),\n",
    "    cell_multiplier=(-30,30,0.01),\n",
    "    device_multiplier=(-300,300,1),\n",
    "    sigma=(min_sigma,min_sigma*20, min_sigma/20),\n",
    "    scene_no = (0,len(scenes)-1,1),\n",
    "    noise_var=(0,0.01, 0.0001),\n",
    "    scale=fixed(scale),\n",
    "    match_fourier = [True, False],\n",
    "    match_histogram = [True, False],\n",
    "    match_noise = [True, False],\n",
    "    offset=fixed(offset),\n",
    "    main_segments = fixed(main_segments),\n",
    "    debug_plot=fixed(True),\n",
    "    scenes = fixed(scenes),\n",
    "    kernel_params = fixed(kernel_params),\n",
    "    resize_amount = fixed(resize_amount), \n",
    "    real_image = fixed(real_image),\n",
    "    image_params = fixed(image_params),\n",
    "    error_params = fixed(error_params),\n",
    "    x_border_expansion_coefficient = fixed(x_border_expansion_coefficient),\n",
    "    y_border_expansion_coefficient = fixed(y_border_expansion_coefficient),\n",
    "    fluorescence=[True,False],\n",
    "    blur_sigma=(0,10,0.01)\n",
    ");"
   ]
  },
  {
   "cell_type": "code",
   "execution_count": 17,
   "id": "8c5fcae0-539e-49b1-96c5-7157cda93aa1",
   "metadata": {},
   "outputs": [
    {
     "data": {
      "application/vnd.jupyter.widget-view+json": {
       "model_id": "034a1bc36ee64b108669b698b4e24835",
       "version_major": 2,
       "version_minor": 0
      },
      "text/plain": [
       "interactive(children=(IntSlider(value=0, description='media_multiplier', max=300, min=-300), FloatSlider(value…"
      ]
     },
     "metadata": {},
     "output_type": "display_data"
    }
   ],
   "source": [
    "params"
   ]
  },
  {
   "cell_type": "code",
   "execution_count": 18,
   "id": "9afb5727-0a4d-4226-93e1-bdfbc2b662ae",
   "metadata": {},
   "outputs": [],
   "source": [
    "def generate_training_data(interactive_output, sample_amount, randomise_hist_match, randomise_noise_match, sim_length, burn_in, n_samples, save_dir):\n",
    "    #media_multiplier, cell_multiplier, device_multiplier, sigma, scene_no, scale, match_histogram, match_noise, offset, debug_plot, noise_var = list(interactive_output.kwargs.values())\n",
    "    media_multiplier, cell_multiplier, device_multiplier, sigma, scene_no, scale, match_fourier, match_histogram, match_noise, offset, debug_plot, noise_var, main_segments, scenes, kernel_params, resize_amount, real_image, image_params, error_params, x_border_expansion_coefficient,y_border_expansion_coefficient, fluorescence, blur_sigma = list(interactive_output.kwargs.values())\n",
    "    debug_plot = False\n",
    "    try:\n",
    "        os.mkdir(save_dir)\n",
    "    except:\n",
    "        pass\n",
    "    try:\n",
    "        os.mkdir(save_dir + \"/convolutions\")\n",
    "    except:\n",
    "        pass\n",
    "    try:\n",
    "        os.mkdir(save_dir + \"/masks\")\n",
    "    except:\n",
    "        pass\n",
    "        \n",
    "    current_file_num = len(os.listdir(save_dir+\"/convolutions\"))\n",
    "    #for z in range(n_samples):\n",
    "    def generate_samples(z):\n",
    "        _media_multiplier = np.random.uniform(1-sample_amount,1+sample_amount) * media_multiplier\n",
    "        _cell_multiplier = np.random.uniform(1-sample_amount,1+sample_amount) * cell_multiplier\n",
    "        _device_multiplier = np.random.uniform(1-sample_amount,1+sample_amount) * device_multiplier\n",
    "        _sigma = np.random.uniform(1-sample_amount,1+sample_amount) * sigma\n",
    "        _scene_no = np.random.randint(burn_in,sim_length-2)\n",
    "        _noise_var = np.random.uniform(1-sample_amount,1+sample_amount) * noise_var\n",
    "        if randomise_hist_match:\n",
    "            _match_histogram = np.random.choice([True, False])\n",
    "        else:\n",
    "            _match_histogram = match_histogram\n",
    "        if randomise_noise_match:\n",
    "            _match_noise = np.random.choice([True, False])\n",
    "        else:\n",
    "            _match_noise = match_noise\n",
    "        \n",
    "        syn_image, mask = generate_test_comparison(_media_multiplier, _cell_multiplier, _device_multiplier, _sigma, _scene_no, scale, match_fourier, _match_histogram, match_noise, offset, debug_plot, noise_var, main_segments, scenes, kernel_params, resize_amount, real_image, image_params, error_params, x_border_expansion_coefficient,y_border_expansion_coefficient, fluorescence, blur_sigma)\n",
    "        \n",
    "        syn_image = Image.fromarray(skimage.img_as_uint(rescale_intensity(syn_image)))\n",
    "        syn_image.save(\"{}/convolutions/synth_{}.tif\".format(save_dir, str(z).zfill(5)))\n",
    "        \n",
    "        if (cell_multiplier == 0) or (cell_multiplier == 0.0):\n",
    "            mask = np.zeros(mask.shape)\n",
    "            mask = Image.fromarray(mask.astype(np.uint8))\n",
    "            mask.save(\"{}/masks/synth_{}.tif\".format(save_dir, str(z).zfill(5)))\n",
    "        else: \n",
    "            mask = Image.fromarray(mask.astype(np.uint8))\n",
    "            mask.save(\"{}/masks/synth_{}.tif\".format(save_dir, str(z).zfill(5)))        \n",
    "    ## TODO: change parallel if not using GPU\n",
    "    Parallel(n_jobs=1)(delayed(generate_samples)(z) for z in tqdm(range(current_file_num,n_samples+current_file_num), desc=\"Sample generation\"))"
   ]
  },
  {
   "cell_type": "code",
   "execution_count": 13,
   "id": "46a8a43d-4bae-4630-8cdb-ac33f03181ba",
   "metadata": {},
   "outputs": [
    {
     "data": {
      "application/vnd.jupyter.widget-view+json": {
       "model_id": "785176abddd0423ea4641615e91d63c6",
       "version_major": 2,
       "version_minor": 0
      },
      "text/plain": [
       "interactive(children=(IntSlider(value=0, description='media_multiplier', max=300, min=-300), FloatSlider(value…"
      ]
     },
     "metadata": {},
     "output_type": "display_data"
    }
   ],
   "source": [
    "params"
   ]
  },
  {
   "cell_type": "code",
   "execution_count": 19,
   "id": "005633aa-0587-4639-a40e-24cc202dad5b",
   "metadata": {
    "tags": []
   },
   "outputs": [
    {
     "data": {
      "application/vnd.jupyter.widget-view+json": {
       "model_id": "9ce07b631d6c468caa64d12b83b00037",
       "version_major": 2,
       "version_minor": 0
      },
      "text/plain": [
       "Sample generation:   0%|          | 0/1000 [00:00<?, ?it/s]"
      ]
     },
     "metadata": {},
     "output_type": "display_data"
    }
   ],
   "source": [
    "generate_training_data(interactive_output = params, sample_amount = 0.02, randomise_hist_match = True, randomise_noise_match = False, sim_length = sim_length, burn_in = 0, n_samples =  1000, save_dir = \"/home/georgeos/Storage/Dropbox (Cambridge University)/PhD_Georgeos_Hardo/ML_based_segmentation_results/40x_Ph2_test_1.5/training_data_DELTA/\")"
   ]
  },
  {
   "cell_type": "markdown",
   "id": "7695e753-539c-4365-b373-e38329014986",
   "metadata": {},
   "source": [
    "### Do medium cells"
   ]
  },
  {
   "cell_type": "code",
   "execution_count": 37,
   "id": "d312d5fb-ca93-4fcf-b322-c9a17ee866c3",
   "metadata": {
    "collapsed": true,
    "jupyter": {
     "outputs_hidden": true
    },
    "tags": []
   },
   "outputs": [
    {
     "name": "stderr",
     "output_type": "stream",
     "text": [
      "\n",
      "Simulation Progress:   0%|                                                                     | 0/650 [00:00<?, ?it/s]\u001b[A\n",
      "Simulation Progress:   6%|███▋                                                       | 41/650 [00:00<00:01, 394.24it/s]\u001b[A\n",
      "Simulation Progress:  12%|███████▎                                                   | 81/650 [00:00<00:02, 269.62it/s]\u001b[A\n",
      "Simulation Progress:  17%|█████████▉                                                | 111/650 [00:00<00:02, 192.64it/s]\u001b[A\n",
      "Simulation Progress:  20%|███████████▊                                              | 133/650 [00:00<00:03, 160.47it/s]\u001b[A\n",
      "Simulation Progress:  23%|█████████████▍                                            | 151/650 [00:00<00:03, 135.88it/s]\u001b[A\n",
      "Simulation Progress:  26%|██████████████▊                                           | 166/650 [00:01<00:03, 128.73it/s]\u001b[A\n",
      "Simulation Progress:  28%|████████████████                                          | 180/650 [00:01<00:03, 122.83it/s]\u001b[A\n",
      "Simulation Progress:  30%|█████████████████▏                                        | 193/650 [00:01<00:04, 112.21it/s]\u001b[A\n",
      "Simulation Progress:  32%|██████████████████▎                                       | 205/650 [00:01<00:04, 107.18it/s]\u001b[A\n",
      "Simulation Progress:  33%|███████████████████▎                                      | 217/650 [00:01<00:03, 109.15it/s]\u001b[A\n",
      "Simulation Progress:  35%|████████████████████▎                                     | 228/650 [00:01<00:03, 108.02it/s]\u001b[A\n",
      "Simulation Progress:  37%|█████████████████████▎                                    | 239/650 [00:01<00:04, 100.09it/s]\u001b[A\n",
      "Simulation Progress:  38%|██████████████████████▋                                    | 250/650 [00:01<00:04, 99.57it/s]\u001b[A\n",
      "Simulation Progress:  40%|███████████████████████▌                                   | 260/650 [00:02<00:05, 74.14it/s]\u001b[A\n",
      "Simulation Progress:  41%|████████████████████████▍                                  | 269/650 [00:02<00:06, 62.52it/s]\u001b[A\n",
      "Simulation Progress:  43%|█████████████████████████▏                                 | 277/650 [00:02<00:06, 54.29it/s]\u001b[A\n",
      "Simulation Progress:  44%|█████████████████████████▊                                 | 284/650 [00:02<00:07, 49.80it/s]\u001b[A\n",
      "Simulation Progress:  45%|██████████████████████████▎                                | 290/650 [00:02<00:07, 45.72it/s]\u001b[A\n",
      "Simulation Progress:  45%|██████████████████████████▊                                | 295/650 [00:03<00:08, 43.59it/s]\u001b[A\n",
      "Simulation Progress:  46%|███████████████████████████▏                               | 300/650 [00:03<00:08, 42.46it/s]\u001b[A\n",
      "Simulation Progress:  47%|███████████████████████████▋                               | 305/650 [00:03<00:08, 41.65it/s]\u001b[A\n",
      "Simulation Progress:  48%|████████████████████████████▏                              | 310/650 [00:03<00:08, 42.02it/s]\u001b[A\n",
      "Simulation Progress:  48%|████████████████████████████▌                              | 315/650 [00:03<00:07, 42.02it/s]\u001b[A\n",
      "Simulation Progress:  49%|█████████████████████████████                              | 320/650 [00:03<00:07, 42.22it/s]\u001b[A\n",
      "Simulation Progress:  50%|█████████████████████████████▌                             | 325/650 [00:03<00:07, 41.56it/s]\u001b[A\n",
      "Simulation Progress:  51%|█████████████████████████████▉                             | 330/650 [00:03<00:07, 40.90it/s]\u001b[A\n",
      "Simulation Progress:  52%|██████████████████████████████▍                            | 335/650 [00:04<00:07, 39.69it/s]\u001b[A\n",
      "Simulation Progress:  52%|██████████████████████████████▊                            | 339/650 [00:04<00:08, 38.52it/s]\u001b[A\n",
      "Simulation Progress:  53%|███████████████████████████████▏                           | 343/650 [00:04<00:08, 38.21it/s]\u001b[A\n",
      "Simulation Progress:  53%|███████████████████████████████▍                           | 347/650 [00:04<00:08, 37.79it/s]\u001b[A\n",
      "Simulation Progress:  54%|███████████████████████████████▊                           | 351/650 [00:04<00:07, 37.97it/s]\u001b[A\n",
      "Simulation Progress:  55%|████████████████████████████████▎                          | 356/650 [00:04<00:07, 39.65it/s]\u001b[A\n",
      "Simulation Progress:  56%|████████████████████████████████▊                          | 361/650 [00:04<00:07, 41.14it/s]\u001b[A\n",
      "Simulation Progress:  56%|█████████████████████████████████▏                         | 366/650 [00:04<00:06, 41.30it/s]\u001b[A\n",
      "Simulation Progress:  57%|█████████████████████████████████▋                         | 371/650 [00:04<00:06, 41.57it/s]\u001b[A\n",
      "Simulation Progress:  58%|██████████████████████████████████▏                        | 376/650 [00:05<00:20, 13.47it/s]\u001b[A\n",
      "Simulation Progress:  58%|██████████████████████████████████▍                        | 380/650 [00:05<00:16, 16.18it/s]\u001b[A\n",
      "Simulation Progress:  59%|██████████████████████████████████▊                        | 384/650 [00:06<00:13, 19.11it/s]\u001b[A\n",
      "Simulation Progress:  60%|███████████████████████████████████▏                       | 388/650 [00:06<00:12, 21.70it/s]\u001b[A\n",
      "Simulation Progress:  60%|███████████████████████████████████▌                       | 392/650 [00:06<00:10, 24.73it/s]\u001b[A\n",
      "Simulation Progress:  61%|███████████████████████████████████▉                       | 396/650 [00:06<00:09, 27.42it/s]\u001b[A\n",
      "Simulation Progress:  62%|████████████████████████████████████▎                      | 400/650 [00:06<00:08, 29.93it/s]\u001b[A\n",
      "Simulation Progress:  62%|████████████████████████████████████▊                      | 405/650 [00:06<00:07, 33.44it/s]\u001b[A\n",
      "Simulation Progress:  63%|█████████████████████████████████████▏                     | 410/650 [00:06<00:06, 36.44it/s]\u001b[A\n",
      "Simulation Progress:  64%|█████████████████████████████████████▋                     | 415/650 [00:06<00:06, 38.53it/s]\u001b[A\n",
      "Simulation Progress:  65%|██████████████████████████████████████                     | 420/650 [00:06<00:05, 38.69it/s]\u001b[A\n",
      "Simulation Progress:  65%|██████████████████████████████████████▌                    | 425/650 [00:07<00:05, 38.26it/s]\u001b[A\n",
      "Simulation Progress:  66%|██████████████████████████████████████▉                    | 429/650 [00:07<00:05, 37.93it/s]\u001b[A\n",
      "Simulation Progress:  67%|███████████████████████████████████████▎                   | 433/650 [00:07<00:05, 36.65it/s]\u001b[A\n",
      "Simulation Progress:  67%|███████████████████████████████████████▋                   | 437/650 [00:07<00:05, 36.20it/s]\u001b[A\n",
      "Simulation Progress:  68%|████████████████████████████████████████                   | 441/650 [00:07<00:05, 36.34it/s]\u001b[A\n",
      "Simulation Progress:  69%|████████████████████████████████████████▍                  | 446/650 [00:07<00:05, 37.59it/s]\u001b[A\n",
      "Simulation Progress:  69%|████████████████████████████████████████▊                  | 450/650 [00:07<00:05, 37.54it/s]\u001b[A\n",
      "Simulation Progress:  70%|█████████████████████████████████████████▏                 | 454/650 [00:07<00:05, 38.20it/s]\u001b[A\n",
      "Simulation Progress:  71%|█████████████████████████████████████████▋                 | 459/650 [00:08<00:04, 39.73it/s]\u001b[A\n",
      "Simulation Progress:  71%|██████████████████████████████████████████                 | 464/650 [00:08<00:04, 40.55it/s]\u001b[A\n",
      "Simulation Progress:  72%|██████████████████████████████████████████▌                | 469/650 [00:08<00:04, 40.58it/s]\u001b[A\n",
      "Simulation Progress:  73%|███████████████████████████████████████████                | 474/650 [00:08<00:04, 39.21it/s]\u001b[A\n",
      "Simulation Progress:  74%|███████████████████████████████████████████▍               | 478/650 [00:08<00:04, 38.91it/s]\u001b[A\n",
      "Simulation Progress:  74%|███████████████████████████████████████████▊               | 482/650 [00:08<00:04, 37.50it/s]\u001b[A\n",
      "Simulation Progress:  75%|████████████████████████████████████████████               | 486/650 [00:08<00:04, 37.86it/s]\u001b[A\n",
      "Simulation Progress:  75%|████████████████████████████████████████████▍              | 490/650 [00:08<00:04, 37.62it/s]\u001b[A\n",
      "Simulation Progress:  76%|████████████████████████████████████████████▊              | 494/650 [00:08<00:04, 37.76it/s]\u001b[A\n",
      "Simulation Progress:  77%|█████████████████████████████████████████████▏             | 498/650 [00:09<00:04, 37.75it/s]\u001b[A\n",
      "Simulation Progress:  77%|█████████████████████████████████████████████▌             | 502/650 [00:09<00:03, 37.85it/s]\u001b[A\n",
      "Simulation Progress:  78%|██████████████████████████████████████████████             | 507/650 [00:09<00:03, 39.41it/s]\u001b[A\n",
      "Simulation Progress:  79%|██████████████████████████████████████████████▍            | 512/650 [00:09<00:03, 40.45it/s]\u001b[A\n",
      "Simulation Progress:  80%|██████████████████████████████████████████████▉            | 517/650 [00:09<00:03, 40.62it/s]\u001b[A\n",
      "Simulation Progress:  80%|███████████████████████████████████████████████▍           | 522/650 [00:09<00:03, 40.22it/s]\u001b[A\n",
      "Simulation Progress:  81%|███████████████████████████████████████████████▊           | 527/650 [00:09<00:03, 38.52it/s]\u001b[A\n",
      "Simulation Progress:  82%|████████████████████████████████████████████████▏          | 531/650 [00:09<00:03, 38.22it/s]\u001b[A\n",
      "Simulation Progress:  82%|████████████████████████████████████████████████▌          | 535/650 [00:10<00:09, 11.63it/s]\u001b[A\n",
      "Simulation Progress:  83%|████████████████████████████████████████████████▉          | 539/650 [00:10<00:07, 14.39it/s]\u001b[A\n",
      "Simulation Progress:  84%|█████████████████████████████████████████████████▎         | 543/650 [00:11<00:06, 17.45it/s]\u001b[A\n",
      "Simulation Progress:  84%|█████████████████████████████████████████████████▋         | 547/650 [00:11<00:05, 20.52it/s]\u001b[A\n",
      "Simulation Progress:  85%|██████████████████████████████████████████████████         | 551/650 [00:11<00:04, 23.52it/s]\u001b[A\n",
      "Simulation Progress:  86%|██████████████████████████████████████████████████▍        | 556/650 [00:11<00:03, 27.55it/s]\u001b[A\n",
      "Simulation Progress:  86%|██████████████████████████████████████████████████▉        | 561/650 [00:11<00:02, 31.00it/s]\u001b[A\n",
      "Simulation Progress:  87%|███████████████████████████████████████████████████▎       | 565/650 [00:11<00:02, 32.96it/s]\u001b[A\n",
      "Simulation Progress:  88%|███████████████████████████████████████████████████▋       | 570/650 [00:11<00:02, 36.05it/s]\u001b[A\n",
      "Simulation Progress:  88%|████████████████████████████████████████████████████▏      | 575/650 [00:11<00:02, 35.46it/s]\u001b[A\n",
      "Simulation Progress:  89%|████████████████████████████████████████████████████▌      | 579/650 [00:12<00:02, 34.86it/s]\u001b[A\n",
      "Simulation Progress:  90%|████████████████████████████████████████████████████▉      | 583/650 [00:12<00:01, 34.43it/s]\u001b[A\n",
      "Simulation Progress:  90%|█████████████████████████████████████████████████████▎     | 587/650 [00:12<00:01, 35.04it/s]\u001b[A\n",
      "Simulation Progress:  91%|█████████████████████████████████████████████████████▋     | 591/650 [00:12<00:01, 34.88it/s]\u001b[A\n",
      "Simulation Progress:  92%|██████████████████████████████████████████████████████     | 595/650 [00:12<00:01, 35.67it/s]\u001b[A\n",
      "Simulation Progress:  92%|██████████████████████████████████████████████████████▎    | 599/650 [00:12<00:01, 36.64it/s]\u001b[A\n",
      "Simulation Progress:  93%|██████████████████████████████████████████████████████▊    | 604/650 [00:12<00:01, 39.16it/s]\u001b[A\n",
      "Simulation Progress:  94%|███████████████████████████████████████████████████████▎   | 609/650 [00:12<00:01, 39.74it/s]\u001b[A\n",
      "Simulation Progress:  94%|███████████████████████████████████████████████████████▋   | 614/650 [00:12<00:00, 39.62it/s]\u001b[A\n",
      "Simulation Progress:  95%|████████████████████████████████████████████████████████   | 618/650 [00:13<00:00, 39.00it/s]\u001b[A\n",
      "Simulation Progress:  96%|████████████████████████████████████████████████████████▍  | 622/650 [00:13<00:00, 37.93it/s]\u001b[A\n",
      "Simulation Progress:  96%|████████████████████████████████████████████████████████▊  | 626/650 [00:13<00:00, 36.69it/s]\u001b[A\n",
      "Simulation Progress:  97%|█████████████████████████████████████████████████████████▏ | 630/650 [00:13<00:00, 35.38it/s]\u001b[A\n",
      "Simulation Progress:  98%|█████████████████████████████████████████████████████████▌ | 634/650 [00:13<00:00, 35.39it/s]\u001b[A\n",
      "Simulation Progress:  98%|█████████████████████████████████████████████████████████▉ | 638/650 [00:13<00:00, 36.34it/s]\u001b[A\n",
      "Simulation Progress:  99%|██████████████████████████████████████████████████████████▎| 642/650 [00:13<00:00, 36.44it/s]\u001b[A\n",
      "Simulation Progress: 100%|███████████████████████████████████████████████████████████| 650/650 [00:13<00:00, 46.72it/s]\u001b[A\n"
     ]
    },
    {
     "data": {
      "application/vnd.jupyter.widget-view+json": {
       "model_id": "f32ab45a0e664f9b971506235f85a649",
       "version_major": 2,
       "version_minor": 0
      },
      "text/plain": [
       "Timeseries Properties:   0%|          | 0/399 [00:00<?, ?it/s]"
      ]
     },
     "metadata": {},
     "output_type": "display_data"
    },
    {
     "data": {
      "application/vnd.jupyter.widget-view+json": {
       "model_id": "0b55ac682454443bb6502ed4c5f47e05",
       "version_major": 2,
       "version_minor": 0
      },
      "text/plain": [
       "Scene Draw::   0%|          | 0/399 [00:00<?, ?it/s]"
      ]
     },
     "metadata": {},
     "output_type": "display_data"
    }
   ],
   "source": [
    "sim_length = 400\n",
    "cell_timeseries, space = run_simulation(\n",
    "    trench_length=17.5, \n",
    "    trench_width=1.5, \n",
    "    cell_max_length=4.8, \n",
    "    cell_width=1.15, \n",
    "    sim_length = sim_length, \n",
    "    pix_mic_conv = pix_mic_conv,\n",
    "    gravity=-7,\n",
    "    phys_iters=25\n",
    ") # growth phase\n",
    "main_segments = get_trench_segments(space)\n",
    "ID_props = generate_curve_props(cell_timeseries)\n",
    "cell_timeseries_properties = Parallel(n_jobs=-1)(\n",
    "    delayed(gen_cell_props_for_draw)(a, ID_props) for a in tqdm(cell_timeseries, desc='Timeseries Properties'))\n",
    "do_transformation = True\n",
    "offset = 30\n",
    "mask_threshold = 18\n",
    "label_masks = True\n",
    "space_size = get_space_size(cell_timeseries_properties)\n",
    "scenes = Parallel(n_jobs=-1)(delayed(draw_scene)(\n",
    "    cell_properties, do_transformation, mask_threshold, space_size, offset, label_masks) for cell_properties in tqdm(cell_timeseries_properties, desc='Scene Draw:'))"
   ]
  },
  {
   "cell_type": "code",
   "execution_count": 43,
   "id": "99bd965a-cc77-444a-aa0c-2b5fb0e30029",
   "metadata": {},
   "outputs": [],
   "source": [
    "mean_error = []\n",
    "media_error = []\n",
    "cell_error = []\n",
    "device_error = []\n",
    "\n",
    "mean_var_error = []\n",
    "media_var_error = []\n",
    "cell_var_error = []\n",
    "device_var_error = []\n",
    "\n",
    "error_params = (mean_error,media_error,cell_error,device_error,mean_var_error,media_var_error,cell_var_error,device_var_error)\n",
    "\n",
    "params = interactive(\n",
    "    generate_test_comparison,\n",
    "    media_multiplier=(-300,300,1),\n",
    "    cell_multiplier=(-30,30,0.01),\n",
    "    device_multiplier=(-300,300,1),\n",
    "    sigma=(min_sigma,min_sigma*20, min_sigma/20),\n",
    "    scene_no = (0,sim_length-2,1),\n",
    "    noise_var=(0,0.01, 0.0001),\n",
    "    scale=(scale,scale,scale),\n",
    "    match_histogram = [True, False],\n",
    "    match_noise = [True, False],\n",
    "    offset=fixed(offset),\n",
    "    main_segments = fixed(main_segments),\n",
    "    debug_plot=fixed(True),\n",
    "    scenes = fixed(scenes),\n",
    "    kernel_params = fixed(kernel_params),\n",
    "    resize_amount = fixed(resize_amount), \n",
    "    real_image = fixed(real_image),\n",
    "    image_params = fixed(image_params),\n",
    "    error_params = fixed(error_params),\n",
    "    x_border_expansion_coefficient = fixed(x_border_expansion_coefficient),\n",
    "    y_border_expansion_coefficient = fixed(y_border_expansion_coefficient)\n",
    ");"
   ]
  },
  {
   "cell_type": "code",
   "execution_count": 44,
   "id": "ab5bf954-4e3f-4f72-802f-cf06dc43d458",
   "metadata": {},
   "outputs": [
    {
     "data": {
      "application/vnd.jupyter.widget-view+json": {
       "model_id": "8d24fef1f1914866aadffa8eefa0ab8a",
       "version_major": 2,
       "version_minor": 0
      },
      "text/plain": [
       "interactive(children=(IntSlider(value=0, description='media_multiplier', max=300, min=-300), FloatSlider(value…"
      ]
     },
     "metadata": {},
     "output_type": "display_data"
    }
   ],
   "source": [
    "params"
   ]
  },
  {
   "cell_type": "code",
   "execution_count": 46,
   "id": "6abcdd96-3e14-4e2b-b9ef-8f19ab5a5ba7",
   "metadata": {
    "collapsed": true,
    "jupyter": {
     "outputs_hidden": true
    },
    "tags": []
   },
   "outputs": [
    {
     "data": {
      "application/vnd.jupyter.widget-view+json": {
       "model_id": "818822091d1c4b0f8b9c7e7bfaf7c67b",
       "version_major": 2,
       "version_minor": 0
      },
      "text/plain": [
       "Sample generation:   0%|          | 0/5000 [00:00<?, ?it/s]"
      ]
     },
     "metadata": {},
     "output_type": "display_data"
    },
    {
     "ename": "KeyboardInterrupt",
     "evalue": "",
     "output_type": "error",
     "traceback": [
      "\u001b[1;31m---------------------------------------------------------------------------\u001b[0m",
      "\u001b[1;31mKeyboardInterrupt\u001b[0m                         Traceback (most recent call last)",
      "\u001b[1;32m<ipython-input-46-0884b5b52929>\u001b[0m in \u001b[0;36m<module>\u001b[1;34m\u001b[0m\n\u001b[1;32m----> 1\u001b[1;33m \u001b[0mgenerate_training_data\u001b[0m\u001b[1;33m(\u001b[0m\u001b[0minteractive_output\u001b[0m \u001b[1;33m=\u001b[0m \u001b[0mparams\u001b[0m\u001b[1;33m,\u001b[0m \u001b[0msample_amount\u001b[0m \u001b[1;33m=\u001b[0m \u001b[1;36m0.075\u001b[0m\u001b[1;33m,\u001b[0m \u001b[0mrandomise_hist_match\u001b[0m \u001b[1;33m=\u001b[0m \u001b[1;32mFalse\u001b[0m\u001b[1;33m,\u001b[0m \u001b[0mrandomise_noise_match\u001b[0m \u001b[1;33m=\u001b[0m \u001b[1;32mFalse\u001b[0m\u001b[1;33m,\u001b[0m \u001b[0msim_length\u001b[0m \u001b[1;33m=\u001b[0m \u001b[0msim_length\u001b[0m\u001b[1;33m,\u001b[0m \u001b[0mburn_in\u001b[0m \u001b[1;33m=\u001b[0m \u001b[1;36m0\u001b[0m\u001b[1;33m,\u001b[0m \u001b[0mn_samples\u001b[0m \u001b[1;33m=\u001b[0m  \u001b[1;36m5000\u001b[0m\u001b[1;33m,\u001b[0m \u001b[0msave_dir\u001b[0m \u001b[1;33m=\u001b[0m \u001b[1;34m\"C:\\\\Users\\\\gh464\\Documents\\Ph2 training data\\\\bent_noisematched_allsize_emptytrench\\\\\"\u001b[0m\u001b[1;33m)\u001b[0m\u001b[1;33m\u001b[0m\u001b[1;33m\u001b[0m\u001b[0m\n\u001b[0m",
      "\u001b[1;32m<ipython-input-35-8d504e04df7d>\u001b[0m in \u001b[0;36mgenerate_training_data\u001b[1;34m(interactive_output, sample_amount, randomise_hist_match, randomise_noise_match, sim_length, burn_in, n_samples, save_dir)\u001b[0m\n\u001b[0;32m     41\u001b[0m         \u001b[0mmask\u001b[0m\u001b[1;33m.\u001b[0m\u001b[0msave\u001b[0m\u001b[1;33m(\u001b[0m\u001b[1;34m\"{}/masks/synth_{}.tif\"\u001b[0m\u001b[1;33m.\u001b[0m\u001b[0mformat\u001b[0m\u001b[1;33m(\u001b[0m\u001b[0msave_dir\u001b[0m\u001b[1;33m,\u001b[0m \u001b[0mstr\u001b[0m\u001b[1;33m(\u001b[0m\u001b[0mz\u001b[0m\u001b[1;33m)\u001b[0m\u001b[1;33m.\u001b[0m\u001b[0mzfill\u001b[0m\u001b[1;33m(\u001b[0m\u001b[1;36m5\u001b[0m\u001b[1;33m)\u001b[0m\u001b[1;33m)\u001b[0m\u001b[1;33m)\u001b[0m\u001b[1;33m\u001b[0m\u001b[1;33m\u001b[0m\u001b[0m\n\u001b[0;32m     42\u001b[0m     \u001b[1;31m## TODO: change parallel if not using GPU\u001b[0m\u001b[1;33m\u001b[0m\u001b[1;33m\u001b[0m\u001b[1;33m\u001b[0m\u001b[0m\n\u001b[1;32m---> 43\u001b[1;33m     \u001b[0mParallel\u001b[0m\u001b[1;33m(\u001b[0m\u001b[0mn_jobs\u001b[0m\u001b[1;33m=\u001b[0m\u001b[1;36m1\u001b[0m\u001b[1;33m)\u001b[0m\u001b[1;33m(\u001b[0m\u001b[0mdelayed\u001b[0m\u001b[1;33m(\u001b[0m\u001b[0mgenerate_samples\u001b[0m\u001b[1;33m)\u001b[0m\u001b[1;33m(\u001b[0m\u001b[0mz\u001b[0m\u001b[1;33m)\u001b[0m \u001b[1;32mfor\u001b[0m \u001b[0mz\u001b[0m \u001b[1;32min\u001b[0m \u001b[0mtqdm\u001b[0m\u001b[1;33m(\u001b[0m\u001b[0mrange\u001b[0m\u001b[1;33m(\u001b[0m\u001b[0mcurrent_file_num\u001b[0m\u001b[1;33m,\u001b[0m\u001b[0mn_samples\u001b[0m\u001b[1;33m+\u001b[0m\u001b[0mcurrent_file_num\u001b[0m\u001b[1;33m)\u001b[0m\u001b[1;33m,\u001b[0m \u001b[0mdesc\u001b[0m\u001b[1;33m=\u001b[0m\u001b[1;34m\"Sample generation\"\u001b[0m\u001b[1;33m)\u001b[0m\u001b[1;33m)\u001b[0m\u001b[1;33m\u001b[0m\u001b[1;33m\u001b[0m\u001b[0m\n\u001b[0m",
      "\u001b[1;32m~\\anaconda3\\envs\\SYMPTOMM\\lib\\site-packages\\joblib\\parallel.py\u001b[0m in \u001b[0;36m__call__\u001b[1;34m(self, iterable)\u001b[0m\n\u001b[0;32m   1042\u001b[0m                 \u001b[0mself\u001b[0m\u001b[1;33m.\u001b[0m\u001b[0m_iterating\u001b[0m \u001b[1;33m=\u001b[0m \u001b[0mself\u001b[0m\u001b[1;33m.\u001b[0m\u001b[0m_original_iterator\u001b[0m \u001b[1;32mis\u001b[0m \u001b[1;32mnot\u001b[0m \u001b[1;32mNone\u001b[0m\u001b[1;33m\u001b[0m\u001b[1;33m\u001b[0m\u001b[0m\n\u001b[0;32m   1043\u001b[0m \u001b[1;33m\u001b[0m\u001b[0m\n\u001b[1;32m-> 1044\u001b[1;33m             \u001b[1;32mwhile\u001b[0m \u001b[0mself\u001b[0m\u001b[1;33m.\u001b[0m\u001b[0mdispatch_one_batch\u001b[0m\u001b[1;33m(\u001b[0m\u001b[0miterator\u001b[0m\u001b[1;33m)\u001b[0m\u001b[1;33m:\u001b[0m\u001b[1;33m\u001b[0m\u001b[1;33m\u001b[0m\u001b[0m\n\u001b[0m\u001b[0;32m   1045\u001b[0m                 \u001b[1;32mpass\u001b[0m\u001b[1;33m\u001b[0m\u001b[1;33m\u001b[0m\u001b[0m\n\u001b[0;32m   1046\u001b[0m \u001b[1;33m\u001b[0m\u001b[0m\n",
      "\u001b[1;32m~\\anaconda3\\envs\\SYMPTOMM\\lib\\site-packages\\joblib\\parallel.py\u001b[0m in \u001b[0;36mdispatch_one_batch\u001b[1;34m(self, iterator)\u001b[0m\n\u001b[0;32m    857\u001b[0m                 \u001b[1;32mreturn\u001b[0m \u001b[1;32mFalse\u001b[0m\u001b[1;33m\u001b[0m\u001b[1;33m\u001b[0m\u001b[0m\n\u001b[0;32m    858\u001b[0m             \u001b[1;32melse\u001b[0m\u001b[1;33m:\u001b[0m\u001b[1;33m\u001b[0m\u001b[1;33m\u001b[0m\u001b[0m\n\u001b[1;32m--> 859\u001b[1;33m                 \u001b[0mself\u001b[0m\u001b[1;33m.\u001b[0m\u001b[0m_dispatch\u001b[0m\u001b[1;33m(\u001b[0m\u001b[0mtasks\u001b[0m\u001b[1;33m)\u001b[0m\u001b[1;33m\u001b[0m\u001b[1;33m\u001b[0m\u001b[0m\n\u001b[0m\u001b[0;32m    860\u001b[0m                 \u001b[1;32mreturn\u001b[0m \u001b[1;32mTrue\u001b[0m\u001b[1;33m\u001b[0m\u001b[1;33m\u001b[0m\u001b[0m\n\u001b[0;32m    861\u001b[0m \u001b[1;33m\u001b[0m\u001b[0m\n",
      "\u001b[1;32m~\\anaconda3\\envs\\SYMPTOMM\\lib\\site-packages\\joblib\\parallel.py\u001b[0m in \u001b[0;36m_dispatch\u001b[1;34m(self, batch)\u001b[0m\n\u001b[0;32m    775\u001b[0m         \u001b[1;32mwith\u001b[0m \u001b[0mself\u001b[0m\u001b[1;33m.\u001b[0m\u001b[0m_lock\u001b[0m\u001b[1;33m:\u001b[0m\u001b[1;33m\u001b[0m\u001b[1;33m\u001b[0m\u001b[0m\n\u001b[0;32m    776\u001b[0m             \u001b[0mjob_idx\u001b[0m \u001b[1;33m=\u001b[0m \u001b[0mlen\u001b[0m\u001b[1;33m(\u001b[0m\u001b[0mself\u001b[0m\u001b[1;33m.\u001b[0m\u001b[0m_jobs\u001b[0m\u001b[1;33m)\u001b[0m\u001b[1;33m\u001b[0m\u001b[1;33m\u001b[0m\u001b[0m\n\u001b[1;32m--> 777\u001b[1;33m             \u001b[0mjob\u001b[0m \u001b[1;33m=\u001b[0m \u001b[0mself\u001b[0m\u001b[1;33m.\u001b[0m\u001b[0m_backend\u001b[0m\u001b[1;33m.\u001b[0m\u001b[0mapply_async\u001b[0m\u001b[1;33m(\u001b[0m\u001b[0mbatch\u001b[0m\u001b[1;33m,\u001b[0m \u001b[0mcallback\u001b[0m\u001b[1;33m=\u001b[0m\u001b[0mcb\u001b[0m\u001b[1;33m)\u001b[0m\u001b[1;33m\u001b[0m\u001b[1;33m\u001b[0m\u001b[0m\n\u001b[0m\u001b[0;32m    778\u001b[0m             \u001b[1;31m# A job can complete so quickly than its callback is\u001b[0m\u001b[1;33m\u001b[0m\u001b[1;33m\u001b[0m\u001b[1;33m\u001b[0m\u001b[0m\n\u001b[0;32m    779\u001b[0m             \u001b[1;31m# called before we get here, causing self._jobs to\u001b[0m\u001b[1;33m\u001b[0m\u001b[1;33m\u001b[0m\u001b[1;33m\u001b[0m\u001b[0m\n",
      "\u001b[1;32m~\\anaconda3\\envs\\SYMPTOMM\\lib\\site-packages\\joblib\\_parallel_backends.py\u001b[0m in \u001b[0;36mapply_async\u001b[1;34m(self, func, callback)\u001b[0m\n\u001b[0;32m    206\u001b[0m     \u001b[1;32mdef\u001b[0m \u001b[0mapply_async\u001b[0m\u001b[1;33m(\u001b[0m\u001b[0mself\u001b[0m\u001b[1;33m,\u001b[0m \u001b[0mfunc\u001b[0m\u001b[1;33m,\u001b[0m \u001b[0mcallback\u001b[0m\u001b[1;33m=\u001b[0m\u001b[1;32mNone\u001b[0m\u001b[1;33m)\u001b[0m\u001b[1;33m:\u001b[0m\u001b[1;33m\u001b[0m\u001b[1;33m\u001b[0m\u001b[0m\n\u001b[0;32m    207\u001b[0m         \u001b[1;34m\"\"\"Schedule a func to be run\"\"\"\u001b[0m\u001b[1;33m\u001b[0m\u001b[1;33m\u001b[0m\u001b[0m\n\u001b[1;32m--> 208\u001b[1;33m         \u001b[0mresult\u001b[0m \u001b[1;33m=\u001b[0m \u001b[0mImmediateResult\u001b[0m\u001b[1;33m(\u001b[0m\u001b[0mfunc\u001b[0m\u001b[1;33m)\u001b[0m\u001b[1;33m\u001b[0m\u001b[1;33m\u001b[0m\u001b[0m\n\u001b[0m\u001b[0;32m    209\u001b[0m         \u001b[1;32mif\u001b[0m \u001b[0mcallback\u001b[0m\u001b[1;33m:\u001b[0m\u001b[1;33m\u001b[0m\u001b[1;33m\u001b[0m\u001b[0m\n\u001b[0;32m    210\u001b[0m             \u001b[0mcallback\u001b[0m\u001b[1;33m(\u001b[0m\u001b[0mresult\u001b[0m\u001b[1;33m)\u001b[0m\u001b[1;33m\u001b[0m\u001b[1;33m\u001b[0m\u001b[0m\n",
      "\u001b[1;32m~\\anaconda3\\envs\\SYMPTOMM\\lib\\site-packages\\joblib\\_parallel_backends.py\u001b[0m in \u001b[0;36m__init__\u001b[1;34m(self, batch)\u001b[0m\n\u001b[0;32m    570\u001b[0m         \u001b[1;31m# Don't delay the application, to avoid keeping the input\u001b[0m\u001b[1;33m\u001b[0m\u001b[1;33m\u001b[0m\u001b[1;33m\u001b[0m\u001b[0m\n\u001b[0;32m    571\u001b[0m         \u001b[1;31m# arguments in memory\u001b[0m\u001b[1;33m\u001b[0m\u001b[1;33m\u001b[0m\u001b[1;33m\u001b[0m\u001b[0m\n\u001b[1;32m--> 572\u001b[1;33m         \u001b[0mself\u001b[0m\u001b[1;33m.\u001b[0m\u001b[0mresults\u001b[0m \u001b[1;33m=\u001b[0m \u001b[0mbatch\u001b[0m\u001b[1;33m(\u001b[0m\u001b[1;33m)\u001b[0m\u001b[1;33m\u001b[0m\u001b[1;33m\u001b[0m\u001b[0m\n\u001b[0m\u001b[0;32m    573\u001b[0m \u001b[1;33m\u001b[0m\u001b[0m\n\u001b[0;32m    574\u001b[0m     \u001b[1;32mdef\u001b[0m \u001b[0mget\u001b[0m\u001b[1;33m(\u001b[0m\u001b[0mself\u001b[0m\u001b[1;33m)\u001b[0m\u001b[1;33m:\u001b[0m\u001b[1;33m\u001b[0m\u001b[1;33m\u001b[0m\u001b[0m\n",
      "\u001b[1;32m~\\anaconda3\\envs\\SYMPTOMM\\lib\\site-packages\\joblib\\parallel.py\u001b[0m in \u001b[0;36m__call__\u001b[1;34m(self)\u001b[0m\n\u001b[0;32m    260\u001b[0m         \u001b[1;31m# change the default number of processes to -1\u001b[0m\u001b[1;33m\u001b[0m\u001b[1;33m\u001b[0m\u001b[1;33m\u001b[0m\u001b[0m\n\u001b[0;32m    261\u001b[0m         \u001b[1;32mwith\u001b[0m \u001b[0mparallel_backend\u001b[0m\u001b[1;33m(\u001b[0m\u001b[0mself\u001b[0m\u001b[1;33m.\u001b[0m\u001b[0m_backend\u001b[0m\u001b[1;33m,\u001b[0m \u001b[0mn_jobs\u001b[0m\u001b[1;33m=\u001b[0m\u001b[0mself\u001b[0m\u001b[1;33m.\u001b[0m\u001b[0m_n_jobs\u001b[0m\u001b[1;33m)\u001b[0m\u001b[1;33m:\u001b[0m\u001b[1;33m\u001b[0m\u001b[1;33m\u001b[0m\u001b[0m\n\u001b[1;32m--> 262\u001b[1;33m             return [func(*args, **kwargs)\n\u001b[0m\u001b[0;32m    263\u001b[0m                     for func, args, kwargs in self.items]\n\u001b[0;32m    264\u001b[0m \u001b[1;33m\u001b[0m\u001b[0m\n",
      "\u001b[1;32m~\\anaconda3\\envs\\SYMPTOMM\\lib\\site-packages\\joblib\\parallel.py\u001b[0m in \u001b[0;36m<listcomp>\u001b[1;34m(.0)\u001b[0m\n\u001b[0;32m    260\u001b[0m         \u001b[1;31m# change the default number of processes to -1\u001b[0m\u001b[1;33m\u001b[0m\u001b[1;33m\u001b[0m\u001b[1;33m\u001b[0m\u001b[0m\n\u001b[0;32m    261\u001b[0m         \u001b[1;32mwith\u001b[0m \u001b[0mparallel_backend\u001b[0m\u001b[1;33m(\u001b[0m\u001b[0mself\u001b[0m\u001b[1;33m.\u001b[0m\u001b[0m_backend\u001b[0m\u001b[1;33m,\u001b[0m \u001b[0mn_jobs\u001b[0m\u001b[1;33m=\u001b[0m\u001b[0mself\u001b[0m\u001b[1;33m.\u001b[0m\u001b[0m_n_jobs\u001b[0m\u001b[1;33m)\u001b[0m\u001b[1;33m:\u001b[0m\u001b[1;33m\u001b[0m\u001b[1;33m\u001b[0m\u001b[0m\n\u001b[1;32m--> 262\u001b[1;33m             return [func(*args, **kwargs)\n\u001b[0m\u001b[0;32m    263\u001b[0m                     for func, args, kwargs in self.items]\n\u001b[0;32m    264\u001b[0m \u001b[1;33m\u001b[0m\u001b[0m\n",
      "\u001b[1;32m<ipython-input-35-8d504e04df7d>\u001b[0m in \u001b[0;36mgenerate_samples\u001b[1;34m(z)\u001b[0m\n\u001b[0;32m     34\u001b[0m             \u001b[0m_match_noise\u001b[0m \u001b[1;33m=\u001b[0m \u001b[0mmatch_noise\u001b[0m\u001b[1;33m\u001b[0m\u001b[1;33m\u001b[0m\u001b[0m\n\u001b[0;32m     35\u001b[0m \u001b[1;33m\u001b[0m\u001b[0m\n\u001b[1;32m---> 36\u001b[1;33m         \u001b[0msyn_image\u001b[0m\u001b[1;33m,\u001b[0m \u001b[0mmask\u001b[0m \u001b[1;33m=\u001b[0m \u001b[0mgenerate_test_comparison\u001b[0m\u001b[1;33m(\u001b[0m\u001b[0m_media_multiplier\u001b[0m\u001b[1;33m,\u001b[0m \u001b[0m_cell_multiplier\u001b[0m\u001b[1;33m,\u001b[0m \u001b[0m_device_multiplier\u001b[0m\u001b[1;33m,\u001b[0m \u001b[0m_sigma\u001b[0m\u001b[1;33m,\u001b[0m \u001b[0m_scene_no\u001b[0m\u001b[1;33m,\u001b[0m \u001b[0mscale\u001b[0m\u001b[1;33m,\u001b[0m \u001b[0m_match_histogram\u001b[0m\u001b[1;33m,\u001b[0m \u001b[0mmatch_noise\u001b[0m\u001b[1;33m,\u001b[0m \u001b[0moffset\u001b[0m\u001b[1;33m,\u001b[0m \u001b[0mdebug_plot\u001b[0m\u001b[1;33m,\u001b[0m \u001b[0mnoise_var\u001b[0m\u001b[1;33m,\u001b[0m \u001b[0mmain_segments\u001b[0m\u001b[1;33m,\u001b[0m \u001b[0mscenes\u001b[0m\u001b[1;33m,\u001b[0m \u001b[0mkernel_params\u001b[0m\u001b[1;33m,\u001b[0m \u001b[0mresize_amount\u001b[0m\u001b[1;33m,\u001b[0m \u001b[0mreal_image\u001b[0m\u001b[1;33m,\u001b[0m \u001b[0mimage_params\u001b[0m\u001b[1;33m,\u001b[0m \u001b[0merror_params\u001b[0m\u001b[1;33m,\u001b[0m \u001b[0mx_border_expansion_coefficient\u001b[0m\u001b[1;33m,\u001b[0m\u001b[0my_border_expansion_coefficient\u001b[0m\u001b[1;33m)\u001b[0m\u001b[1;33m\u001b[0m\u001b[1;33m\u001b[0m\u001b[0m\n\u001b[0m\u001b[0;32m     37\u001b[0m \u001b[1;33m\u001b[0m\u001b[0m\n\u001b[0;32m     38\u001b[0m         \u001b[0msyn_image\u001b[0m \u001b[1;33m=\u001b[0m \u001b[0mImage\u001b[0m\u001b[1;33m.\u001b[0m\u001b[0mfromarray\u001b[0m\u001b[1;33m(\u001b[0m\u001b[0mskimage\u001b[0m\u001b[1;33m.\u001b[0m\u001b[0mimg_as_uint\u001b[0m\u001b[1;33m(\u001b[0m\u001b[0mrescale_intensity\u001b[0m\u001b[1;33m(\u001b[0m\u001b[0msyn_image\u001b[0m\u001b[1;33m)\u001b[0m\u001b[1;33m)\u001b[0m\u001b[1;33m)\u001b[0m\u001b[1;33m\u001b[0m\u001b[1;33m\u001b[0m\u001b[0m\n",
      "\u001b[1;32m~\\Documents\\GitHub\\SYMPTOMM2\\SYMPTOMM\\phase_contrast_drawing.py\u001b[0m in \u001b[0;36mgenerate_test_comparison\u001b[1;34m(media_multiplier, cell_multiplier, device_multiplier, sigma, scene_no, scale, match_histogram, match_noise, offset, debug_plot, noise_var, main_segments, scenes, kernel_params, resize_amount, real_image, image_params, error_params, x_border_expansion_coefficient, y_border_expansion_coefficient)\u001b[0m\n\u001b[0;32m    257\u001b[0m \u001b[1;33m\u001b[0m\u001b[0m\n\u001b[0;32m    258\u001b[0m \u001b[1;33m\u001b[0m\u001b[0m\n\u001b[1;32m--> 259\u001b[1;33m     \u001b[0mkernel\u001b[0m \u001b[1;33m=\u001b[0m \u001b[0mget_phase_contrast_kernel\u001b[0m\u001b[1;33m(\u001b[0m\u001b[0mR\u001b[0m\u001b[1;33m=\u001b[0m\u001b[0mR\u001b[0m\u001b[1;33m,\u001b[0m \u001b[0mW\u001b[0m\u001b[1;33m=\u001b[0m\u001b[0mW\u001b[0m\u001b[1;33m,\u001b[0m \u001b[0mradius\u001b[0m\u001b[1;33m=\u001b[0m\u001b[0mradius\u001b[0m\u001b[1;33m,\u001b[0m \u001b[0mscale\u001b[0m\u001b[1;33m=\u001b[0m\u001b[0mscale\u001b[0m\u001b[1;33m,\u001b[0m \u001b[0mNA\u001b[0m\u001b[1;33m=\u001b[0m\u001b[0mNA\u001b[0m\u001b[1;33m,\u001b[0m\u001b[0mn\u001b[0m\u001b[1;33m=\u001b[0m\u001b[0mn\u001b[0m\u001b[1;33m,\u001b[0m \u001b[0msigma\u001b[0m\u001b[1;33m=\u001b[0m\u001b[0msigma\u001b[0m\u001b[1;33m,\u001b[0m \u001b[0mλ\u001b[0m\u001b[1;33m=\u001b[0m\u001b[0mλ\u001b[0m\u001b[1;33m)\u001b[0m\u001b[1;33m\u001b[0m\u001b[1;33m\u001b[0m\u001b[0m\n\u001b[0m\u001b[0;32m    260\u001b[0m     \u001b[1;31m#kernel = get_phase_contrast_kernel(R=R, W=W, radius=radius, scale=scale, F=F, sigma=sigma, λ=λ) #\u001b[0m\u001b[1;33m\u001b[0m\u001b[1;33m\u001b[0m\u001b[1;33m\u001b[0m\u001b[0m\n\u001b[0;32m    261\u001b[0m \u001b[1;33m\u001b[0m\u001b[0m\n",
      "\u001b[1;32m~\\Documents\\GitHub\\SYMPTOMM2\\SYMPTOMM\\PSF.py\u001b[0m in \u001b[0;36mget_phase_contrast_kernel\u001b[1;34m(R, W, radius, scale, NA, n, sigma, λ)\u001b[0m\n\u001b[0;32m    102\u001b[0m     \u001b[0mrr\u001b[0m \u001b[1;33m=\u001b[0m \u001b[0mnp\u001b[0m\u001b[1;33m.\u001b[0m\u001b[0msqrt\u001b[0m\u001b[1;33m(\u001b[0m\u001b[0mxx\u001b[0m\u001b[1;33m**\u001b[0m\u001b[1;36m2\u001b[0m \u001b[1;33m+\u001b[0m \u001b[0myy\u001b[0m\u001b[1;33m**\u001b[0m\u001b[1;36m2\u001b[0m\u001b[1;33m)\u001b[0m\u001b[1;33m*\u001b[0m\u001b[0mkaw\u001b[0m\u001b[1;33m\u001b[0m\u001b[1;33m\u001b[0m\u001b[0m\n\u001b[0;32m    103\u001b[0m \u001b[1;33m\u001b[0m\u001b[0m\n\u001b[1;32m--> 104\u001b[1;33m     \u001b[0mkernel1\u001b[0m \u001b[1;33m=\u001b[0m \u001b[1;36m2\u001b[0m\u001b[1;33m*\u001b[0m\u001b[0mjv\u001b[0m\u001b[1;33m(\u001b[0m\u001b[1;36m1\u001b[0m\u001b[1;33m,\u001b[0m\u001b[0mrr\u001b[0m\u001b[1;33m)\u001b[0m\u001b[1;33m/\u001b[0m\u001b[1;33m(\u001b[0m\u001b[0mrr\u001b[0m\u001b[1;33m)\u001b[0m\u001b[1;33m\u001b[0m\u001b[1;33m\u001b[0m\u001b[0m\n\u001b[0m\u001b[0;32m    105\u001b[0m     \u001b[0mkernel1\u001b[0m\u001b[1;33m[\u001b[0m\u001b[0mradius\u001b[0m\u001b[1;33m,\u001b[0m\u001b[0mradius\u001b[0m\u001b[1;33m]\u001b[0m \u001b[1;33m=\u001b[0m  \u001b[1;36m1\u001b[0m\u001b[1;33m\u001b[0m\u001b[1;33m\u001b[0m\u001b[0m\n\u001b[0;32m    106\u001b[0m \u001b[1;33m\u001b[0m\u001b[0m\n",
      "\u001b[1;31mKeyboardInterrupt\u001b[0m: "
     ]
    }
   ],
   "source": [
    "generate_training_data(\n",
    "    interactive_output = params, \n",
    "    sample_amount = 0.075, r\n",
    "    andomise_hist_match = False, r\n",
    "    andomise_noise_match = False, s\n",
    "    im_length = sim_length, burn_in = 0, \n",
    "    n_samples =  5000, \n",
    "    save_dir = \"your_path_here\")"
   ]
  },
  {
   "cell_type": "markdown",
   "id": "15e9ba8f-bbea-4da8-8be0-1be158493b41",
   "metadata": {},
   "source": [
    "## Do small cells"
   ]
  },
  {
   "cell_type": "code",
   "execution_count": 47,
   "id": "d6e0a552-e91e-4175-93d1-a43462971fbf",
   "metadata": {
    "collapsed": true,
    "jupyter": {
     "outputs_hidden": true
    },
    "tags": []
   },
   "outputs": [
    {
     "name": "stderr",
     "output_type": "stream",
     "text": [
      "\n",
      "\n",
      "Simulation Progress:   0%|                                                                     | 0/850 [00:00<?, ?it/s]\u001b[A\u001b[A\n",
      "\n",
      "Simulation Progress:   3%|█▌                                                         | 23/850 [00:00<00:03, 221.16it/s]\u001b[A\u001b[A\n",
      "\n",
      "Simulation Progress:   5%|███▏                                                       | 46/850 [00:00<00:03, 206.01it/s]\u001b[A\u001b[A\n",
      "\n",
      "Simulation Progress:   8%|████▋                                                      | 67/850 [00:00<00:04, 158.15it/s]\u001b[A\u001b[A\n",
      "\n",
      "Simulation Progress:  10%|█████▊                                                     | 84/850 [00:00<00:05, 142.02it/s]\u001b[A\u001b[A\n",
      "\n",
      "Simulation Progress:  12%|██████▊                                                    | 99/850 [00:00<00:06, 115.35it/s]\u001b[A\u001b[A\n",
      "\n",
      "Simulation Progress:  13%|███████▊                                                   | 112/850 [00:00<00:07, 95.30it/s]\u001b[A\u001b[A\n",
      "\n",
      "Simulation Progress:  14%|████████▌                                                  | 123/850 [00:01<00:08, 88.26it/s]\u001b[A\u001b[A\n",
      "\n",
      "Simulation Progress:  16%|█████████▏                                                 | 133/850 [00:01<00:08, 85.23it/s]\u001b[A\u001b[A\n",
      "\n",
      "Simulation Progress:  17%|█████████▊                                                 | 142/850 [00:01<00:09, 74.91it/s]\u001b[A\u001b[A\n",
      "\n",
      "Simulation Progress:  18%|██████████▍                                                | 150/850 [00:01<00:09, 70.89it/s]\u001b[A\u001b[A\n",
      "\n",
      "Simulation Progress:  19%|██████████▉                                                | 158/850 [00:01<00:10, 67.88it/s]\u001b[A\u001b[A\n",
      "\n",
      "Simulation Progress:  19%|███████████▍                                               | 165/850 [00:01<00:10, 68.06it/s]\u001b[A\u001b[A\n",
      "\n",
      "Simulation Progress:  20%|███████████▉                                               | 172/850 [00:01<00:09, 68.20it/s]\u001b[A\u001b[A\n",
      "\n",
      "Simulation Progress:  21%|████████████▍                                              | 180/850 [00:01<00:09, 69.11it/s]\u001b[A\u001b[A\n",
      "\n",
      "Simulation Progress:  22%|████████████▉                                              | 187/850 [00:02<00:09, 66.36it/s]\u001b[A\u001b[A\n",
      "\n",
      "Simulation Progress:  23%|█████████████▍                                             | 194/850 [00:02<00:10, 63.93it/s]\u001b[A\u001b[A\n",
      "\n",
      "Simulation Progress:  24%|█████████████▉                                             | 201/850 [00:02<00:10, 61.77it/s]\u001b[A\u001b[A\n",
      "\n",
      "Simulation Progress:  24%|██████████████▍                                            | 208/850 [00:02<00:10, 62.14it/s]\u001b[A\u001b[A\n",
      "\n",
      "Simulation Progress:  25%|██████████████▉                                            | 215/850 [00:02<00:10, 62.08it/s]\u001b[A\u001b[A\n",
      "\n",
      "Simulation Progress:  26%|███████████████▍                                           | 222/850 [00:02<00:09, 64.04it/s]\u001b[A\u001b[A\n",
      "\n",
      "Simulation Progress:  27%|███████████████▉                                           | 230/850 [00:02<00:09, 68.10it/s]\u001b[A\u001b[A\n",
      "\n",
      "Simulation Progress:  28%|████████████████▍                                          | 237/850 [00:02<00:09, 66.38it/s]\u001b[A\u001b[A\n",
      "\n",
      "Simulation Progress:  29%|████████████████▉                                          | 244/850 [00:02<00:09, 63.47it/s]\u001b[A\u001b[A\n",
      "\n",
      "Simulation Progress:  30%|█████████████████▍                                         | 251/850 [00:03<00:09, 61.39it/s]\u001b[A\u001b[A\n",
      "\n",
      "Simulation Progress:  30%|█████████████████▉                                         | 258/850 [00:03<00:12, 47.00it/s]\u001b[A\u001b[A\n",
      "\n",
      "Simulation Progress:  31%|██████████████████▎                                        | 264/850 [00:03<00:14, 40.62it/s]\u001b[A\u001b[A\n",
      "\n",
      "Simulation Progress:  32%|██████████████████▋                                        | 269/850 [00:03<00:15, 38.17it/s]\u001b[A\u001b[A\n",
      "\n",
      "Simulation Progress:  32%|███████████████████                                        | 274/850 [00:03<00:15, 36.87it/s]\u001b[A\u001b[A\n",
      "\n",
      "Simulation Progress:  33%|███████████████████▎                                       | 278/850 [00:03<00:15, 36.76it/s]\u001b[A\u001b[A\n",
      "\n",
      "Simulation Progress:  33%|███████████████████▌                                       | 282/850 [00:04<00:16, 35.32it/s]\u001b[A\u001b[A\n",
      "\n",
      "Simulation Progress:  34%|███████████████████▊                                       | 286/850 [00:04<00:16, 33.57it/s]\u001b[A\u001b[A\n",
      "\n",
      "Simulation Progress:  34%|████████████████████▏                                      | 290/850 [00:04<00:17, 32.41it/s]\u001b[A\u001b[A\n",
      "\n",
      "Simulation Progress:  35%|████████████████████▍                                      | 294/850 [00:04<00:18, 30.54it/s]\u001b[A\u001b[A\n",
      "\n",
      "Simulation Progress:  35%|████████████████████▋                                      | 298/850 [00:04<00:18, 29.64it/s]\u001b[A\u001b[A\n",
      "\n",
      "Simulation Progress:  35%|████████████████████▉                                      | 301/850 [00:04<00:18, 29.25it/s]\u001b[A\u001b[A\n",
      "\n",
      "Simulation Progress:  36%|█████████████████████                                      | 304/850 [00:04<00:18, 29.29it/s]\u001b[A\u001b[A\n",
      "\n",
      "Simulation Progress:  36%|█████████████████████▎                                     | 307/850 [00:04<00:18, 29.47it/s]\u001b[A\u001b[A\n",
      "\n",
      "Simulation Progress:  37%|█████████████████████▌                                     | 311/850 [00:05<00:18, 29.67it/s]\u001b[A\u001b[A\n",
      "\n",
      "Simulation Progress:  37%|█████████████████████▊                                     | 314/850 [00:05<00:18, 29.30it/s]\u001b[A\u001b[A\n",
      "\n",
      "Simulation Progress:  37%|██████████████████████                                     | 318/850 [00:05<00:17, 29.85it/s]\u001b[A\u001b[A\n",
      "\n",
      "Simulation Progress:  38%|██████████████████████▎                                    | 322/850 [00:05<00:17, 30.36it/s]\u001b[A\u001b[A\n",
      "\n",
      "Simulation Progress:  38%|██████████████████████▋                                    | 326/850 [00:05<00:16, 31.09it/s]\u001b[A\u001b[A\n",
      "\n",
      "Simulation Progress:  39%|██████████████████████▉                                    | 330/850 [00:05<00:16, 31.37it/s]\u001b[A\u001b[A\n",
      "\n",
      "Simulation Progress:  39%|███████████████████████▏                                   | 334/850 [00:05<00:16, 31.03it/s]\u001b[A\u001b[A\n",
      "\n",
      "Simulation Progress:  40%|███████████████████████▍                                   | 338/850 [00:05<00:17, 30.03it/s]\u001b[A\u001b[A\n",
      "\n",
      "Simulation Progress:  40%|███████████████████████▋                                   | 342/850 [00:06<00:17, 29.77it/s]\u001b[A\u001b[A\n",
      "\n",
      "Simulation Progress:  41%|███████████████████████▉                                   | 345/850 [00:06<00:17, 29.26it/s]\u001b[A\u001b[A\n",
      "\n",
      "Simulation Progress:  41%|████████████████████████▏                                  | 348/850 [00:06<00:17, 28.50it/s]\u001b[A\u001b[A\n",
      "\n",
      "Simulation Progress:  41%|████████████████████████▎                                  | 351/850 [00:06<00:17, 28.67it/s]\u001b[A\u001b[A\n",
      "\n",
      "Simulation Progress:  42%|████████████████████████▌                                  | 354/850 [00:06<00:17, 29.03it/s]\u001b[A\u001b[A\n",
      "\n",
      "Simulation Progress:  42%|████████████████████████▊                                  | 357/850 [00:06<00:16, 29.06it/s]\u001b[A\u001b[A\n",
      "\n",
      "Simulation Progress:  42%|████████████████████████▉                                  | 360/850 [00:06<00:16, 29.08it/s]\u001b[A\u001b[A\n",
      "\n",
      "Simulation Progress:  43%|█████████████████████████▎                                 | 364/850 [00:06<00:15, 30.38it/s]\u001b[A\u001b[A\n",
      "\n",
      "Simulation Progress:  43%|█████████████████████████▌                                 | 368/850 [00:06<00:15, 30.98it/s]\u001b[A\u001b[A\n",
      "\n",
      "Simulation Progress:  44%|█████████████████████████▊                                 | 372/850 [00:07<00:14, 31.96it/s]\u001b[A\u001b[A\n",
      "\n",
      "Simulation Progress:  44%|██████████████████████████                                 | 376/850 [00:07<00:14, 33.23it/s]\u001b[A\u001b[A\n",
      "\n",
      "Simulation Progress:  45%|██████████████████████████▍                                | 380/850 [00:07<00:14, 32.26it/s]\u001b[A\u001b[A\n",
      "\n",
      "Simulation Progress:  45%|██████████████████████████▋                                | 384/850 [00:08<00:55,  8.46it/s]\u001b[A\u001b[A\n",
      "\n",
      "Simulation Progress:  46%|██████████████████████████▊                                | 387/850 [00:08<00:45, 10.17it/s]\u001b[A\u001b[A\n",
      "\n",
      "Simulation Progress:  46%|███████████████████████████                                | 390/850 [00:08<00:37, 12.12it/s]\u001b[A\u001b[A\n",
      "\n",
      "Simulation Progress:  46%|███████████████████████████▎                               | 393/850 [00:08<00:32, 14.14it/s]\u001b[A\u001b[A\n",
      "\n",
      "Simulation Progress:  47%|███████████████████████████▍                               | 396/850 [00:09<00:27, 16.32it/s]\u001b[A\u001b[A\n",
      "\n",
      "Simulation Progress:  47%|███████████████████████████▋                               | 399/850 [00:09<00:24, 18.53it/s]\u001b[A\u001b[A\n",
      "\n",
      "Simulation Progress:  47%|███████████████████████████▉                               | 403/850 [00:09<00:20, 21.31it/s]\u001b[A\u001b[A\n",
      "\n",
      "Simulation Progress:  48%|████████████████████████████▎                              | 407/850 [00:09<00:18, 23.66it/s]\u001b[A\u001b[A\n",
      "\n",
      "Simulation Progress:  48%|████████████████████████████▍                              | 410/850 [00:09<00:17, 24.89it/s]\u001b[A\u001b[A\n",
      "\n",
      "Simulation Progress:  49%|████████████████████████████▋                              | 414/850 [00:09<00:16, 27.01it/s]\u001b[A\u001b[A\n",
      "\n",
      "Simulation Progress:  49%|█████████████████████████████                              | 418/850 [00:09<00:15, 28.64it/s]\u001b[A\u001b[A\n",
      "\n",
      "Simulation Progress:  50%|█████████████████████████████▎                             | 422/850 [00:09<00:14, 30.19it/s]\u001b[A\u001b[A\n",
      "\n",
      "Simulation Progress:  50%|█████████████████████████████▌                             | 426/850 [00:10<00:13, 31.03it/s]\u001b[A\u001b[A\n",
      "\n",
      "Simulation Progress:  51%|█████████████████████████████▊                             | 430/850 [00:10<00:13, 30.66it/s]\u001b[A\u001b[A\n",
      "\n",
      "Simulation Progress:  51%|██████████████████████████████                             | 434/850 [00:10<00:14, 29.25it/s]\u001b[A\u001b[A\n",
      "\n",
      "Simulation Progress:  51%|██████████████████████████████▎                            | 437/850 [00:10<00:14, 28.40it/s]\u001b[A\u001b[A\n",
      "\n",
      "Simulation Progress:  52%|██████████████████████████████▌                            | 440/850 [00:10<00:14, 27.69it/s]\u001b[A\u001b[A\n",
      "\n",
      "Simulation Progress:  52%|██████████████████████████████▋                            | 443/850 [00:10<00:14, 27.37it/s]\u001b[A\u001b[A\n",
      "\n",
      "Simulation Progress:  52%|██████████████████████████████▉                            | 446/850 [00:10<00:14, 26.93it/s]\u001b[A\u001b[A\n",
      "\n",
      "Simulation Progress:  53%|███████████████████████████████▏                           | 449/850 [00:10<00:14, 27.45it/s]\u001b[A\u001b[A\n",
      "\n",
      "Simulation Progress:  53%|███████████████████████████████▍                           | 453/850 [00:10<00:13, 28.46it/s]\u001b[A\u001b[A\n",
      "\n",
      "Simulation Progress:  54%|███████████████████████████████▋                           | 457/850 [00:11<00:13, 29.27it/s]\u001b[A\u001b[A\n",
      "\n",
      "Simulation Progress:  54%|███████████████████████████████▉                           | 461/850 [00:11<00:12, 30.47it/s]\u001b[A\u001b[A\n",
      "\n",
      "Simulation Progress:  55%|████████████████████████████████▎                          | 465/850 [00:11<00:12, 31.24it/s]\u001b[A\u001b[A\n",
      "\n",
      "Simulation Progress:  55%|████████████████████████████████▌                          | 469/850 [00:11<00:11, 32.18it/s]\u001b[A\u001b[A\n",
      "\n",
      "Simulation Progress:  56%|████████████████████████████████▊                          | 473/850 [00:11<00:11, 32.69it/s]\u001b[A\u001b[A\n",
      "\n",
      "Simulation Progress:  56%|█████████████████████████████████                          | 477/850 [00:11<00:12, 30.99it/s]\u001b[A\u001b[A\n",
      "\n",
      "Simulation Progress:  57%|█████████████████████████████████▍                         | 481/850 [00:11<00:11, 31.29it/s]\u001b[A\u001b[A\n",
      "\n",
      "Simulation Progress:  57%|█████████████████████████████████▋                         | 485/850 [00:12<00:12, 30.07it/s]\u001b[A\u001b[A\n",
      "\n",
      "Simulation Progress:  58%|█████████████████████████████████▉                         | 489/850 [00:12<00:12, 29.67it/s]\u001b[A\u001b[A\n",
      "\n",
      "Simulation Progress:  58%|██████████████████████████████████▏                        | 492/850 [00:12<00:12, 29.46it/s]\u001b[A\u001b[A\n",
      "\n",
      "Simulation Progress:  58%|██████████████████████████████████▎                        | 495/850 [00:12<00:12, 29.01it/s]\u001b[A\u001b[A\n",
      "\n",
      "Simulation Progress:  59%|██████████████████████████████████▌                        | 498/850 [00:12<00:12, 28.89it/s]\u001b[A\u001b[A\n",
      "\n",
      "Simulation Progress:  59%|██████████████████████████████████▊                        | 501/850 [00:12<00:11, 29.19it/s]\u001b[A\u001b[A\n",
      "\n",
      "Simulation Progress:  59%|██████████████████████████████████▉                        | 504/850 [00:12<00:11, 29.33it/s]\u001b[A\u001b[A\n",
      "\n",
      "Simulation Progress:  60%|███████████████████████████████████▎                       | 508/850 [00:12<00:11, 29.82it/s]\u001b[A\u001b[A\n",
      "\n",
      "Simulation Progress:  60%|███████████████████████████████████▌                       | 512/850 [00:12<00:10, 30.75it/s]\u001b[A\u001b[A\n",
      "\n",
      "Simulation Progress:  61%|███████████████████████████████████▊                       | 516/850 [00:13<00:10, 31.38it/s]\u001b[A\u001b[A\n",
      "\n",
      "Simulation Progress:  61%|████████████████████████████████████                       | 520/850 [00:13<00:10, 32.22it/s]\u001b[A\u001b[A\n",
      "\n",
      "Simulation Progress:  62%|████████████████████████████████████▎                      | 524/850 [00:13<00:10, 32.39it/s]\u001b[A\u001b[A\n",
      "\n",
      "Simulation Progress:  62%|████████████████████████████████████▋                      | 528/850 [00:13<00:10, 32.11it/s]\u001b[A\u001b[A\n",
      "\n",
      "Simulation Progress:  63%|████████████████████████████████████▉                      | 532/850 [00:13<00:10, 31.31it/s]\u001b[A\u001b[A\n",
      "\n",
      "Simulation Progress:  63%|█████████████████████████████████████▏                     | 536/850 [00:13<00:10, 30.15it/s]\u001b[A\u001b[A\n",
      "\n",
      "Simulation Progress:  64%|█████████████████████████████████████▍                     | 540/850 [00:13<00:10, 28.81it/s]\u001b[A\u001b[A\n",
      "\n",
      "Simulation Progress:  64%|█████████████████████████████████████▋                     | 543/850 [00:13<00:10, 28.42it/s]\u001b[A\u001b[A\n",
      "\n",
      "Simulation Progress:  64%|█████████████████████████████████████▉                     | 546/850 [00:14<00:10, 28.39it/s]\u001b[A\u001b[A\n",
      "\n",
      "Simulation Progress:  65%|██████████████████████████████████████▏                    | 550/850 [00:14<00:10, 29.06it/s]\u001b[A\u001b[A\n",
      "\n",
      "Simulation Progress:  65%|██████████████████████████████████████▍                    | 553/850 [00:14<00:10, 29.23it/s]\u001b[A\u001b[A\n",
      "\n",
      "Simulation Progress:  65%|██████████████████████████████████████▌                    | 556/850 [00:15<00:40,  7.20it/s]\u001b[A\u001b[A\n",
      "\n",
      "Simulation Progress:  66%|██████████████████████████████████████▊                    | 560/850 [00:15<00:29,  9.82it/s]\u001b[A\u001b[A\n",
      "\n",
      "Simulation Progress:  66%|███████████████████████████████████████▏                   | 564/850 [00:15<00:22, 12.75it/s]\u001b[A\u001b[A\n",
      "\n",
      "Simulation Progress:  67%|███████████████████████████████████████▍                   | 568/850 [00:15<00:17, 15.92it/s]\u001b[A\u001b[A\n",
      "\n",
      "Simulation Progress:  67%|███████████████████████████████████████▋                   | 572/850 [00:16<00:14, 19.23it/s]\u001b[A\u001b[A\n",
      "\n",
      "Simulation Progress:  68%|███████████████████████████████████████▉                   | 576/850 [00:16<00:12, 21.54it/s]\u001b[A\u001b[A\n",
      "\n",
      "Simulation Progress:  68%|████████████████████████████████████████▎                  | 580/850 [00:16<00:11, 23.23it/s]\u001b[A\u001b[A\n",
      "\n",
      "Simulation Progress:  69%|████████████████████████████████████████▍                  | 583/850 [00:16<00:11, 24.26it/s]\u001b[A\u001b[A\n",
      "\n",
      "Simulation Progress:  69%|████████████████████████████████████████▋                  | 586/850 [00:16<00:10, 24.82it/s]\u001b[A\u001b[A\n",
      "\n",
      "Simulation Progress:  69%|████████████████████████████████████████▉                  | 589/850 [00:16<00:10, 25.56it/s]\u001b[A\u001b[A\n",
      "\n",
      "Simulation Progress:  70%|█████████████████████████████████████████                  | 592/850 [00:16<00:09, 26.20it/s]\u001b[A\u001b[A\n",
      "\n",
      "Simulation Progress:  70%|█████████████████████████████████████████▎                 | 595/850 [00:16<00:09, 26.77it/s]\u001b[A\u001b[A\n",
      "\n",
      "Simulation Progress:  70%|█████████████████████████████████████████▌                 | 598/850 [00:16<00:09, 27.56it/s]\u001b[A\u001b[A\n",
      "\n",
      "Simulation Progress:  71%|█████████████████████████████████████████▊                 | 602/850 [00:17<00:08, 28.40it/s]\u001b[A\u001b[A\n",
      "\n",
      "Simulation Progress:  71%|█████████████████████████████████████████▉                 | 605/850 [00:17<00:08, 28.45it/s]\u001b[A\u001b[A\n",
      "\n",
      "Simulation Progress:  72%|██████████████████████████████████████████▎                | 609/850 [00:17<00:08, 29.81it/s]\u001b[A\u001b[A\n",
      "\n",
      "Simulation Progress:  72%|██████████████████████████████████████████▌                | 613/850 [00:17<00:07, 30.27it/s]\u001b[A\u001b[A\n",
      "\n",
      "Simulation Progress:  73%|██████████████████████████████████████████▊                | 617/850 [00:17<00:07, 31.66it/s]\u001b[A\u001b[A\n",
      "\n",
      "Simulation Progress:  73%|███████████████████████████████████████████                | 621/850 [00:17<00:07, 32.50it/s]\u001b[A\u001b[A\n",
      "\n",
      "Simulation Progress:  74%|███████████████████████████████████████████▍               | 625/850 [00:17<00:07, 31.47it/s]\u001b[A\u001b[A\n",
      "\n",
      "Simulation Progress:  74%|███████████████████████████████████████████▋               | 629/850 [00:17<00:07, 30.81it/s]\u001b[A\u001b[A\n",
      "\n",
      "Simulation Progress:  74%|███████████████████████████████████████████▉               | 633/850 [00:18<00:07, 29.62it/s]\u001b[A\u001b[A\n",
      "\n",
      "Simulation Progress:  75%|████████████████████████████████████████████▏              | 636/850 [00:18<00:07, 28.66it/s]\u001b[A\u001b[A\n",
      "\n",
      "Simulation Progress:  75%|████████████████████████████████████████████▎              | 639/850 [00:18<00:07, 28.43it/s]\u001b[A\u001b[A\n",
      "\n",
      "Simulation Progress:  76%|████████████████████████████████████████████▌              | 642/850 [00:18<00:07, 27.75it/s]\u001b[A\u001b[A\n",
      "\n",
      "Simulation Progress:  76%|████████████████████████████████████████████▊              | 645/850 [00:18<00:07, 28.05it/s]\u001b[A\u001b[A\n",
      "\n",
      "Simulation Progress:  76%|████████████████████████████████████████████▉              | 648/850 [00:18<00:07, 27.97it/s]\u001b[A\u001b[A\n",
      "\n",
      "Simulation Progress:  77%|█████████████████████████████████████████████▏             | 651/850 [00:18<00:07, 28.30it/s]\u001b[A\u001b[A\n",
      "\n",
      "Simulation Progress:  77%|█████████████████████████████████████████████▍             | 655/850 [00:18<00:06, 29.51it/s]\u001b[A\u001b[A\n",
      "\n",
      "Simulation Progress:  78%|█████████████████████████████████████████████▋             | 659/850 [00:18<00:06, 30.07it/s]\u001b[A\u001b[A\n",
      "\n",
      "Simulation Progress:  78%|██████████████████████████████████████████████             | 663/850 [00:19<00:06, 30.90it/s]\u001b[A\u001b[A\n",
      "\n",
      "Simulation Progress:  78%|██████████████████████████████████████████████▎            | 667/850 [00:19<00:05, 32.20it/s]\u001b[A\u001b[A\n",
      "\n",
      "Simulation Progress:  79%|██████████████████████████████████████████████▌            | 671/850 [00:19<00:05, 32.71it/s]\u001b[A\u001b[A\n",
      "\n",
      "Simulation Progress:  79%|██████████████████████████████████████████████▊            | 675/850 [00:19<00:05, 30.94it/s]\u001b[A\u001b[A\n",
      "\n",
      "Simulation Progress:  80%|███████████████████████████████████████████████▏           | 679/850 [00:19<00:05, 28.78it/s]\u001b[A\u001b[A\n",
      "\n",
      "Simulation Progress:  80%|███████████████████████████████████████████████▎           | 682/850 [00:19<00:06, 27.94it/s]\u001b[A\u001b[A\n",
      "\n",
      "Simulation Progress:  81%|███████████████████████████████████████████████▌           | 685/850 [00:19<00:06, 26.85it/s]\u001b[A\u001b[A\n",
      "\n",
      "Simulation Progress:  81%|███████████████████████████████████████████████▊           | 688/850 [00:19<00:06, 26.90it/s]\u001b[A\u001b[A\n",
      "\n",
      "Simulation Progress:  81%|███████████████████████████████████████████████▉           | 691/850 [00:20<00:05, 26.87it/s]\u001b[A\u001b[A\n",
      "\n",
      "Simulation Progress:  82%|████████████████████████████████████████████████▏          | 694/850 [00:20<00:05, 27.05it/s]\u001b[A\u001b[A\n",
      "\n",
      "Simulation Progress:  82%|████████████████████████████████████████████████▍          | 697/850 [00:20<00:05, 27.55it/s]\u001b[A\u001b[A\n",
      "\n",
      "Simulation Progress:  82%|████████████████████████████████████████████████▌          | 700/850 [00:20<00:05, 27.92it/s]\u001b[A\u001b[A\n",
      "\n",
      "Simulation Progress:  83%|████████████████████████████████████████████████▊          | 703/850 [00:20<00:05, 28.42it/s]\u001b[A\u001b[A\n",
      "\n",
      "Simulation Progress:  83%|█████████████████████████████████████████████████          | 707/850 [00:20<00:04, 29.07it/s]\u001b[A\u001b[A\n",
      "\n",
      "Simulation Progress:  84%|█████████████████████████████████████████████████▎         | 711/850 [00:20<00:04, 30.00it/s]\u001b[A\u001b[A\n",
      "\n",
      "Simulation Progress:  84%|█████████████████████████████████████████████████▋         | 715/850 [00:20<00:04, 30.94it/s]\u001b[A\u001b[A\n",
      "\n",
      "Simulation Progress:  85%|█████████████████████████████████████████████████▉         | 719/850 [00:21<00:04, 31.03it/s]\u001b[A\u001b[A\n",
      "\n",
      "Simulation Progress:  85%|██████████████████████████████████████████████████▏        | 723/850 [00:21<00:04, 30.01it/s]\u001b[A\u001b[A\n",
      "\n",
      "Simulation Progress:  86%|██████████████████████████████████████████████████▍        | 727/850 [00:21<00:04, 28.64it/s]\u001b[A\u001b[A\n",
      "\n",
      "Simulation Progress:  86%|██████████████████████████████████████████████████▋        | 730/850 [00:21<00:04, 28.28it/s]\u001b[A\u001b[A\n",
      "\n",
      "Simulation Progress:  86%|██████████████████████████████████████████████████▉        | 733/850 [00:21<00:04, 27.08it/s]\u001b[A\u001b[A\n",
      "\n",
      "Simulation Progress:  87%|███████████████████████████████████████████████████        | 736/850 [00:21<00:04, 26.55it/s]\u001b[A\u001b[A\n",
      "\n",
      "Simulation Progress:  87%|███████████████████████████████████████████████████▎       | 739/850 [00:21<00:04, 26.09it/s]\u001b[A\u001b[A\n",
      "\n",
      "Simulation Progress:  87%|███████████████████████████████████████████████████▌       | 742/850 [00:21<00:04, 26.62it/s]\u001b[A\u001b[A\n",
      "\n",
      "Simulation Progress:  88%|███████████████████████████████████████████████████▋       | 745/850 [00:23<00:16,  6.22it/s]\u001b[A\u001b[A\n",
      "\n",
      "Simulation Progress:  88%|███████████████████████████████████████████████████▉       | 748/850 [00:23<00:12,  8.07it/s]\u001b[A\u001b[A\n",
      "\n",
      "Simulation Progress:  88%|████████████████████████████████████████████████████▏      | 752/850 [00:23<00:08, 11.01it/s]\u001b[A\u001b[A\n",
      "\n",
      "Simulation Progress:  89%|████████████████████████████████████████████████████▍      | 756/850 [00:23<00:06, 14.17it/s]\u001b[A\u001b[A\n",
      "\n",
      "Simulation Progress:  89%|████████████████████████████████████████████████████▊      | 760/850 [00:23<00:05, 17.41it/s]\u001b[A\u001b[A\n",
      "\n",
      "Simulation Progress:  90%|█████████████████████████████████████████████████████      | 764/850 [00:23<00:04, 20.39it/s]\u001b[A\u001b[A\n",
      "\n",
      "Simulation Progress:  90%|█████████████████████████████████████████████████████▏     | 767/850 [00:24<00:03, 21.51it/s]\u001b[A\u001b[A\n",
      "\n",
      "Simulation Progress:  91%|█████████████████████████████████████████████████████▌     | 771/850 [00:24<00:03, 24.08it/s]\u001b[A\u001b[A\n",
      "\n",
      "Simulation Progress:  91%|█████████████████████████████████████████████████████▋     | 774/850 [00:24<00:03, 25.16it/s]\u001b[A\u001b[A\n",
      "\n",
      "Simulation Progress:  91%|█████████████████████████████████████████████████████▉     | 777/850 [00:24<00:02, 25.17it/s]\u001b[A\u001b[A\n",
      "\n",
      "Simulation Progress:  92%|██████████████████████████████████████████████████████▏    | 780/850 [00:24<00:02, 24.89it/s]\u001b[A\u001b[A\n",
      "\n",
      "Simulation Progress:  92%|██████████████████████████████████████████████████████▎    | 783/850 [00:24<00:02, 24.57it/s]\u001b[A\u001b[A\n",
      "\n",
      "Simulation Progress:  92%|██████████████████████████████████████████████████████▌    | 786/850 [00:24<00:02, 25.42it/s]\u001b[A\u001b[A\n",
      "\n",
      "Simulation Progress:  93%|██████████████████████████████████████████████████████▊    | 789/850 [00:24<00:02, 26.20it/s]\u001b[A\u001b[A\n",
      "\n",
      "Simulation Progress:  93%|██████████████████████████████████████████████████████▉    | 792/850 [00:24<00:02, 26.37it/s]\u001b[A\u001b[A\n",
      "\n",
      "Simulation Progress:  94%|███████████████████████████████████████████████████████▏   | 795/850 [00:25<00:02, 26.70it/s]\u001b[A\u001b[A\n",
      "\n",
      "Simulation Progress:  94%|███████████████████████████████████████████████████████▍   | 798/850 [00:25<00:01, 27.30it/s]\u001b[A\u001b[A\n",
      "\n",
      "Simulation Progress:  94%|███████████████████████████████████████████████████████▋   | 802/850 [00:25<00:01, 28.91it/s]\u001b[A\u001b[A\n",
      "\n",
      "Simulation Progress:  95%|███████████████████████████████████████████████████████▉   | 806/850 [00:25<00:01, 30.05it/s]\u001b[A\u001b[A\n",
      "\n",
      "Simulation Progress:  95%|████████████████████████████████████████████████████████▏  | 810/850 [00:25<00:01, 30.43it/s]\u001b[A\u001b[A\n",
      "\n",
      "Simulation Progress:  96%|████████████████████████████████████████████████████████▌  | 814/850 [00:25<00:01, 31.81it/s]\u001b[A\u001b[A\n",
      "\n",
      "Simulation Progress:  96%|████████████████████████████████████████████████████████▊  | 818/850 [00:25<00:01, 30.36it/s]\u001b[A\u001b[A\n",
      "\n",
      "Simulation Progress:  97%|█████████████████████████████████████████████████████████  | 822/850 [00:25<00:00, 29.24it/s]\u001b[A\u001b[A\n",
      "\n",
      "Simulation Progress:  97%|█████████████████████████████████████████████████████████▎ | 825/850 [00:26<00:00, 27.74it/s]\u001b[A\u001b[A\n",
      "\n",
      "Simulation Progress:  97%|█████████████████████████████████████████████████████████▍ | 828/850 [00:26<00:00, 27.48it/s]\u001b[A\u001b[A\n",
      "\n",
      "Simulation Progress:  98%|█████████████████████████████████████████████████████████▋ | 831/850 [00:26<00:00, 27.42it/s]\u001b[A\u001b[A\n",
      "\n",
      "Simulation Progress:  98%|█████████████████████████████████████████████████████████▉ | 834/850 [00:26<00:00, 27.52it/s]\u001b[A\u001b[A\n",
      "\n",
      "Simulation Progress:  98%|██████████████████████████████████████████████████████████ | 837/850 [00:26<00:00, 27.67it/s]\u001b[A\u001b[A\n",
      "\n",
      "Simulation Progress:  99%|██████████████████████████████████████████████████████████▎| 840/850 [00:26<00:00, 27.70it/s]\u001b[A\u001b[A\n",
      "\n",
      "Simulation Progress:  99%|██████████████████████████████████████████████████████████▌| 843/850 [00:26<00:00, 27.80it/s]\u001b[A\u001b[A\n",
      "\n",
      "Simulation Progress: 100%|███████████████████████████████████████████████████████████| 850/850 [00:26<00:00, 31.56it/s]\u001b[A\u001b[A\n"
     ]
    },
    {
     "data": {
      "application/vnd.jupyter.widget-view+json": {
       "model_id": "d834405baa0248a48d84f18d32834892",
       "version_major": 2,
       "version_minor": 0
      },
      "text/plain": [
       "Timeseries Properties:   0%|          | 0/599 [00:00<?, ?it/s]"
      ]
     },
     "metadata": {},
     "output_type": "display_data"
    },
    {
     "data": {
      "application/vnd.jupyter.widget-view+json": {
       "model_id": "2e6e4d697f554dc083c84e575acbf24b",
       "version_major": 2,
       "version_minor": 0
      },
      "text/plain": [
       "Scene Draw::   0%|          | 0/599 [00:00<?, ?it/s]"
      ]
     },
     "metadata": {},
     "output_type": "display_data"
    }
   ],
   "source": [
    "sim_length = 600\n",
    "cell_timeseries, space = run_simulation(\n",
    "    trench_length=17.5, \n",
    "    trench_width=1.5, \n",
    "    cell_max_length=2.8, \n",
    "    cell_width=1.05, \n",
    "    sim_length = sim_length, \n",
    "    pix_mic_conv = pix_mic_conv,\n",
    "    gravity=-7,\n",
    "    phys_iters=25\n",
    ") # growth phase\n",
    "main_segments = get_trench_segments(space)\n",
    "ID_props = generate_curve_props(cell_timeseries)\n",
    "cell_timeseries_properties = Parallel(n_jobs=-1)(\n",
    "    delayed(gen_cell_props_for_draw)(a, ID_props) for a in tqdm(cell_timeseries, desc='Timeseries Properties'))\n",
    "do_transformation = True\n",
    "offset = 30\n",
    "mask_threshold = 18\n",
    "label_masks = True\n",
    "space_size = get_space_size(cell_timeseries_properties)\n",
    "scenes = Parallel(n_jobs=-1)(delayed(draw_scene)(\n",
    "    cell_properties, do_transformation, mask_threshold, space_size, offset, label_masks) for cell_properties in tqdm(cell_timeseries_properties, desc='Scene Draw:'))"
   ]
  },
  {
   "cell_type": "code",
   "execution_count": 48,
   "id": "744f35ce-86a5-41f8-a1c7-210812aeb800",
   "metadata": {},
   "outputs": [],
   "source": [
    "mean_error = []\n",
    "media_error = []\n",
    "cell_error = []\n",
    "device_error = []\n",
    "\n",
    "mean_var_error = []\n",
    "media_var_error = []\n",
    "cell_var_error = []\n",
    "device_var_error = []\n",
    "\n",
    "error_params = (mean_error,media_error,cell_error,device_error,mean_var_error,media_var_error,cell_var_error,device_var_error)\n",
    "\n",
    "params = interactive(\n",
    "    generate_test_comparison,\n",
    "    media_multiplier=(-300,300,1),\n",
    "    cell_multiplier=(-30,30,0.01),\n",
    "    device_multiplier=(-300,300,1),\n",
    "    sigma=(min_sigma,min_sigma*20, min_sigma/20),\n",
    "    scene_no = (0,sim_length-2,1),\n",
    "    noise_var=(0,0.01, 0.0001),\n",
    "    scale=(scale,scale,scale),\n",
    "    match_histogram = [True, False],\n",
    "    match_noise = [True, False],\n",
    "    offset=fixed(offset),\n",
    "    main_segments = fixed(main_segments),\n",
    "    debug_plot=fixed(True),\n",
    "    scenes = fixed(scenes),\n",
    "    kernel_params = fixed(kernel_params),\n",
    "    resize_amount = fixed(resize_amount), \n",
    "    real_image = fixed(real_image),\n",
    "    image_params = fixed(image_params),\n",
    "    error_params = fixed(error_params),\n",
    "    x_border_expansion_coefficient = fixed(x_border_expansion_coefficient),\n",
    "    y_border_expansion_coefficient = fixed(y_border_expansion_coefficient)\n",
    ");"
   ]
  },
  {
   "cell_type": "code",
   "execution_count": 49,
   "id": "1740dca0-abf0-4f08-8038-67ceb78c1744",
   "metadata": {},
   "outputs": [
    {
     "data": {
      "application/vnd.jupyter.widget-view+json": {
       "model_id": "6b580172cf9d441ea53e5eb7df9539d4",
       "version_major": 2,
       "version_minor": 0
      },
      "text/plain": [
       "interactive(children=(IntSlider(value=0, description='media_multiplier', max=300, min=-300), FloatSlider(value…"
      ]
     },
     "metadata": {},
     "output_type": "display_data"
    }
   ],
   "source": [
    "params"
   ]
  },
  {
   "cell_type": "code",
   "execution_count": 50,
   "id": "1545c16f-6cf4-40c8-9a86-e2acd5d943c3",
   "metadata": {},
   "outputs": [
    {
     "data": {
      "application/vnd.jupyter.widget-view+json": {
       "model_id": "dd0a76c35c2b47f1afa4f2eeb5c2049e",
       "version_major": 2,
       "version_minor": 0
      },
      "text/plain": [
       "Sample generation:   0%|          | 0/500 [00:00<?, ?it/s]"
      ]
     },
     "metadata": {},
     "output_type": "display_data"
    }
   ],
   "source": [
    "generate_training_data(interactive_output = params, sample_amount = 0.075, randomise_hist_match = False, randomise_noise_match = False, sim_length = sim_length, burn_in = 0, n_samples =  500, save_dir = \"C:\\\\Users\\\\gh464\\Documents\\Ph2 training data\\\\bent_noisematched_allsize_emptytrench\\\\\")"
   ]
  },
  {
   "cell_type": "markdown",
   "id": "672fe5fe-80e5-4940-94ce-1049a4c42b89",
   "metadata": {},
   "source": [
    "### Do a few very small cells"
   ]
  },
  {
   "cell_type": "code",
   "execution_count": 24,
   "id": "ef8de21e-8386-48be-8e0b-c69aa8453db4",
   "metadata": {
    "collapsed": true,
    "jupyter": {
     "outputs_hidden": true
    },
    "tags": []
   },
   "outputs": [
    {
     "name": "stderr",
     "output_type": "stream",
     "text": [
      "Simulation Progress: 100%|███████████████████████████████████████████████████████████| 350/350 [00:11<00:00, 29.33it/s]\n"
     ]
    },
    {
     "data": {
      "application/vnd.jupyter.widget-view+json": {
       "model_id": "f00e2e605aaa4e5ba02ce6defb17cc1e",
       "version_major": 2,
       "version_minor": 0
      },
      "text/plain": [
       "Timeseries Properties:   0%|          | 0/99 [00:00<?, ?it/s]"
      ]
     },
     "metadata": {},
     "output_type": "display_data"
    }
   ],
   "source": [
    "sim_length = 100\n",
    "cell_timeseries, space = run_simulation(\n",
    "    trench_length=17.5, \n",
    "    trench_width=1.5, \n",
    "    cell_max_length=1.7, \n",
    "    cell_width=1.05, \n",
    "    sim_length = sim_length, \n",
    "    pix_mic_conv = pix_mic_conv,\n",
    "    gravity=-1,\n",
    "    phys_iters=39\n",
    ") # growth phase\n",
    "main_segments = get_trench_segments(space)\n",
    "ID_props = generate_curve_props(cell_timeseries)\n",
    "cell_timeseries_properties = Parallel(n_jobs=-1)(\n",
    "    delayed(gen_cell_props_for_draw)(a, ID_props) for a in tqdm(cell_timeseries, desc='Timeseries Properties'))\n",
    "do_transformation = True\n",
    "offset = 40\n",
    "mask_threshold = 18\n",
    "label_masks = True\n",
    "space_size = get_space_size(cell_timeseries_properties)\n"
   ]
  },
  {
   "cell_type": "code",
   "execution_count": 25,
   "id": "beabbf4a-c5b9-462e-a2df-395fa8de4570",
   "metadata": {},
   "outputs": [
    {
     "data": {
      "application/vnd.jupyter.widget-view+json": {
       "model_id": "332d360547244f0a8ebbf941a06465ab",
       "version_major": 2,
       "version_minor": 0
      },
      "text/plain": [
       "Scene Draw::   0%|          | 0/99 [00:00<?, ?it/s]"
      ]
     },
     "metadata": {},
     "output_type": "display_data"
    }
   ],
   "source": [
    "scenes = Parallel(n_jobs=4)(delayed(draw_scene)(\n",
    "    cell_properties, do_transformation, mask_threshold, space_size, offset, label_masks) for cell_properties in tqdm(cell_timeseries_properties, desc='Scene Draw:'))"
   ]
  },
  {
   "cell_type": "code",
   "execution_count": 17,
   "id": "03eb6105-1990-4aa7-8a8c-b9b63faa6322",
   "metadata": {},
   "outputs": [
    {
     "data": {
      "text/plain": [
       "1659"
      ]
     },
     "execution_count": 17,
     "metadata": {},
     "output_type": "execute_result"
    }
   ],
   "source": [
    "gc.collect()"
   ]
  },
  {
   "cell_type": "code",
   "execution_count": 27,
   "id": "5dad04b6-5917-4f84-96e8-91340a05baa0",
   "metadata": {},
   "outputs": [],
   "source": [
    "mean_error = []\n",
    "media_error = []\n",
    "cell_error = []\n",
    "device_error = []\n",
    "\n",
    "mean_var_error = []\n",
    "media_var_error = []\n",
    "cell_var_error = []\n",
    "device_var_error = []\n",
    "\n",
    "error_params = (mean_error,media_error,cell_error,device_error,mean_var_error,media_var_error,cell_var_error,device_var_error)\n",
    "\n",
    "params = interactive(\n",
    "    generate_test_comparison,\n",
    "    media_multiplier=(-300,300,1),\n",
    "    cell_multiplier=(-30,30,0.01),\n",
    "    device_multiplier=(-300,300,1),\n",
    "    sigma=(min_sigma,min_sigma*20, min_sigma/20),\n",
    "    scene_no = (0,sim_length-2,1),\n",
    "    noise_var=(0,0.01, 0.0001),\n",
    "    scale=(scale,scale,scale),\n",
    "    match_histogram = [True, False],\n",
    "    match_noise = [True, False],\n",
    "    offset=fixed(offset),\n",
    "    main_segments = fixed(main_segments),\n",
    "    debug_plot=fixed(True),\n",
    "    scenes = fixed(scenes),\n",
    "    kernel_params = fixed(kernel_params),\n",
    "    resize_amount = fixed(resize_amount), \n",
    "    real_image = fixed(real_image),\n",
    "    image_params = fixed(image_params),\n",
    "    error_params = fixed(error_params),\n",
    "    x_border_expansion_coefficient = fixed(x_border_expansion_coefficient),\n",
    "    y_border_expansion_coefficient = fixed(y_border_expansion_coefficient)\n",
    ");"
   ]
  },
  {
   "cell_type": "code",
   "execution_count": 28,
   "id": "811a47fc-f6b4-4283-bbd6-9cf0e5da633b",
   "metadata": {},
   "outputs": [
    {
     "data": {
      "application/vnd.jupyter.widget-view+json": {
       "model_id": "22134b7d77644e85b87aec6833258090",
       "version_major": 2,
       "version_minor": 0
      },
      "text/plain": [
       "interactive(children=(IntSlider(value=0, description='media_multiplier', max=300, min=-300), FloatSlider(value…"
      ]
     },
     "metadata": {},
     "output_type": "display_data"
    }
   ],
   "source": [
    "params"
   ]
  },
  {
   "cell_type": "code",
   "execution_count": 35,
   "id": "35ea8e46-3c59-491d-ba54-e229fc9a9d5a",
   "metadata": {},
   "outputs": [],
   "source": [
    "import os\n",
    "def generate_training_data(interactive_output, sample_amount, randomise_hist_match, randomise_noise_match, sim_length, burn_in, n_samples, save_dir):\n",
    "    #media_multiplier, cell_multiplier, device_multiplier, sigma, scene_no, scale, match_histogram, match_noise, offset, debug_plot, noise_var = list(interactive_output.kwargs.values())\n",
    "    media_multiplier, cell_multiplier, device_multiplier, sigma, scene_no, scale, match_histogram, match_noise, offset, debug_plot, noise_var, main_segments, scenes, kernel_params, resize_amount, real_image, image_params, error_params, x_border_expansion_coefficient,y_border_expansion_coefficient = list(interactive_output.kwargs.values())\n",
    "    debug_plot = False\n",
    "    try:\n",
    "        os.mkdir(save_dir)\n",
    "    except:\n",
    "        pass\n",
    "    try:\n",
    "        os.mkdir(save_dir + \"/convolutions\")\n",
    "    except:\n",
    "        pass\n",
    "    try:\n",
    "        os.mkdir(save_dir + \"/masks\")\n",
    "    except:\n",
    "        pass\n",
    "        \n",
    "    current_file_num = len(os.listdir(save_dir+\"/convolutions\"))\n",
    "    #for z in range(n_samples):\n",
    "    def generate_samples(z):\n",
    "        _media_multiplier = np.random.uniform(1-sample_amount,1+sample_amount) * media_multiplier\n",
    "        _cell_multiplier = np.random.uniform(1-sample_amount,1+sample_amount) * cell_multiplier\n",
    "        _device_multiplier = np.random.uniform(1-sample_amount,1+sample_amount) * device_multiplier\n",
    "        _sigma = np.random.uniform(1-sample_amount,1+sample_amount) * sigma\n",
    "        _scene_no = np.random.randint(burn_in,sim_length-2)\n",
    "        _noise_var = np.random.uniform(1-sample_amount,1+sample_amount) * noise_var\n",
    "        if randomise_hist_match:\n",
    "            _match_histogram = np.random.choice([True, False])\n",
    "        else:\n",
    "            _match_histogram = match_histogram\n",
    "        if randomise_noise_match:\n",
    "            _match_noise = np.random.choice([True, False])\n",
    "        else:\n",
    "            _match_noise = match_noise\n",
    "        \n",
    "        syn_image, mask = generate_test_comparison(_media_multiplier, _cell_multiplier, _device_multiplier, _sigma, _scene_no, scale, _match_histogram, match_noise, offset, debug_plot, noise_var, main_segments, scenes, kernel_params, resize_amount, real_image, image_params, error_params, x_border_expansion_coefficient,y_border_expansion_coefficient)\n",
    "        \n",
    "        syn_image = Image.fromarray(skimage.img_as_uint(rescale_intensity(syn_image)))\n",
    "        syn_image.save(\"{}/convolutions/synth_{}.tif\".format(save_dir, str(z).zfill(5)))\n",
    "        mask = Image.fromarray(mask.astype(np.uint8))\n",
    "        mask.save(\"{}/masks/synth_{}.tif\".format(save_dir, str(z).zfill(5)))        \n",
    "    ## TODO: change parallel if not using GPU\n",
    "    Parallel(n_jobs=1)(delayed(generate_samples)(z) for z in tqdm(range(current_file_num,n_samples+current_file_num), desc=\"Sample generation\"))"
   ]
  },
  {
   "cell_type": "code",
   "execution_count": 36,
   "id": "e3b3b140-3d86-4230-bda6-b1d14ecc3ea7",
   "metadata": {},
   "outputs": [
    {
     "data": {
      "application/vnd.jupyter.widget-view+json": {
       "model_id": "853f182fd61641308694fafa2d5f3184",
       "version_major": 2,
       "version_minor": 0
      },
      "text/plain": [
       "Sample generation:   0%|          | 0/200 [00:00<?, ?it/s]"
      ]
     },
     "metadata": {},
     "output_type": "display_data"
    }
   ],
   "source": [
    "generate_training_data(interactive_output = params, sample_amount = 0.075, randomise_hist_match = False, randomise_noise_match = False, sim_length = sim_length, burn_in = 0, n_samples =  200, save_dir = \"C:\\\\Users\\\\gh464\\Documents\\Ph2 training data\\\\bent_noisematched_allsize_emptytrench\\\\\")"
   ]
  },
  {
   "cell_type": "markdown",
   "id": "c1520804-db3e-4d42-ac63-1bf6f062308e",
   "metadata": {},
   "source": [
    "### Do a few empty trenches with different sizes\n",
    "\n",
    "Rememebr to set `cell_multiplier` to 0"
   ]
  },
  {
   "cell_type": "code",
   "execution_count": 49,
   "id": "c904afcc-a25e-4ed0-8a7b-39378d0d1af0",
   "metadata": {},
   "outputs": [],
   "source": []
  },
  {
   "cell_type": "code",
   "execution_count": 38,
   "id": "6f609a49-c2a9-4eae-b878-66a808d01fc8",
   "metadata": {},
   "outputs": [
    {
     "data": {
      "application/vnd.jupyter.widget-view+json": {
       "model_id": "22134b7d77644e85b87aec6833258090",
       "version_major": 2,
       "version_minor": 0
      },
      "text/plain": [
       "interactive(children=(IntSlider(value=26, description='media_multiplier', max=300, min=-300), FloatSlider(valu…"
      ]
     },
     "metadata": {},
     "output_type": "display_data"
    }
   ],
   "source": [
    "params"
   ]
  },
  {
   "cell_type": "code",
   "execution_count": 50,
   "id": "dc3784f3-65d1-40db-97ee-21b235f3631f",
   "metadata": {},
   "outputs": [
    {
     "data": {
      "application/vnd.jupyter.widget-view+json": {
       "model_id": "ebca96171fb34faa8be92b88756f1a18",
       "version_major": 2,
       "version_minor": 0
      },
      "text/plain": [
       "Sample generation:   0%|          | 0/50 [00:00<?, ?it/s]"
      ]
     },
     "metadata": {},
     "output_type": "display_data"
    }
   ],
   "source": [
    "generate_training_data(interactive_output = params, sample_amount = 0.1, randomise_hist_match = False, randomise_noise_match = False, sim_length = sim_length, burn_in = 0, n_samples =  50, save_dir = \"C:\\\\Users\\\\gh464\\Documents\\Ph2 training data\\\\bent_noisematched_allsize_emptytrench\\\\\")"
   ]
  },
  {
   "cell_type": "code",
   "execution_count": null,
   "id": "23cbc35e-f6b7-41f0-9bee-f4502a2ed024",
   "metadata": {},
   "outputs": [],
   "source": []
  }
 ],
 "metadata": {
  "kernelspec": {
   "display_name": "Python 3",
   "language": "python",
   "name": "python3"
  },
  "language_info": {
   "codemirror_mode": {
    "name": "ipython",
    "version": 3
   },
   "file_extension": ".py",
   "mimetype": "text/x-python",
   "name": "python",
   "nbconvert_exporter": "python",
   "pygments_lexer": "ipython3",
   "version": "3.8.8"
  }
 },
 "nbformat": 4,
 "nbformat_minor": 5
}
