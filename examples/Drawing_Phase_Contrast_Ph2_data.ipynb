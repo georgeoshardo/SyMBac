{
 "cells": [
  {
   "cell_type": "code",
   "execution_count": 1,
   "id": "8403999f",
   "metadata": {
    "collapsed": false,
    "jupyter": {
     "outputs_hidden": false
    },
    "pycharm": {
     "name": "#%%\n"
    }
   },
   "outputs": [],
   "source": [
    "%gui qt"
   ]
  },
  {
   "cell_type": "code",
   "execution_count": 1,
   "id": "3704125e",
   "metadata": {
    "pycharm": {
     "is_executing": true
    }
   },
   "outputs": [],
   "source": [
    "import napari\n",
    "import sys\n",
    "Linux = True\n",
    "if Linux:\n",
    "    sys.path.insert(0,'/home/georgeos/Documents/GitHub/SYMPTOMM2')\n",
    "else:\n",
    "    sys.path.insert(0,'C:\\\\Users\\\\gh464\\\\Documents\\\\GitHub\\\\SYMPTOMM2\\\\')\n",
    "from SYMPTOMM.cell import Cell\n",
    "from SYMPTOMM.scene_functions import create_space, step_and_update\n",
    "from SYMPTOMM.trench_geometry import trench_creator\n",
    "from SYMPTOMM.phase_contrast_drawing import *\n",
    "import tifffile\n",
    "import numpy as np\n",
    "from skimage.exposure import rescale_intensity\n",
    "from skimage.transform import rescale, resize, downscale_local_mean\n",
    "from ipywidgets import interact, interactive, fixed, interact_manual\n",
    "import ipywidgets as widgets\n",
    "from skimage.exposure import rescale_intensity\n",
    "from ipywidgets import interactive\n",
    "import os\n",
    "from PIL import Image\n",
    "import skimage\n",
    "from tqdm.notebook import tqdm\n",
    "import gc\n",
    "from SYMPTOMM.PSF import get_phase_contrast_kernel, get_condensers\n",
    "import warnings\n",
    "from scipy.ndimage import gaussian_filter\n",
    "real_image = tifffile.imread(\"/home/georgeos/Storage/Dropbox (Cambridge University)/PhD_Georgeos_Hardo/ML_based_segmentation_results/40x_Ph2_test_1.5/top_trenches_PC/trench_{}/T_{}.tif\".format(\n",
    "    str(np.random.randint(1,56)).zfill(2),\n",
    "    str(np.random.randint(20,24)).zfill(3)))[26:-1,:]\n",
    "\n",
    "if real_image.shape[0]%2 == 1:\n",
    "    warnings.warn(\"Synthetic image has odd Y-axis dimension, Fourier matching will produce bad results\")\n",
    "    \n",
    "#viewer = napari.view_image(real_image)\n"
   ]
  },
  {
   "cell_type": "code",
   "execution_count": 2,
   "id": "7ee079cb-a1e8-4573-b849-6468a98647f3",
   "metadata": {},
   "outputs": [
    {
     "data": {
      "text/plain": [
       "<matplotlib.image.AxesImage at 0x7f24b1b46d30>"
      ]
     },
     "execution_count": 2,
     "metadata": {},
     "output_type": "execute_result"
    },
    {
     "data": {
      "image/png": "[encoded data removed]",
      "text/plain": [
       "<Figure size 432x288 with 1 Axes>"
      ]
     },
     "metadata": {
      "needs_background": "light"
     },
     "output_type": "display_data"
    }
   ],
   "source": [
    "plt.imshow(real_image)"
   ]
  },
  {
   "cell_type": "code",
   "execution_count": 3,
   "id": "64fd5337-f109-449e-9783-41fbab812277",
   "metadata": {},
   "outputs": [
    {
     "data": {
      "text/plain": [
       "192"
      ]
     },
     "execution_count": 3,
     "metadata": {},
     "output_type": "execute_result"
    }
   ],
   "source": [
    "16*12"
   ]
  },
  {
   "cell_type": "code",
   "execution_count": 4,
   "id": "64476ce1-d433-4a92-965a-6d8d0cf5534a",
   "metadata": {
    "tags": []
   },
   "outputs": [
    {
     "data": {
      "text/plain": [
       "(184, 40)"
      ]
     },
     "execution_count": 4,
     "metadata": {},
     "output_type": "execute_result"
    }
   ],
   "source": [
    "real_image.shape"
   ]
  },
  {
   "cell_type": "markdown",
   "id": "fa476171-0ee2-4c5c-af18-a7fdf33e9374",
   "metadata": {},
   "source": [
    "### Scope props"
   ]
  },
  {
   "cell_type": "code",
   "execution_count": 5,
   "id": "51cc96ea-77be-4860-8f5d-eb0aaa1f4686",
   "metadata": {},
   "outputs": [],
   "source": [
    "condensers = get_condensers()\n",
    "\n",
    "W, R, diameter = condensers[\"Ph2\"]\n",
    "radius=50\n",
    "λ = 0.75\n",
    "resize_amount = 3\n",
    "pix_mic_conv = 0.10837 ##0.108379937 micron/pix for 60x, 0.0655 for 100x\n",
    "scale = pix_mic_conv / resize_amount \n",
    "min_sigma = 0.42*0.6/6 / scale # micron#\n",
    "sigma=4\n",
    "NA=0.97\n",
    "n = 1\n",
    "kernel_params = (R,W,radius,scale,NA,n,sigma,λ)\n",
    "\n",
    "#kernel_params = (R,W,radius,scale,F,sigma,λ)\n"
   ]
  },
  {
   "cell_type": "markdown",
   "id": "30746946-f64c-48f0-bda8-5c454d7dfcb0",
   "metadata": {},
   "source": [
    "### Do large cells"
   ]
  },
  {
   "cell_type": "code",
   "execution_count": 6,
   "id": "e81a7c1b",
   "metadata": {
    "tags": []
   },
   "outputs": [
    {
     "data": {
      "application/vnd.jupyter.widget-view+json": {
       "model_id": "16d55a02ecb04005ac969c55ceccb8f4",
       "version_major": 2,
       "version_minor": 0
      },
      "text/plain": [
       "Timeseries Properties:   0%|          | 0/1000 [00:00<?, ?it/s]"
      ]
     },
     "metadata": {},
     "output_type": "display_data"
    },
    {
     "data": {
      "application/vnd.jupyter.widget-view+json": {
       "model_id": "80cccac1e1484f0db59698d75e1c4352",
       "version_major": 2,
       "version_minor": 0
      },
      "text/plain": [
       "Scene Draw::   0%|          | 0/1000 [00:00<?, ?it/s]"
      ]
     },
     "metadata": {},
     "output_type": "display_data"
    }
   ],
   "source": [
    "sim_length = 1000\n",
    "cell_timeseries, space = run_simulation(\n",
    "    trench_length=17.5, \n",
    "    trench_width=1.5, \n",
    "    cell_max_length=5.7, \n",
    "    cell_width=1., \n",
    "    sim_length = sim_length, \n",
    "    pix_mic_conv = pix_mic_conv,\n",
    "    gravity=0,\n",
    "    phys_iters=15,\n",
    "    max_length_var = 3,\n",
    "    width_var = 0.03,\n",
    "    save_dir=\"/home/georgeos/\"\n",
    ") # growth phase\n",
    "\n",
    "\n",
    "main_segments = get_trench_segments(space)\n",
    "ID_props = generate_curve_props(cell_timeseries)\n",
    "cell_timeseries_properties = Parallel(n_jobs=-1)(\n",
    "    delayed(gen_cell_props_for_draw)(a, ID_props) for a in tqdm(cell_timeseries, desc='Timeseries Properties'))\n",
    "do_transformation = True\n",
    "offset = 30\n",
    "mask_threshold = 18\n",
    "label_masks = True\n",
    "space_size = get_space_size(cell_timeseries_properties)\n",
    "scenes = Parallel(n_jobs=-1)(delayed(draw_scene)(\n",
    "    cell_properties, do_transformation, mask_threshold, space_size, offset, label_masks) for cell_properties in tqdm(cell_timeseries_properties, desc='Scene Draw:'))"
   ]
  },
  {
   "cell_type": "code",
   "execution_count": 7,
   "id": "034e81eb-89c7-4ea5-afcc-c078f2d18480",
   "metadata": {},
   "outputs": [
    {
     "name": "stderr",
     "output_type": "stream",
     "text": [
      "/home/georgeos/Documents/GitHub/SYMPTOMM2/SYMPTOMM/PSF.py:105: RuntimeWarning: invalid value encountered in true_divide\n",
      "  kernel1 = 2*jv(1,rr)/(rr)\n",
      "/home/georgeos/Documents/GitHub/SYMPTOMM2/SYMPTOMM/PSF.py:108: RuntimeWarning: invalid value encountered in true_divide\n",
      "  kernel2 = 2*(R-W)**2/R**2 * jv(1,(R-W)**2/R**2 * rr)/rr\n"
     ]
    }
   ],
   "source": [
    "media_multiplier=30\n",
    "cell_multiplier=1\n",
    "device_multiplier=-50\n",
    "y_border_expansion_coefficient = 2\n",
    "x_border_expansion_coefficient = 3\n",
    "\n",
    "\n",
    "\n",
    "\n",
    "temp_expanded_scene, temp_expanded_scene_no_cells, temp_expanded_mask = generate_PC_OPL(\n",
    "   main_segments=main_segments,\n",
    "    offset=offset,\n",
    "    scene = scenes[0][0],\n",
    "    mask = scenes[0][1],\n",
    "    media_multiplier=media_multiplier,\n",
    "    cell_multiplier=cell_multiplier,\n",
    "    device_multiplier=cell_multiplier,\n",
    "    y_border_expansion_coefficient = y_border_expansion_coefficient,\n",
    "    x_border_expansion_coefficient = x_border_expansion_coefficient,\n",
    "    fluorescence = False,\n",
    "    defocus = 0\n",
    ")\n",
    "### Generate temporary image to make same shape\n",
    "temp_kernel = get_phase_contrast_kernel(*kernel_params)\n",
    "convolved = convolve_rescale(temp_expanded_scene, temp_kernel, 1/resize_amount, rescale_int = True)\n",
    "real_resize, expanded_resized = make_images_same_shape(real_image,convolved, rescale_int=True)\n",
    "\n"
   ]
  },
  {
   "cell_type": "code",
   "execution_count": 8,
   "id": "a6eb54f0-ee62-4dd0-afcd-69374fbe6608",
   "metadata": {
    "tags": []
   },
   "outputs": [
    {
     "name": "stderr",
     "output_type": "stream",
     "text": [
      "/home/georgeos/anaconda3/envs/SYMPTOMM/lib/python3.8/site-packages/napari/_vispy/vispy_camera.py:109: RuntimeWarning: divide by zero encountered in true_divide\n",
      "  zoom = np.min(canvas_size / scale)\n"
     ]
    }
   ],
   "source": [
    "viewer = napari.view_image(real_resize)\n",
    "media_label = viewer.add_labels(np.zeros(real_resize.shape).astype(int), name = \"media\")\n",
    "cell_label = viewer.add_labels(np.zeros(real_resize.shape).astype(int), name = \"cell\")\n",
    "device_label = viewer.add_labels(np.zeros(real_resize.shape).astype(int), name = \"device\")"
   ]
  },
  {
   "cell_type": "code",
   "execution_count": 10,
   "id": "402fc7cd-5c59-4702-b0b0-c3241cf707e9",
   "metadata": {},
   "outputs": [],
   "source": [
    "real_media_mean = real_resize[np.where(media_label.data)].mean();\n",
    "real_cell_mean = real_resize[np.where(cell_label.data)].mean(); \n",
    "real_device_mean = real_resize[np.where(device_label.data)].mean()\n",
    "real_means = np.array((real_media_mean, real_cell_mean, real_device_mean))\n",
    "\n",
    "real_media_var = real_resize[np.where(media_label.data)].var();\n",
    "real_cell_var = real_resize[np.where(cell_label.data)].var(); \n",
    "real_device_var = real_resize[np.where(device_label.data)].var()\n",
    "real_vars = np.array((real_media_var, real_cell_var, real_device_var))\n",
    "\n",
    "image_params = (real_media_mean, real_cell_mean, real_device_mean, real_means, real_media_var, real_cell_var, real_device_var, real_vars)"
   ]
  },
  {
   "cell_type": "code",
   "execution_count": 15,
   "id": "282a1ee0-adeb-4c1f-92fb-ab65838524f7",
   "metadata": {
    "jupyter": {
     "source_hidden": true
    },
    "tags": []
   },
   "outputs": [],
   "source": [
    "def generate_test_comparison(media_multiplier, cell_multiplier, device_multiplier, sigma, scene_no, scale, match_fourier, match_histogram, match_noise, offset, debug_plot, noise_var, main_segments, scenes, kernel_params, resize_amount, real_image, image_params, error_params, x_border_expansion_coefficient,y_border_expansion_coefficient,fluorescence,blur_sigma):\n",
    "    \n",
    "    \n",
    "    expanded_scene, expanded_scene_no_cells, expanded_mask = generate_PC_OPL(\n",
    "        main_segments=main_segments,\n",
    "        offset=offset,\n",
    "        scene = scenes[scene_no][0],\n",
    "        mask = scenes[scene_no][1],\n",
    "        media_multiplier=media_multiplier,\n",
    "        cell_multiplier=cell_multiplier,\n",
    "        device_multiplier=device_multiplier,\n",
    "        x_border_expansion_coefficient = x_border_expansion_coefficient,\n",
    "        y_border_expansion_coefficient = y_border_expansion_coefficient,\n",
    "        fluorescence = fluorescence\n",
    "    )\n",
    "\n",
    "\n",
    "\n",
    "    R,W,radius,scale,NA,n,_,λ = kernel_params\n",
    "    \n",
    "    \n",
    "    real_media_mean, real_cell_mean, real_device_mean, real_means, real_media_var, real_cell_var, real_device_var, real_vars = image_params\n",
    "    mean_error,media_error,cell_error,device_error,mean_var_error,media_var_error,cell_var_error,device_var_error = error_params\n",
    "    \n",
    "    if fluorescence:\n",
    "        kernel = get_fluorescence_kernel(radius=radius, scale=scale, NA=NA,n=n, Lambda=λ)[0]\n",
    "    else:\n",
    "        kernel = get_phase_contrast_kernel(R=R, W=W, radius=radius, scale=scale, NA=NA,n=n, sigma=sigma, λ=λ)\n",
    "        kernel = gaussian_filter(kernel,sigma=blur_sigma,mode=\"reflect\")\n",
    "\n",
    "\n",
    "\n",
    "    convolved = convolve_rescale(expanded_scene, kernel, 1/resize_amount, rescale_int = True)\n",
    "    real_resize, expanded_resized = make_images_same_shape(real_image,convolved, rescale_int=True)\n",
    "    \n",
    "    if match_fourier:\n",
    "        fftim1 = fft.fftshift(fft.fft2(real_resize))\n",
    "        angs, mags = cart2pol(np.real(fftim1),np.imag(fftim1))\n",
    "        matched = sfMatch([real_resize, expanded_resized],tarmag = mags)[1]\n",
    "        matched = lumMatch([real_resize,matched],None,[np.mean(real_resize),np.std(real_resize)])[1]\n",
    "    else:\n",
    "        matched = expanded_resized\n",
    "    \n",
    "    if match_histogram and match_fourier:\n",
    "        matched = match_histograms(matched, real_resize, multichannel=False)\n",
    "\n",
    "        fftim1 = fft.fftshift(fft.fft2(real_resize))\n",
    "        angs, mags = cart2pol(np.real(fftim1),np.imag(fftim1))\n",
    "        matched = sfMatch([real_resize, matched],tarmag = mags)[1]\n",
    "        matched = lumMatch([real_resize,matched],None,[np.mean(real_resize),np.std(real_resize)])[1]\n",
    "    else:\n",
    "        pass\n",
    "    if match_histogram:\n",
    "        matched = match_histograms(matched, real_resize, multichannel=False)\n",
    "    else:\n",
    "        pass\n",
    "    \n",
    "    noisy_img = random_noise(rescale_intensity(matched), mode=\"poisson\")\n",
    "    noisy_img = random_noise(rescale_intensity(noisy_img), mode=\"gaussian\", mean=0,var=noise_var,clip=False)\n",
    "    \n",
    "    if match_noise:\n",
    "        noisy_img = match_histograms(noisy_img, real_resize, multichannel=False)\n",
    "    else:\n",
    "        pass\n",
    "    noisy_img = rescale_intensity(noisy_img.astype(np.float32), out_range=(0,1))\n",
    "    \n",
    "    ## getting the cell mask to the right shape\n",
    "    expanded_mask_resized = rescale(expanded_mask, 1/resize_amount, anti_aliasing=False, preserve_range=True,order=0)\n",
    "    if len(np.unique(expanded_mask_resized)) > 2:\n",
    "        _, expanded_mask_resized_reshaped = make_images_same_shape(real_image,expanded_mask_resized, rescale_int=False)\n",
    "    else:\n",
    "        _, expanded_mask_resized_reshaped = make_images_same_shape(real_image,expanded_mask_resized, rescale_int=True)\n",
    "\n",
    "\n",
    "    \n",
    "\n",
    "    \n",
    "    expanded_media_mask = rescale((expanded_scene_no_cells == device_multiplier) ^ (expanded_scene - expanded_scene_no_cells).astype(bool) , 1/resize_amount, anti_aliasing=False)\n",
    "    real_resize, expanded_media_mask = make_images_same_shape(real_image,expanded_media_mask, rescale_int=True)\n",
    "    just_media = expanded_media_mask * noisy_img\n",
    "    \n",
    "    expanded_cell_pseudo_mask = (expanded_scene - expanded_scene_no_cells).astype(bool)\n",
    "    expanded_cell_pseudo_mask = rescale(expanded_cell_pseudo_mask, 1/resize_amount, anti_aliasing=False)\n",
    "\n",
    "    real_resize, expanded_cell_pseudo_mask = make_images_same_shape(real_image,expanded_cell_pseudo_mask, rescale_int=True)\n",
    "    just_cells = expanded_cell_pseudo_mask * noisy_img\n",
    "    if True:\n",
    "        expanded_device_mask = expanded_scene_no_cells\n",
    "    else:\n",
    "        expanded_device_mask = expanded_scene_no_cells == media_multiplier\n",
    "    expanded_device_mask = rescale(expanded_device_mask, 1/resize_amount, anti_aliasing=False)\n",
    "    real_resize, expanded_device_mask = make_images_same_shape(real_image,expanded_device_mask, rescale_int=True)\n",
    "    just_device = expanded_device_mask * noisy_img\n",
    "    \n",
    "    \n",
    "    \n",
    "    \n",
    "    simulated_means = np.array([just_media[np.where(just_media)].mean(), just_cells[np.where(just_cells)].mean(), just_device[np.where(just_device)].mean()])\n",
    "    simulated_vars = np.array([just_media[np.where(just_media)].var(), just_cells[np.where(just_cells)].var(), just_device[np.where(just_device)].var()])\n",
    "\n",
    "    \n",
    "    \n",
    "    \n",
    "    if fluorescence:\n",
    "        mean_error.append(perc_diff(np.mean(noisy_img),np.mean(real_resize)))\n",
    "        mean_var_error.append(perc_diff(np.var(noisy_img),np.var(real_resize)))\n",
    "    else:\n",
    "        mean_error.append(np.mean(perc_diff(real_means, simulated_means)))\n",
    "        media_error.append(perc_diff(simulated_means[0], real_media_mean))\n",
    "        cell_error.append(perc_diff(simulated_means[1], real_cell_mean))\n",
    "        device_error.append(perc_diff(simulated_means[2], real_device_mean))\n",
    "\n",
    "\n",
    "        mean_var_error.append(np.mean(perc_diff(real_vars, simulated_vars)))\n",
    "        media_var_error.append(perc_diff(simulated_vars[0], real_media_var))\n",
    "        cell_var_error.append(perc_diff(simulated_vars[1], real_cell_var))\n",
    "        device_var_error.append(perc_diff(simulated_vars[2], real_device_var))\n",
    "    if debug_plot == True:\n",
    "        fig = plt.figure(figsize=(15,5))\n",
    "        ax1 = plt.subplot2grid((1,8),(0,0),colspan=1,rowspan=1)\n",
    "        ax2 = plt.subplot2grid((1,8),(0,1),colspan=1,rowspan=1)\n",
    "        ax3 = plt.subplot2grid((1,8),(0,2),colspan=3,rowspan=1)\n",
    "        ax4 = plt.subplot2grid((1,8),(0,5),colspan=3,rowspan=1)\n",
    "        ax1.imshow(noisy_img,cmap=\"Greys_r\")\n",
    "        ax1.set_title(\"Synthetic\")\n",
    "        ax1.axis(\"off\")\n",
    "        ax2.imshow(real_resize,cmap=\"Greys_r\")\n",
    "        ax2.set_title(\"Real\")\n",
    "        ax2.axis(\"off\")\n",
    "        ax3.plot(mean_error)\n",
    "        ax3.plot(media_error)\n",
    "        ax3.plot(cell_error)\n",
    "        ax3.plot(device_error)\n",
    "        ax3.legend([\"Mean error\", \"Media error\", \"Cell error\", \"Device error\"])\n",
    "        ax3.set_title(\"Intensity Error\")\n",
    "\n",
    "        ax4.plot(mean_var_error)\n",
    "        ax4.plot(media_var_error)\n",
    "        ax4.plot(cell_var_error)\n",
    "        ax4.plot(device_var_error)\n",
    "        ax4.legend([\"Mean error\", \"Media error\", \"Cell error\", \"Device error\"])\n",
    "        ax4.set_title(\"Variance Error\")\n",
    "\n",
    "        fig.tight_layout()\n",
    "        plt.show()\n",
    "        plt.close()\n",
    "    else:\n",
    "        return noisy_img, expanded_mask_resized_reshaped.astype(int)"
   ]
  },
  {
   "cell_type": "code",
   "execution_count": 12,
   "id": "7ef9f0e0-ec46-410a-ae01-60ef3caa87de",
   "metadata": {},
   "outputs": [],
   "source": [
    "mean_error = []\n",
    "media_error = []\n",
    "cell_error = []\n",
    "device_error = []\n",
    "\n",
    "mean_var_error = []\n",
    "media_var_error = []\n",
    "cell_var_error = []\n",
    "device_var_error = []\n",
    "\n",
    "error_params = (mean_error,media_error,cell_error,device_error,mean_var_error,media_var_error,cell_var_error,device_var_error)\n",
    "\n",
    "params = interactive(\n",
    "    generate_test_comparison,\n",
    "    media_multiplier=(-300,300,1),\n",
    "    cell_multiplier=(-30,30,0.01),\n",
    "    device_multiplier=(-300,300,1),\n",
    "    sigma=(min_sigma,min_sigma*20, min_sigma/20),\n",
    "    scene_no = (0,len(scenes)-1,1),\n",
    "    noise_var=(0,0.01, 0.0001),\n",
    "    scale=fixed(scale),\n",
    "    match_fourier = [True, False],\n",
    "    match_histogram = [True, False],\n",
    "    match_noise = [True, False],\n",
    "    offset=fixed(offset),\n",
    "    main_segments = fixed(main_segments),\n",
    "    debug_plot=fixed(True),\n",
    "    scenes = fixed(scenes),\n",
    "    kernel_params = fixed(kernel_params),\n",
    "    resize_amount = fixed(resize_amount), \n",
    "    real_image = fixed(real_image),\n",
    "    image_params = fixed(image_params),\n",
    "    error_params = fixed(error_params),\n",
    "    x_border_expansion_coefficient = fixed(x_border_expansion_coefficient),\n",
    "    y_border_expansion_coefficient = fixed(y_border_expansion_coefficient),\n",
    "    fluorescence=[False,True],\n",
    "    defocus=(0,20,0.005)\n",
    ");"
   ]
  },
  {
   "cell_type": "code",
   "execution_count": null,
   "id": "3a7cde50-6842-4d0b-80d0-858d85e918ba",
   "metadata": {},
   "outputs": [],
   "source": [
    "9"
   ]
  },
  {
   "cell_type": "code",
   "execution_count": 13,
   "id": "8c5fcae0-539e-49b1-96c5-7157cda93aa1",
   "metadata": {},
   "outputs": [
    {
     "data": {
      "application/vnd.jupyter.widget-view+json": {
       "model_id": "7744945dc4d845d59afca1002f29ec71",
       "version_major": 2,
       "version_minor": 0
      },
      "text/plain": [
       "interactive(children=(IntSlider(value=0, description='media_multiplier', max=300, min=-300), FloatSlider(value…"
      ]
     },
     "metadata": {},
     "output_type": "display_data"
    }
   ],
   "source": [
    "params"
   ]
  },
  {
   "cell_type": "code",
   "execution_count": 19,
   "id": "005633aa-0587-4639-a40e-24cc202dad5b",
   "metadata": {
    "collapsed": true,
    "jupyter": {
     "outputs_hidden": true
    },
    "tags": []
   },
   "outputs": [
    {
     "name": "stderr",
     "output_type": "stream",
     "text": [
      "\n",
      "Sample generation:   0%|          | 0/1000 [00:00<?, ?it/s]\u001b[A\n",
      "Sample generation:   0%|          | 1/1000 [00:00<02:14,  7.40it/s]\u001b[A\n",
      "Sample generation:   0%|          | 2/1000 [00:00<02:11,  7.61it/s]\u001b[A\n",
      "Sample generation:   0%|          | 4/1000 [00:00<01:42,  9.68it/s]\u001b[A\n",
      "Sample generation:   1%|          | 6/1000 [00:00<01:33, 10.61it/s]\u001b[A\n",
      "Sample generation:   1%|          | 8/1000 [00:00<01:30, 10.93it/s]\u001b[A\n",
      "Sample generation:   1%|          | 10/1000 [00:00<01:27, 11.25it/s]\u001b[A\n",
      "Sample generation:   1%|          | 12/1000 [00:01<01:27, 11.33it/s]\u001b[A\n",
      "Sample generation:   1%|▏         | 14/1000 [00:01<01:28, 11.10it/s]\u001b[A\n",
      "Sample generation:   2%|▏         | 16/1000 [00:01<01:28, 11.07it/s]\u001b[A\n",
      "Sample generation:   2%|▏         | 18/1000 [00:01<01:29, 11.03it/s]\u001b[A\n",
      "Sample generation:   2%|▏         | 20/1000 [00:01<01:27, 11.24it/s]\u001b[A\n",
      "Sample generation:   2%|▏         | 22/1000 [00:02<01:26, 11.29it/s]\u001b[A\n",
      "Sample generation:   2%|▏         | 24/1000 [00:02<01:26, 11.27it/s]\u001b[A\n",
      "Sample generation:   3%|▎         | 26/1000 [00:02<01:26, 11.27it/s]\u001b[A\n",
      "Sample generation:   3%|▎         | 28/1000 [00:02<01:27, 11.14it/s]\u001b[A\n",
      "Sample generation:   3%|▎         | 30/1000 [00:02<01:26, 11.19it/s]\u001b[A\n",
      "Sample generation:   3%|▎         | 32/1000 [00:02<01:25, 11.37it/s]\u001b[A\n",
      "Sample generation:   3%|▎         | 34/1000 [00:03<01:24, 11.37it/s]\u001b[A\n",
      "Sample generation:   4%|▎         | 36/1000 [00:03<01:25, 11.24it/s]\u001b[A\n",
      "Sample generation:   4%|▍         | 38/1000 [00:03<01:25, 11.25it/s]\u001b[A\n",
      "Sample generation:   4%|▍         | 40/1000 [00:03<01:25, 11.27it/s]\u001b[A\n",
      "Sample generation:   4%|▍         | 42/1000 [00:03<01:24, 11.32it/s]\u001b[A\n",
      "Sample generation:   4%|▍         | 44/1000 [00:03<01:24, 11.26it/s]\u001b[A\n",
      "Sample generation:   5%|▍         | 46/1000 [00:04<01:23, 11.40it/s]\u001b[A\n",
      "Sample generation:   5%|▍         | 48/1000 [00:04<01:22, 11.52it/s]\u001b[A\n",
      "Sample generation:   5%|▌         | 50/1000 [00:04<01:22, 11.50it/s]\u001b[A\n",
      "Sample generation:   5%|▌         | 52/1000 [00:04<01:22, 11.49it/s]\u001b[A\n",
      "Sample generation:   5%|▌         | 54/1000 [00:04<01:21, 11.63it/s]\u001b[A\n",
      "Sample generation:   6%|▌         | 56/1000 [00:04<01:20, 11.69it/s]\u001b[A\n",
      "Sample generation:   6%|▌         | 58/1000 [00:05<01:20, 11.66it/s]\u001b[A\n",
      "Sample generation:   6%|▌         | 60/1000 [00:05<01:20, 11.62it/s]\u001b[A\n",
      "Sample generation:   6%|▌         | 62/1000 [00:05<01:23, 11.29it/s]\u001b[A\n",
      "Sample generation:   6%|▋         | 64/1000 [00:05<01:22, 11.36it/s]\u001b[A\n",
      "Sample generation:  30%|███       | 304/1000 [00:36<00:59, 11.64it/s][A\n",
      "Sample generation:   7%|▋         | 68/1000 [00:06<01:21, 11.40it/s]\u001b[A\n",
      "Sample generation:   7%|▋         | 70/1000 [00:06<01:21, 11.48it/s]\u001b[A\n",
      "Sample generation:   7%|▋         | 72/1000 [00:06<01:20, 11.48it/s]\u001b[A\n",
      "Sample generation:   7%|▋         | 74/1000 [00:06<01:21, 11.40it/s]\u001b[A\n",
      "Sample generation:   8%|▊         | 76/1000 [00:06<01:20, 11.53it/s]\u001b[A\n",
      "Sample generation:   8%|▊         | 78/1000 [00:06<01:19, 11.58it/s]\u001b[A\n",
      "Sample generation:   8%|▊         | 80/1000 [00:07<01:20, 11.41it/s]\u001b[A\n",
      "Sample generation:   8%|▊         | 82/1000 [00:07<01:19, 11.49it/s]\u001b[A\n",
      "Sample generation:   8%|▊         | 84/1000 [00:07<01:19, 11.54it/s]\u001b[A\n",
      "Sample generation:   9%|▊         | 86/1000 [00:07<01:19, 11.45it/s]\u001b[A\n",
      "Sample generation:   9%|▉         | 88/1000 [00:07<01:21, 11.17it/s]\u001b[A\n",
      "Sample generation:   9%|▉         | 90/1000 [00:07<01:20, 11.34it/s]\u001b[A\n",
      "Sample generation:   9%|▉         | 92/1000 [00:08<01:19, 11.49it/s]\u001b[A\n",
      "Sample generation:   9%|▉         | 94/1000 [00:08<01:18, 11.53it/s]\u001b[A\n",
      "Sample generation:  10%|▉         | 96/1000 [00:08<01:19, 11.41it/s]\u001b[A\n",
      "Sample generation:  10%|▉         | 98/1000 [00:08<01:19, 11.38it/s]\u001b[A\n",
      "Sample generation:  10%|█         | 100/1000 [00:08<01:18, 11.48it/s]\u001b[A\n",
      "Sample generation:  10%|█         | 102/1000 [00:09<01:19, 11.29it/s]\u001b[A\n",
      "Sample generation:  10%|█         | 104/1000 [00:09<01:18, 11.40it/s]\u001b[A\n",
      "Sample generation:  11%|█         | 106/1000 [00:09<01:17, 11.48it/s]\u001b[A\n",
      "Sample generation:  11%|█         | 108/1000 [00:09<01:16, 11.61it/s]\u001b[A\n",
      "Sample generation:  11%|█         | 110/1000 [00:09<01:16, 11.69it/s]\u001b[A\n",
      "Sample generation:  11%|█         | 112/1000 [00:09<01:17, 11.52it/s]\u001b[A\n",
      "Sample generation:  11%|█▏        | 114/1000 [00:10<01:17, 11.44it/s]\u001b[A\n",
      "Sample generation:  12%|█▏        | 116/1000 [00:10<01:17, 11.36it/s]\u001b[A\n",
      "Sample generation:  12%|█▏        | 118/1000 [00:10<01:16, 11.49it/s]\u001b[A\n",
      "Sample generation:  12%|█▏        | 120/1000 [00:10<01:16, 11.54it/s]\u001b[A\n",
      "Sample generation:  12%|█▏        | 122/1000 [00:10<01:16, 11.53it/s]\u001b[A\n",
      "Sample generation:  12%|█▏        | 124/1000 [00:10<01:15, 11.54it/s]\u001b[A\n",
      "Sample generation:  13%|█▎        | 126/1000 [00:11<01:15, 11.65it/s]\u001b[A\n",
      "Sample generation:  13%|█▎        | 128/1000 [00:11<01:14, 11.75it/s]\u001b[A\n",
      "Sample generation:  13%|█▎        | 130/1000 [00:11<01:13, 11.78it/s]\u001b[A\n",
      "Sample generation:  13%|█▎        | 132/1000 [00:11<01:13, 11.80it/s]\u001b[A\n",
      "Sample generation:  13%|█▎        | 134/1000 [00:11<01:13, 11.80it/s]\u001b[A\n",
      "Sample generation:  14%|█▎        | 136/1000 [00:11<01:13, 11.69it/s]\u001b[A\n",
      "Sample generation:  14%|█▍        | 138/1000 [00:12<01:15, 11.48it/s]\u001b[A\n",
      "Sample generation:  14%|█▍        | 140/1000 [00:12<01:14, 11.61it/s]\u001b[A\n",
      "Sample generation:  14%|█▍        | 142/1000 [00:12<01:13, 11.71it/s]\u001b[A\n",
      "Sample generation:  14%|█▍        | 144/1000 [00:12<01:13, 11.62it/s]\u001b[A\n",
      "Sample generation:  15%|█▍        | 146/1000 [00:12<01:13, 11.62it/s]\u001b[A\n",
      "Sample generation:  15%|█▍        | 148/1000 [00:12<01:12, 11.68it/s]\u001b[A\n",
      "Sample generation:  15%|█▌        | 150/1000 [00:13<01:12, 11.69it/s]\u001b[A\n",
      "Sample generation:  15%|█▌        | 152/1000 [00:13<01:14, 11.45it/s]\u001b[A\n",
      "Sample generation:  15%|█▌        | 154/1000 [00:13<01:14, 11.37it/s]\u001b[A\n",
      "Sample generation:  16%|█▌        | 156/1000 [00:13<01:13, 11.45it/s]\u001b[A\n",
      "Sample generation:  16%|█▌        | 158/1000 [00:13<01:13, 11.52it/s]\u001b[A\n",
      "Sample generation:  16%|█▌        | 160/1000 [00:14<01:12, 11.64it/s]\u001b[A\n",
      "Sample generation:  16%|█▌        | 162/1000 [00:14<01:12, 11.55it/s]\u001b[A\n",
      "Sample generation:  16%|█▋        | 164/1000 [00:14<01:12, 11.50it/s]\u001b[A\n",
      "Sample generation:  17%|█▋        | 166/1000 [00:14<01:11, 11.60it/s]\u001b[A\n",
      "Sample generation:  17%|█▋        | 168/1000 [00:14<01:11, 11.66it/s]\u001b[A\n",
      "Sample generation:  17%|█▋        | 170/1000 [00:14<01:11, 11.65it/s]\u001b[A\n",
      "Sample generation:  17%|█▋        | 172/1000 [00:15<01:10, 11.67it/s]\u001b[A\n",
      "Sample generation:  17%|█▋        | 174/1000 [00:15<01:10, 11.68it/s]\u001b[A\n",
      "Sample generation:  18%|█▊        | 176/1000 [00:15<01:10, 11.72it/s]\u001b[A\n",
      "Sample generation:  18%|█▊        | 178/1000 [00:15<01:10, 11.71it/s]\u001b[A\n",
      "Sample generation:  18%|█▊        | 180/1000 [00:15<01:10, 11.67it/s]\u001b[A\n",
      "Sample generation:  18%|█▊        | 182/1000 [00:15<01:09, 11.70it/s]\u001b[A\n",
      "Sample generation:  18%|█▊        | 184/1000 [00:16<01:09, 11.70it/s]\u001b[A\n",
      "Sample generation:  19%|█▊        | 186/1000 [00:16<01:09, 11.63it/s]\u001b[A\n",
      "Sample generation:  19%|█▉        | 188/1000 [00:16<01:09, 11.68it/s]\u001b[A\n",
      "Sample generation:  19%|█▉        | 190/1000 [00:16<01:11, 11.40it/s]\u001b[A\n",
      "Sample generation:  19%|█▉        | 192/1000 [00:16<01:10, 11.49it/s]\u001b[A\n",
      "Sample generation:  19%|█▉        | 194/1000 [00:16<01:09, 11.60it/s]\u001b[A\n",
      "Sample generation:  20%|█▉        | 196/1000 [00:17<01:09, 11.64it/s]\u001b[A\n",
      "Sample generation:  20%|█▉        | 198/1000 [00:17<01:09, 11.59it/s]\u001b[A\n",
      "Sample generation:  20%|██        | 200/1000 [00:17<01:09, 11.59it/s]\u001b[A\n",
      "Sample generation:  20%|██        | 202/1000 [00:17<01:09, 11.46it/s]\u001b[A\n",
      "Sample generation:  20%|██        | 204/1000 [00:17<01:09, 11.50it/s]\u001b[A\n",
      "Sample generation:  21%|██        | 206/1000 [00:17<01:08, 11.58it/s]\u001b[A\n",
      "Sample generation:  21%|██        | 208/1000 [00:18<01:08, 11.60it/s]\u001b[A\n",
      "Sample generation:  21%|██        | 210/1000 [00:18<01:07, 11.63it/s]\u001b[A\n",
      "Sample generation:  21%|██        | 212/1000 [00:18<01:07, 11.75it/s]\u001b[A\n",
      "Sample generation:  21%|██▏       | 214/1000 [00:18<01:07, 11.68it/s]\u001b[A\n",
      "Sample generation:  22%|██▏       | 216/1000 [00:18<01:07, 11.57it/s]\u001b[A\n",
      "Sample generation:  22%|██▏       | 218/1000 [00:19<01:07, 11.62it/s]\u001b[A\n",
      "Sample generation:  22%|██▏       | 220/1000 [00:19<01:06, 11.65it/s]\u001b[A\n",
      "Sample generation:  22%|██▏       | 222/1000 [00:19<01:06, 11.67it/s]\u001b[A\n",
      "Sample generation:  22%|██▏       | 224/1000 [00:19<01:07, 11.55it/s]\u001b[A\n",
      "Sample generation:  23%|██▎       | 226/1000 [00:19<01:06, 11.56it/s]\u001b[A\n",
      "Sample generation:  23%|██▎       | 228/1000 [00:19<01:06, 11.59it/s]\u001b[A\n",
      "Sample generation:  23%|██▎       | 230/1000 [00:20<01:07, 11.46it/s]\u001b[A\n",
      "Sample generation:  23%|██▎       | 232/1000 [00:20<01:07, 11.37it/s]\u001b[A\n",
      "Sample generation:  23%|██▎       | 234/1000 [00:20<01:08, 11.25it/s]\u001b[A\n",
      "Sample generation:  24%|██▎       | 236/1000 [00:20<01:07, 11.35it/s]\u001b[A\n",
      "Sample generation:  24%|██▍       | 238/1000 [00:20<01:07, 11.37it/s]\u001b[A\n",
      "Sample generation:  24%|██▍       | 240/1000 [00:20<01:06, 11.39it/s]\u001b[A\n",
      "Sample generation:  24%|██▍       | 242/1000 [00:21<01:05, 11.54it/s]\u001b[A\n",
      "Sample generation:  24%|██▍       | 244/1000 [00:21<01:05, 11.56it/s]\u001b[A\n",
      "Sample generation:  25%|██▍       | 246/1000 [00:21<01:06, 11.40it/s]\u001b[A\n",
      "Sample generation:  25%|██▍       | 248/1000 [00:21<01:05, 11.41it/s]\u001b[A\n",
      "Sample generation:  25%|██▌       | 250/1000 [00:21<01:05, 11.43it/s]\u001b[A\n",
      "Sample generation:  25%|██▌       | 252/1000 [00:21<01:05, 11.50it/s]\u001b[A\n",
      "Sample generation:  25%|██▌       | 254/1000 [00:22<01:04, 11.50it/s]\u001b[A\n",
      "Sample generation:  26%|██▌       | 256/1000 [00:22<01:04, 11.48it/s]\u001b[A\n",
      "Sample generation:  26%|██▌       | 258/1000 [00:22<01:04, 11.58it/s]\u001b[A\n",
      "Sample generation:  26%|██▌       | 260/1000 [00:22<01:04, 11.41it/s]\u001b[A\n",
      "Sample generation:  26%|██▌       | 262/1000 [00:22<01:04, 11.39it/s]\u001b[A\n",
      "Sample generation:  26%|██▋       | 264/1000 [00:23<01:04, 11.47it/s]\u001b[A\n",
      "Sample generation:  27%|██▋       | 266/1000 [00:23<01:03, 11.61it/s]\u001b[A\n",
      "Sample generation:  27%|██▋       | 268/1000 [00:23<01:04, 11.44it/s]\u001b[A\n",
      "Sample generation:  27%|██▋       | 270/1000 [00:23<01:03, 11.43it/s]\u001b[A\n",
      "Sample generation:  27%|██▋       | 272/1000 [00:23<01:04, 11.24it/s]\u001b[A\n",
      "Sample generation:  27%|██▋       | 274/1000 [00:23<01:03, 11.41it/s]\u001b[A\n",
      "Sample generation:  28%|██▊       | 276/1000 [00:24<01:02, 11.51it/s]\u001b[A\n",
      "Sample generation:  28%|██▊       | 278/1000 [00:24<01:02, 11.51it/s]\u001b[A\n",
      "Sample generation:  28%|██▊       | 280/1000 [00:24<01:02, 11.57it/s]\u001b[A\n",
      "Sample generation:  28%|██▊       | 282/1000 [00:24<01:03, 11.37it/s]\u001b[A\n",
      "Sample generation:  28%|██▊       | 284/1000 [00:24<01:02, 11.41it/s]\u001b[A\n",
      "Sample generation:  29%|██▊       | 286/1000 [00:24<01:01, 11.60it/s]\u001b[A\n",
      "Sample generation:  29%|██▉       | 288/1000 [00:25<01:01, 11.65it/s]\u001b[A\n",
      "Sample generation:  29%|██▉       | 290/1000 [00:25<01:01, 11.58it/s]\u001b[A\n",
      "Sample generation:  29%|██▉       | 292/1000 [00:25<01:00, 11.63it/s]\u001b[A\n",
      "Sample generation:  29%|██▉       | 294/1000 [00:25<01:00, 11.64it/s]\u001b[A\n",
      "Sample generation:  30%|██▉       | 296/1000 [00:25<01:00, 11.59it/s]\u001b[A\n",
      "Sample generation:  30%|██▉       | 298/1000 [00:25<01:00, 11.54it/s]\u001b[A\n",
      "Sample generation:  30%|███       | 300/1000 [00:26<01:00, 11.61it/s]\u001b[A\n",
      "Sample generation:  30%|███       | 302/1000 [00:26<00:59, 11.69it/s]\u001b[A\n",
      "Sample generation:  30%|███       | 304/1000 [00:26<00:59, 11.66it/s]\u001b[A\n",
      "Sample generation:  31%|███       | 306/1000 [00:26<00:59, 11.66it/s]\u001b[A\n",
      "Sample generation:  31%|███       | 308/1000 [00:26<01:00, 11.49it/s]\u001b[A\n",
      "Sample generation:  31%|███       | 310/1000 [00:27<00:59, 11.54it/s]\u001b[A\n",
      "Sample generation:  31%|███       | 312/1000 [00:27<01:00, 11.44it/s]\u001b[A\n",
      "Sample generation:  31%|███▏      | 314/1000 [00:27<01:00, 11.41it/s]\u001b[A\n",
      "Sample generation:  32%|███▏      | 316/1000 [00:27<00:59, 11.50it/s]\u001b[A\n",
      "Sample generation:  32%|███▏      | 318/1000 [00:27<00:59, 11.46it/s]\u001b[A\n",
      "Sample generation:  32%|███▏      | 320/1000 [00:27<00:59, 11.51it/s]\u001b[A\n",
      "Sample generation:  32%|███▏      | 322/1000 [00:28<00:58, 11.64it/s]\u001b[A\n",
      "Sample generation:  32%|███▏      | 324/1000 [00:28<00:58, 11.61it/s]\u001b[A\n",
      "Sample generation:  33%|███▎      | 326/1000 [00:28<00:58, 11.60it/s]\u001b[A\n",
      "Sample generation:  33%|███▎      | 328/1000 [00:28<00:58, 11.58it/s]\u001b[A\n",
      "Sample generation:  33%|███▎      | 330/1000 [00:28<00:57, 11.66it/s]\u001b[A\n",
      "Sample generation:  33%|███▎      | 332/1000 [00:28<00:57, 11.58it/s]\u001b[A\n",
      "Sample generation:  33%|███▎      | 334/1000 [00:29<00:57, 11.60it/s]\u001b[A\n",
      "Sample generation:  34%|███▎      | 336/1000 [00:29<00:56, 11.68it/s]\u001b[A\n",
      "Sample generation:  34%|███▍      | 338/1000 [00:29<00:56, 11.66it/s]\u001b[A\n",
      "Sample generation:  34%|███▍      | 340/1000 [00:29<00:57, 11.52it/s]\u001b[A\n",
      "Sample generation:  34%|███▍      | 342/1000 [00:29<00:57, 11.48it/s]\u001b[A\n",
      "Sample generation:  34%|███▍      | 344/1000 [00:29<00:56, 11.54it/s]\u001b[A\n",
      "Sample generation:  35%|███▍      | 346/1000 [00:30<00:57, 11.47it/s]\u001b[A\n",
      "Sample generation:  35%|███▍      | 348/1000 [00:30<00:56, 11.52it/s]\u001b[A\n",
      "Sample generation:  35%|███▌      | 350/1000 [00:30<00:56, 11.54it/s]\u001b[A\n",
      "Sample generation:  35%|███▌      | 352/1000 [00:30<00:56, 11.50it/s]\u001b[A\n",
      "Sample generation:  35%|███▌      | 354/1000 [00:30<00:55, 11.56it/s]\u001b[A\n",
      "Sample generation:  36%|███▌      | 356/1000 [00:31<00:56, 11.48it/s]\u001b[A\n",
      "Sample generation:  36%|███▌      | 358/1000 [00:31<00:55, 11.53it/s]\u001b[A\n",
      "Sample generation:  36%|███▌      | 360/1000 [00:31<00:55, 11.58it/s]\u001b[A\n",
      "Sample generation:  36%|███▌      | 362/1000 [00:31<00:55, 11.43it/s]\u001b[A\n",
      "Sample generation:  36%|███▋      | 364/1000 [00:31<00:55, 11.45it/s]\u001b[A\n",
      "Sample generation:  37%|███▋      | 366/1000 [00:31<00:56, 11.29it/s]\u001b[A\n",
      "Sample generation:  37%|███▋      | 368/1000 [00:32<00:55, 11.29it/s]\u001b[A\n",
      "Sample generation:  37%|███▋      | 370/1000 [00:32<00:54, 11.48it/s]\u001b[A\n",
      "Sample generation:  37%|███▋      | 372/1000 [00:32<00:54, 11.52it/s]\u001b[A\n",
      "Sample generation:  37%|███▋      | 374/1000 [00:32<00:54, 11.49it/s]\u001b[A\n",
      "Sample generation:  38%|███▊      | 376/1000 [00:32<00:54, 11.55it/s]\u001b[A\n",
      "Sample generation:  38%|███▊      | 378/1000 [00:32<00:53, 11.53it/s]\u001b[A\n",
      "Sample generation:  38%|███▊      | 380/1000 [00:33<00:53, 11.53it/s]\u001b[A\n",
      "Sample generation:  38%|███▊      | 382/1000 [00:33<00:53, 11.61it/s]\u001b[A\n",
      "Sample generation:  38%|███▊      | 384/1000 [00:33<00:52, 11.66it/s]\u001b[A\n",
      "Sample generation:  39%|███▊      | 386/1000 [00:33<00:52, 11.68it/s]\u001b[A\n",
      "Sample generation:  39%|███▉      | 388/1000 [00:33<00:53, 11.51it/s]\u001b[A\n",
      "Sample generation:  39%|███▉      | 390/1000 [00:33<00:53, 11.43it/s]\u001b[A\n",
      "Sample generation:  39%|███▉      | 392/1000 [00:34<00:53, 11.40it/s]\u001b[A\n",
      "Sample generation:  39%|███▉      | 394/1000 [00:34<00:52, 11.46it/s]\u001b[A\n",
      "Sample generation:  40%|███▉      | 396/1000 [00:34<00:52, 11.51it/s]\u001b[A\n",
      "Sample generation:  40%|███▉      | 398/1000 [00:34<00:52, 11.43it/s]\u001b[A\n",
      "Sample generation:  40%|████      | 400/1000 [00:34<00:52, 11.32it/s]\u001b[A\n",
      "Sample generation:  40%|████      | 402/1000 [00:35<00:52, 11.41it/s]\u001b[A\n",
      "Sample generation:  40%|████      | 404/1000 [00:35<00:51, 11.48it/s]\u001b[A\n",
      "Sample generation:  41%|████      | 406/1000 [00:35<00:52, 11.31it/s]\u001b[A\n",
      "Sample generation:  41%|████      | 408/1000 [00:35<00:52, 11.36it/s]\u001b[A\n",
      "Sample generation:  41%|████      | 410/1000 [00:35<00:51, 11.51it/s]\u001b[A\n",
      "Sample generation:  41%|████      | 412/1000 [00:35<00:50, 11.55it/s]\u001b[A\n",
      "Sample generation:  41%|████▏     | 414/1000 [00:36<00:51, 11.43it/s]\u001b[A\n",
      "Sample generation:  42%|████▏     | 416/1000 [00:36<00:51, 11.29it/s]\u001b[A\n",
      "Sample generation:  42%|████▏     | 418/1000 [00:36<00:52, 10.99it/s]\u001b[A\n",
      "Sample generation:  42%|████▏     | 420/1000 [00:36<00:53, 10.88it/s]\u001b[A\n",
      "Sample generation:  42%|████▏     | 422/1000 [00:36<00:52, 11.04it/s]\u001b[A\n",
      "Sample generation:  42%|████▏     | 424/1000 [00:36<00:52, 10.99it/s]\u001b[A\n",
      "Sample generation:  43%|████▎     | 426/1000 [00:37<00:52, 11.02it/s]\u001b[A\n",
      "Sample generation:  43%|████▎     | 428/1000 [00:37<00:51, 11.04it/s]\u001b[A\n",
      "Sample generation:  43%|████▎     | 430/1000 [00:37<00:52, 10.96it/s]\u001b[A\n",
      "Sample generation:  43%|████▎     | 432/1000 [00:37<00:51, 11.12it/s]\u001b[A\n",
      "Sample generation:  43%|████▎     | 434/1000 [00:37<00:50, 11.20it/s]\u001b[A\n",
      "Sample generation:  44%|████▎     | 436/1000 [00:38<00:50, 11.19it/s]\u001b[A\n",
      "Sample generation:  44%|████▍     | 438/1000 [00:38<00:49, 11.37it/s]\u001b[A\n",
      "Sample generation:  44%|████▍     | 440/1000 [00:38<00:49, 11.40it/s]\u001b[A\n",
      "Sample generation:  44%|████▍     | 442/1000 [00:38<00:49, 11.32it/s]\u001b[A\n",
      "Sample generation:  44%|████▍     | 444/1000 [00:38<00:48, 11.43it/s]\u001b[A\n",
      "Sample generation:  45%|████▍     | 446/1000 [00:38<00:47, 11.58it/s]\u001b[A\n",
      "Sample generation:  45%|████▍     | 448/1000 [00:39<00:47, 11.59it/s]\u001b[A\n",
      "Sample generation:  45%|████▌     | 450/1000 [00:39<00:47, 11.56it/s]\u001b[A\n",
      "Sample generation:  45%|████▌     | 452/1000 [00:39<00:47, 11.64it/s]\u001b[A\n",
      "Sample generation:  45%|████▌     | 454/1000 [00:39<00:46, 11.64it/s]\u001b[A\n",
      "Sample generation:  46%|████▌     | 456/1000 [00:39<00:46, 11.61it/s]\u001b[A\n",
      "Sample generation:  46%|████▌     | 458/1000 [00:39<00:46, 11.65it/s]\u001b[A\n",
      "Sample generation:  46%|████▌     | 460/1000 [00:40<00:46, 11.60it/s]\u001b[A\n",
      "Sample generation:  46%|████▌     | 462/1000 [00:40<00:46, 11.60it/s]\u001b[A\n",
      "Sample generation:  46%|████▋     | 464/1000 [00:40<00:46, 11.57it/s]\u001b[A\n",
      "Sample generation:  47%|████▋     | 466/1000 [00:40<00:46, 11.57it/s]\u001b[A\n",
      "Sample generation:  47%|████▋     | 468/1000 [00:40<00:45, 11.57it/s]\u001b[A\n",
      "Sample generation:  47%|████▋     | 470/1000 [00:40<00:45, 11.68it/s]\u001b[A\n",
      "Sample generation:  47%|████▋     | 472/1000 [00:41<00:45, 11.48it/s]\u001b[A\n",
      "Sample generation:  47%|████▋     | 474/1000 [00:41<00:46, 11.37it/s]\u001b[A\n",
      "Sample generation:  48%|████▊     | 476/1000 [00:41<00:46, 11.24it/s]\u001b[A\n",
      "Sample generation:  48%|████▊     | 478/1000 [00:41<00:46, 11.19it/s]\u001b[A\n",
      "Sample generation:  48%|████▊     | 480/1000 [00:41<00:46, 11.08it/s]\u001b[A\n",
      "Sample generation:  48%|████▊     | 482/1000 [00:42<00:46, 11.14it/s]\u001b[A\n",
      "Sample generation:  48%|████▊     | 484/1000 [00:42<00:45, 11.25it/s]\u001b[A\n",
      "Sample generation:  49%|████▊     | 486/1000 [00:42<00:45, 11.31it/s]\u001b[A\n",
      "Sample generation:  49%|████▉     | 488/1000 [00:42<00:44, 11.42it/s]\u001b[A\n",
      "Sample generation:  49%|████▉     | 490/1000 [00:42<00:44, 11.50it/s]\u001b[A\n",
      "Sample generation:  49%|████▉     | 492/1000 [00:42<00:43, 11.58it/s]\u001b[A\n",
      "Sample generation:  49%|████▉     | 494/1000 [00:43<00:43, 11.65it/s]\u001b[A\n",
      "Sample generation:  50%|████▉     | 496/1000 [00:43<00:43, 11.65it/s]\u001b[A\n",
      "Sample generation:  50%|████▉     | 498/1000 [00:43<00:43, 11.52it/s]\u001b[A\n",
      "Sample generation:  50%|█████     | 500/1000 [00:43<00:43, 11.54it/s]\u001b[A\n",
      "Sample generation:  50%|█████     | 502/1000 [00:43<00:42, 11.63it/s]\u001b[A\n",
      "Sample generation:  50%|█████     | 504/1000 [00:43<00:42, 11.70it/s]\u001b[A\n",
      "Sample generation:  51%|█████     | 506/1000 [00:44<00:42, 11.69it/s]\u001b[A\n",
      "Sample generation:  51%|█████     | 508/1000 [00:44<00:42, 11.63it/s]\u001b[A\n",
      "Sample generation:  51%|█████     | 510/1000 [00:44<00:42, 11.62it/s]\u001b[A\n",
      "Sample generation:  51%|█████     | 512/1000 [00:44<00:41, 11.63it/s]\u001b[A\n",
      "Sample generation:  51%|█████▏    | 514/1000 [00:44<00:41, 11.61it/s]\u001b[A\n",
      "Sample generation:  52%|█████▏    | 516/1000 [00:44<00:41, 11.67it/s]\u001b[A\n",
      "Sample generation:  52%|█████▏    | 518/1000 [00:45<00:41, 11.70it/s]\u001b[A"
     ]
    },
    {
     "ename": "KeyboardInterrupt",
     "evalue": "",
     "output_type": "error",
     "traceback": [
      "\u001b[0;31m---------------------------------------------------------------------------\u001b[0m",
      "\u001b[0;31mKeyboardInterrupt\u001b[0m                         Traceback (most recent call last)",
      "\u001b[0;32m<ipython-input-19-5fe773a7b034>\u001b[0m in \u001b[0;36m<module>\u001b[0;34m\u001b[0m\n\u001b[0;32m----> 1\u001b[0;31m \u001b[0mgenerate_training_data\u001b[0m\u001b[0;34m(\u001b[0m\u001b[0minteractive_output\u001b[0m \u001b[0;34m=\u001b[0m \u001b[0mparams\u001b[0m\u001b[0;34m,\u001b[0m \u001b[0msample_amount\u001b[0m \u001b[0;34m=\u001b[0m \u001b[0;36m0.06\u001b[0m\u001b[0;34m,\u001b[0m \u001b[0mrandomise_hist_match\u001b[0m \u001b[0;34m=\u001b[0m \u001b[0;32mFalse\u001b[0m\u001b[0;34m,\u001b[0m \u001b[0mrandomise_noise_match\u001b[0m \u001b[0;34m=\u001b[0m \u001b[0;32mFalse\u001b[0m\u001b[0;34m,\u001b[0m \u001b[0msim_length\u001b[0m \u001b[0;34m=\u001b[0m \u001b[0msim_length\u001b[0m\u001b[0;34m,\u001b[0m \u001b[0mburn_in\u001b[0m \u001b[0;34m=\u001b[0m \u001b[0;36m0\u001b[0m\u001b[0;34m,\u001b[0m \u001b[0mn_samples\u001b[0m \u001b[0;34m=\u001b[0m  \u001b[0;36m1000\u001b[0m\u001b[0;34m,\u001b[0m \u001b[0msave_dir\u001b[0m \u001b[0;34m=\u001b[0m \u001b[0;34m\"/home/georgeos/Storage/Dropbox (Cambridge University)/PhD_Georgeos_Hardo/ML_based_segmentation_results/40x_Ph2_test_1.5/training_data_DELTA_fourier/\"\u001b[0m\u001b[0;34m)\u001b[0m\u001b[0;34m\u001b[0m\u001b[0;34m\u001b[0m\u001b[0m\n\u001b[0m",
      "\u001b[0;32m~/Documents/GitHub/SYMPTOMM2/SYMPTOMM/phase_contrast_drawing.py\u001b[0m in \u001b[0;36mgenerate_training_data\u001b[0;34m(interactive_output, sample_amount, randomise_hist_match, randomise_noise_match, sim_length, burn_in, n_samples, save_dir)\u001b[0m\n\u001b[1;32m    528\u001b[0m             \u001b[0mmask\u001b[0m\u001b[0;34m.\u001b[0m\u001b[0msave\u001b[0m\u001b[0;34m(\u001b[0m\u001b[0;34m\"{}/masks/synth_{}.tif\"\u001b[0m\u001b[0;34m.\u001b[0m\u001b[0mformat\u001b[0m\u001b[0;34m(\u001b[0m\u001b[0msave_dir\u001b[0m\u001b[0;34m,\u001b[0m \u001b[0mstr\u001b[0m\u001b[0;34m(\u001b[0m\u001b[0mz\u001b[0m\u001b[0;34m)\u001b[0m\u001b[0;34m.\u001b[0m\u001b[0mzfill\u001b[0m\u001b[0;34m(\u001b[0m\u001b[0;36m5\u001b[0m\u001b[0;34m)\u001b[0m\u001b[0;34m)\u001b[0m\u001b[0;34m)\u001b[0m\u001b[0;34m\u001b[0m\u001b[0;34m\u001b[0m\u001b[0m\n\u001b[1;32m    529\u001b[0m     \u001b[0;31m## TODO: change parallel if not using GPU\u001b[0m\u001b[0;34m\u001b[0m\u001b[0;34m\u001b[0m\u001b[0;34m\u001b[0m\u001b[0m\n\u001b[0;32m--> 530\u001b[0;31m     \u001b[0mParallel\u001b[0m\u001b[0;34m(\u001b[0m\u001b[0mn_jobs\u001b[0m\u001b[0;34m=\u001b[0m\u001b[0;36m1\u001b[0m\u001b[0;34m)\u001b[0m\u001b[0;34m(\u001b[0m\u001b[0mdelayed\u001b[0m\u001b[0;34m(\u001b[0m\u001b[0mgenerate_samples\u001b[0m\u001b[0;34m)\u001b[0m\u001b[0;34m(\u001b[0m\u001b[0mz\u001b[0m\u001b[0;34m)\u001b[0m \u001b[0;32mfor\u001b[0m \u001b[0mz\u001b[0m \u001b[0;32min\u001b[0m \u001b[0mtqdm\u001b[0m\u001b[0;34m(\u001b[0m\u001b[0mrange\u001b[0m\u001b[0;34m(\u001b[0m\u001b[0mcurrent_file_num\u001b[0m\u001b[0;34m,\u001b[0m\u001b[0mn_samples\u001b[0m\u001b[0;34m+\u001b[0m\u001b[0mcurrent_file_num\u001b[0m\u001b[0;34m)\u001b[0m\u001b[0;34m,\u001b[0m \u001b[0mdesc\u001b[0m\u001b[0;34m=\u001b[0m\u001b[0;34m\"Sample generation\"\u001b[0m\u001b[0;34m)\u001b[0m\u001b[0;34m)\u001b[0m\u001b[0;34m\u001b[0m\u001b[0;34m\u001b[0m\u001b[0m\n\u001b[0m\u001b[1;32m    531\u001b[0m \u001b[0;34m\u001b[0m\u001b[0m\n\u001b[1;32m    532\u001b[0m \u001b[0;34m\u001b[0m\u001b[0m\n",
      "\u001b[0;32m~/anaconda3/envs/SYMPTOMM/lib/python3.8/site-packages/joblib/parallel.py\u001b[0m in \u001b[0;36m__call__\u001b[0;34m(self, iterable)\u001b[0m\n\u001b[1;32m   1042\u001b[0m                 \u001b[0mself\u001b[0m\u001b[0;34m.\u001b[0m\u001b[0m_iterating\u001b[0m \u001b[0;34m=\u001b[0m \u001b[0mself\u001b[0m\u001b[0;34m.\u001b[0m\u001b[0m_original_iterator\u001b[0m \u001b[0;32mis\u001b[0m \u001b[0;32mnot\u001b[0m \u001b[0;32mNone\u001b[0m\u001b[0;34m\u001b[0m\u001b[0;34m\u001b[0m\u001b[0m\n\u001b[1;32m   1043\u001b[0m \u001b[0;34m\u001b[0m\u001b[0m\n\u001b[0;32m-> 1044\u001b[0;31m             \u001b[0;32mwhile\u001b[0m \u001b[0mself\u001b[0m\u001b[0;34m.\u001b[0m\u001b[0mdispatch_one_batch\u001b[0m\u001b[0;34m(\u001b[0m\u001b[0miterator\u001b[0m\u001b[0;34m)\u001b[0m\u001b[0;34m:\u001b[0m\u001b[0;34m\u001b[0m\u001b[0;34m\u001b[0m\u001b[0m\n\u001b[0m\u001b[1;32m   1045\u001b[0m                 \u001b[0;32mpass\u001b[0m\u001b[0;34m\u001b[0m\u001b[0;34m\u001b[0m\u001b[0m\n\u001b[1;32m   1046\u001b[0m \u001b[0;34m\u001b[0m\u001b[0m\n",
      "\u001b[0;32m~/anaconda3/envs/SYMPTOMM/lib/python3.8/site-packages/joblib/parallel.py\u001b[0m in \u001b[0;36mdispatch_one_batch\u001b[0;34m(self, iterator)\u001b[0m\n\u001b[1;32m    857\u001b[0m                 \u001b[0;32mreturn\u001b[0m \u001b[0;32mFalse\u001b[0m\u001b[0;34m\u001b[0m\u001b[0;34m\u001b[0m\u001b[0m\n\u001b[1;32m    858\u001b[0m             \u001b[0;32melse\u001b[0m\u001b[0;34m:\u001b[0m\u001b[0;34m\u001b[0m\u001b[0;34m\u001b[0m\u001b[0m\n\u001b[0;32m--> 859\u001b[0;31m                 \u001b[0mself\u001b[0m\u001b[0;34m.\u001b[0m\u001b[0m_dispatch\u001b[0m\u001b[0;34m(\u001b[0m\u001b[0mtasks\u001b[0m\u001b[0;34m)\u001b[0m\u001b[0;34m\u001b[0m\u001b[0;34m\u001b[0m\u001b[0m\n\u001b[0m\u001b[1;32m    860\u001b[0m                 \u001b[0;32mreturn\u001b[0m \u001b[0;32mTrue\u001b[0m\u001b[0;34m\u001b[0m\u001b[0;34m\u001b[0m\u001b[0m\n\u001b[1;32m    861\u001b[0m \u001b[0;34m\u001b[0m\u001b[0m\n",
      "\u001b[0;32m~/anaconda3/envs/SYMPTOMM/lib/python3.8/site-packages/joblib/parallel.py\u001b[0m in \u001b[0;36m_dispatch\u001b[0;34m(self, batch)\u001b[0m\n\u001b[1;32m    775\u001b[0m         \u001b[0;32mwith\u001b[0m \u001b[0mself\u001b[0m\u001b[0;34m.\u001b[0m\u001b[0m_lock\u001b[0m\u001b[0;34m:\u001b[0m\u001b[0;34m\u001b[0m\u001b[0;34m\u001b[0m\u001b[0m\n\u001b[1;32m    776\u001b[0m             \u001b[0mjob_idx\u001b[0m \u001b[0;34m=\u001b[0m \u001b[0mlen\u001b[0m\u001b[0;34m(\u001b[0m\u001b[0mself\u001b[0m\u001b[0;34m.\u001b[0m\u001b[0m_jobs\u001b[0m\u001b[0;34m)\u001b[0m\u001b[0;34m\u001b[0m\u001b[0;34m\u001b[0m\u001b[0m\n\u001b[0;32m--> 777\u001b[0;31m             \u001b[0mjob\u001b[0m \u001b[0;34m=\u001b[0m \u001b[0mself\u001b[0m\u001b[0;34m.\u001b[0m\u001b[0m_backend\u001b[0m\u001b[0;34m.\u001b[0m\u001b[0mapply_async\u001b[0m\u001b[0;34m(\u001b[0m\u001b[0mbatch\u001b[0m\u001b[0;34m,\u001b[0m \u001b[0mcallback\u001b[0m\u001b[0;34m=\u001b[0m\u001b[0mcb\u001b[0m\u001b[0;34m)\u001b[0m\u001b[0;34m\u001b[0m\u001b[0;34m\u001b[0m\u001b[0m\n\u001b[0m\u001b[1;32m    778\u001b[0m             \u001b[0;31m# A job can complete so quickly than its callback is\u001b[0m\u001b[0;34m\u001b[0m\u001b[0;34m\u001b[0m\u001b[0;34m\u001b[0m\u001b[0m\n\u001b[1;32m    779\u001b[0m             \u001b[0;31m# called before we get here, causing self._jobs to\u001b[0m\u001b[0;34m\u001b[0m\u001b[0;34m\u001b[0m\u001b[0;34m\u001b[0m\u001b[0m\n",
      "\u001b[0;32m~/anaconda3/envs/SYMPTOMM/lib/python3.8/site-packages/joblib/_parallel_backends.py\u001b[0m in \u001b[0;36mapply_async\u001b[0;34m(self, func, callback)\u001b[0m\n\u001b[1;32m    206\u001b[0m     \u001b[0;32mdef\u001b[0m \u001b[0mapply_async\u001b[0m\u001b[0;34m(\u001b[0m\u001b[0mself\u001b[0m\u001b[0;34m,\u001b[0m \u001b[0mfunc\u001b[0m\u001b[0;34m,\u001b[0m \u001b[0mcallback\u001b[0m\u001b[0;34m=\u001b[0m\u001b[0;32mNone\u001b[0m\u001b[0;34m)\u001b[0m\u001b[0;34m:\u001b[0m\u001b[0;34m\u001b[0m\u001b[0;34m\u001b[0m\u001b[0m\n\u001b[1;32m    207\u001b[0m         \u001b[0;34m\"\"\"Schedule a func to be run\"\"\"\u001b[0m\u001b[0;34m\u001b[0m\u001b[0;34m\u001b[0m\u001b[0m\n\u001b[0;32m--> 208\u001b[0;31m         \u001b[0mresult\u001b[0m \u001b[0;34m=\u001b[0m \u001b[0mImmediateResult\u001b[0m\u001b[0;34m(\u001b[0m\u001b[0mfunc\u001b[0m\u001b[0;34m)\u001b[0m\u001b[0;34m\u001b[0m\u001b[0;34m\u001b[0m\u001b[0m\n\u001b[0m\u001b[1;32m    209\u001b[0m         \u001b[0;32mif\u001b[0m \u001b[0mcallback\u001b[0m\u001b[0;34m:\u001b[0m\u001b[0;34m\u001b[0m\u001b[0;34m\u001b[0m\u001b[0m\n\u001b[1;32m    210\u001b[0m             \u001b[0mcallback\u001b[0m\u001b[0;34m(\u001b[0m\u001b[0mresult\u001b[0m\u001b[0;34m)\u001b[0m\u001b[0;34m\u001b[0m\u001b[0;34m\u001b[0m\u001b[0m\n",
      "\u001b[0;32m~/anaconda3/envs/SYMPTOMM/lib/python3.8/site-packages/joblib/_parallel_backends.py\u001b[0m in \u001b[0;36m__init__\u001b[0;34m(self, batch)\u001b[0m\n\u001b[1;32m    570\u001b[0m         \u001b[0;31m# Don't delay the application, to avoid keeping the input\u001b[0m\u001b[0;34m\u001b[0m\u001b[0;34m\u001b[0m\u001b[0;34m\u001b[0m\u001b[0m\n\u001b[1;32m    571\u001b[0m         \u001b[0;31m# arguments in memory\u001b[0m\u001b[0;34m\u001b[0m\u001b[0;34m\u001b[0m\u001b[0;34m\u001b[0m\u001b[0m\n\u001b[0;32m--> 572\u001b[0;31m         \u001b[0mself\u001b[0m\u001b[0;34m.\u001b[0m\u001b[0mresults\u001b[0m \u001b[0;34m=\u001b[0m \u001b[0mbatch\u001b[0m\u001b[0;34m(\u001b[0m\u001b[0;34m)\u001b[0m\u001b[0;34m\u001b[0m\u001b[0;34m\u001b[0m\u001b[0m\n\u001b[0m\u001b[1;32m    573\u001b[0m \u001b[0;34m\u001b[0m\u001b[0m\n\u001b[1;32m    574\u001b[0m     \u001b[0;32mdef\u001b[0m \u001b[0mget\u001b[0m\u001b[0;34m(\u001b[0m\u001b[0mself\u001b[0m\u001b[0;34m)\u001b[0m\u001b[0;34m:\u001b[0m\u001b[0;34m\u001b[0m\u001b[0;34m\u001b[0m\u001b[0m\n",
      "\u001b[0;32m~/anaconda3/envs/SYMPTOMM/lib/python3.8/site-packages/joblib/parallel.py\u001b[0m in \u001b[0;36m__call__\u001b[0;34m(self)\u001b[0m\n\u001b[1;32m    260\u001b[0m         \u001b[0;31m# change the default number of processes to -1\u001b[0m\u001b[0;34m\u001b[0m\u001b[0;34m\u001b[0m\u001b[0;34m\u001b[0m\u001b[0m\n\u001b[1;32m    261\u001b[0m         \u001b[0;32mwith\u001b[0m \u001b[0mparallel_backend\u001b[0m\u001b[0;34m(\u001b[0m\u001b[0mself\u001b[0m\u001b[0;34m.\u001b[0m\u001b[0m_backend\u001b[0m\u001b[0;34m,\u001b[0m \u001b[0mn_jobs\u001b[0m\u001b[0;34m=\u001b[0m\u001b[0mself\u001b[0m\u001b[0;34m.\u001b[0m\u001b[0m_n_jobs\u001b[0m\u001b[0;34m)\u001b[0m\u001b[0;34m:\u001b[0m\u001b[0;34m\u001b[0m\u001b[0;34m\u001b[0m\u001b[0m\n\u001b[0;32m--> 262\u001b[0;31m             return [func(*args, **kwargs)\n\u001b[0m\u001b[1;32m    263\u001b[0m                     for func, args, kwargs in self.items]\n\u001b[1;32m    264\u001b[0m \u001b[0;34m\u001b[0m\u001b[0m\n",
      "\u001b[0;32m~/anaconda3/envs/SYMPTOMM/lib/python3.8/site-packages/joblib/parallel.py\u001b[0m in \u001b[0;36m<listcomp>\u001b[0;34m(.0)\u001b[0m\n\u001b[1;32m    260\u001b[0m         \u001b[0;31m# change the default number of processes to -1\u001b[0m\u001b[0;34m\u001b[0m\u001b[0;34m\u001b[0m\u001b[0;34m\u001b[0m\u001b[0m\n\u001b[1;32m    261\u001b[0m         \u001b[0;32mwith\u001b[0m \u001b[0mparallel_backend\u001b[0m\u001b[0;34m(\u001b[0m\u001b[0mself\u001b[0m\u001b[0;34m.\u001b[0m\u001b[0m_backend\u001b[0m\u001b[0;34m,\u001b[0m \u001b[0mn_jobs\u001b[0m\u001b[0;34m=\u001b[0m\u001b[0mself\u001b[0m\u001b[0;34m.\u001b[0m\u001b[0m_n_jobs\u001b[0m\u001b[0;34m)\u001b[0m\u001b[0;34m:\u001b[0m\u001b[0;34m\u001b[0m\u001b[0;34m\u001b[0m\u001b[0m\n\u001b[0;32m--> 262\u001b[0;31m             return [func(*args, **kwargs)\n\u001b[0m\u001b[1;32m    263\u001b[0m                     for func, args, kwargs in self.items]\n\u001b[1;32m    264\u001b[0m \u001b[0;34m\u001b[0m\u001b[0m\n",
      "\u001b[0;32m~/Documents/GitHub/SYMPTOMM2/SYMPTOMM/phase_contrast_drawing.py\u001b[0m in \u001b[0;36mgenerate_samples\u001b[0;34m(z)\u001b[0m\n\u001b[1;32m    515\u001b[0m             \u001b[0m_match_noise\u001b[0m \u001b[0;34m=\u001b[0m \u001b[0mmatch_noise\u001b[0m\u001b[0;34m\u001b[0m\u001b[0;34m\u001b[0m\u001b[0m\n\u001b[1;32m    516\u001b[0m \u001b[0;34m\u001b[0m\u001b[0m\n\u001b[0;32m--> 517\u001b[0;31m         \u001b[0msyn_image\u001b[0m\u001b[0;34m,\u001b[0m \u001b[0mmask\u001b[0m \u001b[0;34m=\u001b[0m \u001b[0mgenerate_test_comparison\u001b[0m\u001b[0;34m(\u001b[0m\u001b[0m_media_multiplier\u001b[0m\u001b[0;34m,\u001b[0m \u001b[0m_cell_multiplier\u001b[0m\u001b[0;34m,\u001b[0m \u001b[0m_device_multiplier\u001b[0m\u001b[0;34m,\u001b[0m \u001b[0m_sigma\u001b[0m\u001b[0;34m,\u001b[0m \u001b[0m_scene_no\u001b[0m\u001b[0;34m,\u001b[0m \u001b[0mscale\u001b[0m\u001b[0;34m,\u001b[0m \u001b[0mmatch_fourier\u001b[0m\u001b[0;34m,\u001b[0m \u001b[0m_match_histogram\u001b[0m\u001b[0;34m,\u001b[0m \u001b[0mmatch_noise\u001b[0m\u001b[0;34m,\u001b[0m \u001b[0moffset\u001b[0m\u001b[0;34m,\u001b[0m \u001b[0mdebug_plot\u001b[0m\u001b[0;34m,\u001b[0m \u001b[0mnoise_var\u001b[0m\u001b[0;34m,\u001b[0m \u001b[0mmain_segments\u001b[0m\u001b[0;34m,\u001b[0m \u001b[0mscenes\u001b[0m\u001b[0;34m,\u001b[0m \u001b[0mkernel_params\u001b[0m\u001b[0;34m,\u001b[0m \u001b[0mresize_amount\u001b[0m\u001b[0;34m,\u001b[0m \u001b[0mreal_image\u001b[0m\u001b[0;34m,\u001b[0m \u001b[0mimage_params\u001b[0m\u001b[0;34m,\u001b[0m \u001b[0merror_params\u001b[0m\u001b[0;34m,\u001b[0m \u001b[0mx_border_expansion_coefficient\u001b[0m\u001b[0;34m,\u001b[0m\u001b[0my_border_expansion_coefficient\u001b[0m\u001b[0;34m,\u001b[0m \u001b[0mfluorescence\u001b[0m\u001b[0;34m,\u001b[0m \u001b[0mdefocus\u001b[0m\u001b[0;34m)\u001b[0m\u001b[0;34m\u001b[0m\u001b[0;34m\u001b[0m\u001b[0m\n\u001b[0m\u001b[1;32m    518\u001b[0m \u001b[0;34m\u001b[0m\u001b[0m\n\u001b[1;32m    519\u001b[0m         \u001b[0msyn_image\u001b[0m \u001b[0;34m=\u001b[0m \u001b[0mImage\u001b[0m\u001b[0;34m.\u001b[0m\u001b[0mfromarray\u001b[0m\u001b[0;34m(\u001b[0m\u001b[0mskimage\u001b[0m\u001b[0;34m.\u001b[0m\u001b[0mimg_as_uint\u001b[0m\u001b[0;34m(\u001b[0m\u001b[0mrescale_intensity\u001b[0m\u001b[0;34m(\u001b[0m\u001b[0msyn_image\u001b[0m\u001b[0;34m)\u001b[0m\u001b[0;34m)\u001b[0m\u001b[0;34m)\u001b[0m\u001b[0;34m\u001b[0m\u001b[0;34m\u001b[0m\u001b[0m\n",
      "\u001b[0;32m~/Documents/GitHub/SYMPTOMM2/SYMPTOMM/phase_contrast_drawing.py\u001b[0m in \u001b[0;36mgenerate_test_comparison\u001b[0;34m(media_multiplier, cell_multiplier, device_multiplier, sigma, scene_no, scale, match_fourier, match_histogram, match_noise, offset, debug_plot, noise_var, main_segments, scenes, kernel_params, resize_amount, real_image, image_params, error_params, x_border_expansion_coefficient, y_border_expansion_coefficient, fluorescence, defocus)\u001b[0m\n\u001b[1;32m    304\u001b[0m \u001b[0;34m\u001b[0m\u001b[0m\n\u001b[1;32m    305\u001b[0m \u001b[0;34m\u001b[0m\u001b[0m\n\u001b[0;32m--> 306\u001b[0;31m     \u001b[0mconvolved\u001b[0m \u001b[0;34m=\u001b[0m \u001b[0mconvolve_rescale\u001b[0m\u001b[0;34m(\u001b[0m\u001b[0mexpanded_scene\u001b[0m\u001b[0;34m,\u001b[0m \u001b[0mkernel\u001b[0m\u001b[0;34m,\u001b[0m \u001b[0;36m1\u001b[0m\u001b[0;34m/\u001b[0m\u001b[0mresize_amount\u001b[0m\u001b[0;34m,\u001b[0m \u001b[0mrescale_int\u001b[0m \u001b[0;34m=\u001b[0m \u001b[0;32mTrue\u001b[0m\u001b[0;34m)\u001b[0m\u001b[0;34m\u001b[0m\u001b[0;34m\u001b[0m\u001b[0m\n\u001b[0m\u001b[1;32m    307\u001b[0m     \u001b[0mreal_resize\u001b[0m\u001b[0;34m,\u001b[0m \u001b[0mexpanded_resized\u001b[0m \u001b[0;34m=\u001b[0m \u001b[0mmake_images_same_shape\u001b[0m\u001b[0;34m(\u001b[0m\u001b[0mreal_image\u001b[0m\u001b[0;34m,\u001b[0m\u001b[0mconvolved\u001b[0m\u001b[0;34m,\u001b[0m \u001b[0mrescale_int\u001b[0m\u001b[0;34m=\u001b[0m\u001b[0;32mTrue\u001b[0m\u001b[0;34m)\u001b[0m\u001b[0;34m\u001b[0m\u001b[0;34m\u001b[0m\u001b[0m\n\u001b[1;32m    308\u001b[0m     \u001b[0mfftim1\u001b[0m \u001b[0;34m=\u001b[0m \u001b[0mfft\u001b[0m\u001b[0;34m.\u001b[0m\u001b[0mfftshift\u001b[0m\u001b[0;34m(\u001b[0m\u001b[0mfft\u001b[0m\u001b[0;34m.\u001b[0m\u001b[0mfft2\u001b[0m\u001b[0;34m(\u001b[0m\u001b[0mreal_resize\u001b[0m\u001b[0;34m)\u001b[0m\u001b[0;34m)\u001b[0m\u001b[0;34m\u001b[0m\u001b[0;34m\u001b[0m\u001b[0m\n",
      "\u001b[0;32m~/Documents/GitHub/SYMPTOMM2/SYMPTOMM/general_drawing.py\u001b[0m in \u001b[0;36mconvolve_rescale\u001b[0;34m(image, kernel, rescale_factor, rescale_int)\u001b[0m\n\u001b[1;32m    241\u001b[0m \u001b[0;32mdef\u001b[0m \u001b[0mconvolve_rescale\u001b[0m\u001b[0;34m(\u001b[0m\u001b[0mimage\u001b[0m\u001b[0;34m,\u001b[0m\u001b[0mkernel\u001b[0m\u001b[0;34m,\u001b[0m\u001b[0mrescale_factor\u001b[0m\u001b[0;34m,\u001b[0m \u001b[0mrescale_int\u001b[0m\u001b[0;34m)\u001b[0m\u001b[0;34m:\u001b[0m\u001b[0;34m\u001b[0m\u001b[0;34m\u001b[0m\u001b[0m\n\u001b[1;32m    242\u001b[0m     \u001b[0moutput\u001b[0m \u001b[0;34m=\u001b[0m \u001b[0mcuconvolve\u001b[0m\u001b[0;34m(\u001b[0m\u001b[0mcp\u001b[0m\u001b[0;34m.\u001b[0m\u001b[0marray\u001b[0m\u001b[0;34m(\u001b[0m\u001b[0mimage\u001b[0m\u001b[0;34m)\u001b[0m\u001b[0;34m,\u001b[0m\u001b[0mcp\u001b[0m\u001b[0;34m.\u001b[0m\u001b[0marray\u001b[0m\u001b[0;34m(\u001b[0m\u001b[0mkernel\u001b[0m\u001b[0;34m)\u001b[0m\u001b[0;34m)\u001b[0m\u001b[0;34m\u001b[0m\u001b[0;34m\u001b[0m\u001b[0m\n\u001b[0;32m--> 243\u001b[0;31m     \u001b[0moutput\u001b[0m \u001b[0;34m=\u001b[0m \u001b[0moutput\u001b[0m\u001b[0;34m.\u001b[0m\u001b[0mget\u001b[0m\u001b[0;34m(\u001b[0m\u001b[0;34m)\u001b[0m\u001b[0;34m\u001b[0m\u001b[0;34m\u001b[0m\u001b[0m\n\u001b[0m\u001b[1;32m    244\u001b[0m     \u001b[0moutput\u001b[0m \u001b[0;34m=\u001b[0m \u001b[0mrescale\u001b[0m\u001b[0;34m(\u001b[0m\u001b[0moutput\u001b[0m\u001b[0;34m,\u001b[0m \u001b[0mrescale_factor\u001b[0m\u001b[0;34m,\u001b[0m \u001b[0manti_aliasing\u001b[0m\u001b[0;34m=\u001b[0m\u001b[0;32mFalse\u001b[0m\u001b[0;34m)\u001b[0m\u001b[0;34m\u001b[0m\u001b[0;34m\u001b[0m\u001b[0m\n\u001b[1;32m    245\u001b[0m \u001b[0;34m\u001b[0m\u001b[0m\n",
      "\u001b[0;31mKeyboardInterrupt\u001b[0m: "
     ]
    }
   ],
   "source": [
    "generate_training_data(interactive_output = params, sample_amount = 0.06, randomise_hist_match = False, randomise_noise_match = False, sim_length = sim_length, burn_in = 0, n_samples =  1000, save_dir = \"/home/georgeos/Storage/Dropbox (Cambridge University)/PhD_Georgeos_Hardo/ML_based_segmentation_results/40x_Ph2_test_1.5/training_data_DELTA_fourier/\")"
   ]
  },
  {
   "cell_type": "code",
   "execution_count": null,
   "id": "a5bec311-e31a-460b-80be-b81ff88cfa69",
   "metadata": {},
   "outputs": [],
   "source": []
  }
 ],
 "metadata": {
  "kernelspec": {
   "display_name": "Python 3",
   "language": "python",
   "name": "python3"
  },
  "language_info": {
   "codemirror_mode": {
    "name": "ipython",
    "version": 3
   },
   "file_extension": ".py",
   "mimetype": "text/x-python",
   "name": "python",
   "nbconvert_exporter": "python",
   "pygments_lexer": "ipython3",
   "version": "3.8.10"
  }
 },
 "nbformat": 4,
 "nbformat_minor": 5
}
