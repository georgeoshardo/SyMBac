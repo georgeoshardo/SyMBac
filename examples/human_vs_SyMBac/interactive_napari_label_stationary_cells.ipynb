{
 "cells": [
  {
   "cell_type": "code",
   "execution_count": 90,
   "id": "ae1bed17-f0cb-49a2-b00d-2f2ae0ee0804",
   "metadata": {},
   "outputs": [],
   "source": [
    "import numpy as np\n",
    "import tifffile\n",
    "from glob import glob\n",
    "import napari\n",
    "import matplotlib.pyplot as plt\n",
    "from skimage.measure import label\n",
    "from skimage.measure import regionprops_table\n",
    "import pandas as pd\n",
    "from sklearn.metrics import jaccard_score, precision_score, recall_score\n",
    "import seaborn as sns"
   ]
  },
  {
   "cell_type": "code",
   "execution_count": 91,
   "id": "d75e8199-8138-476a-a3b8-b3a72e2f724b",
   "metadata": {},
   "outputs": [],
   "source": [
    "image_stack = np.zeros((100,256,47))\n",
    "true_mask_stack= np.zeros((100,256,47))"
   ]
  },
  {
   "cell_type": "code",
   "execution_count": 92,
   "id": "d871bf26-772b-4de2-9052-2c0d205e6bf4",
   "metadata": {},
   "outputs": [
    {
     "data": {
      "text/plain": [
       "(100, 256, 47)"
      ]
     },
     "execution_count": 92,
     "metadata": {},
     "output_type": "execute_result"
    }
   ],
   "source": [
    "true_mask_stack.shape"
   ]
  },
  {
   "cell_type": "code",
   "execution_count": 93,
   "id": "9bb62255-3e0a-4a49-9789-a8426cd835cb",
   "metadata": {},
   "outputs": [],
   "source": [
    "img_dirs = glob(\"/home/georgeos/Storage/Dropbox (Cambridge University)/Phase/training_data/convolutions/*.tif\")\n",
    "mask_dirs = glob(\"/home/georgeos/Storage/Dropbox (Cambridge University)/Phase/training_data/masks/*.tif\")"
   ]
  },
  {
   "cell_type": "code",
   "execution_count": 94,
   "id": "65b63a78-5b16-4ffe-a739-025acdbdee16",
   "metadata": {},
   "outputs": [],
   "source": [
    "for x in range(0,100):\n",
    "    image_stack[x,:,:] = tifffile.imread(img_dirs[x+6984])\n",
    "    true_mask_stack[x,:,:] = tifffile.imread(mask_dirs[x+6984])"
   ]
  },
  {
   "cell_type": "code",
   "execution_count": 95,
   "id": "e25025a3-f4f9-48e9-ace3-59a3dfe14c8d",
   "metadata": {},
   "outputs": [],
   "source": [
    "true_mask_stack = true_mask_stack[:,:,1:]"
   ]
  },
  {
   "cell_type": "code",
   "execution_count": 18,
   "id": "8bfeee3e-b475-4cb6-8d47-04874413b611",
   "metadata": {},
   "outputs": [],
   "source": [
    "tifffile.imsave(\"image_stack_stationary.tif\",image_stack)\n",
    "tifffile.imsave(\"true_mask_stack_stationary.tif\",image_stack)"
   ]
  },
  {
   "cell_type": "code",
   "execution_count": 17,
   "id": "c251393d-d515-4992-999b-41d44357bee4",
   "metadata": {},
   "outputs": [
    {
     "name": "stderr",
     "output_type": "stream",
     "text": [
      "/home/georgeos/anaconda3/envs/SYMPTOMM/lib/python3.8/site-packages/napari/_vispy/vispy_camera.py:109: RuntimeWarning: divide by zero encountered in true_divide\n",
      "  zoom = np.min(canvas_size / scale)\n"
     ]
    }
   ],
   "source": [
    "viewer = napari.view_image(image_stack)\n",
    "mask_layer = viewer.add_labels(np.zeros((100,256,46)).astype(int), name = \"mask_layer\")"
   ]
  },
  {
   "cell_type": "code",
   "execution_count": 55,
   "id": "b0323fdd-4c17-4f1a-8f19-40641daaa7c2",
   "metadata": {},
   "outputs": [],
   "source": [
    "#tifffile.imsave(\"mask_layer_stationary.tif\",mask_layer.data)"
   ]
  },
  {
   "cell_type": "code",
   "execution_count": 56,
   "id": "c3b49a7f-b364-4051-881b-58ce94a9ea22",
   "metadata": {},
   "outputs": [],
   "source": [
    "human_masks = tifffile.imread(\"mask_layer_stationary.tif\")"
   ]
  },
  {
   "cell_type": "code",
   "execution_count": 58,
   "id": "d81f791e-e7ca-4e3f-a37e-14434d9e3ded",
   "metadata": {},
   "outputs": [
    {
     "name": "stdout",
     "output_type": "stream",
     "text": [
      "271\n",
      "271\n"
     ]
    }
   ],
   "source": [
    "lengths = []\n",
    "widths = []\n",
    "areas=[]\n",
    "for x in range(30):\n",
    "    df = pd.DataFrame(regionprops_table(label(human_masks[x],connectivity=1),properties = [\"major_axis_length\",\"minor_axis_length\",\"area\"]))\n",
    "    lengths.extend(list(df[\"major_axis_length\"]))\n",
    "    widths.extend(list(df[\"minor_axis_length\"]))\n",
    "    areas.extend(list(df[\"area\"]))\n",
    "true_lengths = []\n",
    "true_widths = []\n",
    "true_areas=[]\n",
    "for x in range(30):\n",
    "    df = pd.DataFrame(regionprops_table(label(true_mask_stack[x]),properties = [\"major_axis_length\",\"minor_axis_length\",\"area\"]))\n",
    "    true_lengths.extend(list(df[\"major_axis_length\"]))\n",
    "    true_widths.extend(list(df[\"minor_axis_length\"]))\n",
    "    true_areas.extend(list(df[\"area\"]))\n",
    "print(len(lengths))\n",
    "print(len(true_lengths))"
   ]
  },
  {
   "cell_type": "code",
   "execution_count": 59,
   "id": "0884b875-ebfd-48b0-b88a-dc74e247464c",
   "metadata": {},
   "outputs": [
    {
     "name": "stdout",
     "output_type": "stream",
     "text": [
      "23.71147891187218\n",
      "26.03225272709207\n"
     ]
    }
   ],
   "source": [
    "print(np.mean(lengths))\n",
    "print(np.mean(true_lengths))"
   ]
  },
  {
   "cell_type": "code",
   "execution_count": 60,
   "id": "38c76e61-acf2-4054-9e03-c4bfdb496711",
   "metadata": {},
   "outputs": [
    {
     "name": "stdout",
     "output_type": "stream",
     "text": [
      "14.074472033465291\n",
      "17.295055874462765\n"
     ]
    }
   ],
   "source": [
    "print(np.mean(widths))\n",
    "print(np.mean(true_widths))"
   ]
  },
  {
   "cell_type": "code",
   "execution_count": 61,
   "id": "54bc431f-f2e4-4fdc-bb86-8e57c0f3aceb",
   "metadata": {},
   "outputs": [
    {
     "name": "stdout",
     "output_type": "stream",
     "text": [
      "0.048762869991261205\n",
      "0.03905295947436397\n"
     ]
    }
   ],
   "source": [
    "print(np.var(areas)/(np.mean(areas)**2))\n",
    "print(np.var(true_areas)/(np.mean(true_areas)**2))"
   ]
  },
  {
   "cell_type": "code",
   "execution_count": 62,
   "id": "edf851e7-2615-4b00-97d1-9a19b741b282",
   "metadata": {},
   "outputs": [],
   "source": [
    "def normalised_variance(l):\n",
    "    return np.var(l)/(np.mean(l)**2)"
   ]
  },
  {
   "cell_type": "code",
   "execution_count": 63,
   "id": "83dc6a7f-b2ed-4240-b239-5249be846e5c",
   "metadata": {
    "tags": []
   },
   "outputs": [
    {
     "name": "stdout",
     "output_type": "stream",
     "text": [
      "0.03225435066542306\n",
      "0.00824261759195829\n",
      "0.048762869991261205\n"
     ]
    }
   ],
   "source": [
    "for l in [lengths,widths,areas]:\n",
    "    print(normalised_variance(l))"
   ]
  },
  {
   "cell_type": "code",
   "execution_count": 64,
   "id": "71c8ce03-c5fa-43fd-bda3-52f95593d68f",
   "metadata": {},
   "outputs": [
    {
     "name": "stdout",
     "output_type": "stream",
     "text": [
      "0.030888643977546298\n",
      "0.004597921351507073\n",
      "0.03905295947436397\n"
     ]
    }
   ],
   "source": [
    "for l in [true_lengths,true_widths,true_areas]:\n",
    "    print(normalised_variance(l))"
   ]
  },
  {
   "cell_type": "code",
   "execution_count": 65,
   "id": "5c5655af-20b4-4c41-9648-e9a011cb30de",
   "metadata": {},
   "outputs": [
    {
     "data": {
      "image/png": "[encoded data removed]",
      "text/plain": [
       "<Figure size 432x288 with 1 Axes>"
      ]
     },
     "metadata": {
      "needs_background": "light"
     },
     "output_type": "display_data"
    }
   ],
   "source": [
    "plt.hist(lengths,bins=20)\n",
    "plt.hist(true_lengths,bins=20,alpha=0.7)\n",
    "\n",
    "plt.show()"
   ]
  },
  {
   "cell_type": "code",
   "execution_count": 66,
   "id": "09ad916f-84d5-41d5-b0db-85eccd860bd0",
   "metadata": {},
   "outputs": [
    {
     "data": {
      "text/plain": [
       "Text(0, 0.5, 'Human measured length (pixels)')"
      ]
     },
     "execution_count": 66,
     "metadata": {},
     "output_type": "execute_result"
    },
    {
     "data": {
      "image/png": "[encoded data removed]",
      "text/plain": [
       "<Figure size 432x288 with 1 Axes>"
      ]
     },
     "metadata": {
      "needs_background": "light"
     },
     "output_type": "display_data"
    }
   ],
   "source": [
    "plt.scatter(true_lengths,lengths)\n",
    "plt.xlabel(\"True length (pixels)\")\n",
    "plt.ylabel(\"Human measured length (pixels)\")"
   ]
  },
  {
   "cell_type": "code",
   "execution_count": 67,
   "id": "98911d1b-e7ea-41e0-b356-bcfd190ce2f6",
   "metadata": {},
   "outputs": [
    {
     "data": {
      "text/plain": [
       "(10.0, 18.904962790564184)"
      ]
     },
     "execution_count": 67,
     "metadata": {},
     "output_type": "execute_result"
    },
    {
     "data": {
      "image/png": "[encoded data removed]",
      "text/plain": [
       "<Figure size 432x288 with 1 Axes>"
      ]
     },
     "metadata": {
      "needs_background": "light"
     },
     "output_type": "display_data"
    }
   ],
   "source": [
    "plt.scatter(true_widths,widths)\n",
    "plt.xlabel(\"True length (pixels)\")\n",
    "plt.ylabel(\"Human measured length (pixels)\")\n",
    "plt.xlim(10,)\n",
    "plt.ylim(10,)"
   ]
  },
  {
   "cell_type": "code",
   "execution_count": 68,
   "id": "36665366-088b-4140-8b43-6ff469771231",
   "metadata": {},
   "outputs": [
    {
     "data": {
      "text/plain": [
       "Text(0, 0.5, 'Human measured area (pixels)')"
      ]
     },
     "execution_count": 68,
     "metadata": {},
     "output_type": "execute_result"
    },
    {
     "data": {
      "image/png": "[encoded data removed]",
      "text/plain": [
       "<Figure size 432x288 with 1 Axes>"
      ]
     },
     "metadata": {
      "needs_background": "light"
     },
     "output_type": "display_data"
    }
   ],
   "source": [
    "plt.scatter(true_areas,areas)\n",
    "plt.xlabel(\"True area (pixels)\")\n",
    "plt.ylabel(\"Human measured area (pixels)\")"
   ]
  },
  {
   "cell_type": "code",
   "execution_count": 73,
   "id": "31b38da0-f6f4-461b-b952-d3ef49a75487",
   "metadata": {},
   "outputs": [
    {
     "data": {
      "text/plain": [
       "(256, 47)"
      ]
     },
     "execution_count": 73,
     "metadata": {},
     "output_type": "execute_result"
    }
   ],
   "source": [
    "true_mask_stack[x].shape"
   ]
  },
  {
   "cell_type": "code",
   "execution_count": 85,
   "id": "da60388d-8ae7-43c5-b732-583988e68330",
   "metadata": {},
   "outputs": [
    {
     "data": {
      "text/plain": [
       "0.0"
      ]
     },
     "execution_count": 85,
     "metadata": {},
     "output_type": "execute_result"
    }
   ],
   "source": [
    "jaccard_score(true_mask_stack[x].flatten()>0, human_masks[x].flatten()>0)"
   ]
  },
  {
   "cell_type": "code",
   "execution_count": 88,
   "id": "053af777-9c4d-4391-b296-9788350129b4",
   "metadata": {},
   "outputs": [
    {
     "data": {
      "text/plain": [
       "<matplotlib.image.AxesImage at 0x7fda24155880>"
      ]
     },
     "execution_count": 88,
     "metadata": {},
     "output_type": "execute_result"
    },
    {
     "data": {
      "image/png": "[encoded data removed]",
      "text/plain": [
       "<Figure size 432x288 with 1 Axes>"
      ]
     },
     "metadata": {
      "needs_background": "light"
     },
     "output_type": "display_data"
    }
   ],
   "source": [
    "plt.imshow(true_mask_stack[x])"
   ]
  },
  {
   "cell_type": "code",
   "execution_count": 96,
   "id": "c6558602-f39c-48c8-808c-17081f0ff0c7",
   "metadata": {
    "tags": []
   },
   "outputs": [],
   "source": [
    "jaccards = []\n",
    "for x in range(30):\n",
    "    jaccards.append(jaccard_score(true_mask_stack[x].flatten()>0, human_masks[x].flatten()>0))\n",
    "    \n",
    "precisions = []\n",
    "for x in range(30):\n",
    "    precisions.append(precision_score(true_mask_stack[x].flatten()>0, human_masks[x].flatten()>0))\n",
    "    \n",
    "recalls = []\n",
    "for x in range(30):\n",
    "    recalls.append(recall_score(true_mask_stack[x].flatten()>0, human_masks[x].flatten()>0))"
   ]
  },
  {
   "cell_type": "code",
   "execution_count": 109,
   "id": "d15f9153-50ba-4279-9ccd-dd1a943502da",
   "metadata": {},
   "outputs": [],
   "source": [
    "metrics = pd.DataFrame()\n",
    "metrics[\"Recall\"] = recalls\n",
    "metrics[\"Precision\"] = precisions\n",
    "metrics[\"IoU\"] = jaccards\n",
    "metrics = metrics.melt()\n",
    "metrics.columns = [\"Metric\", \"Value\"]\n",
    "metrics.to_pickle(\"metrics_stationary.pickle\")"
   ]
  },
  {
   "cell_type": "code",
   "execution_count": 98,
   "id": "f5534bb8-346c-4645-8b9b-3a9ffd19a709",
   "metadata": {},
   "outputs": [
    {
     "data": {
      "text/plain": [
       "Text(0.5, 0, '')"
      ]
     },
     "execution_count": 98,
     "metadata": {},
     "output_type": "execute_result"
    },
    {
     "data": {
      "image/png": "[encoded data removed]",
      "text/plain": [
       "<Figure size 288x504 with 1 Axes>"
      ]
     },
     "metadata": {
      "needs_background": "light"
     },
     "output_type": "display_data"
    }
   ],
   "source": [
    "plt.figure(figsize=(4,7))\n",
    "sns.violinplot(data=metrics,x=\"Metric\",y=\"Value\")\n",
    "plt.ylabel(\"Metric\")\n",
    "plt.xlabel(\"\")"
   ]
  },
  {
   "cell_type": "code",
   "execution_count": 99,
   "id": "f24bfe59-8f81-438b-a837-4baef982ffbd",
   "metadata": {},
   "outputs": [],
   "source": [
    "width_error = (np.array(widths)-np.array(true_widths))/np.array(true_widths)\n",
    "length_error = (np.array(lengths)-np.array(true_lengths))/np.array(true_lengths)\n",
    "area_error = (np.array(areas)-np.array(true_areas))/np.array(true_areas)"
   ]
  },
  {
   "cell_type": "code",
   "execution_count": 114,
   "id": "d06b645e-3bce-4cf5-8068-059075ede02a",
   "metadata": {},
   "outputs": [],
   "source": [
    "morphologies = pd.DataFrame()\n",
    "morphologies[\"Width\"] = width_error*100\n",
    "morphologies[\"Length\"] = length_error*100\n",
    "#morphologies[\"Area % error\"] = area_error*100\n",
    "morphologies = morphologies.melt()\n",
    "morphologies.columns = [\"Error\", \"Value\"]\n",
    "morphologies = morphologies[morphologies[\"Value\"] < 40]\n",
    "morphologies = morphologies[morphologies[\"Value\"] > -30]"
   ]
  },
  {
   "cell_type": "code",
   "execution_count": 115,
   "id": "4a76101e-9915-41de-a8d0-d8a436b3ad37",
   "metadata": {},
   "outputs": [],
   "source": [
    "morphologies.to_pickle(\"morphologies_stationary.pickle\")"
   ]
  },
  {
   "cell_type": "code",
   "execution_count": 116,
   "id": "4dbb38ab-e0d5-49eb-af67-fa7f133be11f",
   "metadata": {},
   "outputs": [
    {
     "data": {
      "text/plain": [
       "array(['Width', 'Length'], dtype=object)"
      ]
     },
     "execution_count": 116,
     "metadata": {},
     "output_type": "execute_result"
    }
   ],
   "source": [
    "morphologies[\"Error\"].unique()"
   ]
  },
  {
   "cell_type": "code",
   "execution_count": 101,
   "id": "83a4aa63-474c-4ee7-9df4-811495515902",
   "metadata": {},
   "outputs": [
    {
     "data": {
      "text/plain": [
       "<AxesSubplot:xlabel='Error', ylabel='Value'>"
      ]
     },
     "execution_count": 101,
     "metadata": {},
     "output_type": "execute_result"
    },
    {
     "data": {
      "image/png": "[encoded data removed]",
      "text/plain": [
       "<Figure size 360x504 with 1 Axes>"
      ]
     },
     "metadata": {
      "needs_background": "light"
     },
     "output_type": "display_data"
    }
   ],
   "source": [
    "plt.figure(figsize=(5,7))\n",
    "sns.violinplot(data=morphologies,x=\"Error\",y=\"Value\")"
   ]
  },
  {
   "cell_type": "code",
   "execution_count": null,
   "id": "7a8b7fb0-fd6f-47aa-b5da-e47b578f91b1",
   "metadata": {},
   "outputs": [],
   "source": []
  }
 ],
 "metadata": {
  "kernelspec": {
   "display_name": "Python 3",
   "language": "python",
   "name": "python3"
  },
  "language_info": {
   "codemirror_mode": {
    "name": "ipython",
    "version": 3
   },
   "file_extension": ".py",
   "mimetype": "text/x-python",
   "name": "python",
   "nbconvert_exporter": "python",
   "pygments_lexer": "ipython3",
   "version": "3.8.10"
  }
 },
 "nbformat": 4,
 "nbformat_minor": 5
}
