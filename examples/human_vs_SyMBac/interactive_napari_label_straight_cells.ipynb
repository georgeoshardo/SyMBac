{
 "cells": [
  {
   "cell_type": "code",
   "execution_count": 182,
   "id": "ae1bed17-f0cb-49a2-b00d-2f2ae0ee0804",
   "metadata": {},
   "outputs": [],
   "source": [
    "import numpy as np\n",
    "import tifffile\n",
    "from glob import glob\n",
    "import napari\n",
    "import matplotlib.pyplot as plt\n",
    "from skimage.measure import label\n",
    "from skimage.measure import regionprops_table\n",
    "import pandas as pd\n",
    "import seaborn as sns\n",
    "from sklearn.metrics import jaccard_score, precision_score, recall_score"
   ]
  },
  {
   "cell_type": "code",
   "execution_count": 107,
   "id": "d75e8199-8138-476a-a3b8-b3a72e2f724b",
   "metadata": {},
   "outputs": [],
   "source": [
    "image_stack = np.zeros((100,256,46))\n",
    "true_mask_stack= np.zeros((100,256,46))"
   ]
  },
  {
   "cell_type": "code",
   "execution_count": 108,
   "id": "9bb62255-3e0a-4a49-9789-a8426cd835cb",
   "metadata": {},
   "outputs": [],
   "source": [
    "img_dirs = glob(\"/home/georgeos/Storage/Dropbox (Cambridge University)/Phase/delta_hist_mid_large/convolutions/*.tif\")\n",
    "mask_dirs = glob(\"/home/georgeos/Storage/Dropbox (Cambridge University)/Phase/delta_hist_mid_large/masks/*.tif\")"
   ]
  },
  {
   "cell_type": "code",
   "execution_count": 109,
   "id": "65b63a78-5b16-4ffe-a739-025acdbdee16",
   "metadata": {},
   "outputs": [],
   "source": [
    "for x in range(0,100):\n",
    "    image_stack[x,:,:] = tifffile.imread(img_dirs[x+1000])\n",
    "    true_mask_stack[x,:,:] = tifffile.imread(mask_dirs[x+1000])"
   ]
  },
  {
   "cell_type": "code",
   "execution_count": 110,
   "id": "8bfeee3e-b475-4cb6-8d47-04874413b611",
   "metadata": {},
   "outputs": [],
   "source": [
    "tifffile.imsave(\"image_stack.tif\",image_stack)\n",
    "tifffile.imsave(\"true_mask_stack.tif\",image_stack)"
   ]
  },
  {
   "cell_type": "code",
   "execution_count": 136,
   "id": "c251393d-d515-4992-999b-41d44357bee4",
   "metadata": {},
   "outputs": [
    {
     "name": "stderr",
     "output_type": "stream",
     "text": [
      "/home/georgeos/anaconda3/envs/SYMPTOMM/lib/python3.8/site-packages/napari/_vispy/vispy_camera.py:109: RuntimeWarning: divide by zero encountered in true_divide\n",
      "  zoom = np.min(canvas_size / scale)\n"
     ]
    }
   ],
   "source": [
    "viewer = napari.view_image(image_stack)\n",
    "mask_layer = viewer.add_labels(np.zeros((100,256,46)).astype(int), name = \"mask_layer\")"
   ]
  },
  {
   "cell_type": "code",
   "execution_count": 153,
   "id": "97a5c817-25a9-419b-b59b-60fc960d7333",
   "metadata": {},
   "outputs": [
    {
     "name": "stderr",
     "output_type": "stream",
     "text": [
      "/home/georgeos/anaconda3/envs/SYMPTOMM/lib/python3.8/site-packages/napari/_vispy/vispy_camera.py:109: RuntimeWarning: divide by zero encountered in true_divide\n",
      "  zoom = np.min(canvas_size / scale)\n"
     ]
    }
   ],
   "source": [
    "viewer = napari.view_image(label(true_mask_stack,connectivity=1))\n"
   ]
  },
  {
   "cell_type": "code",
   "execution_count": 35,
   "id": "b0323fdd-4c17-4f1a-8f19-40641daaa7c2",
   "metadata": {},
   "outputs": [
    {
     "data": {
      "text/plain": [
       "2361"
      ]
     },
     "execution_count": 35,
     "metadata": {},
     "output_type": "execute_result"
    }
   ],
   "source": [
    "#tifffile.imsave(\"mask_layer.tif\",mask_layer.data)"
   ]
  },
  {
   "cell_type": "code",
   "execution_count": 113,
   "id": "c3b49a7f-b364-4051-881b-58ce94a9ea22",
   "metadata": {},
   "outputs": [],
   "source": [
    "human_masks = tifffile.imread(\"human_vs_SyMBac/mask_layer_somenath.tif\")"
   ]
  },
  {
   "cell_type": "code",
   "execution_count": 161,
   "id": "d81f791e-e7ca-4e3f-a37e-14434d9e3ded",
   "metadata": {},
   "outputs": [],
   "source": [
    "lengths = []\n",
    "widths = []\n",
    "areas=[]\n",
    "for x in range(30):\n",
    "    df = pd.DataFrame(regionprops_table(label(human_masks[x],connectivity=1),properties = [\"major_axis_length\",\"minor_axis_length\",\"area\"]))\n",
    "    lengths.extend(list(df[\"major_axis_length\"]))\n",
    "    widths.extend(list(df[\"minor_axis_length\"]))\n",
    "    areas.extend(list(df[\"area\"]))"
   ]
  },
  {
   "cell_type": "code",
   "execution_count": 162,
   "id": "25223b42-ad1c-49d4-9cab-0e16f7c7c419",
   "metadata": {},
   "outputs": [],
   "source": [
    "true_lengths = []\n",
    "true_widths = []\n",
    "true_areas=[]\n",
    "for x in range(30):\n",
    "    df = pd.DataFrame(regionprops_table(label(true_mask_stack[x],connectivity=1),properties = [\"major_axis_length\",\"minor_axis_length\",\"area\"]))\n",
    "    true_lengths.extend(list(df[\"major_axis_length\"]))\n",
    "    true_widths.extend(list(df[\"minor_axis_length\"]))\n",
    "    true_areas.extend(list(df[\"area\"]))"
   ]
  },
  {
   "cell_type": "code",
   "execution_count": 163,
   "id": "0884b875-ebfd-48b0-b88a-dc74e247464c",
   "metadata": {},
   "outputs": [
    {
     "name": "stdout",
     "output_type": "stream",
     "text": [
      "74.68585632288467\n",
      "79.21498910977301\n"
     ]
    }
   ],
   "source": [
    "print(np.mean(lengths))\n",
    "print(np.mean(true_lengths))"
   ]
  },
  {
   "cell_type": "code",
   "execution_count": 164,
   "id": "38c76e61-acf2-4054-9e03-c4bfdb496711",
   "metadata": {},
   "outputs": [
    {
     "name": "stdout",
     "output_type": "stream",
     "text": [
      "14.094170711625514\n",
      "16.16133478783485\n"
     ]
    }
   ],
   "source": [
    "print(np.mean(widths))\n",
    "print(np.mean(true_widths))"
   ]
  },
  {
   "cell_type": "code",
   "execution_count": 165,
   "id": "54bc431f-f2e4-4fdc-bb86-8e57c0f3aceb",
   "metadata": {},
   "outputs": [
    {
     "name": "stdout",
     "output_type": "stream",
     "text": [
      "0.09840462791670504\n",
      "0.06392701431966046\n"
     ]
    }
   ],
   "source": [
    "print(np.var(areas)/(np.mean(areas)**2))\n",
    "print(np.var(true_areas)/(np.mean(true_areas)**2))"
   ]
  },
  {
   "cell_type": "code",
   "execution_count": 166,
   "id": "edf851e7-2615-4b00-97d1-9a19b741b282",
   "metadata": {},
   "outputs": [],
   "source": [
    "def normalised_variance(l):\n",
    "    return np.var(l)/(np.mean(l)**2)"
   ]
  },
  {
   "cell_type": "code",
   "execution_count": 167,
   "id": "83dc6a7f-b2ed-4240-b239-5249be846e5c",
   "metadata": {
    "tags": []
   },
   "outputs": [
    {
     "name": "stdout",
     "output_type": "stream",
     "text": [
      "0.07469451344448724\n",
      "0.006693362723952835\n",
      "0.09840462791670504\n"
     ]
    }
   ],
   "source": [
    "for l in [lengths,widths,areas]:\n",
    "    print(normalised_variance(l))"
   ]
  },
  {
   "cell_type": "code",
   "execution_count": 168,
   "id": "71c8ce03-c5fa-43fd-bda3-52f95593d68f",
   "metadata": {},
   "outputs": [
    {
     "name": "stdout",
     "output_type": "stream",
     "text": [
      "0.06219356448772424\n",
      "0.0014845120062014778\n",
      "0.06392701431966046\n"
     ]
    }
   ],
   "source": [
    "for l in [true_lengths,true_widths,true_areas]:\n",
    "    print(normalised_variance(l))"
   ]
  },
  {
   "cell_type": "code",
   "execution_count": 183,
   "id": "85b12eb3-e782-4ce7-b963-382bbe80f13f",
   "metadata": {},
   "outputs": [],
   "source": [
    "jaccards = []\n",
    "for x in range(30):\n",
    "    jaccards.append(jaccard_score(true_mask_stack[x].flatten(), human_masks[x].flatten()))\n",
    "    \n",
    "precisions = []\n",
    "for x in range(30):\n",
    "    precisions.append(precision_score(true_mask_stack[x].flatten(), human_masks[x].flatten()))\n",
    "    \n",
    "recalls = []\n",
    "for x in range(30):\n",
    "    recalls.append(recall_score(true_mask_stack[x].flatten(), human_masks[x].flatten()))"
   ]
  },
  {
   "cell_type": "code",
   "execution_count": 171,
   "id": "5c5655af-20b4-4c41-9648-e9a011cb30de",
   "metadata": {},
   "outputs": [
    {
     "data": {
      "image/png": "[encoded data removed]",
      "text/plain": [
       "<Figure size 432x288 with 1 Axes>"
      ]
     },
     "metadata": {
      "needs_background": "light"
     },
     "output_type": "display_data"
    }
   ],
   "source": [
    "plt.hist(lengths,bins=20)\n",
    "plt.hist(true_lengths,bins=20,alpha=0.7)\n",
    "\n",
    "plt.show()"
   ]
  },
  {
   "cell_type": "code",
   "execution_count": 172,
   "id": "09ad916f-84d5-41d5-b0db-85eccd860bd0",
   "metadata": {},
   "outputs": [
    {
     "data": {
      "text/plain": [
       "Text(0, 0.5, 'Human measured length (pixels)')"
      ]
     },
     "execution_count": 172,
     "metadata": {},
     "output_type": "execute_result"
    },
    {
     "data": {
      "image/png": "[encoded data removed]",
      "text/plain": [
       "<Figure size 432x288 with 1 Axes>"
      ]
     },
     "metadata": {
      "needs_background": "light"
     },
     "output_type": "display_data"
    }
   ],
   "source": [
    "plt.scatter(true_lengths,lengths)\n",
    "plt.xlabel(\"True length (pixels)\")\n",
    "plt.ylabel(\"Human measured length (pixels)\")"
   ]
  },
  {
   "cell_type": "code",
   "execution_count": 160,
   "id": "ae5d575a-9cc8-4ed6-807b-d9097bddfd06",
   "metadata": {},
   "outputs": [
    {
     "data": {
      "text/plain": [
       "(10.0, 17.59688155157915)"
      ]
     },
     "execution_count": 160,
     "metadata": {},
     "output_type": "execute_result"
    },
    {
     "data": {
      "image/png": "[encoded data removed]",
      "text/plain": [
       "<Figure size 432x288 with 1 Axes>"
      ]
     },
     "metadata": {
      "needs_background": "light"
     },
     "output_type": "display_data"
    }
   ],
   "source": [
    "plt.scatter(true_widths,widths)\n",
    "plt.xlabel(\"True length (pixels)\")\n",
    "plt.ylabel(\"Human measured length (pixels)\")\n",
    "plt.xlim(10,)\n",
    "plt.ylim(10,)"
   ]
  },
  {
   "cell_type": "code",
   "execution_count": 157,
   "id": "2e5fc3ae-f389-4909-819d-90350aa1533c",
   "metadata": {},
   "outputs": [
    {
     "data": {
      "text/plain": [
       "Text(0, 0.5, 'Human measured area (pixels)')"
      ]
     },
     "execution_count": 157,
     "metadata": {},
     "output_type": "execute_result"
    },
    {
     "data": {
      "image/png": "[encoded data removed]",
      "text/plain": [
       "<Figure size 432x288 with 1 Axes>"
      ]
     },
     "metadata": {
      "needs_background": "light"
     },
     "output_type": "display_data"
    }
   ],
   "source": [
    "plt.scatter(true_areas,areas)\n",
    "plt.xlabel(\"True area (pixels)\")\n",
    "plt.ylabel(\"Human measured area (pixels)\")"
   ]
  },
  {
   "cell_type": "code",
   "execution_count": 243,
   "id": "0bab0b82-d888-4568-a805-81c049a77938",
   "metadata": {},
   "outputs": [],
   "source": [
    "metrics = pd.DataFrame()\n",
    "metrics[\"Recall\"] = recalls\n",
    "metrics[\"Precision\"] = precisions\n",
    "metrics[\"IoU\"] = jaccards\n",
    "metrics = metrics.melt()\n",
    "metrics.columns = [\"Metric\", \"Value\"]\n",
    "metrics.to_pickle(\"metrics_exponential.pickle\")"
   ]
  },
  {
   "cell_type": "code",
   "execution_count": 242,
   "id": "632ae028-73a8-4f63-b6da-78b1c47ab025",
   "metadata": {},
   "outputs": [
    {
     "data": {
      "text/plain": [
       "Text(0.5, 0, '')"
      ]
     },
     "execution_count": 242,
     "metadata": {},
     "output_type": "execute_result"
    },
    {
     "data": {
      "image/png": "[encoded data removed]",
      "text/plain": [
       "<Figure size 288x504 with 1 Axes>"
      ]
     },
     "metadata": {
      "needs_background": "light"
     },
     "output_type": "display_data"
    }
   ],
   "source": [
    "plt.figure(figsize=(4,7))\n",
    "sns.violinplot(data=metrics,x=\"Metric\",y=\"Value\")\n",
    "plt.ylabel(\"Metric\")\n",
    "plt.xlabel(\"\")"
   ]
  },
  {
   "cell_type": "code",
   "execution_count": 207,
   "id": "9c6e804b-235e-4c43-a70b-67bed0db9d54",
   "metadata": {},
   "outputs": [],
   "source": [
    "width_error = (np.array(widths)-np.array(true_widths))/np.array(true_widths)\n",
    "length_error = (np.array(lengths)-np.array(true_lengths))/np.array(true_lengths)\n",
    "area_error = (np.array(areas)-np.array(true_areas))/np.array(true_areas)"
   ]
  },
  {
   "cell_type": "code",
   "execution_count": 248,
   "id": "7feba9ba-c45d-497c-99e1-dbc371525992",
   "metadata": {},
   "outputs": [],
   "source": [
    "morphologies = pd.DataFrame()\n",
    "morphologies[\"Width\"] = width_error*100\n",
    "morphologies[\"Length\"] = length_error*100\n",
    "#morphologies[\"Area % error\"] = area_error*100\n",
    "morphologies = morphologies.melt()\n",
    "morphologies.columns = [\"Error\", \"Value\"]\n",
    "morphologies = morphologies[morphologies[\"Value\"] < 40]\n",
    "morphologies = morphologies[morphologies[\"Value\"] > -30]\n",
    "morphologies.to_pickle(\"morphologies_exponential.pickle\")"
   ]
  },
  {
   "cell_type": "code",
   "execution_count": 250,
   "id": "69b9007c-0c06-4d11-9866-abce3bb150c8",
   "metadata": {},
   "outputs": [
    {
     "data": {
      "text/plain": [
       "array(['Width', 'Length'], dtype=object)"
      ]
     },
     "execution_count": 250,
     "metadata": {},
     "output_type": "execute_result"
    }
   ],
   "source": [
    "morphologies[\"Error\"].unique()"
   ]
  },
  {
   "cell_type": "code",
   "execution_count": 240,
   "id": "52df717f-17a6-4744-8061-0cea42a2adc2",
   "metadata": {},
   "outputs": [
    {
     "data": {
      "text/plain": [
       "<AxesSubplot:xlabel='Error', ylabel='Value'>"
      ]
     },
     "execution_count": 240,
     "metadata": {},
     "output_type": "execute_result"
    },
    {
     "data": {
      "image/png": "[encoded data removed]",
      "text/plain": [
       "<Figure size 360x504 with 1 Axes>"
      ]
     },
     "metadata": {
      "needs_background": "light"
     },
     "output_type": "display_data"
    }
   ],
   "source": [
    "plt.figure(figsize=(5,7))\n",
    "sns.violinplot(data=morphologies,x=\"Error\",y=\"Value\")"
   ]
  },
  {
   "cell_type": "code",
   "execution_count": 232,
   "id": "bc7e665f-fc44-48d4-bfab-efb0027a740a",
   "metadata": {},
   "outputs": [
    {
     "data": {
      "text/plain": [
       "<AxesSubplot:xlabel='Error', ylabel='Value'>"
      ]
     },
     "execution_count": 232,
     "metadata": {},
     "output_type": "execute_result"
    },
    {
     "data": {
      "image/png": "[encoded data removed]",
      "text/plain": [
       "<Figure size 360x504 with 1 Axes>"
      ]
     },
     "metadata": {
      "needs_background": "light"
     },
     "output_type": "display_data"
    }
   ],
   "source": [
    "morphologies = pd.DataFrame()\n",
    "morphologies[\"Width % error\"] = width_error*100\n",
    "morphologies[\"Length % error\"] = length_error*100\n",
    "morphologies[\"Area % error\"] = area_error*100\n",
    "morphologies = morphologies.melt()\n",
    "morphologies.columns = [\"Error\", \"Value\"]\n",
    "plt.figure(figsize=(5,7))\n",
    "sns.boxplot(data=morphologies,x=\"Error\",y=\"Value\")"
   ]
  },
  {
   "cell_type": "code",
   "execution_count": null,
   "id": "28939b3d-eed8-445f-97fb-0e408730993f",
   "metadata": {},
   "outputs": [],
   "source": []
  }
 ],
 "metadata": {
  "kernelspec": {
   "display_name": "Python 3",
   "language": "python",
   "name": "python3"
  },
  "language_info": {
   "codemirror_mode": {
    "name": "ipython",
    "version": 3
   },
   "file_extension": ".py",
   "mimetype": "text/x-python",
   "name": "python",
   "nbconvert_exporter": "python",
   "pygments_lexer": "ipython3",
   "version": "3.8.10"
  }
 },
 "nbformat": 4,
 "nbformat_minor": 5
}
