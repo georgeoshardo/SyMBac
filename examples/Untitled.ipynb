{
 "cells": [
  {
   "cell_type": "code",
   "execution_count": 1,
   "id": "7c5ab507-28c3-4ab6-b663-a9a42c0210d8",
   "metadata": {},
   "outputs": [],
   "source": [
    "import napari\n",
    "import sys\n",
    "Linux = True\n",
    "if Linux:\n",
    "    sys.path.insert(0,'/home/georgeos/Documents/GitHub/SYMPTOMM2')\n",
    "else:\n",
    "    sys.path.insert(0,'C:\\\\Users\\\\gh464\\\\Documents\\\\GitHub\\\\SYMPTOMM2\\\\')\n",
    "from SYMPTOMM.cell import Cell\n",
    "from SYMPTOMM.scene_functions import create_space, step_and_update\n",
    "from SYMPTOMM.trench_geometry import trench_creator\n",
    "from SYMPTOMM.phase_contrast_drawing import *\n",
    "import tifffile\n",
    "import numpy as np\n",
    "from skimage.exposure import rescale_intensity\n",
    "from skimage.transform import rescale, resize, downscale_local_mean\n",
    "from ipywidgets import interact, interactive, fixed, interact_manual\n",
    "import ipywidgets as widgets\n",
    "from skimage.exposure import rescale_intensity\n",
    "from ipywidgets import interactive\n",
    "import os\n",
    "from PIL import Image\n",
    "import skimage\n",
    "from tqdm.notebook import tqdm\n",
    "import gc\n",
    "from SYMPTOMM.PSF import get_phase_contrast_kernel, get_condensers\n",
    "\n",
    "#viewer = napari.view_image(real_image)\n"
   ]
  },
  {
   "cell_type": "code",
   "execution_count": 3,
   "id": "3c24f4a8-a8bf-4f6b-b822-7d06b392e32c",
   "metadata": {
    "tags": []
   },
   "outputs": [],
   "source": [
    "def raster_cell_slow(length, width):\n",
    "   #TODO: make this FASTER\n",
    "    radius = int(width/2)\n",
    "    cyl_height = int(length - 2*radius)\n",
    "    shape = 500 #200\n",
    "    cylinder = rg.cylinder(\n",
    "            shape = shape,\n",
    "            height = cyl_height,\n",
    "            radius = radius,\n",
    "            axis=0,\n",
    "            position=(0.5,0.5,0.5),\n",
    "            smoothing=False)##\n",
    "    sphere1 = rg.sphere(shape,radius,((shape + cyl_height)/(2*shape),0.5,0.5))\n",
    "    sphere2 = rg.sphere(shape,radius,((shape - cyl_height)/(2*shape),0.5,0.5))#\n",
    "\n",
    "    cell = (cylinder + sphere1 + sphere2)\n",
    "    cell = cell[int(shape/2-cyl_height/2-radius-1):int(shape/2+cyl_height/2+radius+1),\n",
    "                int(shape/2)-radius:int(shape/2)+radius,\n",
    "               int(shape/2)-radius:int(shape/2)+radius]\n",
    "    z,x,y = cell.nonzero()\n",
    "    OPL_cell = np.sum(cell,axis=2)\n",
    "    return OPL_cell\n",
    "\n",
    "def raster_cell(length, width):\n",
    "    L = int(np.rint(length))\n",
    "    W = int(np.rint(width))\n",
    "    new_cell = np.zeros((L,W))\n",
    "    R = (W-1)/2\n",
    "\n",
    "\n",
    "    x_cyl = np.arange(0,2*R+1,1)\n",
    "    I_cyl = np.sqrt(R**2 - (x_cyl-R)**2)\n",
    "    L_cyl = L - W\n",
    "    new_cell[int(W/2):-int(W/2),:] = I_cyl\n",
    "\n",
    "    x_sphere = np.arange(0,int(W/2),1)\n",
    "    sphere_Rs = np.sqrt((R)**2 - (x_sphere-R)**2)\n",
    "    sphere_Rs = np.rint(sphere_Rs).astype(int)\n",
    "\n",
    "    for c in range(len(sphere_Rs)):\n",
    "        R_ = sphere_Rs[c]\n",
    "        x_cyl = np.arange(0,R_,1)\n",
    "        I_cyl = np.sqrt(R_**2 - (x_cyl-R_)**2)\n",
    "        new_cell[c,int(W/2)-sphere_Rs[c]:int(W/2)+sphere_Rs[c]] = np.concatenate((I_cyl,I_cyl[::-1]))\n",
    "        new_cell[L-c-1,int(W/2)-sphere_Rs[c]:int(W/2)+sphere_Rs[c]] = np.concatenate((I_cyl,I_cyl[::-1]))\n",
    "    new_cell = new_cell.astype(int)\n",
    "    return new_cell"
   ]
  },
  {
   "cell_type": "code",
   "execution_count": 11,
   "id": "26685575-ae31-45c4-8090-49d2d00cd0a5",
   "metadata": {},
   "outputs": [
    {
     "name": "stdout",
     "output_type": "stream",
     "text": [
      "4\n",
      "4.0\n",
      "4.0\n"
     ]
    }
   ],
   "source": [
    "print(round(4.5))\n",
    "print(np.rint(4.5))\n",
    "print(np.around(4.5))"
   ]
  },
  {
   "cell_type": "code",
   "execution_count": 9,
   "id": "85d0c967-998d-4d4f-8e90-666b628ce6d2",
   "metadata": {},
   "outputs": [
    {
     "data": {
      "text/plain": [
       "4.0"
      ]
     },
     "execution_count": 9,
     "metadata": {},
     "output_type": "execute_result"
    }
   ],
   "source": []
  },
  {
   "cell_type": "code",
   "execution_count": 6,
   "id": "eec17ccb-dfbc-4589-98b8-ed2200c3bce8",
   "metadata": {},
   "outputs": [
    {
     "name": "stdout",
     "output_type": "stream",
     "text": [
      "CPU times: user 611 ms, sys: 630 ms, total: 1.24 s\n",
      "Wall time: 1.24 s\n"
     ]
    }
   ],
   "source": [
    "%%time\n",
    "cell = raster_cell_slow(200,50)"
   ]
  },
  {
   "cell_type": "code",
   "execution_count": 5,
   "id": "db5e9e6c-8fb7-4cd3-935d-b6b5d2409368",
   "metadata": {},
   "outputs": [
    {
     "name": "stdout",
     "output_type": "stream",
     "text": [
      "CPU times: user 2.88 ms, sys: 2.64 ms, total: 5.52 ms\n",
      "Wall time: 3.3 ms\n"
     ]
    }
   ],
   "source": [
    "%%time\n",
    "cell = raster_cell(200,50)"
   ]
  },
  {
   "cell_type": "code",
   "execution_count": 5,
   "id": "48bdfca1-b1fa-41cd-b5e6-9c5f054868a6",
   "metadata": {},
   "outputs": [
    {
     "ename": "NameError",
     "evalue": "name 'sphere_dias' is not defined",
     "output_type": "error",
     "traceback": [
      "\u001b[0;31m---------------------------------------------------------------------------\u001b[0m",
      "\u001b[0;31mNameError\u001b[0m                                 Traceback (most recent call last)",
      "\u001b[0;32m<ipython-input-5-fd2c4f98613e>\u001b[0m in \u001b[0;36m<module>\u001b[0;34m\u001b[0m\n\u001b[1;32m      1\u001b[0m \u001b[0mx_sphere\u001b[0m \u001b[0;34m=\u001b[0m \u001b[0mnp\u001b[0m\u001b[0;34m.\u001b[0m\u001b[0marange\u001b[0m\u001b[0;34m(\u001b[0m\u001b[0;36m0\u001b[0m\u001b[0;34m,\u001b[0m\u001b[0mint\u001b[0m\u001b[0;34m(\u001b[0m\u001b[0mW\u001b[0m\u001b[0;34m/\u001b[0m\u001b[0;36m2\u001b[0m\u001b[0;34m)\u001b[0m\u001b[0;34m,\u001b[0m\u001b[0;36m1\u001b[0m\u001b[0;34m)\u001b[0m\u001b[0;34m\u001b[0m\u001b[0;34m\u001b[0m\u001b[0m\n\u001b[1;32m      2\u001b[0m \u001b[0msphere_Rs\u001b[0m \u001b[0;34m=\u001b[0m \u001b[0mnp\u001b[0m\u001b[0;34m.\u001b[0m\u001b[0msqrt\u001b[0m\u001b[0;34m(\u001b[0m\u001b[0;34m(\u001b[0m\u001b[0mR\u001b[0m\u001b[0;34m)\u001b[0m\u001b[0;34m**\u001b[0m\u001b[0;36m2\u001b[0m \u001b[0;34m-\u001b[0m \u001b[0;34m(\u001b[0m\u001b[0mx_sphere\u001b[0m\u001b[0;34m-\u001b[0m\u001b[0mR\u001b[0m\u001b[0;34m)\u001b[0m\u001b[0;34m**\u001b[0m\u001b[0;36m2\u001b[0m\u001b[0;34m)\u001b[0m\u001b[0;34m\u001b[0m\u001b[0;34m\u001b[0m\u001b[0m\n\u001b[0;32m----> 3\u001b[0;31m \u001b[0msphere_Rs\u001b[0m \u001b[0;34m=\u001b[0m \u001b[0mnp\u001b[0m\u001b[0;34m.\u001b[0m\u001b[0mrint\u001b[0m\u001b[0;34m(\u001b[0m\u001b[0msphere_dias\u001b[0m\u001b[0;34m)\u001b[0m\u001b[0;34m.\u001b[0m\u001b[0mastype\u001b[0m\u001b[0;34m(\u001b[0m\u001b[0mint\u001b[0m\u001b[0;34m)\u001b[0m\u001b[0;34m\u001b[0m\u001b[0;34m\u001b[0m\u001b[0m\n\u001b[0m\u001b[1;32m      4\u001b[0m \u001b[0msphere_Rs\u001b[0m\u001b[0;34m\u001b[0m\u001b[0;34m\u001b[0m\u001b[0m\n",
      "\u001b[0;31mNameError\u001b[0m: name 'sphere_dias' is not defined"
     ]
    }
   ],
   "source": [
    "x_sphere = np.arange(0,int(W/2),1)\n",
    "sphere_Rs = np.sqrt((R)**2 - (x_sphere-R)**2)\n",
    "sphere_Rs = np.rint(sphere_dias).astype(int)\n",
    "sphere_Rs"
   ]
  },
  {
   "cell_type": "code",
   "execution_count": 135,
   "id": "97aba59f-282d-4ea1-aa51-5b0be2ba73b5",
   "metadata": {},
   "outputs": [
    {
     "data": {
      "text/plain": [
       "98"
      ]
     },
     "execution_count": 135,
     "metadata": {},
     "output_type": "execute_result"
    }
   ],
   "source": [
    "len(np.concatenate((I_cyl,I_cyl[::-1])))"
   ]
  },
  {
   "cell_type": "code",
   "execution_count": 136,
   "id": "dc38a80a-fac0-4cb0-a2a7-f07d381f0a87",
   "metadata": {},
   "outputs": [
    {
     "data": {
      "text/plain": [
       "[<matplotlib.lines.Line2D at 0x7f67ae3d3190>]"
      ]
     },
     "execution_count": 136,
     "metadata": {},
     "output_type": "execute_result"
    },
    {
     "data": {
      "image/png": "[encoded data removed]",
      "text/plain": [
       "<Figure size 432x288 with 1 Axes>"
      ]
     },
     "metadata": {
      "needs_background": "light"
     },
     "output_type": "display_data"
    }
   ],
   "source": [
    "plt.plot(np.concatenate((I_cyl,I_cyl[::-1])))"
   ]
  },
  {
   "cell_type": "code",
   "execution_count": 10,
   "id": "72204f4f-eab1-4f78-8158-217a486f48c1",
   "metadata": {},
   "outputs": [
    {
     "data": {
      "text/plain": [
       "5.0"
      ]
     },
     "execution_count": 10,
     "metadata": {},
     "output_type": "execute_result"
    }
   ],
   "source": [
    "np.rint(4.501)"
   ]
  },
  {
   "cell_type": "code",
   "execution_count": 83,
   "id": "41801b05-8549-43df-b05b-5af9488b34a9",
   "metadata": {},
   "outputs": [],
   "source": [
    "R_ = sphere_Rs[c]\n",
    "x_cyl = np.arange(0,R_,1)\n",
    "I_cyl = np.sqrt(R_**2 - (x_cyl-R_)**2)"
   ]
  },
  {
   "cell_type": "code",
   "execution_count": 85,
   "id": "0580d60f-059f-453d-9b48-86c7b0927369",
   "metadata": {},
   "outputs": [
    {
     "data": {
      "text/plain": [
       "[<matplotlib.lines.Line2D at 0x7f67ae9b63d0>]"
      ]
     },
     "execution_count": 85,
     "metadata": {},
     "output_type": "execute_result"
    },
    {
     "data": {
      "image/png": "[encoded data removed]",
      "text/plain": [
       "<Figure size 432x288 with 1 Axes>"
      ]
     },
     "metadata": {
      "needs_background": "light"
     },
     "output_type": "display_data"
    }
   ],
   "source": [
    "plt.plot(I_cyl)"
   ]
  },
  {
   "cell_type": "code",
   "execution_count": 53,
   "id": "3d7a9816-83b1-4c9b-ba65-c8d9c4e7959c",
   "metadata": {},
   "outputs": [
    {
     "data": {
      "text/plain": [
       "19"
      ]
     },
     "execution_count": 53,
     "metadata": {},
     "output_type": "execute_result"
    }
   ],
   "source": [
    "sphere_Rs[4]"
   ]
  },
  {
   "cell_type": "code",
   "execution_count": 98,
   "id": "9d721e05-a1d7-43f7-bef7-b1fa9915f1d5",
   "metadata": {},
   "outputs": [],
   "source": []
  },
  {
   "cell_type": "code",
   "execution_count": 99,
   "id": "a61cc84e-0db6-42aa-bbb9-3ed933be1492",
   "metadata": {},
   "outputs": [
    {
     "data": {
      "text/plain": [
       "<matplotlib.image.AxesImage at 0x7f67af5dc730>"
      ]
     },
     "execution_count": 99,
     "metadata": {},
     "output_type": "execute_result"
    },
    {
     "data": {
      "image/png": "[encoded data removed]",
      "text/plain": [
       "<Figure size 432x432 with 1 Axes>"
      ]
     },
     "metadata": {
      "needs_background": "light"
     },
     "output_type": "display_data"
    }
   ],
   "source": [
    "plt.figure(figsize=(6,6))\n",
    "plt.imshow(new_cell)"
   ]
  },
  {
   "cell_type": "code",
   "execution_count": null,
   "id": "1ab28471-d9b0-46dd-87d2-49032c334a85",
   "metadata": {},
   "outputs": [],
   "source": []
  }
 ],
 "metadata": {
  "kernelspec": {
   "display_name": "Python 3",
   "language": "python",
   "name": "python3"
  },
  "language_info": {
   "codemirror_mode": {
    "name": "ipython",
    "version": 3
   },
   "file_extension": ".py",
   "mimetype": "text/x-python",
   "name": "python",
   "nbconvert_exporter": "python",
   "pygments_lexer": "ipython3",
   "version": "3.8.8"
  }
 },
 "nbformat": 4,
 "nbformat_minor": 5
}
