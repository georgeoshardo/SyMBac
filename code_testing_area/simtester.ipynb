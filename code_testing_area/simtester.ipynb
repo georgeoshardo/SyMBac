{
 "cells": [
  {
   "cell_type": "code",
   "execution_count": 1,
   "id": "c6f8c2f1-9570-4142-9aca-19b30f7cb5ef",
   "metadata": {
    "scrolled": true
   },
   "outputs": [
    {
     "name": "stderr",
     "output_type": "stream",
     "text": [
      "/home/gh464/Documents/GitHub/SyMBac/src/symbac/simulation.py:164: UserWarning: You are using show_window = True. If you re-run the simulation (even by re-creating the Simulation object), then for reasons which I do not understand, the state of the simulation is not reset. Restart your notebook or interpreter to re-run simulations.\n",
      "  warnings.warn(\n",
      "/home/gh464/Documents/GitHub/SyMBac/src/symbac/trench_geometry.py:19: RuntimeWarning: divide by zero encountered in double_scalars\n",
      "  return -x / np.sqrt(r**2 - x**2)\n"
     ]
    },
    {
     "ename": "NoSuchDisplayException",
     "evalue": "Cannot connect to \"None\"",
     "output_type": "error",
     "traceback": [
      "\u001B[0;31m---------------------------------------------------------------------------\u001B[0m",
      "\u001B[0;31mAttributeError\u001B[0m                            Traceback (most recent call last)",
      "File \u001B[0;32m~/miniconda3/envs/symbac/lib/python3.10/site-packages/pyglet/__init__.py:308\u001B[0m, in \u001B[0;36m_ModuleProxy.__getattr__\u001B[0;34m(self, name)\u001B[0m\n\u001B[1;32m    307\u001B[0m \u001B[38;5;28;01mtry\u001B[39;00m:\n\u001B[0;32m--> 308\u001B[0m     \u001B[38;5;28;01mreturn\u001B[39;00m \u001B[38;5;28;43mgetattr\u001B[39;49m\u001B[43m(\u001B[49m\u001B[38;5;28;43mself\u001B[39;49m\u001B[38;5;241;43m.\u001B[39;49m\u001B[43m_module\u001B[49m\u001B[43m,\u001B[49m\u001B[43m \u001B[49m\u001B[43mname\u001B[49m\u001B[43m)\u001B[49m\n\u001B[1;32m    309\u001B[0m \u001B[38;5;28;01mexcept\u001B[39;00m \u001B[38;5;167;01mAttributeError\u001B[39;00m:\n",
      "\u001B[0;31mAttributeError\u001B[0m: 'NoneType' object has no attribute 'Window'",
      "\nDuring handling of the above exception, another exception occurred:\n",
      "\u001B[0;31mNoSuchDisplayException\u001B[0m                    Traceback (most recent call last)",
      "Cell \u001B[0;32mIn[1], line 34\u001B[0m\n\u001B[1;32m     15\u001B[0m \u001B[38;5;28;01mfrom\u001B[39;00m \u001B[38;5;21;01mjoblib\u001B[39;00m \u001B[38;5;28;01mimport\u001B[39;00m Parallel, delayed\n\u001B[1;32m     18\u001B[0m my_simulation \u001B[38;5;241m=\u001B[39m Simulation(\n\u001B[1;32m     19\u001B[0m     trench_length\u001B[38;5;241m=\u001B[39m\u001B[38;5;241m15\u001B[39m,\n\u001B[1;32m     20\u001B[0m     trench_width\u001B[38;5;241m=\u001B[39m\u001B[38;5;241m2.15\u001B[39m,\n\u001B[0;32m   (...)\u001B[0m\n\u001B[1;32m     31\u001B[0m     resize_amount \u001B[38;5;241m=\u001B[39m \u001B[38;5;241m3\u001B[39m,\n\u001B[1;32m     32\u001B[0m )\n\u001B[0;32m---> 34\u001B[0m \u001B[43mmy_simulation\u001B[49m\u001B[38;5;241;43m.\u001B[39;49m\u001B[43mrun_simulation\u001B[49m\u001B[43m(\u001B[49m\u001B[43mshow_window\u001B[49m\u001B[43m \u001B[49m\u001B[38;5;241;43m=\u001B[39;49m\u001B[43m \u001B[49m\u001B[38;5;28;43;01mTrue\u001B[39;49;00m\u001B[43m)\u001B[49m\n",
      "File \u001B[0;32m~/Documents/GitHub/SyMBac/src/symbac/simulation.py:174\u001B[0m, in \u001B[0;36mSimulation.run_simulation\u001B[0;34m(self, show_window)\u001B[0m\n\u001B[1;32m    164\u001B[0m     warnings\u001B[38;5;241m.\u001B[39mwarn(\n\u001B[1;32m    165\u001B[0m         \u001B[38;5;124m\"\u001B[39m\u001B[38;5;124mYou are using show_window = True. If you re-run the simulation (even by re-creating the Simulation object), then for reasons which I do not understand, the state of the simulation is not reset. Restart your notebook or interpreter to re-run simulations.\u001B[39m\u001B[38;5;124m\"\u001B[39m\n\u001B[1;32m    166\u001B[0m     )\n\u001B[1;32m    167\u001B[0m \u001B[38;5;250m\u001B[39m\u001B[38;5;124;03m\"\"\"\u001B[39;00m\n\u001B[1;32m    168\u001B[0m \u001B[38;5;124;03mRun the simulation\u001B[39;00m\n\u001B[1;32m    169\u001B[0m \n\u001B[1;32m    170\u001B[0m \u001B[38;5;124;03m:param bool show_window: Whether to show the pyglet window while running the simulation. Typically would be `false` if running SyMBac headless.\u001B[39;00m\n\u001B[1;32m    171\u001B[0m \n\u001B[1;32m    172\u001B[0m \u001B[38;5;124;03m\"\"\"\u001B[39;00m\n\u001B[0;32m--> 174\u001B[0m \u001B[38;5;28;43mself\u001B[39;49m\u001B[38;5;241;43m.\u001B[39;49m\u001B[43mrun_cell_simulation\u001B[49m\u001B[43m(\u001B[49m\n\u001B[1;32m    175\u001B[0m \u001B[43m    \u001B[49m\u001B[43mshow_window\u001B[49m\u001B[38;5;241;43m=\u001B[39;49m\u001B[43mshow_window\u001B[49m\u001B[43m,\u001B[49m\n\u001B[1;32m    176\u001B[0m \u001B[43m\u001B[49m\u001B[43m)\u001B[49m\n",
      "File \u001B[0;32m~/Documents/GitHub/SyMBac/src/symbac/simulation.py:330\u001B[0m, in \u001B[0;36mSimulation.run_cell_simulation\u001B[0;34m(self, show_window)\u001B[0m\n\u001B[1;32m    328\u001B[0m \u001B[38;5;28mself\u001B[39m\u001B[38;5;241m.\u001B[39m__zoom \u001B[38;5;241m=\u001B[39m \u001B[38;5;241m1.0\u001B[39m\n\u001B[1;32m    329\u001B[0m \u001B[38;5;28mself\u001B[39m\u001B[38;5;241m.\u001B[39m__dragging \u001B[38;5;241m=\u001B[39m \u001B[38;5;28;01mFalse\u001B[39;00m\n\u001B[0;32m--> 330\u001B[0m window \u001B[38;5;241m=\u001B[39m \u001B[43mpyglet\u001B[49m\u001B[38;5;241;43m.\u001B[39;49m\u001B[43mwindow\u001B[49m\u001B[38;5;241;43m.\u001B[39;49m\u001B[43mWindow\u001B[49m(\u001B[38;5;241m700\u001B[39m, \u001B[38;5;241m700\u001B[39m, \u001B[38;5;124m\"\u001B[39m\u001B[38;5;124mSyMBac\u001B[39m\u001B[38;5;124m\"\u001B[39m, resizable\u001B[38;5;241m=\u001B[39m\u001B[38;5;28;01mTrue\u001B[39;00m)\n\u001B[1;32m    331\u001B[0m window\u001B[38;5;241m.\u001B[39mview \u001B[38;5;241m=\u001B[39m window\u001B[38;5;241m.\u001B[39mview\u001B[38;5;241m.\u001B[39mfrom_translation(pyglet\u001B[38;5;241m.\u001B[39mmath\u001B[38;5;241m.\u001B[39mVec3(\u001B[38;5;241m20\u001B[39m, \u001B[38;5;241m20\u001B[39m, \u001B[38;5;241m0\u001B[39m))\n\u001B[1;32m    332\u001B[0m options \u001B[38;5;241m=\u001B[39m DrawOptions()\n",
      "File \u001B[0;32m~/miniconda3/envs/symbac/lib/python3.10/site-packages/pyglet/__init__.py:314\u001B[0m, in \u001B[0;36m_ModuleProxy.__getattr__\u001B[0;34m(self, name)\u001B[0m\n\u001B[1;32m    311\u001B[0m     \u001B[38;5;28;01mraise\u001B[39;00m\n\u001B[1;32m    313\u001B[0m import_name \u001B[38;5;241m=\u001B[39m \u001B[38;5;124mf\u001B[39m\u001B[38;5;124m'\u001B[39m\u001B[38;5;124mpyglet.\u001B[39m\u001B[38;5;132;01m{\u001B[39;00m\u001B[38;5;28mself\u001B[39m\u001B[38;5;241m.\u001B[39m_module_name\u001B[38;5;132;01m}\u001B[39;00m\u001B[38;5;124m'\u001B[39m\n\u001B[0;32m--> 314\u001B[0m \u001B[38;5;28;43m__import__\u001B[39;49m\u001B[43m(\u001B[49m\u001B[43mimport_name\u001B[49m\u001B[43m)\u001B[49m\n\u001B[1;32m    315\u001B[0m module \u001B[38;5;241m=\u001B[39m sys\u001B[38;5;241m.\u001B[39mmodules[import_name]\n\u001B[1;32m    316\u001B[0m \u001B[38;5;28mobject\u001B[39m\u001B[38;5;241m.\u001B[39m\u001B[38;5;21m__setattr__\u001B[39m(\u001B[38;5;28mself\u001B[39m, \u001B[38;5;124m'\u001B[39m\u001B[38;5;124m_module\u001B[39m\u001B[38;5;124m'\u001B[39m, module)\n",
      "File \u001B[0;32m~/miniconda3/envs/symbac/lib/python3.10/site-packages/pyglet/window/__init__.py:1930\u001B[0m\n\u001B[1;32m   1928\u001B[0m \u001B[38;5;28;01mif\u001B[39;00m \u001B[38;5;129;01mnot\u001B[39;00m _is_pyglet_doc_run:\n\u001B[1;32m   1929\u001B[0m     pyglet\u001B[38;5;241m.\u001B[39mwindow \u001B[38;5;241m=\u001B[39m sys\u001B[38;5;241m.\u001B[39mmodules[\u001B[38;5;18m__name__\u001B[39m]\n\u001B[0;32m-> 1930\u001B[0m     \u001B[43mgl\u001B[49m\u001B[38;5;241;43m.\u001B[39;49m\u001B[43m_create_shadow_window\u001B[49m\u001B[43m(\u001B[49m\u001B[43m)\u001B[49m\n",
      "File \u001B[0;32m~/miniconda3/envs/symbac/lib/python3.10/site-packages/pyglet/gl/__init__.py:165\u001B[0m, in \u001B[0;36m_create_shadow_window\u001B[0;34m()\u001B[0m\n\u001B[1;32m    162\u001B[0m \u001B[38;5;250m        \u001B[39m\u001B[38;5;124;03m\"\"\"Shadow window does not need a projection.\"\"\"\u001B[39;00m\n\u001B[1;32m    163\u001B[0m         \u001B[38;5;28;01mpass\u001B[39;00m\n\u001B[0;32m--> 165\u001B[0m _shadow_window \u001B[38;5;241m=\u001B[39m \u001B[43mShadowWindow\u001B[49m\u001B[43m(\u001B[49m\u001B[43m)\u001B[49m\n\u001B[1;32m    166\u001B[0m _shadow_window\u001B[38;5;241m.\u001B[39mswitch_to()\n\u001B[1;32m    168\u001B[0m \u001B[38;5;28;01mfrom\u001B[39;00m \u001B[38;5;21;01mpyglet\u001B[39;00m \u001B[38;5;28;01mimport\u001B[39;00m app\n",
      "File \u001B[0;32m~/miniconda3/envs/symbac/lib/python3.10/site-packages/pyglet/gl/__init__.py:159\u001B[0m, in \u001B[0;36m_create_shadow_window.<locals>.ShadowWindow.__init__\u001B[0;34m(self)\u001B[0m\n\u001B[1;32m    158\u001B[0m \u001B[38;5;28;01mdef\u001B[39;00m \u001B[38;5;21m__init__\u001B[39m(\u001B[38;5;28mself\u001B[39m):\n\u001B[0;32m--> 159\u001B[0m     \u001B[38;5;28;43msuper\u001B[39;49m\u001B[43m(\u001B[49m\u001B[43m)\u001B[49m\u001B[38;5;241;43m.\u001B[39;49m\u001B[38;5;21;43m__init__\u001B[39;49m\u001B[43m(\u001B[49m\u001B[43mwidth\u001B[49m\u001B[38;5;241;43m=\u001B[39;49m\u001B[38;5;241;43m1\u001B[39;49m\u001B[43m,\u001B[49m\u001B[43m \u001B[49m\u001B[43mheight\u001B[49m\u001B[38;5;241;43m=\u001B[39;49m\u001B[38;5;241;43m1\u001B[39;49m\u001B[43m,\u001B[49m\u001B[43m \u001B[49m\u001B[43mvisible\u001B[49m\u001B[38;5;241;43m=\u001B[39;49m\u001B[38;5;28;43;01mFalse\u001B[39;49;00m\u001B[43m)\u001B[49m\n",
      "File \u001B[0;32m~/miniconda3/envs/symbac/lib/python3.10/site-packages/pyglet/window/xlib/__init__.py:138\u001B[0m, in \u001B[0;36mXlibWindow.__init__\u001B[0;34m(self, *args, **kwargs)\u001B[0m\n\u001B[1;32m    135\u001B[0m         \u001B[38;5;28;01melse\u001B[39;00m:\n\u001B[1;32m    136\u001B[0m             \u001B[38;5;28mself\u001B[39m\u001B[38;5;241m.\u001B[39m_event_handlers[message] \u001B[38;5;241m=\u001B[39m func\n\u001B[0;32m--> 138\u001B[0m \u001B[38;5;28;43msuper\u001B[39;49m\u001B[43m(\u001B[49m\u001B[43mXlibWindow\u001B[49m\u001B[43m,\u001B[49m\u001B[43m \u001B[49m\u001B[38;5;28;43mself\u001B[39;49m\u001B[43m)\u001B[49m\u001B[38;5;241;43m.\u001B[39;49m\u001B[38;5;21;43m__init__\u001B[39;49m\u001B[43m(\u001B[49m\u001B[38;5;241;43m*\u001B[39;49m\u001B[43margs\u001B[49m\u001B[43m,\u001B[49m\u001B[43m \u001B[49m\u001B[38;5;241;43m*\u001B[39;49m\u001B[38;5;241;43m*\u001B[39;49m\u001B[43mkwargs\u001B[49m\u001B[43m)\u001B[49m\n\u001B[1;32m    140\u001B[0m \u001B[38;5;28;01mglobal\u001B[39;00m _can_detect_autorepeat\n\u001B[1;32m    141\u001B[0m \u001B[38;5;28;01mif\u001B[39;00m _can_detect_autorepeat \u001B[38;5;129;01mis\u001B[39;00m \u001B[38;5;28;01mNone\u001B[39;00m:\n",
      "File \u001B[0;32m~/miniconda3/envs/symbac/lib/python3.10/site-packages/pyglet/window/__init__.py:514\u001B[0m, in \u001B[0;36mBaseWindow.__init__\u001B[0;34m(self, width, height, caption, resizable, style, fullscreen, visible, vsync, file_drops, display, screen, config, context, mode)\u001B[0m\n\u001B[1;32m    511\u001B[0m \u001B[38;5;28mself\u001B[39m\u001B[38;5;241m.\u001B[39m_event_queue \u001B[38;5;241m=\u001B[39m []\n\u001B[1;32m    513\u001B[0m \u001B[38;5;28;01mif\u001B[39;00m \u001B[38;5;129;01mnot\u001B[39;00m display:\n\u001B[0;32m--> 514\u001B[0m     display \u001B[38;5;241m=\u001B[39m \u001B[43mpyglet\u001B[49m\u001B[38;5;241;43m.\u001B[39;49m\u001B[43mcanvas\u001B[49m\u001B[38;5;241;43m.\u001B[39;49m\u001B[43mget_display\u001B[49m\u001B[43m(\u001B[49m\u001B[43m)\u001B[49m\n\u001B[1;32m    516\u001B[0m \u001B[38;5;28;01mif\u001B[39;00m \u001B[38;5;129;01mnot\u001B[39;00m screen:\n\u001B[1;32m    517\u001B[0m     screen \u001B[38;5;241m=\u001B[39m display\u001B[38;5;241m.\u001B[39mget_default_screen()\n",
      "File \u001B[0;32m~/miniconda3/envs/symbac/lib/python3.10/site-packages/pyglet/canvas/__init__.py:59\u001B[0m, in \u001B[0;36mget_display\u001B[0;34m()\u001B[0m\n\u001B[1;32m     56\u001B[0m     \u001B[38;5;28;01mreturn\u001B[39;00m display\n\u001B[1;32m     58\u001B[0m \u001B[38;5;66;03m# Otherwise, create a new display and return it.\u001B[39;00m\n\u001B[0;32m---> 59\u001B[0m \u001B[38;5;28;01mreturn\u001B[39;00m \u001B[43mDisplay\u001B[49m\u001B[43m(\u001B[49m\u001B[43m)\u001B[49m\n",
      "File \u001B[0;32m~/miniconda3/envs/symbac/lib/python3.10/site-packages/pyglet/canvas/xlib.py:88\u001B[0m, in \u001B[0;36mXlibDisplay.__init__\u001B[0;34m(self, name, x_screen)\u001B[0m\n\u001B[1;32m     86\u001B[0m \u001B[38;5;28mself\u001B[39m\u001B[38;5;241m.\u001B[39m_display \u001B[38;5;241m=\u001B[39m xlib\u001B[38;5;241m.\u001B[39mXOpenDisplay(name)\n\u001B[1;32m     87\u001B[0m \u001B[38;5;28;01mif\u001B[39;00m \u001B[38;5;129;01mnot\u001B[39;00m \u001B[38;5;28mself\u001B[39m\u001B[38;5;241m.\u001B[39m_display:\n\u001B[0;32m---> 88\u001B[0m     \u001B[38;5;28;01mraise\u001B[39;00m NoSuchDisplayException(\u001B[38;5;124mf\u001B[39m\u001B[38;5;124m'\u001B[39m\u001B[38;5;124mCannot connect to \u001B[39m\u001B[38;5;124m\"\u001B[39m\u001B[38;5;132;01m{\u001B[39;00mname\u001B[38;5;132;01m}\u001B[39;00m\u001B[38;5;124m\"\u001B[39m\u001B[38;5;124m'\u001B[39m)\n\u001B[1;32m     90\u001B[0m screen_count \u001B[38;5;241m=\u001B[39m xlib\u001B[38;5;241m.\u001B[39mXScreenCount(\u001B[38;5;28mself\u001B[39m\u001B[38;5;241m.\u001B[39m_display)\n\u001B[1;32m     91\u001B[0m \u001B[38;5;28;01mif\u001B[39;00m x_screen \u001B[38;5;241m>\u001B[39m\u001B[38;5;241m=\u001B[39m screen_count:\n",
      "\u001B[0;31mNoSuchDisplayException\u001B[0m: Cannot connect to \"None\""
     ]
    }
   ],
   "source": [
    "%load_ext autoreload\n",
    "%autoreload 2\n",
    "\n",
    "import os\n",
    "os.environ['DISPLAY'] = ':1'\n",
    "os.environ['NAPARI_ASYNC'] = '1'\n",
    "\n",
    "\n",
    "from symbac.simulation import Simulation\n",
    "from symbac.misc import get_sample_images\n",
    "real_image = get_sample_images()[\"E. coli 100x\"]\n",
    "\n",
    "my_simulation = Simulation(\n",
    "    trench_length=15,\n",
    "    trench_width=2.15,\n",
    "    cell_max_length=6.65, #6, long cells # 1.65 short cells\n",
    "    cell_width= 1, #1 long cells # 0.95 short cells\n",
    "    sim_length = 100,\n",
    "    pix_mic_conv = 0.065,\n",
    "    gravity=0,\n",
    "    phys_iters=15,\n",
    "    max_length_var = 0.,\n",
    "    width_var = 0.,\n",
    "    lysis_p = 0.00,\n",
    "    save_dir=\"/tmp/test/\",\n",
    "    resize_amount = 3,\n",
    ")\n",
    "\n",
    "my_simulation.run_simulation(show_window = True)"
   ]
  },
  {
   "cell_type": "code",
   "execution_count": 2,
   "id": "202b6084-91dd-4b49-a727-1ad68d43e8c7",
   "metadata": {},
   "outputs": [
    {
     "data": {
      "text/plain": [
       "98"
      ]
     },
     "execution_count": 2,
     "metadata": {},
     "output_type": "execute_result"
    }
   ],
   "source": [
    "len(my_simulation.cell_timeseries)"
   ]
  },
  {
   "cell_type": "code",
   "execution_count": null,
   "id": "a96c8d8f-9b8d-4d15-9c62-10f97201ed6c",
   "metadata": {
    "scrolled": true
   },
   "outputs": [],
   "source": [
    "a_cell = my_simulation.cell_timeseries"
   ]
  },
  {
   "cell_type": "code",
   "execution_count": null,
   "id": "381d63b7-5950-4549-acc1-ab271bd4a3ec",
   "metadata": {},
   "outputs": [],
   "source": [
    "from SyMBac.drawing import draw_scene, get_space_size, gen_cell_props_for_draw, generate_curve_props, draw_simulation_OPL, visualise_OPL_in_napari\n",
    "\n",
    "from SyMBac.trench_geometry import trench_creator, get_trench_segments"
   ]
  },
  {
   "cell_type": "code",
   "execution_count": null,
   "id": "c5bbc1d2-8678-4a7c-ab78-72668b14b40f",
   "metadata": {},
   "outputs": [],
   "source": [
    "OPL_scenes, masks = draw_simulation_OPL(simulation=my_simulation)"
   ]
  },
  {
   "cell_type": "code",
   "execution_count": null,
   "id": "d885ccce-82e3-40c5-8573-15df2e9133dc",
   "metadata": {},
   "outputs": [],
   "source": [
    "visualise_OPL_in_napari(OPL_scenes, masks)"
   ]
  },
  {
   "cell_type": "code",
   "execution_count": null,
   "id": "cd6a0fd9-7a1c-4ef4-8084-b21d968eed37",
   "metadata": {},
   "outputs": [],
   "source": [
    "\n",
    "import os\n",
    "os.environ['DISPLAY'] = ':1'\n",
    "os.environ['NAPARI_ASYNC'] = '1'\n"
   ]
  },
  {
   "cell_type": "code",
   "execution_count": null,
   "id": "73dc2794-ae3a-4bc5-bdf2-965010d8e26e",
   "metadata": {},
   "outputs": [],
   "source": [
    "\n",
    "import os\n",
    "os.environ['DISPLAY'] = ':1'\n",
    "os.environ['NAPARI_ASYNC'] = '1'\n",
    "\n",
    "import pyglet\n",
    "\n",
    "# Create a window\n",
    "window = pyglet.window.Window(800, 600, \"My Pyglet Window\")\n",
    "\n",
    "# Define the text label\n",
    "label = pyglet.text.Label(\n",
    "    'Hello, Pyglet!',\n",
    "    font_name='Times New Roman',\n",
    "    font_size=36,\n",
    "    x=window.width // 2, y=window.height // 2,\n",
    "    anchor_x='center', anchor_y='center'\n",
    ")\n",
    "\n",
    "window.view = window.view.from_translation(pyglet.math.Vec3(-300, 0, 0))\n",
    "\n",
    "# Define the draw event for the window\n",
    "@window.event\n",
    "def on_draw():\n",
    "    window.clear()  # Clear the window\n",
    "    label.draw()    # Draw the text label\n",
    "\n",
    "# Apply the translation to move the camera 300 pixels to the left\n",
    "\n",
    "# Run the Pyglet application\n",
    "pyglet.app.run()\n"
   ]
  },
  {
   "cell_type": "code",
   "execution_count": null,
   "id": "ca930a49-078b-44d1-a5af-9c1986508217",
   "metadata": {},
   "outputs": [],
   "source": []
  }
 ],
 "metadata": {
  "kernelspec": {
   "display_name": "Python [conda env:symbac]",
   "language": "python",
   "name": "conda-env-symbac-py"
  },
  "language_info": {
   "codemirror_mode": {
    "name": "ipython",
    "version": 3
   },
   "file_extension": ".py",
   "mimetype": "text/x-python",
   "name": "python",
   "nbconvert_exporter": "python",
   "pygments_lexer": "ipython3",
   "version": "3.10.9"
  }
 },
 "nbformat": 4,
 "nbformat_minor": 5
}
